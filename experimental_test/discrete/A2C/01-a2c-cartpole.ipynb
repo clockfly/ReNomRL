{
 "cells": [
  {
   "cell_type": "code",
   "execution_count": 1,
   "metadata": {},
   "outputs": [],
   "source": [
    "import numpy as np\n",
    "import gym\n",
    "import copy\n",
    "import renom as rm\n",
    "from renom_rl.discrete.a2c import A2C\n",
    "from renom_rl.environ.env import BaseEnv\n",
    "from tqdm import tqdm\n",
    "from renom_rl.utility import Animation"
   ]
  },
  {
   "cell_type": "code",
   "execution_count": 2,
   "metadata": {
    "scrolled": false
   },
   "outputs": [
    {
     "name": "stdout",
     "output_type": "stream",
     "text": [
      "\u001b[33mWARN: gym.spaces.Box autodetected dtype as <class 'numpy.float32'>. Please provide explicit dtype.\u001b[0m\n"
     ]
    },
    {
     "name": "stderr",
     "output_type": "stream",
     "text": [
      "/Users/mikeogawa/gym/gym/__init__.py:22: UserWarning: DEPRECATION WARNING: to improve load times, gym no longer automatically loads gym.spaces. Please run \"import gym.spaces\" to load gym.spaces on your own. This warning will turn into an error in a future version of gym.\n",
      "  warnings.warn('DEPRECATION WARNING: to improve load times, gym no longer automatically loads gym.spaces. Please run \"import gym.spaces\" to load gym.spaces on your own. This warning will turn into an error in a future version of gym.')\n"
     ]
    }
   ],
   "source": [
    "env=gym.make(\"CartPole-v0\")\n",
    "\n",
    "    \n",
    "class ActorCritic(rm.Model):\n",
    "    def __init__(self):\n",
    "        self.l1=rm.Dense(32)\n",
    "        self.l2=rm.Dense(32)\n",
    "        self.l3=rm.Dense(2)\n",
    "        self.l4=rm.Dense(1)\n",
    "        \n",
    "    def forward(self,x):\n",
    "        h1 = self.l1(x)\n",
    "        h2 = self.l2(h1)\n",
    "        act = rm.softmax(self.l3(h2))\n",
    "        val=self.l4(h2)\n",
    "        return act,val\n",
    "    \n",
    "model=ActorCritic()"
   ]
  },
  {
   "cell_type": "code",
   "execution_count": 3,
   "metadata": {},
   "outputs": [],
   "source": [
    "class CustomEnv(BaseEnv):\n",
    "    def __init__(self,env):\n",
    "        self.env = env\n",
    "        self.action_shape = (2,)\n",
    "        self.state_shape = (4,)\n",
    "        self.continous_step = 0\n",
    "        self.animation=Animation()\n",
    "        self.test=False\n",
    "\n",
    "    def sample(self):\n",
    "        return self.env.action_space.sample()\n",
    "\n",
    "    def step(self, action):\n",
    "        state, _ , terminal,_ = self.env.step(action)\n",
    "        \n",
    "        reward=0\n",
    "        self.continous_step += 1\n",
    "        \n",
    "        if terminal:\n",
    "            if self.continous_step > 195:\n",
    "                reward=1\n",
    "            else:\n",
    "                reward=-1\n",
    "            \n",
    "            self.continous_step = 0\n",
    "        \n",
    "        return state, reward, terminal\n",
    "    \n",
    "    def test_start(self):\n",
    "        if self.test:\n",
    "            self.animation.reset()\n",
    "            self.env.reset()\n",
    "\n",
    "    def test_epoch_step(self):\n",
    "        if self.test:\n",
    "            self.animation.store(self.env.render(mode=\"rgb_array\"))\n",
    "\n",
    "    def test_close(self):\n",
    "        if self.test:\n",
    "            self.env.close()\n",
    "            self.env.viewer=None\n",
    " \n",
    "    def reset_anime(self):\n",
    "        self.animation.reset()\n",
    "    \n",
    "    def reset(self):\n",
    "        return self.env.reset()"
   ]
  },
  {
   "cell_type": "code",
   "execution_count": null,
   "metadata": {},
   "outputs": [],
   "source": [
    "Env=CustomEnv(env)\n",
    "a2c=A2C(Env,model)"
   ]
  },
  {
   "cell_type": "code",
   "execution_count": null,
   "metadata": {},
   "outputs": [
    {
     "name": "stderr",
     "output_type": "stream",
     "text": [
      "agent0, epoch 0001 loss 0.0159 rewards in epoch -40.000  episode 40.0 rewards in episode -1.000.:   7%|▋         | 670/10000 [00:02<00:42, 218.60it/s]"
     ]
    }
   ],
   "source": [
    "a2c.fit(\n",
    "    epoch=1,\n",
    "    epoch_step=10000)"
   ]
  },
  {
   "cell_type": "code",
   "execution_count": null,
   "metadata": {},
   "outputs": [],
   "source": [
    "Env.test=True\n",
    "a2c.test()"
   ]
  },
  {
   "cell_type": "code",
   "execution_count": null,
   "metadata": {
    "scrolled": false
   },
   "outputs": [],
   "source": [
    "Env.animation.run()\n",
    "Env.animation.reset()"
   ]
  },
  {
   "cell_type": "code",
   "execution_count": null,
   "metadata": {},
   "outputs": [],
   "source": []
  }
 ],
 "metadata": {
  "kernelspec": {
   "display_name": "Python 3",
   "language": "python",
   "name": "python3"
  },
  "language_info": {
   "codemirror_mode": {
    "name": "ipython",
    "version": 3
   },
   "file_extension": ".py",
   "mimetype": "text/x-python",
   "name": "python",
   "nbconvert_exporter": "python",
   "pygments_lexer": "ipython3",
   "version": "3.6.4"
  }
 },
 "nbformat": 4,
 "nbformat_minor": 2
}
