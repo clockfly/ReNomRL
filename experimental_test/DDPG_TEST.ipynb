{
 "cells": [
  {
   "cell_type": "markdown",
   "metadata": {},
   "source": [
    "## Import necessary packages tutorial"
   ]
  },
  {
   "cell_type": "code",
   "execution_count": 1,
   "metadata": {},
   "outputs": [
    {
     "name": "stderr",
     "output_type": "stream",
     "text": [
      "/Users/thakur/ReNom/renom/cuda/__init__.py:12: UserWarning: Couldn't find cuda modules. No module named 'renom.cuda.cuda_base'\n",
      "  warnings.warn(\"Couldn't find cuda modules. %s\" % e)\n",
      "/Users/thakur/ReNom/renom/cuda/__init__.py:29: UserWarning: Couldn't find cuda modules.\n",
      "  warnings.warn(\"Couldn't find cuda modules.\")\n"
     ]
    }
   ],
   "source": [
    "import renom as rm\n",
    "from renom.utility.initializer import Uniform, GlorotUniform\n",
    "import gym"
   ]
  },
  {
   "cell_type": "markdown",
   "metadata": {},
   "source": [
    "## Deifne the environment tutorial"
   ]
  },
  {
   "cell_type": "code",
   "execution_count": 2,
   "metadata": {},
   "outputs": [
    {
     "name": "stderr",
     "output_type": "stream",
     "text": [
      "[2018-03-22 11:37:00,136] Making new env: Pendulum-v0\n"
     ]
    }
   ],
   "source": [
    "env = gym.make('Pendulum-v0')"
   ]
  },
  {
   "cell_type": "markdown",
   "metadata": {},
   "source": [
    "## Define the actor network tutorial"
   ]
  },
  {
   "cell_type": "code",
   "execution_count": 3,
   "metadata": {},
   "outputs": [],
   "source": [
    "class Actor(rm.Model):\n",
    "    \n",
    "    '''Here considered 3-layer network (excluding input layer). Feel free to change the network depth \n",
    "    and check the results. The output-layer number of nuerons are equal to number of actions.\n",
    "    In the example of OpenAI Gym's Pendlum-v0 environment number of actions are 1.'''\n",
    "    \n",
    "    def __init__(self, env, layer_size):\n",
    "        self._layers = []\n",
    "        self.env = env\n",
    "        self._l1 = rm.Dense(layer_size[0], initializer=GlorotUniform())\n",
    "        self._l2 = rm.Dense(layer_size[1], initializer=GlorotUniform())\n",
    "        self._l3 = rm.Dense(self.env.action_space.shape[0], initializer=Uniform(min=-0.003, max=0.003))\n",
    "        self._layers = [self._l1, self._l2, self._l3]\n",
    "    \n",
    "    def forward(self, x):\n",
    "        '''Neural Network inputs are state information, outputs are actions. '''\n",
    "        h1 = rm.relu(self._l1(x))\n",
    "        h2 = rm.relu(self._l2(h1))\n",
    "        h3 = rm.tanh(self._l3(h2)) \n",
    "        #h = self._l3(h2)\n",
    "        h = h3*self.env.action_space.high[0]\n",
    "        return h\n",
    "    \n",
    "    def weigiht_decay(self):\n",
    "        '''To minimize over fitting considered L2-norm (it is an optional)'''\n",
    "        weight_decay = 0\n",
    "        for i in range(len(self._layers)):\n",
    "            weight_decay += rm.sum(self._layers[i].params.w**2)\n",
    "        return weight_decay\n"
   ]
  },
  {
   "cell_type": "markdown",
   "metadata": {},
   "source": [
    "# Define the Critic network tutorial"
   ]
  },
  {
   "cell_type": "code",
   "execution_count": 4,
   "metadata": {},
   "outputs": [],
   "source": [
    "class Critic(rm.Model):\n",
    "    '''Here considered a 3-layer network (input layer, hidden layer-1, hidden layer-2, output layer)\n",
    "        At input-layer state information, 2nd-hidden layer actions are applied, last layer has a single neuron'''\n",
    "    def __init__(self, env, layer_size):        \n",
    "        self._layers = []\n",
    "        self.env = env\n",
    "        self._l1 = rm.Dense(layer_size[0], initializer=GlorotUniform())\n",
    "        self._l2 = rm.Dense(layer_size[1], initializer=GlorotUniform())\n",
    "        self._l3 = rm.Dense(1, initializer=Uniform(min=-0.003, max=0.003))\n",
    "        self._layers = [self._l1, self._l2, self._l3]\n",
    "  \n",
    "    def forward(self, x, action):\n",
    "        '''Q(s,a) calculation for a given (state, action) pair'''\n",
    "        h1 = rm.relu(self._l1(x))\n",
    "        h2 = rm.relu(self._l2(rm.concat(h1,action))) # actions are applied at 2nd hidden layer\n",
    "        h = self._l3(h2)        \n",
    "        return h\n",
    "    \n",
    "    def weigiht_decay(self):\n",
    "        '''To minimize over fitting considered L2-norm (it is an optional)'''\n",
    "        weight_decay = 0\n",
    "        for i in range(len(self._layers)):\n",
    "            weight_decay += rm.sum(self._layers[i].params.w**2)\n",
    "        return weight_decay"
   ]
  },
  {
   "cell_type": "markdown",
   "metadata": {},
   "source": [
    "## Instantiating the actor & ciritic networks "
   ]
  },
  {
   "cell_type": "code",
   "execution_count": 5,
   "metadata": {},
   "outputs": [],
   "source": [
    "from renom.algorithm.reinforcement.ddpg import DDPG\n",
    "layer_size = [400, 300] # two-hidden layers dimension\n",
    "actor_network = Actor(env=env,layer_size=layer_size)\n",
    "critic_network = Critic(env=env, layer_size=layer_size)"
   ]
  },
  {
   "cell_type": "markdown",
   "metadata": {},
   "source": [
    "## Instantiating the DDPG class"
   ]
  },
  {
   "cell_type": "code",
   "execution_count": 6,
   "metadata": {},
   "outputs": [],
   "source": [
    "ddpg = DDPG(env=env, actor_network=actor_network, critic_network=critic_network)\n",
    "# ddpg = DDPG(env=env) # for default"
   ]
  },
  {
   "cell_type": "markdown",
   "metadata": {},
   "source": [
    "## Training "
   ]
  },
  {
   "cell_type": "code",
   "execution_count": 7,
   "metadata": {
    "scrolled": false
   },
   "outputs": [
    {
     "name": "stderr",
     "output_type": "stream",
     "text": [
      "episode: 000 Total reward:-1067.34 avg loss:1.9978: 100%|██████████| 200/200 [00:04<00:00, 28.37it/s]\n",
      "episode: 001 Total reward:-1053.26 avg loss:0.1396: 100%|██████████| 200/200 [00:07<00:00, 26.23it/s]\n",
      "episode: 002 Total reward:-1203.82 avg loss:0.0182: 100%|██████████| 200/200 [00:08<00:00, 24.66it/s]\n",
      "episode: 003 Total reward:-1306.76 avg loss:0.0130: 100%|██████████| 200/200 [00:08<00:00, 24.93it/s]\n",
      "episode: 004 Total reward:-1883.34 avg loss:0.0149: 100%|██████████| 200/200 [00:07<00:00, 30.13it/s]\n",
      "episode: 005 Total reward:-1599.71 avg loss:0.0104: 100%|██████████| 200/200 [00:07<00:00, 28.27it/s]\n",
      "episode: 006 Total reward:-1533.02 avg loss:0.0165: 100%|██████████| 200/200 [00:06<00:00, 28.69it/s]\n",
      "episode: 007 Total reward:-1340.23 avg loss:0.0330: 100%|██████████| 200/200 [00:07<00:00, 26.51it/s]\n",
      "episode: 008 Total reward:-1521.55 avg loss:0.0486: 100%|██████████| 200/200 [00:06<00:00, 28.87it/s]\n",
      "episode: 009 Total reward:-1544.06 avg loss:0.0726: 100%|██████████| 200/200 [00:07<00:00, 25.70it/s]\n",
      "episode: 010 Total reward:-1419.04 avg loss:0.0937: 100%|██████████| 200/200 [00:08<00:00, 21.00it/s]\n",
      "episode: 011 Total reward:-1539.86 avg loss:0.1147: 100%|██████████| 200/200 [00:07<00:00, 25.23it/s]\n",
      "episode: 012 Total reward:-1410.65 avg loss:0.1404: 100%|██████████| 200/200 [00:08<00:00, 24.15it/s]\n",
      "episode: 013 Total reward:-1534.73 avg loss:0.3375: 100%|██████████| 200/200 [00:07<00:00, 25.27it/s]\n",
      "episode: 014 Total reward:-1507.82 avg loss:0.3142: 100%|██████████| 200/200 [00:08<00:00, 24.57it/s]\n",
      "episode: 015 Total reward:-1401.97 avg loss:0.3214: 100%|██████████| 200/200 [00:09<00:00, 22.13it/s]\n",
      "episode: 016 Total reward:-1311.41 avg loss:0.3576: 100%|██████████| 200/200 [00:08<00:00, 23.91it/s]\n",
      "episode: 017 Total reward:-1512.64 avg loss:0.5387: 100%|██████████| 200/200 [00:08<00:00, 26.86it/s]\n",
      "episode: 018 Total reward:-1533.54 avg loss:0.6526: 100%|██████████| 200/200 [00:08<00:00, 22.96it/s]\n",
      "episode: 019 Total reward:-1539.09 avg loss:0.7352: 100%|██████████| 200/200 [00:08<00:00, 23.79it/s]\n",
      "episode: 020 Total reward:-1355.05 avg loss:0.8491: 100%|██████████| 200/200 [00:07<00:00, 29.48it/s]\n",
      "episode: 021 Total reward:-1597.64 avg loss:1.0330: 100%|██████████| 200/200 [00:06<00:00, 29.06it/s]\n",
      "episode: 022 Total reward:-1606.05 avg loss:0.9772: 100%|██████████| 200/200 [00:06<00:00, 30.85it/s]\n",
      "episode: 023 Total reward:-1323.25 avg loss:0.9839: 100%|██████████| 200/200 [00:06<00:00, 30.34it/s]\n",
      "episode: 024 Total reward:-1503.02 avg loss:1.2175: 100%|██████████| 200/200 [00:07<00:00, 27.25it/s]\n",
      "episode: 025 Total reward:-1632.68 avg loss:1.5692: 100%|██████████| 200/200 [00:07<00:00, 25.84it/s]\n",
      "episode: 026 Total reward:-1239.89 avg loss:2.1515: 100%|██████████| 200/200 [00:07<00:00, 27.84it/s]\n",
      "episode: 027 Total reward:-1472.09 avg loss:1.6117: 100%|██████████| 200/200 [00:07<00:00, 27.52it/s]\n",
      "episode: 028 Total reward:-1568.12 avg loss:2.2203: 100%|██████████| 200/200 [00:10<00:00, 18.83it/s]\n",
      "episode: 029 Total reward:-1180.38 avg loss:1.9038: 100%|██████████| 200/200 [00:10<00:00, 19.65it/s]\n",
      "episode: 030 Total reward:-1191.28 avg loss:2.1477: 100%|██████████| 200/200 [00:08<00:00, 28.33it/s]\n",
      "episode: 031 Total reward:-976.56 avg loss:2.0024: 100%|██████████| 200/200 [00:07<00:00, 25.42it/s]\n",
      "episode: 032 Total reward:-1398.43 avg loss:2.6510: 100%|██████████| 200/200 [00:08<00:00, 24.25it/s]\n",
      "episode: 033 Total reward:-1185.37 avg loss:2.6896: 100%|██████████| 200/200 [00:08<00:00, 24.89it/s]\n",
      "episode: 034 Total reward:-971.66 avg loss:2.8470: 100%|██████████| 200/200 [00:09<00:00, 22.01it/s]\n",
      "episode: 035 Total reward:-1218.90 avg loss:2.6164: 100%|██████████| 200/200 [00:08<00:00, 22.37it/s]\n",
      "episode: 036 Total reward:-1030.85 avg loss:3.0936: 100%|██████████| 200/200 [00:08<00:00, 23.76it/s]\n",
      "episode: 037 Total reward:-1066.75 avg loss:3.5338: 100%|██████████| 200/200 [00:08<00:00, 23.89it/s]\n",
      "episode: 038 Total reward:-1102.84 avg loss:4.0522: 100%|██████████| 200/200 [00:08<00:00, 23.80it/s]\n",
      "episode: 039 Total reward:-974.13 avg loss:4.1526: 100%|██████████| 200/200 [00:09<00:00, 20.89it/s]\n",
      "episode: 040 Total reward:-1072.98 avg loss:5.4611: 100%|██████████| 200/200 [00:09<00:00, 21.69it/s]\n",
      "episode: 041 Total reward:-959.11 avg loss:4.7721: 100%|██████████| 200/200 [00:10<00:00, 19.66it/s]\n",
      "episode: 042 Total reward:-1073.73 avg loss:4.0429: 100%|██████████| 200/200 [00:09<00:00, 21.61it/s]\n",
      "episode: 043 Total reward:-1149.97 avg loss:5.1585: 100%|██████████| 200/200 [00:08<00:00, 23.99it/s]\n",
      "episode: 044 Total reward:-1528.08 avg loss:4.8987: 100%|██████████| 200/200 [00:08<00:00, 23.28it/s]\n",
      "episode: 045 Total reward:-825.61 avg loss:4.8313: 100%|██████████| 200/200 [00:08<00:00, 24.49it/s]\n",
      "episode: 046 Total reward:-409.27 avg loss:3.1077: 100%|██████████| 200/200 [00:08<00:00, 24.15it/s]\n",
      "episode: 047 Total reward:-551.08 avg loss:3.7211: 100%|██████████| 200/200 [00:08<00:00, 25.42it/s]\n",
      "episode: 048 Total reward:-700.33 avg loss:3.1407: 100%|██████████| 200/200 [00:07<00:00, 25.02it/s]\n",
      "episode: 049 Total reward:-413.43 avg loss:6.7824: 100%|██████████| 200/200 [00:07<00:00, 25.24it/s]\n",
      "episode: 050 Total reward:-273.96 avg loss:5.5499: 100%|██████████| 200/200 [00:09<00:00, 21.26it/s]\n",
      "episode: 051 Total reward:-854.08 avg loss:5.4347: 100%|██████████| 200/200 [00:08<00:00, 22.23it/s]\n",
      "episode: 052 Total reward:-622.41 avg loss:4.9645: 100%|██████████| 200/200 [00:07<00:00, 25.87it/s]\n",
      "episode: 053 Total reward:-605.18 avg loss:5.8505: 100%|██████████| 200/200 [00:08<00:00, 22.97it/s]\n",
      "episode: 054 Total reward:-1055.76 avg loss:3.5981: 100%|██████████| 200/200 [00:09<00:00, 20.99it/s]\n",
      "episode: 055 Total reward:-830.38 avg loss:5.2383: 100%|██████████| 200/200 [00:08<00:00, 23.82it/s]\n",
      "episode: 056 Total reward:-939.59 avg loss:7.0639: 100%|██████████| 200/200 [00:08<00:00, 23.68it/s]\n",
      "episode: 057 Total reward:-807.85 avg loss:5.1688: 100%|██████████| 200/200 [00:07<00:00, 26.53it/s]\n",
      "episode: 058 Total reward:-625.48 avg loss:5.8030: 100%|██████████| 200/200 [00:07<00:00, 25.04it/s]\n",
      "episode: 059 Total reward:-661.16 avg loss:6.2598: 100%|██████████| 200/200 [00:07<00:00, 26.83it/s]\n",
      "episode: 060 Total reward:-805.16 avg loss:5.4240: 100%|██████████| 200/200 [00:07<00:00, 27.92it/s]\n",
      "episode: 061 Total reward:-762.50 avg loss:6.8412: 100%|██████████| 200/200 [00:07<00:00, 27.86it/s]\n",
      "episode: 062 Total reward:-662.72 avg loss:8.4328: 100%|██████████| 200/200 [00:07<00:00, 27.87it/s]\n",
      "episode: 063 Total reward:-673.75 avg loss:7.8628: 100%|██████████| 200/200 [00:07<00:00, 27.85it/s]\n",
      "episode: 064 Total reward:-522.01 avg loss:8.4398: 100%|██████████| 200/200 [00:07<00:00, 27.54it/s]\n",
      "episode: 065 Total reward:-603.46 avg loss:7.2478: 100%|██████████| 200/200 [00:07<00:00, 25.20it/s]\n",
      "episode: 066 Total reward:-912.39 avg loss:9.3785: 100%|██████████| 200/200 [00:07<00:00, 25.74it/s]\n",
      "episode: 067 Total reward:-17.22 avg loss:7.4403: 100%|██████████| 200/200 [00:09<00:00, 20.25it/s]\n",
      "episode: 068 Total reward:-1491.15 avg loss:9.1562: 100%|██████████| 200/200 [00:10<00:00, 19.22it/s]\n",
      "episode: 069 Total reward:-1155.32 avg loss:9.6936: 100%|██████████| 200/200 [00:08<00:00, 24.09it/s]\n",
      "episode: 070 Total reward:-5.05 avg loss:9.0226: 100%|██████████| 200/200 [00:07<00:00, 27.48it/s]\n",
      "episode: 071 Total reward:-1352.64 avg loss:9.6700: 100%|██████████| 200/200 [00:09<00:00, 21.98it/s]\n",
      "episode: 072 Total reward:-1206.08 avg loss:9.8572: 100%|██████████| 200/200 [00:10<00:00, 17.62it/s]\n",
      "episode: 073 Total reward:-270.87 avg loss:8.8747: 100%|██████████| 200/200 [00:09<00:00, 20.32it/s]\n",
      "episode: 074 Total reward:-396.29 avg loss:13.0880: 100%|██████████| 200/200 [00:09<00:00, 20.84it/s]\n",
      "episode: 075 Total reward:-401.37 avg loss:9.4794: 100%|██████████| 200/200 [00:11<00:00, 17.88it/s]\n",
      "episode: 076 Total reward:-402.08 avg loss:10.6475: 100%|██████████| 200/200 [00:09<00:00, 20.69it/s]\n",
      "episode: 077 Total reward:-259.89 avg loss:7.9598: 100%|██████████| 200/200 [00:10<00:00, 18.84it/s]\n",
      "episode: 078 Total reward:-520.47 avg loss:9.3919: 100%|██████████| 200/200 [00:08<00:00, 23.41it/s]\n",
      "episode: 079 Total reward:-130.47 avg loss:8.8969: 100%|██████████| 200/200 [00:09<00:00, 20.30it/s]\n"
     ]
    },
    {
     "name": "stderr",
     "output_type": "stream",
     "text": [
      "episode: 080 Total reward:-1496.69 avg loss:11.2435: 100%|██████████| 200/200 [00:08<00:00, 23.69it/s]\n",
      "episode: 081 Total reward:-129.71 avg loss:11.8206: 100%|██████████| 200/200 [00:07<00:00, 25.64it/s]\n",
      "episode: 082 Total reward:-87.41 avg loss:11.3901: 100%|██████████| 200/200 [00:08<00:00, 24.04it/s]\n",
      "episode: 083 Total reward:-261.50 avg loss:9.1519: 100%|██████████| 200/200 [00:07<00:00, 27.59it/s]\n",
      "episode: 084 Total reward:-565.37 avg loss:11.3206: 100%|██████████| 200/200 [00:07<00:00, 25.38it/s]\n",
      "episode: 085 Total reward:-1591.56 avg loss:11.2090: 100%|██████████| 200/200 [00:07<00:00, 26.07it/s]\n",
      "episode: 086 Total reward:-2.29 avg loss:11.9472: 100%|██████████| 200/200 [00:07<00:00, 28.29it/s]\n",
      "episode: 087 Total reward:-379.76 avg loss:9.8591: 100%|██████████| 200/200 [00:07<00:00, 26.33it/s]\n",
      "episode: 088 Total reward:-131.92 avg loss:7.6227: 100%|██████████| 200/200 [00:07<00:00, 25.27it/s]\n",
      "episode: 089 Total reward:-268.93 avg loss:12.5112: 100%|██████████| 200/200 [00:07<00:00, 27.74it/s]\n",
      "episode: 090 Total reward:-132.25 avg loss:12.2628: 100%|██████████| 200/200 [00:07<00:00, 28.49it/s]\n",
      "episode: 091 Total reward:-122.78 avg loss:12.1129: 100%|██████████| 200/200 [00:07<00:00, 28.30it/s]\n",
      "episode: 092 Total reward:-120.76 avg loss:13.8651: 100%|██████████| 200/200 [00:07<00:00, 28.30it/s]\n",
      "episode: 093 Total reward:-406.94 avg loss:11.6676: 100%|██████████| 200/200 [00:07<00:00, 28.12it/s]\n",
      "episode: 094 Total reward:-0.62 avg loss:13.7481: 100%|██████████| 200/200 [00:07<00:00, 25.92it/s]\n",
      "episode: 095 Total reward:-126.18 avg loss:10.5300: 100%|██████████| 200/200 [00:07<00:00, 25.95it/s]\n",
      "episode: 096 Total reward:-974.16 avg loss:11.0575: 100%|██████████| 200/200 [00:07<00:00, 27.69it/s]\n",
      "episode: 097 Total reward:-127.77 avg loss:9.0544: 100%|██████████| 200/200 [00:07<00:00, 27.70it/s]\n",
      "episode: 098 Total reward:-643.26 avg loss:9.3607: 100%|██████████| 200/200 [00:07<00:00, 27.93it/s]\n",
      "episode: 099 Total reward:-270.11 avg loss:15.0530: 100%|██████████| 200/200 [00:07<00:00, 27.88it/s]\n",
      "episode: 100 Total reward:-132.33 avg loss:18.1388: 100%|██████████| 200/200 [00:07<00:00, 28.34it/s]\n",
      "episode: 101 Total reward:-255.83 avg loss:17.2262: 100%|██████████| 200/200 [00:07<00:00, 28.21it/s]\n",
      "episode: 102 Total reward:-119.76 avg loss:12.7021: 100%|██████████| 200/200 [00:08<00:00, 22.74it/s]\n",
      "episode: 103 Total reward:-129.78 avg loss:10.9990: 100%|██████████| 200/200 [00:07<00:00, 27.96it/s]\n",
      "episode: 104 Total reward:-130.51 avg loss:14.4875: 100%|██████████| 200/200 [00:06<00:00, 28.58it/s]\n",
      "episode: 105 Total reward:-121.28 avg loss:17.5712: 100%|██████████| 200/200 [00:07<00:00, 28.11it/s]\n",
      "episode: 106 Total reward:-2.51 avg loss:11.0296: 100%|██████████| 200/200 [00:07<00:00, 26.76it/s]\n",
      "episode: 107 Total reward:-244.64 avg loss:12.4642: 100%|██████████| 200/200 [00:07<00:00, 25.81it/s]\n",
      "episode: 108 Total reward:-255.72 avg loss:16.5970: 100%|██████████| 200/200 [00:08<00:00, 23.36it/s]\n",
      "episode: 109 Total reward:-126.88 avg loss:13.8775: 100%|██████████| 200/200 [00:08<00:00, 22.92it/s]\n",
      "episode: 110 Total reward:-0.70 avg loss:20.4969: 100%|██████████| 200/200 [00:08<00:00, 21.40it/s]\n",
      "episode: 111 Total reward:-240.73 avg loss:14.6501: 100%|██████████| 200/200 [00:08<00:00, 22.34it/s]\n",
      "episode: 112 Total reward:-2.07 avg loss:8.7870: 100%|██████████| 200/200 [00:08<00:00, 23.57it/s]\n",
      "episode: 113 Total reward:-498.44 avg loss:14.2981: 100%|██████████| 200/200 [00:08<00:00, 24.61it/s]\n",
      "episode: 114 Total reward:-250.27 avg loss:14.8663: 100%|██████████| 200/200 [00:08<00:00, 24.90it/s]\n",
      "episode: 115 Total reward:-127.30 avg loss:17.7647: 100%|██████████| 200/200 [00:07<00:00, 25.19it/s]\n",
      "episode: 116 Total reward:-248.90 avg loss:16.8260: 100%|██████████| 200/200 [00:07<00:00, 25.22it/s]\n",
      "episode: 117 Total reward:-127.73 avg loss:20.5044: 100%|██████████| 200/200 [00:08<00:00, 24.97it/s]\n",
      "episode: 118 Total reward:-256.64 avg loss:15.3202: 100%|██████████| 200/200 [00:08<00:00, 24.59it/s]\n",
      "episode: 119 Total reward:-253.83 avg loss:12.4166: 100%|██████████| 200/200 [00:09<00:00, 22.03it/s]\n",
      "episode: 120 Total reward:-127.17 avg loss:13.3482: 100%|██████████| 200/200 [00:08<00:00, 24.78it/s]\n",
      "episode: 121 Total reward:-1.61 avg loss:16.4123: 100%|██████████| 200/200 [00:07<00:00, 25.36it/s]\n",
      "episode: 122 Total reward:-249.36 avg loss:13.2137: 100%|██████████| 200/200 [00:07<00:00, 25.07it/s]\n",
      "episode: 123 Total reward:-125.91 avg loss:22.1825: 100%|██████████| 200/200 [00:09<00:00, 20.42it/s]\n",
      "episode: 124 Total reward:-123.95 avg loss:15.2538: 100%|██████████| 200/200 [00:08<00:00, 24.58it/s]\n",
      "episode: 125 Total reward:-251.67 avg loss:17.9661: 100%|██████████| 200/200 [00:08<00:00, 24.87it/s]\n",
      "episode: 126 Total reward:-117.71 avg loss:16.1226: 100%|██████████| 200/200 [00:07<00:00, 25.15it/s]\n",
      "episode: 127 Total reward:-128.18 avg loss:23.6280: 100%|██████████| 200/200 [00:08<00:00, 24.84it/s]\n",
      "episode: 128 Total reward:-128.52 avg loss:17.5117: 100%|██████████| 200/200 [00:07<00:00, 25.40it/s]\n",
      "episode: 129 Total reward:-127.88 avg loss:15.2957: 100%|██████████| 200/200 [00:07<00:00, 25.20it/s]\n",
      "episode: 130 Total reward:-381.54 avg loss:14.9393: 100%|██████████| 200/200 [00:07<00:00, 25.28it/s]\n",
      "episode: 131 Total reward:-246.94 avg loss:14.7524: 100%|██████████| 200/200 [00:08<00:00, 24.90it/s]\n",
      "episode: 132 Total reward:-306.08 avg loss:15.6919: 100%|██████████| 200/200 [00:07<00:00, 25.51it/s]\n",
      "episode: 133 Total reward:-0.09 avg loss:15.1845: 100%|██████████| 200/200 [00:07<00:00, 25.13it/s]\n",
      "episode: 134 Total reward:-131.25 avg loss:12.2135: 100%|██████████| 200/200 [00:07<00:00, 25.26it/s]\n",
      "episode: 135 Total reward:-119.27 avg loss:19.3386: 100%|██████████| 200/200 [00:07<00:00, 25.15it/s]\n",
      "episode: 136 Total reward:-116.46 avg loss:14.8349: 100%|██████████| 200/200 [00:08<00:00, 24.59it/s]\n",
      "episode: 137 Total reward:-275.99 avg loss:17.4388: 100%|██████████| 200/200 [00:07<00:00, 25.27it/s]\n",
      "episode: 138 Total reward:-132.46 avg loss:18.9787: 100%|██████████| 200/200 [00:08<00:00, 24.70it/s]\n",
      "episode: 139 Total reward:-0.30 avg loss:15.3966: 100%|██████████| 200/200 [00:07<00:00, 25.14it/s]\n",
      "episode: 140 Total reward:-246.59 avg loss:13.9582: 100%|██████████| 200/200 [00:08<00:00, 24.86it/s]\n",
      "episode: 141 Total reward:-209.01 avg loss:17.0544: 100%|██████████| 200/200 [00:08<00:00, 23.39it/s]\n",
      "episode: 142 Total reward:-150.74 avg loss:15.8492: 100%|██████████| 200/200 [00:08<00:00, 23.48it/s]\n",
      "episode: 143 Total reward:-469.69 avg loss:15.6499: 100%|██████████| 200/200 [00:08<00:00, 23.01it/s]\n",
      "episode: 144 Total reward:-247.57 avg loss:15.5051: 100%|██████████| 200/200 [00:08<00:00, 22.79it/s]\n",
      "episode: 145 Total reward:-9.04 avg loss:20.2082: 100%|██████████| 200/200 [00:08<00:00, 23.28it/s]\n",
      "episode: 146 Total reward:-126.34 avg loss:18.5418: 100%|██████████| 200/200 [00:08<00:00, 22.30it/s]\n",
      "episode: 147 Total reward:-258.73 avg loss:15.4552: 100%|██████████| 200/200 [00:08<00:00, 23.40it/s]\n",
      "episode: 148 Total reward:-123.26 avg loss:14.6010: 100%|██████████| 200/200 [00:08<00:00, 23.77it/s]\n",
      "episode: 149 Total reward:-374.78 avg loss:13.3547: 100%|██████████| 200/200 [00:08<00:00, 23.55it/s]\n",
      "episode: 150 Total reward:-490.82 avg loss:14.1062: 100%|██████████| 200/200 [00:08<00:00, 23.77it/s]\n",
      "episode: 151 Total reward:-499.69 avg loss:16.4953: 100%|██████████| 200/200 [00:09<00:00, 22.89it/s]\n",
      "episode: 152 Total reward:-512.43 avg loss:17.5921: 100%|██████████| 200/200 [00:08<00:00, 23.00it/s]\n",
      "episode: 153 Total reward:-500.62 avg loss:14.7172: 100%|██████████| 200/200 [00:07<00:00, 26.98it/s]\n",
      "episode: 154 Total reward:-373.06 avg loss:14.8547: 100%|██████████| 200/200 [00:07<00:00, 28.11it/s]\n",
      "episode: 155 Total reward:-402.30 avg loss:21.7531: 100%|██████████| 200/200 [00:07<00:00, 25.67it/s]\n",
      "episode: 156 Total reward:-254.04 avg loss:10.7460: 100%|██████████| 200/200 [00:09<00:00, 22.19it/s]\n",
      "episode: 157 Total reward:-373.03 avg loss:24.5096: 100%|██████████| 200/200 [00:09<00:00, 22.06it/s]\n",
      "episode: 158 Total reward:-288.54 avg loss:18.7093: 100%|██████████| 200/200 [00:08<00:00, 22.37it/s]\n",
      "episode: 159 Total reward:-494.51 avg loss:22.7683: 100%|██████████| 200/200 [00:09<00:00, 22.17it/s]\n"
     ]
    },
    {
     "name": "stderr",
     "output_type": "stream",
     "text": [
      "episode: 160 Total reward:-252.73 avg loss:14.9896: 100%|██████████| 200/200 [00:08<00:00, 24.04it/s]\n",
      "episode: 161 Total reward:-339.90 avg loss:19.2472: 100%|██████████| 200/200 [00:08<00:00, 23.85it/s]\n",
      "episode: 162 Total reward:-122.50 avg loss:16.2698: 100%|██████████| 200/200 [00:08<00:00, 23.98it/s]\n",
      "episode: 163 Total reward:-245.02 avg loss:15.6427: 100%|██████████| 200/200 [00:08<00:00, 23.79it/s]\n",
      "episode: 164 Total reward:-120.88 avg loss:17.6257: 100%|██████████| 200/200 [00:08<00:00, 23.93it/s]\n",
      "episode: 165 Total reward:-318.76 avg loss:14.9811: 100%|██████████| 200/200 [00:08<00:00, 23.82it/s]\n",
      "episode: 166 Total reward:-247.54 avg loss:17.5621: 100%|██████████| 200/200 [00:08<00:00, 23.79it/s]\n",
      "episode: 167 Total reward:-243.58 avg loss:17.7786: 100%|██████████| 200/200 [00:08<00:00, 23.88it/s]\n",
      "episode: 168 Total reward:-118.15 avg loss:16.2490: 100%|██████████| 200/200 [00:08<00:00, 23.91it/s]\n",
      "episode: 169 Total reward:-124.49 avg loss:16.0630: 100%|██████████| 200/200 [00:08<00:00, 24.01it/s]\n",
      "episode: 170 Total reward:-127.98 avg loss:16.2689: 100%|██████████| 200/200 [00:08<00:00, 23.66it/s]\n",
      "episode: 171 Total reward:-122.78 avg loss:20.5187: 100%|██████████| 200/200 [00:08<00:00, 23.90it/s]\n",
      "episode: 172 Total reward:-124.47 avg loss:14.2092: 100%|██████████| 200/200 [00:08<00:00, 23.91it/s]\n",
      "episode: 173 Total reward:-128.47 avg loss:14.5138: 100%|██████████| 200/200 [00:08<00:00, 24.03it/s]\n",
      "episode: 174 Total reward:-0.56 avg loss:13.2065: 100%|██████████| 200/200 [00:07<00:00, 27.06it/s]\n",
      "episode: 175 Total reward:-124.16 avg loss:24.2220: 100%|██████████| 200/200 [00:06<00:00, 29.74it/s]\n",
      "episode: 176 Total reward:-127.97 avg loss:18.6141: 100%|██████████| 200/200 [00:09<00:00, 23.40it/s]\n",
      "episode: 177 Total reward:-1.43 avg loss:16.0744: 100%|██████████| 200/200 [00:08<00:00, 23.95it/s]\n",
      "episode: 178 Total reward:-258.19 avg loss:16.6939: 100%|██████████| 200/200 [00:07<00:00, 29.60it/s]\n",
      "episode: 179 Total reward:-364.27 avg loss:16.1920: 100%|██████████| 200/200 [00:08<00:00, 24.57it/s]\n",
      "episode: 180 Total reward:-125.72 avg loss:14.0015: 100%|██████████| 200/200 [00:08<00:00, 24.43it/s]\n",
      "episode: 181 Total reward:-252.97 avg loss:15.1946: 100%|██████████| 200/200 [00:07<00:00, 24.85it/s]\n",
      "episode: 182 Total reward:-127.56 avg loss:17.7347: 100%|██████████| 200/200 [00:07<00:00, 25.79it/s]\n",
      "episode: 183 Total reward:-128.12 avg loss:20.3838: 100%|██████████| 200/200 [00:07<00:00, 28.33it/s]\n",
      "episode: 184 Total reward:-128.52 avg loss:15.4749: 100%|██████████| 200/200 [00:07<00:00, 28.03it/s]\n",
      "episode: 185 Total reward:-128.61 avg loss:14.6249: 100%|██████████| 200/200 [00:07<00:00, 28.94it/s]\n",
      "episode: 186 Total reward:-236.86 avg loss:15.5529: 100%|██████████| 200/200 [00:08<00:00, 20.58it/s]\n",
      "episode: 187 Total reward:-130.80 avg loss:17.6201: 100%|██████████| 200/200 [00:09<00:00, 27.29it/s]\n",
      "episode: 188 Total reward:-128.62 avg loss:12.1669: 100%|██████████| 200/200 [00:07<00:00, 29.24it/s]\n",
      "episode: 189 Total reward:-119.42 avg loss:25.0608: 100%|██████████| 200/200 [00:06<00:00, 29.34it/s]\n",
      "episode: 190 Total reward:-125.86 avg loss:13.8162: 100%|██████████| 200/200 [00:07<00:00, 28.55it/s]\n",
      "episode: 191 Total reward:-124.65 avg loss:17.2804: 100%|██████████| 200/200 [00:06<00:00, 28.57it/s]\n",
      "episode: 192 Total reward:-127.69 avg loss:15.7943: 100%|██████████| 200/200 [00:06<00:00, 28.64it/s]\n",
      "episode: 193 Total reward:-126.97 avg loss:13.0558: 100%|██████████| 200/200 [00:07<00:00, 28.55it/s]\n",
      "episode: 194 Total reward:-122.38 avg loss:14.7199: 100%|██████████| 200/200 [00:07<00:00, 28.07it/s]\n",
      "episode: 195 Total reward:-128.11 avg loss:14.3477: 100%|██████████| 200/200 [00:07<00:00, 28.38it/s]\n",
      "episode: 196 Total reward:-127.67 avg loss:23.5816: 100%|██████████| 200/200 [00:07<00:00, 28.26it/s]\n",
      "episode: 197 Total reward:-252.01 avg loss:11.2917: 100%|██████████| 200/200 [00:07<00:00, 28.22it/s]\n",
      "episode: 198 Total reward:-127.10 avg loss:18.1951: 100%|██████████| 200/200 [00:07<00:00, 28.06it/s]\n",
      "episode: 199 Total reward:-125.22 avg loss:19.2017: 100%|██████████| 200/200 [00:07<00:00, 28.28it/s]\n",
      "episode: 200 Total reward:-125.77 avg loss:12.9028: 100%|██████████| 200/200 [00:07<00:00, 27.75it/s]\n",
      "episode: 201 Total reward:-121.39 avg loss:10.0564: 100%|██████████| 200/200 [00:08<00:00, 23.76it/s]\n",
      "episode: 202 Total reward:-258.53 avg loss:13.9191: 100%|██████████| 200/200 [00:07<00:00, 24.95it/s]\n",
      "episode: 203 Total reward:-129.54 avg loss:13.8540: 100%|██████████| 200/200 [00:07<00:00, 26.85it/s]\n",
      "episode: 204 Total reward:-123.23 avg loss:11.2521: 100%|██████████| 200/200 [00:07<00:00, 25.39it/s]\n",
      "episode: 205 Total reward:-124.98 avg loss:19.6676: 100%|██████████| 200/200 [00:07<00:00, 26.96it/s]\n",
      "episode: 206 Total reward:-2.36 avg loss:10.6588: 100%|██████████| 200/200 [00:07<00:00, 27.07it/s]\n",
      "episode: 207 Total reward:-128.26 avg loss:20.0980: 100%|██████████| 200/200 [00:07<00:00, 26.78it/s]\n",
      "episode: 208 Total reward:-125.16 avg loss:16.3663: 100%|██████████| 200/200 [00:07<00:00, 27.08it/s]\n",
      "episode: 209 Total reward:-123.99 avg loss:12.3405: 100%|██████████| 200/200 [00:07<00:00, 26.18it/s]\n",
      "episode: 210 Total reward:-130.91 avg loss:11.6287: 100%|██████████| 200/200 [00:07<00:00, 26.77it/s]\n",
      "episode: 211 Total reward:-130.55 avg loss:17.1422: 100%|██████████| 200/200 [00:07<00:00, 27.49it/s]\n",
      "episode: 212 Total reward:-333.92 avg loss:14.4692: 100%|██████████| 200/200 [00:08<00:00, 24.13it/s]\n",
      "episode: 213 Total reward:-129.10 avg loss:13.3036: 100%|██████████| 200/200 [00:08<00:00, 24.98it/s]\n",
      "episode: 214 Total reward:-125.22 avg loss:18.0452: 100%|██████████| 200/200 [00:07<00:00, 27.11it/s]\n",
      "episode: 215 Total reward:-125.54 avg loss:13.8499: 100%|██████████| 200/200 [00:07<00:00, 27.65it/s]\n",
      "episode: 216 Total reward:-130.33 avg loss:14.6339: 100%|██████████| 200/200 [00:07<00:00, 27.57it/s]\n",
      "episode: 217 Total reward:-126.82 avg loss:17.1472: 100%|██████████| 200/200 [00:07<00:00, 27.45it/s]\n",
      "episode: 218 Total reward:-126.79 avg loss:19.2890: 100%|██████████| 200/200 [00:08<00:00, 23.39it/s]\n",
      "episode: 219 Total reward:-1.15 avg loss:15.3944: 100%|██████████| 200/200 [00:07<00:00, 25.69it/s]\n",
      "episode: 220 Total reward:-2.25 avg loss:15.2824: 100%|██████████| 200/200 [00:08<00:00, 24.77it/s]\n",
      "episode: 221 Total reward:-122.85 avg loss:16.7411: 100%|██████████| 200/200 [00:07<00:00, 25.88it/s]\n",
      "episode: 222 Total reward:-127.37 avg loss:16.8378: 100%|██████████| 200/200 [00:07<00:00, 25.94it/s]\n",
      "episode: 223 Total reward:-1.28 avg loss:11.5280: 100%|██████████| 200/200 [00:06<00:00, 30.16it/s]\n",
      "episode: 224 Total reward:-130.21 avg loss:10.7542: 100%|██████████| 200/200 [00:06<00:00, 30.14it/s]\n",
      "episode: 225 Total reward:-354.84 avg loss:17.4772: 100%|██████████| 200/200 [00:06<00:00, 30.01it/s]\n",
      "episode: 226 Total reward:-341.95 avg loss:11.8788: 100%|██████████| 200/200 [00:07<00:00, 27.21it/s]\n",
      "episode: 227 Total reward:-279.88 avg loss:22.1876: 100%|██████████| 200/200 [00:07<00:00, 25.33it/s]\n",
      "episode: 228 Total reward:-2.25 avg loss:15.1915: 100%|██████████| 200/200 [00:07<00:00, 26.41it/s]\n",
      "episode: 229 Total reward:-132.62 avg loss:14.2557: 100%|██████████| 200/200 [00:07<00:00, 25.92it/s]\n",
      "episode: 230 Total reward:-235.27 avg loss:21.7069: 100%|██████████| 200/200 [00:06<00:00, 29.91it/s]\n",
      "episode: 231 Total reward:-130.57 avg loss:11.9720: 100%|██████████| 200/200 [00:06<00:00, 30.10it/s]\n",
      "episode: 232 Total reward:-2.57 avg loss:13.1144: 100%|██████████| 200/200 [00:06<00:00, 28.04it/s]\n",
      "episode: 233 Total reward:-130.00 avg loss:12.9794: 100%|██████████| 200/200 [00:06<00:00, 28.75it/s]\n",
      "episode: 234 Total reward:-240.44 avg loss:15.8428: 100%|██████████| 200/200 [00:06<00:00, 29.43it/s]\n",
      "episode: 235 Total reward:-275.28 avg loss:20.9017: 100%|██████████| 200/200 [00:06<00:00, 29.15it/s]\n",
      "episode: 236 Total reward:-236.69 avg loss:14.8130: 100%|██████████| 200/200 [00:07<00:00, 26.32it/s]\n",
      "episode: 237 Total reward:-120.42 avg loss:13.5267: 100%|██████████| 200/200 [00:07<00:00, 26.65it/s]\n",
      "episode: 238 Total reward:-129.10 avg loss:11.9394: 100%|██████████| 200/200 [00:06<00:00, 29.83it/s]\n",
      "episode: 239 Total reward:-230.64 avg loss:23.1302: 100%|██████████| 200/200 [00:06<00:00, 28.70it/s]\n"
     ]
    },
    {
     "name": "stderr",
     "output_type": "stream",
     "text": [
      "episode: 240 Total reward:-2.55 avg loss:14.4922: 100%|██████████| 200/200 [00:06<00:00, 28.40it/s]\n",
      "episode: 241 Total reward:-123.08 avg loss:19.5476: 100%|██████████| 200/200 [00:06<00:00, 29.91it/s]\n",
      "episode: 242 Total reward:-127.02 avg loss:17.3855: 100%|██████████| 200/200 [00:06<00:00, 28.39it/s]\n",
      "episode: 243 Total reward:-120.28 avg loss:22.0193: 100%|██████████| 200/200 [00:06<00:00, 29.35it/s]\n",
      "episode: 244 Total reward:-2.21 avg loss:15.9268: 100%|██████████| 200/200 [00:06<00:00, 30.32it/s]\n",
      "episode: 245 Total reward:-132.38 avg loss:17.0091: 100%|██████████| 200/200 [00:06<00:00, 30.07it/s]\n",
      "episode: 246 Total reward:-129.28 avg loss:19.7848: 100%|██████████| 200/200 [00:07<00:00, 26.41it/s]\n",
      "episode: 247 Total reward:-118.90 avg loss:16.0862: 100%|██████████| 200/200 [00:08<00:00, 26.57it/s]\n",
      "episode: 248 Total reward:-1.89 avg loss:13.5054: 100%|██████████| 200/200 [00:07<00:00, 26.61it/s]\n",
      "episode: 249 Total reward:-236.25 avg loss:11.9966: 100%|██████████| 200/200 [00:07<00:00, 26.55it/s]\n",
      "episode: 250 Total reward:-129.31 avg loss:18.3657: 100%|██████████| 200/200 [00:07<00:00, 27.09it/s]\n",
      "episode: 251 Total reward:-115.35 avg loss:15.6443: 100%|██████████| 200/200 [00:07<00:00, 26.96it/s]\n",
      "episode: 252 Total reward:-123.93 avg loss:17.1122: 100%|██████████| 200/200 [00:07<00:00, 25.89it/s]\n",
      "episode: 253 Total reward:-252.71 avg loss:14.2312: 100%|██████████| 200/200 [00:07<00:00, 26.60it/s]\n",
      "episode: 254 Total reward:-118.27 avg loss:8.6895: 100%|██████████| 200/200 [00:07<00:00, 26.49it/s]\n",
      "episode: 255 Total reward:-129.93 avg loss:15.3849: 100%|██████████| 200/200 [00:07<00:00, 26.47it/s]\n",
      "episode: 256 Total reward:-236.32 avg loss:14.4155: 100%|██████████| 200/200 [00:07<00:00, 26.50it/s]\n",
      "episode: 257 Total reward:-124.46 avg loss:14.7387: 100%|██████████| 200/200 [00:07<00:00, 26.54it/s]\n",
      "episode: 258 Total reward:-125.96 avg loss:16.0677: 100%|██████████| 200/200 [00:07<00:00, 26.47it/s]\n",
      "episode: 259 Total reward:-126.50 avg loss:7.3833: 100%|██████████| 200/200 [00:07<00:00, 26.28it/s]\n",
      "episode: 260 Total reward:-118.96 avg loss:7.7047: 100%|██████████| 200/200 [00:07<00:00, 26.40it/s]\n",
      "episode: 261 Total reward:-1.68 avg loss:12.8060: 100%|██████████| 200/200 [00:07<00:00, 26.24it/s]\n",
      "episode: 262 Total reward:-1.78 avg loss:8.6865: 100%|██████████| 200/200 [00:07<00:00, 26.18it/s]\n",
      "episode: 263 Total reward:-128.30 avg loss:16.8584: 100%|██████████| 200/200 [00:07<00:00, 26.02it/s]\n",
      "episode: 264 Total reward:-121.50 avg loss:16.9481: 100%|██████████| 200/200 [00:07<00:00, 26.06it/s]\n",
      "episode: 265 Total reward:-3.38 avg loss:9.0334: 100%|██████████| 200/200 [00:07<00:00, 25.87it/s]\n",
      "episode: 266 Total reward:-131.18 avg loss:14.6472: 100%|██████████| 200/200 [00:07<00:00, 25.98it/s]\n",
      "episode: 267 Total reward:-1.33 avg loss:13.9925: 100%|██████████| 200/200 [00:07<00:00, 25.44it/s]\n",
      "episode: 268 Total reward:-128.56 avg loss:12.7399: 100%|██████████| 200/200 [00:07<00:00, 25.51it/s]\n",
      "episode: 269 Total reward:-126.33 avg loss:12.5614: 100%|██████████| 200/200 [00:07<00:00, 25.66it/s]\n",
      "episode: 270 Total reward:-2.19 avg loss:14.8279: 100%|██████████| 200/200 [00:07<00:00, 25.49it/s]\n",
      "episode: 271 Total reward:-134.63 avg loss:14.9183: 100%|██████████| 200/200 [00:07<00:00, 25.54it/s]\n",
      "episode: 272 Total reward:-132.34 avg loss:9.5403: 100%|██████████| 200/200 [00:07<00:00, 25.37it/s]\n",
      "episode: 273 Total reward:-124.09 avg loss:10.6309: 100%|██████████| 200/200 [00:07<00:00, 25.48it/s]\n",
      "episode: 274 Total reward:-249.41 avg loss:15.3530: 100%|██████████| 200/200 [00:07<00:00, 25.40it/s]\n",
      "episode: 275 Total reward:-126.87 avg loss:6.5339: 100%|██████████| 200/200 [00:07<00:00, 25.50it/s]\n",
      "episode: 276 Total reward:-232.67 avg loss:20.9341: 100%|██████████| 200/200 [00:07<00:00, 25.33it/s]\n",
      "episode: 277 Total reward:-262.81 avg loss:11.1460: 100%|██████████| 200/200 [00:07<00:00, 25.48it/s]\n",
      "episode: 278 Total reward:-116.58 avg loss:10.3294: 100%|██████████| 200/200 [00:07<00:00, 25.32it/s]\n",
      "episode: 279 Total reward:-1.94 avg loss:18.1159: 100%|██████████| 200/200 [00:07<00:00, 25.40it/s]\n",
      "episode: 280 Total reward:-120.87 avg loss:14.5941: 100%|██████████| 200/200 [00:07<00:00, 25.34it/s]\n",
      "episode: 281 Total reward:-273.26 avg loss:20.3004: 100%|██████████| 200/200 [00:07<00:00, 25.29it/s]\n",
      "episode: 282 Total reward:-122.73 avg loss:13.5243: 100%|██████████| 200/200 [00:07<00:00, 25.42it/s]\n",
      "episode: 283 Total reward:-2.44 avg loss:12.1276: 100%|██████████| 200/200 [00:07<00:00, 25.04it/s]\n",
      "episode: 284 Total reward:-129.85 avg loss:3.2135: 100%|██████████| 200/200 [00:07<00:00, 25.33it/s]\n",
      "episode: 285 Total reward:-341.21 avg loss:14.5647: 100%|██████████| 200/200 [00:07<00:00, 25.28it/s]\n",
      "episode: 286 Total reward:-116.72 avg loss:13.1688: 100%|██████████| 200/200 [00:07<00:00, 25.15it/s]\n",
      "episode: 287 Total reward:-2.00 avg loss:9.6367: 100%|██████████| 200/200 [00:07<00:00, 25.22it/s]\n",
      "episode: 288 Total reward:-242.24 avg loss:15.3914: 100%|██████████| 200/200 [00:07<00:00, 25.18it/s]\n",
      "episode: 289 Total reward:-123.35 avg loss:9.6749: 100%|██████████| 200/200 [00:07<00:00, 25.27it/s]\n",
      "episode: 290 Total reward:-130.71 avg loss:11.9036: 100%|██████████| 200/200 [00:07<00:00, 25.38it/s]\n",
      "episode: 291 Total reward:-123.00 avg loss:14.5833: 100%|██████████| 200/200 [00:07<00:00, 25.26it/s]\n",
      "episode: 292 Total reward:-233.53 avg loss:9.4218: 100%|██████████| 200/200 [00:07<00:00, 25.20it/s]\n",
      "episode: 293 Total reward:-260.55 avg loss:11.5543: 100%|██████████| 200/200 [00:08<00:00, 22.95it/s]\n",
      "episode: 294 Total reward:-132.14 avg loss:8.5242: 100%|██████████| 200/200 [00:08<00:00, 22.65it/s]\n",
      "episode: 295 Total reward:-360.03 avg loss:14.6597: 100%|██████████| 200/200 [00:08<00:00, 23.49it/s]\n",
      "episode: 296 Total reward:-240.47 avg loss:18.8139: 100%|██████████| 200/200 [00:08<00:00, 23.24it/s]\n",
      "episode: 297 Total reward:-121.32 avg loss:15.8172: 100%|██████████| 200/200 [00:08<00:00, 22.37it/s]\n",
      "episode: 298 Total reward:-1.53 avg loss:14.7110: 100%|██████████| 200/200 [00:08<00:00, 23.67it/s]\n",
      "episode: 299 Total reward:-125.71 avg loss:9.4554: 100%|██████████| 200/200 [00:07<00:00, 25.01it/s]\n"
     ]
    }
   ],
   "source": [
    "[reward_list, loss_list]=ddpg.train(num_episodes=300)"
   ]
  },
  {
   "cell_type": "markdown",
   "metadata": {},
   "source": [
    "## Testing"
   ]
  },
  {
   "cell_type": "code",
   "execution_count": 8,
   "metadata": {},
   "outputs": [
    {
     "name": "stderr",
     "output_type": "stream",
     "text": [
      "episode: 000 Total reward:-2.26: 100%|██████████| 200/200 [00:00<00:00, 338.31it/s]    \n",
      "episode: 001 Total reward:-130.54: 100%|██████████| 200/200 [00:00<00:00, 305.12it/s]    \n",
      "episode: 002 Total reward:-269.78: 100%|██████████| 200/200 [00:00<00:00, 328.73it/s]    \n",
      "episode: 003 Total reward:-121.14: 100%|██████████| 200/200 [00:00<00:00, 325.62it/s]    \n",
      "episode: 004 Total reward:-127.00: 100%|██████████| 200/200 [00:00<00:00, 331.64it/s]    \n",
      "episode: 005 Total reward:-245.92: 100%|██████████| 200/200 [00:00<00:00, 306.98it/s]    \n",
      "episode: 006 Total reward:-123.92: 100%|██████████| 200/200 [00:00<00:00, 319.46it/s]    \n",
      "episode: 007 Total reward:-256.17: 100%|██████████| 200/200 [00:00<00:00, 289.55it/s]    \n",
      "episode: 008 Total reward:-133.75: 100%|██████████| 200/200 [00:00<00:00, 325.90it/s]    \n",
      "episode: 009 Total reward:-1.39: 100%|██████████| 200/200 [00:00<00:00, 294.78it/s]    \n"
     ]
    }
   ],
   "source": [
    "test_reward_list = ddpg.test(render=False,episodes=10)"
   ]
  },
  {
   "cell_type": "markdown",
   "metadata": {},
   "source": [
    "## Plotting the test result"
   ]
  },
  {
   "cell_type": "code",
   "execution_count": 9,
   "metadata": {},
   "outputs": [
    {
     "data": {
      "text/plain": [
       "Text(0,0.5,'Total Rewards per Episode')"
      ]
     },
     "execution_count": 9,
     "metadata": {},
     "output_type": "execute_result"
    },
    {
     "data": {
      "image/png": "[encoded data removed]",
      "text/plain": [
       "<matplotlib.figure.Figure at 0x10cac4198>"
      ]
     },
     "metadata": {},
     "output_type": "display_data"
    }
   ],
   "source": [
    "import matplotlib.pyplot as plt\n",
    "%matplotlib inline\n",
    "plt.plot(test_reward_list)\n",
    "plt.xlabel(\"Episodes\")\n",
    "plt.ylabel(\"Total Rewards per Episode\")"
   ]
  },
  {
   "cell_type": "code",
   "execution_count": null,
   "metadata": {},
   "outputs": [],
   "source": []
  },
  {
   "cell_type": "code",
   "execution_count": null,
   "metadata": {},
   "outputs": [],
   "source": []
  }
 ],
 "metadata": {
  "kernelspec": {
   "display_name": "Python 3",
   "language": "python",
   "name": "python3"
  },
  "language_info": {
   "codemirror_mode": {
    "name": "ipython",
    "version": 3
   },
   "file_extension": ".py",
   "mimetype": "text/x-python",
   "name": "python",
   "nbconvert_exporter": "python",
   "pygments_lexer": "ipython3",
   "version": "3.6.3"
  }
 },
 "nbformat": 4,
 "nbformat_minor": 2
}
