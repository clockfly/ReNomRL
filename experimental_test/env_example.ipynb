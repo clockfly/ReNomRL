{
 "cells": [
  {
   "cell_type": "code",
   "execution_count": 1,
   "metadata": {},
   "outputs": [],
   "source": [
    "import numpy as np\n",
    "from renom_rl.env import BaseEnv"
   ]
  },
  {
   "cell_type": "code",
   "execution_count": 2,
   "metadata": {},
   "outputs": [
    {
     "data": {
      "text/plain": [
       "<__main__.CustomEnv at 0x7f67d8063358>"
      ]
     },
     "execution_count": 2,
     "metadata": {},
     "output_type": "execute_result"
    }
   ],
   "source": [
    "class CustomEnv(BaseEnv):\n",
    "    \n",
    "    def __init__(self):\n",
    "        super(CustomEnv, self).__init__(action_shape=(1, ), state_shape=(1, ))\n",
    "        \n",
    "    def step(self, action):\n",
    "        return np.array([1]), 0, 0\n",
    "    \n",
    "    def sample(self):\n",
    "        return np.array([1])\n",
    "    \n",
    "    def reset(self):\n",
    "        return np.array([1])\n",
    "CustomEnv()"
   ]
  }
 ],
 "metadata": {
  "kernelspec": {
   "display_name": "Python 3",
   "language": "python",
   "name": "python3"
  },
  "language_info": {
   "codemirror_mode": {
    "name": "ipython",
    "version": 3
   },
   "file_extension": ".py",
   "mimetype": "text/x-python",
   "name": "python",
   "nbconvert_exporter": "python",
   "pygments_lexer": "ipython3",
   "version": "3.5.2"
  }
 },
 "nbformat": 4,
 "nbformat_minor": 2
}
