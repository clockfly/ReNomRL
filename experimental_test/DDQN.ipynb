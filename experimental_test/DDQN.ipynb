{
 "cells": [
  {
   "cell_type": "markdown",
   "metadata": {
    "scrolled": false
   },
   "source": [
    "# Double DQNの解説\n",
    "\n",
    "![image.png](attachment:image.png)\n",
    "\n",
    "画像引用:  \n",
    "https://qiita.com/sugulu/items/3c7d6cbe600d455e853b\n",
    "\n",
    "### DQNの特徴\n",
    "- Q学習において状態行動テーブルを関数で表したもの.\n",
    "- 離散的な行動を扱うことができる.\n",
    "\n",
    "参考:  \n",
    "http://blog.syundo.org/post/20171208-reinforcement-learning-dqn-and-impl/"
   ]
  },
  {
   "cell_type": "markdown",
   "metadata": {
    "scrolled": false
   },
   "source": [
    "### OpenAI gymのインストール\n",
    "\n",
    "githubのレポジトリを参考に, gymモジュールをインストールしてください.  \n",
    "https://github.com/openai/gym"
   ]
  },
  {
   "cell_type": "code",
   "execution_count": null,
   "metadata": {
    "scrolled": true
   },
   "outputs": [],
   "source": [
    "import gym\n",
    "import numpy as np\n",
    "import renom as rm\n",
    "import matplotlib.pyplot as plt\n",
    "from renom.utility.initializer import Gaussian\n",
    "from renom.cuda import set_cuda_active\n",
    "from renom_rl.discrete.double_dqn import DoubleDQN\n",
    "from renom_rl.environ import BaseEnv\n",
    "from gym.core import Env\n",
    "from PIL import Image\n",
    "\n",
    "set_cuda_active(True)\n",
    "env = gym.make('BreakoutNoFrameskip-v4')\n",
    "\n",
    "class CustomEnv(BaseEnv):\n",
    "    \n",
    "    def __init__(self, env):\n",
    "        self.env = env\n",
    "        self.action_shape = 4\n",
    "        self.state_shape = (4, 84, 84)\n",
    "        self.previous_frames = []\n",
    "        self._reset_flag = True\n",
    "        self._last_live = 5\n",
    "        super(CustomEnv, self).__init__()\n",
    "    \n",
    "    def reset(self):\n",
    "        if self._reset_flag:\n",
    "            self._reset_flag = False\n",
    "            self.env.reset()\n",
    "        n_step = np.random.randint(4, 32+1)\n",
    "        for _ in range(n_step):\n",
    "            state, _, _ = self.step(self.env.action_space.sample())\n",
    "        return state\n",
    "    \n",
    "    def sample(self):\n",
    "        return self.env.action_space.sample()\n",
    "    \n",
    "    def render(self):\n",
    "        self.env.render()\n",
    "\n",
    "    def _preprocess(self, state):\n",
    "        resized_image = Image.fromarray(state).resize((84, 110)).convert('L')\n",
    "        image_array = np.asarray(resized_image)/255.\n",
    "        final_image = image_array[26:110]\n",
    "        # Confirm that the image is processed correctly.\n",
    "        # Image.fromarray(np.clip(final_image.reshape(84, 84)*255, 0, 255).astype(np.uint8)).save(\"test.png\")\n",
    "        return final_image\n",
    "    \n",
    "    def step(self, action):\n",
    "        state_list = []\n",
    "        reward_list = []\n",
    "        terminal = False\n",
    "        for _ in range(4):\n",
    "            # Use last frame. Other frames will be skipped.\n",
    "            s, r, t, info = self.env.step(action)\n",
    "            state = self._preprocess(s)\n",
    "            reward_list.append(r)\n",
    "            if self._last_live > info[\"ale.lives\"]:\n",
    "                t = True\n",
    "                self._last_live = info[\"ale.lives\"]\n",
    "                if self._last_live > 0:\n",
    "                    self._reset_flag = False\n",
    "                else:\n",
    "                    self._last_live = 5\n",
    "                    self._reset_flag = True\n",
    "            if t:\n",
    "                terminal = True\n",
    "                \n",
    "        if len(self.previous_frames) > 3:\n",
    "            self.previous_frames = self.previous_frames[1:] + [state]\n",
    "        else:\n",
    "            self.previous_frames += [state]\n",
    "        state = np.stack(self.previous_frames)\n",
    "        return state, np.array(np.sum(reward_list) > 0), terminal\n",
    "    \n",
    "custom_env = CustomEnv(env)\n",
    "q_network = rm.Sequential([rm.Conv2d(32, filter=8, stride=4, ignore_bias=False),\n",
    "                           rm.Relu(),\n",
    "                           rm.Conv2d(64, filter=4, stride=2, ignore_bias=False),\n",
    "                           rm.Relu(),\n",
    "                           rm.Conv2d(64, filter=3, stride=1, ignore_bias=False),\n",
    "                           rm.Relu(), \n",
    "                           rm.Flatten(), \n",
    "                           rm.Dense(512, ignore_bias=True),\n",
    "                           rm.Relu(),\n",
    "                           rm.Dense(custom_env.action_shape, ignore_bias=True)])"
   ]
  },
  {
   "cell_type": "code",
   "execution_count": null,
   "metadata": {
    "scrolled": true
   },
   "outputs": [],
   "source": [
    "model = DoubleDQN(custom_env, q_network)"
   ]
  },
  {
   "cell_type": "code",
   "execution_count": null,
   "metadata": {
    "scrolled": false
   },
   "outputs": [],
   "source": [
    "@model.events.end_epoch\n",
    "def callback(*args):\n",
    "    print(len(args))\n",
    "\n",
    "model.fit(render=False, greedy_step=10000, random_step=500, epoch_step=100)"
   ]
  },
  {
   "cell_type": "code",
   "execution_count": null,
   "metadata": {},
   "outputs": [],
   "source": [
    "q_network.save(\"dqn_exp5.h5\")\n",
    "# model = DQN(custom_env, q_network)"
   ]
  },
  {
   "cell_type": "code",
   "execution_count": null,
   "metadata": {},
   "outputs": [],
   "source": [
    "model.test(render=True)"
   ]
  },
  {
   "cell_type": "code",
   "execution_count": null,
   "metadata": {},
   "outputs": [],
   "source": [
    "import time\n",
    "start_t = time.time()\n",
    "a = np.random.permutation(int(1e1))\n",
    "print(time.time()-start_t)"
   ]
  },
  {
   "cell_type": "markdown",
   "metadata": {},
   "source": []
  },
  {
   "cell_type": "code",
   "execution_count": null,
   "metadata": {},
   "outputs": [],
   "source": []
  }
 ],
 "metadata": {
  "kernelspec": {
   "display_name": "Python 3",
   "language": "python",
   "name": "python3"
  },
  "language_info": {
   "codemirror_mode": {
    "name": "ipython",
    "version": 3
   },
   "file_extension": ".py",
   "mimetype": "text/x-python",
   "name": "python",
   "nbconvert_exporter": "python",
   "pygments_lexer": "ipython3",
   "version": "3.5.2"
  }
 },
 "nbformat": 4,
 "nbformat_minor": 2
}
