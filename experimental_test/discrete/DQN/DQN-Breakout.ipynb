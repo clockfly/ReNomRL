{
 "cells": [
  {
   "cell_type": "markdown",
   "metadata": {},
   "source": [
    "## Required Libraries\n",
    "\n",
    "- ReNomDL 2.7.1\n",
    "- ReNomRL 0.4"
   ]
  },
  {
   "cell_type": "code",
   "execution_count": 1,
   "metadata": {},
   "outputs": [],
   "source": [
    "import gym\n",
    "import numpy as np\n",
    "import renom as rm\n",
    "from renom.cuda import set_cuda_active\n",
    "from renom_rl.discrete.dqn import DQN\n",
    "from renom_rl.environ.env import BaseEnv\n",
    "from renom_rl.utility import Animation\n",
    "from renom_rl.utility.logger import DQNLogger\n",
    "from renom_rl.utility import EpsilonSLFilter\n",
    "import matplotlib.pyplot as plt\n",
    "from renom.utility.initializer import GlorotUniform\n",
    "from PIL import Image\n",
    "set_cuda_active(True)"
   ]
  },
  {
   "cell_type": "code",
   "execution_count": 2,
   "metadata": {
    "scrolled": true
   },
   "outputs": [],
   "source": [
    "class CustomEnv(BaseEnv):\n",
    "    \n",
    "    def __init__(self, env):\n",
    "        self.action_shape = (env.action_space.n, )\n",
    "        self.state_shape = (4, 84, 84)\n",
    "        self.env=env\n",
    "        self.reward=0\n",
    "        self.resent_state_list = []\n",
    "        self.animation=Animation()\n",
    "        self.zero_image = np.zeros(self.state_shape, dtype=np.float32)\n",
    "        self._length = 4\n",
    "        \n",
    "    def reset(self):\n",
    "        self.resent_state_list = [self._preprocess(self.env.reset())]\n",
    "        for i in range(self._length-1):\n",
    "            s, _, _, _ = self.env.step(self.env.action_space.sample())\n",
    "            self.resent_state_list.append(self._preprocess(s))\n",
    "        return np.array(self.resent_state_list).reshape(4, 84, 84)\n",
    "    \n",
    "    def _preprocess(self, s):\n",
    "        img = Image.fromarray(s).resize((84, 84)).convert('L')\n",
    "        return np.asanyarray(img).astype(np.float32) / 255.\n",
    "    \n",
    "    def sample(self):\n",
    "        return self.env.action_space.sample()\n",
    "    \n",
    "    def step(self, action):\n",
    "        s, r, t, _ = self.env.step(action)\n",
    "        self.resent_state_list.append(self._preprocess(s))\n",
    "        self.resent_state_list = self.resent_state_list[1:]\n",
    "        return np.array(self.resent_state_list).reshape(4, 84, 84), np.clip(r, -1, 1), t\n",
    "    \n",
    "    def terminate(self):\n",
    "        return False\n",
    "\n",
    "    def test_start(self):\n",
    "        self.animation.reset()\n",
    "        self.test_mode=True\n",
    "\n",
    "    def test_step(self):\n",
    "        self.animation.store(self.env.render(mode=\"rgb_array\"))\n",
    "\n",
    "    def test_close(self):\n",
    "        self.env.close()\n",
    "        self.env.viewer=None\n",
    "        self.test_mode=False\n",
    " \n",
    "    def reset_anime(self):\n",
    "        self.animation.reset()\n",
    "        \n",
    "        \n",
    "env = gym.make(\"BreakoutDeterministic-v4\")\n",
    "custom_env = CustomEnv(env)\n",
    "q_network = rm.Sequential([\n",
    "    rm.Conv2d(channel=32, filter=8, stride=4, initializer=GlorotUniform()),\n",
    "    rm.Relu(),\n",
    "    rm.Conv2d(channel=64, filter=4, stride=2, initializer=GlorotUniform()),\n",
    "    rm.Relu(),\n",
    "    rm.Conv2d(channel=64, filter=3, stride=1, initializer=GlorotUniform()),\n",
    "    rm.Relu(),\n",
    "    rm.Flatten(),\n",
    "    rm.Dense(512, initializer=GlorotUniform()),\n",
    "    rm.Relu(),\n",
    "    rm.Dense(custom_env.action_shape[0], initializer=GlorotUniform())\n",
    "])"
   ]
  },
  {
   "cell_type": "code",
   "execution_count": 3,
   "metadata": {
    "scrolled": true
   },
   "outputs": [],
   "source": [
    "epoch = 175\n",
    "epoch_step = 10000\n",
    "random_step = 50000\n",
    "update_period = 10000\n",
    "train_freq = 4\n",
    "batch_size = 32\n",
    "action_filter = EpsilonSLFilter(min=0.1, max=1.0, initial=1.0, test_epsilon=0.05, epsilon_step=1000000)"
   ]
  },
  {
   "cell_type": "code",
   "execution_count": null,
   "metadata": {},
   "outputs": [],
   "source": [
    "model = DQN(custom_env, q_network, optimizer=rm.Adam(0.00025),\n",
    "            loss_func=lambda x, y, **kwargs: rm.sum(rm.clipped_mean_squared_error(x, y)*batch_size))"
   ]
  },
  {
   "cell_type": "code",
   "execution_count": null,
   "metadata": {
    "scrolled": true
   },
   "outputs": [
    {
     "name": "stdout",
     "output_type": "stream",
     "text": [
      "Run random 50000 step for storing experiences\n"
     ]
    }
   ],
   "source": [
    "result = model.fit(epoch=epoch,\n",
    "                   epoch_step=epoch_step,\n",
    "                   batch_size=batch_size,\n",
    "                   random_step=random_step,\n",
    "                   test_step=None,\n",
    "                   update_period=update_period,\n",
    "                   train_frequency=train_freq,\n",
    "                   action_filter=action_filter)"
   ]
  },
  {
   "cell_type": "code",
   "execution_count": null,
   "metadata": {
    "scrolled": false
   },
   "outputs": [],
   "source": [
    "model.test()"
   ]
  }
 ],
 "metadata": {
  "kernelspec": {
   "display_name": "Python 3",
   "language": "python",
   "name": "python3"
  },
  "language_info": {
   "codemirror_mode": {
    "name": "ipython",
    "version": 3
   },
   "file_extension": ".py",
   "mimetype": "text/x-python",
   "name": "python",
   "nbconvert_exporter": "python",
   "pygments_lexer": "ipython3",
   "version": "3.5.2"
  }
 },
 "nbformat": 4,
 "nbformat_minor": 2
}
