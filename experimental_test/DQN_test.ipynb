{
 "cells": [
  {
   "cell_type": "code",
   "execution_count": null,
   "metadata": {},
   "outputs": [],
   "source": [
    "import gym\n",
    "import renom as rm\n",
    "import numpy as np\n",
    "from keras.models import load_model\n",
    "\n",
    "env = gym.make('BreakoutNoFrameskip-v4')\n",
    "#env = gym.make('PongNoFrameskip-v4')\n",
    "\n",
    "from PIL import Image\n",
    "\n",
    "class CustomEnv(object):\n",
    "    def __init__(self, env):\n",
    "        self.env = env\n",
    "    \n",
    "    def reset(self):\n",
    "        return self.env.reset()\n",
    "    \n",
    "    def render(self):\n",
    "    \tself.env.render()\n",
    "\n",
    "\n",
    "\n",
    "    def preprocess(self,state):\n",
    "        resized_image = Image.fromarray(state).resize((84,110)).convert('L')\n",
    "        image_array = np.asarray(resized_image.getdata()).reshape(110, 84)\n",
    "        final_image = image_array[26:110,:]\n",
    "        return final_image\n",
    "    \n",
    "    def step(self, action):\n",
    "        state_list = []\n",
    "        reward_list = []\n",
    "        terminal = False\n",
    "        for _ in range(4):\n",
    "            s, r, t, _ = self.env.step(action)\n",
    "            state_list.append(self.preprocess(s))\n",
    "            reward_list.append(r)\n",
    "            if t == True:\n",
    "                terminal = True\n",
    "        #print(state_list)\n",
    "        state = np.stack(state_list)\n",
    "        #print(state.shape)\n",
    "        #state = np.stack(state_list).expand_dims(axis=0)\n",
    "        return state, np.sum(reward_list), terminal, _\n",
    "\n",
    "new_env = CustomEnv(env)\n",
    "from dqn import DQN\n",
    "state_size = (4, 84, 84)  # 4 is for last 4 frames\n",
    "action_pattern = env.action_space.shape[0] # action space size\n",
    "\n",
    "q_network = rm.Sequential([rm.Conv2d(32, filter=8, stride=4),\n",
    "                           rm.Relu(), \n",
    "                           rm.Conv2d(64, filter=4, stride=2), \n",
    "                           rm.Relu(),rm.Conv2d(64, filter=3, stride=1), \n",
    "                           rm.Relu(), \n",
    "                           rm.Flatten(), \n",
    "                           rm.Dense(512), \n",
    "                           rm.Relu(), \n",
    "                           rm.Dense(action_pattern)])\n"
   ]
  },
  {
   "cell_type": "code",
   "execution_count": 13,
   "metadata": {},
   "outputs": [],
   "source": [
    "model = DQN(new_env, action_pattern, state_size, q_network)"
   ]
  },
  {
   "cell_type": "code",
   "execution_count": null,
   "metadata": {
    "scrolled": true
   },
   "outputs": [
    {
     "name": "stderr",
     "output_type": "stream",
     "text": [
      "epoch 000 avg loss:77.4162 train_total_reward:1.000 test_total_reward:0.000 e-greedy:0.00006:   7%|▋         | 69/1000 [00:08<02:17,  6.80it/s]\n"
     ]
    },
    {
     "name": "stdout",
     "output_type": "stream",
     "text": [
      "    /// Result\n",
      "    Average train error: 77.41616\n",
      "    Avg train reward in one epoch: 0.01449\n",
      "    Avg test reward in one epoch: 0.00000\n",
      "    Total train reward in one epoch: 1.00000\n",
      "    Test reward: 1.00000\n",
      "    Greedy: 0.00006\n",
      "    Buffer: 69\n"
     ]
    },
    {
     "name": "stderr",
     "output_type": "stream",
     "text": [
      "epoch 001 avg loss:39.8545 train_total_reward:1.000 test_total_reward:2.000 e-greedy:0.00012:   7%|▋         | 67/1000 [00:12<02:18,  6.76it/s]\n"
     ]
    },
    {
     "name": "stdout",
     "output_type": "stream",
     "text": [
      "    /// Result\n",
      "    Average train error: 39.85450\n",
      "    Avg train reward in one epoch: 0.01493\n",
      "    Avg test reward in one epoch: 0.02985\n",
      "    Total train reward in one epoch: 1.00000\n",
      "    Test reward: 1.00000\n",
      "    Greedy: 0.00012\n",
      "    Buffer: 136\n"
     ]
    },
    {
     "name": "stderr",
     "output_type": "stream",
     "text": [
      "epoch 002 avg loss:30.4417 train_total_reward:2.000 test_total_reward:6.000 e-greedy:0.00020:   8%|▊         | 82/1000 [00:14<02:16,  6.71it/s]\n"
     ]
    },
    {
     "name": "stdout",
     "output_type": "stream",
     "text": [
      "    /// Result\n",
      "    Average train error: 30.44172\n",
      "    Avg train reward in one epoch: 0.02439\n",
      "    Avg test reward in one epoch: 0.07317\n",
      "    Total train reward in one epoch: 2.00000\n",
      "    Test reward: 2.00000\n",
      "    Greedy: 0.00020\n",
      "    Buffer: 218\n"
     ]
    },
    {
     "name": "stderr",
     "output_type": "stream",
     "text": [
      "epoch 003 avg loss:23.3419 train_total_reward:1.000 test_total_reward:3.000 e-greedy:0.00028:   9%|▉         | 93/1000 [00:20<02:23,  6.32it/s]\n"
     ]
    },
    {
     "name": "stdout",
     "output_type": "stream",
     "text": [
      "    /// Result\n",
      "    Average train error: 23.34193\n",
      "    Avg train reward in one epoch: 0.01075\n",
      "    Avg test reward in one epoch: 0.03226\n",
      "    Total train reward in one epoch: 1.00000\n",
      "    Test reward: 1.00000\n",
      "    Greedy: 0.00028\n",
      "    Buffer: 311\n"
     ]
    },
    {
     "name": "stderr",
     "output_type": "stream",
     "text": [
      "epoch 004 avg loss:20.8872 train_total_reward:5.000 test_total_reward:0.000 e-greedy:0.00039:  12%|█▏        | 117/1000 [00:22<02:13,  6.60it/s]\n"
     ]
    },
    {
     "name": "stdout",
     "output_type": "stream",
     "text": [
      "    /// Result\n",
      "    Average train error: 20.88723\n",
      "    Avg train reward in one epoch: 0.04274\n",
      "    Avg test reward in one epoch: 0.00000\n",
      "    Total train reward in one epoch: 5.00000\n",
      "    Test reward: 5.00000\n",
      "    Greedy: 0.00039\n",
      "    Buffer: 428\n"
     ]
    },
    {
     "name": "stderr",
     "output_type": "stream",
     "text": [
      "epoch 005 avg loss:21.9339 train_total_reward:3.000 test_total_reward:2.000 e-greedy:0.00046:   9%|▊         | 87/1000 [00:18<02:59,  5.10it/s]\n"
     ]
    },
    {
     "name": "stdout",
     "output_type": "stream",
     "text": [
      "    /// Result\n",
      "    Average train error: 21.93394\n",
      "    Avg train reward in one epoch: 0.03448\n",
      "    Avg test reward in one epoch: 0.02299\n",
      "    Total train reward in one epoch: 3.00000\n",
      "    Test reward: 3.00000\n",
      "    Greedy: 0.00046\n",
      "    Buffer: 515\n"
     ]
    },
    {
     "name": "stderr",
     "output_type": "stream",
     "text": [
      "epoch 006 avg loss:26.9058 train_total_reward:1.000 test_total_reward:0.000 e-greedy:0.00052:   6%|▋         | 63/1000 [00:15<03:17,  4.74it/s]\n"
     ]
    },
    {
     "name": "stdout",
     "output_type": "stream",
     "text": [
      "    /// Result\n",
      "    Average train error: 26.90579\n",
      "    Avg train reward in one epoch: 0.01587\n",
      "    Avg test reward in one epoch: 0.00000\n",
      "    Total train reward in one epoch: 1.00000\n",
      "    Test reward: 1.00000\n",
      "    Greedy: 0.00052\n",
      "    Buffer: 578\n"
     ]
    },
    {
     "name": "stderr",
     "output_type": "stream",
     "text": [
      "epoch 007 avg loss:26.6745 train_total_reward:1.000 test_total_reward:0.000 e-greedy:0.00058:   7%|▋         | 69/1000 [00:21<03:33,  4.36it/s]\n"
     ]
    },
    {
     "name": "stdout",
     "output_type": "stream",
     "text": [
      "    /// Result\n",
      "    Average train error: 26.67447\n",
      "    Avg train reward in one epoch: 0.01449\n",
      "    Avg test reward in one epoch: 0.00000\n",
      "    Total train reward in one epoch: 1.00000\n",
      "    Test reward: 1.00000\n",
      "    Greedy: 0.00058\n",
      "    Buffer: 647\n"
     ]
    },
    {
     "name": "stderr",
     "output_type": "stream",
     "text": [
      "epoch 008 avg loss:29.0674 train_total_reward:2.000 test_total_reward:2.000 e-greedy:0.00065:   8%|▊         | 80/1000 [00:22<02:25,  6.31it/s]\n"
     ]
    },
    {
     "name": "stdout",
     "output_type": "stream",
     "text": [
      "    /// Result\n",
      "    Average train error: 29.06745\n",
      "    Avg train reward in one epoch: 0.02500\n",
      "    Avg test reward in one epoch: 0.02500\n",
      "    Total train reward in one epoch: 2.00000\n",
      "    Test reward: 2.00000\n",
      "    Greedy: 0.00065\n",
      "    Buffer: 727\n"
     ]
    },
    {
     "name": "stderr",
     "output_type": "stream",
     "text": [
      "epoch 009 avg loss:31.3039 train_total_reward:1.000 test_total_reward:1.000 e-greedy:0.00072:   8%|▊         | 75/1000 [00:18<02:21,  6.51it/s]\n"
     ]
    },
    {
     "name": "stdout",
     "output_type": "stream",
     "text": [
      "    /// Result\n",
      "    Average train error: 31.30387\n",
      "    Avg train reward in one epoch: 0.01333\n",
      "    Avg test reward in one epoch: 0.01333\n",
      "    Total train reward in one epoch: 1.00000\n",
      "    Test reward: 1.00000\n",
      "    Greedy: 0.00072\n",
      "    Buffer: 802\n"
     ]
    },
    {
     "name": "stderr",
     "output_type": "stream",
     "text": [
      "epoch 010 avg loss:19.0093 train_total_reward:3.000 test_total_reward:0.000 e-greedy:0.00081:   9%|▉         | 94/1000 [00:20<02:31,  5.98it/s]\n"
     ]
    },
    {
     "name": "stdout",
     "output_type": "stream",
     "text": [
      "    /// Result\n",
      "    Average train error: 19.00928\n",
      "    Avg train reward in one epoch: 0.03191\n",
      "    Avg test reward in one epoch: 0.00000\n",
      "    Total train reward in one epoch: 3.00000\n",
      "    Test reward: 3.00000\n",
      "    Greedy: 0.00081\n",
      "    Buffer: 896\n"
     ]
    },
    {
     "name": "stderr",
     "output_type": "stream",
     "text": [
      "epoch 011 avg loss:19.3281 train_total_reward:3.000 test_total_reward:1.000 e-greedy:0.00089:  10%|▉         | 96/1000 [00:24<03:05,  4.88it/s]\n"
     ]
    },
    {
     "name": "stdout",
     "output_type": "stream",
     "text": [
      "    /// Result\n",
      "    Average train error: 19.32808\n",
      "    Avg train reward in one epoch: 0.03125\n",
      "    Avg test reward in one epoch: 0.01042\n",
      "    Total train reward in one epoch: 3.00000\n",
      "    Test reward: 3.00000\n",
      "    Greedy: 0.00089\n",
      "    Buffer: 992\n"
     ]
    },
    {
     "name": "stderr",
     "output_type": "stream",
     "text": [
      "epoch 012 avg loss:28.0390 train_total_reward:1.000 test_total_reward:0.000 e-greedy:0.00095:   6%|▋         | 64/1000 [00:11<02:30,  6.23it/s]\n"
     ]
    },
    {
     "name": "stdout",
     "output_type": "stream",
     "text": [
      "    /// Result\n",
      "    Average train error: 28.03897\n",
      "    Avg train reward in one epoch: 0.01562\n",
      "    Avg test reward in one epoch: 0.00000\n",
      "    Total train reward in one epoch: 1.00000\n",
      "    Test reward: 1.00000\n",
      "    Greedy: 0.00095\n",
      "    Buffer: 1056\n"
     ]
    },
    {
     "name": "stderr",
     "output_type": "stream",
     "text": [
      "epoch 013 avg loss:19.2901 train_total_reward:0.000 test_total_reward:1.000 e-greedy:0.00100:   6%|▌         | 58/1000 [00:11<02:27,  6.40it/s]\n"
     ]
    },
    {
     "name": "stdout",
     "output_type": "stream",
     "text": [
      "    /// Result\n",
      "    Average train error: 19.29012\n",
      "    Avg train reward in one epoch: 0.00000\n",
      "    Avg test reward in one epoch: 0.01724\n",
      "    Total train reward in one epoch: 0.00000\n",
      "    Test reward: 0.00000\n",
      "    Greedy: 0.00100\n",
      "    Buffer: 1114\n"
     ]
    },
    {
     "name": "stderr",
     "output_type": "stream",
     "text": [
      "epoch 014 avg loss:20.9026 train_total_reward:1.000 test_total_reward:3.000 e-greedy:0.00106:   6%|▌         | 59/1000 [00:12<02:23,  6.54it/s]\n"
     ]
    },
    {
     "name": "stdout",
     "output_type": "stream",
     "text": [
      "    /// Result\n",
      "    Average train error: 20.90257\n",
      "    Avg train reward in one epoch: 0.01695\n",
      "    Avg test reward in one epoch: 0.05085\n",
      "    Total train reward in one epoch: 1.00000\n",
      "    Test reward: 1.00000\n",
      "    Greedy: 0.00106\n",
      "    Buffer: 1173\n"
     ]
    },
    {
     "name": "stderr",
     "output_type": "stream",
     "text": [
      "epoch 015 avg loss:22.4557 train_total_reward:1.000 test_total_reward:0.000 e-greedy:0.00112:   7%|▋         | 73/1000 [00:16<02:23,  6.45it/s]\n"
     ]
    },
    {
     "name": "stdout",
     "output_type": "stream",
     "text": [
      "    /// Result\n",
      "    Average train error: 22.45567\n",
      "    Avg train reward in one epoch: 0.01370\n",
      "    Avg test reward in one epoch: 0.00000\n",
      "    Total train reward in one epoch: 1.00000\n",
      "    Test reward: 1.00000\n",
      "    Greedy: 0.00112\n",
      "    Buffer: 1246\n"
     ]
    },
    {
     "name": "stderr",
     "output_type": "stream",
     "text": [
      "epoch 016 avg loss:21.6818 train_total_reward:1.000 test_total_reward:2.000 e-greedy:0.00119:   7%|▋         | 71/1000 [00:14<02:22,  6.53it/s]\n"
     ]
    },
    {
     "name": "stdout",
     "output_type": "stream",
     "text": [
      "    /// Result\n",
      "    Average train error: 21.68180\n",
      "    Avg train reward in one epoch: 0.01408\n",
      "    Avg test reward in one epoch: 0.02817\n",
      "    Total train reward in one epoch: 1.00000\n",
      "    Test reward: 1.00000\n",
      "    Greedy: 0.00119\n",
      "    Buffer: 1317\n"
     ]
    },
    {
     "name": "stderr",
     "output_type": "stream",
     "text": [
      "epoch 017 avg loss:15.7711 train_total_reward:1.000 test_total_reward:1.000 e-greedy:0.00124:   6%|▌         | 61/1000 [00:13<02:26,  6.42it/s]\n"
     ]
    },
    {
     "name": "stdout",
     "output_type": "stream",
     "text": [
      "    /// Result\n",
      "    Average train error: 15.77110\n",
      "    Avg train reward in one epoch: 0.01639\n",
      "    Avg test reward in one epoch: 0.01639\n",
      "    Total train reward in one epoch: 1.00000\n",
      "    Test reward: 1.00000\n",
      "    Greedy: 0.00124\n",
      "    Buffer: 1378\n"
     ]
    },
    {
     "name": "stderr",
     "output_type": "stream",
     "text": [
      "epoch 018 avg loss:13.7922 train_total_reward:1.000 test_total_reward:2.000 e-greedy:0.00130:   6%|▋         | 64/1000 [00:12<02:25,  6.41it/s]\n"
     ]
    },
    {
     "name": "stdout",
     "output_type": "stream",
     "text": [
      "    /// Result\n",
      "    Average train error: 13.79218\n",
      "    Avg train reward in one epoch: 0.01562\n",
      "    Avg test reward in one epoch: 0.03125\n",
      "    Total train reward in one epoch: 1.00000\n",
      "    Test reward: 1.00000\n",
      "    Greedy: 0.00130\n",
      "    Buffer: 1442\n"
     ]
    },
    {
     "name": "stderr",
     "output_type": "stream",
     "text": [
      "epoch 019 avg loss:22.0940 train_total_reward:1.000 test_total_reward:1.000 e-greedy:0.00136:   7%|▋         | 72/1000 [00:17<02:27,  6.28it/s]\n"
     ]
    },
    {
     "name": "stdout",
     "output_type": "stream",
     "text": [
      "    /// Result\n",
      "    Average train error: 22.09405\n",
      "    Avg train reward in one epoch: 0.01389\n",
      "    Avg test reward in one epoch: 0.01389\n",
      "    Total train reward in one epoch: 1.00000\n",
      "    Test reward: 1.00000\n",
      "    Greedy: 0.00136\n",
      "    Buffer: 1514\n"
     ]
    },
    {
     "name": "stderr",
     "output_type": "stream",
     "text": [
      "epoch 020 avg loss:17.7996 train_total_reward:1.000 test_total_reward:2.000 e-greedy:0.00143:   7%|▋         | 74/1000 [00:17<02:31,  6.13it/s]\n"
     ]
    },
    {
     "name": "stdout",
     "output_type": "stream",
     "text": [
      "    /// Result\n",
      "    Average train error: 17.79964\n",
      "    Avg train reward in one epoch: 0.01351\n",
      "    Avg test reward in one epoch: 0.02703\n",
      "    Total train reward in one epoch: 1.00000\n",
      "    Test reward: 1.00000\n",
      "    Greedy: 0.00143\n",
      "    Buffer: 1588\n"
     ]
    },
    {
     "name": "stderr",
     "output_type": "stream",
     "text": [
      "epoch 021 avg loss:14.9502 train_total_reward:2.000 test_total_reward:5.000 e-greedy:0.00150:   8%|▊         | 75/1000 [00:16<02:41,  5.74it/s]\n"
     ]
    },
    {
     "name": "stdout",
     "output_type": "stream",
     "text": [
      "    /// Result\n",
      "    Average train error: 14.95024\n",
      "    Avg train reward in one epoch: 0.02667\n",
      "    Avg test reward in one epoch: 0.06667\n",
      "    Total train reward in one epoch: 2.00000\n",
      "    Test reward: 2.00000\n",
      "    Greedy: 0.00150\n",
      "    Buffer: 1663\n"
     ]
    },
    {
     "name": "stderr",
     "output_type": "stream",
     "text": [
      "epoch 022 avg loss:17.6534 train_total_reward:0.000 test_total_reward:0.000 e-greedy:0.00155:   6%|▌         | 59/1000 [00:13<02:40,  5.88it/s]\n"
     ]
    },
    {
     "name": "stdout",
     "output_type": "stream",
     "text": [
      "    /// Result\n",
      "    Average train error: 17.65336\n",
      "    Avg train reward in one epoch: 0.00000\n",
      "    Avg test reward in one epoch: 0.00000\n",
      "    Total train reward in one epoch: 0.00000\n",
      "    Test reward: 0.00000\n",
      "    Greedy: 0.00155\n",
      "    Buffer: 1722\n"
     ]
    },
    {
     "name": "stderr",
     "output_type": "stream",
     "text": [
      "epoch 023 avg loss:17.7488 train_total_reward:2.000 test_total_reward:0.000 e-greedy:0.00162:   7%|▋         | 73/1000 [00:19<02:35,  5.98it/s]\n"
     ]
    },
    {
     "name": "stdout",
     "output_type": "stream",
     "text": [
      "    /// Result\n",
      "    Average train error: 17.74879\n",
      "    Avg train reward in one epoch: 0.02740\n",
      "    Avg test reward in one epoch: 0.00000\n",
      "    Total train reward in one epoch: 2.00000\n",
      "    Test reward: 2.00000\n",
      "    Greedy: 0.00162\n",
      "    Buffer: 1795\n"
     ]
    },
    {
     "name": "stderr",
     "output_type": "stream",
     "text": [
      "epoch 024 avg loss:16.3688 train_total_reward:1.000 test_total_reward:0.000 e-greedy:0.00168:   8%|▊         | 77/1000 [00:20<02:43,  5.64it/s]\n"
     ]
    },
    {
     "name": "stdout",
     "output_type": "stream",
     "text": [
      "    /// Result\n",
      "    Average train error: 16.36882\n",
      "    Avg train reward in one epoch: 0.01299\n",
      "    Avg test reward in one epoch: 0.00000\n",
      "    Total train reward in one epoch: 1.00000\n",
      "    Test reward: 1.00000\n",
      "    Greedy: 0.00168\n",
      "    Buffer: 1872\n"
     ]
    },
    {
     "name": "stderr",
     "output_type": "stream",
     "text": [
      "epoch 025 avg loss:13.7525 train_total_reward:3.000 test_total_reward:1.000 e-greedy:0.00177:  10%|█         | 100/1000 [00:19<02:37,  5.72it/s]\n"
     ]
    },
    {
     "name": "stdout",
     "output_type": "stream",
     "text": [
      "    /// Result\n",
      "    Average train error: 13.75252\n",
      "    Avg train reward in one epoch: 0.03000\n",
      "    Avg test reward in one epoch: 0.01000\n",
      "    Total train reward in one epoch: 3.00000\n",
      "    Test reward: 3.00000\n",
      "    Greedy: 0.00177\n",
      "    Buffer: 1972\n"
     ]
    },
    {
     "name": "stderr",
     "output_type": "stream",
     "text": [
      "epoch 026 avg loss:20.2413 train_total_reward:1.000 test_total_reward:1.000 e-greedy:0.00185:   8%|▊         | 80/1000 [00:19<02:48,  5.47it/s]\n"
     ]
    },
    {
     "name": "stdout",
     "output_type": "stream",
     "text": [
      "    /// Result\n",
      "    Average train error: 20.24127\n",
      "    Avg train reward in one epoch: 0.01250\n",
      "    Avg test reward in one epoch: 0.01250\n",
      "    Total train reward in one epoch: 1.00000\n",
      "    Test reward: 1.00000\n",
      "    Greedy: 0.00185\n",
      "    Buffer: 2052\n"
     ]
    },
    {
     "name": "stderr",
     "output_type": "stream",
     "text": [
      "epoch 027 avg loss:22.6632 train_total_reward:2.000 test_total_reward:2.000 e-greedy:0.00191:   7%|▋         | 74/1000 [00:17<02:41,  5.75it/s]\n"
     ]
    },
    {
     "name": "stdout",
     "output_type": "stream",
     "text": [
      "    /// Result\n",
      "    Average train error: 22.66324\n",
      "    Avg train reward in one epoch: 0.02703\n",
      "    Avg test reward in one epoch: 0.02703\n",
      "    Total train reward in one epoch: 2.00000\n",
      "    Test reward: 2.00000\n",
      "    Greedy: 0.00191\n",
      "    Buffer: 2126\n"
     ]
    },
    {
     "name": "stderr",
     "output_type": "stream",
     "text": [
      "epoch 028 avg loss:16.7207 train_total_reward:2.000 test_total_reward:3.000 e-greedy:0.00198:   8%|▊         | 75/1000 [00:17<02:47,  5.53it/s]\n"
     ]
    },
    {
     "name": "stdout",
     "output_type": "stream",
     "text": [
      "    /// Result\n",
      "    Average train error: 16.72068\n",
      "    Avg train reward in one epoch: 0.02667\n",
      "    Avg test reward in one epoch: 0.04000\n",
      "    Total train reward in one epoch: 2.00000\n",
      "    Test reward: 2.00000\n",
      "    Greedy: 0.00198\n",
      "    Buffer: 2201\n"
     ]
    },
    {
     "name": "stderr",
     "output_type": "stream",
     "text": [
      "epoch 029 avg loss:17.3134 train_total_reward:0.000 test_total_reward:1.000 e-greedy:0.00202:   4%|▍         | 45/1000 [00:14<02:44,  5.82it/s]\n"
     ]
    },
    {
     "name": "stdout",
     "output_type": "stream",
     "text": [
      "    /// Result\n",
      "    Average train error: 17.31337\n",
      "    Avg train reward in one epoch: 0.00000\n",
      "    Avg test reward in one epoch: 0.02222\n",
      "    Total train reward in one epoch: 0.00000\n",
      "    Test reward: 0.00000\n",
      "    Greedy: 0.00202\n",
      "    Buffer: 2246\n"
     ]
    },
    {
     "name": "stderr",
     "output_type": "stream",
     "text": [
      "epoch 030 avg loss:27.5638 train_total_reward:0.000 test_total_reward:2.000 e-greedy:0.00208:   6%|▋         | 65/1000 [00:14<02:41,  5.78it/s]\n"
     ]
    },
    {
     "name": "stdout",
     "output_type": "stream",
     "text": [
      "    /// Result\n",
      "    Average train error: 27.56380\n",
      "    Avg train reward in one epoch: 0.00000\n",
      "    Avg test reward in one epoch: 0.03077\n",
      "    Total train reward in one epoch: 0.00000\n",
      "    Test reward: 0.00000\n",
      "    Greedy: 0.00208\n",
      "    Buffer: 2311\n"
     ]
    },
    {
     "name": "stderr",
     "output_type": "stream",
     "text": [
      "epoch 031 avg loss:16.9574 train_total_reward:0.000 test_total_reward:2.000 e-greedy:0.00214:   6%|▌         | 62/1000 [00:16<02:41,  5.82it/s]\n"
     ]
    },
    {
     "name": "stdout",
     "output_type": "stream",
     "text": [
      "    /// Result\n",
      "    Average train error: 16.95737\n",
      "    Avg train reward in one epoch: 0.00000\n",
      "    Avg test reward in one epoch: 0.03226\n",
      "    Total train reward in one epoch: 0.00000\n",
      "    Test reward: 0.00000\n",
      "    Greedy: 0.00214\n",
      "    Buffer: 2373\n"
     ]
    },
    {
     "name": "stderr",
     "output_type": "stream",
     "text": [
      "epoch 032 avg loss:17.0632 train_total_reward:1.000 test_total_reward:3.000 e-greedy:0.00220:   7%|▋         | 71/1000 [00:15<02:44,  5.64it/s]\n"
     ]
    },
    {
     "name": "stdout",
     "output_type": "stream",
     "text": [
      "    /// Result\n",
      "    Average train error: 17.06323\n",
      "    Avg train reward in one epoch: 0.01408\n",
      "    Avg test reward in one epoch: 0.04225\n",
      "    Total train reward in one epoch: 1.00000\n",
      "    Test reward: 1.00000\n",
      "    Greedy: 0.00220\n",
      "    Buffer: 2444\n"
     ]
    },
    {
     "name": "stderr",
     "output_type": "stream",
     "text": [
      "epoch 033 avg loss:15.7692 train_total_reward:1.000 test_total_reward:0.000 e-greedy:0.00226:   6%|▋         | 63/1000 [00:12<02:39,  5.88it/s]\n"
     ]
    },
    {
     "name": "stdout",
     "output_type": "stream",
     "text": [
      "    /// Result\n",
      "    Average train error: 15.76916\n",
      "    Avg train reward in one epoch: 0.01587\n",
      "    Avg test reward in one epoch: 0.00000\n",
      "    Total train reward in one epoch: 1.00000\n",
      "    Test reward: 1.00000\n",
      "    Greedy: 0.00226\n",
      "    Buffer: 2507\n"
     ]
    },
    {
     "name": "stderr",
     "output_type": "stream",
     "text": [
      "epoch 034 avg loss:26.1725 train_total_reward:1.000 test_total_reward:0.000 e-greedy:0.00231:   6%|▌         | 57/1000 [00:13<02:44,  5.72it/s]\n"
     ]
    },
    {
     "name": "stdout",
     "output_type": "stream",
     "text": [
      "    /// Result\n",
      "    Average train error: 26.17249\n",
      "    Avg train reward in one epoch: 0.01754\n",
      "    Avg test reward in one epoch: 0.00000\n",
      "    Total train reward in one epoch: 1.00000\n",
      "    Test reward: 1.00000\n",
      "    Greedy: 0.00231\n",
      "    Buffer: 2564\n"
     ]
    },
    {
     "name": "stderr",
     "output_type": "stream",
     "text": [
      "epoch 035 avg loss:18.1155 train_total_reward:1.000 test_total_reward:1.000 e-greedy:0.00236:   6%|▌         | 60/1000 [00:13<02:44,  5.73it/s]\n"
     ]
    },
    {
     "name": "stdout",
     "output_type": "stream",
     "text": [
      "    /// Result\n",
      "    Average train error: 18.11546\n",
      "    Avg train reward in one epoch: 0.01667\n",
      "    Avg test reward in one epoch: 0.01667\n",
      "    Total train reward in one epoch: 1.00000\n",
      "    Test reward: 1.00000\n",
      "    Greedy: 0.00236\n",
      "    Buffer: 2624\n"
     ]
    },
    {
     "name": "stderr",
     "output_type": "stream",
     "text": [
      "epoch 036 avg loss:12.3236 train_total_reward:3.000 test_total_reward:1.000 e-greedy:0.00244:   8%|▊         | 82/1000 [00:17<02:39,  5.76it/s]\n"
     ]
    },
    {
     "name": "stdout",
     "output_type": "stream",
     "text": [
      "    /// Result\n",
      "    Average train error: 12.32362\n",
      "    Avg train reward in one epoch: 0.03659\n",
      "    Avg test reward in one epoch: 0.01220\n",
      "    Total train reward in one epoch: 3.00000\n",
      "    Test reward: 3.00000\n",
      "    Greedy: 0.00244\n",
      "    Buffer: 2706\n"
     ]
    },
    {
     "name": "stderr",
     "output_type": "stream",
     "text": [
      "epoch 037 avg loss:18.3612 train_total_reward:0.000 test_total_reward:2.000 e-greedy:0.00248:   5%|▌         | 53/1000 [00:14<02:45,  5.72it/s]\n"
     ]
    },
    {
     "name": "stdout",
     "output_type": "stream",
     "text": [
      "    /// Result\n",
      "    Average train error: 18.36121\n",
      "    Avg train reward in one epoch: 0.00000\n",
      "    Avg test reward in one epoch: 0.03774\n",
      "    Total train reward in one epoch: 0.00000\n",
      "    Test reward: 0.00000\n",
      "    Greedy: 0.00248\n",
      "    Buffer: 2759\n"
     ]
    },
    {
     "name": "stderr",
     "output_type": "stream",
     "text": [
      "epoch 038 avg loss:16.0587 train_total_reward:2.000 test_total_reward:0.000 e-greedy:0.00255:   7%|▋         | 71/1000 [00:15<02:43,  5.68it/s]\n"
     ]
    },
    {
     "name": "stdout",
     "output_type": "stream",
     "text": [
      "    /// Result\n",
      "    Average train error: 16.05874\n",
      "    Avg train reward in one epoch: 0.02817\n",
      "    Avg test reward in one epoch: 0.00000\n",
      "    Total train reward in one epoch: 2.00000\n",
      "    Test reward: 2.00000\n",
      "    Greedy: 0.00255\n",
      "    Buffer: 2830\n"
     ]
    },
    {
     "name": "stderr",
     "output_type": "stream",
     "text": [
      "epoch 039 avg loss:21.2022 train_total_reward:3.000 test_total_reward:0.000 e-greedy:0.00262:   8%|▊         | 79/1000 [00:15<02:39,  5.76it/s]\n"
     ]
    },
    {
     "name": "stdout",
     "output_type": "stream",
     "text": [
      "    /// Result\n",
      "    Average train error: 21.20220\n",
      "    Avg train reward in one epoch: 0.03797\n",
      "    Avg test reward in one epoch: 0.00000\n",
      "    Total train reward in one epoch: 3.00000\n",
      "    Test reward: 3.00000\n",
      "    Greedy: 0.00262\n",
      "    Buffer: 2909\n"
     ]
    },
    {
     "name": "stderr",
     "output_type": "stream",
     "text": [
      "epoch 040 avg loss:17.8140 train_total_reward:5.000 test_total_reward:1.000 e-greedy:0.00272:  11%|█         | 108/1000 [00:23<02:35,  5.75it/s]\n"
     ]
    },
    {
     "name": "stdout",
     "output_type": "stream",
     "text": [
      "    /// Result\n",
      "    Average train error: 17.81399\n",
      "    Avg train reward in one epoch: 0.04630\n",
      "    Avg test reward in one epoch: 0.00926\n",
      "    Total train reward in one epoch: 5.00000\n",
      "    Test reward: 5.00000\n",
      "    Greedy: 0.00272\n",
      "    Buffer: 3017\n"
     ]
    },
    {
     "name": "stderr",
     "output_type": "stream",
     "text": [
      "epoch 041 avg loss:14.8715 train_total_reward:1.000 test_total_reward:0.000 e-greedy:0.00279:   8%|▊         | 83/1000 [00:18<02:41,  5.69it/s]\n"
     ]
    },
    {
     "name": "stdout",
     "output_type": "stream",
     "text": [
      "    /// Result\n",
      "    Average train error: 14.87153\n",
      "    Avg train reward in one epoch: 0.01205\n",
      "    Avg test reward in one epoch: 0.00000\n",
      "    Total train reward in one epoch: 1.00000\n",
      "    Test reward: 1.00000\n",
      "    Greedy: 0.00279\n",
      "    Buffer: 3100\n"
     ]
    },
    {
     "name": "stderr",
     "output_type": "stream",
     "text": [
      "epoch 042 avg loss:16.1394 train_total_reward:0.000 test_total_reward:1.000 e-greedy:0.00284:   6%|▌         | 58/1000 [00:12<02:48,  5.58it/s]\n"
     ]
    },
    {
     "name": "stdout",
     "output_type": "stream",
     "text": [
      "    /// Result\n",
      "    Average train error: 16.13936\n",
      "    Avg train reward in one epoch: 0.00000\n",
      "    Avg test reward in one epoch: 0.01724\n",
      "    Total train reward in one epoch: 0.00000\n",
      "    Test reward: 0.00000\n",
      "    Greedy: 0.00284\n",
      "    Buffer: 3158\n"
     ]
    },
    {
     "name": "stderr",
     "output_type": "stream",
     "text": [
      "epoch 043 avg loss:18.9878 train_total_reward:4.000 test_total_reward:1.000 e-greedy:0.00295:  12%|█▏        | 117/1000 [00:26<02:36,  5.65it/s]\n"
     ]
    },
    {
     "name": "stdout",
     "output_type": "stream",
     "text": [
      "    /// Result\n",
      "    Average train error: 18.98778\n",
      "    Avg train reward in one epoch: 0.03419\n",
      "    Avg test reward in one epoch: 0.00855\n",
      "    Total train reward in one epoch: 4.00000\n",
      "    Test reward: 4.00000\n",
      "    Greedy: 0.00295\n",
      "    Buffer: 3275\n"
     ]
    },
    {
     "name": "stderr",
     "output_type": "stream",
     "text": [
      "epoch 044 avg loss:19.4150 train_total_reward:0.000 test_total_reward:2.000 e-greedy:0.00300:   6%|▌         | 61/1000 [00:14<02:49,  5.54it/s]\n"
     ]
    },
    {
     "name": "stdout",
     "output_type": "stream",
     "text": [
      "    /// Result\n",
      "    Average train error: 19.41500\n",
      "    Avg train reward in one epoch: 0.00000\n",
      "    Avg test reward in one epoch: 0.03279\n",
      "    Total train reward in one epoch: 0.00000\n",
      "    Test reward: 0.00000\n",
      "    Greedy: 0.00300\n",
      "    Buffer: 3336\n"
     ]
    },
    {
     "name": "stderr",
     "output_type": "stream",
     "text": [
      "epoch 045 avg loss:20.6361 train_total_reward:1.000 test_total_reward:0.000 e-greedy:0.00307:   8%|▊         | 76/1000 [00:16<02:41,  5.74it/s]\n"
     ]
    },
    {
     "name": "stdout",
     "output_type": "stream",
     "text": [
      "    /// Result\n",
      "    Average train error: 20.63615\n",
      "    Avg train reward in one epoch: 0.01316\n",
      "    Avg test reward in one epoch: 0.00000\n",
      "    Total train reward in one epoch: 1.00000\n",
      "    Test reward: 1.00000\n",
      "    Greedy: 0.00307\n",
      "    Buffer: 3412\n"
     ]
    },
    {
     "name": "stderr",
     "output_type": "stream",
     "text": [
      "epoch 046 avg loss:22.4761 train_total_reward:2.000 test_total_reward:0.000 e-greedy:0.00315:   8%|▊         | 85/1000 [00:19<02:44,  5.58it/s]\n"
     ]
    },
    {
     "name": "stdout",
     "output_type": "stream",
     "text": [
      "    /// Result\n",
      "    Average train error: 22.47614\n",
      "    Avg train reward in one epoch: 0.02353\n",
      "    Avg test reward in one epoch: 0.00000\n",
      "    Total train reward in one epoch: 2.00000\n",
      "    Test reward: 2.00000\n",
      "    Greedy: 0.00315\n",
      "    Buffer: 3497\n"
     ]
    },
    {
     "name": "stderr",
     "output_type": "stream",
     "text": [
      "epoch 047 avg loss:19.7420 train_total_reward:2.000 test_total_reward:3.000 e-greedy:0.00322:   8%|▊         | 80/1000 [00:17<02:43,  5.64it/s]\n"
     ]
    },
    {
     "name": "stdout",
     "output_type": "stream",
     "text": [
      "    /// Result\n",
      "    Average train error: 19.74195\n",
      "    Avg train reward in one epoch: 0.02500\n",
      "    Avg test reward in one epoch: 0.03750\n",
      "    Total train reward in one epoch: 2.00000\n",
      "    Test reward: 2.00000\n",
      "    Greedy: 0.00322\n",
      "    Buffer: 3577\n"
     ]
    },
    {
     "name": "stderr",
     "output_type": "stream",
     "text": [
      "epoch 048 avg loss:14.8436 train_total_reward:5.000 test_total_reward:1.000 e-greedy:0.00335:  15%|█▍        | 149/1000 [00:28<02:37,  5.40it/s]\n"
     ]
    },
    {
     "name": "stdout",
     "output_type": "stream",
     "text": [
      "    /// Result\n",
      "    Average train error: 14.84360\n",
      "    Avg train reward in one epoch: 0.03356\n",
      "    Avg test reward in one epoch: 0.00671\n",
      "    Total train reward in one epoch: 5.00000\n",
      "    Test reward: 5.00000\n",
      "    Greedy: 0.00335\n",
      "    Buffer: 3726\n"
     ]
    },
    {
     "name": "stderr",
     "output_type": "stream",
     "text": [
      "epoch 049 avg loss:15.6420 train_total_reward:2.000 test_total_reward:1.000 e-greedy:0.00343:   8%|▊         | 83/1000 [00:17<02:41,  5.68it/s]\n"
     ]
    },
    {
     "name": "stdout",
     "output_type": "stream",
     "text": [
      "    /// Result\n",
      "    Average train error: 15.64199\n",
      "    Avg train reward in one epoch: 0.02410\n",
      "    Avg test reward in one epoch: 0.01205\n",
      "    Total train reward in one epoch: 2.00000\n",
      "    Test reward: 2.00000\n",
      "    Greedy: 0.00343\n",
      "    Buffer: 3809\n"
     ]
    },
    {
     "name": "stderr",
     "output_type": "stream",
     "text": [
      "epoch 050 avg loss:13.8044 train_total_reward:1.000 test_total_reward:1.000 e-greedy:0.00349:   7%|▋         | 66/1000 [00:13<02:46,  5.62it/s]\n"
     ]
    },
    {
     "name": "stdout",
     "output_type": "stream",
     "text": [
      "    /// Result\n",
      "    Average train error: 13.80439\n",
      "    Avg train reward in one epoch: 0.01515\n",
      "    Avg test reward in one epoch: 0.01515\n",
      "    Total train reward in one epoch: 1.00000\n",
      "    Test reward: 1.00000\n",
      "    Greedy: 0.00349\n",
      "    Buffer: 3875\n"
     ]
    },
    {
     "name": "stderr",
     "output_type": "stream",
     "text": [
      "epoch 051 avg loss:17.9699 train_total_reward:2.000 test_total_reward:3.000 e-greedy:0.00355:   7%|▋         | 74/1000 [00:19<02:48,  5.49it/s]\n"
     ]
    },
    {
     "name": "stdout",
     "output_type": "stream",
     "text": [
      "    /// Result\n",
      "    Average train error: 17.96988\n",
      "    Avg train reward in one epoch: 0.02703\n",
      "    Avg test reward in one epoch: 0.04054\n",
      "    Total train reward in one epoch: 2.00000\n",
      "    Test reward: 2.00000\n",
      "    Greedy: 0.00355\n",
      "    Buffer: 3949\n"
     ]
    },
    {
     "name": "stderr",
     "output_type": "stream",
     "text": [
      "epoch 052 avg loss:12.4591 train_total_reward:1.000 test_total_reward:3.000 e-greedy:0.00360:   6%|▌         | 55/1000 [00:15<02:47,  5.65it/s]\n"
     ]
    },
    {
     "name": "stdout",
     "output_type": "stream",
     "text": [
      "    /// Result\n",
      "    Average train error: 12.45915\n",
      "    Avg train reward in one epoch: 0.01818\n",
      "    Avg test reward in one epoch: 0.05455\n",
      "    Total train reward in one epoch: 1.00000\n",
      "    Test reward: 1.00000\n",
      "    Greedy: 0.00360\n",
      "    Buffer: 4004\n"
     ]
    },
    {
     "name": "stderr",
     "output_type": "stream",
     "text": [
      "epoch 053 avg loss:14.0161 train_total_reward:3.000 test_total_reward:4.000 e-greedy:0.00368:   9%|▊         | 86/1000 [00:17<02:43,  5.59it/s]\n"
     ]
    },
    {
     "name": "stdout",
     "output_type": "stream",
     "text": [
      "    /// Result\n",
      "    Average train error: 14.01613\n",
      "    Avg train reward in one epoch: 0.03488\n",
      "    Avg test reward in one epoch: 0.04651\n",
      "    Total train reward in one epoch: 3.00000\n",
      "    Test reward: 3.00000\n",
      "    Greedy: 0.00368\n",
      "    Buffer: 4090\n"
     ]
    },
    {
     "name": "stderr",
     "output_type": "stream",
     "text": [
      "epoch 054 avg loss:19.9480 train_total_reward:2.000 test_total_reward:2.000 e-greedy:0.00375:   8%|▊         | 75/1000 [00:16<02:43,  5.66it/s]\n"
     ]
    },
    {
     "name": "stdout",
     "output_type": "stream",
     "text": [
      "    /// Result\n",
      "    Average train error: 19.94799\n",
      "    Avg train reward in one epoch: 0.02667\n",
      "    Avg test reward in one epoch: 0.02667\n",
      "    Total train reward in one epoch: 2.00000\n",
      "    Test reward: 2.00000\n",
      "    Greedy: 0.00375\n",
      "    Buffer: 4165\n"
     ]
    },
    {
     "name": "stderr",
     "output_type": "stream",
     "text": [
      "epoch 055 avg loss:12.1227 train_total_reward:1.000 test_total_reward:0.000 e-greedy:0.00380:   6%|▌         | 58/1000 [00:11<02:45,  5.70it/s]\n"
     ]
    },
    {
     "name": "stdout",
     "output_type": "stream",
     "text": [
      "    /// Result\n",
      "    Average train error: 12.12271\n",
      "    Avg train reward in one epoch: 0.01724\n",
      "    Avg test reward in one epoch: 0.00000\n",
      "    Total train reward in one epoch: 1.00000\n",
      "    Test reward: 1.00000\n",
      "    Greedy: 0.00380\n",
      "    Buffer: 4223\n"
     ]
    },
    {
     "name": "stderr",
     "output_type": "stream",
     "text": [
      "epoch 056 avg loss:25.5274 train_total_reward:0.000 test_total_reward:0.000 e-greedy:0.00384:   5%|▍         | 49/1000 [00:11<02:48,  5.65it/s]\n"
     ]
    },
    {
     "name": "stdout",
     "output_type": "stream",
     "text": [
      "    /// Result\n",
      "    Average train error: 25.52743\n",
      "    Avg train reward in one epoch: 0.00000\n",
      "    Avg test reward in one epoch: 0.00000\n",
      "    Total train reward in one epoch: 0.00000\n",
      "    Test reward: 0.00000\n",
      "    Greedy: 0.00384\n",
      "    Buffer: 4272\n"
     ]
    },
    {
     "name": "stderr",
     "output_type": "stream",
     "text": [
      "epoch 057 avg loss:13.9719 train_total_reward:1.000 test_total_reward:1.000 e-greedy:0.00390:   6%|▌         | 60/1000 [00:12<02:45,  5.69it/s]\n"
     ]
    },
    {
     "name": "stdout",
     "output_type": "stream",
     "text": [
      "    /// Result\n",
      "    Average train error: 13.97185\n",
      "    Avg train reward in one epoch: 0.01667\n",
      "    Avg test reward in one epoch: 0.01667\n",
      "    Total train reward in one epoch: 1.00000\n",
      "    Test reward: 1.00000\n",
      "    Greedy: 0.00390\n",
      "    Buffer: 4332\n"
     ]
    },
    {
     "name": "stderr",
     "output_type": "stream",
     "text": [
      "epoch 058 avg loss:13.5462 train_total_reward:1.000 test_total_reward:1.000 e-greedy:0.00395:   6%|▌         | 61/1000 [00:15<02:51,  5.46it/s]\n"
     ]
    },
    {
     "name": "stdout",
     "output_type": "stream",
     "text": [
      "    /// Result\n",
      "    Average train error: 13.54624\n",
      "    Avg train reward in one epoch: 0.01639\n",
      "    Avg test reward in one epoch: 0.01639\n",
      "    Total train reward in one epoch: 1.00000\n",
      "    Test reward: 1.00000\n",
      "    Greedy: 0.00395\n",
      "    Buffer: 4393\n"
     ]
    },
    {
     "name": "stderr",
     "output_type": "stream",
     "text": [
      "epoch 059 avg loss:29.1489 train_total_reward:0.000 test_total_reward:1.000 e-greedy:0.00400:   6%|▌         | 55/1000 [00:11<02:48,  5.60it/s]\n"
     ]
    },
    {
     "name": "stdout",
     "output_type": "stream",
     "text": [
      "    /// Result\n",
      "    Average train error: 29.14888\n",
      "    Avg train reward in one epoch: 0.00000\n",
      "    Avg test reward in one epoch: 0.01818\n",
      "    Total train reward in one epoch: 0.00000\n",
      "    Test reward: 0.00000\n",
      "    Greedy: 0.00400\n",
      "    Buffer: 4448\n"
     ]
    },
    {
     "name": "stderr",
     "output_type": "stream",
     "text": [
      "epoch 060 avg loss:12.9458 train_total_reward:0.000 test_total_reward:0.000 e-greedy:0.00405:   5%|▌         | 54/1000 [00:12<02:46,  5.69it/s]\n"
     ]
    },
    {
     "name": "stdout",
     "output_type": "stream",
     "text": [
      "    /// Result\n",
      "    Average train error: 12.94584\n",
      "    Avg train reward in one epoch: 0.00000\n",
      "    Avg test reward in one epoch: 0.00000\n",
      "    Total train reward in one epoch: 0.00000\n",
      "    Test reward: 0.00000\n",
      "    Greedy: 0.00405\n",
      "    Buffer: 4502\n"
     ]
    },
    {
     "name": "stderr",
     "output_type": "stream",
     "text": [
      "epoch 061 avg loss:17.7368 train_total_reward:1.000 test_total_reward:4.000 e-greedy:0.00411:   6%|▌         | 60/1000 [00:15<02:44,  5.70it/s]\n"
     ]
    },
    {
     "name": "stdout",
     "output_type": "stream",
     "text": [
      "    /// Result\n",
      "    Average train error: 17.73677\n",
      "    Avg train reward in one epoch: 0.01667\n",
      "    Avg test reward in one epoch: 0.06667\n",
      "    Total train reward in one epoch: 1.00000\n",
      "    Test reward: 1.00000\n",
      "    Greedy: 0.00411\n",
      "    Buffer: 4562\n"
     ]
    },
    {
     "name": "stderr",
     "output_type": "stream",
     "text": [
      "epoch 062 avg loss:17.0351 train_total_reward:1.000 test_total_reward:2.000 e-greedy:0.00416:   6%|▌         | 55/1000 [00:13<02:46,  5.68it/s]\n"
     ]
    },
    {
     "name": "stdout",
     "output_type": "stream",
     "text": [
      "    /// Result\n",
      "    Average train error: 17.03511\n",
      "    Avg train reward in one epoch: 0.01818\n",
      "    Avg test reward in one epoch: 0.03636\n",
      "    Total train reward in one epoch: 1.00000\n",
      "    Test reward: 1.00000\n",
      "    Greedy: 0.00416\n",
      "    Buffer: 4617\n"
     ]
    },
    {
     "name": "stderr",
     "output_type": "stream",
     "text": [
      "epoch 063 avg loss:19.0913 train_total_reward:2.000 test_total_reward:2.000 e-greedy:0.00422:   7%|▋         | 72/1000 [00:15<02:45,  5.62it/s]\n"
     ]
    },
    {
     "name": "stdout",
     "output_type": "stream",
     "text": [
      "    /// Result\n",
      "    Average train error: 19.09125\n",
      "    Avg train reward in one epoch: 0.02778\n",
      "    Avg test reward in one epoch: 0.02778\n",
      "    Total train reward in one epoch: 2.00000\n",
      "    Test reward: 2.00000\n",
      "    Greedy: 0.00422\n",
      "    Buffer: 4689\n"
     ]
    },
    {
     "name": "stderr",
     "output_type": "stream",
     "text": [
      "epoch 064 avg loss:16.4098 train_total_reward:0.000 test_total_reward:0.000 e-greedy:0.00427:   5%|▌         | 52/1000 [00:12<02:51,  5.53it/s]\n"
     ]
    },
    {
     "name": "stdout",
     "output_type": "stream",
     "text": [
      "    /// Result\n",
      "    Average train error: 16.40979\n",
      "    Avg train reward in one epoch: 0.00000\n",
      "    Avg test reward in one epoch: 0.00000\n",
      "    Total train reward in one epoch: 0.00000\n",
      "    Test reward: 0.00000\n",
      "    Greedy: 0.00427\n",
      "    Buffer: 4741\n"
     ]
    },
    {
     "name": "stderr",
     "output_type": "stream",
     "text": [
      "epoch 065 avg loss:11.1127 train_total_reward:1.000 test_total_reward:1.000 e-greedy:0.00432:   6%|▌         | 60/1000 [00:15<02:50,  5.50it/s]\n"
     ]
    },
    {
     "name": "stdout",
     "output_type": "stream",
     "text": [
      "    /// Result\n",
      "    Average train error: 11.11274\n",
      "    Avg train reward in one epoch: 0.01667\n",
      "    Avg test reward in one epoch: 0.01667\n",
      "    Total train reward in one epoch: 1.00000\n",
      "    Test reward: 1.00000\n",
      "    Greedy: 0.00432\n",
      "    Buffer: 4801\n"
     ]
    },
    {
     "name": "stderr",
     "output_type": "stream",
     "text": [
      "epoch 066 avg loss:18.1442 train_total_reward:2.000 test_total_reward:6.000 e-greedy:0.00439:   8%|▊         | 78/1000 [00:19<02:47,  5.50it/s]\n"
     ]
    },
    {
     "name": "stdout",
     "output_type": "stream",
     "text": [
      "    /// Result\n",
      "    Average train error: 18.14421\n",
      "    Avg train reward in one epoch: 0.02564\n",
      "    Avg test reward in one epoch: 0.07692\n",
      "    Total train reward in one epoch: 2.00000\n",
      "    Test reward: 2.00000\n",
      "    Greedy: 0.00439\n",
      "    Buffer: 4879\n"
     ]
    },
    {
     "name": "stderr",
     "output_type": "stream",
     "text": [
      "epoch 067 avg loss:20.3968 train_total_reward:1.000 test_total_reward:3.000 e-greedy:0.00444:   6%|▌         | 57/1000 [00:16<02:46,  5.66it/s]\n"
     ]
    },
    {
     "name": "stdout",
     "output_type": "stream",
     "text": [
      "    /// Result\n",
      "    Average train error: 20.39682\n",
      "    Avg train reward in one epoch: 0.01754\n",
      "    Avg test reward in one epoch: 0.05263\n",
      "    Total train reward in one epoch: 1.00000\n",
      "    Test reward: 1.00000\n",
      "    Greedy: 0.00444\n",
      "    Buffer: 4936\n"
     ]
    },
    {
     "name": "stderr",
     "output_type": "stream",
     "text": [
      "epoch 068 avg loss:22.1981 train_total_reward:1.000 test_total_reward:0.000 e-greedy:0.00450:   7%|▋         | 69/1000 [00:17<02:48,  5.52it/s]\n"
     ]
    },
    {
     "name": "stdout",
     "output_type": "stream",
     "text": [
      "    /// Result\n",
      "    Average train error: 22.19808\n",
      "    Avg train reward in one epoch: 0.01449\n",
      "    Avg test reward in one epoch: 0.00000\n",
      "    Total train reward in one epoch: 1.00000\n",
      "    Test reward: 1.00000\n",
      "    Greedy: 0.00450\n",
      "    Buffer: 5005\n"
     ]
    },
    {
     "name": "stderr",
     "output_type": "stream",
     "text": [
      "epoch 069 avg loss:16.4348 train_total_reward:2.000 test_total_reward:0.000 e-greedy:0.00457:   7%|▋         | 74/1000 [00:18<02:43,  5.67it/s]\n"
     ]
    },
    {
     "name": "stdout",
     "output_type": "stream",
     "text": [
      "    /// Result\n",
      "    Average train error: 16.43477\n",
      "    Avg train reward in one epoch: 0.02703\n",
      "    Avg test reward in one epoch: 0.00000\n",
      "    Total train reward in one epoch: 2.00000\n",
      "    Test reward: 2.00000\n",
      "    Greedy: 0.00457\n",
      "    Buffer: 5079\n"
     ]
    },
    {
     "name": "stderr",
     "output_type": "stream",
     "text": [
      "epoch 070 avg loss:18.6394 train_total_reward:3.000 test_total_reward:3.000 e-greedy:0.00465:   9%|▉         | 89/1000 [00:18<02:43,  5.59it/s]\n"
     ]
    },
    {
     "name": "stdout",
     "output_type": "stream",
     "text": [
      "    /// Result\n",
      "    Average train error: 18.63943\n",
      "    Avg train reward in one epoch: 0.03371\n",
      "    Avg test reward in one epoch: 0.03371\n",
      "    Total train reward in one epoch: 3.00000\n",
      "    Test reward: 3.00000\n",
      "    Greedy: 0.00465\n",
      "    Buffer: 5168\n"
     ]
    },
    {
     "name": "stderr",
     "output_type": "stream",
     "text": [
      "epoch 071 avg loss:16.7908 train_total_reward:0.000 test_total_reward:1.000 e-greedy:0.00470:   5%|▌         | 52/1000 [00:13<02:46,  5.70it/s]\n"
     ]
    },
    {
     "name": "stdout",
     "output_type": "stream",
     "text": [
      "    /// Result\n",
      "    Average train error: 16.79078\n",
      "    Avg train reward in one epoch: 0.00000\n",
      "    Avg test reward in one epoch: 0.01923\n",
      "    Total train reward in one epoch: 0.00000\n",
      "    Test reward: 0.00000\n",
      "    Greedy: 0.00470\n",
      "    Buffer: 5220\n"
     ]
    },
    {
     "name": "stderr",
     "output_type": "stream",
     "text": [
      "epoch 072 avg loss:14.4169 train_total_reward:1.000 test_total_reward:3.000 e-greedy:0.00474:   5%|▌         | 52/1000 [00:14<02:46,  5.68it/s]\n"
     ]
    },
    {
     "name": "stdout",
     "output_type": "stream",
     "text": [
      "    /// Result\n",
      "    Average train error: 14.41691\n",
      "    Avg train reward in one epoch: 0.01923\n",
      "    Avg test reward in one epoch: 0.05769\n",
      "    Total train reward in one epoch: 1.00000\n",
      "    Test reward: 1.00000\n",
      "    Greedy: 0.00474\n",
      "    Buffer: 5272\n"
     ]
    },
    {
     "name": "stderr",
     "output_type": "stream",
     "text": [
      "epoch 073 avg loss:18.3614 train_total_reward:3.000 test_total_reward:0.000 e-greedy:0.00484:  11%|█         | 108/1000 [00:26<02:36,  5.71it/s]\n"
     ]
    },
    {
     "name": "stdout",
     "output_type": "stream",
     "text": [
      "    /// Result\n",
      "    Average train error: 18.36143\n",
      "    Avg train reward in one epoch: 0.02778\n",
      "    Avg test reward in one epoch: 0.00000\n",
      "    Total train reward in one epoch: 3.00000\n",
      "    Test reward: 3.00000\n",
      "    Greedy: 0.00484\n",
      "    Buffer: 5380\n"
     ]
    },
    {
     "name": "stderr",
     "output_type": "stream",
     "text": [
      "epoch 074 avg loss:20.7540 train_total_reward:1.000 test_total_reward:2.000 e-greedy:0.00491:   8%|▊         | 78/1000 [00:18<02:42,  5.69it/s]\n"
     ]
    },
    {
     "name": "stdout",
     "output_type": "stream",
     "text": [
      "    /// Result\n",
      "    Average train error: 20.75402\n",
      "    Avg train reward in one epoch: 0.01282\n",
      "    Avg test reward in one epoch: 0.02564\n",
      "    Total train reward in one epoch: 1.00000\n",
      "    Test reward: 1.00000\n",
      "    Greedy: 0.00491\n",
      "    Buffer: 5458\n"
     ]
    },
    {
     "name": "stderr",
     "output_type": "stream",
     "text": [
      "epoch 075 avg loss:20.0415 train_total_reward:2.000 test_total_reward:2.000 e-greedy:0.00498:   7%|▋         | 72/1000 [00:19<02:40,  5.79it/s]\n"
     ]
    },
    {
     "name": "stdout",
     "output_type": "stream",
     "text": [
      "    /// Result\n",
      "    Average train error: 20.04150\n",
      "    Avg train reward in one epoch: 0.02778\n",
      "    Avg test reward in one epoch: 0.02778\n",
      "    Total train reward in one epoch: 2.00000\n",
      "    Test reward: 2.00000\n",
      "    Greedy: 0.00498\n",
      "    Buffer: 5530\n"
     ]
    },
    {
     "name": "stderr",
     "output_type": "stream",
     "text": [
      "epoch 076 avg loss:20.0649 train_total_reward:2.000 test_total_reward:2.000 e-greedy:0.00504:   8%|▊         | 75/1000 [00:17<02:44,  5.64it/s]\n"
     ]
    },
    {
     "name": "stdout",
     "output_type": "stream",
     "text": [
      "    /// Result\n",
      "    Average train error: 20.06486\n",
      "    Avg train reward in one epoch: 0.02667\n",
      "    Avg test reward in one epoch: 0.02667\n",
      "    Total train reward in one epoch: 2.00000\n",
      "    Test reward: 2.00000\n",
      "    Greedy: 0.00504\n",
      "    Buffer: 5605\n"
     ]
    },
    {
     "name": "stderr",
     "output_type": "stream",
     "text": [
      "epoch 077 avg loss:16.1208 train_total_reward:3.000 test_total_reward:2.000 e-greedy:0.00513:   9%|▉         | 90/1000 [00:21<02:40,  5.68it/s]\n"
     ]
    },
    {
     "name": "stdout",
     "output_type": "stream",
     "text": [
      "    /// Result\n",
      "    Average train error: 16.12080\n",
      "    Avg train reward in one epoch: 0.03333\n",
      "    Avg test reward in one epoch: 0.02222\n",
      "    Total train reward in one epoch: 3.00000\n",
      "    Test reward: 3.00000\n",
      "    Greedy: 0.00513\n",
      "    Buffer: 5695\n"
     ]
    },
    {
     "name": "stderr",
     "output_type": "stream",
     "text": [
      "epoch 078 avg loss:23.1020 train_total_reward:0.000 test_total_reward:2.000 e-greedy:0.00518:   6%|▌         | 61/1000 [00:15<02:49,  5.55it/s]\n"
     ]
    },
    {
     "name": "stdout",
     "output_type": "stream",
     "text": [
      "    /// Result\n",
      "    Average train error: 23.10198\n",
      "    Avg train reward in one epoch: 0.00000\n",
      "    Avg test reward in one epoch: 0.03279\n",
      "    Total train reward in one epoch: 0.00000\n",
      "    Test reward: 0.00000\n",
      "    Greedy: 0.00518\n",
      "    Buffer: 5756\n"
     ]
    },
    {
     "name": "stderr",
     "output_type": "stream",
     "text": [
      "epoch 079 avg loss:18.1231 train_total_reward:2.000 test_total_reward:0.000 e-greedy:0.00525:   8%|▊         | 80/1000 [00:17<02:43,  5.63it/s]\n"
     ]
    },
    {
     "name": "stdout",
     "output_type": "stream",
     "text": [
      "    /// Result\n",
      "    Average train error: 18.12312\n",
      "    Avg train reward in one epoch: 0.02500\n",
      "    Avg test reward in one epoch: 0.00000\n",
      "    Total train reward in one epoch: 2.00000\n",
      "    Test reward: 2.00000\n",
      "    Greedy: 0.00525\n",
      "    Buffer: 5836\n"
     ]
    },
    {
     "name": "stderr",
     "output_type": "stream",
     "text": [
      "epoch 080 avg loss:11.6916 train_total_reward:0.000 test_total_reward:1.000 e-greedy:0.00530:   5%|▍         | 49/1000 [00:13<03:13,  4.91it/s]\n"
     ]
    },
    {
     "name": "stdout",
     "output_type": "stream",
     "text": [
      "    /// Result\n",
      "    Average train error: 11.69164\n",
      "    Avg train reward in one epoch: 0.00000\n",
      "    Avg test reward in one epoch: 0.02041\n",
      "    Total train reward in one epoch: 0.00000\n",
      "    Test reward: 0.00000\n",
      "    Greedy: 0.00530\n",
      "    Buffer: 5885\n"
     ]
    },
    {
     "name": "stderr",
     "output_type": "stream",
     "text": [
      "epoch 081 avg loss:22.4183 train_total_reward:1.000 test_total_reward:0.000 e-greedy:0.00535:   6%|▋         | 64/1000 [00:15<02:50,  5.50it/s]\n"
     ]
    },
    {
     "name": "stdout",
     "output_type": "stream",
     "text": [
      "    /// Result\n",
      "    Average train error: 22.41828\n",
      "    Avg train reward in one epoch: 0.01562\n",
      "    Avg test reward in one epoch: 0.00000\n",
      "    Total train reward in one epoch: 1.00000\n",
      "    Test reward: 1.00000\n",
      "    Greedy: 0.00535\n",
      "    Buffer: 5949\n"
     ]
    },
    {
     "name": "stderr",
     "output_type": "stream",
     "text": [
      "epoch 082 avg loss:19.3038 train_total_reward:4.000 test_total_reward:4.000 e-greedy:0.00547:  13%|█▎        | 134/1000 [00:28<02:33,  5.64it/s]\n"
     ]
    },
    {
     "name": "stdout",
     "output_type": "stream",
     "text": [
      "    /// Result\n",
      "    Average train error: 19.30380\n",
      "    Avg train reward in one epoch: 0.02985\n",
      "    Avg test reward in one epoch: 0.02985\n",
      "    Total train reward in one epoch: 4.00000\n",
      "    Test reward: 4.00000\n",
      "    Greedy: 0.00547\n",
      "    Buffer: 6083\n"
     ]
    },
    {
     "name": "stderr",
     "output_type": "stream",
     "text": [
      "epoch 083 avg loss:16.9629 train_total_reward:0.000 test_total_reward:0.000 e-greedy:0.00554:   7%|▋         | 68/1000 [00:14<02:50,  5.48it/s]\n"
     ]
    },
    {
     "name": "stdout",
     "output_type": "stream",
     "text": [
      "    /// Result\n",
      "    Average train error: 16.96287\n",
      "    Avg train reward in one epoch: 0.00000\n",
      "    Avg test reward in one epoch: 0.00000\n",
      "    Total train reward in one epoch: 0.00000\n",
      "    Test reward: 0.00000\n",
      "    Greedy: 0.00554\n",
      "    Buffer: 6151\n"
     ]
    },
    {
     "name": "stderr",
     "output_type": "stream",
     "text": [
      "epoch 084 avg loss:15.8555 train_total_reward:2.000 test_total_reward:1.000 e-greedy:0.00560:   7%|▋         | 73/1000 [00:15<02:41,  5.74it/s]\n"
     ]
    },
    {
     "name": "stdout",
     "output_type": "stream",
     "text": [
      "    /// Result\n",
      "    Average train error: 15.85553\n",
      "    Avg train reward in one epoch: 0.02740\n",
      "    Avg test reward in one epoch: 0.01370\n",
      "    Total train reward in one epoch: 2.00000\n",
      "    Test reward: 2.00000\n",
      "    Greedy: 0.00560\n",
      "    Buffer: 6224\n"
     ]
    },
    {
     "name": "stderr",
     "output_type": "stream",
     "text": [
      "epoch 085 avg loss:18.1788 train_total_reward:1.000 test_total_reward:2.000 e-greedy:0.00566:   7%|▋         | 68/1000 [00:14<02:43,  5.70it/s]\n"
     ]
    },
    {
     "name": "stdout",
     "output_type": "stream",
     "text": [
      "    /// Result\n",
      "    Average train error: 18.17877\n",
      "    Avg train reward in one epoch: 0.01471\n",
      "    Avg test reward in one epoch: 0.02941\n",
      "    Total train reward in one epoch: 1.00000\n",
      "    Test reward: 1.00000\n",
      "    Greedy: 0.00566\n",
      "    Buffer: 6292\n"
     ]
    },
    {
     "name": "stderr",
     "output_type": "stream",
     "text": [
      "epoch 086 avg loss:17.2127 train_total_reward:2.000 test_total_reward:1.000 e-greedy:0.00573:   7%|▋         | 71/1000 [00:16<02:46,  5.58it/s]\n"
     ]
    },
    {
     "name": "stdout",
     "output_type": "stream",
     "text": [
      "    /// Result\n",
      "    Average train error: 17.21265\n",
      "    Avg train reward in one epoch: 0.02817\n",
      "    Avg test reward in one epoch: 0.01408\n",
      "    Total train reward in one epoch: 2.00000\n",
      "    Test reward: 2.00000\n",
      "    Greedy: 0.00573\n",
      "    Buffer: 6363\n"
     ]
    },
    {
     "name": "stderr",
     "output_type": "stream",
     "text": [
      "epoch 087 avg loss:15.4254 train_total_reward:2.000 test_total_reward:3.000 e-greedy:0.00581:   9%|▉         | 92/1000 [00:20<02:39,  5.68it/s]\n"
     ]
    },
    {
     "name": "stdout",
     "output_type": "stream",
     "text": [
      "    /// Result\n",
      "    Average train error: 15.42540\n",
      "    Avg train reward in one epoch: 0.02174\n",
      "    Avg test reward in one epoch: 0.03261\n",
      "    Total train reward in one epoch: 2.00000\n",
      "    Test reward: 2.00000\n",
      "    Greedy: 0.00581\n",
      "    Buffer: 6455\n"
     ]
    },
    {
     "name": "stderr",
     "output_type": "stream",
     "text": [
      "epoch 088 avg loss:22.6423 train_total_reward:5.000 test_total_reward:2.000 e-greedy:0.00592:  12%|█▏        | 123/1000 [00:24<02:34,  5.68it/s]\n"
     ]
    },
    {
     "name": "stdout",
     "output_type": "stream",
     "text": [
      "    /// Result\n",
      "    Average train error: 22.64232\n",
      "    Avg train reward in one epoch: 0.04065\n",
      "    Avg test reward in one epoch: 0.01626\n",
      "    Total train reward in one epoch: 5.00000\n",
      "    Test reward: 5.00000\n",
      "    Greedy: 0.00592\n",
      "    Buffer: 6578\n"
     ]
    },
    {
     "name": "stderr",
     "output_type": "stream",
     "text": [
      "epoch 089 avg loss:15.7158 train_total_reward:1.000 test_total_reward:1.000 e-greedy:0.00598:   7%|▋         | 69/1000 [00:18<03:24,  4.55it/s]\n"
     ]
    },
    {
     "name": "stdout",
     "output_type": "stream",
     "text": [
      "    /// Result\n",
      "    Average train error: 15.71581\n",
      "    Avg train reward in one epoch: 0.01449\n",
      "    Avg test reward in one epoch: 0.01449\n",
      "    Total train reward in one epoch: 1.00000\n",
      "    Test reward: 1.00000\n",
      "    Greedy: 0.00598\n",
      "    Buffer: 6647\n"
     ]
    },
    {
     "name": "stderr",
     "output_type": "stream",
     "text": [
      "epoch 090 avg loss:12.8238 train_total_reward:3.000 test_total_reward:0.000 e-greedy:0.00608:  10%|█         | 105/1000 [00:24<02:43,  5.48it/s]\n"
     ]
    },
    {
     "name": "stdout",
     "output_type": "stream",
     "text": [
      "    /// Result\n",
      "    Average train error: 12.82382\n",
      "    Avg train reward in one epoch: 0.02857\n",
      "    Avg test reward in one epoch: 0.00000\n",
      "    Total train reward in one epoch: 3.00000\n",
      "    Test reward: 3.00000\n",
      "    Greedy: 0.00608\n",
      "    Buffer: 6752\n"
     ]
    },
    {
     "name": "stderr",
     "output_type": "stream",
     "text": [
      "epoch 091 avg loss:11.5134 train_total_reward:0.000 test_total_reward:0.000 e-greedy:0.00612:   5%|▍         | 49/1000 [00:21<03:37,  4.38it/s]\n"
     ]
    },
    {
     "name": "stdout",
     "output_type": "stream",
     "text": [
      "    /// Result\n",
      "    Average train error: 11.51343\n",
      "    Avg train reward in one epoch: 0.00000\n",
      "    Avg test reward in one epoch: 0.00000\n",
      "    Total train reward in one epoch: 0.00000\n",
      "    Test reward: 0.00000\n",
      "    Greedy: 0.00612\n",
      "    Buffer: 6801\n"
     ]
    },
    {
     "name": "stderr",
     "output_type": "stream",
     "text": [
      "epoch 092 avg loss:14.0663 train_total_reward:3.000 test_total_reward:2.000 e-greedy:0.00621:  10%|▉         | 97/1000 [00:24<02:46,  5.43it/s]\n"
     ]
    },
    {
     "name": "stdout",
     "output_type": "stream",
     "text": [
      "    /// Result\n",
      "    Average train error: 14.06627\n",
      "    Avg train reward in one epoch: 0.03093\n",
      "    Avg test reward in one epoch: 0.02062\n",
      "    Total train reward in one epoch: 3.00000\n",
      "    Test reward: 3.00000\n",
      "    Greedy: 0.00621\n",
      "    Buffer: 6898\n"
     ]
    },
    {
     "name": "stderr",
     "output_type": "stream",
     "text": [
      "epoch 093 avg loss:23.4379 train_total_reward:1.000 test_total_reward:2.000 e-greedy:0.00626:   6%|▌         | 61/1000 [00:17<04:28,  3.50it/s]\n"
     ]
    },
    {
     "name": "stdout",
     "output_type": "stream",
     "text": [
      "    /// Result\n",
      "    Average train error: 23.43793\n",
      "    Avg train reward in one epoch: 0.01639\n",
      "    Avg test reward in one epoch: 0.03279\n",
      "    Total train reward in one epoch: 1.00000\n",
      "    Test reward: 1.00000\n",
      "    Greedy: 0.00626\n",
      "    Buffer: 6959\n"
     ]
    },
    {
     "name": "stderr",
     "output_type": "stream",
     "text": [
      "epoch 094 avg loss:10.5753 train_total_reward:2.000 test_total_reward:1.000 e-greedy:0.00633:   8%|▊         | 78/1000 [00:20<02:47,  5.49it/s]\n"
     ]
    },
    {
     "name": "stdout",
     "output_type": "stream",
     "text": [
      "    /// Result\n",
      "    Average train error: 10.57527\n",
      "    Avg train reward in one epoch: 0.02564\n",
      "    Avg test reward in one epoch: 0.01282\n",
      "    Total train reward in one epoch: 2.00000\n",
      "    Test reward: 2.00000\n",
      "    Greedy: 0.00633\n",
      "    Buffer: 7037\n"
     ]
    },
    {
     "name": "stderr",
     "output_type": "stream",
     "text": [
      "epoch 095 avg loss:13.1793 train_total_reward:1.000 test_total_reward:1.000 e-greedy:0.00640:   7%|▋         | 71/1000 [00:16<03:20,  4.63it/s]\n"
     ]
    },
    {
     "name": "stdout",
     "output_type": "stream",
     "text": [
      "    /// Result\n",
      "    Average train error: 13.17926\n",
      "    Avg train reward in one epoch: 0.01408\n",
      "    Avg test reward in one epoch: 0.01408\n",
      "    Total train reward in one epoch: 1.00000\n",
      "    Test reward: 1.00000\n",
      "    Greedy: 0.00640\n",
      "    Buffer: 7108\n"
     ]
    },
    {
     "name": "stderr",
     "output_type": "stream",
     "text": [
      "epoch 096 avg loss:15.0947 train_total_reward:1.000 test_total_reward:1.000 e-greedy:0.00646:   6%|▋         | 65/1000 [00:15<03:07,  4.99it/s]\n"
     ]
    },
    {
     "name": "stdout",
     "output_type": "stream",
     "text": [
      "    /// Result\n",
      "    Average train error: 15.09467\n",
      "    Avg train reward in one epoch: 0.01538\n",
      "    Avg test reward in one epoch: 0.01538\n",
      "    Total train reward in one epoch: 1.00000\n",
      "    Test reward: 1.00000\n",
      "    Greedy: 0.00646\n",
      "    Buffer: 7173\n"
     ]
    },
    {
     "name": "stderr",
     "output_type": "stream",
     "text": [
      "epoch 097 avg loss:12.7757 train_total_reward:1.000 test_total_reward:1.000 e-greedy:0.00652:   7%|▋         | 67/1000 [00:20<03:46,  4.12it/s]\n"
     ]
    },
    {
     "name": "stdout",
     "output_type": "stream",
     "text": [
      "    /// Result\n",
      "    Average train error: 12.77567\n",
      "    Avg train reward in one epoch: 0.01493\n",
      "    Avg test reward in one epoch: 0.01493\n",
      "    Total train reward in one epoch: 1.00000\n",
      "    Test reward: 1.00000\n",
      "    Greedy: 0.00652\n",
      "    Buffer: 7240\n"
     ]
    },
    {
     "name": "stderr",
     "output_type": "stream",
     "text": [
      "epoch 098 avg loss:15.8523 train_total_reward:1.000 test_total_reward:0.000 e-greedy:0.00657:   6%|▋         | 63/1000 [00:19<03:30,  4.46it/s]\n"
     ]
    },
    {
     "name": "stdout",
     "output_type": "stream",
     "text": [
      "    /// Result\n",
      "    Average train error: 15.85234\n",
      "    Avg train reward in one epoch: 0.01587\n",
      "    Avg test reward in one epoch: 0.00000\n",
      "    Total train reward in one epoch: 1.00000\n",
      "    Test reward: 1.00000\n",
      "    Greedy: 0.00657\n",
      "    Buffer: 7303\n"
     ]
    },
    {
     "name": "stderr",
     "output_type": "stream",
     "text": [
      "epoch 099 avg loss:17.4079 train_total_reward:1.000 test_total_reward:0.000 e-greedy:0.00663:   6%|▋         | 65/1000 [00:23<02:50,  5.49it/s]\n"
     ]
    },
    {
     "name": "stdout",
     "output_type": "stream",
     "text": [
      "    /// Result\n",
      "    Average train error: 17.40789\n",
      "    Avg train reward in one epoch: 0.01538\n",
      "    Avg test reward in one epoch: 0.00000\n",
      "    Total train reward in one epoch: 1.00000\n",
      "    Test reward: 1.00000\n",
      "    Greedy: 0.00663\n",
      "    Buffer: 7368\n"
     ]
    },
    {
     "name": "stderr",
     "output_type": "stream",
     "text": [
      "epoch 100 avg loss:16.8995 train_total_reward:2.000 test_total_reward:3.000 e-greedy:0.00670:   8%|▊         | 79/1000 [00:20<03:26,  4.46it/s]\n"
     ]
    },
    {
     "name": "stdout",
     "output_type": "stream",
     "text": [
      "    /// Result\n",
      "    Average train error: 16.89949\n",
      "    Avg train reward in one epoch: 0.02532\n",
      "    Avg test reward in one epoch: 0.03797\n",
      "    Total train reward in one epoch: 2.00000\n",
      "    Test reward: 2.00000\n",
      "    Greedy: 0.00670\n",
      "    Buffer: 7447\n"
     ]
    },
    {
     "name": "stderr",
     "output_type": "stream",
     "text": [
      "epoch 101 avg loss:13.6452 train_total_reward:0.000 test_total_reward:1.000 e-greedy:0.00675:   5%|▌         | 52/1000 [00:13<03:18,  4.78it/s]\n"
     ]
    },
    {
     "name": "stdout",
     "output_type": "stream",
     "text": [
      "    /// Result\n",
      "    Average train error: 13.64524\n",
      "    Avg train reward in one epoch: 0.00000\n",
      "    Avg test reward in one epoch: 0.01923\n",
      "    Total train reward in one epoch: 0.00000\n",
      "    Test reward: 0.00000\n",
      "    Greedy: 0.00675\n",
      "    Buffer: 7499\n"
     ]
    },
    {
     "name": "stderr",
     "output_type": "stream",
     "text": [
      "epoch 102 avg loss:10.3091 train_total_reward:0.000 test_total_reward:1.000 e-greedy:0.00680:   6%|▌         | 55/1000 [00:19<03:10,  4.97it/s]\n"
     ]
    },
    {
     "name": "stdout",
     "output_type": "stream",
     "text": [
      "    /// Result\n",
      "    Average train error: 10.30908\n",
      "    Avg train reward in one epoch: 0.00000\n",
      "    Avg test reward in one epoch: 0.01818\n",
      "    Total train reward in one epoch: 0.00000\n",
      "    Test reward: 0.00000\n",
      "    Greedy: 0.00680\n",
      "    Buffer: 7554\n"
     ]
    },
    {
     "name": "stderr",
     "output_type": "stream",
     "text": [
      "epoch 103 avg loss:18.7756 train_total_reward:1.000 test_total_reward:1.000 e-greedy:0.00686:   7%|▋         | 67/1000 [00:17<03:11,  4.88it/s]\n"
     ]
    },
    {
     "name": "stdout",
     "output_type": "stream",
     "text": [
      "    /// Result\n",
      "    Average train error: 18.77560\n",
      "    Avg train reward in one epoch: 0.01493\n",
      "    Avg test reward in one epoch: 0.01493\n",
      "    Total train reward in one epoch: 1.00000\n",
      "    Test reward: 1.00000\n",
      "    Greedy: 0.00686\n",
      "    Buffer: 7621\n"
     ]
    },
    {
     "name": "stderr",
     "output_type": "stream",
     "text": [
      "epoch 104 avg loss:14.8853 train_total_reward:2.000 test_total_reward:2.000 e-greedy:0.00693:   8%|▊         | 81/1000 [00:22<03:35,  4.27it/s]\n"
     ]
    },
    {
     "name": "stdout",
     "output_type": "stream",
     "text": [
      "    /// Result\n",
      "    Average train error: 14.88527\n",
      "    Avg train reward in one epoch: 0.02469\n",
      "    Avg test reward in one epoch: 0.02469\n",
      "    Total train reward in one epoch: 2.00000\n",
      "    Test reward: 2.00000\n",
      "    Greedy: 0.00693\n",
      "    Buffer: 7702\n"
     ]
    },
    {
     "name": "stderr",
     "output_type": "stream",
     "text": [
      "epoch 105 avg loss:21.3117 train_total_reward:2.000 test_total_reward:7.000 e-greedy:0.00702:  10%|▉         | 96/1000 [00:28<03:24,  4.42it/s]\n"
     ]
    },
    {
     "name": "stdout",
     "output_type": "stream",
     "text": [
      "    /// Result\n",
      "    Average train error: 21.31175\n",
      "    Avg train reward in one epoch: 0.02083\n",
      "    Avg test reward in one epoch: 0.07292\n",
      "    Total train reward in one epoch: 2.00000\n",
      "    Test reward: 2.00000\n",
      "    Greedy: 0.00702\n",
      "    Buffer: 7798\n"
     ]
    },
    {
     "name": "stderr",
     "output_type": "stream",
     "text": [
      "epoch 106 avg loss:24.4244 train_total_reward:0.000 test_total_reward:2.000 e-greedy:0.00706:   4%|▍         | 45/1000 [00:14<03:45,  4.23it/s]\n"
     ]
    },
    {
     "name": "stdout",
     "output_type": "stream",
     "text": [
      "    /// Result\n",
      "    Average train error: 24.42441\n",
      "    Avg train reward in one epoch: 0.00000\n",
      "    Avg test reward in one epoch: 0.04444\n",
      "    Total train reward in one epoch: 0.00000\n",
      "    Test reward: 0.00000\n",
      "    Greedy: 0.00706\n",
      "    Buffer: 7843\n"
     ]
    },
    {
     "name": "stderr",
     "output_type": "stream",
     "text": [
      "epoch 107 avg loss:20.0146 train_total_reward:3.000 test_total_reward:2.000 e-greedy:0.00715:  10%|█         | 101/1000 [00:25<02:45,  5.45it/s]\n"
     ]
    },
    {
     "name": "stdout",
     "output_type": "stream",
     "text": [
      "    /// Result\n",
      "    Average train error: 20.01457\n",
      "    Avg train reward in one epoch: 0.02970\n",
      "    Avg test reward in one epoch: 0.01980\n",
      "    Total train reward in one epoch: 3.00000\n",
      "    Test reward: 3.00000\n",
      "    Greedy: 0.00715\n",
      "    Buffer: 7944\n"
     ]
    },
    {
     "name": "stderr",
     "output_type": "stream",
     "text": [
      "epoch 108 avg loss:16.4227 train_total_reward:0.000 test_total_reward:0.000 e-greedy:0.00721:   6%|▌         | 62/1000 [00:13<02:48,  5.58it/s]\n"
     ]
    },
    {
     "name": "stdout",
     "output_type": "stream",
     "text": [
      "    /// Result\n",
      "    Average train error: 16.42268\n",
      "    Avg train reward in one epoch: 0.00000\n",
      "    Avg test reward in one epoch: 0.00000\n",
      "    Total train reward in one epoch: 0.00000\n",
      "    Test reward: 0.00000\n",
      "    Greedy: 0.00721\n",
      "    Buffer: 8006\n"
     ]
    },
    {
     "name": "stderr",
     "output_type": "stream",
     "text": [
      "epoch 109 avg loss:17.1643 train_total_reward:4.000 test_total_reward:2.000 e-greedy:0.00729:   9%|▉         | 91/1000 [00:21<02:57,  5.11it/s]\n"
     ]
    },
    {
     "name": "stdout",
     "output_type": "stream",
     "text": [
      "    /// Result\n",
      "    Average train error: 17.16434\n",
      "    Avg train reward in one epoch: 0.04396\n",
      "    Avg test reward in one epoch: 0.02198\n",
      "    Total train reward in one epoch: 4.00000\n",
      "    Test reward: 4.00000\n",
      "    Greedy: 0.00729\n",
      "    Buffer: 8097\n"
     ]
    },
    {
     "name": "stderr",
     "output_type": "stream",
     "text": [
      "epoch 110 avg loss:14.2959 train_total_reward:1.000 test_total_reward:2.000 e-greedy:0.00734:   6%|▋         | 63/1000 [00:14<02:51,  5.48it/s]\n"
     ]
    },
    {
     "name": "stdout",
     "output_type": "stream",
     "text": [
      "    /// Result\n",
      "    Average train error: 14.29586\n",
      "    Avg train reward in one epoch: 0.01587\n",
      "    Avg test reward in one epoch: 0.03175\n",
      "    Total train reward in one epoch: 1.00000\n",
      "    Test reward: 1.00000\n",
      "    Greedy: 0.00734\n",
      "    Buffer: 8160\n"
     ]
    },
    {
     "name": "stderr",
     "output_type": "stream",
     "text": [
      "epoch 111 avg loss:17.5707 train_total_reward:3.000 test_total_reward:2.000 e-greedy:0.00743:  10%|▉         | 97/1000 [00:21<02:46,  5.43it/s]\n"
     ]
    },
    {
     "name": "stdout",
     "output_type": "stream",
     "text": [
      "    /// Result\n",
      "    Average train error: 17.57072\n",
      "    Avg train reward in one epoch: 0.03093\n",
      "    Avg test reward in one epoch: 0.02062\n",
      "    Total train reward in one epoch: 3.00000\n",
      "    Test reward: 3.00000\n",
      "    Greedy: 0.00743\n",
      "    Buffer: 8257\n"
     ]
    },
    {
     "name": "stderr",
     "output_type": "stream",
     "text": [
      "epoch 112 avg loss:16.8184 train_total_reward:1.000 test_total_reward:0.000 e-greedy:0.00750:   7%|▋         | 71/1000 [00:14<02:48,  5.52it/s]\n"
     ]
    },
    {
     "name": "stdout",
     "output_type": "stream",
     "text": [
      "    /// Result\n",
      "    Average train error: 16.81839\n",
      "    Avg train reward in one epoch: 0.01408\n",
      "    Avg test reward in one epoch: 0.00000\n",
      "    Total train reward in one epoch: 1.00000\n",
      "    Test reward: 1.00000\n",
      "    Greedy: 0.00750\n",
      "    Buffer: 8328\n"
     ]
    },
    {
     "name": "stderr",
     "output_type": "stream",
     "text": [
      "epoch 113 avg loss:20.9887 train_total_reward:3.000 test_total_reward:1.000 e-greedy:0.00760:  11%|█▏        | 113/1000 [00:27<02:36,  5.65it/s]\n"
     ]
    },
    {
     "name": "stdout",
     "output_type": "stream",
     "text": [
      "    /// Result\n",
      "    Average train error: 20.98870\n",
      "    Avg train reward in one epoch: 0.02655\n",
      "    Avg test reward in one epoch: 0.00885\n",
      "    Total train reward in one epoch: 3.00000\n",
      "    Test reward: 3.00000\n",
      "    Greedy: 0.00760\n",
      "    Buffer: 8441\n"
     ]
    },
    {
     "name": "stderr",
     "output_type": "stream",
     "text": [
      "epoch 114 avg loss:18.3625 train_total_reward:3.000 test_total_reward:1.000 e-greedy:0.00768:   9%|▉         | 89/1000 [00:20<02:44,  5.54it/s]\n"
     ]
    },
    {
     "name": "stdout",
     "output_type": "stream",
     "text": [
      "    /// Result\n",
      "    Average train error: 18.36246\n",
      "    Avg train reward in one epoch: 0.03371\n",
      "    Avg test reward in one epoch: 0.01124\n",
      "    Total train reward in one epoch: 3.00000\n",
      "    Test reward: 3.00000\n",
      "    Greedy: 0.00768\n",
      "    Buffer: 8530\n"
     ]
    },
    {
     "name": "stderr",
     "output_type": "stream",
     "text": [
      "epoch 115 avg loss:12.9895 train_total_reward:0.000 test_total_reward:2.000 e-greedy:0.00773:   5%|▌         | 54/1000 [00:13<02:48,  5.60it/s]\n"
     ]
    },
    {
     "name": "stdout",
     "output_type": "stream",
     "text": [
      "    /// Result\n",
      "    Average train error: 12.98951\n",
      "    Avg train reward in one epoch: 0.00000\n",
      "    Avg test reward in one epoch: 0.03704\n",
      "    Total train reward in one epoch: 0.00000\n",
      "    Test reward: 0.00000\n",
      "    Greedy: 0.00773\n",
      "    Buffer: 8584\n"
     ]
    },
    {
     "name": "stderr",
     "output_type": "stream",
     "text": [
      "epoch 116 avg loss:26.1108 train_total_reward:1.000 test_total_reward:2.000 e-greedy:0.00779:   7%|▋         | 74/1000 [00:21<02:46,  5.56it/s]\n"
     ]
    },
    {
     "name": "stdout",
     "output_type": "stream",
     "text": [
      "    /// Result\n",
      "    Average train error: 26.11078\n",
      "    Avg train reward in one epoch: 0.01351\n",
      "    Avg test reward in one epoch: 0.02703\n",
      "    Total train reward in one epoch: 1.00000\n",
      "    Test reward: 1.00000\n",
      "    Greedy: 0.00779\n",
      "    Buffer: 8658\n"
     ]
    },
    {
     "name": "stderr",
     "output_type": "stream",
     "text": [
      "epoch 117 avg loss:21.9059 train_total_reward:3.000 test_total_reward:1.000 e-greedy:0.00788:  10%|▉         | 99/1000 [00:20<02:46,  5.43it/s]\n"
     ]
    },
    {
     "name": "stdout",
     "output_type": "stream",
     "text": [
      "    /// Result\n",
      "    Average train error: 21.90590\n",
      "    Avg train reward in one epoch: 0.03030\n",
      "    Avg test reward in one epoch: 0.01010\n",
      "    Total train reward in one epoch: 3.00000\n",
      "    Test reward: 3.00000\n",
      "    Greedy: 0.00788\n",
      "    Buffer: 8757\n"
     ]
    },
    {
     "name": "stderr",
     "output_type": "stream",
     "text": [
      "epoch 118 avg loss:15.9383 train_total_reward:1.000 test_total_reward:3.000 e-greedy:0.00793:   6%|▌         | 59/1000 [00:16<02:51,  5.50it/s]\n"
     ]
    },
    {
     "name": "stdout",
     "output_type": "stream",
     "text": [
      "    /// Result\n",
      "    Average train error: 15.93830\n",
      "    Avg train reward in one epoch: 0.01695\n",
      "    Avg test reward in one epoch: 0.05085\n",
      "    Total train reward in one epoch: 1.00000\n",
      "    Test reward: 1.00000\n",
      "    Greedy: 0.00793\n",
      "    Buffer: 8816\n"
     ]
    },
    {
     "name": "stderr",
     "output_type": "stream",
     "text": [
      "epoch 119 avg loss:17.8214 train_total_reward:2.000 test_total_reward:1.000 e-greedy:0.00802:  10%|▉         | 99/1000 [00:19<02:45,  5.43it/s]\n"
     ]
    },
    {
     "name": "stdout",
     "output_type": "stream",
     "text": [
      "    /// Result\n",
      "    Average train error: 17.82143\n",
      "    Avg train reward in one epoch: 0.02020\n",
      "    Avg test reward in one epoch: 0.01010\n",
      "    Total train reward in one epoch: 2.00000\n",
      "    Test reward: 2.00000\n",
      "    Greedy: 0.00802\n",
      "    Buffer: 8915\n"
     ]
    },
    {
     "name": "stderr",
     "output_type": "stream",
     "text": [
      "epoch 120 avg loss:17.7990 train_total_reward:1.000 test_total_reward:2.000 e-greedy:0.00810:   9%|▊         | 87/1000 [00:20<02:45,  5.51it/s]\n"
     ]
    },
    {
     "name": "stdout",
     "output_type": "stream",
     "text": [
      "    /// Result\n",
      "    Average train error: 17.79897\n",
      "    Avg train reward in one epoch: 0.01149\n",
      "    Avg test reward in one epoch: 0.02299\n",
      "    Total train reward in one epoch: 1.00000\n",
      "    Test reward: 1.00000\n",
      "    Greedy: 0.00810\n",
      "    Buffer: 9002\n"
     ]
    },
    {
     "name": "stderr",
     "output_type": "stream",
     "text": [
      "epoch 121 avg loss:14.6214 train_total_reward:1.000 test_total_reward:3.000 e-greedy:0.00816:   6%|▋         | 65/1000 [00:17<02:52,  5.41it/s]\n"
     ]
    },
    {
     "name": "stdout",
     "output_type": "stream",
     "text": [
      "    /// Result\n",
      "    Average train error: 14.62142\n",
      "    Avg train reward in one epoch: 0.01538\n",
      "    Avg test reward in one epoch: 0.04615\n",
      "    Total train reward in one epoch: 1.00000\n",
      "    Test reward: 1.00000\n",
      "    Greedy: 0.00816\n",
      "    Buffer: 9067\n"
     ]
    },
    {
     "name": "stderr",
     "output_type": "stream",
     "text": [
      "epoch 122 avg loss:19.1350 train_total_reward:2.000 test_total_reward:0.000 e-greedy:0.00823:   8%|▊         | 81/1000 [00:17<02:46,  5.52it/s]\n"
     ]
    },
    {
     "name": "stdout",
     "output_type": "stream",
     "text": [
      "    /// Result\n",
      "    Average train error: 19.13502\n",
      "    Avg train reward in one epoch: 0.02469\n",
      "    Avg test reward in one epoch: 0.00000\n",
      "    Total train reward in one epoch: 2.00000\n",
      "    Test reward: 2.00000\n",
      "    Greedy: 0.00823\n",
      "    Buffer: 9148\n"
     ]
    },
    {
     "name": "stderr",
     "output_type": "stream",
     "text": [
      "epoch 123 avg loss:14.1561 train_total_reward:2.000 test_total_reward:2.000 e-greedy:0.00831:   8%|▊         | 85/1000 [00:19<02:43,  5.58it/s]\n"
     ]
    },
    {
     "name": "stdout",
     "output_type": "stream",
     "text": [
      "    /// Result\n",
      "    Average train error: 14.15612\n",
      "    Avg train reward in one epoch: 0.02353\n",
      "    Avg test reward in one epoch: 0.02353\n",
      "    Total train reward in one epoch: 2.00000\n",
      "    Test reward: 2.00000\n",
      "    Greedy: 0.00831\n",
      "    Buffer: 9233\n"
     ]
    },
    {
     "name": "stderr",
     "output_type": "stream",
     "text": [
      "epoch 124 avg loss:25.8490 train_total_reward:1.000 test_total_reward:2.000 e-greedy:0.00836:   6%|▌         | 57/1000 [00:14<02:50,  5.54it/s]\n"
     ]
    },
    {
     "name": "stdout",
     "output_type": "stream",
     "text": [
      "    /// Result\n",
      "    Average train error: 25.84896\n",
      "    Avg train reward in one epoch: 0.01754\n",
      "    Avg test reward in one epoch: 0.03509\n",
      "    Total train reward in one epoch: 1.00000\n",
      "    Test reward: 1.00000\n",
      "    Greedy: 0.00836\n",
      "    Buffer: 9290\n"
     ]
    },
    {
     "name": "stderr",
     "output_type": "stream",
     "text": [
      "epoch 125 avg loss:23.9747 train_total_reward:1.000 test_total_reward:0.000 e-greedy:0.00841:   5%|▌         | 54/1000 [00:12<03:01,  5.20it/s]\n"
     ]
    },
    {
     "name": "stdout",
     "output_type": "stream",
     "text": [
      "    /// Result\n",
      "    Average train error: 23.97473\n",
      "    Avg train reward in one epoch: 0.01852\n",
      "    Avg test reward in one epoch: 0.00000\n",
      "    Total train reward in one epoch: 1.00000\n",
      "    Test reward: 1.00000\n",
      "    Greedy: 0.00841\n",
      "    Buffer: 9344\n"
     ]
    },
    {
     "name": "stderr",
     "output_type": "stream",
     "text": [
      "epoch 126 avg loss:20.2088 train_total_reward:2.000 test_total_reward:1.000 e-greedy:0.00848:   8%|▊         | 81/1000 [00:19<02:48,  5.46it/s]\n"
     ]
    },
    {
     "name": "stdout",
     "output_type": "stream",
     "text": [
      "    /// Result\n",
      "    Average train error: 20.20876\n",
      "    Avg train reward in one epoch: 0.02469\n",
      "    Avg test reward in one epoch: 0.01235\n",
      "    Total train reward in one epoch: 2.00000\n",
      "    Test reward: 2.00000\n",
      "    Greedy: 0.00848\n",
      "    Buffer: 9425\n"
     ]
    },
    {
     "name": "stderr",
     "output_type": "stream",
     "text": [
      "epoch 127 avg loss:14.7782 train_total_reward:1.000 test_total_reward:1.000 e-greedy:0.00855:   7%|▋         | 72/1000 [00:17<02:49,  5.48it/s]\n"
     ]
    },
    {
     "name": "stdout",
     "output_type": "stream",
     "text": [
      "    /// Result\n",
      "    Average train error: 14.77823\n",
      "    Avg train reward in one epoch: 0.01389\n",
      "    Avg test reward in one epoch: 0.01389\n",
      "    Total train reward in one epoch: 1.00000\n",
      "    Test reward: 1.00000\n",
      "    Greedy: 0.00855\n",
      "    Buffer: 9497\n"
     ]
    },
    {
     "name": "stderr",
     "output_type": "stream",
     "text": [
      "epoch 128 avg loss:17.6276 train_total_reward:0.000 test_total_reward:0.000 e-greedy:0.00859:   5%|▌         | 53/1000 [00:14<02:53,  5.47it/s]\n"
     ]
    },
    {
     "name": "stdout",
     "output_type": "stream",
     "text": [
      "    /// Result\n",
      "    Average train error: 17.62762\n",
      "    Avg train reward in one epoch: 0.00000\n",
      "    Avg test reward in one epoch: 0.00000\n",
      "    Total train reward in one epoch: 0.00000\n",
      "    Test reward: 0.00000\n",
      "    Greedy: 0.00859\n",
      "    Buffer: 9550\n"
     ]
    },
    {
     "name": "stderr",
     "output_type": "stream",
     "text": [
      "epoch 129 avg loss:16.6647 train_total_reward:7.000 test_total_reward:1.000 e-greedy:0.00872:  14%|█▍        | 138/1000 [00:28<02:35,  5.53it/s]\n"
     ]
    },
    {
     "name": "stdout",
     "output_type": "stream",
     "text": [
      "    /// Result\n",
      "    Average train error: 16.66470\n",
      "    Avg train reward in one epoch: 0.05072\n",
      "    Avg test reward in one epoch: 0.00725\n",
      "    Total train reward in one epoch: 7.00000\n",
      "    Test reward: 7.00000\n",
      "    Greedy: 0.00872\n",
      "    Buffer: 9688\n"
     ]
    },
    {
     "name": "stderr",
     "output_type": "stream",
     "text": [
      "epoch 130 avg loss:16.0983 train_total_reward:0.000 test_total_reward:3.000 e-greedy:0.00877:   6%|▌         | 59/1000 [00:12<02:49,  5.55it/s]\n"
     ]
    },
    {
     "name": "stdout",
     "output_type": "stream",
     "text": [
      "    /// Result\n",
      "    Average train error: 16.09830\n",
      "    Avg train reward in one epoch: 0.00000\n",
      "    Avg test reward in one epoch: 0.05085\n",
      "    Total train reward in one epoch: 0.00000\n",
      "    Test reward: 0.00000\n",
      "    Greedy: 0.00877\n",
      "    Buffer: 9747\n"
     ]
    },
    {
     "name": "stderr",
     "output_type": "stream",
     "text": [
      "epoch 131 avg loss:17.9373 train_total_reward:4.000 test_total_reward:2.000 e-greedy:0.00887:  10%|█         | 105/1000 [00:21<02:43,  5.48it/s]\n"
     ]
    },
    {
     "name": "stdout",
     "output_type": "stream",
     "text": [
      "    /// Result\n",
      "    Average train error: 17.93726\n",
      "    Avg train reward in one epoch: 0.03810\n",
      "    Avg test reward in one epoch: 0.01905\n",
      "    Total train reward in one epoch: 4.00000\n",
      "    Test reward: 4.00000\n",
      "    Greedy: 0.00887\n",
      "    Buffer: 9852\n"
     ]
    },
    {
     "name": "stderr",
     "output_type": "stream",
     "text": [
      "epoch 132 avg loss:6.7748 train_total_reward:0.000 test_total_reward:1.000 e-greedy:0.00891:   5%|▌         | 52/1000 [00:11<02:51,  5.53it/s]\n"
     ]
    },
    {
     "name": "stdout",
     "output_type": "stream",
     "text": [
      "    /// Result\n",
      "    Average train error: 6.77475\n",
      "    Avg train reward in one epoch: 0.00000\n",
      "    Avg test reward in one epoch: 0.01923\n",
      "    Total train reward in one epoch: 0.00000\n",
      "    Test reward: 0.00000\n",
      "    Greedy: 0.00891\n",
      "    Buffer: 9904\n"
     ]
    },
    {
     "name": "stderr",
     "output_type": "stream",
     "text": [
      "epoch 133 avg loss:26.3686 train_total_reward:3.000 test_total_reward:1.000 e-greedy:0.00899:   8%|▊         | 81/1000 [00:19<02:41,  5.68it/s]\n"
     ]
    },
    {
     "name": "stdout",
     "output_type": "stream",
     "text": [
      "    /// Result\n",
      "    Average train error: 26.36861\n",
      "    Avg train reward in one epoch: 0.03704\n",
      "    Avg test reward in one epoch: 0.01235\n",
      "    Total train reward in one epoch: 3.00000\n",
      "    Test reward: 3.00000\n",
      "    Greedy: 0.00899\n",
      "    Buffer: 9985\n"
     ]
    },
    {
     "name": "stderr",
     "output_type": "stream",
     "text": [
      "epoch 134 avg loss:108.1102 train_total_reward:1.000 test_total_reward:1.000 e-greedy:0.00906:   8%|▊         | 80/1000 [00:17<02:45,  5.55it/s]\n"
     ]
    },
    {
     "name": "stdout",
     "output_type": "stream",
     "text": [
      "    /// Result\n",
      "    Average train error: 108.11016\n",
      "    Avg train reward in one epoch: 0.01250\n",
      "    Avg test reward in one epoch: 0.01250\n",
      "    Total train reward in one epoch: 1.00000\n",
      "    Test reward: 1.00000\n",
      "    Greedy: 0.00906\n",
      "    Buffer: 10065\n"
     ]
    },
    {
     "name": "stderr",
     "output_type": "stream",
     "text": [
      "epoch 135 avg loss:15.9804 train_total_reward:0.000 test_total_reward:1.000 e-greedy:0.00910:   5%|▍         | 47/1000 [00:11<02:54,  5.45it/s]\n"
     ]
    },
    {
     "name": "stdout",
     "output_type": "stream",
     "text": [
      "    /// Result\n",
      "    Average train error: 15.98039\n",
      "    Avg train reward in one epoch: 0.00000\n",
      "    Avg test reward in one epoch: 0.02128\n",
      "    Total train reward in one epoch: 0.00000\n",
      "    Test reward: 0.00000\n",
      "    Greedy: 0.00910\n",
      "    Buffer: 10112\n"
     ]
    },
    {
     "name": "stderr",
     "output_type": "stream",
     "text": [
      "epoch 136 avg loss:20.7398 train_total_reward:2.000 test_total_reward:1.000 e-greedy:0.00916:   6%|▋         | 63/1000 [00:15<02:50,  5.50it/s]\n"
     ]
    },
    {
     "name": "stdout",
     "output_type": "stream",
     "text": [
      "    /// Result\n",
      "    Average train error: 20.73979\n",
      "    Avg train reward in one epoch: 0.03175\n",
      "    Avg test reward in one epoch: 0.01587\n",
      "    Total train reward in one epoch: 2.00000\n",
      "    Test reward: 2.00000\n",
      "    Greedy: 0.00916\n",
      "    Buffer: 10175\n"
     ]
    },
    {
     "name": "stderr",
     "output_type": "stream",
     "text": [
      "epoch 137 avg loss:23.9390 train_total_reward:3.000 test_total_reward:3.000 e-greedy:0.00923:   9%|▊         | 86/1000 [00:18<02:48,  5.42it/s]\n"
     ]
    },
    {
     "name": "stdout",
     "output_type": "stream",
     "text": [
      "    /// Result\n",
      "    Average train error: 23.93905\n",
      "    Avg train reward in one epoch: 0.03488\n",
      "    Avg test reward in one epoch: 0.03488\n",
      "    Total train reward in one epoch: 3.00000\n",
      "    Test reward: 3.00000\n",
      "    Greedy: 0.00923\n",
      "    Buffer: 10261\n"
     ]
    },
    {
     "name": "stderr",
     "output_type": "stream",
     "text": [
      "epoch 138 avg loss:18.9736 train_total_reward:0.000 test_total_reward:0.000 e-greedy:0.00928:   5%|▍         | 49/1000 [00:14<02:53,  5.47it/s]\n"
     ]
    },
    {
     "name": "stdout",
     "output_type": "stream",
     "text": [
      "    /// Result\n",
      "    Average train error: 18.97362\n",
      "    Avg train reward in one epoch: 0.00000\n",
      "    Avg test reward in one epoch: 0.00000\n",
      "    Total train reward in one epoch: 0.00000\n",
      "    Test reward: 0.00000\n",
      "    Greedy: 0.00928\n",
      "    Buffer: 10310\n"
     ]
    },
    {
     "name": "stderr",
     "output_type": "stream",
     "text": [
      "epoch 139 avg loss:15.0940 train_total_reward:3.000 test_total_reward:0.000 e-greedy:0.00936:   9%|▉         | 94/1000 [00:22<02:45,  5.47it/s]\n"
     ]
    },
    {
     "name": "stdout",
     "output_type": "stream",
     "text": [
      "    /// Result\n",
      "    Average train error: 15.09398\n",
      "    Avg train reward in one epoch: 0.03191\n",
      "    Avg test reward in one epoch: 0.00000\n",
      "    Total train reward in one epoch: 3.00000\n",
      "    Test reward: 3.00000\n",
      "    Greedy: 0.00936\n",
      "    Buffer: 10404\n"
     ]
    },
    {
     "name": "stderr",
     "output_type": "stream",
     "text": [
      "epoch 140 avg loss:22.5119 train_total_reward:5.000 test_total_reward:2.000 e-greedy:0.00948:  12%|█▏        | 124/1000 [00:26<02:41,  5.41it/s]\n"
     ]
    },
    {
     "name": "stdout",
     "output_type": "stream",
     "text": [
      "    /// Result\n",
      "    Average train error: 22.51186\n",
      "    Avg train reward in one epoch: 0.04032\n",
      "    Avg test reward in one epoch: 0.01613\n",
      "    Total train reward in one epoch: 5.00000\n",
      "    Test reward: 5.00000\n",
      "    Greedy: 0.00948\n",
      "    Buffer: 10528\n"
     ]
    },
    {
     "name": "stderr",
     "output_type": "stream",
     "text": [
      "epoch 141 avg loss:20.0206 train_total_reward:3.000 test_total_reward:3.000 e-greedy:0.00956:  10%|▉         | 98/1000 [00:23<02:43,  5.52it/s]\n"
     ]
    },
    {
     "name": "stdout",
     "output_type": "stream",
     "text": [
      "    /// Result\n",
      "    Average train error: 20.02057\n",
      "    Avg train reward in one epoch: 0.03061\n",
      "    Avg test reward in one epoch: 0.03061\n",
      "    Total train reward in one epoch: 3.00000\n",
      "    Test reward: 3.00000\n",
      "    Greedy: 0.00956\n",
      "    Buffer: 10626\n"
     ]
    },
    {
     "name": "stderr",
     "output_type": "stream",
     "text": [
      "epoch 142 avg loss:17.7958 train_total_reward:2.000 test_total_reward:1.000 e-greedy:0.00963:   7%|▋         | 73/1000 [00:17<02:48,  5.51it/s]\n"
     ]
    },
    {
     "name": "stdout",
     "output_type": "stream",
     "text": [
      "    /// Result\n",
      "    Average train error: 17.79581\n",
      "    Avg train reward in one epoch: 0.02740\n",
      "    Avg test reward in one epoch: 0.01370\n",
      "    Total train reward in one epoch: 2.00000\n",
      "    Test reward: 2.00000\n",
      "    Greedy: 0.00963\n",
      "    Buffer: 10699\n"
     ]
    },
    {
     "name": "stderr",
     "output_type": "stream",
     "text": [
      "epoch 143 avg loss:22.3727 train_total_reward:2.000 test_total_reward:2.000 e-greedy:0.00971:   9%|▉         | 90/1000 [00:18<02:45,  5.49it/s]\n"
     ]
    },
    {
     "name": "stdout",
     "output_type": "stream",
     "text": [
      "    /// Result\n",
      "    Average train error: 22.37270\n",
      "    Avg train reward in one epoch: 0.02222\n",
      "    Avg test reward in one epoch: 0.02222\n",
      "    Total train reward in one epoch: 2.00000\n",
      "    Test reward: 2.00000\n",
      "    Greedy: 0.00971\n",
      "    Buffer: 10789\n"
     ]
    },
    {
     "name": "stderr",
     "output_type": "stream",
     "text": [
      "epoch 144 avg loss:19.3532 train_total_reward:3.000 test_total_reward:2.000 e-greedy:0.00980:  10%|▉         | 98/1000 [00:24<02:43,  5.53it/s]\n"
     ]
    },
    {
     "name": "stdout",
     "output_type": "stream",
     "text": [
      "    /// Result\n",
      "    Average train error: 19.35322\n",
      "    Avg train reward in one epoch: 0.03061\n",
      "    Avg test reward in one epoch: 0.02041\n",
      "    Total train reward in one epoch: 3.00000\n",
      "    Test reward: 3.00000\n",
      "    Greedy: 0.00980\n",
      "    Buffer: 10887\n"
     ]
    },
    {
     "name": "stderr",
     "output_type": "stream",
     "text": [
      "epoch 145 avg loss:13.7941 train_total_reward:0.000 test_total_reward:1.000 e-greedy:0.00985:   5%|▌         | 52/1000 [00:11<02:50,  5.54it/s]\n"
     ]
    },
    {
     "name": "stdout",
     "output_type": "stream",
     "text": [
      "    /// Result\n",
      "    Average train error: 13.79410\n",
      "    Avg train reward in one epoch: 0.00000\n",
      "    Avg test reward in one epoch: 0.01923\n",
      "    Total train reward in one epoch: 0.00000\n",
      "    Test reward: 0.00000\n",
      "    Greedy: 0.00985\n",
      "    Buffer: 10939\n"
     ]
    },
    {
     "name": "stderr",
     "output_type": "stream",
     "text": [
      "epoch 146 avg loss:19.6512 train_total_reward:1.000 test_total_reward:0.000 e-greedy:0.00990:   6%|▌         | 59/1000 [00:13<02:52,  5.46it/s]\n"
     ]
    },
    {
     "name": "stdout",
     "output_type": "stream",
     "text": [
      "    /// Result\n",
      "    Average train error: 19.65120\n",
      "    Avg train reward in one epoch: 0.01695\n",
      "    Avg test reward in one epoch: 0.00000\n",
      "    Total train reward in one epoch: 1.00000\n",
      "    Test reward: 1.00000\n",
      "    Greedy: 0.00990\n",
      "    Buffer: 10998\n"
     ]
    },
    {
     "name": "stderr",
     "output_type": "stream",
     "text": [
      "epoch 147 avg loss:21.6025 train_total_reward:4.000 test_total_reward:0.000 e-greedy:0.00998:   9%|▉         | 91/1000 [00:20<02:47,  5.44it/s]\n"
     ]
    },
    {
     "name": "stdout",
     "output_type": "stream",
     "text": [
      "    /// Result\n",
      "    Average train error: 21.60250\n",
      "    Avg train reward in one epoch: 0.04396\n",
      "    Avg test reward in one epoch: 0.00000\n",
      "    Total train reward in one epoch: 4.00000\n",
      "    Test reward: 4.00000\n",
      "    Greedy: 0.00998\n",
      "    Buffer: 11089\n"
     ]
    },
    {
     "name": "stderr",
     "output_type": "stream",
     "text": [
      "epoch 148 avg loss:16.7175 train_total_reward:0.000 test_total_reward:1.000 e-greedy:0.01002:   5%|▍         | 47/1000 [00:11<02:45,  5.75it/s]\n"
     ]
    },
    {
     "name": "stdout",
     "output_type": "stream",
     "text": [
      "    /// Result\n",
      "    Average train error: 16.71750\n",
      "    Avg train reward in one epoch: 0.00000\n",
      "    Avg test reward in one epoch: 0.02128\n",
      "    Total train reward in one epoch: 0.00000\n",
      "    Test reward: 0.00000\n",
      "    Greedy: 0.01002\n",
      "    Buffer: 11136\n"
     ]
    },
    {
     "name": "stderr",
     "output_type": "stream",
     "text": [
      "epoch 149 avg loss:23.1339 train_total_reward:3.000 test_total_reward:0.000 e-greedy:0.01011:  10%|█         | 102/1000 [00:23<02:42,  5.51it/s]\n"
     ]
    },
    {
     "name": "stdout",
     "output_type": "stream",
     "text": [
      "    /// Result\n",
      "    Average train error: 23.13386\n",
      "    Avg train reward in one epoch: 0.02941\n",
      "    Avg test reward in one epoch: 0.00000\n",
      "    Total train reward in one epoch: 3.00000\n",
      "    Test reward: 3.00000\n",
      "    Greedy: 0.01011\n",
      "    Buffer: 11238\n"
     ]
    },
    {
     "name": "stderr",
     "output_type": "stream",
     "text": [
      "epoch 150 avg loss:14.9236 train_total_reward:0.000 test_total_reward:2.000 e-greedy:0.01016:   5%|▍         | 48/1000 [00:13<02:56,  5.40it/s]\n"
     ]
    },
    {
     "name": "stdout",
     "output_type": "stream",
     "text": [
      "    /// Result\n",
      "    Average train error: 14.92362\n",
      "    Avg train reward in one epoch: 0.00000\n",
      "    Avg test reward in one epoch: 0.04167\n",
      "    Total train reward in one epoch: 0.00000\n",
      "    Test reward: 0.00000\n",
      "    Greedy: 0.01016\n",
      "    Buffer: 11286\n"
     ]
    },
    {
     "name": "stderr",
     "output_type": "stream",
     "text": [
      "epoch 151 avg loss:18.2281 train_total_reward:1.000 test_total_reward:0.000 e-greedy:0.01023:   8%|▊         | 76/1000 [00:17<02:50,  5.43it/s]\n"
     ]
    },
    {
     "name": "stdout",
     "output_type": "stream",
     "text": [
      "    /// Result\n",
      "    Average train error: 18.22805\n",
      "    Avg train reward in one epoch: 0.01316\n",
      "    Avg test reward in one epoch: 0.00000\n",
      "    Total train reward in one epoch: 1.00000\n",
      "    Test reward: 1.00000\n",
      "    Greedy: 0.01023\n",
      "    Buffer: 11362\n"
     ]
    },
    {
     "name": "stderr",
     "output_type": "stream",
     "text": [
      "epoch 152 avg loss:19.5183 train_total_reward:2.000 test_total_reward:0.000 e-greedy:0.01031:   9%|▉         | 91/1000 [00:19<02:44,  5.54it/s]\n"
     ]
    },
    {
     "name": "stdout",
     "output_type": "stream",
     "text": [
      "    /// Result\n",
      "    Average train error: 19.51827\n",
      "    Avg train reward in one epoch: 0.02198\n",
      "    Avg test reward in one epoch: 0.00000\n",
      "    Total train reward in one epoch: 2.00000\n",
      "    Test reward: 2.00000\n",
      "    Greedy: 0.01031\n",
      "    Buffer: 11453\n"
     ]
    },
    {
     "name": "stderr",
     "output_type": "stream",
     "text": [
      "epoch 153 avg loss:20.5970 train_total_reward:1.000 test_total_reward:2.000 e-greedy:0.01037:   7%|▋         | 66/1000 [00:16<02:44,  5.66it/s]\n"
     ]
    },
    {
     "name": "stdout",
     "output_type": "stream",
     "text": [
      "    /// Result\n",
      "    Average train error: 20.59702\n",
      "    Avg train reward in one epoch: 0.01515\n",
      "    Avg test reward in one epoch: 0.03030\n",
      "    Total train reward in one epoch: 1.00000\n",
      "    Test reward: 1.00000\n",
      "    Greedy: 0.01037\n",
      "    Buffer: 11519\n"
     ]
    },
    {
     "name": "stderr",
     "output_type": "stream",
     "text": [
      "epoch 154 avg loss:16.7643 train_total_reward:2.000 test_total_reward:0.000 e-greedy:0.01045:  10%|▉         | 96/1000 [00:20<02:45,  5.46it/s]\n"
     ]
    },
    {
     "name": "stdout",
     "output_type": "stream",
     "text": [
      "    /// Result\n",
      "    Average train error: 16.76429\n",
      "    Avg train reward in one epoch: 0.02083\n",
      "    Avg test reward in one epoch: 0.00000\n",
      "    Total train reward in one epoch: 2.00000\n",
      "    Test reward: 2.00000\n",
      "    Greedy: 0.01045\n",
      "    Buffer: 11615\n"
     ]
    },
    {
     "name": "stderr",
     "output_type": "stream",
     "text": [
      "epoch 155 avg loss:19.4492 train_total_reward:1.000 test_total_reward:3.000 e-greedy:0.01051:   6%|▋         | 64/1000 [00:14<02:53,  5.39it/s]\n"
     ]
    },
    {
     "name": "stdout",
     "output_type": "stream",
     "text": [
      "    /// Result\n",
      "    Average train error: 19.44919\n",
      "    Avg train reward in one epoch: 0.01562\n",
      "    Avg test reward in one epoch: 0.04688\n",
      "    Total train reward in one epoch: 1.00000\n",
      "    Test reward: 1.00000\n",
      "    Greedy: 0.01051\n",
      "    Buffer: 11679\n"
     ]
    },
    {
     "name": "stderr",
     "output_type": "stream",
     "text": [
      "epoch 156 avg loss:15.6402 train_total_reward:0.000 test_total_reward:0.000 e-greedy:0.01056:   6%|▌         | 56/1000 [00:12<02:51,  5.51it/s]\n"
     ]
    },
    {
     "name": "stdout",
     "output_type": "stream",
     "text": [
      "    /// Result\n",
      "    Average train error: 15.64020\n",
      "    Avg train reward in one epoch: 0.00000\n",
      "    Avg test reward in one epoch: 0.00000\n",
      "    Total train reward in one epoch: 0.00000\n",
      "    Test reward: 0.00000\n",
      "    Greedy: 0.01056\n",
      "    Buffer: 11735\n"
     ]
    },
    {
     "name": "stderr",
     "output_type": "stream",
     "text": [
      "epoch 157 avg loss:20.3116 train_total_reward:3.000 test_total_reward:1.000 e-greedy:0.01068:  13%|█▎        | 130/1000 [00:25<02:40,  5.43it/s]\n"
     ]
    },
    {
     "name": "stdout",
     "output_type": "stream",
     "text": [
      "    /// Result\n",
      "    Average train error: 20.31160\n",
      "    Avg train reward in one epoch: 0.02308\n",
      "    Avg test reward in one epoch: 0.00769\n",
      "    Total train reward in one epoch: 3.00000\n",
      "    Test reward: 3.00000\n",
      "    Greedy: 0.01068\n",
      "    Buffer: 11865\n"
     ]
    },
    {
     "name": "stderr",
     "output_type": "stream",
     "text": [
      "epoch 158 avg loss:21.2458 train_total_reward:4.000 test_total_reward:2.000 e-greedy:0.01077:  10%|█         | 101/1000 [00:21<02:44,  5.46it/s]\n"
     ]
    },
    {
     "name": "stdout",
     "output_type": "stream",
     "text": [
      "    /// Result\n",
      "    Average train error: 21.24577\n",
      "    Avg train reward in one epoch: 0.03960\n",
      "    Avg test reward in one epoch: 0.01980\n",
      "    Total train reward in one epoch: 4.00000\n",
      "    Test reward: 4.00000\n",
      "    Greedy: 0.01077\n",
      "    Buffer: 11966\n"
     ]
    },
    {
     "name": "stderr",
     "output_type": "stream",
     "text": [
      "epoch 159 avg loss:21.9278 train_total_reward:2.000 test_total_reward:0.000 e-greedy:0.01083:   7%|▋         | 68/1000 [00:16<02:53,  5.37it/s]\n"
     ]
    },
    {
     "name": "stdout",
     "output_type": "stream",
     "text": [
      "    /// Result\n",
      "    Average train error: 21.92784\n",
      "    Avg train reward in one epoch: 0.02941\n",
      "    Avg test reward in one epoch: 0.00000\n",
      "    Total train reward in one epoch: 2.00000\n",
      "    Test reward: 2.00000\n",
      "    Greedy: 0.01083\n",
      "    Buffer: 12034\n"
     ]
    },
    {
     "name": "stderr",
     "output_type": "stream",
     "text": [
      "epoch 160 avg loss:17.1262 train_total_reward:1.000 test_total_reward:7.000 e-greedy:0.01089:   6%|▋         | 64/1000 [00:15<02:51,  5.45it/s]\n"
     ]
    },
    {
     "name": "stdout",
     "output_type": "stream",
     "text": [
      "    /// Result\n",
      "    Average train error: 17.12617\n",
      "    Avg train reward in one epoch: 0.01562\n",
      "    Avg test reward in one epoch: 0.10938\n",
      "    Total train reward in one epoch: 1.00000\n",
      "    Test reward: 1.00000\n",
      "    Greedy: 0.01089\n",
      "    Buffer: 12098\n"
     ]
    },
    {
     "name": "stderr",
     "output_type": "stream",
     "text": [
      "epoch 161 avg loss:16.1675 train_total_reward:0.000 test_total_reward:1.000 e-greedy:0.01093:   5%|▌         | 52/1000 [00:10<02:55,  5.41it/s]\n"
     ]
    },
    {
     "name": "stdout",
     "output_type": "stream",
     "text": [
      "    /// Result\n",
      "    Average train error: 16.16754\n",
      "    Avg train reward in one epoch: 0.00000\n",
      "    Avg test reward in one epoch: 0.01923\n",
      "    Total train reward in one epoch: 0.00000\n",
      "    Test reward: 0.00000\n",
      "    Greedy: 0.01093\n",
      "    Buffer: 12150\n"
     ]
    },
    {
     "name": "stderr",
     "output_type": "stream",
     "text": [
      "epoch 162 avg loss:14.3855 train_total_reward:2.000 test_total_reward:0.000 e-greedy:0.01102:  10%|▉         | 95/1000 [00:21<02:47,  5.40it/s]\n"
     ]
    },
    {
     "name": "stdout",
     "output_type": "stream",
     "text": [
      "    /// Result\n",
      "    Average train error: 14.38553\n",
      "    Avg train reward in one epoch: 0.02105\n",
      "    Avg test reward in one epoch: 0.00000\n",
      "    Total train reward in one epoch: 2.00000\n",
      "    Test reward: 2.00000\n",
      "    Greedy: 0.01102\n",
      "    Buffer: 12245\n"
     ]
    },
    {
     "name": "stderr",
     "output_type": "stream",
     "text": [
      "epoch 163 avg loss:20.7013 train_total_reward:1.000 test_total_reward:2.000 e-greedy:0.01107:   6%|▌         | 57/1000 [00:13<02:52,  5.45it/s]\n"
     ]
    },
    {
     "name": "stdout",
     "output_type": "stream",
     "text": [
      "    /// Result\n",
      "    Average train error: 20.70127\n",
      "    Avg train reward in one epoch: 0.01754\n",
      "    Avg test reward in one epoch: 0.03509\n",
      "    Total train reward in one epoch: 1.00000\n",
      "    Test reward: 1.00000\n",
      "    Greedy: 0.01107\n",
      "    Buffer: 12302\n"
     ]
    },
    {
     "name": "stderr",
     "output_type": "stream",
     "text": [
      "epoch 164 avg loss:13.1097 train_total_reward:3.000 test_total_reward:1.000 e-greedy:0.01115:   9%|▉         | 91/1000 [00:19<02:49,  5.35it/s]\n"
     ]
    },
    {
     "name": "stdout",
     "output_type": "stream",
     "text": [
      "    /// Result\n",
      "    Average train error: 13.10972\n",
      "    Avg train reward in one epoch: 0.03297\n",
      "    Avg test reward in one epoch: 0.01099\n",
      "    Total train reward in one epoch: 3.00000\n",
      "    Test reward: 3.00000\n",
      "    Greedy: 0.01115\n",
      "    Buffer: 12393\n"
     ]
    },
    {
     "name": "stderr",
     "output_type": "stream",
     "text": [
      "epoch 165 avg loss:16.7255 train_total_reward:3.000 test_total_reward:1.000 e-greedy:0.01124:   9%|▉         | 93/1000 [00:20<02:43,  5.53it/s]\n"
     ]
    },
    {
     "name": "stdout",
     "output_type": "stream",
     "text": [
      "    /// Result\n",
      "    Average train error: 16.72552\n",
      "    Avg train reward in one epoch: 0.03226\n",
      "    Avg test reward in one epoch: 0.01075\n",
      "    Total train reward in one epoch: 3.00000\n",
      "    Test reward: 3.00000\n",
      "    Greedy: 0.01124\n",
      "    Buffer: 12486\n"
     ]
    },
    {
     "name": "stderr",
     "output_type": "stream",
     "text": [
      "epoch 166 avg loss:21.0747 train_total_reward:3.000 test_total_reward:2.000 e-greedy:0.01134:  11%|█         | 110/1000 [00:22<02:46,  5.33it/s]\n"
     ]
    },
    {
     "name": "stdout",
     "output_type": "stream",
     "text": [
      "    /// Result\n",
      "    Average train error: 21.07471\n",
      "    Avg train reward in one epoch: 0.02727\n",
      "    Avg test reward in one epoch: 0.01818\n",
      "    Total train reward in one epoch: 3.00000\n",
      "    Test reward: 3.00000\n",
      "    Greedy: 0.01134\n",
      "    Buffer: 12596\n"
     ]
    },
    {
     "name": "stderr",
     "output_type": "stream",
     "text": [
      "epoch 167 avg loss:21.8423 train_total_reward:2.000 test_total_reward:0.000 e-greedy:0.01141:   8%|▊         | 78/1000 [00:16<02:51,  5.39it/s]\n"
     ]
    },
    {
     "name": "stdout",
     "output_type": "stream",
     "text": [
      "    /// Result\n",
      "    Average train error: 21.84232\n",
      "    Avg train reward in one epoch: 0.02564\n",
      "    Avg test reward in one epoch: 0.00000\n",
      "    Total train reward in one epoch: 2.00000\n",
      "    Test reward: 2.00000\n",
      "    Greedy: 0.01141\n",
      "    Buffer: 12674\n"
     ]
    },
    {
     "name": "stderr",
     "output_type": "stream",
     "text": [
      "epoch 168 avg loss:15.3938 train_total_reward:2.000 test_total_reward:2.000 e-greedy:0.01149:   9%|▉         | 91/1000 [00:22<02:49,  5.36it/s]\n"
     ]
    },
    {
     "name": "stdout",
     "output_type": "stream",
     "text": [
      "    /// Result\n",
      "    Average train error: 15.39384\n",
      "    Avg train reward in one epoch: 0.02198\n",
      "    Avg test reward in one epoch: 0.02198\n",
      "    Total train reward in one epoch: 2.00000\n",
      "    Test reward: 2.00000\n",
      "    Greedy: 0.01149\n",
      "    Buffer: 12765\n"
     ]
    },
    {
     "name": "stderr",
     "output_type": "stream",
     "text": [
      "epoch 169 avg loss:14.9857 train_total_reward:0.000 test_total_reward:4.000 e-greedy:0.01154:   5%|▌         | 53/1000 [00:14<02:56,  5.37it/s]\n"
     ]
    },
    {
     "name": "stdout",
     "output_type": "stream",
     "text": [
      "    /// Result\n",
      "    Average train error: 14.98567\n",
      "    Avg train reward in one epoch: 0.00000\n",
      "    Avg test reward in one epoch: 0.07547\n",
      "    Total train reward in one epoch: 0.00000\n",
      "    Test reward: 0.00000\n",
      "    Greedy: 0.01154\n",
      "    Buffer: 12818\n"
     ]
    },
    {
     "name": "stderr",
     "output_type": "stream",
     "text": [
      "epoch 170 avg loss:24.6735 train_total_reward:0.000 test_total_reward:2.000 e-greedy:0.01159:   6%|▌         | 61/1000 [00:15<02:54,  5.37it/s]\n"
     ]
    },
    {
     "name": "stdout",
     "output_type": "stream",
     "text": [
      "    /// Result\n",
      "    Average train error: 24.67355\n",
      "    Avg train reward in one epoch: 0.00000\n",
      "    Avg test reward in one epoch: 0.03279\n",
      "    Total train reward in one epoch: 0.00000\n",
      "    Test reward: 0.00000\n",
      "    Greedy: 0.01159\n",
      "    Buffer: 12879\n"
     ]
    },
    {
     "name": "stderr",
     "output_type": "stream",
     "text": [
      "epoch 171 avg loss:22.8739 train_total_reward:2.000 test_total_reward:0.000 e-greedy:0.01167:   8%|▊         | 85/1000 [00:18<02:48,  5.43it/s]\n"
     ]
    },
    {
     "name": "stdout",
     "output_type": "stream",
     "text": [
      "    /// Result\n",
      "    Average train error: 22.87393\n",
      "    Avg train reward in one epoch: 0.02353\n",
      "    Avg test reward in one epoch: 0.00000\n",
      "    Total train reward in one epoch: 2.00000\n",
      "    Test reward: 2.00000\n",
      "    Greedy: 0.01167\n",
      "    Buffer: 12964\n"
     ]
    },
    {
     "name": "stderr",
     "output_type": "stream",
     "text": [
      "epoch 172 avg loss:19.5945 train_total_reward:1.000 test_total_reward:0.000 e-greedy:0.01173:   6%|▋         | 65/1000 [00:16<02:51,  5.44it/s]\n"
     ]
    },
    {
     "name": "stdout",
     "output_type": "stream",
     "text": [
      "    /// Result\n",
      "    Average train error: 19.59446\n",
      "    Avg train reward in one epoch: 0.01538\n",
      "    Avg test reward in one epoch: 0.00000\n",
      "    Total train reward in one epoch: 1.00000\n",
      "    Test reward: 1.00000\n",
      "    Greedy: 0.01173\n",
      "    Buffer: 13029\n"
     ]
    },
    {
     "name": "stderr",
     "output_type": "stream",
     "text": [
      "epoch 173 avg loss:21.4340 train_total_reward:1.000 test_total_reward:0.000 e-greedy:0.01178:   6%|▌         | 62/1000 [00:14<02:55,  5.35it/s]\n"
     ]
    },
    {
     "name": "stdout",
     "output_type": "stream",
     "text": [
      "    /// Result\n",
      "    Average train error: 21.43404\n",
      "    Avg train reward in one epoch: 0.01613\n",
      "    Avg test reward in one epoch: 0.00000\n",
      "    Total train reward in one epoch: 1.00000\n",
      "    Test reward: 1.00000\n",
      "    Greedy: 0.01178\n",
      "    Buffer: 13091\n"
     ]
    },
    {
     "name": "stderr",
     "output_type": "stream",
     "text": [
      "epoch 174 avg loss:13.6577 train_total_reward:0.000 test_total_reward:3.000 e-greedy:0.01184:   6%|▌         | 62/1000 [00:16<02:55,  5.33it/s]\n"
     ]
    },
    {
     "name": "stdout",
     "output_type": "stream",
     "text": [
      "    /// Result\n",
      "    Average train error: 13.65772\n",
      "    Avg train reward in one epoch: 0.00000\n",
      "    Avg test reward in one epoch: 0.04839\n",
      "    Total train reward in one epoch: 0.00000\n",
      "    Test reward: 0.00000\n",
      "    Greedy: 0.01184\n",
      "    Buffer: 13153\n"
     ]
    },
    {
     "name": "stderr",
     "output_type": "stream",
     "text": [
      "epoch 175 avg loss:17.3789 train_total_reward:1.000 test_total_reward:1.000 e-greedy:0.01189:   6%|▌         | 60/1000 [00:16<02:56,  5.32it/s]\n"
     ]
    },
    {
     "name": "stdout",
     "output_type": "stream",
     "text": [
      "    /// Result\n",
      "    Average train error: 17.37892\n",
      "    Avg train reward in one epoch: 0.01667\n",
      "    Avg test reward in one epoch: 0.01667\n",
      "    Total train reward in one epoch: 1.00000\n",
      "    Test reward: 1.00000\n",
      "    Greedy: 0.01189\n",
      "    Buffer: 13213\n"
     ]
    },
    {
     "name": "stderr",
     "output_type": "stream",
     "text": [
      "epoch 176 avg loss:19.0959 train_total_reward:0.000 test_total_reward:1.000 e-greedy:0.01193:   5%|▍         | 48/1000 [00:12<02:55,  5.42it/s]\n"
     ]
    },
    {
     "name": "stdout",
     "output_type": "stream",
     "text": [
      "    /// Result\n",
      "    Average train error: 19.09589\n",
      "    Avg train reward in one epoch: 0.00000\n",
      "    Avg test reward in one epoch: 0.02083\n",
      "    Total train reward in one epoch: 0.00000\n",
      "    Test reward: 0.00000\n",
      "    Greedy: 0.01193\n",
      "    Buffer: 13261\n"
     ]
    },
    {
     "name": "stderr",
     "output_type": "stream",
     "text": [
      "epoch 177 avg loss:18.7855 train_total_reward:1.000 test_total_reward:1.000 e-greedy:0.01201:   8%|▊         | 81/1000 [00:21<02:51,  5.36it/s]\n"
     ]
    },
    {
     "name": "stdout",
     "output_type": "stream",
     "text": [
      "    /// Result\n",
      "    Average train error: 18.78548\n",
      "    Avg train reward in one epoch: 0.01235\n",
      "    Avg test reward in one epoch: 0.01235\n",
      "    Total train reward in one epoch: 1.00000\n",
      "    Test reward: 1.00000\n",
      "    Greedy: 0.01201\n",
      "    Buffer: 13342\n"
     ]
    },
    {
     "name": "stderr",
     "output_type": "stream",
     "text": [
      "epoch 178 avg loss:23.9682 train_total_reward:1.000 test_total_reward:0.000 e-greedy:0.01206:   6%|▌         | 61/1000 [00:16<02:54,  5.39it/s]\n"
     ]
    },
    {
     "name": "stdout",
     "output_type": "stream",
     "text": [
      "    /// Result\n",
      "    Average train error: 23.96815\n",
      "    Avg train reward in one epoch: 0.01639\n",
      "    Avg test reward in one epoch: 0.00000\n",
      "    Total train reward in one epoch: 1.00000\n",
      "    Test reward: 1.00000\n",
      "    Greedy: 0.01206\n",
      "    Buffer: 13403\n"
     ]
    },
    {
     "name": "stderr",
     "output_type": "stream",
     "text": [
      "epoch 179 avg loss:21.5286 train_total_reward:1.000 test_total_reward:2.000 e-greedy:0.01212:   6%|▌         | 60/1000 [00:17<02:52,  5.45it/s]\n"
     ]
    },
    {
     "name": "stdout",
     "output_type": "stream",
     "text": [
      "    /// Result\n",
      "    Average train error: 21.52856\n",
      "    Avg train reward in one epoch: 0.01667\n",
      "    Avg test reward in one epoch: 0.03333\n",
      "    Total train reward in one epoch: 1.00000\n",
      "    Test reward: 1.00000\n",
      "    Greedy: 0.01212\n",
      "    Buffer: 13463\n"
     ]
    },
    {
     "name": "stderr",
     "output_type": "stream",
     "text": [
      "epoch 180 avg loss:19.7945 train_total_reward:1.000 test_total_reward:1.000 e-greedy:0.01217:   6%|▌         | 62/1000 [00:15<02:54,  5.36it/s]\n"
     ]
    },
    {
     "name": "stdout",
     "output_type": "stream",
     "text": [
      "    /// Result\n",
      "    Average train error: 19.79448\n",
      "    Avg train reward in one epoch: 0.01613\n",
      "    Avg test reward in one epoch: 0.01613\n",
      "    Total train reward in one epoch: 1.00000\n",
      "    Test reward: 1.00000\n",
      "    Greedy: 0.01217\n",
      "    Buffer: 13525\n"
     ]
    },
    {
     "name": "stderr",
     "output_type": "stream",
     "text": [
      "epoch 181 avg loss:18.6893 train_total_reward:0.000 test_total_reward:2.000 e-greedy:0.01223:   6%|▋         | 65/1000 [00:17<02:55,  5.33it/s]\n"
     ]
    },
    {
     "name": "stdout",
     "output_type": "stream",
     "text": [
      "    /// Result\n",
      "    Average train error: 18.68932\n",
      "    Avg train reward in one epoch: 0.00000\n",
      "    Avg test reward in one epoch: 0.03077\n",
      "    Total train reward in one epoch: 0.00000\n",
      "    Test reward: 0.00000\n",
      "    Greedy: 0.01223\n",
      "    Buffer: 13590\n"
     ]
    },
    {
     "name": "stderr",
     "output_type": "stream",
     "text": [
      "epoch 182 avg loss:16.8583 train_total_reward:5.000 test_total_reward:2.000 e-greedy:0.01235:  13%|█▎        | 132/1000 [00:29<02:41,  5.36it/s]\n"
     ]
    },
    {
     "name": "stdout",
     "output_type": "stream",
     "text": [
      "    /// Result\n",
      "    Average train error: 16.85826\n",
      "    Avg train reward in one epoch: 0.03788\n",
      "    Avg test reward in one epoch: 0.01515\n",
      "    Total train reward in one epoch: 5.00000\n",
      "    Test reward: 5.00000\n",
      "    Greedy: 0.01235\n",
      "    Buffer: 13722\n"
     ]
    },
    {
     "name": "stderr",
     "output_type": "stream",
     "text": [
      "epoch 183 avg loss:15.8308 train_total_reward:2.000 test_total_reward:2.000 e-greedy:0.01242:   8%|▊         | 79/1000 [00:17<02:52,  5.35it/s]\n"
     ]
    },
    {
     "name": "stdout",
     "output_type": "stream",
     "text": [
      "    /// Result\n",
      "    Average train error: 15.83076\n",
      "    Avg train reward in one epoch: 0.02532\n",
      "    Avg test reward in one epoch: 0.02532\n",
      "    Total train reward in one epoch: 2.00000\n",
      "    Test reward: 2.00000\n",
      "    Greedy: 0.01242\n",
      "    Buffer: 13801\n"
     ]
    },
    {
     "name": "stderr",
     "output_type": "stream",
     "text": [
      "epoch 184 avg loss:13.5151 train_total_reward:1.000 test_total_reward:6.000 e-greedy:0.01249:   7%|▋         | 73/1000 [00:17<02:53,  5.35it/s]\n"
     ]
    },
    {
     "name": "stdout",
     "output_type": "stream",
     "text": [
      "    /// Result\n",
      "    Average train error: 13.51509\n",
      "    Avg train reward in one epoch: 0.01370\n",
      "    Avg test reward in one epoch: 0.08219\n",
      "    Total train reward in one epoch: 1.00000\n",
      "    Test reward: 1.00000\n",
      "    Greedy: 0.01249\n",
      "    Buffer: 13874\n"
     ]
    },
    {
     "name": "stderr",
     "output_type": "stream",
     "text": [
      "epoch 185 avg loss:11.6319 train_total_reward:1.000 test_total_reward:3.000 e-greedy:0.01255:   7%|▋         | 67/1000 [00:15<02:51,  5.44it/s]\n"
     ]
    },
    {
     "name": "stdout",
     "output_type": "stream",
     "text": [
      "    /// Result\n",
      "    Average train error: 11.63187\n",
      "    Avg train reward in one epoch: 0.01493\n",
      "    Avg test reward in one epoch: 0.04478\n",
      "    Total train reward in one epoch: 1.00000\n",
      "    Test reward: 1.00000\n",
      "    Greedy: 0.01255\n",
      "    Buffer: 13941\n"
     ]
    },
    {
     "name": "stderr",
     "output_type": "stream",
     "text": [
      "epoch 186 avg loss:18.6871 train_total_reward:0.000 test_total_reward:1.000 e-greedy:0.01262:   8%|▊         | 84/1000 [00:18<02:46,  5.51it/s]\n"
     ]
    },
    {
     "name": "stdout",
     "output_type": "stream",
     "text": [
      "    /// Result\n",
      "    Average train error: 18.68711\n",
      "    Avg train reward in one epoch: 0.00000\n",
      "    Avg test reward in one epoch: 0.01190\n",
      "    Total train reward in one epoch: 0.00000\n",
      "    Test reward: 0.00000\n",
      "    Greedy: 0.01262\n",
      "    Buffer: 14025\n"
     ]
    },
    {
     "name": "stderr",
     "output_type": "stream",
     "text": [
      "epoch 187 avg loss:19.2162 train_total_reward:3.000 test_total_reward:0.000 e-greedy:0.01271:   9%|▉         | 93/1000 [00:21<02:50,  5.31it/s]\n"
     ]
    },
    {
     "name": "stdout",
     "output_type": "stream",
     "text": [
      "    /// Result\n",
      "    Average train error: 19.21618\n",
      "    Avg train reward in one epoch: 0.03226\n",
      "    Avg test reward in one epoch: 0.00000\n",
      "    Total train reward in one epoch: 3.00000\n",
      "    Test reward: 3.00000\n",
      "    Greedy: 0.01271\n",
      "    Buffer: 14118\n"
     ]
    },
    {
     "name": "stderr",
     "output_type": "stream",
     "text": [
      "epoch 188 avg loss:16.4682 train_total_reward:4.000 test_total_reward:1.000 e-greedy:0.01282:  13%|█▎        | 127/1000 [00:27<02:40,  5.44it/s]\n"
     ]
    },
    {
     "name": "stdout",
     "output_type": "stream",
     "text": [
      "    /// Result\n",
      "    Average train error: 16.46823\n",
      "    Avg train reward in one epoch: 0.03150\n",
      "    Avg test reward in one epoch: 0.00787\n",
      "    Total train reward in one epoch: 4.00000\n",
      "    Test reward: 4.00000\n",
      "    Greedy: 0.01282\n",
      "    Buffer: 14245\n"
     ]
    },
    {
     "name": "stderr",
     "output_type": "stream",
     "text": [
      "epoch 189 avg loss:19.8405 train_total_reward:3.000 test_total_reward:2.000 e-greedy:0.01290:   9%|▉         | 93/1000 [00:23<02:47,  5.42it/s]\n"
     ]
    },
    {
     "name": "stdout",
     "output_type": "stream",
     "text": [
      "    /// Result\n",
      "    Average train error: 19.84049\n",
      "    Avg train reward in one epoch: 0.03226\n",
      "    Avg test reward in one epoch: 0.02151\n",
      "    Total train reward in one epoch: 3.00000\n",
      "    Test reward: 3.00000\n",
      "    Greedy: 0.01290\n",
      "    Buffer: 14338\n"
     ]
    },
    {
     "name": "stderr",
     "output_type": "stream",
     "text": [
      "epoch 190 avg loss:26.0784 train_total_reward:1.000 test_total_reward:3.000 e-greedy:0.01297:   7%|▋         | 70/1000 [00:16<02:47,  5.55it/s]\n"
     ]
    },
    {
     "name": "stdout",
     "output_type": "stream",
     "text": [
      "    /// Result\n",
      "    Average train error: 26.07841\n",
      "    Avg train reward in one epoch: 0.01429\n",
      "    Avg test reward in one epoch: 0.04286\n",
      "    Total train reward in one epoch: 1.00000\n",
      "    Test reward: 1.00000\n",
      "    Greedy: 0.01297\n",
      "    Buffer: 14408\n"
     ]
    },
    {
     "name": "stderr",
     "output_type": "stream",
     "text": [
      "epoch 191 avg loss:16.0647 train_total_reward:2.000 test_total_reward:2.000 e-greedy:0.01305:   9%|▉         | 88/1000 [00:20<02:51,  5.33it/s]\n"
     ]
    },
    {
     "name": "stdout",
     "output_type": "stream",
     "text": [
      "    /// Result\n",
      "    Average train error: 16.06468\n",
      "    Avg train reward in one epoch: 0.02273\n",
      "    Avg test reward in one epoch: 0.02273\n",
      "    Total train reward in one epoch: 2.00000\n",
      "    Test reward: 2.00000\n",
      "    Greedy: 0.01305\n",
      "    Buffer: 14496\n"
     ]
    },
    {
     "name": "stderr",
     "output_type": "stream",
     "text": [
      "epoch 192 avg loss:15.8598 train_total_reward:2.000 test_total_reward:3.000 e-greedy:0.01312:   8%|▊         | 84/1000 [00:20<02:47,  5.46it/s]\n"
     ]
    },
    {
     "name": "stdout",
     "output_type": "stream",
     "text": [
      "    /// Result\n",
      "    Average train error: 15.85982\n",
      "    Avg train reward in one epoch: 0.02381\n",
      "    Avg test reward in one epoch: 0.03571\n",
      "    Total train reward in one epoch: 2.00000\n",
      "    Test reward: 2.00000\n",
      "    Greedy: 0.01312\n",
      "    Buffer: 14580\n"
     ]
    },
    {
     "name": "stderr",
     "output_type": "stream",
     "text": [
      "epoch 193 avg loss:15.0236 train_total_reward:1.000 test_total_reward:3.000 e-greedy:0.01318:   7%|▋         | 70/1000 [00:16<02:50,  5.46it/s]\n"
     ]
    },
    {
     "name": "stdout",
     "output_type": "stream",
     "text": [
      "    /// Result\n",
      "    Average train error: 15.02363\n",
      "    Avg train reward in one epoch: 0.01429\n",
      "    Avg test reward in one epoch: 0.04286\n",
      "    Total train reward in one epoch: 1.00000\n",
      "    Test reward: 1.00000\n",
      "    Greedy: 0.01318\n",
      "    Buffer: 14650\n"
     ]
    },
    {
     "name": "stderr",
     "output_type": "stream",
     "text": [
      "epoch 194 avg loss:17.1065 train_total_reward:1.000 test_total_reward:2.000 e-greedy:0.01326:   8%|▊         | 79/1000 [00:17<02:51,  5.36it/s]\n"
     ]
    },
    {
     "name": "stdout",
     "output_type": "stream",
     "text": [
      "    /// Result\n",
      "    Average train error: 17.10652\n",
      "    Avg train reward in one epoch: 0.01266\n",
      "    Avg test reward in one epoch: 0.02532\n",
      "    Total train reward in one epoch: 1.00000\n",
      "    Test reward: 1.00000\n",
      "    Greedy: 0.01326\n",
      "    Buffer: 14729\n"
     ]
    },
    {
     "name": "stderr",
     "output_type": "stream",
     "text": [
      "epoch 195 avg loss:16.4559 train_total_reward:2.000 test_total_reward:1.000 e-greedy:0.01332:   7%|▋         | 74/1000 [00:17<02:43,  5.65it/s]\n"
     ]
    },
    {
     "name": "stdout",
     "output_type": "stream",
     "text": [
      "    /// Result\n",
      "    Average train error: 16.45586\n",
      "    Avg train reward in one epoch: 0.02703\n",
      "    Avg test reward in one epoch: 0.01351\n",
      "    Total train reward in one epoch: 2.00000\n",
      "    Test reward: 2.00000\n",
      "    Greedy: 0.01332\n",
      "    Buffer: 14803\n"
     ]
    },
    {
     "name": "stderr",
     "output_type": "stream",
     "text": [
      "epoch 196 avg loss:19.2520 train_total_reward:3.000 test_total_reward:1.000 e-greedy:0.01341:  10%|▉         | 97/1000 [00:20<02:45,  5.46it/s]\n"
     ]
    },
    {
     "name": "stdout",
     "output_type": "stream",
     "text": [
      "    /// Result\n",
      "    Average train error: 19.25198\n",
      "    Avg train reward in one epoch: 0.03093\n",
      "    Avg test reward in one epoch: 0.01031\n",
      "    Total train reward in one epoch: 3.00000\n",
      "    Test reward: 3.00000\n",
      "    Greedy: 0.01341\n",
      "    Buffer: 14900\n"
     ]
    },
    {
     "name": "stderr",
     "output_type": "stream",
     "text": [
      "epoch 197 avg loss:20.8724 train_total_reward:2.000 test_total_reward:3.000 e-greedy:0.01347:   6%|▋         | 65/1000 [00:14<02:51,  5.46it/s]\n"
     ]
    },
    {
     "name": "stdout",
     "output_type": "stream",
     "text": [
      "    /// Result\n",
      "    Average train error: 20.87241\n",
      "    Avg train reward in one epoch: 0.03077\n",
      "    Avg test reward in one epoch: 0.04615\n",
      "    Total train reward in one epoch: 2.00000\n",
      "    Test reward: 2.00000\n",
      "    Greedy: 0.01347\n",
      "    Buffer: 14965\n"
     ]
    },
    {
     "name": "stderr",
     "output_type": "stream",
     "text": [
      "epoch 198 avg loss:16.0315 train_total_reward:4.000 test_total_reward:1.000 e-greedy:0.01356:  10%|█         | 101/1000 [00:21<02:44,  5.48it/s]\n"
     ]
    },
    {
     "name": "stdout",
     "output_type": "stream",
     "text": [
      "    /// Result\n",
      "    Average train error: 16.03147\n",
      "    Avg train reward in one epoch: 0.03960\n",
      "    Avg test reward in one epoch: 0.00990\n",
      "    Total train reward in one epoch: 4.00000\n",
      "    Test reward: 4.00000\n",
      "    Greedy: 0.01356\n",
      "    Buffer: 15066\n"
     ]
    },
    {
     "name": "stderr",
     "output_type": "stream",
     "text": [
      "epoch 199 avg loss:20.7459 train_total_reward:3.000 test_total_reward:2.000 e-greedy:0.01365:  10%|█         | 103/1000 [00:21<02:47,  5.36it/s]\n"
     ]
    },
    {
     "name": "stdout",
     "output_type": "stream",
     "text": [
      "    /// Result\n",
      "    Average train error: 20.74592\n",
      "    Avg train reward in one epoch: 0.02913\n",
      "    Avg test reward in one epoch: 0.01942\n",
      "    Total train reward in one epoch: 3.00000\n",
      "    Test reward: 3.00000\n",
      "    Greedy: 0.01365\n",
      "    Buffer: 15169\n"
     ]
    },
    {
     "name": "stderr",
     "output_type": "stream",
     "text": [
      "epoch 200 avg loss:17.9317 train_total_reward:3.000 test_total_reward:2.000 e-greedy:0.01375:  11%|█▏        | 113/1000 [00:25<02:42,  5.45it/s]\n"
     ]
    },
    {
     "name": "stdout",
     "output_type": "stream",
     "text": [
      "    /// Result\n",
      "    Average train error: 17.93169\n",
      "    Avg train reward in one epoch: 0.02655\n",
      "    Avg test reward in one epoch: 0.01770\n",
      "    Total train reward in one epoch: 3.00000\n",
      "    Test reward: 3.00000\n",
      "    Greedy: 0.01375\n",
      "    Buffer: 15282\n"
     ]
    },
    {
     "name": "stderr",
     "output_type": "stream",
     "text": [
      "epoch 201 avg loss:12.9626 train_total_reward:0.000 test_total_reward:2.000 e-greedy:0.01381:   6%|▌         | 59/1000 [00:17<02:50,  5.50it/s]\n"
     ]
    },
    {
     "name": "stdout",
     "output_type": "stream",
     "text": [
      "    /// Result\n",
      "    Average train error: 12.96258\n",
      "    Avg train reward in one epoch: 0.00000\n",
      "    Avg test reward in one epoch: 0.03390\n",
      "    Total train reward in one epoch: 0.00000\n",
      "    Test reward: 0.00000\n",
      "    Greedy: 0.01381\n",
      "    Buffer: 15341\n"
     ]
    },
    {
     "name": "stderr",
     "output_type": "stream",
     "text": [
      "epoch 202 avg loss:20.4505 train_total_reward:2.000 test_total_reward:0.000 e-greedy:0.01388:   8%|▊         | 77/1000 [00:20<02:50,  5.41it/s]\n"
     ]
    },
    {
     "name": "stdout",
     "output_type": "stream",
     "text": [
      "    /// Result\n",
      "    Average train error: 20.45049\n",
      "    Avg train reward in one epoch: 0.02597\n",
      "    Avg test reward in one epoch: 0.00000\n",
      "    Total train reward in one epoch: 2.00000\n",
      "    Test reward: 2.00000\n",
      "    Greedy: 0.01388\n",
      "    Buffer: 15418\n"
     ]
    },
    {
     "name": "stderr",
     "output_type": "stream",
     "text": [
      "epoch 203 avg loss:19.0891 train_total_reward:2.000 test_total_reward:0.000 e-greedy:0.01396:   9%|▉         | 93/1000 [00:19<02:45,  5.48it/s]\n"
     ]
    },
    {
     "name": "stdout",
     "output_type": "stream",
     "text": [
      "    /// Result\n",
      "    Average train error: 19.08910\n",
      "    Avg train reward in one epoch: 0.02151\n",
      "    Avg test reward in one epoch: 0.00000\n",
      "    Total train reward in one epoch: 2.00000\n",
      "    Test reward: 2.00000\n",
      "    Greedy: 0.01396\n",
      "    Buffer: 15511\n"
     ]
    },
    {
     "name": "stderr",
     "output_type": "stream",
     "text": [
      "epoch 204 avg loss:20.2846 train_total_reward:1.000 test_total_reward:0.000 e-greedy:0.01403:   8%|▊         | 75/1000 [00:17<02:52,  5.36it/s]\n"
     ]
    },
    {
     "name": "stdout",
     "output_type": "stream",
     "text": [
      "    /// Result\n",
      "    Average train error: 20.28460\n",
      "    Avg train reward in one epoch: 0.01333\n",
      "    Avg test reward in one epoch: 0.00000\n",
      "    Total train reward in one epoch: 1.00000\n",
      "    Test reward: 1.00000\n",
      "    Greedy: 0.01403\n",
      "    Buffer: 15586\n"
     ]
    },
    {
     "name": "stderr",
     "output_type": "stream",
     "text": [
      "epoch 205 avg loss:18.5540 train_total_reward:3.000 test_total_reward:2.000 e-greedy:0.01411:   9%|▊         | 87/1000 [00:20<02:48,  5.43it/s]\n"
     ]
    },
    {
     "name": "stdout",
     "output_type": "stream",
     "text": [
      "    /// Result\n",
      "    Average train error: 18.55403\n",
      "    Avg train reward in one epoch: 0.03448\n",
      "    Avg test reward in one epoch: 0.02299\n",
      "    Total train reward in one epoch: 3.00000\n",
      "    Test reward: 3.00000\n",
      "    Greedy: 0.01411\n",
      "    Buffer: 15673\n"
     ]
    },
    {
     "name": "stderr",
     "output_type": "stream",
     "text": [
      "epoch 206 avg loss:17.0403 train_total_reward:6.000 test_total_reward:1.000 e-greedy:0.01423:  14%|█▎        | 136/1000 [00:29<02:40,  5.38it/s]\n"
     ]
    },
    {
     "name": "stdout",
     "output_type": "stream",
     "text": [
      "    /// Result\n",
      "    Average train error: 17.04025\n",
      "    Avg train reward in one epoch: 0.04412\n",
      "    Avg test reward in one epoch: 0.00735\n",
      "    Total train reward in one epoch: 6.00000\n",
      "    Test reward: 6.00000\n",
      "    Greedy: 0.01423\n",
      "    Buffer: 15809\n"
     ]
    },
    {
     "name": "stderr",
     "output_type": "stream",
     "text": [
      "epoch 207 avg loss:21.0009 train_total_reward:0.000 test_total_reward:3.000 e-greedy:0.01427:   5%|▌         | 51/1000 [00:12<02:53,  5.47it/s]\n"
     ]
    },
    {
     "name": "stdout",
     "output_type": "stream",
     "text": [
      "    /// Result\n",
      "    Average train error: 21.00093\n",
      "    Avg train reward in one epoch: 0.00000\n",
      "    Avg test reward in one epoch: 0.05882\n",
      "    Total train reward in one epoch: 0.00000\n",
      "    Test reward: 0.00000\n",
      "    Greedy: 0.01427\n",
      "    Buffer: 15860\n"
     ]
    },
    {
     "name": "stderr",
     "output_type": "stream",
     "text": [
      "epoch 208 avg loss:19.5493 train_total_reward:0.000 test_total_reward:0.000 e-greedy:0.01433:   6%|▌         | 61/1000 [00:14<02:52,  5.44it/s]\n"
     ]
    },
    {
     "name": "stdout",
     "output_type": "stream",
     "text": [
      "    /// Result\n",
      "    Average train error: 19.54934\n",
      "    Avg train reward in one epoch: 0.00000\n",
      "    Avg test reward in one epoch: 0.00000\n",
      "    Total train reward in one epoch: 0.00000\n",
      "    Test reward: 0.00000\n",
      "    Greedy: 0.01433\n",
      "    Buffer: 15921\n"
     ]
    },
    {
     "name": "stderr",
     "output_type": "stream",
     "text": [
      "epoch 209 avg loss:18.3170 train_total_reward:0.000 test_total_reward:1.000 e-greedy:0.01439:   7%|▋         | 68/1000 [00:15<02:53,  5.37it/s]\n"
     ]
    },
    {
     "name": "stdout",
     "output_type": "stream",
     "text": [
      "    /// Result\n",
      "    Average train error: 18.31695\n",
      "    Avg train reward in one epoch: 0.00000\n",
      "    Avg test reward in one epoch: 0.01471\n",
      "    Total train reward in one epoch: 0.00000\n",
      "    Test reward: 0.00000\n",
      "    Greedy: 0.01439\n",
      "    Buffer: 15989\n"
     ]
    },
    {
     "name": "stderr",
     "output_type": "stream",
     "text": [
      "epoch 210 avg loss:15.4071 train_total_reward:6.000 test_total_reward:5.000 e-greedy:0.01451:  14%|█▍        | 138/1000 [00:29<02:38,  5.45it/s]\n"
     ]
    },
    {
     "name": "stdout",
     "output_type": "stream",
     "text": [
      "    /// Result\n",
      "    Average train error: 15.40713\n",
      "    Avg train reward in one epoch: 0.04348\n",
      "    Avg test reward in one epoch: 0.03623\n",
      "    Total train reward in one epoch: 6.00000\n",
      "    Test reward: 6.00000\n",
      "    Greedy: 0.01451\n",
      "    Buffer: 16127\n"
     ]
    },
    {
     "name": "stderr",
     "output_type": "stream",
     "text": [
      "epoch 211 avg loss:21.8313 train_total_reward:1.000 test_total_reward:0.000 e-greedy:0.01458:   7%|▋         | 68/1000 [00:14<02:53,  5.36it/s]\n"
     ]
    },
    {
     "name": "stdout",
     "output_type": "stream",
     "text": [
      "    /// Result\n",
      "    Average train error: 21.83132\n",
      "    Avg train reward in one epoch: 0.01471\n",
      "    Avg test reward in one epoch: 0.00000\n",
      "    Total train reward in one epoch: 1.00000\n",
      "    Test reward: 1.00000\n",
      "    Greedy: 0.01458\n",
      "    Buffer: 16195\n"
     ]
    },
    {
     "name": "stderr",
     "output_type": "stream",
     "text": [
      "epoch 212 avg loss:22.0204 train_total_reward:1.000 test_total_reward:2.000 e-greedy:0.01462:   5%|▌         | 52/1000 [00:12<02:53,  5.47it/s]\n"
     ]
    },
    {
     "name": "stdout",
     "output_type": "stream",
     "text": [
      "    /// Result\n",
      "    Average train error: 22.02036\n",
      "    Avg train reward in one epoch: 0.01923\n",
      "    Avg test reward in one epoch: 0.03846\n",
      "    Total train reward in one epoch: 1.00000\n",
      "    Test reward: 1.00000\n",
      "    Greedy: 0.01462\n",
      "    Buffer: 16247\n"
     ]
    },
    {
     "name": "stderr",
     "output_type": "stream",
     "text": [
      "epoch 213 avg loss:16.9523 train_total_reward:1.000 test_total_reward:9.000 e-greedy:0.01469:   7%|▋         | 73/1000 [00:16<02:53,  5.34it/s]\n"
     ]
    },
    {
     "name": "stdout",
     "output_type": "stream",
     "text": [
      "    /// Result\n",
      "    Average train error: 16.95225\n",
      "    Avg train reward in one epoch: 0.01370\n",
      "    Avg test reward in one epoch: 0.12329\n",
      "    Total train reward in one epoch: 1.00000\n",
      "    Test reward: 1.00000\n",
      "    Greedy: 0.01469\n",
      "    Buffer: 16320\n"
     ]
    },
    {
     "name": "stderr",
     "output_type": "stream",
     "text": [
      "epoch 214 avg loss:14.7740 train_total_reward:0.000 test_total_reward:0.000 e-greedy:0.01474:   6%|▌         | 59/1000 [00:14<02:54,  5.40it/s]\n"
     ]
    },
    {
     "name": "stdout",
     "output_type": "stream",
     "text": [
      "    /// Result\n",
      "    Average train error: 14.77399\n",
      "    Avg train reward in one epoch: 0.00000\n",
      "    Avg test reward in one epoch: 0.00000\n",
      "    Total train reward in one epoch: 0.00000\n",
      "    Test reward: 0.00000\n",
      "    Greedy: 0.01474\n",
      "    Buffer: 16379\n"
     ]
    },
    {
     "name": "stderr",
     "output_type": "stream",
     "text": [
      "epoch 215 avg loss:23.5206 train_total_reward:3.000 test_total_reward:2.000 e-greedy:0.01483:  10%|▉         | 99/1000 [00:21<02:47,  5.37it/s]\n"
     ]
    },
    {
     "name": "stdout",
     "output_type": "stream",
     "text": [
      "    /// Result\n",
      "    Average train error: 23.52057\n",
      "    Avg train reward in one epoch: 0.03030\n",
      "    Avg test reward in one epoch: 0.02020\n",
      "    Total train reward in one epoch: 3.00000\n",
      "    Test reward: 3.00000\n",
      "    Greedy: 0.01483\n",
      "    Buffer: 16478\n"
     ]
    },
    {
     "name": "stderr",
     "output_type": "stream",
     "text": [
      "epoch 216 avg loss:18.0570 train_total_reward:1.000 test_total_reward:1.000 e-greedy:0.01488:   6%|▌         | 57/1000 [00:14<02:53,  5.45it/s]\n"
     ]
    },
    {
     "name": "stdout",
     "output_type": "stream",
     "text": [
      "    /// Result\n",
      "    Average train error: 18.05699\n",
      "    Avg train reward in one epoch: 0.01754\n",
      "    Avg test reward in one epoch: 0.01754\n",
      "    Total train reward in one epoch: 1.00000\n",
      "    Test reward: 1.00000\n",
      "    Greedy: 0.01488\n",
      "    Buffer: 16535\n"
     ]
    },
    {
     "name": "stderr",
     "output_type": "stream",
     "text": [
      "epoch 217 avg loss:18.9765 train_total_reward:1.000 test_total_reward:4.000 e-greedy:0.01494:   7%|▋         | 68/1000 [00:21<02:55,  5.30it/s]\n"
     ]
    },
    {
     "name": "stdout",
     "output_type": "stream",
     "text": [
      "    /// Result\n",
      "    Average train error: 18.97649\n",
      "    Avg train reward in one epoch: 0.01471\n",
      "    Avg test reward in one epoch: 0.05882\n",
      "    Total train reward in one epoch: 1.00000\n",
      "    Test reward: 1.00000\n",
      "    Greedy: 0.01494\n",
      "    Buffer: 16603\n"
     ]
    },
    {
     "name": "stderr",
     "output_type": "stream",
     "text": [
      "epoch 218 avg loss:17.2638 train_total_reward:1.000 test_total_reward:0.000 e-greedy:0.01499:   6%|▌         | 58/1000 [00:13<02:54,  5.39it/s]\n"
     ]
    },
    {
     "name": "stdout",
     "output_type": "stream",
     "text": [
      "    /// Result\n",
      "    Average train error: 17.26376\n",
      "    Avg train reward in one epoch: 0.01724\n",
      "    Avg test reward in one epoch: 0.00000\n",
      "    Total train reward in one epoch: 1.00000\n",
      "    Test reward: 1.00000\n",
      "    Greedy: 0.01499\n",
      "    Buffer: 16661\n"
     ]
    },
    {
     "name": "stderr",
     "output_type": "stream",
     "text": [
      "epoch 219 avg loss:18.2511 train_total_reward:4.000 test_total_reward:1.000 e-greedy:0.01509:  11%|█         | 107/1000 [00:23<02:46,  5.37it/s]\n"
     ]
    },
    {
     "name": "stdout",
     "output_type": "stream",
     "text": [
      "    /// Result\n",
      "    Average train error: 18.25110\n",
      "    Avg train reward in one epoch: 0.03738\n",
      "    Avg test reward in one epoch: 0.00935\n",
      "    Total train reward in one epoch: 4.00000\n",
      "    Test reward: 4.00000\n",
      "    Greedy: 0.01509\n",
      "    Buffer: 16768\n"
     ]
    },
    {
     "name": "stderr",
     "output_type": "stream",
     "text": [
      "epoch 220 avg loss:22.2558 train_total_reward:5.000 test_total_reward:5.000 e-greedy:0.01521:  13%|█▎        | 131/1000 [00:27<02:40,  5.43it/s]\n"
     ]
    },
    {
     "name": "stdout",
     "output_type": "stream",
     "text": [
      "    /// Result\n",
      "    Average train error: 22.25578\n",
      "    Avg train reward in one epoch: 0.03817\n",
      "    Avg test reward in one epoch: 0.03817\n",
      "    Total train reward in one epoch: 5.00000\n",
      "    Test reward: 5.00000\n",
      "    Greedy: 0.01521\n",
      "    Buffer: 16899\n"
     ]
    },
    {
     "name": "stderr",
     "output_type": "stream",
     "text": [
      "epoch 221 avg loss:13.6123 train_total_reward:0.000 test_total_reward:0.000 e-greedy:0.01525:   5%|▍         | 46/1000 [00:11<02:56,  5.41it/s]\n"
     ]
    },
    {
     "name": "stdout",
     "output_type": "stream",
     "text": [
      "    /// Result\n",
      "    Average train error: 13.61226\n",
      "    Avg train reward in one epoch: 0.00000\n",
      "    Avg test reward in one epoch: 0.00000\n",
      "    Total train reward in one epoch: 0.00000\n",
      "    Test reward: 0.00000\n",
      "    Greedy: 0.01525\n",
      "    Buffer: 16945\n"
     ]
    },
    {
     "name": "stderr",
     "output_type": "stream",
     "text": [
      "epoch 222 avg loss:18.1843 train_total_reward:4.000 test_total_reward:0.000 e-greedy:0.01534:  10%|▉         | 97/1000 [00:21<02:48,  5.36it/s]\n"
     ]
    },
    {
     "name": "stdout",
     "output_type": "stream",
     "text": [
      "    /// Result\n",
      "    Average train error: 18.18430\n",
      "    Avg train reward in one epoch: 0.04124\n",
      "    Avg test reward in one epoch: 0.00000\n",
      "    Total train reward in one epoch: 4.00000\n",
      "    Test reward: 4.00000\n",
      "    Greedy: 0.01534\n",
      "    Buffer: 17042\n"
     ]
    },
    {
     "name": "stderr",
     "output_type": "stream",
     "text": [
      "epoch 223 avg loss:18.2845 train_total_reward:2.000 test_total_reward:0.000 e-greedy:0.01541:   8%|▊         | 77/1000 [00:18<02:52,  5.36it/s]\n"
     ]
    },
    {
     "name": "stdout",
     "output_type": "stream",
     "text": [
      "    /// Result\n",
      "    Average train error: 18.28451\n",
      "    Avg train reward in one epoch: 0.02597\n",
      "    Avg test reward in one epoch: 0.00000\n",
      "    Total train reward in one epoch: 2.00000\n",
      "    Test reward: 2.00000\n",
      "    Greedy: 0.01541\n",
      "    Buffer: 17119\n"
     ]
    },
    {
     "name": "stderr",
     "output_type": "stream",
     "text": [
      "epoch 224 avg loss:22.4764 train_total_reward:2.000 test_total_reward:2.000 e-greedy:0.01549:  10%|▉         | 95/1000 [00:23<02:46,  5.44it/s]\n"
     ]
    },
    {
     "name": "stdout",
     "output_type": "stream",
     "text": [
      "    /// Result\n",
      "    Average train error: 22.47644\n",
      "    Avg train reward in one epoch: 0.02105\n",
      "    Avg test reward in one epoch: 0.02105\n",
      "    Total train reward in one epoch: 2.00000\n",
      "    Test reward: 2.00000\n",
      "    Greedy: 0.01549\n",
      "    Buffer: 17214\n"
     ]
    },
    {
     "name": "stderr",
     "output_type": "stream",
     "text": [
      "epoch 225 avg loss:21.2266 train_total_reward:1.000 test_total_reward:0.000 e-greedy:0.01555:   7%|▋         | 68/1000 [00:15<02:51,  5.44it/s]\n"
     ]
    },
    {
     "name": "stdout",
     "output_type": "stream",
     "text": [
      "    /// Result\n",
      "    Average train error: 21.22663\n",
      "    Avg train reward in one epoch: 0.01471\n",
      "    Avg test reward in one epoch: 0.00000\n",
      "    Total train reward in one epoch: 1.00000\n",
      "    Test reward: 1.00000\n",
      "    Greedy: 0.01555\n",
      "    Buffer: 17282\n"
     ]
    },
    {
     "name": "stderr",
     "output_type": "stream",
     "text": [
      "epoch 226 avg loss:17.4254 train_total_reward:0.000 test_total_reward:0.000 e-greedy:0.01562:   7%|▋         | 71/1000 [00:13<02:53,  5.37it/s]\n"
     ]
    },
    {
     "name": "stdout",
     "output_type": "stream",
     "text": [
      "    /// Result\n",
      "    Average train error: 17.42538\n",
      "    Avg train reward in one epoch: 0.00000\n",
      "    Avg test reward in one epoch: 0.00000\n",
      "    Total train reward in one epoch: 0.00000\n",
      "    Test reward: 0.00000\n",
      "    Greedy: 0.01562\n",
      "    Buffer: 17353\n"
     ]
    },
    {
     "name": "stderr",
     "output_type": "stream",
     "text": [
      "epoch 227 avg loss:27.3409 train_total_reward:2.000 test_total_reward:2.000 e-greedy:0.01570:   9%|▉         | 90/1000 [00:20<02:49,  5.37it/s]\n"
     ]
    },
    {
     "name": "stdout",
     "output_type": "stream",
     "text": [
      "    /// Result\n",
      "    Average train error: 27.34087\n",
      "    Avg train reward in one epoch: 0.02222\n",
      "    Avg test reward in one epoch: 0.02222\n",
      "    Total train reward in one epoch: 2.00000\n",
      "    Test reward: 2.00000\n",
      "    Greedy: 0.01570\n",
      "    Buffer: 17443\n"
     ]
    },
    {
     "name": "stderr",
     "output_type": "stream",
     "text": [
      "epoch 228 avg loss:15.2426 train_total_reward:0.000 test_total_reward:2.000 e-greedy:0.01575:   5%|▌         | 54/1000 [00:12<02:55,  5.39it/s]\n"
     ]
    },
    {
     "name": "stdout",
     "output_type": "stream",
     "text": [
      "    /// Result\n",
      "    Average train error: 15.24259\n",
      "    Avg train reward in one epoch: 0.00000\n",
      "    Avg test reward in one epoch: 0.03704\n",
      "    Total train reward in one epoch: 0.00000\n",
      "    Test reward: 0.00000\n",
      "    Greedy: 0.01575\n",
      "    Buffer: 17497\n"
     ]
    },
    {
     "name": "stderr",
     "output_type": "stream",
     "text": [
      "epoch 229 avg loss:17.5144 train_total_reward:0.000 test_total_reward:0.000 e-greedy:0.01580:   6%|▌         | 60/1000 [00:14<02:55,  5.35it/s]\n"
     ]
    },
    {
     "name": "stdout",
     "output_type": "stream",
     "text": [
      "    /// Result\n",
      "    Average train error: 17.51444\n",
      "    Avg train reward in one epoch: 0.00000\n",
      "    Avg test reward in one epoch: 0.00000\n",
      "    Total train reward in one epoch: 0.00000\n",
      "    Test reward: 0.00000\n",
      "    Greedy: 0.01580\n",
      "    Buffer: 17557\n"
     ]
    },
    {
     "name": "stderr",
     "output_type": "stream",
     "text": [
      "epoch 230 avg loss:22.0337 train_total_reward:2.000 test_total_reward:4.000 e-greedy:0.01587:   7%|▋         | 73/1000 [00:18<02:53,  5.34it/s]\n"
     ]
    },
    {
     "name": "stdout",
     "output_type": "stream",
     "text": [
      "    /// Result\n",
      "    Average train error: 22.03373\n",
      "    Avg train reward in one epoch: 0.02740\n",
      "    Avg test reward in one epoch: 0.05479\n",
      "    Total train reward in one epoch: 2.00000\n",
      "    Test reward: 2.00000\n",
      "    Greedy: 0.01587\n",
      "    Buffer: 17630\n"
     ]
    },
    {
     "name": "stderr",
     "output_type": "stream",
     "text": [
      "epoch 231 avg loss:17.2667 train_total_reward:1.000 test_total_reward:2.000 e-greedy:0.01592:   6%|▋         | 64/1000 [00:13<02:53,  5.41it/s]\n"
     ]
    },
    {
     "name": "stdout",
     "output_type": "stream",
     "text": [
      "    /// Result\n",
      "    Average train error: 17.26670\n",
      "    Avg train reward in one epoch: 0.01562\n",
      "    Avg test reward in one epoch: 0.03125\n",
      "    Total train reward in one epoch: 1.00000\n",
      "    Test reward: 1.00000\n",
      "    Greedy: 0.01592\n",
      "    Buffer: 17694\n"
     ]
    },
    {
     "name": "stderr",
     "output_type": "stream",
     "text": [
      "epoch 232 avg loss:18.2214 train_total_reward:0.000 test_total_reward:2.000 e-greedy:0.01597:   6%|▌         | 56/1000 [00:12<02:53,  5.46it/s]\n"
     ]
    },
    {
     "name": "stdout",
     "output_type": "stream",
     "text": [
      "    /// Result\n",
      "    Average train error: 18.22143\n",
      "    Avg train reward in one epoch: 0.00000\n",
      "    Avg test reward in one epoch: 0.03571\n",
      "    Total train reward in one epoch: 0.00000\n",
      "    Test reward: 0.00000\n",
      "    Greedy: 0.01597\n",
      "    Buffer: 17750\n"
     ]
    },
    {
     "name": "stderr",
     "output_type": "stream",
     "text": [
      "epoch 233 avg loss:19.3467 train_total_reward:1.000 test_total_reward:4.000 e-greedy:0.01602:   5%|▌         | 53/1000 [00:15<02:51,  5.52it/s]\n"
     ]
    },
    {
     "name": "stdout",
     "output_type": "stream",
     "text": [
      "    /// Result\n",
      "    Average train error: 19.34670\n",
      "    Avg train reward in one epoch: 0.01887\n",
      "    Avg test reward in one epoch: 0.07547\n",
      "    Total train reward in one epoch: 1.00000\n",
      "    Test reward: 1.00000\n",
      "    Greedy: 0.01602\n",
      "    Buffer: 17803\n"
     ]
    },
    {
     "name": "stderr",
     "output_type": "stream",
     "text": [
      "epoch 234 avg loss:16.5746 train_total_reward:4.000 test_total_reward:3.000 e-greedy:0.01612:  10%|█         | 103/1000 [00:23<02:45,  5.40it/s]\n"
     ]
    },
    {
     "name": "stdout",
     "output_type": "stream",
     "text": [
      "    /// Result\n",
      "    Average train error: 16.57461\n",
      "    Avg train reward in one epoch: 0.03883\n",
      "    Avg test reward in one epoch: 0.02913\n",
      "    Total train reward in one epoch: 4.00000\n",
      "    Test reward: 4.00000\n",
      "    Greedy: 0.01612\n",
      "    Buffer: 17906\n"
     ]
    },
    {
     "name": "stderr",
     "output_type": "stream",
     "text": [
      "epoch 235 avg loss:18.8184 train_total_reward:0.000 test_total_reward:0.000 e-greedy:0.01616:   5%|▍         | 48/1000 [00:13<02:49,  5.63it/s]\n"
     ]
    },
    {
     "name": "stdout",
     "output_type": "stream",
     "text": [
      "    /// Result\n",
      "    Average train error: 18.81841\n",
      "    Avg train reward in one epoch: 0.00000\n",
      "    Avg test reward in one epoch: 0.00000\n",
      "    Total train reward in one epoch: 0.00000\n",
      "    Test reward: 0.00000\n",
      "    Greedy: 0.01616\n",
      "    Buffer: 17954\n"
     ]
    },
    {
     "name": "stderr",
     "output_type": "stream",
     "text": [
      "epoch 236 avg loss:22.5049 train_total_reward:0.000 test_total_reward:0.000 e-greedy:0.01622:   7%|▋         | 67/1000 [00:16<02:51,  5.43it/s]\n"
     ]
    },
    {
     "name": "stdout",
     "output_type": "stream",
     "text": [
      "    /// Result\n",
      "    Average train error: 22.50487\n",
      "    Avg train reward in one epoch: 0.00000\n",
      "    Avg test reward in one epoch: 0.00000\n",
      "    Total train reward in one epoch: 0.00000\n",
      "    Test reward: 0.00000\n",
      "    Greedy: 0.01622\n",
      "    Buffer: 18021\n"
     ]
    },
    {
     "name": "stderr",
     "output_type": "stream",
     "text": [
      "epoch 237 avg loss:16.5897 train_total_reward:0.000 test_total_reward:0.000 e-greedy:0.01627:   5%|▌         | 53/1000 [00:16<02:53,  5.46it/s]\n"
     ]
    },
    {
     "name": "stdout",
     "output_type": "stream",
     "text": [
      "    /// Result\n",
      "    Average train error: 16.58966\n",
      "    Avg train reward in one epoch: 0.00000\n",
      "    Avg test reward in one epoch: 0.00000\n",
      "    Total train reward in one epoch: 0.00000\n",
      "    Test reward: 0.00000\n",
      "    Greedy: 0.01627\n",
      "    Buffer: 18074\n"
     ]
    },
    {
     "name": "stderr",
     "output_type": "stream",
     "text": [
      "epoch 238 avg loss:21.7141 train_total_reward:0.000 test_total_reward:2.000 e-greedy:0.01631:   5%|▌         | 50/1000 [00:15<02:56,  5.39it/s]\n"
     ]
    },
    {
     "name": "stdout",
     "output_type": "stream",
     "text": [
      "    /// Result\n",
      "    Average train error: 21.71415\n",
      "    Avg train reward in one epoch: 0.00000\n",
      "    Avg test reward in one epoch: 0.04000\n",
      "    Total train reward in one epoch: 0.00000\n",
      "    Test reward: 0.00000\n",
      "    Greedy: 0.01631\n",
      "    Buffer: 18124\n"
     ]
    },
    {
     "name": "stderr",
     "output_type": "stream",
     "text": [
      "epoch 239 avg loss:17.1639 train_total_reward:0.000 test_total_reward:0.000 e-greedy:0.01636:   5%|▌         | 50/1000 [00:12<03:00,  5.26it/s]\n"
     ]
    },
    {
     "name": "stdout",
     "output_type": "stream",
     "text": [
      "    /// Result\n",
      "    Average train error: 17.16389\n",
      "    Avg train reward in one epoch: 0.00000\n",
      "    Avg test reward in one epoch: 0.00000\n",
      "    Total train reward in one epoch: 0.00000\n",
      "    Test reward: 0.00000\n",
      "    Greedy: 0.01636\n",
      "    Buffer: 18174\n"
     ]
    },
    {
     "name": "stderr",
     "output_type": "stream",
     "text": [
      "epoch 240 avg loss:22.2683 train_total_reward:3.000 test_total_reward:0.000 e-greedy:0.01645:  10%|▉         | 99/1000 [00:21<02:53,  5.20it/s]\n"
     ]
    },
    {
     "name": "stdout",
     "output_type": "stream",
     "text": [
      "    /// Result\n",
      "    Average train error: 22.26832\n",
      "    Avg train reward in one epoch: 0.03030\n",
      "    Avg test reward in one epoch: 0.00000\n",
      "    Total train reward in one epoch: 3.00000\n",
      "    Test reward: 3.00000\n",
      "    Greedy: 0.01645\n",
      "    Buffer: 18273\n"
     ]
    },
    {
     "name": "stderr",
     "output_type": "stream",
     "text": [
      "epoch 241 avg loss:14.0774 train_total_reward:0.000 test_total_reward:1.000 e-greedy:0.01650:   6%|▌         | 59/1000 [00:13<02:54,  5.39it/s]\n"
     ]
    },
    {
     "name": "stdout",
     "output_type": "stream",
     "text": [
      "    /// Result\n",
      "    Average train error: 14.07742\n",
      "    Avg train reward in one epoch: 0.00000\n",
      "    Avg test reward in one epoch: 0.01695\n",
      "    Total train reward in one epoch: 0.00000\n",
      "    Test reward: 0.00000\n",
      "    Greedy: 0.01650\n",
      "    Buffer: 18332\n"
     ]
    },
    {
     "name": "stderr",
     "output_type": "stream",
     "text": [
      "epoch 242 avg loss:15.2706 train_total_reward:0.000 test_total_reward:1.000 e-greedy:0.01654:   4%|▍         | 45/1000 [00:13<02:59,  5.33it/s]\n"
     ]
    },
    {
     "name": "stdout",
     "output_type": "stream",
     "text": [
      "    /// Result\n",
      "    Average train error: 15.27055\n",
      "    Avg train reward in one epoch: 0.00000\n",
      "    Avg test reward in one epoch: 0.02222\n",
      "    Total train reward in one epoch: 0.00000\n",
      "    Test reward: 0.00000\n",
      "    Greedy: 0.01654\n",
      "    Buffer: 18377\n"
     ]
    },
    {
     "name": "stderr",
     "output_type": "stream",
     "text": [
      "epoch 243 avg loss:17.6626 train_total_reward:1.000 test_total_reward:2.000 e-greedy:0.01661:   8%|▊         | 76/1000 [00:18<02:52,  5.37it/s]\n"
     ]
    },
    {
     "name": "stdout",
     "output_type": "stream",
     "text": [
      "    /// Result\n",
      "    Average train error: 17.66260\n",
      "    Avg train reward in one epoch: 0.01316\n",
      "    Avg test reward in one epoch: 0.02632\n",
      "    Total train reward in one epoch: 1.00000\n",
      "    Test reward: 1.00000\n",
      "    Greedy: 0.01661\n",
      "    Buffer: 18453\n"
     ]
    },
    {
     "name": "stderr",
     "output_type": "stream",
     "text": [
      "epoch 244 avg loss:19.3041 train_total_reward:1.000 test_total_reward:4.000 e-greedy:0.01669:   9%|▉         | 88/1000 [00:24<02:49,  5.37it/s]\n"
     ]
    },
    {
     "name": "stdout",
     "output_type": "stream",
     "text": [
      "    /// Result\n",
      "    Average train error: 19.30408\n",
      "    Avg train reward in one epoch: 0.01136\n",
      "    Avg test reward in one epoch: 0.04545\n",
      "    Total train reward in one epoch: 1.00000\n",
      "    Test reward: 1.00000\n",
      "    Greedy: 0.01669\n",
      "    Buffer: 18541\n"
     ]
    },
    {
     "name": "stderr",
     "output_type": "stream",
     "text": [
      "epoch 245 avg loss:15.8144 train_total_reward:1.000 test_total_reward:2.000 e-greedy:0.01674:   6%|▋         | 63/1000 [00:17<02:57,  5.29it/s]\n"
     ]
    },
    {
     "name": "stdout",
     "output_type": "stream",
     "text": [
      "    /// Result\n",
      "    Average train error: 15.81439\n",
      "    Avg train reward in one epoch: 0.01587\n",
      "    Avg test reward in one epoch: 0.03175\n",
      "    Total train reward in one epoch: 1.00000\n",
      "    Test reward: 1.00000\n",
      "    Greedy: 0.01674\n",
      "    Buffer: 18604\n"
     ]
    },
    {
     "name": "stderr",
     "output_type": "stream",
     "text": [
      "epoch 246 avg loss:16.2496 train_total_reward:2.000 test_total_reward:1.000 e-greedy:0.01681:   8%|▊         | 78/1000 [00:17<02:50,  5.42it/s]\n"
     ]
    },
    {
     "name": "stdout",
     "output_type": "stream",
     "text": [
      "    /// Result\n",
      "    Average train error: 16.24958\n",
      "    Avg train reward in one epoch: 0.02564\n",
      "    Avg test reward in one epoch: 0.01282\n",
      "    Total train reward in one epoch: 2.00000\n",
      "    Test reward: 2.00000\n",
      "    Greedy: 0.01681\n",
      "    Buffer: 18682\n"
     ]
    },
    {
     "name": "stderr",
     "output_type": "stream",
     "text": [
      "epoch 247 avg loss:21.4201 train_total_reward:2.000 test_total_reward:0.000 e-greedy:0.01689:   8%|▊         | 85/1000 [00:19<02:50,  5.35it/s]\n"
     ]
    },
    {
     "name": "stdout",
     "output_type": "stream",
     "text": [
      "    /// Result\n",
      "    Average train error: 21.42012\n",
      "    Avg train reward in one epoch: 0.02353\n",
      "    Avg test reward in one epoch: 0.00000\n",
      "    Total train reward in one epoch: 2.00000\n",
      "    Test reward: 2.00000\n",
      "    Greedy: 0.01689\n",
      "    Buffer: 18767\n"
     ]
    },
    {
     "name": "stderr",
     "output_type": "stream",
     "text": [
      "epoch 248 avg loss:18.9768 train_total_reward:1.000 test_total_reward:5.000 e-greedy:0.01695:   6%|▋         | 64/1000 [00:19<02:54,  5.37it/s]\n"
     ]
    },
    {
     "name": "stdout",
     "output_type": "stream",
     "text": [
      "    /// Result\n",
      "    Average train error: 18.97678\n",
      "    Avg train reward in one epoch: 0.01562\n",
      "    Avg test reward in one epoch: 0.07812\n",
      "    Total train reward in one epoch: 1.00000\n",
      "    Test reward: 1.00000\n",
      "    Greedy: 0.01695\n",
      "    Buffer: 18831\n"
     ]
    },
    {
     "name": "stderr",
     "output_type": "stream",
     "text": [
      "epoch 249 avg loss:14.5286 train_total_reward:0.000 test_total_reward:1.000 e-greedy:0.01700:   5%|▌         | 53/1000 [00:14<02:58,  5.30it/s]\n"
     ]
    },
    {
     "name": "stdout",
     "output_type": "stream",
     "text": [
      "    /// Result\n",
      "    Average train error: 14.52859\n",
      "    Avg train reward in one epoch: 0.00000\n",
      "    Avg test reward in one epoch: 0.01887\n",
      "    Total train reward in one epoch: 0.00000\n",
      "    Test reward: 0.00000\n",
      "    Greedy: 0.01700\n",
      "    Buffer: 18884\n"
     ]
    },
    {
     "name": "stderr",
     "output_type": "stream",
     "text": [
      "epoch 250 avg loss:14.6741 train_total_reward:0.000 test_total_reward:2.000 e-greedy:0.01704:   5%|▌         | 50/1000 [00:12<02:54,  5.45it/s]\n"
     ]
    },
    {
     "name": "stdout",
     "output_type": "stream",
     "text": [
      "    /// Result\n",
      "    Average train error: 14.67410\n",
      "    Avg train reward in one epoch: 0.00000\n",
      "    Avg test reward in one epoch: 0.04000\n",
      "    Total train reward in one epoch: 0.00000\n",
      "    Test reward: 0.00000\n",
      "    Greedy: 0.01704\n",
      "    Buffer: 18934\n"
     ]
    },
    {
     "name": "stderr",
     "output_type": "stream",
     "text": [
      "epoch 251 avg loss:24.0985 train_total_reward:2.000 test_total_reward:3.000 e-greedy:0.01712:   9%|▉         | 93/1000 [00:23<02:48,  5.39it/s]\n"
     ]
    },
    {
     "name": "stdout",
     "output_type": "stream",
     "text": [
      "    /// Result\n",
      "    Average train error: 24.09855\n",
      "    Avg train reward in one epoch: 0.02151\n",
      "    Avg test reward in one epoch: 0.03226\n",
      "    Total train reward in one epoch: 2.00000\n",
      "    Test reward: 2.00000\n",
      "    Greedy: 0.01712\n",
      "    Buffer: 19027\n"
     ]
    },
    {
     "name": "stderr",
     "output_type": "stream",
     "text": [
      "epoch 252 avg loss:17.7854 train_total_reward:0.000 test_total_reward:1.000 e-greedy:0.01719:   8%|▊         | 78/1000 [00:17<02:55,  5.25it/s]\n"
     ]
    },
    {
     "name": "stdout",
     "output_type": "stream",
     "text": [
      "    /// Result\n",
      "    Average train error: 17.78540\n",
      "    Avg train reward in one epoch: 0.00000\n",
      "    Avg test reward in one epoch: 0.01282\n",
      "    Total train reward in one epoch: 0.00000\n",
      "    Test reward: 0.00000\n",
      "    Greedy: 0.01719\n",
      "    Buffer: 19105\n"
     ]
    },
    {
     "name": "stderr",
     "output_type": "stream",
     "text": [
      "epoch 253 avg loss:22.2739 train_total_reward:3.000 test_total_reward:2.000 e-greedy:0.01728:  10%|▉         | 97/1000 [00:21<02:57,  5.10it/s]\n"
     ]
    },
    {
     "name": "stdout",
     "output_type": "stream",
     "text": [
      "    /// Result\n",
      "    Average train error: 22.27385\n",
      "    Avg train reward in one epoch: 0.03093\n",
      "    Avg test reward in one epoch: 0.02062\n",
      "    Total train reward in one epoch: 3.00000\n",
      "    Test reward: 3.00000\n",
      "    Greedy: 0.01728\n",
      "    Buffer: 19202\n"
     ]
    },
    {
     "name": "stderr",
     "output_type": "stream",
     "text": [
      "epoch 254 avg loss:21.4036 train_total_reward:1.000 test_total_reward:1.000 e-greedy:0.01734:   7%|▋         | 66/1000 [00:15<02:58,  5.22it/s]\n"
     ]
    },
    {
     "name": "stdout",
     "output_type": "stream",
     "text": [
      "    /// Result\n",
      "    Average train error: 21.40359\n",
      "    Avg train reward in one epoch: 0.01515\n",
      "    Avg test reward in one epoch: 0.01515\n",
      "    Total train reward in one epoch: 1.00000\n",
      "    Test reward: 1.00000\n",
      "    Greedy: 0.01734\n",
      "    Buffer: 19268\n"
     ]
    },
    {
     "name": "stderr",
     "output_type": "stream",
     "text": [
      "epoch 255 avg loss:15.5504 train_total_reward:3.000 test_total_reward:2.000 e-greedy:0.01742:   9%|▉         | 91/1000 [00:23<02:50,  5.32it/s]\n"
     ]
    },
    {
     "name": "stdout",
     "output_type": "stream",
     "text": [
      "    /// Result\n",
      "    Average train error: 15.55038\n",
      "    Avg train reward in one epoch: 0.03297\n",
      "    Avg test reward in one epoch: 0.02198\n",
      "    Total train reward in one epoch: 3.00000\n",
      "    Test reward: 3.00000\n",
      "    Greedy: 0.01742\n",
      "    Buffer: 19359\n"
     ]
    },
    {
     "name": "stderr",
     "output_type": "stream",
     "text": [
      "epoch 256 avg loss:24.6784 train_total_reward:1.000 test_total_reward:3.000 e-greedy:0.01748:   6%|▌         | 59/1000 [00:16<02:56,  5.33it/s]\n"
     ]
    },
    {
     "name": "stdout",
     "output_type": "stream",
     "text": [
      "    /// Result\n",
      "    Average train error: 24.67843\n",
      "    Avg train reward in one epoch: 0.01695\n",
      "    Avg test reward in one epoch: 0.05085\n",
      "    Total train reward in one epoch: 1.00000\n",
      "    Test reward: 1.00000\n",
      "    Greedy: 0.01748\n",
      "    Buffer: 19418\n"
     ]
    },
    {
     "name": "stderr",
     "output_type": "stream",
     "text": [
      "epoch 257 avg loss:22.7378 train_total_reward:0.000 test_total_reward:0.000 e-greedy:0.01752:   5%|▍         | 46/1000 [00:16<02:57,  5.38it/s]\n"
     ]
    },
    {
     "name": "stdout",
     "output_type": "stream",
     "text": [
      "    /// Result\n",
      "    Average train error: 22.73775\n",
      "    Avg train reward in one epoch: 0.00000\n",
      "    Avg test reward in one epoch: 0.00000\n",
      "    Total train reward in one epoch: 0.00000\n",
      "    Test reward: 0.00000\n",
      "    Greedy: 0.01752\n",
      "    Buffer: 19464\n"
     ]
    },
    {
     "name": "stderr",
     "output_type": "stream",
     "text": [
      "epoch 258 avg loss:14.9648 train_total_reward:1.000 test_total_reward:1.000 e-greedy:0.01757:   6%|▌         | 59/1000 [00:18<02:53,  5.43it/s]\n"
     ]
    },
    {
     "name": "stdout",
     "output_type": "stream",
     "text": [
      "    /// Result\n",
      "    Average train error: 14.96478\n",
      "    Avg train reward in one epoch: 0.01695\n",
      "    Avg test reward in one epoch: 0.01695\n",
      "    Total train reward in one epoch: 1.00000\n",
      "    Test reward: 1.00000\n",
      "    Greedy: 0.01757\n",
      "    Buffer: 19523\n"
     ]
    },
    {
     "name": "stderr",
     "output_type": "stream",
     "text": [
      "epoch 259 avg loss:27.2609 train_total_reward:1.000 test_total_reward:2.000 e-greedy:0.01764:   8%|▊         | 80/1000 [00:18<02:49,  5.43it/s]\n"
     ]
    },
    {
     "name": "stdout",
     "output_type": "stream",
     "text": [
      "    /// Result\n",
      "    Average train error: 27.26092\n",
      "    Avg train reward in one epoch: 0.01250\n",
      "    Avg test reward in one epoch: 0.02500\n",
      "    Total train reward in one epoch: 1.00000\n",
      "    Test reward: 1.00000\n",
      "    Greedy: 0.01764\n",
      "    Buffer: 19603\n"
     ]
    },
    {
     "name": "stderr",
     "output_type": "stream",
     "text": [
      "epoch 260 avg loss:17.8328 train_total_reward:0.000 test_total_reward:1.000 e-greedy:0.01769:   5%|▌         | 54/1000 [00:11<02:55,  5.38it/s]\n"
     ]
    },
    {
     "name": "stdout",
     "output_type": "stream",
     "text": [
      "    /// Result\n",
      "    Average train error: 17.83277\n",
      "    Avg train reward in one epoch: 0.00000\n",
      "    Avg test reward in one epoch: 0.01852\n",
      "    Total train reward in one epoch: 0.00000\n",
      "    Test reward: 0.00000\n",
      "    Greedy: 0.01769\n",
      "    Buffer: 19657\n"
     ]
    },
    {
     "name": "stderr",
     "output_type": "stream",
     "text": [
      "epoch 261 avg loss:24.7462 train_total_reward:0.000 test_total_reward:0.000 e-greedy:0.01774:   5%|▌         | 53/1000 [00:13<02:52,  5.49it/s]\n"
     ]
    },
    {
     "name": "stdout",
     "output_type": "stream",
     "text": [
      "    /// Result\n",
      "    Average train error: 24.74622\n",
      "    Avg train reward in one epoch: 0.00000\n",
      "    Avg test reward in one epoch: 0.00000\n",
      "    Total train reward in one epoch: 0.00000\n",
      "    Test reward: 0.00000\n",
      "    Greedy: 0.01774\n",
      "    Buffer: 19710\n"
     ]
    },
    {
     "name": "stderr",
     "output_type": "stream",
     "text": [
      "epoch 262 avg loss:25.4232 train_total_reward:1.000 test_total_reward:1.000 e-greedy:0.01781:   8%|▊         | 75/1000 [00:18<02:50,  5.43it/s]\n"
     ]
    },
    {
     "name": "stdout",
     "output_type": "stream",
     "text": [
      "    /// Result\n",
      "    Average train error: 25.42323\n",
      "    Avg train reward in one epoch: 0.01333\n",
      "    Avg test reward in one epoch: 0.01333\n",
      "    Total train reward in one epoch: 1.00000\n",
      "    Test reward: 1.00000\n",
      "    Greedy: 0.01781\n",
      "    Buffer: 19785\n"
     ]
    },
    {
     "name": "stderr",
     "output_type": "stream",
     "text": [
      "epoch 263 avg loss:14.5383 train_total_reward:2.000 test_total_reward:1.000 e-greedy:0.01788:   8%|▊         | 82/1000 [00:21<02:48,  5.44it/s]\n"
     ]
    },
    {
     "name": "stdout",
     "output_type": "stream",
     "text": [
      "    /// Result\n",
      "    Average train error: 14.53828\n",
      "    Avg train reward in one epoch: 0.02439\n",
      "    Avg test reward in one epoch: 0.01220\n",
      "    Total train reward in one epoch: 2.00000\n",
      "    Test reward: 2.00000\n",
      "    Greedy: 0.01788\n",
      "    Buffer: 19867\n"
     ]
    },
    {
     "name": "stderr",
     "output_type": "stream",
     "text": [
      "epoch 264 avg loss:22.5125 train_total_reward:1.000 test_total_reward:2.000 e-greedy:0.01794:   7%|▋         | 67/1000 [00:14<02:52,  5.41it/s]\n"
     ]
    },
    {
     "name": "stdout",
     "output_type": "stream",
     "text": [
      "    /// Result\n",
      "    Average train error: 22.51249\n",
      "    Avg train reward in one epoch: 0.01493\n",
      "    Avg test reward in one epoch: 0.02985\n",
      "    Total train reward in one epoch: 1.00000\n",
      "    Test reward: 1.00000\n",
      "    Greedy: 0.01794\n",
      "    Buffer: 19934\n"
     ]
    },
    {
     "name": "stderr",
     "output_type": "stream",
     "text": [
      "epoch 265 avg loss:21.8785 train_total_reward:3.000 test_total_reward:2.000 e-greedy:0.01802:   9%|▉         | 89/1000 [00:20<02:53,  5.25it/s]\n"
     ]
    },
    {
     "name": "stdout",
     "output_type": "stream",
     "text": [
      "    /// Result\n",
      "    Average train error: 21.87853\n",
      "    Avg train reward in one epoch: 0.03371\n",
      "    Avg test reward in one epoch: 0.02247\n",
      "    Total train reward in one epoch: 3.00000\n",
      "    Test reward: 3.00000\n",
      "    Greedy: 0.01802\n",
      "    Buffer: 20023\n"
     ]
    },
    {
     "name": "stderr",
     "output_type": "stream",
     "text": [
      "epoch 266 avg loss:2.6879 train_total_reward:1.000 test_total_reward:1.000 e-greedy:0.01807:   6%|▌         | 57/1000 [00:13<03:00,  5.24it/s]\n"
     ]
    },
    {
     "name": "stdout",
     "output_type": "stream",
     "text": [
      "    /// Result\n",
      "    Average train error: 2.68788\n",
      "    Avg train reward in one epoch: 0.01754\n",
      "    Avg test reward in one epoch: 0.01754\n",
      "    Total train reward in one epoch: 1.00000\n",
      "    Test reward: 1.00000\n",
      "    Greedy: 0.01807\n",
      "    Buffer: 20080\n"
     ]
    },
    {
     "name": "stderr",
     "output_type": "stream",
     "text": [
      "epoch 267 avg loss:0.0837 train_total_reward:1.000 test_total_reward:1.000 e-greedy:0.01813:   6%|▋         | 64/1000 [00:14<02:54,  5.36it/s]\n"
     ]
    },
    {
     "name": "stdout",
     "output_type": "stream",
     "text": [
      "    /// Result\n",
      "    Average train error: 0.08369\n",
      "    Avg train reward in one epoch: 0.01562\n",
      "    Avg test reward in one epoch: 0.01562\n",
      "    Total train reward in one epoch: 1.00000\n",
      "    Test reward: 1.00000\n",
      "    Greedy: 0.01813\n",
      "    Buffer: 20144\n"
     ]
    },
    {
     "name": "stderr",
     "output_type": "stream",
     "text": [
      "epoch 268 avg loss:0.0913 train_total_reward:0.000 test_total_reward:0.000 e-greedy:0.01818:   6%|▌         | 55/1000 [00:13<02:51,  5.50it/s]\n"
     ]
    },
    {
     "name": "stdout",
     "output_type": "stream",
     "text": [
      "    /// Result\n",
      "    Average train error: 0.09135\n",
      "    Avg train reward in one epoch: 0.00000\n",
      "    Avg test reward in one epoch: 0.00000\n",
      "    Total train reward in one epoch: 0.00000\n",
      "    Test reward: 0.00000\n",
      "    Greedy: 0.01818\n",
      "    Buffer: 20199\n"
     ]
    },
    {
     "name": "stderr",
     "output_type": "stream",
     "text": [
      "epoch 269 avg loss:0.0823 train_total_reward:1.000 test_total_reward:3.000 e-greedy:0.01823:   6%|▌         | 62/1000 [00:17<02:56,  5.33it/s]\n"
     ]
    },
    {
     "name": "stdout",
     "output_type": "stream",
     "text": [
      "    /// Result\n",
      "    Average train error: 0.08231\n",
      "    Avg train reward in one epoch: 0.01613\n",
      "    Avg test reward in one epoch: 0.04839\n",
      "    Total train reward in one epoch: 1.00000\n",
      "    Test reward: 1.00000\n",
      "    Greedy: 0.01823\n",
      "    Buffer: 20261\n"
     ]
    },
    {
     "name": "stderr",
     "output_type": "stream",
     "text": [
      "epoch 270 avg loss:0.0857 train_total_reward:1.000 test_total_reward:3.000 e-greedy:0.01830:   7%|▋         | 72/1000 [00:17<02:55,  5.29it/s]\n"
     ]
    },
    {
     "name": "stdout",
     "output_type": "stream",
     "text": [
      "    /// Result\n",
      "    Average train error: 0.08573\n",
      "    Avg train reward in one epoch: 0.01389\n",
      "    Avg test reward in one epoch: 0.04167\n",
      "    Total train reward in one epoch: 1.00000\n",
      "    Test reward: 1.00000\n",
      "    Greedy: 0.01830\n",
      "    Buffer: 20333\n"
     ]
    },
    {
     "name": "stderr",
     "output_type": "stream",
     "text": [
      "epoch 271 avg loss:0.0724 train_total_reward:1.000 test_total_reward:0.000 e-greedy:0.01837:   8%|▊         | 82/1000 [00:17<02:54,  5.26it/s]\n"
     ]
    },
    {
     "name": "stdout",
     "output_type": "stream",
     "text": [
      "    /// Result\n",
      "    Average train error: 0.07240\n",
      "    Avg train reward in one epoch: 0.01220\n",
      "    Avg test reward in one epoch: 0.00000\n",
      "    Total train reward in one epoch: 1.00000\n",
      "    Test reward: 1.00000\n",
      "    Greedy: 0.01837\n",
      "    Buffer: 20415\n"
     ]
    },
    {
     "name": "stderr",
     "output_type": "stream",
     "text": [
      "epoch 272 avg loss:0.0722 train_total_reward:2.000 test_total_reward:1.000 e-greedy:0.01845:   9%|▊         | 87/1000 [00:18<02:48,  5.42it/s]\n"
     ]
    },
    {
     "name": "stdout",
     "output_type": "stream",
     "text": [
      "    /// Result\n",
      "    Average train error: 0.07225\n",
      "    Avg train reward in one epoch: 0.02299\n",
      "    Avg test reward in one epoch: 0.01149\n",
      "    Total train reward in one epoch: 2.00000\n",
      "    Test reward: 2.00000\n",
      "    Greedy: 0.01845\n",
      "    Buffer: 20502\n"
     ]
    },
    {
     "name": "stderr",
     "output_type": "stream",
     "text": [
      "epoch 273 avg loss:0.0813 train_total_reward:1.000 test_total_reward:1.000 e-greedy:0.01850:   6%|▌         | 57/1000 [00:13<02:56,  5.35it/s]\n"
     ]
    },
    {
     "name": "stdout",
     "output_type": "stream",
     "text": [
      "    /// Result\n",
      "    Average train error: 0.08133\n",
      "    Avg train reward in one epoch: 0.01754\n",
      "    Avg test reward in one epoch: 0.01754\n",
      "    Total train reward in one epoch: 1.00000\n",
      "    Test reward: 1.00000\n",
      "    Greedy: 0.01850\n",
      "    Buffer: 20559\n"
     ]
    },
    {
     "name": "stderr",
     "output_type": "stream",
     "text": [
      "epoch 274 avg loss:0.0821 train_total_reward:3.000 test_total_reward:2.000 e-greedy:0.01859:   9%|▉         | 91/1000 [00:19<02:49,  5.36it/s]\n"
     ]
    },
    {
     "name": "stdout",
     "output_type": "stream",
     "text": [
      "    /// Result\n",
      "    Average train error: 0.08214\n",
      "    Avg train reward in one epoch: 0.03297\n",
      "    Avg test reward in one epoch: 0.02198\n",
      "    Total train reward in one epoch: 3.00000\n",
      "    Test reward: 3.00000\n",
      "    Greedy: 0.01859\n",
      "    Buffer: 20650\n"
     ]
    },
    {
     "name": "stderr",
     "output_type": "stream",
     "text": [
      "epoch 275 avg loss:0.0766 train_total_reward:0.000 test_total_reward:2.000 e-greedy:0.01863:   4%|▍         | 45/1000 [00:12<02:57,  5.39it/s]\n"
     ]
    },
    {
     "name": "stdout",
     "output_type": "stream",
     "text": [
      "    /// Result\n",
      "    Average train error: 0.07657\n",
      "    Avg train reward in one epoch: 0.00000\n",
      "    Avg test reward in one epoch: 0.04444\n",
      "    Total train reward in one epoch: 0.00000\n",
      "    Test reward: 0.00000\n",
      "    Greedy: 0.01863\n",
      "    Buffer: 20695\n"
     ]
    },
    {
     "name": "stderr",
     "output_type": "stream",
     "text": [
      "epoch 276 avg loss:0.0969 train_total_reward:0.000 test_total_reward:1.000 e-greedy:0.01867:   5%|▌         | 50/1000 [00:15<02:58,  5.33it/s]\n"
     ]
    },
    {
     "name": "stdout",
     "output_type": "stream",
     "text": [
      "    /// Result\n",
      "    Average train error: 0.09686\n",
      "    Avg train reward in one epoch: 0.00000\n",
      "    Avg test reward in one epoch: 0.02000\n",
      "    Total train reward in one epoch: 0.00000\n",
      "    Test reward: 0.00000\n",
      "    Greedy: 0.01867\n",
      "    Buffer: 20745\n"
     ]
    },
    {
     "name": "stderr",
     "output_type": "stream",
     "text": [
      "epoch 277 avg loss:0.0861 train_total_reward:1.000 test_total_reward:1.000 e-greedy:0.01873:   7%|▋         | 66/1000 [00:18<03:11,  4.89it/s]\n"
     ]
    },
    {
     "name": "stdout",
     "output_type": "stream",
     "text": [
      "    /// Result\n",
      "    Average train error: 0.08610\n",
      "    Avg train reward in one epoch: 0.01515\n",
      "    Avg test reward in one epoch: 0.01515\n",
      "    Total train reward in one epoch: 1.00000\n",
      "    Test reward: 1.00000\n",
      "    Greedy: 0.01873\n",
      "    Buffer: 20811\n"
     ]
    },
    {
     "name": "stderr",
     "output_type": "stream",
     "text": [
      "epoch 278 avg loss:0.0881 train_total_reward:1.000 test_total_reward:0.000 e-greedy:0.01879:   6%|▋         | 64/1000 [00:17<02:53,  5.38it/s]\n"
     ]
    },
    {
     "name": "stdout",
     "output_type": "stream",
     "text": [
      "    /// Result\n",
      "    Average train error: 0.08810\n",
      "    Avg train reward in one epoch: 0.01562\n",
      "    Avg test reward in one epoch: 0.00000\n",
      "    Total train reward in one epoch: 1.00000\n",
      "    Test reward: 1.00000\n",
      "    Greedy: 0.01879\n",
      "    Buffer: 20875\n"
     ]
    },
    {
     "name": "stderr",
     "output_type": "stream",
     "text": [
      "epoch 279 avg loss:0.0881 train_total_reward:1.000 test_total_reward:1.000 e-greedy:0.01885:   6%|▋         | 65/1000 [00:16<02:56,  5.29it/s]\n"
     ]
    },
    {
     "name": "stdout",
     "output_type": "stream",
     "text": [
      "    /// Result\n",
      "    Average train error: 0.08805\n",
      "    Avg train reward in one epoch: 0.01538\n",
      "    Avg test reward in one epoch: 0.01538\n",
      "    Total train reward in one epoch: 1.00000\n",
      "    Test reward: 1.00000\n",
      "    Greedy: 0.01885\n",
      "    Buffer: 20940\n"
     ]
    },
    {
     "name": "stderr",
     "output_type": "stream",
     "text": [
      "epoch 280 avg loss:0.0763 train_total_reward:3.000 test_total_reward:1.000 e-greedy:0.01893:  10%|▉         | 95/1000 [00:22<02:51,  5.29it/s]\n"
     ]
    },
    {
     "name": "stdout",
     "output_type": "stream",
     "text": [
      "    /// Result\n",
      "    Average train error: 0.07627\n",
      "    Avg train reward in one epoch: 0.03158\n",
      "    Avg test reward in one epoch: 0.01053\n",
      "    Total train reward in one epoch: 3.00000\n",
      "    Test reward: 3.00000\n",
      "    Greedy: 0.01893\n",
      "    Buffer: 21035\n"
     ]
    },
    {
     "name": "stderr",
     "output_type": "stream",
     "text": [
      "epoch 281 avg loss:0.0813 train_total_reward:2.000 test_total_reward:0.000 e-greedy:0.01900:   8%|▊         | 81/1000 [00:18<02:52,  5.34it/s]\n"
     ]
    },
    {
     "name": "stdout",
     "output_type": "stream",
     "text": [
      "    /// Result\n",
      "    Average train error: 0.08133\n",
      "    Avg train reward in one epoch: 0.02469\n",
      "    Avg test reward in one epoch: 0.00000\n",
      "    Total train reward in one epoch: 2.00000\n",
      "    Test reward: 2.00000\n",
      "    Greedy: 0.01900\n",
      "    Buffer: 21116\n"
     ]
    },
    {
     "name": "stderr",
     "output_type": "stream",
     "text": [
      "epoch 282 avg loss:0.0913 train_total_reward:1.000 test_total_reward:2.000 e-greedy:0.01906:   6%|▋         | 64/1000 [00:15<02:52,  5.43it/s]\n"
     ]
    },
    {
     "name": "stdout",
     "output_type": "stream",
     "text": [
      "    /// Result\n",
      "    Average train error: 0.09127\n",
      "    Avg train reward in one epoch: 0.01562\n",
      "    Avg test reward in one epoch: 0.03125\n",
      "    Total train reward in one epoch: 1.00000\n",
      "    Test reward: 1.00000\n",
      "    Greedy: 0.01906\n",
      "    Buffer: 21180\n"
     ]
    },
    {
     "name": "stderr",
     "output_type": "stream",
     "text": [
      "epoch 283 avg loss:0.0908 train_total_reward:0.000 test_total_reward:3.000 e-greedy:0.01910:   4%|▍         | 42/1000 [00:12<03:00,  5.31it/s]\n"
     ]
    },
    {
     "name": "stdout",
     "output_type": "stream",
     "text": [
      "    /// Result\n",
      "    Average train error: 0.09083\n",
      "    Avg train reward in one epoch: 0.00000\n",
      "    Avg test reward in one epoch: 0.07143\n",
      "    Total train reward in one epoch: 0.00000\n",
      "    Test reward: 0.00000\n",
      "    Greedy: 0.01910\n",
      "    Buffer: 21222\n"
     ]
    },
    {
     "name": "stderr",
     "output_type": "stream",
     "text": [
      "epoch 284 avg loss:0.0918 train_total_reward:0.000 test_total_reward:1.000 e-greedy:0.01917:   8%|▊         | 80/1000 [00:17<02:54,  5.28it/s]\n"
     ]
    },
    {
     "name": "stdout",
     "output_type": "stream",
     "text": [
      "    /// Result\n",
      "    Average train error: 0.09183\n",
      "    Avg train reward in one epoch: 0.00000\n",
      "    Avg test reward in one epoch: 0.01250\n",
      "    Total train reward in one epoch: 0.00000\n",
      "    Test reward: 0.00000\n",
      "    Greedy: 0.01917\n",
      "    Buffer: 21302\n"
     ]
    },
    {
     "name": "stderr",
     "output_type": "stream",
     "text": [
      "epoch 285 avg loss:0.0768 train_total_reward:0.000 test_total_reward:2.000 e-greedy:0.01921:   5%|▍         | 47/1000 [00:11<02:56,  5.40it/s]\n"
     ]
    },
    {
     "name": "stdout",
     "output_type": "stream",
     "text": [
      "    /// Result\n",
      "    Average train error: 0.07683\n",
      "    Avg train reward in one epoch: 0.00000\n",
      "    Avg test reward in one epoch: 0.04255\n",
      "    Total train reward in one epoch: 0.00000\n",
      "    Test reward: 0.00000\n",
      "    Greedy: 0.01921\n",
      "    Buffer: 21349\n"
     ]
    },
    {
     "name": "stderr",
     "output_type": "stream",
     "text": [
      "epoch 286 avg loss:0.0912 train_total_reward:3.000 test_total_reward:2.000 e-greedy:0.01930:   9%|▉         | 94/1000 [00:21<02:50,  5.31it/s]\n"
     ]
    },
    {
     "name": "stdout",
     "output_type": "stream",
     "text": [
      "    /// Result\n",
      "    Average train error: 0.09117\n",
      "    Avg train reward in one epoch: 0.03191\n",
      "    Avg test reward in one epoch: 0.02128\n",
      "    Total train reward in one epoch: 3.00000\n",
      "    Test reward: 3.00000\n",
      "    Greedy: 0.01930\n",
      "    Buffer: 21443\n"
     ]
    },
    {
     "name": "stderr",
     "output_type": "stream",
     "text": [
      "epoch 287 avg loss:0.0881 train_total_reward:1.000 test_total_reward:2.000 e-greedy:0.01937:   8%|▊         | 84/1000 [00:17<02:51,  5.33it/s]\n"
     ]
    },
    {
     "name": "stdout",
     "output_type": "stream",
     "text": [
      "    /// Result\n",
      "    Average train error: 0.08809\n",
      "    Avg train reward in one epoch: 0.01190\n",
      "    Avg test reward in one epoch: 0.02381\n",
      "    Total train reward in one epoch: 1.00000\n",
      "    Test reward: 1.00000\n",
      "    Greedy: 0.01937\n",
      "    Buffer: 21527\n"
     ]
    },
    {
     "name": "stderr",
     "output_type": "stream",
     "text": [
      "epoch 288 avg loss:0.0835 train_total_reward:5.000 test_total_reward:2.000 e-greedy:0.01949:  13%|█▎        | 133/1000 [00:27<02:48,  5.14it/s]\n"
     ]
    },
    {
     "name": "stdout",
     "output_type": "stream",
     "text": [
      "    /// Result\n",
      "    Average train error: 0.08347\n",
      "    Avg train reward in one epoch: 0.03759\n",
      "    Avg test reward in one epoch: 0.01504\n",
      "    Total train reward in one epoch: 5.00000\n",
      "    Test reward: 5.00000\n",
      "    Greedy: 0.01949\n",
      "    Buffer: 21660\n"
     ]
    },
    {
     "name": "stderr",
     "output_type": "stream",
     "text": [
      "epoch 289 avg loss:0.0798 train_total_reward:2.000 test_total_reward:0.000 e-greedy:0.01958:  10%|█         | 100/1000 [00:21<02:49,  5.31it/s]\n"
     ]
    },
    {
     "name": "stdout",
     "output_type": "stream",
     "text": [
      "    /// Result\n",
      "    Average train error: 0.07982\n",
      "    Avg train reward in one epoch: 0.02000\n",
      "    Avg test reward in one epoch: 0.00000\n",
      "    Total train reward in one epoch: 2.00000\n",
      "    Test reward: 2.00000\n",
      "    Greedy: 0.01958\n",
      "    Buffer: 21760\n"
     ]
    },
    {
     "name": "stderr",
     "output_type": "stream",
     "text": [
      "epoch 290 avg loss:0.0876 train_total_reward:7.000 test_total_reward:1.000 e-greedy:0.01973:  16%|█▌        | 157/1000 [00:31<02:36,  5.38it/s]\n"
     ]
    },
    {
     "name": "stdout",
     "output_type": "stream",
     "text": [
      "    /// Result\n",
      "    Average train error: 0.08755\n",
      "    Avg train reward in one epoch: 0.04459\n",
      "    Avg test reward in one epoch: 0.00637\n",
      "    Total train reward in one epoch: 7.00000\n",
      "    Test reward: 7.00000\n",
      "    Greedy: 0.01973\n",
      "    Buffer: 21917\n"
     ]
    },
    {
     "name": "stderr",
     "output_type": "stream",
     "text": [
      "epoch 291 avg loss:0.0822 train_total_reward:0.000 test_total_reward:2.000 e-greedy:0.01977:   5%|▍         | 48/1000 [00:13<03:08,  5.06it/s]\n"
     ]
    },
    {
     "name": "stdout",
     "output_type": "stream",
     "text": [
      "    /// Result\n",
      "    Average train error: 0.08222\n",
      "    Avg train reward in one epoch: 0.00000\n",
      "    Avg test reward in one epoch: 0.04167\n",
      "    Total train reward in one epoch: 0.00000\n",
      "    Test reward: 0.00000\n",
      "    Greedy: 0.01977\n",
      "    Buffer: 21965\n"
     ]
    },
    {
     "name": "stderr",
     "output_type": "stream",
     "text": [
      "epoch 292 avg loss:0.0741 train_total_reward:0.000 test_total_reward:2.000 e-greedy:0.01982:   5%|▌         | 54/1000 [00:14<02:55,  5.38it/s]\n"
     ]
    },
    {
     "name": "stdout",
     "output_type": "stream",
     "text": [
      "    /// Result\n",
      "    Average train error: 0.07408\n",
      "    Avg train reward in one epoch: 0.00000\n",
      "    Avg test reward in one epoch: 0.03704\n",
      "    Total train reward in one epoch: 0.00000\n",
      "    Test reward: 0.00000\n",
      "    Greedy: 0.01982\n",
      "    Buffer: 22019\n"
     ]
    },
    {
     "name": "stderr",
     "output_type": "stream",
     "text": [
      "epoch 293 avg loss:0.0902 train_total_reward:1.000 test_total_reward:1.000 e-greedy:0.01987:   6%|▌         | 57/1000 [00:14<02:55,  5.39it/s]\n"
     ]
    },
    {
     "name": "stdout",
     "output_type": "stream",
     "text": [
      "    /// Result\n",
      "    Average train error: 0.09019\n",
      "    Avg train reward in one epoch: 0.01754\n",
      "    Avg test reward in one epoch: 0.01754\n",
      "    Total train reward in one epoch: 1.00000\n",
      "    Test reward: 1.00000\n",
      "    Greedy: 0.01987\n",
      "    Buffer: 22076\n"
     ]
    },
    {
     "name": "stderr",
     "output_type": "stream",
     "text": [
      "epoch 294 avg loss:0.0853 train_total_reward:0.000 test_total_reward:1.000 e-greedy:0.01991:   4%|▍         | 45/1000 [00:11<02:57,  5.37it/s]\n"
     ]
    },
    {
     "name": "stdout",
     "output_type": "stream",
     "text": [
      "    /// Result\n",
      "    Average train error: 0.08527\n",
      "    Avg train reward in one epoch: 0.00000\n",
      "    Avg test reward in one epoch: 0.02222\n",
      "    Total train reward in one epoch: 0.00000\n",
      "    Test reward: 0.00000\n",
      "    Greedy: 0.01991\n",
      "    Buffer: 22121\n"
     ]
    },
    {
     "name": "stderr",
     "output_type": "stream",
     "text": [
      "epoch 295 avg loss:0.0922 train_total_reward:2.000 test_total_reward:0.000 e-greedy:0.01998:   8%|▊         | 79/1000 [00:21<02:53,  5.32it/s]\n"
     ]
    },
    {
     "name": "stdout",
     "output_type": "stream",
     "text": [
      "    /// Result\n",
      "    Average train error: 0.09217\n",
      "    Avg train reward in one epoch: 0.02532\n",
      "    Avg test reward in one epoch: 0.00000\n",
      "    Total train reward in one epoch: 2.00000\n",
      "    Test reward: 2.00000\n",
      "    Greedy: 0.01998\n",
      "    Buffer: 22200\n"
     ]
    },
    {
     "name": "stderr",
     "output_type": "stream",
     "text": [
      "epoch 296 avg loss:0.0843 train_total_reward:3.000 test_total_reward:2.000 e-greedy:0.02007:  10%|█         | 103/1000 [00:23<02:49,  5.30it/s]\n"
     ]
    },
    {
     "name": "stdout",
     "output_type": "stream",
     "text": [
      "    /// Result\n",
      "    Average train error: 0.08431\n",
      "    Avg train reward in one epoch: 0.02913\n",
      "    Avg test reward in one epoch: 0.01942\n",
      "    Total train reward in one epoch: 3.00000\n",
      "    Test reward: 3.00000\n",
      "    Greedy: 0.02007\n",
      "    Buffer: 22303\n"
     ]
    },
    {
     "name": "stderr",
     "output_type": "stream",
     "text": [
      "epoch 297 avg loss:0.0938 train_total_reward:3.000 test_total_reward:1.000 e-greedy:0.02015:   9%|▉         | 89/1000 [00:20<02:52,  5.28it/s]\n"
     ]
    },
    {
     "name": "stdout",
     "output_type": "stream",
     "text": [
      "    /// Result\n",
      "    Average train error: 0.09383\n",
      "    Avg train reward in one epoch: 0.03371\n",
      "    Avg test reward in one epoch: 0.01124\n",
      "    Total train reward in one epoch: 3.00000\n",
      "    Test reward: 3.00000\n",
      "    Greedy: 0.02015\n",
      "    Buffer: 22392\n"
     ]
    },
    {
     "name": "stderr",
     "output_type": "stream",
     "text": [
      "epoch 298 avg loss:0.0793 train_total_reward:1.000 test_total_reward:1.000 e-greedy:0.02021:   7%|▋         | 68/1000 [00:18<02:53,  5.38it/s]\n"
     ]
    },
    {
     "name": "stdout",
     "output_type": "stream",
     "text": [
      "    /// Result\n",
      "    Average train error: 0.07931\n",
      "    Avg train reward in one epoch: 0.01471\n",
      "    Avg test reward in one epoch: 0.01471\n",
      "    Total train reward in one epoch: 1.00000\n",
      "    Test reward: 1.00000\n",
      "    Greedy: 0.02021\n",
      "    Buffer: 22460\n"
     ]
    },
    {
     "name": "stderr",
     "output_type": "stream",
     "text": [
      "epoch 299 avg loss:0.0835 train_total_reward:4.000 test_total_reward:7.000 e-greedy:0.02033:  13%|█▎        | 127/1000 [00:28<02:45,  5.28it/s]\n"
     ]
    },
    {
     "name": "stdout",
     "output_type": "stream",
     "text": [
      "    /// Result\n",
      "    Average train error: 0.08353\n",
      "    Avg train reward in one epoch: 0.03150\n",
      "    Avg test reward in one epoch: 0.05512\n",
      "    Total train reward in one epoch: 4.00000\n",
      "    Test reward: 4.00000\n",
      "    Greedy: 0.02033\n",
      "    Buffer: 22587\n"
     ]
    },
    {
     "name": "stderr",
     "output_type": "stream",
     "text": [
      "epoch 300 avg loss:0.0854 train_total_reward:3.000 test_total_reward:0.000 e-greedy:0.02041:   9%|▉         | 94/1000 [00:22<02:50,  5.33it/s]\n"
     ]
    },
    {
     "name": "stdout",
     "output_type": "stream",
     "text": [
      "    /// Result\n",
      "    Average train error: 0.08544\n",
      "    Avg train reward in one epoch: 0.03191\n",
      "    Avg test reward in one epoch: 0.00000\n",
      "    Total train reward in one epoch: 3.00000\n",
      "    Test reward: 3.00000\n",
      "    Greedy: 0.02041\n",
      "    Buffer: 22681\n"
     ]
    },
    {
     "name": "stderr",
     "output_type": "stream",
     "text": [
      "epoch 301 avg loss:0.0797 train_total_reward:3.000 test_total_reward:1.000 e-greedy:0.02051:  10%|█         | 104/1000 [00:20<02:46,  5.39it/s]\n"
     ]
    },
    {
     "name": "stdout",
     "output_type": "stream",
     "text": [
      "    /// Result\n",
      "    Average train error: 0.07965\n",
      "    Avg train reward in one epoch: 0.02885\n",
      "    Avg test reward in one epoch: 0.00962\n",
      "    Total train reward in one epoch: 3.00000\n",
      "    Test reward: 3.00000\n",
      "    Greedy: 0.02051\n",
      "    Buffer: 22785\n"
     ]
    },
    {
     "name": "stderr",
     "output_type": "stream",
     "text": [
      "epoch 302 avg loss:0.0921 train_total_reward:1.000 test_total_reward:0.000 e-greedy:0.02058:   8%|▊         | 79/1000 [00:17<02:52,  5.34it/s]\n"
     ]
    },
    {
     "name": "stdout",
     "output_type": "stream",
     "text": [
      "    /// Result\n",
      "    Average train error: 0.09212\n",
      "    Avg train reward in one epoch: 0.01266\n",
      "    Avg test reward in one epoch: 0.00000\n",
      "    Total train reward in one epoch: 1.00000\n",
      "    Test reward: 1.00000\n",
      "    Greedy: 0.02058\n",
      "    Buffer: 22864\n"
     ]
    },
    {
     "name": "stderr",
     "output_type": "stream",
     "text": [
      "epoch 303 avg loss:0.0769 train_total_reward:3.000 test_total_reward:3.000 e-greedy:0.02066:   9%|▉         | 88/1000 [00:21<02:51,  5.31it/s]\n"
     ]
    },
    {
     "name": "stdout",
     "output_type": "stream",
     "text": [
      "    /// Result\n",
      "    Average train error: 0.07686\n",
      "    Avg train reward in one epoch: 0.03409\n",
      "    Avg test reward in one epoch: 0.03409\n",
      "    Total train reward in one epoch: 3.00000\n",
      "    Test reward: 3.00000\n",
      "    Greedy: 0.02066\n",
      "    Buffer: 22952\n"
     ]
    },
    {
     "name": "stderr",
     "output_type": "stream",
     "text": [
      "epoch 304 avg loss:0.0813 train_total_reward:2.000 test_total_reward:2.000 e-greedy:0.02073:   8%|▊         | 77/1000 [00:19<02:55,  5.27it/s]\n"
     ]
    },
    {
     "name": "stdout",
     "output_type": "stream",
     "text": [
      "    /// Result\n",
      "    Average train error: 0.08128\n",
      "    Avg train reward in one epoch: 0.02597\n",
      "    Avg test reward in one epoch: 0.02597\n",
      "    Total train reward in one epoch: 2.00000\n",
      "    Test reward: 2.00000\n",
      "    Greedy: 0.02073\n",
      "    Buffer: 23029\n"
     ]
    },
    {
     "name": "stderr",
     "output_type": "stream",
     "text": [
      "epoch 305 avg loss:0.0886 train_total_reward:0.000 test_total_reward:0.000 e-greedy:0.02078:   6%|▌         | 55/1000 [00:12<02:54,  5.40it/s]\n"
     ]
    },
    {
     "name": "stdout",
     "output_type": "stream",
     "text": [
      "    /// Result\n",
      "    Average train error: 0.08863\n",
      "    Avg train reward in one epoch: 0.00000\n",
      "    Avg test reward in one epoch: 0.00000\n",
      "    Total train reward in one epoch: 0.00000\n",
      "    Test reward: 0.00000\n",
      "    Greedy: 0.02078\n",
      "    Buffer: 23084\n"
     ]
    },
    {
     "name": "stderr",
     "output_type": "stream",
     "text": [
      "epoch 306 avg loss:0.0829 train_total_reward:0.000 test_total_reward:3.000 e-greedy:0.02082:   5%|▍         | 47/1000 [00:12<02:57,  5.38it/s]\n"
     ]
    },
    {
     "name": "stdout",
     "output_type": "stream",
     "text": [
      "    /// Result\n",
      "    Average train error: 0.08287\n",
      "    Avg train reward in one epoch: 0.00000\n",
      "    Avg test reward in one epoch: 0.06383\n",
      "    Total train reward in one epoch: 0.00000\n",
      "    Test reward: 0.00000\n",
      "    Greedy: 0.02082\n",
      "    Buffer: 23131\n"
     ]
    },
    {
     "name": "stderr",
     "output_type": "stream",
     "text": [
      "epoch 307 avg loss:0.0923 train_total_reward:1.000 test_total_reward:1.000 e-greedy:0.02087:   6%|▌         | 55/1000 [00:11<02:54,  5.42it/s]\n"
     ]
    },
    {
     "name": "stdout",
     "output_type": "stream",
     "text": [
      "    /// Result\n",
      "    Average train error: 0.09234\n",
      "    Avg train reward in one epoch: 0.01818\n",
      "    Avg test reward in one epoch: 0.01818\n",
      "    Total train reward in one epoch: 1.00000\n",
      "    Test reward: 1.00000\n",
      "    Greedy: 0.02087\n",
      "    Buffer: 23186\n"
     ]
    },
    {
     "name": "stderr",
     "output_type": "stream",
     "text": [
      "epoch 308 avg loss:0.0788 train_total_reward:0.000 test_total_reward:2.000 e-greedy:0.02091:   5%|▌         | 50/1000 [00:13<02:58,  5.33it/s]\n"
     ]
    },
    {
     "name": "stdout",
     "output_type": "stream",
     "text": [
      "    /// Result\n",
      "    Average train error: 0.07881\n",
      "    Avg train reward in one epoch: 0.00000\n",
      "    Avg test reward in one epoch: 0.04000\n",
      "    Total train reward in one epoch: 0.00000\n",
      "    Test reward: 0.00000\n",
      "    Greedy: 0.02091\n",
      "    Buffer: 23236\n"
     ]
    },
    {
     "name": "stderr",
     "output_type": "stream",
     "text": [
      "epoch 309 avg loss:0.0910 train_total_reward:4.000 test_total_reward:0.000 e-greedy:0.02102:  12%|█▏        | 117/1000 [00:26<02:43,  5.40it/s]\n"
     ]
    },
    {
     "name": "stdout",
     "output_type": "stream",
     "text": [
      "    /// Result\n",
      "    Average train error: 0.09103\n",
      "    Avg train reward in one epoch: 0.03419\n",
      "    Avg test reward in one epoch: 0.00000\n",
      "    Total train reward in one epoch: 4.00000\n",
      "    Test reward: 4.00000\n",
      "    Greedy: 0.02102\n",
      "    Buffer: 23353\n"
     ]
    },
    {
     "name": "stderr",
     "output_type": "stream",
     "text": [
      "epoch 310 avg loss:0.0859 train_total_reward:1.000 test_total_reward:1.000 e-greedy:0.02108:   7%|▋         | 67/1000 [00:17<03:00,  5.16it/s]\n"
     ]
    },
    {
     "name": "stdout",
     "output_type": "stream",
     "text": [
      "    /// Result\n",
      "    Average train error: 0.08592\n",
      "    Avg train reward in one epoch: 0.01493\n",
      "    Avg test reward in one epoch: 0.01493\n",
      "    Total train reward in one epoch: 1.00000\n",
      "    Test reward: 1.00000\n",
      "    Greedy: 0.02108\n",
      "    Buffer: 23420\n"
     ]
    },
    {
     "name": "stderr",
     "output_type": "stream",
     "text": [
      "epoch 311 avg loss:0.0813 train_total_reward:1.000 test_total_reward:2.000 e-greedy:0.02114:   7%|▋         | 66/1000 [00:16<02:54,  5.34it/s]\n"
     ]
    },
    {
     "name": "stdout",
     "output_type": "stream",
     "text": [
      "    /// Result\n",
      "    Average train error: 0.08129\n",
      "    Avg train reward in one epoch: 0.01515\n",
      "    Avg test reward in one epoch: 0.03030\n",
      "    Total train reward in one epoch: 1.00000\n",
      "    Test reward: 1.00000\n",
      "    Greedy: 0.02114\n",
      "    Buffer: 23486\n"
     ]
    },
    {
     "name": "stderr",
     "output_type": "stream",
     "text": [
      "epoch 312 avg loss:0.0865 train_total_reward:2.000 test_total_reward:0.000 e-greedy:0.02120:   7%|▋         | 68/1000 [00:16<02:54,  5.33it/s]\n"
     ]
    },
    {
     "name": "stdout",
     "output_type": "stream",
     "text": [
      "    /// Result\n",
      "    Average train error: 0.08653\n",
      "    Avg train reward in one epoch: 0.02941\n",
      "    Avg test reward in one epoch: 0.00000\n",
      "    Total train reward in one epoch: 2.00000\n",
      "    Test reward: 2.00000\n",
      "    Greedy: 0.02120\n",
      "    Buffer: 23554\n"
     ]
    },
    {
     "name": "stderr",
     "output_type": "stream",
     "text": [
      "epoch 313 avg loss:0.0872 train_total_reward:2.000 test_total_reward:0.000 e-greedy:0.02127:   8%|▊         | 77/1000 [00:19<02:53,  5.31it/s]\n"
     ]
    },
    {
     "name": "stdout",
     "output_type": "stream",
     "text": [
      "    /// Result\n",
      "    Average train error: 0.08722\n",
      "    Avg train reward in one epoch: 0.02597\n",
      "    Avg test reward in one epoch: 0.00000\n",
      "    Total train reward in one epoch: 2.00000\n",
      "    Test reward: 2.00000\n",
      "    Greedy: 0.02127\n",
      "    Buffer: 23631\n"
     ]
    },
    {
     "name": "stderr",
     "output_type": "stream",
     "text": [
      "epoch 314 avg loss:0.0760 train_total_reward:2.000 test_total_reward:0.000 e-greedy:0.02133:   7%|▋         | 69/1000 [00:15<02:53,  5.37it/s]\n"
     ]
    },
    {
     "name": "stdout",
     "output_type": "stream",
     "text": [
      "    /// Result\n",
      "    Average train error: 0.07598\n",
      "    Avg train reward in one epoch: 0.02899\n",
      "    Avg test reward in one epoch: 0.00000\n",
      "    Total train reward in one epoch: 2.00000\n",
      "    Test reward: 2.00000\n",
      "    Greedy: 0.02133\n",
      "    Buffer: 23700\n"
     ]
    },
    {
     "name": "stderr",
     "output_type": "stream",
     "text": [
      "epoch 315 avg loss:0.0872 train_total_reward:3.000 test_total_reward:0.000 e-greedy:0.02141:   9%|▉         | 89/1000 [00:18<02:50,  5.34it/s]\n"
     ]
    },
    {
     "name": "stdout",
     "output_type": "stream",
     "text": [
      "    /// Result\n",
      "    Average train error: 0.08719\n",
      "    Avg train reward in one epoch: 0.03371\n",
      "    Avg test reward in one epoch: 0.00000\n",
      "    Total train reward in one epoch: 3.00000\n",
      "    Test reward: 3.00000\n",
      "    Greedy: 0.02141\n",
      "    Buffer: 23789\n"
     ]
    },
    {
     "name": "stderr",
     "output_type": "stream",
     "text": [
      "epoch 316 avg loss:0.0736 train_total_reward:2.000 test_total_reward:1.000 e-greedy:0.02148:   8%|▊         | 83/1000 [00:20<02:54,  5.26it/s]\n"
     ]
    },
    {
     "name": "stdout",
     "output_type": "stream",
     "text": [
      "    /// Result\n",
      "    Average train error: 0.07361\n",
      "    Avg train reward in one epoch: 0.02410\n",
      "    Avg test reward in one epoch: 0.01205\n",
      "    Total train reward in one epoch: 2.00000\n",
      "    Test reward: 2.00000\n",
      "    Greedy: 0.02148\n",
      "    Buffer: 23872\n"
     ]
    },
    {
     "name": "stderr",
     "output_type": "stream",
     "text": [
      "epoch 317 avg loss:0.0789 train_total_reward:1.000 test_total_reward:2.000 e-greedy:0.02155:   7%|▋         | 72/1000 [00:18<02:57,  5.23it/s]\n"
     ]
    },
    {
     "name": "stdout",
     "output_type": "stream",
     "text": [
      "    /// Result\n",
      "    Average train error: 0.07894\n",
      "    Avg train reward in one epoch: 0.01389\n",
      "    Avg test reward in one epoch: 0.02778\n",
      "    Total train reward in one epoch: 1.00000\n",
      "    Test reward: 1.00000\n",
      "    Greedy: 0.02155\n",
      "    Buffer: 23944\n"
     ]
    },
    {
     "name": "stderr",
     "output_type": "stream",
     "text": [
      "epoch 318 avg loss:0.0833 train_total_reward:1.000 test_total_reward:0.000 e-greedy:0.02161:   7%|▋         | 70/1000 [00:15<02:51,  5.42it/s]\n"
     ]
    },
    {
     "name": "stdout",
     "output_type": "stream",
     "text": [
      "    /// Result\n",
      "    Average train error: 0.08331\n",
      "    Avg train reward in one epoch: 0.01429\n",
      "    Avg test reward in one epoch: 0.00000\n",
      "    Total train reward in one epoch: 1.00000\n",
      "    Test reward: 1.00000\n",
      "    Greedy: 0.02161\n",
      "    Buffer: 24014\n"
     ]
    },
    {
     "name": "stderr",
     "output_type": "stream",
     "text": [
      "epoch 319 avg loss:0.0862 train_total_reward:2.000 test_total_reward:0.000 e-greedy:0.02170:   9%|▉         | 93/1000 [00:22<02:49,  5.34it/s]\n"
     ]
    },
    {
     "name": "stdout",
     "output_type": "stream",
     "text": [
      "    /// Result\n",
      "    Average train error: 0.08615\n",
      "    Avg train reward in one epoch: 0.02151\n",
      "    Avg test reward in one epoch: 0.00000\n",
      "    Total train reward in one epoch: 2.00000\n",
      "    Test reward: 2.00000\n",
      "    Greedy: 0.02170\n",
      "    Buffer: 24107\n"
     ]
    },
    {
     "name": "stderr",
     "output_type": "stream",
     "text": [
      "epoch 320 avg loss:0.0861 train_total_reward:5.000 test_total_reward:1.000 e-greedy:0.02179:  11%|█         | 107/1000 [00:24<02:47,  5.33it/s]\n"
     ]
    },
    {
     "name": "stdout",
     "output_type": "stream",
     "text": [
      "    /// Result\n",
      "    Average train error: 0.08610\n",
      "    Avg train reward in one epoch: 0.04673\n",
      "    Avg test reward in one epoch: 0.00935\n",
      "    Total train reward in one epoch: 5.00000\n",
      "    Test reward: 5.00000\n",
      "    Greedy: 0.02179\n",
      "    Buffer: 24214\n"
     ]
    },
    {
     "name": "stderr",
     "output_type": "stream",
     "text": [
      "epoch 321 avg loss:0.0863 train_total_reward:3.000 test_total_reward:2.000 e-greedy:0.02187:   9%|▉         | 88/1000 [00:20<02:49,  5.36it/s]\n"
     ]
    },
    {
     "name": "stdout",
     "output_type": "stream",
     "text": [
      "    /// Result\n",
      "    Average train error: 0.08626\n",
      "    Avg train reward in one epoch: 0.03409\n",
      "    Avg test reward in one epoch: 0.02273\n",
      "    Total train reward in one epoch: 3.00000\n",
      "    Test reward: 3.00000\n",
      "    Greedy: 0.02187\n",
      "    Buffer: 24302\n"
     ]
    },
    {
     "name": "stderr",
     "output_type": "stream",
     "text": [
      "epoch 322 avg loss:0.0809 train_total_reward:3.000 test_total_reward:2.000 e-greedy:0.02197:  11%|█         | 108/1000 [00:25<02:49,  5.26it/s]\n"
     ]
    },
    {
     "name": "stdout",
     "output_type": "stream",
     "text": [
      "    /// Result\n",
      "    Average train error: 0.08091\n",
      "    Avg train reward in one epoch: 0.02778\n",
      "    Avg test reward in one epoch: 0.01852\n",
      "    Total train reward in one epoch: 3.00000\n",
      "    Test reward: 3.00000\n",
      "    Greedy: 0.02197\n",
      "    Buffer: 24410\n"
     ]
    },
    {
     "name": "stderr",
     "output_type": "stream",
     "text": [
      "epoch 323 avg loss:0.0711 train_total_reward:0.000 test_total_reward:1.000 e-greedy:0.02202:   5%|▌         | 53/1000 [00:12<02:58,  5.30it/s]\n"
     ]
    },
    {
     "name": "stdout",
     "output_type": "stream",
     "text": [
      "    /// Result\n",
      "    Average train error: 0.07107\n",
      "    Avg train reward in one epoch: 0.00000\n",
      "    Avg test reward in one epoch: 0.01887\n",
      "    Total train reward in one epoch: 0.00000\n",
      "    Test reward: 0.00000\n",
      "    Greedy: 0.02202\n",
      "    Buffer: 24463\n"
     ]
    },
    {
     "name": "stderr",
     "output_type": "stream",
     "text": [
      "epoch 324 avg loss:0.0793 train_total_reward:1.000 test_total_reward:2.000 e-greedy:0.02208:   7%|▋         | 68/1000 [00:13<02:53,  5.37it/s]\n"
     ]
    },
    {
     "name": "stdout",
     "output_type": "stream",
     "text": [
      "    /// Result\n",
      "    Average train error: 0.07929\n",
      "    Avg train reward in one epoch: 0.01471\n",
      "    Avg test reward in one epoch: 0.02941\n",
      "    Total train reward in one epoch: 1.00000\n",
      "    Test reward: 1.00000\n",
      "    Greedy: 0.02208\n",
      "    Buffer: 24531\n"
     ]
    },
    {
     "name": "stderr",
     "output_type": "stream",
     "text": [
      "epoch 325 avg loss:0.0925 train_total_reward:0.000 test_total_reward:1.000 e-greedy:0.02212:   4%|▍         | 44/1000 [00:12<02:58,  5.36it/s]\n"
     ]
    },
    {
     "name": "stdout",
     "output_type": "stream",
     "text": [
      "    /// Result\n",
      "    Average train error: 0.09255\n",
      "    Avg train reward in one epoch: 0.00000\n",
      "    Avg test reward in one epoch: 0.02273\n",
      "    Total train reward in one epoch: 0.00000\n",
      "    Test reward: 0.00000\n",
      "    Greedy: 0.02212\n",
      "    Buffer: 24575\n"
     ]
    },
    {
     "name": "stderr",
     "output_type": "stream",
     "text": [
      "epoch 326 avg loss:0.0927 train_total_reward:2.000 test_total_reward:3.000 e-greedy:0.02219:   8%|▊         | 77/1000 [00:18<02:53,  5.32it/s]\n"
     ]
    },
    {
     "name": "stdout",
     "output_type": "stream",
     "text": [
      "    /// Result\n",
      "    Average train error: 0.09274\n",
      "    Avg train reward in one epoch: 0.02597\n",
      "    Avg test reward in one epoch: 0.03896\n",
      "    Total train reward in one epoch: 2.00000\n",
      "    Test reward: 2.00000\n",
      "    Greedy: 0.02219\n",
      "    Buffer: 24652\n"
     ]
    },
    {
     "name": "stderr",
     "output_type": "stream",
     "text": [
      "epoch 327 avg loss:0.0745 train_total_reward:0.000 test_total_reward:0.000 e-greedy:0.02224:   6%|▌         | 61/1000 [00:13<02:54,  5.38it/s]\n"
     ]
    },
    {
     "name": "stdout",
     "output_type": "stream",
     "text": [
      "    /// Result\n",
      "    Average train error: 0.07452\n",
      "    Avg train reward in one epoch: 0.00000\n",
      "    Avg test reward in one epoch: 0.00000\n",
      "    Total train reward in one epoch: 0.00000\n",
      "    Test reward: 0.00000\n",
      "    Greedy: 0.02224\n",
      "    Buffer: 24713\n"
     ]
    },
    {
     "name": "stderr",
     "output_type": "stream",
     "text": [
      "epoch 328 avg loss:0.0886 train_total_reward:0.000 test_total_reward:3.000 e-greedy:0.02229:   5%|▌         | 50/1000 [00:12<02:58,  5.32it/s]\n"
     ]
    },
    {
     "name": "stdout",
     "output_type": "stream",
     "text": [
      "    /// Result\n",
      "    Average train error: 0.08859\n",
      "    Avg train reward in one epoch: 0.00000\n",
      "    Avg test reward in one epoch: 0.06000\n",
      "    Total train reward in one epoch: 0.00000\n",
      "    Test reward: 0.00000\n",
      "    Greedy: 0.02229\n",
      "    Buffer: 24763\n"
     ]
    },
    {
     "name": "stderr",
     "output_type": "stream",
     "text": [
      "epoch 329 avg loss:0.0896 train_total_reward:0.000 test_total_reward:1.000 e-greedy:0.02234:   6%|▌         | 56/1000 [00:14<03:00,  5.23it/s]\n"
     ]
    },
    {
     "name": "stdout",
     "output_type": "stream",
     "text": [
      "    /// Result\n",
      "    Average train error: 0.08961\n",
      "    Avg train reward in one epoch: 0.00000\n",
      "    Avg test reward in one epoch: 0.01786\n",
      "    Total train reward in one epoch: 0.00000\n",
      "    Test reward: 0.00000\n",
      "    Greedy: 0.02234\n",
      "    Buffer: 24819\n"
     ]
    },
    {
     "name": "stderr",
     "output_type": "stream",
     "text": [
      "epoch 330 avg loss:0.0913 train_total_reward:2.000 test_total_reward:2.000 e-greedy:0.02241:   8%|▊         | 76/1000 [00:16<02:53,  5.33it/s]\n"
     ]
    },
    {
     "name": "stdout",
     "output_type": "stream",
     "text": [
      "    /// Result\n",
      "    Average train error: 0.09126\n",
      "    Avg train reward in one epoch: 0.02632\n",
      "    Avg test reward in one epoch: 0.02632\n",
      "    Total train reward in one epoch: 2.00000\n",
      "    Test reward: 2.00000\n",
      "    Greedy: 0.02241\n",
      "    Buffer: 24895\n"
     ]
    },
    {
     "name": "stderr",
     "output_type": "stream",
     "text": [
      "epoch 331 avg loss:0.0963 train_total_reward:0.000 test_total_reward:0.000 e-greedy:0.02245:   5%|▍         | 46/1000 [00:11<03:00,  5.30it/s]\n"
     ]
    },
    {
     "name": "stdout",
     "output_type": "stream",
     "text": [
      "    /// Result\n",
      "    Average train error: 0.09627\n",
      "    Avg train reward in one epoch: 0.00000\n",
      "    Avg test reward in one epoch: 0.00000\n",
      "    Total train reward in one epoch: 0.00000\n",
      "    Test reward: 0.00000\n",
      "    Greedy: 0.02245\n",
      "    Buffer: 24941\n"
     ]
    },
    {
     "name": "stderr",
     "output_type": "stream",
     "text": [
      "epoch 332 avg loss:0.0785 train_total_reward:0.000 test_total_reward:1.000 e-greedy:0.02249:   5%|▌         | 50/1000 [00:12<03:00,  5.28it/s]\n"
     ]
    },
    {
     "name": "stdout",
     "output_type": "stream",
     "text": [
      "    /// Result\n",
      "    Average train error: 0.07852\n",
      "    Avg train reward in one epoch: 0.00000\n",
      "    Avg test reward in one epoch: 0.02000\n",
      "    Total train reward in one epoch: 0.00000\n",
      "    Test reward: 0.00000\n",
      "    Greedy: 0.02249\n",
      "    Buffer: 24991\n"
     ]
    },
    {
     "name": "stderr",
     "output_type": "stream",
     "text": [
      "epoch 333 avg loss:0.0803 train_total_reward:2.000 test_total_reward:4.000 e-greedy:0.02257:   8%|▊         | 83/1000 [00:18<02:45,  5.54it/s]\n"
     ]
    },
    {
     "name": "stdout",
     "output_type": "stream",
     "text": [
      "    /// Result\n",
      "    Average train error: 0.08031\n",
      "    Avg train reward in one epoch: 0.02410\n",
      "    Avg test reward in one epoch: 0.04819\n",
      "    Total train reward in one epoch: 2.00000\n",
      "    Test reward: 2.00000\n",
      "    Greedy: 0.02257\n",
      "    Buffer: 25074\n"
     ]
    },
    {
     "name": "stderr",
     "output_type": "stream",
     "text": [
      "epoch 334 avg loss:0.0816 train_total_reward:2.000 test_total_reward:2.000 e-greedy:0.02263:   7%|▋         | 73/1000 [00:15<02:53,  5.33it/s]\n"
     ]
    },
    {
     "name": "stdout",
     "output_type": "stream",
     "text": [
      "    /// Result\n",
      "    Average train error: 0.08164\n",
      "    Avg train reward in one epoch: 0.02740\n",
      "    Avg test reward in one epoch: 0.02740\n",
      "    Total train reward in one epoch: 2.00000\n",
      "    Test reward: 2.00000\n",
      "    Greedy: 0.02263\n",
      "    Buffer: 25147\n"
     ]
    },
    {
     "name": "stderr",
     "output_type": "stream",
     "text": [
      "epoch 335 avg loss:0.0837 train_total_reward:4.000 test_total_reward:0.000 e-greedy:0.02275:  13%|█▎        | 134/1000 [00:28<02:42,  5.33it/s]\n"
     ]
    },
    {
     "name": "stdout",
     "output_type": "stream",
     "text": [
      "    /// Result\n",
      "    Average train error: 0.08366\n",
      "    Avg train reward in one epoch: 0.02985\n",
      "    Avg test reward in one epoch: 0.00000\n",
      "    Total train reward in one epoch: 4.00000\n",
      "    Test reward: 4.00000\n",
      "    Greedy: 0.02275\n",
      "    Buffer: 25281\n"
     ]
    },
    {
     "name": "stderr",
     "output_type": "stream",
     "text": [
      "epoch 336 avg loss:0.0853 train_total_reward:2.000 test_total_reward:0.000 e-greedy:0.02282:   8%|▊         | 80/1000 [00:17<02:51,  5.36it/s]\n"
     ]
    },
    {
     "name": "stdout",
     "output_type": "stream",
     "text": [
      "    /// Result\n",
      "    Average train error: 0.08531\n",
      "    Avg train reward in one epoch: 0.02500\n",
      "    Avg test reward in one epoch: 0.00000\n",
      "    Total train reward in one epoch: 2.00000\n",
      "    Test reward: 2.00000\n",
      "    Greedy: 0.02282\n",
      "    Buffer: 25361\n"
     ]
    },
    {
     "name": "stderr",
     "output_type": "stream",
     "text": [
      "epoch 337 avg loss:0.0879 train_total_reward:0.000 test_total_reward:2.000 e-greedy:0.02287:   5%|▌         | 52/1000 [00:14<02:55,  5.40it/s]\n"
     ]
    },
    {
     "name": "stdout",
     "output_type": "stream",
     "text": [
      "    /// Result\n",
      "    Average train error: 0.08789\n",
      "    Avg train reward in one epoch: 0.00000\n",
      "    Avg test reward in one epoch: 0.03846\n",
      "    Total train reward in one epoch: 0.00000\n",
      "    Test reward: 0.00000\n",
      "    Greedy: 0.02287\n",
      "    Buffer: 25413\n"
     ]
    },
    {
     "name": "stderr",
     "output_type": "stream",
     "text": [
      "epoch 338 avg loss:0.0717 train_total_reward:2.000 test_total_reward:1.000 e-greedy:0.02294:   8%|▊         | 76/1000 [00:15<02:49,  5.45it/s]\n"
     ]
    },
    {
     "name": "stdout",
     "output_type": "stream",
     "text": [
      "    /// Result\n",
      "    Average train error: 0.07167\n",
      "    Avg train reward in one epoch: 0.02632\n",
      "    Avg test reward in one epoch: 0.01316\n",
      "    Total train reward in one epoch: 2.00000\n",
      "    Test reward: 2.00000\n",
      "    Greedy: 0.02294\n",
      "    Buffer: 25489\n"
     ]
    },
    {
     "name": "stderr",
     "output_type": "stream",
     "text": [
      "epoch 339 avg loss:0.0856 train_total_reward:0.000 test_total_reward:1.000 e-greedy:0.02298:   5%|▍         | 47/1000 [00:11<02:57,  5.37it/s]\n"
     ]
    },
    {
     "name": "stdout",
     "output_type": "stream",
     "text": [
      "    /// Result\n",
      "    Average train error: 0.08558\n",
      "    Avg train reward in one epoch: 0.00000\n",
      "    Avg test reward in one epoch: 0.02128\n",
      "    Total train reward in one epoch: 0.00000\n",
      "    Test reward: 0.00000\n",
      "    Greedy: 0.02298\n",
      "    Buffer: 25536\n"
     ]
    },
    {
     "name": "stderr",
     "output_type": "stream",
     "text": [
      "epoch 340 avg loss:0.0779 train_total_reward:0.000 test_total_reward:0.000 e-greedy:0.02303:   6%|▌         | 58/1000 [00:13<02:52,  5.46it/s]\n"
     ]
    },
    {
     "name": "stdout",
     "output_type": "stream",
     "text": [
      "    /// Result\n",
      "    Average train error: 0.07787\n",
      "    Avg train reward in one epoch: 0.00000\n",
      "    Avg test reward in one epoch: 0.00000\n",
      "    Total train reward in one epoch: 0.00000\n",
      "    Test reward: 0.00000\n",
      "    Greedy: 0.02303\n",
      "    Buffer: 25594\n"
     ]
    },
    {
     "name": "stderr",
     "output_type": "stream",
     "text": [
      "epoch 341 avg loss:0.0871 train_total_reward:0.000 test_total_reward:1.000 e-greedy:0.02308:   5%|▌         | 50/1000 [00:17<02:57,  5.36it/s]\n"
     ]
    },
    {
     "name": "stdout",
     "output_type": "stream",
     "text": [
      "    /// Result\n",
      "    Average train error: 0.08709\n",
      "    Avg train reward in one epoch: 0.00000\n",
      "    Avg test reward in one epoch: 0.02000\n",
      "    Total train reward in one epoch: 0.00000\n",
      "    Test reward: 0.00000\n",
      "    Greedy: 0.02308\n",
      "    Buffer: 25644\n"
     ]
    },
    {
     "name": "stderr",
     "output_type": "stream",
     "text": [
      "epoch 342 avg loss:0.0828 train_total_reward:0.000 test_total_reward:0.000 e-greedy:0.02313:   5%|▌         | 53/1000 [00:14<02:54,  5.44it/s]\n"
     ]
    },
    {
     "name": "stdout",
     "output_type": "stream",
     "text": [
      "    /// Result\n",
      "    Average train error: 0.08282\n",
      "    Avg train reward in one epoch: 0.00000\n",
      "    Avg test reward in one epoch: 0.00000\n",
      "    Total train reward in one epoch: 0.00000\n",
      "    Test reward: 0.00000\n",
      "    Greedy: 0.02313\n",
      "    Buffer: 25697\n"
     ]
    },
    {
     "name": "stderr",
     "output_type": "stream",
     "text": [
      "epoch 343 avg loss:0.0721 train_total_reward:1.000 test_total_reward:2.000 e-greedy:0.02319:   7%|▋         | 70/1000 [00:16<02:54,  5.32it/s]\n"
     ]
    },
    {
     "name": "stdout",
     "output_type": "stream",
     "text": [
      "    /// Result\n",
      "    Average train error: 0.07211\n",
      "    Avg train reward in one epoch: 0.01429\n",
      "    Avg test reward in one epoch: 0.02857\n",
      "    Total train reward in one epoch: 1.00000\n",
      "    Test reward: 1.00000\n",
      "    Greedy: 0.02319\n",
      "    Buffer: 25767\n"
     ]
    },
    {
     "name": "stderr",
     "output_type": "stream",
     "text": [
      "epoch 344 avg loss:0.0852 train_total_reward:2.000 test_total_reward:2.000 e-greedy:0.02327:   8%|▊         | 83/1000 [00:20<02:50,  5.37it/s]\n"
     ]
    },
    {
     "name": "stdout",
     "output_type": "stream",
     "text": [
      "    /// Result\n",
      "    Average train error: 0.08517\n",
      "    Avg train reward in one epoch: 0.02410\n",
      "    Avg test reward in one epoch: 0.02410\n",
      "    Total train reward in one epoch: 2.00000\n",
      "    Test reward: 2.00000\n",
      "    Greedy: 0.02327\n",
      "    Buffer: 25850\n"
     ]
    },
    {
     "name": "stderr",
     "output_type": "stream",
     "text": [
      "epoch 345 avg loss:0.0874 train_total_reward:2.000 test_total_reward:2.000 e-greedy:0.02334:   9%|▊         | 87/1000 [00:19<02:47,  5.45it/s]\n"
     ]
    },
    {
     "name": "stdout",
     "output_type": "stream",
     "text": [
      "    /// Result\n",
      "    Average train error: 0.08736\n",
      "    Avg train reward in one epoch: 0.02299\n",
      "    Avg test reward in one epoch: 0.02299\n",
      "    Total train reward in one epoch: 2.00000\n",
      "    Test reward: 2.00000\n",
      "    Greedy: 0.02334\n",
      "    Buffer: 25937\n"
     ]
    },
    {
     "name": "stderr",
     "output_type": "stream",
     "text": [
      "epoch 346 avg loss:0.0857 train_total_reward:2.000 test_total_reward:2.000 e-greedy:0.02343:   9%|▉         | 91/1000 [00:20<02:49,  5.38it/s]\n"
     ]
    },
    {
     "name": "stdout",
     "output_type": "stream",
     "text": [
      "    /// Result\n",
      "    Average train error: 0.08573\n",
      "    Avg train reward in one epoch: 0.02198\n",
      "    Avg test reward in one epoch: 0.02198\n",
      "    Total train reward in one epoch: 2.00000\n",
      "    Test reward: 2.00000\n",
      "    Greedy: 0.02343\n",
      "    Buffer: 26028\n"
     ]
    },
    {
     "name": "stderr",
     "output_type": "stream",
     "text": [
      "epoch 347 avg loss:0.0845 train_total_reward:1.000 test_total_reward:2.000 e-greedy:0.02349:   7%|▋         | 67/1000 [00:17<02:57,  5.26it/s]\n"
     ]
    },
    {
     "name": "stdout",
     "output_type": "stream",
     "text": [
      "    /// Result\n",
      "    Average train error: 0.08454\n",
      "    Avg train reward in one epoch: 0.01493\n",
      "    Avg test reward in one epoch: 0.02985\n",
      "    Total train reward in one epoch: 1.00000\n",
      "    Test reward: 1.00000\n",
      "    Greedy: 0.02349\n",
      "    Buffer: 26095\n"
     ]
    },
    {
     "name": "stderr",
     "output_type": "stream",
     "text": [
      "epoch 348 avg loss:0.0819 train_total_reward:1.000 test_total_reward:0.000 e-greedy:0.02355:   7%|▋         | 72/1000 [00:16<02:54,  5.31it/s]\n"
     ]
    },
    {
     "name": "stdout",
     "output_type": "stream",
     "text": [
      "    /// Result\n",
      "    Average train error: 0.08186\n",
      "    Avg train reward in one epoch: 0.01389\n",
      "    Avg test reward in one epoch: 0.00000\n",
      "    Total train reward in one epoch: 1.00000\n",
      "    Test reward: 1.00000\n",
      "    Greedy: 0.02355\n",
      "    Buffer: 26167\n"
     ]
    },
    {
     "name": "stderr",
     "output_type": "stream",
     "text": [
      "epoch 349 avg loss:0.0822 train_total_reward:2.000 test_total_reward:1.000 e-greedy:0.02363:   8%|▊         | 85/1000 [00:20<02:51,  5.32it/s]\n"
     ]
    },
    {
     "name": "stdout",
     "output_type": "stream",
     "text": [
      "    /// Result\n",
      "    Average train error: 0.08221\n",
      "    Avg train reward in one epoch: 0.02353\n",
      "    Avg test reward in one epoch: 0.01176\n",
      "    Total train reward in one epoch: 2.00000\n",
      "    Test reward: 2.00000\n",
      "    Greedy: 0.02363\n",
      "    Buffer: 26252\n"
     ]
    },
    {
     "name": "stderr",
     "output_type": "stream",
     "text": [
      "epoch 350 avg loss:0.0826 train_total_reward:0.000 test_total_reward:2.000 e-greedy:0.02368:   6%|▌         | 58/1000 [00:14<02:58,  5.28it/s]\n"
     ]
    },
    {
     "name": "stdout",
     "output_type": "stream",
     "text": [
      "    /// Result\n",
      "    Average train error: 0.08260\n",
      "    Avg train reward in one epoch: 0.00000\n",
      "    Avg test reward in one epoch: 0.03448\n",
      "    Total train reward in one epoch: 0.00000\n",
      "    Test reward: 0.00000\n",
      "    Greedy: 0.02368\n",
      "    Buffer: 26310\n"
     ]
    },
    {
     "name": "stderr",
     "output_type": "stream",
     "text": [
      "epoch 351 avg loss:0.0851 train_total_reward:0.000 test_total_reward:3.000 e-greedy:0.02373:   6%|▌         | 58/1000 [00:13<02:57,  5.30it/s]\n"
     ]
    },
    {
     "name": "stdout",
     "output_type": "stream",
     "text": [
      "    /// Result\n",
      "    Average train error: 0.08508\n",
      "    Avg train reward in one epoch: 0.00000\n",
      "    Avg test reward in one epoch: 0.05172\n",
      "    Total train reward in one epoch: 0.00000\n",
      "    Test reward: 0.00000\n",
      "    Greedy: 0.02373\n",
      "    Buffer: 26368\n"
     ]
    },
    {
     "name": "stderr",
     "output_type": "stream",
     "text": [
      "epoch 352 avg loss:0.0794 train_total_reward:2.000 test_total_reward:2.000 e-greedy:0.02381:   8%|▊         | 85/1000 [00:19<02:53,  5.26it/s]\n"
     ]
    },
    {
     "name": "stdout",
     "output_type": "stream",
     "text": [
      "    /// Result\n",
      "    Average train error: 0.07938\n",
      "    Avg train reward in one epoch: 0.02353\n",
      "    Avg test reward in one epoch: 0.02353\n",
      "    Total train reward in one epoch: 2.00000\n",
      "    Test reward: 2.00000\n",
      "    Greedy: 0.02381\n",
      "    Buffer: 26453\n"
     ]
    },
    {
     "name": "stderr",
     "output_type": "stream",
     "text": [
      "epoch 353 avg loss:0.0868 train_total_reward:0.000 test_total_reward:0.000 e-greedy:0.02386:   5%|▌         | 53/1000 [00:13<02:56,  5.35it/s]\n"
     ]
    },
    {
     "name": "stdout",
     "output_type": "stream",
     "text": [
      "    /// Result\n",
      "    Average train error: 0.08678\n",
      "    Avg train reward in one epoch: 0.00000\n",
      "    Avg test reward in one epoch: 0.00000\n",
      "    Total train reward in one epoch: 0.00000\n",
      "    Test reward: 0.00000\n",
      "    Greedy: 0.02386\n",
      "    Buffer: 26506\n"
     ]
    },
    {
     "name": "stderr",
     "output_type": "stream",
     "text": [
      "epoch 354 avg loss:0.0796 train_total_reward:4.000 test_total_reward:1.000 e-greedy:0.02395:  10%|█         | 104/1000 [00:25<02:47,  5.34it/s]\n"
     ]
    },
    {
     "name": "stdout",
     "output_type": "stream",
     "text": [
      "    /// Result\n",
      "    Average train error: 0.07955\n",
      "    Avg train reward in one epoch: 0.03846\n",
      "    Avg test reward in one epoch: 0.00962\n",
      "    Total train reward in one epoch: 4.00000\n",
      "    Test reward: 4.00000\n",
      "    Greedy: 0.02395\n",
      "    Buffer: 26610\n"
     ]
    },
    {
     "name": "stderr",
     "output_type": "stream",
     "text": [
      "epoch 355 avg loss:0.0893 train_total_reward:1.000 test_total_reward:1.000 e-greedy:0.02402:   7%|▋         | 74/1000 [00:16<02:53,  5.35it/s]\n"
     ]
    },
    {
     "name": "stdout",
     "output_type": "stream",
     "text": [
      "    /// Result\n",
      "    Average train error: 0.08932\n",
      "    Avg train reward in one epoch: 0.01351\n",
      "    Avg test reward in one epoch: 0.01351\n",
      "    Total train reward in one epoch: 1.00000\n",
      "    Test reward: 1.00000\n",
      "    Greedy: 0.02402\n",
      "    Buffer: 26684\n"
     ]
    },
    {
     "name": "stderr",
     "output_type": "stream",
     "text": [
      "epoch 356 avg loss:0.0868 train_total_reward:2.000 test_total_reward:3.000 e-greedy:0.02409:   8%|▊         | 78/1000 [00:18<02:54,  5.29it/s]\n"
     ]
    },
    {
     "name": "stdout",
     "output_type": "stream",
     "text": [
      "    /// Result\n",
      "    Average train error: 0.08682\n",
      "    Avg train reward in one epoch: 0.02564\n",
      "    Avg test reward in one epoch: 0.03846\n",
      "    Total train reward in one epoch: 2.00000\n",
      "    Test reward: 2.00000\n",
      "    Greedy: 0.02409\n",
      "    Buffer: 26762\n"
     ]
    },
    {
     "name": "stderr",
     "output_type": "stream",
     "text": [
      "epoch 357 avg loss:0.0769 train_total_reward:3.000 test_total_reward:3.000 e-greedy:0.02417:  10%|▉         | 99/1000 [00:21<02:50,  5.30it/s]\n"
     ]
    },
    {
     "name": "stdout",
     "output_type": "stream",
     "text": [
      "    /// Result\n",
      "    Average train error: 0.07687\n",
      "    Avg train reward in one epoch: 0.03030\n",
      "    Avg test reward in one epoch: 0.03030\n",
      "    Total train reward in one epoch: 3.00000\n",
      "    Test reward: 3.00000\n",
      "    Greedy: 0.02417\n",
      "    Buffer: 26861\n"
     ]
    },
    {
     "name": "stderr",
     "output_type": "stream",
     "text": [
      "epoch 358 avg loss:0.0889 train_total_reward:1.000 test_total_reward:1.000 e-greedy:0.02424:   7%|▋         | 73/1000 [00:20<02:48,  5.49it/s]\n"
     ]
    },
    {
     "name": "stdout",
     "output_type": "stream",
     "text": [
      "    /// Result\n",
      "    Average train error: 0.08894\n",
      "    Avg train reward in one epoch: 0.01370\n",
      "    Avg test reward in one epoch: 0.01370\n",
      "    Total train reward in one epoch: 1.00000\n",
      "    Test reward: 1.00000\n",
      "    Greedy: 0.02424\n",
      "    Buffer: 26934\n"
     ]
    },
    {
     "name": "stderr",
     "output_type": "stream",
     "text": [
      "epoch 359 avg loss:0.0881 train_total_reward:1.000 test_total_reward:3.000 e-greedy:0.02430:   6%|▋         | 64/1000 [00:16<02:54,  5.35it/s]\n"
     ]
    },
    {
     "name": "stdout",
     "output_type": "stream",
     "text": [
      "    /// Result\n",
      "    Average train error: 0.08809\n",
      "    Avg train reward in one epoch: 0.01562\n",
      "    Avg test reward in one epoch: 0.04688\n",
      "    Total train reward in one epoch: 1.00000\n",
      "    Test reward: 1.00000\n",
      "    Greedy: 0.02430\n",
      "    Buffer: 26998\n"
     ]
    },
    {
     "name": "stderr",
     "output_type": "stream",
     "text": [
      "epoch 360 avg loss:0.0739 train_total_reward:1.000 test_total_reward:1.000 e-greedy:0.02436:   6%|▋         | 64/1000 [00:14<02:52,  5.41it/s]\n"
     ]
    },
    {
     "name": "stdout",
     "output_type": "stream",
     "text": [
      "    /// Result\n",
      "    Average train error: 0.07387\n",
      "    Avg train reward in one epoch: 0.01562\n",
      "    Avg test reward in one epoch: 0.01562\n",
      "    Total train reward in one epoch: 1.00000\n",
      "    Test reward: 1.00000\n",
      "    Greedy: 0.02436\n",
      "    Buffer: 27062\n"
     ]
    },
    {
     "name": "stderr",
     "output_type": "stream",
     "text": [
      "epoch 361 avg loss:0.0860 train_total_reward:2.000 test_total_reward:2.000 e-greedy:0.02443:   8%|▊         | 84/1000 [00:20<02:51,  5.33it/s]\n"
     ]
    },
    {
     "name": "stdout",
     "output_type": "stream",
     "text": [
      "    /// Result\n",
      "    Average train error: 0.08603\n",
      "    Avg train reward in one epoch: 0.02381\n",
      "    Avg test reward in one epoch: 0.02381\n",
      "    Total train reward in one epoch: 2.00000\n",
      "    Test reward: 2.00000\n",
      "    Greedy: 0.02443\n",
      "    Buffer: 27146\n"
     ]
    },
    {
     "name": "stderr",
     "output_type": "stream",
     "text": [
      "epoch 362 avg loss:0.0743 train_total_reward:2.000 test_total_reward:0.000 e-greedy:0.02450:   7%|▋         | 73/1000 [00:22<02:51,  5.40it/s]\n"
     ]
    },
    {
     "name": "stdout",
     "output_type": "stream",
     "text": [
      "    /// Result\n",
      "    Average train error: 0.07427\n",
      "    Avg train reward in one epoch: 0.02740\n",
      "    Avg test reward in one epoch: 0.00000\n",
      "    Total train reward in one epoch: 2.00000\n",
      "    Test reward: 2.00000\n",
      "    Greedy: 0.02450\n",
      "    Buffer: 27219\n"
     ]
    },
    {
     "name": "stderr",
     "output_type": "stream",
     "text": [
      "epoch 363 avg loss:0.0782 train_total_reward:2.000 test_total_reward:3.000 e-greedy:0.02456:   7%|▋         | 74/1000 [00:15<02:53,  5.34it/s]\n"
     ]
    },
    {
     "name": "stdout",
     "output_type": "stream",
     "text": [
      "    /// Result\n",
      "    Average train error: 0.07819\n",
      "    Avg train reward in one epoch: 0.02703\n",
      "    Avg test reward in one epoch: 0.04054\n",
      "    Total train reward in one epoch: 2.00000\n",
      "    Test reward: 2.00000\n",
      "    Greedy: 0.02456\n",
      "    Buffer: 27293\n"
     ]
    },
    {
     "name": "stderr",
     "output_type": "stream",
     "text": [
      "epoch 364 avg loss:0.0799 train_total_reward:3.000 test_total_reward:5.000 e-greedy:0.02465:  10%|▉         | 96/1000 [00:20<02:49,  5.34it/s]\n"
     ]
    },
    {
     "name": "stdout",
     "output_type": "stream",
     "text": [
      "    /// Result\n",
      "    Average train error: 0.07990\n",
      "    Avg train reward in one epoch: 0.03125\n",
      "    Avg test reward in one epoch: 0.05208\n",
      "    Total train reward in one epoch: 3.00000\n",
      "    Test reward: 3.00000\n",
      "    Greedy: 0.02465\n",
      "    Buffer: 27389\n"
     ]
    },
    {
     "name": "stderr",
     "output_type": "stream",
     "text": [
      "epoch 365 avg loss:0.0910 train_total_reward:1.000 test_total_reward:1.000 e-greedy:0.02470:   5%|▌         | 54/1000 [00:11<02:57,  5.33it/s]\n"
     ]
    },
    {
     "name": "stdout",
     "output_type": "stream",
     "text": [
      "    /// Result\n",
      "    Average train error: 0.09098\n",
      "    Avg train reward in one epoch: 0.01852\n",
      "    Avg test reward in one epoch: 0.01852\n",
      "    Total train reward in one epoch: 1.00000\n",
      "    Test reward: 1.00000\n",
      "    Greedy: 0.02470\n",
      "    Buffer: 27443\n"
     ]
    },
    {
     "name": "stderr",
     "output_type": "stream",
     "text": [
      "epoch 366 avg loss:0.0854 train_total_reward:2.000 test_total_reward:7.000 e-greedy:0.02476:   7%|▋         | 70/1000 [00:19<02:53,  5.37it/s]\n"
     ]
    },
    {
     "name": "stdout",
     "output_type": "stream",
     "text": [
      "    /// Result\n",
      "    Average train error: 0.08543\n",
      "    Avg train reward in one epoch: 0.02857\n",
      "    Avg test reward in one epoch: 0.10000\n",
      "    Total train reward in one epoch: 2.00000\n",
      "    Test reward: 2.00000\n",
      "    Greedy: 0.02476\n",
      "    Buffer: 27513\n"
     ]
    },
    {
     "name": "stderr",
     "output_type": "stream",
     "text": [
      "epoch 367 avg loss:0.0938 train_total_reward:2.000 test_total_reward:1.000 e-greedy:0.02483:   8%|▊         | 76/1000 [00:20<02:55,  5.27it/s]\n"
     ]
    },
    {
     "name": "stdout",
     "output_type": "stream",
     "text": [
      "    /// Result\n",
      "    Average train error: 0.09382\n",
      "    Avg train reward in one epoch: 0.02632\n",
      "    Avg test reward in one epoch: 0.01316\n",
      "    Total train reward in one epoch: 2.00000\n",
      "    Test reward: 2.00000\n",
      "    Greedy: 0.02483\n",
      "    Buffer: 27589\n"
     ]
    },
    {
     "name": "stderr",
     "output_type": "stream",
     "text": [
      "epoch 368 avg loss:0.0711 train_total_reward:0.000 test_total_reward:7.000 e-greedy:0.02488:   6%|▌         | 55/1000 [00:14<03:01,  5.20it/s]\n"
     ]
    },
    {
     "name": "stdout",
     "output_type": "stream",
     "text": [
      "    /// Result\n",
      "    Average train error: 0.07111\n",
      "    Avg train reward in one epoch: 0.00000\n",
      "    Avg test reward in one epoch: 0.12727\n",
      "    Total train reward in one epoch: 0.00000\n",
      "    Test reward: 0.00000\n",
      "    Greedy: 0.02488\n",
      "    Buffer: 27644\n"
     ]
    },
    {
     "name": "stderr",
     "output_type": "stream",
     "text": [
      "epoch 369 avg loss:0.0819 train_total_reward:1.000 test_total_reward:0.000 e-greedy:0.02495:   8%|▊         | 76/1000 [00:19<02:53,  5.32it/s]\n"
     ]
    },
    {
     "name": "stdout",
     "output_type": "stream",
     "text": [
      "    /// Result\n",
      "    Average train error: 0.08186\n",
      "    Avg train reward in one epoch: 0.01316\n",
      "    Avg test reward in one epoch: 0.00000\n",
      "    Total train reward in one epoch: 1.00000\n",
      "    Test reward: 1.00000\n",
      "    Greedy: 0.02495\n",
      "    Buffer: 27720\n"
     ]
    },
    {
     "name": "stderr",
     "output_type": "stream",
     "text": [
      "epoch 370 avg loss:0.0850 train_total_reward:3.000 test_total_reward:0.000 e-greedy:0.02504:  10%|▉         | 97/1000 [00:23<02:41,  5.59it/s]\n"
     ]
    },
    {
     "name": "stdout",
     "output_type": "stream",
     "text": [
      "    /// Result\n",
      "    Average train error: 0.08499\n",
      "    Avg train reward in one epoch: 0.03093\n",
      "    Avg test reward in one epoch: 0.00000\n",
      "    Total train reward in one epoch: 3.00000\n",
      "    Test reward: 3.00000\n",
      "    Greedy: 0.02504\n",
      "    Buffer: 27817\n"
     ]
    },
    {
     "name": "stderr",
     "output_type": "stream",
     "text": [
      "epoch 371 avg loss:0.0861 train_total_reward:1.000 test_total_reward:0.000 e-greedy:0.02509:   6%|▌         | 60/1000 [00:16<02:52,  5.45it/s]\n"
     ]
    },
    {
     "name": "stdout",
     "output_type": "stream",
     "text": [
      "    /// Result\n",
      "    Average train error: 0.08612\n",
      "    Avg train reward in one epoch: 0.01667\n",
      "    Avg test reward in one epoch: 0.00000\n",
      "    Total train reward in one epoch: 1.00000\n",
      "    Test reward: 1.00000\n",
      "    Greedy: 0.02509\n",
      "    Buffer: 27877\n"
     ]
    },
    {
     "name": "stderr",
     "output_type": "stream",
     "text": [
      "epoch 372 avg loss:0.0764 train_total_reward:1.000 test_total_reward:1.000 e-greedy:0.02516:   8%|▊         | 75/1000 [00:18<02:53,  5.34it/s]\n"
     ]
    },
    {
     "name": "stdout",
     "output_type": "stream",
     "text": [
      "    /// Result\n",
      "    Average train error: 0.07640\n",
      "    Avg train reward in one epoch: 0.01333\n",
      "    Avg test reward in one epoch: 0.01333\n",
      "    Total train reward in one epoch: 1.00000\n",
      "    Test reward: 1.00000\n",
      "    Greedy: 0.02516\n",
      "    Buffer: 27952\n"
     ]
    },
    {
     "name": "stderr",
     "output_type": "stream",
     "text": [
      "epoch 373 avg loss:0.0817 train_total_reward:4.000 test_total_reward:0.000 e-greedy:0.02526:  12%|█▏        | 119/1000 [00:27<02:45,  5.33it/s]\n"
     ]
    },
    {
     "name": "stdout",
     "output_type": "stream",
     "text": [
      "    /// Result\n",
      "    Average train error: 0.08166\n",
      "    Avg train reward in one epoch: 0.03361\n",
      "    Avg test reward in one epoch: 0.00000\n",
      "    Total train reward in one epoch: 4.00000\n",
      "    Test reward: 4.00000\n",
      "    Greedy: 0.02526\n",
      "    Buffer: 28071\n"
     ]
    },
    {
     "name": "stderr",
     "output_type": "stream",
     "text": [
      "epoch 374 avg loss:0.0887 train_total_reward:2.000 test_total_reward:2.000 e-greedy:0.02534:   9%|▉         | 90/1000 [00:19<02:51,  5.30it/s]\n"
     ]
    },
    {
     "name": "stdout",
     "output_type": "stream",
     "text": [
      "    /// Result\n",
      "    Average train error: 0.08870\n",
      "    Avg train reward in one epoch: 0.02222\n",
      "    Avg test reward in one epoch: 0.02222\n",
      "    Total train reward in one epoch: 2.00000\n",
      "    Test reward: 2.00000\n",
      "    Greedy: 0.02534\n",
      "    Buffer: 28161\n"
     ]
    },
    {
     "name": "stderr",
     "output_type": "stream",
     "text": [
      "epoch 375 avg loss:0.0882 train_total_reward:1.000 test_total_reward:0.000 e-greedy:0.02541:   8%|▊         | 76/1000 [00:18<02:58,  5.18it/s]\n"
     ]
    },
    {
     "name": "stdout",
     "output_type": "stream",
     "text": [
      "    /// Result\n",
      "    Average train error: 0.08825\n",
      "    Avg train reward in one epoch: 0.01316\n",
      "    Avg test reward in one epoch: 0.00000\n",
      "    Total train reward in one epoch: 1.00000\n",
      "    Test reward: 1.00000\n",
      "    Greedy: 0.02541\n",
      "    Buffer: 28237\n"
     ]
    },
    {
     "name": "stderr",
     "output_type": "stream",
     "text": [
      "epoch 376 avg loss:0.0842 train_total_reward:2.000 test_total_reward:2.000 e-greedy:0.02550:  10%|▉         | 96/1000 [00:22<02:46,  5.44it/s]\n"
     ]
    },
    {
     "name": "stdout",
     "output_type": "stream",
     "text": [
      "    /// Result\n",
      "    Average train error: 0.08423\n",
      "    Avg train reward in one epoch: 0.02083\n",
      "    Avg test reward in one epoch: 0.02083\n",
      "    Total train reward in one epoch: 2.00000\n",
      "    Test reward: 2.00000\n",
      "    Greedy: 0.02550\n",
      "    Buffer: 28333\n"
     ]
    },
    {
     "name": "stderr",
     "output_type": "stream",
     "text": [
      "epoch 377 avg loss:0.0785 train_total_reward:0.000 test_total_reward:1.000 e-greedy:0.02555:   5%|▌         | 51/1000 [00:11<02:51,  5.55it/s]\n"
     ]
    },
    {
     "name": "stdout",
     "output_type": "stream",
     "text": [
      "    /// Result\n",
      "    Average train error: 0.07853\n",
      "    Avg train reward in one epoch: 0.00000\n",
      "    Avg test reward in one epoch: 0.01961\n",
      "    Total train reward in one epoch: 0.00000\n",
      "    Test reward: 0.00000\n",
      "    Greedy: 0.02555\n",
      "    Buffer: 28384\n"
     ]
    },
    {
     "name": "stderr",
     "output_type": "stream",
     "text": [
      "epoch 378 avg loss:0.0844 train_total_reward:1.000 test_total_reward:3.000 e-greedy:0.02560:   6%|▋         | 65/1000 [00:14<02:53,  5.39it/s]\n"
     ]
    },
    {
     "name": "stdout",
     "output_type": "stream",
     "text": [
      "    /// Result\n",
      "    Average train error: 0.08441\n",
      "    Avg train reward in one epoch: 0.01538\n",
      "    Avg test reward in one epoch: 0.04615\n",
      "    Total train reward in one epoch: 1.00000\n",
      "    Test reward: 1.00000\n",
      "    Greedy: 0.02560\n",
      "    Buffer: 28449\n"
     ]
    },
    {
     "name": "stderr",
     "output_type": "stream",
     "text": [
      "epoch 379 avg loss:0.0759 train_total_reward:3.000 test_total_reward:1.000 e-greedy:0.02570:  10%|█         | 101/1000 [00:27<02:52,  5.23it/s]\n"
     ]
    },
    {
     "name": "stdout",
     "output_type": "stream",
     "text": [
      "    /// Result\n",
      "    Average train error: 0.07590\n",
      "    Avg train reward in one epoch: 0.02970\n",
      "    Avg test reward in one epoch: 0.00990\n",
      "    Total train reward in one epoch: 3.00000\n",
      "    Test reward: 3.00000\n",
      "    Greedy: 0.02570\n",
      "    Buffer: 28550\n"
     ]
    },
    {
     "name": "stderr",
     "output_type": "stream",
     "text": [
      "epoch 380 avg loss:0.0846 train_total_reward:2.000 test_total_reward:2.000 e-greedy:0.02577:   8%|▊         | 83/1000 [00:17<02:51,  5.34it/s]\n"
     ]
    },
    {
     "name": "stdout",
     "output_type": "stream",
     "text": [
      "    /// Result\n",
      "    Average train error: 0.08459\n",
      "    Avg train reward in one epoch: 0.02410\n",
      "    Avg test reward in one epoch: 0.02410\n",
      "    Total train reward in one epoch: 2.00000\n",
      "    Test reward: 2.00000\n",
      "    Greedy: 0.02577\n",
      "    Buffer: 28633\n"
     ]
    },
    {
     "name": "stderr",
     "output_type": "stream",
     "text": [
      "epoch 381 avg loss:0.0816 train_total_reward:2.000 test_total_reward:0.000 e-greedy:0.02583:   7%|▋         | 70/1000 [00:17<02:52,  5.38it/s]\n"
     ]
    },
    {
     "name": "stdout",
     "output_type": "stream",
     "text": [
      "    /// Result\n",
      "    Average train error: 0.08155\n",
      "    Avg train reward in one epoch: 0.02857\n",
      "    Avg test reward in one epoch: 0.00000\n",
      "    Total train reward in one epoch: 2.00000\n",
      "    Test reward: 2.00000\n",
      "    Greedy: 0.02583\n",
      "    Buffer: 28703\n"
     ]
    },
    {
     "name": "stderr",
     "output_type": "stream",
     "text": [
      "epoch 382 avg loss:0.0679 train_total_reward:0.000 test_total_reward:0.000 e-greedy:0.02589:   6%|▌         | 62/1000 [00:13<02:54,  5.38it/s]\n"
     ]
    },
    {
     "name": "stdout",
     "output_type": "stream",
     "text": [
      "    /// Result\n",
      "    Average train error: 0.06785\n",
      "    Avg train reward in one epoch: 0.00000\n",
      "    Avg test reward in one epoch: 0.00000\n",
      "    Total train reward in one epoch: 0.00000\n",
      "    Test reward: 0.00000\n",
      "    Greedy: 0.02589\n",
      "    Buffer: 28765\n"
     ]
    },
    {
     "name": "stderr",
     "output_type": "stream",
     "text": [
      "epoch 383 avg loss:0.0747 train_total_reward:1.000 test_total_reward:1.000 e-greedy:0.02594:   6%|▌         | 61/1000 [00:14<02:56,  5.31it/s]\n"
     ]
    },
    {
     "name": "stdout",
     "output_type": "stream",
     "text": [
      "    /// Result\n",
      "    Average train error: 0.07469\n",
      "    Avg train reward in one epoch: 0.01639\n",
      "    Avg test reward in one epoch: 0.01639\n",
      "    Total train reward in one epoch: 1.00000\n",
      "    Test reward: 1.00000\n",
      "    Greedy: 0.02594\n",
      "    Buffer: 28826\n"
     ]
    },
    {
     "name": "stderr",
     "output_type": "stream",
     "text": [
      "epoch 384 avg loss:0.0902 train_total_reward:2.000 test_total_reward:0.000 e-greedy:0.02601:   7%|▋         | 73/1000 [00:16<02:56,  5.24it/s]\n"
     ]
    },
    {
     "name": "stdout",
     "output_type": "stream",
     "text": [
      "    /// Result\n",
      "    Average train error: 0.09024\n",
      "    Avg train reward in one epoch: 0.02740\n",
      "    Avg test reward in one epoch: 0.00000\n",
      "    Total train reward in one epoch: 2.00000\n",
      "    Test reward: 2.00000\n",
      "    Greedy: 0.02601\n",
      "    Buffer: 28899\n"
     ]
    },
    {
     "name": "stderr",
     "output_type": "stream",
     "text": [
      "epoch 385 avg loss:0.0894 train_total_reward:0.000 test_total_reward:2.000 e-greedy:0.02606:   6%|▌         | 60/1000 [00:15<02:55,  5.37it/s]\n"
     ]
    },
    {
     "name": "stdout",
     "output_type": "stream",
     "text": [
      "    /// Result\n",
      "    Average train error: 0.08940\n",
      "    Avg train reward in one epoch: 0.00000\n",
      "    Avg test reward in one epoch: 0.03333\n",
      "    Total train reward in one epoch: 0.00000\n",
      "    Test reward: 0.00000\n",
      "    Greedy: 0.02606\n",
      "    Buffer: 28959\n"
     ]
    },
    {
     "name": "stderr",
     "output_type": "stream",
     "text": [
      "epoch 386 avg loss:0.0770 train_total_reward:0.000 test_total_reward:1.000 e-greedy:0.02611:   6%|▌         | 55/1000 [00:12<02:56,  5.36it/s]\n"
     ]
    },
    {
     "name": "stdout",
     "output_type": "stream",
     "text": [
      "    /// Result\n",
      "    Average train error: 0.07698\n",
      "    Avg train reward in one epoch: 0.00000\n",
      "    Avg test reward in one epoch: 0.01818\n",
      "    Total train reward in one epoch: 0.00000\n",
      "    Test reward: 0.00000\n",
      "    Greedy: 0.02611\n",
      "    Buffer: 29014\n"
     ]
    },
    {
     "name": "stderr",
     "output_type": "stream",
     "text": [
      "epoch 387 avg loss:0.0765 train_total_reward:0.000 test_total_reward:2.000 e-greedy:0.02616:   6%|▌         | 57/1000 [00:14<02:57,  5.30it/s]\n"
     ]
    },
    {
     "name": "stdout",
     "output_type": "stream",
     "text": [
      "    /// Result\n",
      "    Average train error: 0.07653\n",
      "    Avg train reward in one epoch: 0.00000\n",
      "    Avg test reward in one epoch: 0.03509\n",
      "    Total train reward in one epoch: 0.00000\n",
      "    Test reward: 0.00000\n",
      "    Greedy: 0.02616\n",
      "    Buffer: 29071\n"
     ]
    },
    {
     "name": "stderr",
     "output_type": "stream",
     "text": [
      "epoch 388 avg loss:0.0831 train_total_reward:0.000 test_total_reward:2.000 e-greedy:0.02623:   7%|▋         | 68/1000 [00:18<02:56,  5.27it/s]\n"
     ]
    },
    {
     "name": "stdout",
     "output_type": "stream",
     "text": [
      "    /// Result\n",
      "    Average train error: 0.08307\n",
      "    Avg train reward in one epoch: 0.00000\n",
      "    Avg test reward in one epoch: 0.02941\n",
      "    Total train reward in one epoch: 0.00000\n",
      "    Test reward: 0.00000\n",
      "    Greedy: 0.02623\n",
      "    Buffer: 29139\n"
     ]
    },
    {
     "name": "stderr",
     "output_type": "stream",
     "text": [
      "epoch 389 avg loss:0.0658 train_total_reward:0.000 test_total_reward:0.000 e-greedy:0.02628:   6%|▌         | 58/1000 [00:17<02:56,  5.33it/s]\n"
     ]
    },
    {
     "name": "stdout",
     "output_type": "stream",
     "text": [
      "    /// Result\n",
      "    Average train error: 0.06583\n",
      "    Avg train reward in one epoch: 0.00000\n",
      "    Avg test reward in one epoch: 0.00000\n",
      "    Total train reward in one epoch: 0.00000\n",
      "    Test reward: 0.00000\n",
      "    Greedy: 0.02628\n",
      "    Buffer: 29197\n"
     ]
    },
    {
     "name": "stderr",
     "output_type": "stream",
     "text": [
      "epoch 390 avg loss:0.0851 train_total_reward:2.000 test_total_reward:2.000 e-greedy:0.02635:   8%|▊         | 78/1000 [00:18<02:54,  5.29it/s]\n"
     ]
    },
    {
     "name": "stdout",
     "output_type": "stream",
     "text": [
      "    /// Result\n",
      "    Average train error: 0.08508\n",
      "    Avg train reward in one epoch: 0.02564\n",
      "    Avg test reward in one epoch: 0.02564\n",
      "    Total train reward in one epoch: 2.00000\n",
      "    Test reward: 2.00000\n",
      "    Greedy: 0.02635\n",
      "    Buffer: 29275\n"
     ]
    },
    {
     "name": "stderr",
     "output_type": "stream",
     "text": [
      "epoch 391 avg loss:0.0814 train_total_reward:1.000 test_total_reward:3.000 e-greedy:0.02642:   8%|▊         | 75/1000 [00:17<02:50,  5.42it/s]\n"
     ]
    },
    {
     "name": "stdout",
     "output_type": "stream",
     "text": [
      "    /// Result\n",
      "    Average train error: 0.08136\n",
      "    Avg train reward in one epoch: 0.01333\n",
      "    Avg test reward in one epoch: 0.04000\n",
      "    Total train reward in one epoch: 1.00000\n",
      "    Test reward: 1.00000\n",
      "    Greedy: 0.02642\n",
      "    Buffer: 29350\n"
     ]
    },
    {
     "name": "stderr",
     "output_type": "stream",
     "text": [
      "epoch 392 avg loss:0.0831 train_total_reward:0.000 test_total_reward:1.000 e-greedy:0.02647:   6%|▌         | 59/1000 [00:12<02:54,  5.38it/s]\n"
     ]
    },
    {
     "name": "stdout",
     "output_type": "stream",
     "text": [
      "    /// Result\n",
      "    Average train error: 0.08310\n",
      "    Avg train reward in one epoch: 0.00000\n",
      "    Avg test reward in one epoch: 0.01695\n",
      "    Total train reward in one epoch: 0.00000\n",
      "    Test reward: 0.00000\n",
      "    Greedy: 0.02647\n",
      "    Buffer: 29409\n"
     ]
    },
    {
     "name": "stderr",
     "output_type": "stream",
     "text": [
      "epoch 393 avg loss:0.0796 train_total_reward:1.000 test_total_reward:0.000 e-greedy:0.02653:   7%|▋         | 66/1000 [00:16<02:54,  5.36it/s]\n"
     ]
    },
    {
     "name": "stdout",
     "output_type": "stream",
     "text": [
      "    /// Result\n",
      "    Average train error: 0.07961\n",
      "    Avg train reward in one epoch: 0.01515\n",
      "    Avg test reward in one epoch: 0.00000\n",
      "    Total train reward in one epoch: 1.00000\n",
      "    Test reward: 1.00000\n",
      "    Greedy: 0.02653\n",
      "    Buffer: 29475\n"
     ]
    },
    {
     "name": "stderr",
     "output_type": "stream",
     "text": [
      "epoch 394 avg loss:0.0857 train_total_reward:1.000 test_total_reward:1.000 e-greedy:0.02658:   6%|▌         | 56/1000 [00:14<02:51,  5.52it/s]\n"
     ]
    },
    {
     "name": "stdout",
     "output_type": "stream",
     "text": [
      "    /// Result\n",
      "    Average train error: 0.08571\n",
      "    Avg train reward in one epoch: 0.01786\n",
      "    Avg test reward in one epoch: 0.01786\n",
      "    Total train reward in one epoch: 1.00000\n",
      "    Test reward: 1.00000\n",
      "    Greedy: 0.02658\n",
      "    Buffer: 29531\n"
     ]
    },
    {
     "name": "stderr",
     "output_type": "stream",
     "text": [
      "epoch 395 avg loss:0.0780 train_total_reward:1.000 test_total_reward:1.000 e-greedy:0.02663:   6%|▌         | 55/1000 [00:14<02:58,  5.29it/s]\n"
     ]
    },
    {
     "name": "stdout",
     "output_type": "stream",
     "text": [
      "    /// Result\n",
      "    Average train error: 0.07797\n",
      "    Avg train reward in one epoch: 0.01818\n",
      "    Avg test reward in one epoch: 0.01818\n",
      "    Total train reward in one epoch: 1.00000\n",
      "    Test reward: 1.00000\n",
      "    Greedy: 0.02663\n",
      "    Buffer: 29586\n"
     ]
    },
    {
     "name": "stderr",
     "output_type": "stream",
     "text": [
      "epoch 396 avg loss:0.0769 train_total_reward:1.000 test_total_reward:1.000 e-greedy:0.02669:   8%|▊         | 75/1000 [00:17<02:52,  5.38it/s]\n"
     ]
    },
    {
     "name": "stdout",
     "output_type": "stream",
     "text": [
      "    /// Result\n",
      "    Average train error: 0.07693\n",
      "    Avg train reward in one epoch: 0.01333\n",
      "    Avg test reward in one epoch: 0.01333\n",
      "    Total train reward in one epoch: 1.00000\n",
      "    Test reward: 1.00000\n",
      "    Greedy: 0.02669\n",
      "    Buffer: 29661\n"
     ]
    },
    {
     "name": "stderr",
     "output_type": "stream",
     "text": [
      "epoch 397 avg loss:0.0774 train_total_reward:1.000 test_total_reward:2.000 e-greedy:0.02675:   6%|▋         | 65/1000 [00:14<02:57,  5.27it/s]\n"
     ]
    },
    {
     "name": "stdout",
     "output_type": "stream",
     "text": [
      "    /// Result\n",
      "    Average train error: 0.07743\n",
      "    Avg train reward in one epoch: 0.01538\n",
      "    Avg test reward in one epoch: 0.03077\n",
      "    Total train reward in one epoch: 1.00000\n",
      "    Test reward: 1.00000\n",
      "    Greedy: 0.02675\n",
      "    Buffer: 29726\n"
     ]
    },
    {
     "name": "stderr",
     "output_type": "stream",
     "text": [
      "epoch 398 avg loss:0.0845 train_total_reward:5.000 test_total_reward:2.000 e-greedy:0.02685:  11%|█         | 107/1000 [00:23<02:45,  5.39it/s]\n"
     ]
    },
    {
     "name": "stdout",
     "output_type": "stream",
     "text": [
      "    /// Result\n",
      "    Average train error: 0.08446\n",
      "    Avg train reward in one epoch: 0.04673\n",
      "    Avg test reward in one epoch: 0.01869\n",
      "    Total train reward in one epoch: 5.00000\n",
      "    Test reward: 5.00000\n",
      "    Greedy: 0.02685\n",
      "    Buffer: 29833\n"
     ]
    },
    {
     "name": "stderr",
     "output_type": "stream",
     "text": [
      "epoch 399 avg loss:0.0849 train_total_reward:1.000 test_total_reward:1.000 e-greedy:0.02691:   6%|▋         | 65/1000 [00:15<02:55,  5.33it/s]\n"
     ]
    },
    {
     "name": "stdout",
     "output_type": "stream",
     "text": [
      "    /// Result\n",
      "    Average train error: 0.08494\n",
      "    Avg train reward in one epoch: 0.01538\n",
      "    Avg test reward in one epoch: 0.01538\n",
      "    Total train reward in one epoch: 1.00000\n",
      "    Test reward: 1.00000\n",
      "    Greedy: 0.02691\n",
      "    Buffer: 29898\n"
     ]
    },
    {
     "name": "stderr",
     "output_type": "stream",
     "text": [
      "epoch 400 avg loss:0.0867 train_total_reward:0.000 test_total_reward:0.000 e-greedy:0.02695:   5%|▌         | 51/1000 [00:11<02:58,  5.33it/s]\n"
     ]
    },
    {
     "name": "stdout",
     "output_type": "stream",
     "text": [
      "    /// Result\n",
      "    Average train error: 0.08671\n",
      "    Avg train reward in one epoch: 0.00000\n",
      "    Avg test reward in one epoch: 0.00000\n",
      "    Total train reward in one epoch: 0.00000\n",
      "    Test reward: 0.00000\n",
      "    Greedy: 0.02695\n",
      "    Buffer: 29949\n"
     ]
    },
    {
     "name": "stderr",
     "output_type": "stream",
     "text": [
      "epoch 401 avg loss:0.0739 train_total_reward:3.000 test_total_reward:2.000 e-greedy:0.02705:  11%|█         | 106/1000 [00:21<02:43,  5.47it/s]\n"
     ]
    },
    {
     "name": "stdout",
     "output_type": "stream",
     "text": [
      "    /// Result\n",
      "    Average train error: 0.07392\n",
      "    Avg train reward in one epoch: 0.02830\n",
      "    Avg test reward in one epoch: 0.01887\n",
      "    Total train reward in one epoch: 3.00000\n",
      "    Test reward: 3.00000\n",
      "    Greedy: 0.02705\n",
      "    Buffer: 30055\n"
     ]
    },
    {
     "name": "stderr",
     "output_type": "stream",
     "text": [
      "epoch 402 avg loss:0.0435 train_total_reward:1.000 test_total_reward:3.000 e-greedy:0.02710:   6%|▌         | 61/1000 [00:15<02:54,  5.37it/s]\n"
     ]
    },
    {
     "name": "stdout",
     "output_type": "stream",
     "text": [
      "    /// Result\n",
      "    Average train error: 0.04348\n",
      "    Avg train reward in one epoch: 0.01639\n",
      "    Avg test reward in one epoch: 0.04918\n",
      "    Total train reward in one epoch: 1.00000\n",
      "    Test reward: 1.00000\n",
      "    Greedy: 0.02710\n",
      "    Buffer: 30116\n"
     ]
    },
    {
     "name": "stderr",
     "output_type": "stream",
     "text": [
      "epoch 403 avg loss:0.0412 train_total_reward:4.000 test_total_reward:2.000 e-greedy:0.02721:  11%|█▏        | 113/1000 [00:26<02:42,  5.47it/s]\n"
     ]
    },
    {
     "name": "stdout",
     "output_type": "stream",
     "text": [
      "    /// Result\n",
      "    Average train error: 0.04117\n",
      "    Avg train reward in one epoch: 0.03540\n",
      "    Avg test reward in one epoch: 0.01770\n",
      "    Total train reward in one epoch: 4.00000\n",
      "    Test reward: 4.00000\n",
      "    Greedy: 0.02721\n",
      "    Buffer: 30229\n"
     ]
    },
    {
     "name": "stderr",
     "output_type": "stream",
     "text": [
      "epoch 404 avg loss:0.0421 train_total_reward:1.000 test_total_reward:2.000 e-greedy:0.02726:   6%|▌         | 55/1000 [00:11<02:54,  5.41it/s]\n"
     ]
    },
    {
     "name": "stdout",
     "output_type": "stream",
     "text": [
      "    /// Result\n",
      "    Average train error: 0.04208\n",
      "    Avg train reward in one epoch: 0.01818\n",
      "    Avg test reward in one epoch: 0.03636\n",
      "    Total train reward in one epoch: 1.00000\n",
      "    Test reward: 1.00000\n",
      "    Greedy: 0.02726\n",
      "    Buffer: 30284\n"
     ]
    },
    {
     "name": "stderr",
     "output_type": "stream",
     "text": [
      "epoch 405 avg loss:0.0428 train_total_reward:0.000 test_total_reward:2.000 e-greedy:0.02730:   5%|▌         | 53/1000 [00:12<02:56,  5.36it/s]\n"
     ]
    },
    {
     "name": "stdout",
     "output_type": "stream",
     "text": [
      "    /// Result\n",
      "    Average train error: 0.04279\n",
      "    Avg train reward in one epoch: 0.00000\n",
      "    Avg test reward in one epoch: 0.03774\n",
      "    Total train reward in one epoch: 0.00000\n",
      "    Test reward: 0.00000\n",
      "    Greedy: 0.02730\n",
      "    Buffer: 30337\n"
     ]
    },
    {
     "name": "stderr",
     "output_type": "stream",
     "text": [
      "epoch 406 avg loss:0.0438 train_total_reward:4.000 test_total_reward:1.000 e-greedy:0.02739:  10%|▉         | 99/1000 [00:22<02:48,  5.35it/s]\n"
     ]
    },
    {
     "name": "stdout",
     "output_type": "stream",
     "text": [
      "    /// Result\n",
      "    Average train error: 0.04379\n",
      "    Avg train reward in one epoch: 0.04040\n",
      "    Avg test reward in one epoch: 0.01010\n",
      "    Total train reward in one epoch: 4.00000\n",
      "    Test reward: 4.00000\n",
      "    Greedy: 0.02739\n",
      "    Buffer: 30436\n"
     ]
    },
    {
     "name": "stderr",
     "output_type": "stream",
     "text": [
      "epoch 407 avg loss:0.0495 train_total_reward:2.000 test_total_reward:2.000 e-greedy:0.02747:   9%|▉         | 88/1000 [00:24<02:47,  5.44it/s]\n"
     ]
    },
    {
     "name": "stdout",
     "output_type": "stream",
     "text": [
      "    /// Result\n",
      "    Average train error: 0.04948\n",
      "    Avg train reward in one epoch: 0.02273\n",
      "    Avg test reward in one epoch: 0.02273\n",
      "    Total train reward in one epoch: 2.00000\n",
      "    Test reward: 2.00000\n",
      "    Greedy: 0.02747\n",
      "    Buffer: 30524\n"
     ]
    },
    {
     "name": "stderr",
     "output_type": "stream",
     "text": [
      "epoch 408 avg loss:0.0399 train_total_reward:3.000 test_total_reward:2.000 e-greedy:0.02755:   8%|▊         | 84/1000 [00:19<02:50,  5.37it/s]\n"
     ]
    },
    {
     "name": "stdout",
     "output_type": "stream",
     "text": [
      "    /// Result\n",
      "    Average train error: 0.03987\n",
      "    Avg train reward in one epoch: 0.03571\n",
      "    Avg test reward in one epoch: 0.02381\n",
      "    Total train reward in one epoch: 3.00000\n",
      "    Test reward: 3.00000\n",
      "    Greedy: 0.02755\n",
      "    Buffer: 30608\n"
     ]
    },
    {
     "name": "stderr",
     "output_type": "stream",
     "text": [
      "epoch 409 avg loss:0.0448 train_total_reward:0.000 test_total_reward:1.000 e-greedy:0.02760:   6%|▋         | 64/1000 [00:15<02:54,  5.36it/s]\n"
     ]
    },
    {
     "name": "stdout",
     "output_type": "stream",
     "text": [
      "    /// Result\n",
      "    Average train error: 0.04483\n",
      "    Avg train reward in one epoch: 0.00000\n",
      "    Avg test reward in one epoch: 0.01562\n",
      "    Total train reward in one epoch: 0.00000\n",
      "    Test reward: 0.00000\n",
      "    Greedy: 0.02760\n",
      "    Buffer: 30672\n"
     ]
    },
    {
     "name": "stderr",
     "output_type": "stream",
     "text": [
      "epoch 410 avg loss:0.0422 train_total_reward:2.000 test_total_reward:0.000 e-greedy:0.02768:   8%|▊         | 82/1000 [00:19<02:50,  5.38it/s]\n"
     ]
    },
    {
     "name": "stdout",
     "output_type": "stream",
     "text": [
      "    /// Result\n",
      "    Average train error: 0.04222\n",
      "    Avg train reward in one epoch: 0.02439\n",
      "    Avg test reward in one epoch: 0.00000\n",
      "    Total train reward in one epoch: 2.00000\n",
      "    Test reward: 2.00000\n",
      "    Greedy: 0.02768\n",
      "    Buffer: 30754\n"
     ]
    },
    {
     "name": "stderr",
     "output_type": "stream",
     "text": [
      "epoch 411 avg loss:0.0415 train_total_reward:0.000 test_total_reward:1.000 e-greedy:0.02772:   4%|▍         | 45/1000 [00:11<02:57,  5.39it/s]\n"
     ]
    },
    {
     "name": "stdout",
     "output_type": "stream",
     "text": [
      "    /// Result\n",
      "    Average train error: 0.04152\n",
      "    Avg train reward in one epoch: 0.00000\n",
      "    Avg test reward in one epoch: 0.02222\n",
      "    Total train reward in one epoch: 0.00000\n",
      "    Test reward: 0.00000\n",
      "    Greedy: 0.02772\n",
      "    Buffer: 30799\n"
     ]
    },
    {
     "name": "stderr",
     "output_type": "stream",
     "text": [
      "epoch 412 avg loss:0.0416 train_total_reward:0.000 test_total_reward:0.000 e-greedy:0.02776:   4%|▍         | 45/1000 [00:13<02:55,  5.44it/s]\n"
     ]
    },
    {
     "name": "stdout",
     "output_type": "stream",
     "text": [
      "    /// Result\n",
      "    Average train error: 0.04165\n",
      "    Avg train reward in one epoch: 0.00000\n",
      "    Avg test reward in one epoch: 0.00000\n",
      "    Total train reward in one epoch: 0.00000\n",
      "    Test reward: 0.00000\n",
      "    Greedy: 0.02776\n",
      "    Buffer: 30844\n"
     ]
    },
    {
     "name": "stderr",
     "output_type": "stream",
     "text": [
      "epoch 413 avg loss:0.0440 train_total_reward:1.000 test_total_reward:0.000 e-greedy:0.02782:   7%|▋         | 68/1000 [00:16<02:56,  5.27it/s]\n"
     ]
    },
    {
     "name": "stdout",
     "output_type": "stream",
     "text": [
      "    /// Result\n",
      "    Average train error: 0.04403\n",
      "    Avg train reward in one epoch: 0.01471\n",
      "    Avg test reward in one epoch: 0.00000\n",
      "    Total train reward in one epoch: 1.00000\n",
      "    Test reward: 1.00000\n",
      "    Greedy: 0.02782\n",
      "    Buffer: 30912\n"
     ]
    },
    {
     "name": "stderr",
     "output_type": "stream",
     "text": [
      "epoch 414 avg loss:0.0438 train_total_reward:0.000 test_total_reward:1.000 e-greedy:0.02787:   5%|▌         | 53/1000 [00:11<02:56,  5.35it/s]\n"
     ]
    },
    {
     "name": "stdout",
     "output_type": "stream",
     "text": [
      "    /// Result\n",
      "    Average train error: 0.04378\n",
      "    Avg train reward in one epoch: 0.00000\n",
      "    Avg test reward in one epoch: 0.01887\n",
      "    Total train reward in one epoch: 0.00000\n",
      "    Test reward: 0.00000\n",
      "    Greedy: 0.02787\n",
      "    Buffer: 30965\n"
     ]
    },
    {
     "name": "stderr",
     "output_type": "stream",
     "text": [
      "epoch 415 avg loss:0.0439 train_total_reward:3.000 test_total_reward:2.000 e-greedy:0.02795:   9%|▉         | 94/1000 [00:20<02:51,  5.29it/s]\n"
     ]
    },
    {
     "name": "stdout",
     "output_type": "stream",
     "text": [
      "    /// Result\n",
      "    Average train error: 0.04385\n",
      "    Avg train reward in one epoch: 0.03191\n",
      "    Avg test reward in one epoch: 0.02128\n",
      "    Total train reward in one epoch: 3.00000\n",
      "    Test reward: 3.00000\n",
      "    Greedy: 0.02795\n",
      "    Buffer: 31059\n"
     ]
    },
    {
     "name": "stderr",
     "output_type": "stream",
     "text": [
      "epoch 416 avg loss:0.0424 train_total_reward:2.000 test_total_reward:3.000 e-greedy:0.02805:  10%|█         | 104/1000 [00:21<02:48,  5.30it/s]\n"
     ]
    },
    {
     "name": "stdout",
     "output_type": "stream",
     "text": [
      "    /// Result\n",
      "    Average train error: 0.04243\n",
      "    Avg train reward in one epoch: 0.01923\n",
      "    Avg test reward in one epoch: 0.02885\n",
      "    Total train reward in one epoch: 2.00000\n",
      "    Test reward: 2.00000\n",
      "    Greedy: 0.02805\n",
      "    Buffer: 31163\n"
     ]
    },
    {
     "name": "stderr",
     "output_type": "stream",
     "text": [
      "epoch 417 avg loss:0.0430 train_total_reward:0.000 test_total_reward:2.000 e-greedy:0.02809:   5%|▌         | 51/1000 [00:12<02:54,  5.44it/s]\n"
     ]
    },
    {
     "name": "stdout",
     "output_type": "stream",
     "text": [
      "    /// Result\n",
      "    Average train error: 0.04302\n",
      "    Avg train reward in one epoch: 0.00000\n",
      "    Avg test reward in one epoch: 0.03922\n",
      "    Total train reward in one epoch: 0.00000\n",
      "    Test reward: 0.00000\n",
      "    Greedy: 0.02809\n",
      "    Buffer: 31214\n"
     ]
    },
    {
     "name": "stderr",
     "output_type": "stream",
     "text": [
      "epoch 418 avg loss:0.0499 train_total_reward:0.000 test_total_reward:2.000 e-greedy:0.02814:   5%|▌         | 51/1000 [00:11<02:55,  5.40it/s]\n"
     ]
    },
    {
     "name": "stdout",
     "output_type": "stream",
     "text": [
      "    /// Result\n",
      "    Average train error: 0.04992\n",
      "    Avg train reward in one epoch: 0.00000\n",
      "    Avg test reward in one epoch: 0.03922\n",
      "    Total train reward in one epoch: 0.00000\n",
      "    Test reward: 0.00000\n",
      "    Greedy: 0.02814\n",
      "    Buffer: 31265\n"
     ]
    },
    {
     "name": "stderr",
     "output_type": "stream",
     "text": [
      "epoch 419 avg loss:0.0448 train_total_reward:0.000 test_total_reward:2.000 e-greedy:0.02819:   5%|▌         | 52/1000 [00:14<02:56,  5.37it/s]\n"
     ]
    },
    {
     "name": "stdout",
     "output_type": "stream",
     "text": [
      "    /// Result\n",
      "    Average train error: 0.04482\n",
      "    Avg train reward in one epoch: 0.00000\n",
      "    Avg test reward in one epoch: 0.03846\n",
      "    Total train reward in one epoch: 0.00000\n",
      "    Test reward: 0.00000\n",
      "    Greedy: 0.02819\n",
      "    Buffer: 31317\n"
     ]
    },
    {
     "name": "stderr",
     "output_type": "stream",
     "text": [
      "epoch 420 avg loss:0.0426 train_total_reward:1.000 test_total_reward:2.000 e-greedy:0.02825:   7%|▋         | 72/1000 [00:16<02:53,  5.35it/s]\n"
     ]
    },
    {
     "name": "stdout",
     "output_type": "stream",
     "text": [
      "    /// Result\n",
      "    Average train error: 0.04262\n",
      "    Avg train reward in one epoch: 0.01389\n",
      "    Avg test reward in one epoch: 0.02778\n",
      "    Total train reward in one epoch: 1.00000\n",
      "    Test reward: 1.00000\n",
      "    Greedy: 0.02825\n",
      "    Buffer: 31389\n"
     ]
    },
    {
     "name": "stderr",
     "output_type": "stream",
     "text": [
      "epoch 421 avg loss:0.0425 train_total_reward:1.000 test_total_reward:0.000 e-greedy:0.02832:   8%|▊         | 75/1000 [00:16<02:53,  5.33it/s]\n"
     ]
    },
    {
     "name": "stdout",
     "output_type": "stream",
     "text": [
      "    /// Result\n",
      "    Average train error: 0.04251\n",
      "    Avg train reward in one epoch: 0.01333\n",
      "    Avg test reward in one epoch: 0.00000\n",
      "    Total train reward in one epoch: 1.00000\n",
      "    Test reward: 1.00000\n",
      "    Greedy: 0.02832\n",
      "    Buffer: 31464\n"
     ]
    },
    {
     "name": "stderr",
     "output_type": "stream",
     "text": [
      "epoch 422 avg loss:0.0392 train_total_reward:2.000 test_total_reward:0.000 e-greedy:0.02839:   8%|▊         | 77/1000 [00:21<02:49,  5.43it/s]\n"
     ]
    },
    {
     "name": "stdout",
     "output_type": "stream",
     "text": [
      "    /// Result\n",
      "    Average train error: 0.03917\n",
      "    Avg train reward in one epoch: 0.02597\n",
      "    Avg test reward in one epoch: 0.00000\n",
      "    Total train reward in one epoch: 2.00000\n",
      "    Test reward: 2.00000\n",
      "    Greedy: 0.02839\n",
      "    Buffer: 31541\n"
     ]
    },
    {
     "name": "stderr",
     "output_type": "stream",
     "text": [
      "epoch 423 avg loss:0.0414 train_total_reward:2.000 test_total_reward:2.000 e-greedy:0.02845:   7%|▋         | 73/1000 [00:17<02:54,  5.30it/s]\n"
     ]
    },
    {
     "name": "stdout",
     "output_type": "stream",
     "text": [
      "    /// Result\n",
      "    Average train error: 0.04142\n",
      "    Avg train reward in one epoch: 0.02740\n",
      "    Avg test reward in one epoch: 0.02740\n",
      "    Total train reward in one epoch: 2.00000\n",
      "    Test reward: 2.00000\n",
      "    Greedy: 0.02845\n",
      "    Buffer: 31614\n"
     ]
    },
    {
     "name": "stderr",
     "output_type": "stream",
     "text": [
      "epoch 424 avg loss:0.0358 train_total_reward:0.000 test_total_reward:0.000 e-greedy:0.02850:   5%|▍         | 48/1000 [00:13<02:58,  5.35it/s]\n"
     ]
    },
    {
     "name": "stdout",
     "output_type": "stream",
     "text": [
      "    /// Result\n",
      "    Average train error: 0.03583\n",
      "    Avg train reward in one epoch: 0.00000\n",
      "    Avg test reward in one epoch: 0.00000\n",
      "    Total train reward in one epoch: 0.00000\n",
      "    Test reward: 0.00000\n",
      "    Greedy: 0.02850\n",
      "    Buffer: 31662\n"
     ]
    },
    {
     "name": "stderr",
     "output_type": "stream",
     "text": [
      "epoch 425 avg loss:0.0444 train_total_reward:1.000 test_total_reward:1.000 e-greedy:0.02857:   8%|▊         | 78/1000 [00:16<02:49,  5.43it/s]\n"
     ]
    },
    {
     "name": "stdout",
     "output_type": "stream",
     "text": [
      "    /// Result\n",
      "    Average train error: 0.04443\n",
      "    Avg train reward in one epoch: 0.01282\n",
      "    Avg test reward in one epoch: 0.01282\n",
      "    Total train reward in one epoch: 1.00000\n",
      "    Test reward: 1.00000\n",
      "    Greedy: 0.02857\n",
      "    Buffer: 31740\n"
     ]
    },
    {
     "name": "stderr",
     "output_type": "stream",
     "text": [
      "epoch 426 avg loss:0.0475 train_total_reward:3.000 test_total_reward:0.000 e-greedy:0.02866:  11%|█         | 108/1000 [00:22<02:43,  5.45it/s]\n"
     ]
    },
    {
     "name": "stdout",
     "output_type": "stream",
     "text": [
      "    /// Result\n",
      "    Average train error: 0.04753\n",
      "    Avg train reward in one epoch: 0.02778\n",
      "    Avg test reward in one epoch: 0.00000\n",
      "    Total train reward in one epoch: 3.00000\n",
      "    Test reward: 3.00000\n",
      "    Greedy: 0.02866\n",
      "    Buffer: 31848\n"
     ]
    },
    {
     "name": "stderr",
     "output_type": "stream",
     "text": [
      "epoch 427 avg loss:0.0428 train_total_reward:6.000 test_total_reward:2.000 e-greedy:0.02879:  14%|█▍        | 139/1000 [00:29<02:42,  5.30it/s]\n"
     ]
    },
    {
     "name": "stdout",
     "output_type": "stream",
     "text": [
      "    /// Result\n",
      "    Average train error: 0.04276\n",
      "    Avg train reward in one epoch: 0.04317\n",
      "    Avg test reward in one epoch: 0.01439\n",
      "    Total train reward in one epoch: 6.00000\n",
      "    Test reward: 6.00000\n",
      "    Greedy: 0.02879\n",
      "    Buffer: 31987\n"
     ]
    },
    {
     "name": "stderr",
     "output_type": "stream",
     "text": [
      "epoch 428 avg loss:0.0465 train_total_reward:1.000 test_total_reward:1.000 e-greedy:0.02885:   7%|▋         | 66/1000 [00:15<02:51,  5.44it/s]\n"
     ]
    },
    {
     "name": "stdout",
     "output_type": "stream",
     "text": [
      "    /// Result\n",
      "    Average train error: 0.04646\n",
      "    Avg train reward in one epoch: 0.01515\n",
      "    Avg test reward in one epoch: 0.01515\n",
      "    Total train reward in one epoch: 1.00000\n",
      "    Test reward: 1.00000\n",
      "    Greedy: 0.02885\n",
      "    Buffer: 32053\n"
     ]
    },
    {
     "name": "stderr",
     "output_type": "stream",
     "text": [
      "epoch 429 avg loss:0.0468 train_total_reward:1.000 test_total_reward:2.000 e-greedy:0.02892:   8%|▊         | 77/1000 [00:18<02:50,  5.40it/s]\n"
     ]
    },
    {
     "name": "stdout",
     "output_type": "stream",
     "text": [
      "    /// Result\n",
      "    Average train error: 0.04683\n",
      "    Avg train reward in one epoch: 0.01299\n",
      "    Avg test reward in one epoch: 0.02597\n",
      "    Total train reward in one epoch: 1.00000\n",
      "    Test reward: 1.00000\n",
      "    Greedy: 0.02892\n",
      "    Buffer: 32130\n"
     ]
    },
    {
     "name": "stderr",
     "output_type": "stream",
     "text": [
      "epoch 430 avg loss:0.0497 train_total_reward:1.000 test_total_reward:0.000 e-greedy:0.02897:   5%|▌         | 54/1000 [00:13<02:55,  5.39it/s]\n"
     ]
    },
    {
     "name": "stdout",
     "output_type": "stream",
     "text": [
      "    /// Result\n",
      "    Average train error: 0.04966\n",
      "    Avg train reward in one epoch: 0.01852\n",
      "    Avg test reward in one epoch: 0.00000\n",
      "    Total train reward in one epoch: 1.00000\n",
      "    Test reward: 1.00000\n",
      "    Greedy: 0.02897\n",
      "    Buffer: 32184\n"
     ]
    },
    {
     "name": "stderr",
     "output_type": "stream",
     "text": [
      "epoch 431 avg loss:0.0432 train_total_reward:2.000 test_total_reward:4.000 e-greedy:0.02904:   8%|▊         | 78/1000 [00:17<02:53,  5.31it/s]\n"
     ]
    },
    {
     "name": "stdout",
     "output_type": "stream",
     "text": [
      "    /// Result\n",
      "    Average train error: 0.04318\n",
      "    Avg train reward in one epoch: 0.02564\n",
      "    Avg test reward in one epoch: 0.05128\n",
      "    Total train reward in one epoch: 2.00000\n",
      "    Test reward: 2.00000\n",
      "    Greedy: 0.02904\n",
      "    Buffer: 32262\n"
     ]
    },
    {
     "name": "stderr",
     "output_type": "stream",
     "text": [
      "epoch 432 avg loss:0.0480 train_total_reward:0.000 test_total_reward:1.000 e-greedy:0.02909:   6%|▌         | 59/1000 [00:14<02:50,  5.51it/s]\n"
     ]
    },
    {
     "name": "stdout",
     "output_type": "stream",
     "text": [
      "    /// Result\n",
      "    Average train error: 0.04803\n",
      "    Avg train reward in one epoch: 0.00000\n",
      "    Avg test reward in one epoch: 0.01695\n",
      "    Total train reward in one epoch: 0.00000\n",
      "    Test reward: 0.00000\n",
      "    Greedy: 0.02909\n",
      "    Buffer: 32321\n"
     ]
    },
    {
     "name": "stderr",
     "output_type": "stream",
     "text": [
      "epoch 433 avg loss:0.0486 train_total_reward:0.000 test_total_reward:1.000 e-greedy:0.02914:   6%|▌         | 58/1000 [00:15<02:51,  5.51it/s]\n"
     ]
    },
    {
     "name": "stdout",
     "output_type": "stream",
     "text": [
      "    /// Result\n",
      "    Average train error: 0.04858\n",
      "    Avg train reward in one epoch: 0.00000\n",
      "    Avg test reward in one epoch: 0.01724\n",
      "    Total train reward in one epoch: 0.00000\n",
      "    Test reward: 0.00000\n",
      "    Greedy: 0.02914\n",
      "    Buffer: 32379\n"
     ]
    },
    {
     "name": "stderr",
     "output_type": "stream",
     "text": [
      "epoch 434 avg loss:0.0413 train_total_reward:0.000 test_total_reward:2.000 e-greedy:0.02921:   8%|▊         | 76/1000 [00:17<02:50,  5.41it/s]\n"
     ]
    },
    {
     "name": "stdout",
     "output_type": "stream",
     "text": [
      "    /// Result\n",
      "    Average train error: 0.04132\n",
      "    Avg train reward in one epoch: 0.00000\n",
      "    Avg test reward in one epoch: 0.02632\n",
      "    Total train reward in one epoch: 0.00000\n",
      "    Test reward: 0.00000\n",
      "    Greedy: 0.02921\n",
      "    Buffer: 32455\n"
     ]
    },
    {
     "name": "stderr",
     "output_type": "stream",
     "text": [
      "epoch 435 avg loss:0.0429 train_total_reward:0.000 test_total_reward:7.000 e-greedy:0.02925:   5%|▍         | 49/1000 [00:10<02:58,  5.32it/s]\n"
     ]
    },
    {
     "name": "stdout",
     "output_type": "stream",
     "text": [
      "    /// Result\n",
      "    Average train error: 0.04291\n",
      "    Avg train reward in one epoch: 0.00000\n",
      "    Avg test reward in one epoch: 0.14286\n",
      "    Total train reward in one epoch: 0.00000\n",
      "    Test reward: 0.00000\n",
      "    Greedy: 0.02925\n",
      "    Buffer: 32504\n"
     ]
    },
    {
     "name": "stderr",
     "output_type": "stream",
     "text": [
      "epoch 436 avg loss:0.0437 train_total_reward:1.000 test_total_reward:1.000 e-greedy:0.02932:   7%|▋         | 73/1000 [00:20<02:55,  5.29it/s]\n"
     ]
    },
    {
     "name": "stdout",
     "output_type": "stream",
     "text": [
      "    /// Result\n",
      "    Average train error: 0.04367\n",
      "    Avg train reward in one epoch: 0.01370\n",
      "    Avg test reward in one epoch: 0.01370\n",
      "    Total train reward in one epoch: 1.00000\n",
      "    Test reward: 1.00000\n",
      "    Greedy: 0.02932\n",
      "    Buffer: 32577\n"
     ]
    },
    {
     "name": "stderr",
     "output_type": "stream",
     "text": [
      "epoch 437 avg loss:0.0499 train_total_reward:2.000 test_total_reward:1.000 e-greedy:0.02940:   9%|▊         | 87/1000 [00:18<02:52,  5.30it/s]\n"
     ]
    },
    {
     "name": "stdout",
     "output_type": "stream",
     "text": [
      "    /// Result\n",
      "    Average train error: 0.04994\n",
      "    Avg train reward in one epoch: 0.02299\n",
      "    Avg test reward in one epoch: 0.01149\n",
      "    Total train reward in one epoch: 2.00000\n",
      "    Test reward: 2.00000\n",
      "    Greedy: 0.02940\n",
      "    Buffer: 32664\n"
     ]
    },
    {
     "name": "stderr",
     "output_type": "stream",
     "text": [
      "epoch 438 avg loss:0.0448 train_total_reward:0.000 test_total_reward:1.000 e-greedy:0.02945:   6%|▌         | 59/1000 [00:13<02:57,  5.31it/s]\n"
     ]
    },
    {
     "name": "stdout",
     "output_type": "stream",
     "text": [
      "    /// Result\n",
      "    Average train error: 0.04482\n",
      "    Avg train reward in one epoch: 0.00000\n",
      "    Avg test reward in one epoch: 0.01695\n",
      "    Total train reward in one epoch: 0.00000\n",
      "    Test reward: 0.00000\n",
      "    Greedy: 0.02945\n",
      "    Buffer: 32723\n"
     ]
    },
    {
     "name": "stderr",
     "output_type": "stream",
     "text": [
      "epoch 439 avg loss:0.0434 train_total_reward:1.000 test_total_reward:2.000 e-greedy:0.02951:   7%|▋         | 68/1000 [00:16<02:53,  5.38it/s]\n"
     ]
    },
    {
     "name": "stdout",
     "output_type": "stream",
     "text": [
      "    /// Result\n",
      "    Average train error: 0.04339\n",
      "    Avg train reward in one epoch: 0.01471\n",
      "    Avg test reward in one epoch: 0.02941\n",
      "    Total train reward in one epoch: 1.00000\n",
      "    Test reward: 1.00000\n",
      "    Greedy: 0.02951\n",
      "    Buffer: 32791\n"
     ]
    },
    {
     "name": "stderr",
     "output_type": "stream",
     "text": [
      "epoch 440 avg loss:0.0422 train_total_reward:1.000 test_total_reward:2.000 e-greedy:0.02956:   6%|▌         | 58/1000 [00:15<02:56,  5.33it/s]\n"
     ]
    },
    {
     "name": "stdout",
     "output_type": "stream",
     "text": [
      "    /// Result\n",
      "    Average train error: 0.04221\n",
      "    Avg train reward in one epoch: 0.01724\n",
      "    Avg test reward in one epoch: 0.03448\n",
      "    Total train reward in one epoch: 1.00000\n",
      "    Test reward: 1.00000\n",
      "    Greedy: 0.02956\n",
      "    Buffer: 32849\n"
     ]
    },
    {
     "name": "stderr",
     "output_type": "stream",
     "text": [
      "epoch 441 avg loss:0.0424 train_total_reward:3.000 test_total_reward:2.000 e-greedy:0.02966:  11%|█         | 107/1000 [00:24<02:45,  5.40it/s]\n"
     ]
    },
    {
     "name": "stdout",
     "output_type": "stream",
     "text": [
      "    /// Result\n",
      "    Average train error: 0.04238\n",
      "    Avg train reward in one epoch: 0.02804\n",
      "    Avg test reward in one epoch: 0.01869\n",
      "    Total train reward in one epoch: 3.00000\n",
      "    Test reward: 3.00000\n",
      "    Greedy: 0.02966\n",
      "    Buffer: 32956\n"
     ]
    },
    {
     "name": "stderr",
     "output_type": "stream",
     "text": [
      "epoch 442 avg loss:0.0417 train_total_reward:1.000 test_total_reward:3.000 e-greedy:0.02972:   7%|▋         | 67/1000 [00:15<02:54,  5.35it/s]\n"
     ]
    },
    {
     "name": "stdout",
     "output_type": "stream",
     "text": [
      "    /// Result\n",
      "    Average train error: 0.04171\n",
      "    Avg train reward in one epoch: 0.01493\n",
      "    Avg test reward in one epoch: 0.04478\n",
      "    Total train reward in one epoch: 1.00000\n",
      "    Test reward: 1.00000\n",
      "    Greedy: 0.02972\n",
      "    Buffer: 33023\n"
     ]
    },
    {
     "name": "stderr",
     "output_type": "stream",
     "text": [
      "epoch 443 avg loss:0.0427 train_total_reward:3.000 test_total_reward:1.000 e-greedy:0.02981:   9%|▉         | 94/1000 [00:20<02:50,  5.31it/s]\n"
     ]
    },
    {
     "name": "stdout",
     "output_type": "stream",
     "text": [
      "    /// Result\n",
      "    Average train error: 0.04275\n",
      "    Avg train reward in one epoch: 0.03191\n",
      "    Avg test reward in one epoch: 0.01064\n",
      "    Total train reward in one epoch: 3.00000\n",
      "    Test reward: 3.00000\n",
      "    Greedy: 0.02981\n",
      "    Buffer: 33117\n"
     ]
    },
    {
     "name": "stderr",
     "output_type": "stream",
     "text": [
      "epoch 444 avg loss:0.0419 train_total_reward:3.000 test_total_reward:0.000 e-greedy:0.02989:   9%|▉         | 91/1000 [00:20<02:50,  5.32it/s]\n"
     ]
    },
    {
     "name": "stdout",
     "output_type": "stream",
     "text": [
      "    /// Result\n",
      "    Average train error: 0.04191\n",
      "    Avg train reward in one epoch: 0.03297\n",
      "    Avg test reward in one epoch: 0.00000\n",
      "    Total train reward in one epoch: 3.00000\n",
      "    Test reward: 3.00000\n",
      "    Greedy: 0.02989\n",
      "    Buffer: 33208\n"
     ]
    },
    {
     "name": "stderr",
     "output_type": "stream",
     "text": [
      "epoch 445 avg loss:0.0389 train_total_reward:3.000 test_total_reward:1.000 e-greedy:0.02998:  10%|▉         | 98/1000 [00:22<02:49,  5.31it/s]\n"
     ]
    },
    {
     "name": "stdout",
     "output_type": "stream",
     "text": [
      "    /// Result\n",
      "    Average train error: 0.03890\n",
      "    Avg train reward in one epoch: 0.03061\n",
      "    Avg test reward in one epoch: 0.01020\n",
      "    Total train reward in one epoch: 3.00000\n",
      "    Test reward: 3.00000\n",
      "    Greedy: 0.02998\n",
      "    Buffer: 33306\n"
     ]
    },
    {
     "name": "stderr",
     "output_type": "stream",
     "text": [
      "epoch 446 avg loss:0.0480 train_total_reward:2.000 test_total_reward:3.000 e-greedy:0.03006:   9%|▉         | 93/1000 [00:24<02:50,  5.33it/s]\n"
     ]
    },
    {
     "name": "stdout",
     "output_type": "stream",
     "text": [
      "    /// Result\n",
      "    Average train error: 0.04805\n",
      "    Avg train reward in one epoch: 0.02151\n",
      "    Avg test reward in one epoch: 0.03226\n",
      "    Total train reward in one epoch: 2.00000\n",
      "    Test reward: 2.00000\n",
      "    Greedy: 0.03006\n",
      "    Buffer: 33399\n"
     ]
    },
    {
     "name": "stderr",
     "output_type": "stream",
     "text": [
      "epoch 447 avg loss:0.0449 train_total_reward:1.000 test_total_reward:0.000 e-greedy:0.03012:   7%|▋         | 71/1000 [00:17<02:51,  5.41it/s]\n"
     ]
    },
    {
     "name": "stdout",
     "output_type": "stream",
     "text": [
      "    /// Result\n",
      "    Average train error: 0.04487\n",
      "    Avg train reward in one epoch: 0.01408\n",
      "    Avg test reward in one epoch: 0.00000\n",
      "    Total train reward in one epoch: 1.00000\n",
      "    Test reward: 1.00000\n",
      "    Greedy: 0.03012\n",
      "    Buffer: 33470\n"
     ]
    },
    {
     "name": "stderr",
     "output_type": "stream",
     "text": [
      "epoch 448 avg loss:0.0482 train_total_reward:1.000 test_total_reward:0.000 e-greedy:0.03018:   7%|▋         | 67/1000 [00:16<02:55,  5.33it/s]\n"
     ]
    },
    {
     "name": "stdout",
     "output_type": "stream",
     "text": [
      "    /// Result\n",
      "    Average train error: 0.04821\n",
      "    Avg train reward in one epoch: 0.01493\n",
      "    Avg test reward in one epoch: 0.00000\n",
      "    Total train reward in one epoch: 1.00000\n",
      "    Test reward: 1.00000\n",
      "    Greedy: 0.03018\n",
      "    Buffer: 33537\n"
     ]
    },
    {
     "name": "stderr",
     "output_type": "stream",
     "text": [
      "epoch 449 avg loss:0.0395 train_total_reward:1.000 test_total_reward:0.000 e-greedy:0.03024:   7%|▋         | 67/1000 [00:17<02:54,  5.35it/s]\n"
     ]
    },
    {
     "name": "stdout",
     "output_type": "stream",
     "text": [
      "    /// Result\n",
      "    Average train error: 0.03952\n",
      "    Avg train reward in one epoch: 0.01493\n",
      "    Avg test reward in one epoch: 0.00000\n",
      "    Total train reward in one epoch: 1.00000\n",
      "    Test reward: 1.00000\n",
      "    Greedy: 0.03024\n",
      "    Buffer: 33604\n"
     ]
    },
    {
     "name": "stderr",
     "output_type": "stream",
     "text": [
      "epoch 450 avg loss:0.0421 train_total_reward:2.000 test_total_reward:1.000 e-greedy:0.03031:   7%|▋         | 72/1000 [00:18<02:55,  5.29it/s]\n"
     ]
    },
    {
     "name": "stdout",
     "output_type": "stream",
     "text": [
      "    /// Result\n",
      "    Average train error: 0.04211\n",
      "    Avg train reward in one epoch: 0.02778\n",
      "    Avg test reward in one epoch: 0.01389\n",
      "    Total train reward in one epoch: 2.00000\n",
      "    Test reward: 2.00000\n",
      "    Greedy: 0.03031\n",
      "    Buffer: 33676\n"
     ]
    },
    {
     "name": "stderr",
     "output_type": "stream",
     "text": [
      "epoch 451 avg loss:0.0459 train_total_reward:2.000 test_total_reward:0.000 e-greedy:0.03039:   9%|▊         | 86/1000 [00:20<02:57,  5.15it/s]\n"
     ]
    },
    {
     "name": "stdout",
     "output_type": "stream",
     "text": [
      "    /// Result\n",
      "    Average train error: 0.04588\n",
      "    Avg train reward in one epoch: 0.02326\n",
      "    Avg test reward in one epoch: 0.00000\n",
      "    Total train reward in one epoch: 2.00000\n",
      "    Test reward: 2.00000\n",
      "    Greedy: 0.03039\n",
      "    Buffer: 33762\n"
     ]
    },
    {
     "name": "stderr",
     "output_type": "stream",
     "text": [
      "epoch 452 avg loss:0.0436 train_total_reward:0.000 test_total_reward:0.000 e-greedy:0.03044:   6%|▌         | 62/1000 [00:14<02:54,  5.37it/s]\n"
     ]
    },
    {
     "name": "stdout",
     "output_type": "stream",
     "text": [
      "    /// Result\n",
      "    Average train error: 0.04364\n",
      "    Avg train reward in one epoch: 0.00000\n",
      "    Avg test reward in one epoch: 0.00000\n",
      "    Total train reward in one epoch: 0.00000\n",
      "    Test reward: 0.00000\n",
      "    Greedy: 0.03044\n",
      "    Buffer: 33824\n"
     ]
    },
    {
     "name": "stderr",
     "output_type": "stream",
     "text": [
      "epoch 453 avg loss:0.0431 train_total_reward:2.000 test_total_reward:2.000 e-greedy:0.03053:  10%|█         | 103/1000 [00:22<02:46,  5.37it/s]\n"
     ]
    },
    {
     "name": "stdout",
     "output_type": "stream",
     "text": [
      "    /// Result\n",
      "    Average train error: 0.04314\n",
      "    Avg train reward in one epoch: 0.01942\n",
      "    Avg test reward in one epoch: 0.01942\n",
      "    Total train reward in one epoch: 2.00000\n",
      "    Test reward: 2.00000\n",
      "    Greedy: 0.03053\n",
      "    Buffer: 33927\n"
     ]
    },
    {
     "name": "stderr",
     "output_type": "stream",
     "text": [
      "epoch 454 avg loss:0.0442 train_total_reward:2.000 test_total_reward:2.000 e-greedy:0.03060:   7%|▋         | 74/1000 [00:18<02:54,  5.32it/s]\n"
     ]
    },
    {
     "name": "stdout",
     "output_type": "stream",
     "text": [
      "    /// Result\n",
      "    Average train error: 0.04423\n",
      "    Avg train reward in one epoch: 0.02703\n",
      "    Avg test reward in one epoch: 0.02703\n",
      "    Total train reward in one epoch: 2.00000\n",
      "    Test reward: 2.00000\n",
      "    Greedy: 0.03060\n",
      "    Buffer: 34001\n"
     ]
    },
    {
     "name": "stderr",
     "output_type": "stream",
     "text": [
      "epoch 455 avg loss:0.0423 train_total_reward:0.000 test_total_reward:2.000 e-greedy:0.03065:   6%|▌         | 58/1000 [00:16<02:57,  5.31it/s]\n"
     ]
    },
    {
     "name": "stdout",
     "output_type": "stream",
     "text": [
      "    /// Result\n",
      "    Average train error: 0.04229\n",
      "    Avg train reward in one epoch: 0.00000\n",
      "    Avg test reward in one epoch: 0.03448\n",
      "    Total train reward in one epoch: 0.00000\n",
      "    Test reward: 0.00000\n",
      "    Greedy: 0.03065\n",
      "    Buffer: 34059\n"
     ]
    },
    {
     "name": "stderr",
     "output_type": "stream",
     "text": [
      "epoch 456 avg loss:0.0500 train_total_reward:1.000 test_total_reward:1.000 e-greedy:0.03071:   7%|▋         | 67/1000 [00:17<02:56,  5.28it/s]\n"
     ]
    },
    {
     "name": "stdout",
     "output_type": "stream",
     "text": [
      "    /// Result\n",
      "    Average train error: 0.04999\n",
      "    Avg train reward in one epoch: 0.01493\n",
      "    Avg test reward in one epoch: 0.01493\n",
      "    Total train reward in one epoch: 1.00000\n",
      "    Test reward: 1.00000\n",
      "    Greedy: 0.03071\n",
      "    Buffer: 34126\n"
     ]
    },
    {
     "name": "stderr",
     "output_type": "stream",
     "text": [
      "epoch 457 avg loss:0.0429 train_total_reward:3.000 test_total_reward:1.000 e-greedy:0.03080:  10%|▉         | 98/1000 [00:22<02:49,  5.31it/s]\n"
     ]
    },
    {
     "name": "stdout",
     "output_type": "stream",
     "text": [
      "    /// Result\n",
      "    Average train error: 0.04291\n",
      "    Avg train reward in one epoch: 0.03061\n",
      "    Avg test reward in one epoch: 0.01020\n",
      "    Total train reward in one epoch: 3.00000\n",
      "    Test reward: 3.00000\n",
      "    Greedy: 0.03080\n",
      "    Buffer: 34224\n"
     ]
    },
    {
     "name": "stderr",
     "output_type": "stream",
     "text": [
      "epoch 458 avg loss:0.0414 train_total_reward:2.000 test_total_reward:3.000 e-greedy:0.03088:   9%|▊         | 87/1000 [00:22<02:50,  5.36it/s]\n"
     ]
    },
    {
     "name": "stdout",
     "output_type": "stream",
     "text": [
      "    /// Result\n",
      "    Average train error: 0.04141\n",
      "    Avg train reward in one epoch: 0.02299\n",
      "    Avg test reward in one epoch: 0.03448\n",
      "    Total train reward in one epoch: 2.00000\n",
      "    Test reward: 2.00000\n",
      "    Greedy: 0.03088\n",
      "    Buffer: 34311\n"
     ]
    },
    {
     "name": "stderr",
     "output_type": "stream",
     "text": [
      "epoch 459 avg loss:0.0436 train_total_reward:1.000 test_total_reward:3.000 e-greedy:0.03096:   9%|▉         | 88/1000 [00:22<02:45,  5.50it/s]\n"
     ]
    },
    {
     "name": "stdout",
     "output_type": "stream",
     "text": [
      "    /// Result\n",
      "    Average train error: 0.04359\n",
      "    Avg train reward in one epoch: 0.01136\n",
      "    Avg test reward in one epoch: 0.03409\n",
      "    Total train reward in one epoch: 1.00000\n",
      "    Test reward: 1.00000\n",
      "    Greedy: 0.03096\n",
      "    Buffer: 34399\n"
     ]
    },
    {
     "name": "stderr",
     "output_type": "stream",
     "text": [
      "epoch 460 avg loss:0.0452 train_total_reward:1.000 test_total_reward:1.000 e-greedy:0.03102:   7%|▋         | 71/1000 [00:15<02:51,  5.42it/s]\n"
     ]
    },
    {
     "name": "stdout",
     "output_type": "stream",
     "text": [
      "    /// Result\n",
      "    Average train error: 0.04521\n",
      "    Avg train reward in one epoch: 0.01408\n",
      "    Avg test reward in one epoch: 0.01408\n",
      "    Total train reward in one epoch: 1.00000\n",
      "    Test reward: 1.00000\n",
      "    Greedy: 0.03102\n",
      "    Buffer: 34470\n"
     ]
    },
    {
     "name": "stderr",
     "output_type": "stream",
     "text": [
      "epoch 461 avg loss:0.0400 train_total_reward:1.000 test_total_reward:0.000 e-greedy:0.03108:   6%|▌         | 62/1000 [00:15<02:56,  5.32it/s]\n"
     ]
    },
    {
     "name": "stdout",
     "output_type": "stream",
     "text": [
      "    /// Result\n",
      "    Average train error: 0.04000\n",
      "    Avg train reward in one epoch: 0.01613\n",
      "    Avg test reward in one epoch: 0.00000\n",
      "    Total train reward in one epoch: 1.00000\n",
      "    Test reward: 1.00000\n",
      "    Greedy: 0.03108\n",
      "    Buffer: 34532\n"
     ]
    },
    {
     "name": "stderr",
     "output_type": "stream",
     "text": [
      "epoch 462 avg loss:0.0413 train_total_reward:2.000 test_total_reward:3.000 e-greedy:0.03115:   7%|▋         | 74/1000 [00:16<02:49,  5.46it/s]\n"
     ]
    },
    {
     "name": "stdout",
     "output_type": "stream",
     "text": [
      "    /// Result\n",
      "    Average train error: 0.04127\n",
      "    Avg train reward in one epoch: 0.02703\n",
      "    Avg test reward in one epoch: 0.04054\n",
      "    Total train reward in one epoch: 2.00000\n",
      "    Test reward: 2.00000\n",
      "    Greedy: 0.03115\n",
      "    Buffer: 34606\n"
     ]
    },
    {
     "name": "stderr",
     "output_type": "stream",
     "text": [
      "epoch 463 avg loss:0.0456 train_total_reward:0.000 test_total_reward:0.000 e-greedy:0.03119:   5%|▌         | 52/1000 [00:14<02:59,  5.28it/s]\n"
     ]
    },
    {
     "name": "stdout",
     "output_type": "stream",
     "text": [
      "    /// Result\n",
      "    Average train error: 0.04560\n",
      "    Avg train reward in one epoch: 0.00000\n",
      "    Avg test reward in one epoch: 0.00000\n",
      "    Total train reward in one epoch: 0.00000\n",
      "    Test reward: 0.00000\n",
      "    Greedy: 0.03119\n",
      "    Buffer: 34658\n"
     ]
    },
    {
     "name": "stderr",
     "output_type": "stream",
     "text": [
      "epoch 464 avg loss:0.0430 train_total_reward:0.000 test_total_reward:1.000 e-greedy:0.03125:   6%|▋         | 65/1000 [00:16<02:54,  5.35it/s]\n"
     ]
    },
    {
     "name": "stdout",
     "output_type": "stream",
     "text": [
      "    /// Result\n",
      "    Average train error: 0.04298\n",
      "    Avg train reward in one epoch: 0.00000\n",
      "    Avg test reward in one epoch: 0.01538\n",
      "    Total train reward in one epoch: 0.00000\n",
      "    Test reward: 0.00000\n",
      "    Greedy: 0.03125\n",
      "    Buffer: 34723\n"
     ]
    },
    {
     "name": "stderr",
     "output_type": "stream",
     "text": [
      "epoch 465 avg loss:0.0451 train_total_reward:4.000 test_total_reward:1.000 e-greedy:0.03134:  10%|▉         | 97/1000 [00:22<03:07,  4.82it/s]\n"
     ]
    },
    {
     "name": "stdout",
     "output_type": "stream",
     "text": [
      "    /// Result\n",
      "    Average train error: 0.04508\n",
      "    Avg train reward in one epoch: 0.04124\n",
      "    Avg test reward in one epoch: 0.01031\n",
      "    Total train reward in one epoch: 4.00000\n",
      "    Test reward: 4.00000\n",
      "    Greedy: 0.03134\n",
      "    Buffer: 34820\n"
     ]
    },
    {
     "name": "stderr",
     "output_type": "stream",
     "text": [
      "epoch 466 avg loss:0.0427 train_total_reward:0.000 test_total_reward:2.000 e-greedy:0.03139:   6%|▌         | 57/1000 [00:14<02:57,  5.31it/s]\n"
     ]
    },
    {
     "name": "stdout",
     "output_type": "stream",
     "text": [
      "    /// Result\n",
      "    Average train error: 0.04269\n",
      "    Avg train reward in one epoch: 0.00000\n",
      "    Avg test reward in one epoch: 0.03509\n",
      "    Total train reward in one epoch: 0.00000\n",
      "    Test reward: 0.00000\n",
      "    Greedy: 0.03139\n",
      "    Buffer: 34877\n"
     ]
    },
    {
     "name": "stderr",
     "output_type": "stream",
     "text": [
      "epoch 467 avg loss:0.0414 train_total_reward:0.000 test_total_reward:1.000 e-greedy:0.03144:   6%|▌         | 57/1000 [00:15<03:01,  5.20it/s]\n"
     ]
    },
    {
     "name": "stdout",
     "output_type": "stream",
     "text": [
      "    /// Result\n",
      "    Average train error: 0.04144\n",
      "    Avg train reward in one epoch: 0.00000\n",
      "    Avg test reward in one epoch: 0.01754\n",
      "    Total train reward in one epoch: 0.00000\n",
      "    Test reward: 0.00000\n",
      "    Greedy: 0.03144\n",
      "    Buffer: 34934\n"
     ]
    },
    {
     "name": "stderr",
     "output_type": "stream",
     "text": [
      "epoch 468 avg loss:0.0396 train_total_reward:0.000 test_total_reward:1.000 e-greedy:0.03149:   6%|▌         | 59/1000 [00:15<02:56,  5.33it/s]\n"
     ]
    },
    {
     "name": "stdout",
     "output_type": "stream",
     "text": [
      "    /// Result\n",
      "    Average train error: 0.03963\n",
      "    Avg train reward in one epoch: 0.00000\n",
      "    Avg test reward in one epoch: 0.01695\n",
      "    Total train reward in one epoch: 0.00000\n",
      "    Test reward: 0.00000\n",
      "    Greedy: 0.03149\n",
      "    Buffer: 34993\n"
     ]
    },
    {
     "name": "stderr",
     "output_type": "stream",
     "text": [
      "epoch 469 avg loss:0.0434 train_total_reward:1.000 test_total_reward:3.000 e-greedy:0.03159:  11%|█         | 108/1000 [00:23<02:47,  5.34it/s]\n"
     ]
    },
    {
     "name": "stdout",
     "output_type": "stream",
     "text": [
      "    /// Result\n",
      "    Average train error: 0.04345\n",
      "    Avg train reward in one epoch: 0.00926\n",
      "    Avg test reward in one epoch: 0.02778\n",
      "    Total train reward in one epoch: 1.00000\n",
      "    Test reward: 1.00000\n",
      "    Greedy: 0.03159\n",
      "    Buffer: 35101\n"
     ]
    },
    {
     "name": "stderr",
     "output_type": "stream",
     "text": [
      "epoch 470 avg loss:0.0429 train_total_reward:2.000 test_total_reward:1.000 e-greedy:0.03166:   7%|▋         | 72/1000 [00:17<02:47,  5.53it/s]\n"
     ]
    },
    {
     "name": "stdout",
     "output_type": "stream",
     "text": [
      "    /// Result\n",
      "    Average train error: 0.04286\n",
      "    Avg train reward in one epoch: 0.02778\n",
      "    Avg test reward in one epoch: 0.01389\n",
      "    Total train reward in one epoch: 2.00000\n",
      "    Test reward: 2.00000\n",
      "    Greedy: 0.03166\n",
      "    Buffer: 35173\n"
     ]
    },
    {
     "name": "stderr",
     "output_type": "stream",
     "text": [
      "epoch 471 avg loss:0.0406 train_total_reward:1.000 test_total_reward:0.000 e-greedy:0.03171:   6%|▋         | 63/1000 [00:14<02:56,  5.31it/s]\n"
     ]
    },
    {
     "name": "stdout",
     "output_type": "stream",
     "text": [
      "    /// Result\n",
      "    Average train error: 0.04060\n",
      "    Avg train reward in one epoch: 0.01587\n",
      "    Avg test reward in one epoch: 0.00000\n",
      "    Total train reward in one epoch: 1.00000\n",
      "    Test reward: 1.00000\n",
      "    Greedy: 0.03171\n",
      "    Buffer: 35236\n"
     ]
    },
    {
     "name": "stderr",
     "output_type": "stream",
     "text": [
      "epoch 472 avg loss:0.0468 train_total_reward:3.000 test_total_reward:1.000 e-greedy:0.03179:   9%|▉         | 89/1000 [00:19<02:53,  5.24it/s]\n"
     ]
    },
    {
     "name": "stdout",
     "output_type": "stream",
     "text": [
      "    /// Result\n",
      "    Average train error: 0.04682\n",
      "    Avg train reward in one epoch: 0.03371\n",
      "    Avg test reward in one epoch: 0.01124\n",
      "    Total train reward in one epoch: 3.00000\n",
      "    Test reward: 3.00000\n",
      "    Greedy: 0.03179\n",
      "    Buffer: 35325\n"
     ]
    },
    {
     "name": "stderr",
     "output_type": "stream",
     "text": [
      "epoch 473 avg loss:0.0426 train_total_reward:2.000 test_total_reward:1.000 e-greedy:0.03186:   7%|▋         | 74/1000 [00:16<02:52,  5.36it/s]\n"
     ]
    },
    {
     "name": "stdout",
     "output_type": "stream",
     "text": [
      "    /// Result\n",
      "    Average train error: 0.04263\n",
      "    Avg train reward in one epoch: 0.02703\n",
      "    Avg test reward in one epoch: 0.01351\n",
      "    Total train reward in one epoch: 2.00000\n",
      "    Test reward: 2.00000\n",
      "    Greedy: 0.03186\n",
      "    Buffer: 35399\n"
     ]
    },
    {
     "name": "stderr",
     "output_type": "stream",
     "text": [
      "epoch 474 avg loss:0.0432 train_total_reward:1.000 test_total_reward:1.000 e-greedy:0.03193:   8%|▊         | 75/1000 [00:15<02:52,  5.37it/s]\n"
     ]
    },
    {
     "name": "stdout",
     "output_type": "stream",
     "text": [
      "    /// Result\n",
      "    Average train error: 0.04325\n",
      "    Avg train reward in one epoch: 0.01333\n",
      "    Avg test reward in one epoch: 0.01333\n",
      "    Total train reward in one epoch: 1.00000\n",
      "    Test reward: 1.00000\n",
      "    Greedy: 0.03193\n",
      "    Buffer: 35474\n"
     ]
    },
    {
     "name": "stderr",
     "output_type": "stream",
     "text": [
      "epoch 475 avg loss:0.0461 train_total_reward:2.000 test_total_reward:0.000 e-greedy:0.03200:   8%|▊         | 82/1000 [00:18<02:57,  5.18it/s]\n"
     ]
    },
    {
     "name": "stdout",
     "output_type": "stream",
     "text": [
      "    /// Result\n",
      "    Average train error: 0.04612\n",
      "    Avg train reward in one epoch: 0.02439\n",
      "    Avg test reward in one epoch: 0.00000\n",
      "    Total train reward in one epoch: 2.00000\n",
      "    Test reward: 2.00000\n",
      "    Greedy: 0.03200\n",
      "    Buffer: 35556\n"
     ]
    },
    {
     "name": "stderr",
     "output_type": "stream",
     "text": [
      "epoch 476 avg loss:0.0454 train_total_reward:3.000 test_total_reward:2.000 e-greedy:0.03208:   9%|▉         | 92/1000 [00:21<02:49,  5.35it/s]\n"
     ]
    },
    {
     "name": "stdout",
     "output_type": "stream",
     "text": [
      "    /// Result\n",
      "    Average train error: 0.04540\n",
      "    Avg train reward in one epoch: 0.03261\n",
      "    Avg test reward in one epoch: 0.02174\n",
      "    Total train reward in one epoch: 3.00000\n",
      "    Test reward: 3.00000\n",
      "    Greedy: 0.03208\n",
      "    Buffer: 35648\n"
     ]
    },
    {
     "name": "stderr",
     "output_type": "stream",
     "text": [
      "epoch 477 avg loss:0.0405 train_total_reward:2.000 test_total_reward:1.000 e-greedy:0.03217:  10%|▉         | 96/1000 [00:23<02:57,  5.08it/s]\n"
     ]
    },
    {
     "name": "stdout",
     "output_type": "stream",
     "text": [
      "    /// Result\n",
      "    Average train error: 0.04052\n",
      "    Avg train reward in one epoch: 0.02083\n",
      "    Avg test reward in one epoch: 0.01042\n",
      "    Total train reward in one epoch: 2.00000\n",
      "    Test reward: 2.00000\n",
      "    Greedy: 0.03217\n",
      "    Buffer: 35744\n"
     ]
    },
    {
     "name": "stderr",
     "output_type": "stream",
     "text": [
      "epoch 478 avg loss:0.0489 train_total_reward:2.000 test_total_reward:2.000 e-greedy:0.03225:   8%|▊         | 84/1000 [00:21<02:49,  5.39it/s]\n"
     ]
    },
    {
     "name": "stdout",
     "output_type": "stream",
     "text": [
      "    /// Result\n",
      "    Average train error: 0.04893\n",
      "    Avg train reward in one epoch: 0.02381\n",
      "    Avg test reward in one epoch: 0.02381\n",
      "    Total train reward in one epoch: 2.00000\n",
      "    Test reward: 2.00000\n",
      "    Greedy: 0.03225\n",
      "    Buffer: 35828\n"
     ]
    },
    {
     "name": "stderr",
     "output_type": "stream",
     "text": [
      "epoch 479 avg loss:0.0458 train_total_reward:1.000 test_total_reward:2.000 e-greedy:0.03231:   7%|▋         | 73/1000 [00:18<02:53,  5.36it/s]\n"
     ]
    },
    {
     "name": "stdout",
     "output_type": "stream",
     "text": [
      "    /// Result\n",
      "    Average train error: 0.04575\n",
      "    Avg train reward in one epoch: 0.01370\n",
      "    Avg test reward in one epoch: 0.02740\n",
      "    Total train reward in one epoch: 1.00000\n",
      "    Test reward: 1.00000\n",
      "    Greedy: 0.03231\n",
      "    Buffer: 35901\n"
     ]
    },
    {
     "name": "stderr",
     "output_type": "stream",
     "text": [
      "epoch 480 avg loss:0.0441 train_total_reward:5.000 test_total_reward:1.000 e-greedy:0.03242:  12%|█▏        | 116/1000 [00:23<02:45,  5.35it/s]\n"
     ]
    },
    {
     "name": "stdout",
     "output_type": "stream",
     "text": [
      "    /// Result\n",
      "    Average train error: 0.04414\n",
      "    Avg train reward in one epoch: 0.04310\n",
      "    Avg test reward in one epoch: 0.00862\n",
      "    Total train reward in one epoch: 5.00000\n",
      "    Test reward: 5.00000\n",
      "    Greedy: 0.03242\n",
      "    Buffer: 36017\n"
     ]
    },
    {
     "name": "stderr",
     "output_type": "stream",
     "text": [
      "epoch 481 avg loss:0.0397 train_total_reward:0.000 test_total_reward:0.000 e-greedy:0.03246:   5%|▌         | 54/1000 [00:13<02:57,  5.34it/s]\n"
     ]
    },
    {
     "name": "stdout",
     "output_type": "stream",
     "text": [
      "    /// Result\n",
      "    Average train error: 0.03965\n",
      "    Avg train reward in one epoch: 0.00000\n",
      "    Avg test reward in one epoch: 0.00000\n",
      "    Total train reward in one epoch: 0.00000\n",
      "    Test reward: 0.00000\n",
      "    Greedy: 0.03246\n",
      "    Buffer: 36071\n"
     ]
    },
    {
     "name": "stderr",
     "output_type": "stream",
     "text": [
      "epoch 482 avg loss:0.0417 train_total_reward:2.000 test_total_reward:0.000 e-greedy:0.03255:   9%|▉         | 91/1000 [00:23<02:51,  5.30it/s]\n"
     ]
    },
    {
     "name": "stdout",
     "output_type": "stream",
     "text": [
      "    /// Result\n",
      "    Average train error: 0.04169\n",
      "    Avg train reward in one epoch: 0.02198\n",
      "    Avg test reward in one epoch: 0.00000\n",
      "    Total train reward in one epoch: 2.00000\n",
      "    Test reward: 2.00000\n",
      "    Greedy: 0.03255\n",
      "    Buffer: 36162\n"
     ]
    },
    {
     "name": "stderr",
     "output_type": "stream",
     "text": [
      "epoch 483 avg loss:0.0493 train_total_reward:0.000 test_total_reward:1.000 e-greedy:0.03259:   5%|▍         | 49/1000 [00:13<02:58,  5.33it/s]\n"
     ]
    },
    {
     "name": "stdout",
     "output_type": "stream",
     "text": [
      "    /// Result\n",
      "    Average train error: 0.04933\n",
      "    Avg train reward in one epoch: 0.00000\n",
      "    Avg test reward in one epoch: 0.02041\n",
      "    Total train reward in one epoch: 0.00000\n",
      "    Test reward: 0.00000\n",
      "    Greedy: 0.03259\n",
      "    Buffer: 36211\n"
     ]
    },
    {
     "name": "stderr",
     "output_type": "stream",
     "text": [
      "epoch 484 avg loss:0.0435 train_total_reward:1.000 test_total_reward:2.000 e-greedy:0.03265:   6%|▋         | 64/1000 [00:17<02:57,  5.26it/s]\n"
     ]
    },
    {
     "name": "stdout",
     "output_type": "stream",
     "text": [
      "    /// Result\n",
      "    Average train error: 0.04353\n",
      "    Avg train reward in one epoch: 0.01562\n",
      "    Avg test reward in one epoch: 0.03125\n",
      "    Total train reward in one epoch: 1.00000\n",
      "    Test reward: 1.00000\n",
      "    Greedy: 0.03265\n",
      "    Buffer: 36275\n"
     ]
    },
    {
     "name": "stderr",
     "output_type": "stream",
     "text": [
      "epoch 485 avg loss:0.0445 train_total_reward:3.000 test_total_reward:0.000 e-greedy:0.03273:   9%|▉         | 89/1000 [00:19<02:53,  5.25it/s]\n"
     ]
    },
    {
     "name": "stdout",
     "output_type": "stream",
     "text": [
      "    /// Result\n",
      "    Average train error: 0.04447\n",
      "    Avg train reward in one epoch: 0.03371\n",
      "    Avg test reward in one epoch: 0.00000\n",
      "    Total train reward in one epoch: 3.00000\n",
      "    Test reward: 3.00000\n",
      "    Greedy: 0.03273\n",
      "    Buffer: 36364\n"
     ]
    },
    {
     "name": "stderr",
     "output_type": "stream",
     "text": [
      "epoch 486 avg loss:0.0425 train_total_reward:3.000 test_total_reward:1.000 e-greedy:0.03280:   8%|▊         | 80/1000 [00:19<02:53,  5.30it/s]\n"
     ]
    },
    {
     "name": "stdout",
     "output_type": "stream",
     "text": [
      "    /// Result\n",
      "    Average train error: 0.04246\n",
      "    Avg train reward in one epoch: 0.03750\n",
      "    Avg test reward in one epoch: 0.01250\n",
      "    Total train reward in one epoch: 3.00000\n",
      "    Test reward: 3.00000\n",
      "    Greedy: 0.03280\n",
      "    Buffer: 36444\n"
     ]
    },
    {
     "name": "stderr",
     "output_type": "stream",
     "text": [
      "epoch 487 avg loss:0.0432 train_total_reward:0.000 test_total_reward:1.000 e-greedy:0.03285:   5%|▌         | 51/1000 [00:11<02:53,  5.48it/s]\n"
     ]
    },
    {
     "name": "stdout",
     "output_type": "stream",
     "text": [
      "    /// Result\n",
      "    Average train error: 0.04324\n",
      "    Avg train reward in one epoch: 0.00000\n",
      "    Avg test reward in one epoch: 0.01961\n",
      "    Total train reward in one epoch: 0.00000\n",
      "    Test reward: 0.00000\n",
      "    Greedy: 0.03285\n",
      "    Buffer: 36495\n"
     ]
    },
    {
     "name": "stderr",
     "output_type": "stream",
     "text": [
      "epoch 488 avg loss:0.0500 train_total_reward:1.000 test_total_reward:0.000 e-greedy:0.03290:   6%|▌         | 56/1000 [00:14<02:57,  5.31it/s]\n"
     ]
    },
    {
     "name": "stdout",
     "output_type": "stream",
     "text": [
      "    /// Result\n",
      "    Average train error: 0.04999\n",
      "    Avg train reward in one epoch: 0.01786\n",
      "    Avg test reward in one epoch: 0.00000\n",
      "    Total train reward in one epoch: 1.00000\n",
      "    Test reward: 1.00000\n",
      "    Greedy: 0.03290\n",
      "    Buffer: 36551\n"
     ]
    },
    {
     "name": "stderr",
     "output_type": "stream",
     "text": [
      "epoch 489 avg loss:0.0457 train_total_reward:0.000 test_total_reward:1.000 e-greedy:0.03294:   5%|▍         | 47/1000 [00:15<03:01,  5.26it/s]\n"
     ]
    },
    {
     "name": "stdout",
     "output_type": "stream",
     "text": [
      "    /// Result\n",
      "    Average train error: 0.04566\n",
      "    Avg train reward in one epoch: 0.00000\n",
      "    Avg test reward in one epoch: 0.02128\n",
      "    Total train reward in one epoch: 0.00000\n",
      "    Test reward: 0.00000\n",
      "    Greedy: 0.03294\n",
      "    Buffer: 36598\n"
     ]
    },
    {
     "name": "stderr",
     "output_type": "stream",
     "text": [
      "epoch 490 avg loss:0.0473 train_total_reward:7.000 test_total_reward:0.000 e-greedy:0.03305:  12%|█▏        | 124/1000 [00:26<02:44,  5.33it/s]\n"
     ]
    },
    {
     "name": "stdout",
     "output_type": "stream",
     "text": [
      "    /// Result\n",
      "    Average train error: 0.04733\n",
      "    Avg train reward in one epoch: 0.05645\n",
      "    Avg test reward in one epoch: 0.00000\n",
      "    Total train reward in one epoch: 7.00000\n",
      "    Test reward: 7.00000\n",
      "    Greedy: 0.03305\n",
      "    Buffer: 36722\n"
     ]
    },
    {
     "name": "stderr",
     "output_type": "stream",
     "text": [
      "epoch 491 avg loss:0.0445 train_total_reward:3.000 test_total_reward:0.000 e-greedy:0.03314:  10%|▉         | 95/1000 [00:20<02:52,  5.25it/s]\n"
     ]
    },
    {
     "name": "stdout",
     "output_type": "stream",
     "text": [
      "    /// Result\n",
      "    Average train error: 0.04447\n",
      "    Avg train reward in one epoch: 0.03158\n",
      "    Avg test reward in one epoch: 0.00000\n",
      "    Total train reward in one epoch: 3.00000\n",
      "    Test reward: 3.00000\n",
      "    Greedy: 0.03314\n",
      "    Buffer: 36817\n"
     ]
    },
    {
     "name": "stderr",
     "output_type": "stream",
     "text": [
      "epoch 492 avg loss:0.0465 train_total_reward:1.000 test_total_reward:0.000 e-greedy:0.03320:   7%|▋         | 67/1000 [00:16<02:54,  5.35it/s]\n"
     ]
    },
    {
     "name": "stdout",
     "output_type": "stream",
     "text": [
      "    /// Result\n",
      "    Average train error: 0.04653\n",
      "    Avg train reward in one epoch: 0.01493\n",
      "    Avg test reward in one epoch: 0.00000\n",
      "    Total train reward in one epoch: 1.00000\n",
      "    Test reward: 1.00000\n",
      "    Greedy: 0.03320\n",
      "    Buffer: 36884\n"
     ]
    },
    {
     "name": "stderr",
     "output_type": "stream",
     "text": [
      "epoch 493 avg loss:0.0425 train_total_reward:2.000 test_total_reward:0.000 e-greedy:0.03326:   7%|▋         | 73/1000 [00:16<02:52,  5.36it/s]\n"
     ]
    },
    {
     "name": "stdout",
     "output_type": "stream",
     "text": [
      "    /// Result\n",
      "    Average train error: 0.04245\n",
      "    Avg train reward in one epoch: 0.02740\n",
      "    Avg test reward in one epoch: 0.00000\n",
      "    Total train reward in one epoch: 2.00000\n",
      "    Test reward: 2.00000\n",
      "    Greedy: 0.03326\n",
      "    Buffer: 36957\n"
     ]
    },
    {
     "name": "stderr",
     "output_type": "stream",
     "text": [
      "epoch 494 avg loss:0.0469 train_total_reward:2.000 test_total_reward:0.000 e-greedy:0.03334:   8%|▊         | 85/1000 [00:18<02:51,  5.35it/s]\n"
     ]
    },
    {
     "name": "stdout",
     "output_type": "stream",
     "text": [
      "    /// Result\n",
      "    Average train error: 0.04687\n",
      "    Avg train reward in one epoch: 0.02353\n",
      "    Avg test reward in one epoch: 0.00000\n",
      "    Total train reward in one epoch: 2.00000\n",
      "    Test reward: 2.00000\n",
      "    Greedy: 0.03334\n",
      "    Buffer: 37042\n"
     ]
    },
    {
     "name": "stderr",
     "output_type": "stream",
     "text": [
      "epoch 495 avg loss:0.0428 train_total_reward:2.000 test_total_reward:2.000 e-greedy:0.03342:   9%|▉         | 92/1000 [00:19<02:52,  5.26it/s]\n"
     ]
    },
    {
     "name": "stdout",
     "output_type": "stream",
     "text": [
      "    /// Result\n",
      "    Average train error: 0.04275\n",
      "    Avg train reward in one epoch: 0.02174\n",
      "    Avg test reward in one epoch: 0.02174\n",
      "    Total train reward in one epoch: 2.00000\n",
      "    Test reward: 2.00000\n",
      "    Greedy: 0.03342\n",
      "    Buffer: 37134\n"
     ]
    },
    {
     "name": "stderr",
     "output_type": "stream",
     "text": [
      "epoch 496 avg loss:0.0474 train_total_reward:1.000 test_total_reward:3.000 e-greedy:0.03349:   7%|▋         | 73/1000 [00:16<02:56,  5.25it/s]\n"
     ]
    },
    {
     "name": "stdout",
     "output_type": "stream",
     "text": [
      "    /// Result\n",
      "    Average train error: 0.04739\n",
      "    Avg train reward in one epoch: 0.01370\n",
      "    Avg test reward in one epoch: 0.04110\n",
      "    Total train reward in one epoch: 1.00000\n",
      "    Test reward: 1.00000\n",
      "    Greedy: 0.03349\n",
      "    Buffer: 37207\n"
     ]
    },
    {
     "name": "stderr",
     "output_type": "stream",
     "text": [
      "epoch 497 avg loss:0.0434 train_total_reward:1.000 test_total_reward:1.000 e-greedy:0.03355:   7%|▋         | 67/1000 [00:15<02:51,  5.45it/s]\n"
     ]
    },
    {
     "name": "stdout",
     "output_type": "stream",
     "text": [
      "    /// Result\n",
      "    Average train error: 0.04341\n",
      "    Avg train reward in one epoch: 0.01493\n",
      "    Avg test reward in one epoch: 0.01493\n",
      "    Total train reward in one epoch: 1.00000\n",
      "    Test reward: 1.00000\n",
      "    Greedy: 0.03355\n",
      "    Buffer: 37274\n"
     ]
    },
    {
     "name": "stderr",
     "output_type": "stream",
     "text": [
      "epoch 498 avg loss:0.0427 train_total_reward:4.000 test_total_reward:3.000 e-greedy:0.03365:  11%|█         | 111/1000 [00:24<02:45,  5.38it/s]\n"
     ]
    },
    {
     "name": "stdout",
     "output_type": "stream",
     "text": [
      "    /// Result\n",
      "    Average train error: 0.04270\n",
      "    Avg train reward in one epoch: 0.03604\n",
      "    Avg test reward in one epoch: 0.02703\n",
      "    Total train reward in one epoch: 4.00000\n",
      "    Test reward: 4.00000\n",
      "    Greedy: 0.03365\n",
      "    Buffer: 37385\n"
     ]
    },
    {
     "name": "stderr",
     "output_type": "stream",
     "text": [
      "epoch 499 avg loss:0.0461 train_total_reward:3.000 test_total_reward:2.000 e-greedy:0.03374:  10%|█         | 102/1000 [00:21<02:46,  5.41it/s]\n"
     ]
    },
    {
     "name": "stdout",
     "output_type": "stream",
     "text": [
      "    /// Result\n",
      "    Average train error: 0.04612\n",
      "    Avg train reward in one epoch: 0.02941\n",
      "    Avg test reward in one epoch: 0.01961\n",
      "    Total train reward in one epoch: 3.00000\n",
      "    Test reward: 3.00000\n",
      "    Greedy: 0.03374\n",
      "    Buffer: 37487\n"
     ]
    },
    {
     "name": "stderr",
     "output_type": "stream",
     "text": [
      "epoch 500 avg loss:0.0442 train_total_reward:1.000 test_total_reward:2.000 e-greedy:0.03379:   6%|▌         | 61/1000 [00:18<02:56,  5.33it/s]\n"
     ]
    },
    {
     "name": "stdout",
     "output_type": "stream",
     "text": [
      "    /// Result\n",
      "    Average train error: 0.04416\n",
      "    Avg train reward in one epoch: 0.01639\n",
      "    Avg test reward in one epoch: 0.03279\n",
      "    Total train reward in one epoch: 1.00000\n",
      "    Test reward: 1.00000\n",
      "    Greedy: 0.03379\n",
      "    Buffer: 37548\n"
     ]
    },
    {
     "name": "stderr",
     "output_type": "stream",
     "text": [
      "epoch 501 avg loss:0.0458 train_total_reward:1.000 test_total_reward:0.000 e-greedy:0.03385:   6%|▌         | 62/1000 [00:16<02:57,  5.29it/s]\n"
     ]
    },
    {
     "name": "stdout",
     "output_type": "stream",
     "text": [
      "    /// Result\n",
      "    Average train error: 0.04582\n",
      "    Avg train reward in one epoch: 0.01613\n",
      "    Avg test reward in one epoch: 0.00000\n",
      "    Total train reward in one epoch: 1.00000\n",
      "    Test reward: 1.00000\n",
      "    Greedy: 0.03385\n",
      "    Buffer: 37610\n"
     ]
    },
    {
     "name": "stderr",
     "output_type": "stream",
     "text": [
      "epoch 502 avg loss:0.0424 train_total_reward:0.000 test_total_reward:1.000 e-greedy:0.03391:   6%|▋         | 63/1000 [00:15<02:57,  5.29it/s]\n"
     ]
    },
    {
     "name": "stdout",
     "output_type": "stream",
     "text": [
      "    /// Result\n",
      "    Average train error: 0.04239\n",
      "    Avg train reward in one epoch: 0.00000\n",
      "    Avg test reward in one epoch: 0.01587\n",
      "    Total train reward in one epoch: 0.00000\n",
      "    Test reward: 0.00000\n",
      "    Greedy: 0.03391\n",
      "    Buffer: 37673\n"
     ]
    },
    {
     "name": "stderr",
     "output_type": "stream",
     "text": [
      "epoch 503 avg loss:0.0445 train_total_reward:2.000 test_total_reward:2.000 e-greedy:0.03398:   8%|▊         | 82/1000 [00:18<02:54,  5.26it/s]\n"
     ]
    },
    {
     "name": "stdout",
     "output_type": "stream",
     "text": [
      "    /// Result\n",
      "    Average train error: 0.04447\n",
      "    Avg train reward in one epoch: 0.02439\n",
      "    Avg test reward in one epoch: 0.02439\n",
      "    Total train reward in one epoch: 2.00000\n",
      "    Test reward: 2.00000\n",
      "    Greedy: 0.03398\n",
      "    Buffer: 37755\n"
     ]
    },
    {
     "name": "stderr",
     "output_type": "stream",
     "text": [
      "epoch 504 avg loss:0.0437 train_total_reward:3.000 test_total_reward:1.000 e-greedy:0.03408:  11%|█         | 112/1000 [00:25<02:46,  5.35it/s]\n"
     ]
    },
    {
     "name": "stdout",
     "output_type": "stream",
     "text": [
      "    /// Result\n",
      "    Average train error: 0.04373\n",
      "    Avg train reward in one epoch: 0.02679\n",
      "    Avg test reward in one epoch: 0.00893\n",
      "    Total train reward in one epoch: 3.00000\n",
      "    Test reward: 3.00000\n",
      "    Greedy: 0.03408\n",
      "    Buffer: 37867\n"
     ]
    },
    {
     "name": "stderr",
     "output_type": "stream",
     "text": [
      "epoch 505 avg loss:0.0447 train_total_reward:0.000 test_total_reward:1.000 e-greedy:0.03413:   5%|▌         | 53/1000 [00:11<02:53,  5.47it/s]\n"
     ]
    },
    {
     "name": "stdout",
     "output_type": "stream",
     "text": [
      "    /// Result\n",
      "    Average train error: 0.04469\n",
      "    Avg train reward in one epoch: 0.00000\n",
      "    Avg test reward in one epoch: 0.01887\n",
      "    Total train reward in one epoch: 0.00000\n",
      "    Test reward: 0.00000\n",
      "    Greedy: 0.03413\n",
      "    Buffer: 37920\n"
     ]
    },
    {
     "name": "stderr",
     "output_type": "stream",
     "text": [
      "epoch 506 avg loss:0.0490 train_total_reward:0.000 test_total_reward:3.000 e-greedy:0.03417:   5%|▍         | 47/1000 [00:11<03:00,  5.27it/s]\n"
     ]
    },
    {
     "name": "stdout",
     "output_type": "stream",
     "text": [
      "    /// Result\n",
      "    Average train error: 0.04899\n",
      "    Avg train reward in one epoch: 0.00000\n",
      "    Avg test reward in one epoch: 0.06383\n",
      "    Total train reward in one epoch: 0.00000\n",
      "    Test reward: 0.00000\n",
      "    Greedy: 0.03417\n",
      "    Buffer: 37967\n"
     ]
    },
    {
     "name": "stderr",
     "output_type": "stream",
     "text": [
      "epoch 507 avg loss:0.0450 train_total_reward:2.000 test_total_reward:0.000 e-greedy:0.03424:   8%|▊         | 82/1000 [00:18<02:50,  5.39it/s]\n"
     ]
    },
    {
     "name": "stdout",
     "output_type": "stream",
     "text": [
      "    /// Result\n",
      "    Average train error: 0.04500\n",
      "    Avg train reward in one epoch: 0.02439\n",
      "    Avg test reward in one epoch: 0.00000\n",
      "    Total train reward in one epoch: 2.00000\n",
      "    Test reward: 2.00000\n",
      "    Greedy: 0.03424\n",
      "    Buffer: 38049\n"
     ]
    },
    {
     "name": "stderr",
     "output_type": "stream",
     "text": [
      "epoch 508 avg loss:0.0431 train_total_reward:0.000 test_total_reward:2.000 e-greedy:0.03429:   5%|▍         | 46/1000 [00:12<02:54,  5.47it/s]\n"
     ]
    },
    {
     "name": "stdout",
     "output_type": "stream",
     "text": [
      "    /// Result\n",
      "    Average train error: 0.04310\n",
      "    Avg train reward in one epoch: 0.00000\n",
      "    Avg test reward in one epoch: 0.04348\n",
      "    Total train reward in one epoch: 0.00000\n",
      "    Test reward: 0.00000\n",
      "    Greedy: 0.03429\n",
      "    Buffer: 38095\n"
     ]
    },
    {
     "name": "stderr",
     "output_type": "stream",
     "text": [
      "epoch 509 avg loss:0.0460 train_total_reward:0.000 test_total_reward:3.000 e-greedy:0.03433:   4%|▍         | 45/1000 [00:11<02:55,  5.43it/s]\n"
     ]
    },
    {
     "name": "stdout",
     "output_type": "stream",
     "text": [
      "    /// Result\n",
      "    Average train error: 0.04599\n",
      "    Avg train reward in one epoch: 0.00000\n",
      "    Avg test reward in one epoch: 0.06667\n",
      "    Total train reward in one epoch: 0.00000\n",
      "    Test reward: 0.00000\n",
      "    Greedy: 0.03433\n",
      "    Buffer: 38140\n"
     ]
    },
    {
     "name": "stderr",
     "output_type": "stream",
     "text": [
      "epoch 510 avg loss:0.0476 train_total_reward:1.000 test_total_reward:1.000 e-greedy:0.03439:   7%|▋         | 73/1000 [00:14<02:55,  5.28it/s]\n"
     ]
    },
    {
     "name": "stdout",
     "output_type": "stream",
     "text": [
      "    /// Result\n",
      "    Average train error: 0.04758\n",
      "    Avg train reward in one epoch: 0.01370\n",
      "    Avg test reward in one epoch: 0.01370\n",
      "    Total train reward in one epoch: 1.00000\n",
      "    Test reward: 1.00000\n",
      "    Greedy: 0.03439\n",
      "    Buffer: 38213\n"
     ]
    },
    {
     "name": "stderr",
     "output_type": "stream",
     "text": [
      "epoch 511 avg loss:0.0393 train_total_reward:1.000 test_total_reward:1.000 e-greedy:0.03446:   8%|▊         | 81/1000 [00:17<02:53,  5.30it/s]\n"
     ]
    },
    {
     "name": "stdout",
     "output_type": "stream",
     "text": [
      "    /// Result\n",
      "    Average train error: 0.03934\n",
      "    Avg train reward in one epoch: 0.01235\n",
      "    Avg test reward in one epoch: 0.01235\n",
      "    Total train reward in one epoch: 1.00000\n",
      "    Test reward: 1.00000\n",
      "    Greedy: 0.03446\n",
      "    Buffer: 38294\n"
     ]
    },
    {
     "name": "stderr",
     "output_type": "stream",
     "text": [
      "epoch 512 avg loss:0.0436 train_total_reward:3.000 test_total_reward:0.000 e-greedy:0.03458:  13%|█▎        | 132/1000 [00:27<02:43,  5.30it/s]\n"
     ]
    },
    {
     "name": "stdout",
     "output_type": "stream",
     "text": [
      "    /// Result\n",
      "    Average train error: 0.04361\n",
      "    Avg train reward in one epoch: 0.02273\n",
      "    Avg test reward in one epoch: 0.00000\n",
      "    Total train reward in one epoch: 3.00000\n",
      "    Test reward: 3.00000\n",
      "    Greedy: 0.03458\n",
      "    Buffer: 38426\n"
     ]
    },
    {
     "name": "stderr",
     "output_type": "stream",
     "text": [
      "epoch 513 avg loss:0.0397 train_total_reward:4.000 test_total_reward:2.000 e-greedy:0.03469:  12%|█▏        | 120/1000 [00:25<02:44,  5.35it/s]\n"
     ]
    },
    {
     "name": "stdout",
     "output_type": "stream",
     "text": [
      "    /// Result\n",
      "    Average train error: 0.03968\n",
      "    Avg train reward in one epoch: 0.03333\n",
      "    Avg test reward in one epoch: 0.01667\n",
      "    Total train reward in one epoch: 4.00000\n",
      "    Test reward: 4.00000\n",
      "    Greedy: 0.03469\n",
      "    Buffer: 38546\n"
     ]
    },
    {
     "name": "stderr",
     "output_type": "stream",
     "text": [
      "epoch 514 avg loss:0.0425 train_total_reward:5.000 test_total_reward:0.000 e-greedy:0.03481:  13%|█▎        | 128/1000 [00:25<02:44,  5.31it/s]\n"
     ]
    },
    {
     "name": "stdout",
     "output_type": "stream",
     "text": [
      "    /// Result\n",
      "    Average train error: 0.04249\n",
      "    Avg train reward in one epoch: 0.03906\n",
      "    Avg test reward in one epoch: 0.00000\n",
      "    Total train reward in one epoch: 5.00000\n",
      "    Test reward: 5.00000\n",
      "    Greedy: 0.03481\n",
      "    Buffer: 38674\n"
     ]
    },
    {
     "name": "stderr",
     "output_type": "stream",
     "text": [
      "epoch 515 avg loss:0.0410 train_total_reward:0.000 test_total_reward:2.000 e-greedy:0.03485:   5%|▌         | 51/1000 [00:12<02:57,  5.35it/s]\n"
     ]
    },
    {
     "name": "stdout",
     "output_type": "stream",
     "text": [
      "    /// Result\n",
      "    Average train error: 0.04099\n",
      "    Avg train reward in one epoch: 0.00000\n",
      "    Avg test reward in one epoch: 0.03922\n",
      "    Total train reward in one epoch: 0.00000\n",
      "    Test reward: 0.00000\n",
      "    Greedy: 0.03485\n",
      "    Buffer: 38725\n"
     ]
    },
    {
     "name": "stderr",
     "output_type": "stream",
     "text": [
      "epoch 516 avg loss:0.0442 train_total_reward:1.000 test_total_reward:2.000 e-greedy:0.03494:  10%|▉         | 97/1000 [00:21<02:44,  5.48it/s]\n"
     ]
    },
    {
     "name": "stdout",
     "output_type": "stream",
     "text": [
      "    /// Result\n",
      "    Average train error: 0.04416\n",
      "    Avg train reward in one epoch: 0.01031\n",
      "    Avg test reward in one epoch: 0.02062\n",
      "    Total train reward in one epoch: 1.00000\n",
      "    Test reward: 1.00000\n",
      "    Greedy: 0.03494\n",
      "    Buffer: 38822\n"
     ]
    },
    {
     "name": "stderr",
     "output_type": "stream",
     "text": [
      "epoch 517 avg loss:0.0521 train_total_reward:0.000 test_total_reward:0.000 e-greedy:0.03498:   4%|▍         | 45/1000 [00:11<02:57,  5.39it/s]\n"
     ]
    },
    {
     "name": "stdout",
     "output_type": "stream",
     "text": [
      "    /// Result\n",
      "    Average train error: 0.05213\n",
      "    Avg train reward in one epoch: 0.00000\n",
      "    Avg test reward in one epoch: 0.00000\n",
      "    Total train reward in one epoch: 0.00000\n",
      "    Test reward: 0.00000\n",
      "    Greedy: 0.03498\n",
      "    Buffer: 38867\n"
     ]
    },
    {
     "name": "stderr",
     "output_type": "stream",
     "text": [
      "epoch 518 avg loss:0.0445 train_total_reward:0.000 test_total_reward:1.000 e-greedy:0.03503:   5%|▌         | 52/1000 [00:17<03:01,  5.22it/s]\n"
     ]
    },
    {
     "name": "stdout",
     "output_type": "stream",
     "text": [
      "    /// Result\n",
      "    Average train error: 0.04452\n",
      "    Avg train reward in one epoch: 0.00000\n",
      "    Avg test reward in one epoch: 0.01923\n",
      "    Total train reward in one epoch: 0.00000\n",
      "    Test reward: 0.00000\n",
      "    Greedy: 0.03503\n",
      "    Buffer: 38919\n"
     ]
    },
    {
     "name": "stderr",
     "output_type": "stream",
     "text": [
      "epoch 519 avg loss:0.0430 train_total_reward:2.000 test_total_reward:1.000 e-greedy:0.03509:   7%|▋         | 69/1000 [00:18<02:54,  5.35it/s]\n"
     ]
    },
    {
     "name": "stdout",
     "output_type": "stream",
     "text": [
      "    /// Result\n",
      "    Average train error: 0.04299\n",
      "    Avg train reward in one epoch: 0.02899\n",
      "    Avg test reward in one epoch: 0.01449\n",
      "    Total train reward in one epoch: 2.00000\n",
      "    Test reward: 2.00000\n",
      "    Greedy: 0.03509\n",
      "    Buffer: 38988\n"
     ]
    },
    {
     "name": "stderr",
     "output_type": "stream",
     "text": [
      "epoch 520 avg loss:0.0442 train_total_reward:0.000 test_total_reward:2.000 e-greedy:0.03514:   6%|▌         | 55/1000 [00:15<03:00,  5.24it/s]\n"
     ]
    },
    {
     "name": "stdout",
     "output_type": "stream",
     "text": [
      "    /// Result\n",
      "    Average train error: 0.04417\n",
      "    Avg train reward in one epoch: 0.00000\n",
      "    Avg test reward in one epoch: 0.03636\n",
      "    Total train reward in one epoch: 0.00000\n",
      "    Test reward: 0.00000\n",
      "    Greedy: 0.03514\n",
      "    Buffer: 39043\n"
     ]
    },
    {
     "name": "stderr",
     "output_type": "stream",
     "text": [
      "epoch 521 avg loss:0.0408 train_total_reward:0.000 test_total_reward:2.000 e-greedy:0.03519:   6%|▌         | 60/1000 [00:13<02:55,  5.36it/s]\n"
     ]
    },
    {
     "name": "stdout",
     "output_type": "stream",
     "text": [
      "    /// Result\n",
      "    Average train error: 0.04082\n",
      "    Avg train reward in one epoch: 0.00000\n",
      "    Avg test reward in one epoch: 0.03333\n",
      "    Total train reward in one epoch: 0.00000\n",
      "    Test reward: 0.00000\n",
      "    Greedy: 0.03519\n",
      "    Buffer: 39103\n"
     ]
    },
    {
     "name": "stderr",
     "output_type": "stream",
     "text": [
      "epoch 522 avg loss:0.0442 train_total_reward:3.000 test_total_reward:1.000 e-greedy:0.03527:   9%|▉         | 88/1000 [00:18<02:49,  5.37it/s]\n"
     ]
    },
    {
     "name": "stdout",
     "output_type": "stream",
     "text": [
      "    /// Result\n",
      "    Average train error: 0.04421\n",
      "    Avg train reward in one epoch: 0.03409\n",
      "    Avg test reward in one epoch: 0.01136\n",
      "    Total train reward in one epoch: 3.00000\n",
      "    Test reward: 3.00000\n",
      "    Greedy: 0.03527\n",
      "    Buffer: 39191\n"
     ]
    },
    {
     "name": "stderr",
     "output_type": "stream",
     "text": [
      "epoch 523 avg loss:0.0460 train_total_reward:1.000 test_total_reward:1.000 e-greedy:0.03533:   7%|▋         | 68/1000 [00:16<02:53,  5.36it/s]\n"
     ]
    },
    {
     "name": "stdout",
     "output_type": "stream",
     "text": [
      "    /// Result\n",
      "    Average train error: 0.04602\n",
      "    Avg train reward in one epoch: 0.01471\n",
      "    Avg test reward in one epoch: 0.01471\n",
      "    Total train reward in one epoch: 1.00000\n",
      "    Test reward: 1.00000\n",
      "    Greedy: 0.03533\n",
      "    Buffer: 39259\n"
     ]
    },
    {
     "name": "stderr",
     "output_type": "stream",
     "text": [
      "epoch 524 avg loss:0.0409 train_total_reward:2.000 test_total_reward:2.000 e-greedy:0.03542:   9%|▉         | 92/1000 [00:20<02:51,  5.29it/s]\n"
     ]
    },
    {
     "name": "stdout",
     "output_type": "stream",
     "text": [
      "    /// Result\n",
      "    Average train error: 0.04089\n",
      "    Avg train reward in one epoch: 0.02174\n",
      "    Avg test reward in one epoch: 0.02174\n",
      "    Total train reward in one epoch: 2.00000\n",
      "    Test reward: 2.00000\n",
      "    Greedy: 0.03542\n",
      "    Buffer: 39351\n"
     ]
    },
    {
     "name": "stderr",
     "output_type": "stream",
     "text": [
      "epoch 525 avg loss:0.0394 train_total_reward:1.000 test_total_reward:1.000 e-greedy:0.03547:   6%|▋         | 63/1000 [00:16<02:49,  5.53it/s]\n"
     ]
    },
    {
     "name": "stdout",
     "output_type": "stream",
     "text": [
      "    /// Result\n",
      "    Average train error: 0.03937\n",
      "    Avg train reward in one epoch: 0.01587\n",
      "    Avg test reward in one epoch: 0.01587\n",
      "    Total train reward in one epoch: 1.00000\n",
      "    Test reward: 1.00000\n",
      "    Greedy: 0.03547\n",
      "    Buffer: 39414\n"
     ]
    },
    {
     "name": "stderr",
     "output_type": "stream",
     "text": [
      "epoch 526 avg loss:0.0436 train_total_reward:0.000 test_total_reward:2.000 e-greedy:0.03552:   5%|▌         | 52/1000 [00:17<02:59,  5.28it/s]\n"
     ]
    },
    {
     "name": "stdout",
     "output_type": "stream",
     "text": [
      "    /// Result\n",
      "    Average train error: 0.04362\n",
      "    Avg train reward in one epoch: 0.00000\n",
      "    Avg test reward in one epoch: 0.03846\n",
      "    Total train reward in one epoch: 0.00000\n",
      "    Test reward: 0.00000\n",
      "    Greedy: 0.03552\n",
      "    Buffer: 39466\n"
     ]
    },
    {
     "name": "stderr",
     "output_type": "stream",
     "text": [
      "epoch 527 avg loss:0.0461 train_total_reward:1.000 test_total_reward:1.000 e-greedy:0.03560:   9%|▉         | 90/1000 [00:23<02:47,  5.42it/s]\n"
     ]
    },
    {
     "name": "stdout",
     "output_type": "stream",
     "text": [
      "    /// Result\n",
      "    Average train error: 0.04614\n",
      "    Avg train reward in one epoch: 0.01111\n",
      "    Avg test reward in one epoch: 0.01111\n",
      "    Total train reward in one epoch: 1.00000\n",
      "    Test reward: 1.00000\n",
      "    Greedy: 0.03560\n",
      "    Buffer: 39556\n"
     ]
    },
    {
     "name": "stderr",
     "output_type": "stream",
     "text": [
      "epoch 528 avg loss:0.0490 train_total_reward:0.000 test_total_reward:0.000 e-greedy:0.03566:   6%|▌         | 61/1000 [00:14<02:56,  5.33it/s]\n"
     ]
    },
    {
     "name": "stdout",
     "output_type": "stream",
     "text": [
      "    /// Result\n",
      "    Average train error: 0.04901\n",
      "    Avg train reward in one epoch: 0.00000\n",
      "    Avg test reward in one epoch: 0.00000\n",
      "    Total train reward in one epoch: 0.00000\n",
      "    Test reward: 0.00000\n",
      "    Greedy: 0.03566\n",
      "    Buffer: 39617\n"
     ]
    },
    {
     "name": "stderr",
     "output_type": "stream",
     "text": [
      "epoch 529 avg loss:0.0432 train_total_reward:3.000 test_total_reward:2.000 e-greedy:0.03574:   9%|▉         | 89/1000 [00:18<02:49,  5.38it/s]\n"
     ]
    },
    {
     "name": "stdout",
     "output_type": "stream",
     "text": [
      "    /// Result\n",
      "    Average train error: 0.04325\n",
      "    Avg train reward in one epoch: 0.03371\n",
      "    Avg test reward in one epoch: 0.02247\n",
      "    Total train reward in one epoch: 3.00000\n",
      "    Test reward: 3.00000\n",
      "    Greedy: 0.03574\n",
      "    Buffer: 39706\n"
     ]
    },
    {
     "name": "stderr",
     "output_type": "stream",
     "text": [
      "epoch 530 avg loss:0.0462 train_total_reward:1.000 test_total_reward:1.000 e-greedy:0.03579:   6%|▋         | 64/1000 [00:14<02:53,  5.40it/s]\n"
     ]
    },
    {
     "name": "stdout",
     "output_type": "stream",
     "text": [
      "    /// Result\n",
      "    Average train error: 0.04623\n",
      "    Avg train reward in one epoch: 0.01562\n",
      "    Avg test reward in one epoch: 0.01562\n",
      "    Total train reward in one epoch: 1.00000\n",
      "    Test reward: 1.00000\n",
      "    Greedy: 0.03579\n",
      "    Buffer: 39770\n"
     ]
    },
    {
     "name": "stderr",
     "output_type": "stream",
     "text": [
      "epoch 531 avg loss:0.0451 train_total_reward:0.000 test_total_reward:3.000 e-greedy:0.03583:   4%|▍         | 44/1000 [00:13<02:58,  5.36it/s]\n"
     ]
    },
    {
     "name": "stdout",
     "output_type": "stream",
     "text": [
      "    /// Result\n",
      "    Average train error: 0.04512\n",
      "    Avg train reward in one epoch: 0.00000\n",
      "    Avg test reward in one epoch: 0.06818\n",
      "    Total train reward in one epoch: 0.00000\n",
      "    Test reward: 0.00000\n",
      "    Greedy: 0.03583\n",
      "    Buffer: 39814\n"
     ]
    },
    {
     "name": "stderr",
     "output_type": "stream",
     "text": [
      "epoch 532 avg loss:0.0410 train_total_reward:1.000 test_total_reward:2.000 e-greedy:0.03590:   7%|▋         | 73/1000 [00:15<02:49,  5.48it/s]\n"
     ]
    },
    {
     "name": "stdout",
     "output_type": "stream",
     "text": [
      "    /// Result\n",
      "    Average train error: 0.04099\n",
      "    Avg train reward in one epoch: 0.01370\n",
      "    Avg test reward in one epoch: 0.02740\n",
      "    Total train reward in one epoch: 1.00000\n",
      "    Test reward: 1.00000\n",
      "    Greedy: 0.03590\n",
      "    Buffer: 39887\n"
     ]
    },
    {
     "name": "stderr",
     "output_type": "stream",
     "text": [
      "epoch 533 avg loss:0.0479 train_total_reward:5.000 test_total_reward:2.000 e-greedy:0.03602:  13%|█▎        | 131/1000 [00:27<02:45,  5.24it/s]\n"
     ]
    },
    {
     "name": "stdout",
     "output_type": "stream",
     "text": [
      "    /// Result\n",
      "    Average train error: 0.04793\n",
      "    Avg train reward in one epoch: 0.03817\n",
      "    Avg test reward in one epoch: 0.01527\n",
      "    Total train reward in one epoch: 5.00000\n",
      "    Test reward: 5.00000\n",
      "    Greedy: 0.03602\n",
      "    Buffer: 40018\n"
     ]
    },
    {
     "name": "stderr",
     "output_type": "stream",
     "text": [
      "epoch 534 avg loss:0.0389 train_total_reward:0.000 test_total_reward:2.000 e-greedy:0.03607:   6%|▌         | 60/1000 [00:13<02:51,  5.48it/s]\n"
     ]
    },
    {
     "name": "stdout",
     "output_type": "stream",
     "text": [
      "    /// Result\n",
      "    Average train error: 0.03895\n",
      "    Avg train reward in one epoch: 0.00000\n",
      "    Avg test reward in one epoch: 0.03333\n",
      "    Total train reward in one epoch: 0.00000\n",
      "    Test reward: 0.00000\n",
      "    Greedy: 0.03607\n",
      "    Buffer: 40078\n"
     ]
    },
    {
     "name": "stderr",
     "output_type": "stream",
     "text": [
      "epoch 535 avg loss:0.0323 train_total_reward:1.000 test_total_reward:1.000 e-greedy:0.03613:   7%|▋         | 69/1000 [00:17<02:53,  5.36it/s]\n"
     ]
    },
    {
     "name": "stdout",
     "output_type": "stream",
     "text": [
      "    /// Result\n",
      "    Average train error: 0.03227\n",
      "    Avg train reward in one epoch: 0.01449\n",
      "    Avg test reward in one epoch: 0.01449\n",
      "    Total train reward in one epoch: 1.00000\n",
      "    Test reward: 1.00000\n",
      "    Greedy: 0.03613\n",
      "    Buffer: 40147\n"
     ]
    },
    {
     "name": "stderr",
     "output_type": "stream",
     "text": [
      "epoch 536 avg loss:0.0340 train_total_reward:2.000 test_total_reward:1.000 e-greedy:0.03621:   8%|▊         | 84/1000 [00:19<02:52,  5.31it/s]\n"
     ]
    },
    {
     "name": "stdout",
     "output_type": "stream",
     "text": [
      "    /// Result\n",
      "    Average train error: 0.03400\n",
      "    Avg train reward in one epoch: 0.02381\n",
      "    Avg test reward in one epoch: 0.01190\n",
      "    Total train reward in one epoch: 2.00000\n",
      "    Test reward: 2.00000\n",
      "    Greedy: 0.03621\n",
      "    Buffer: 40231\n"
     ]
    },
    {
     "name": "stderr",
     "output_type": "stream",
     "text": [
      "epoch 537 avg loss:0.0342 train_total_reward:2.000 test_total_reward:2.000 e-greedy:0.03629:   9%|▉         | 92/1000 [00:21<02:50,  5.32it/s]\n"
     ]
    },
    {
     "name": "stdout",
     "output_type": "stream",
     "text": [
      "    /// Result\n",
      "    Average train error: 0.03418\n",
      "    Avg train reward in one epoch: 0.02174\n",
      "    Avg test reward in one epoch: 0.02174\n",
      "    Total train reward in one epoch: 2.00000\n",
      "    Test reward: 2.00000\n",
      "    Greedy: 0.03629\n",
      "    Buffer: 40323\n"
     ]
    },
    {
     "name": "stderr",
     "output_type": "stream",
     "text": [
      "epoch 538 avg loss:0.0343 train_total_reward:1.000 test_total_reward:2.000 e-greedy:0.03635:   7%|▋         | 69/1000 [00:14<02:51,  5.43it/s]\n"
     ]
    },
    {
     "name": "stdout",
     "output_type": "stream",
     "text": [
      "    /// Result\n",
      "    Average train error: 0.03435\n",
      "    Avg train reward in one epoch: 0.01449\n",
      "    Avg test reward in one epoch: 0.02899\n",
      "    Total train reward in one epoch: 1.00000\n",
      "    Test reward: 1.00000\n",
      "    Greedy: 0.03635\n",
      "    Buffer: 40392\n"
     ]
    },
    {
     "name": "stderr",
     "output_type": "stream",
     "text": [
      "epoch 539 avg loss:0.0376 train_total_reward:1.000 test_total_reward:1.000 e-greedy:0.03641:   6%|▋         | 63/1000 [00:13<02:54,  5.38it/s]\n"
     ]
    },
    {
     "name": "stdout",
     "output_type": "stream",
     "text": [
      "    /// Result\n",
      "    Average train error: 0.03764\n",
      "    Avg train reward in one epoch: 0.01587\n",
      "    Avg test reward in one epoch: 0.01587\n",
      "    Total train reward in one epoch: 1.00000\n",
      "    Test reward: 1.00000\n",
      "    Greedy: 0.03641\n",
      "    Buffer: 40455\n"
     ]
    },
    {
     "name": "stderr",
     "output_type": "stream",
     "text": [
      "epoch 540 avg loss:0.0389 train_total_reward:0.000 test_total_reward:0.000 e-greedy:0.03647:   6%|▋         | 63/1000 [00:18<02:54,  5.36it/s]\n"
     ]
    },
    {
     "name": "stdout",
     "output_type": "stream",
     "text": [
      "    /// Result\n",
      "    Average train error: 0.03892\n",
      "    Avg train reward in one epoch: 0.00000\n",
      "    Avg test reward in one epoch: 0.00000\n",
      "    Total train reward in one epoch: 0.00000\n",
      "    Test reward: 0.00000\n",
      "    Greedy: 0.03647\n",
      "    Buffer: 40518\n"
     ]
    },
    {
     "name": "stderr",
     "output_type": "stream",
     "text": [
      "epoch 541 avg loss:0.0327 train_total_reward:2.000 test_total_reward:1.000 e-greedy:0.03654:   8%|▊         | 77/1000 [00:16<02:55,  5.26it/s]\n"
     ]
    },
    {
     "name": "stdout",
     "output_type": "stream",
     "text": [
      "    /// Result\n",
      "    Average train error: 0.03267\n",
      "    Avg train reward in one epoch: 0.02597\n",
      "    Avg test reward in one epoch: 0.01299\n",
      "    Total train reward in one epoch: 2.00000\n",
      "    Test reward: 2.00000\n",
      "    Greedy: 0.03654\n",
      "    Buffer: 40595\n"
     ]
    },
    {
     "name": "stderr",
     "output_type": "stream",
     "text": [
      "epoch 542 avg loss:0.0363 train_total_reward:4.000 test_total_reward:1.000 e-greedy:0.03664:  12%|█▏        | 120/1000 [00:24<02:45,  5.30it/s]\n"
     ]
    },
    {
     "name": "stdout",
     "output_type": "stream",
     "text": [
      "    /// Result\n",
      "    Average train error: 0.03631\n",
      "    Avg train reward in one epoch: 0.03333\n",
      "    Avg test reward in one epoch: 0.00833\n",
      "    Total train reward in one epoch: 4.00000\n",
      "    Test reward: 4.00000\n",
      "    Greedy: 0.03664\n",
      "    Buffer: 40715\n"
     ]
    },
    {
     "name": "stderr",
     "output_type": "stream",
     "text": [
      "epoch 543 avg loss:0.0354 train_total_reward:3.000 test_total_reward:1.000 e-greedy:0.03675:  12%|█▏        | 120/1000 [00:25<02:44,  5.34it/s]\n"
     ]
    },
    {
     "name": "stdout",
     "output_type": "stream",
     "text": [
      "    /// Result\n",
      "    Average train error: 0.03538\n",
      "    Avg train reward in one epoch: 0.02500\n",
      "    Avg test reward in one epoch: 0.00833\n",
      "    Total train reward in one epoch: 3.00000\n",
      "    Test reward: 3.00000\n",
      "    Greedy: 0.03675\n",
      "    Buffer: 40835\n"
     ]
    },
    {
     "name": "stderr",
     "output_type": "stream",
     "text": [
      "epoch 544 avg loss:0.0386 train_total_reward:1.000 test_total_reward:5.000 e-greedy:0.03682:   8%|▊         | 75/1000 [00:20<02:52,  5.35it/s]\n"
     ]
    },
    {
     "name": "stdout",
     "output_type": "stream",
     "text": [
      "    /// Result\n",
      "    Average train error: 0.03857\n",
      "    Avg train reward in one epoch: 0.01333\n",
      "    Avg test reward in one epoch: 0.06667\n",
      "    Total train reward in one epoch: 1.00000\n",
      "    Test reward: 1.00000\n",
      "    Greedy: 0.03682\n",
      "    Buffer: 40910\n"
     ]
    },
    {
     "name": "stderr",
     "output_type": "stream",
     "text": [
      "epoch 545 avg loss:0.0352 train_total_reward:3.000 test_total_reward:0.000 e-greedy:0.03690:   9%|▉         | 92/1000 [00:23<02:50,  5.34it/s]\n"
     ]
    },
    {
     "name": "stdout",
     "output_type": "stream",
     "text": [
      "    /// Result\n",
      "    Average train error: 0.03522\n",
      "    Avg train reward in one epoch: 0.03261\n",
      "    Avg test reward in one epoch: 0.00000\n",
      "    Total train reward in one epoch: 3.00000\n",
      "    Test reward: 3.00000\n",
      "    Greedy: 0.03690\n",
      "    Buffer: 41002\n"
     ]
    },
    {
     "name": "stderr",
     "output_type": "stream",
     "text": [
      "epoch 546 avg loss:0.0365 train_total_reward:2.000 test_total_reward:2.000 e-greedy:0.03697:   7%|▋         | 74/1000 [00:17<02:54,  5.31it/s]\n"
     ]
    },
    {
     "name": "stdout",
     "output_type": "stream",
     "text": [
      "    /// Result\n",
      "    Average train error: 0.03653\n",
      "    Avg train reward in one epoch: 0.02703\n",
      "    Avg test reward in one epoch: 0.02703\n",
      "    Total train reward in one epoch: 2.00000\n",
      "    Test reward: 2.00000\n",
      "    Greedy: 0.03697\n",
      "    Buffer: 41076\n"
     ]
    },
    {
     "name": "stderr",
     "output_type": "stream",
     "text": [
      "epoch 547 avg loss:0.0363 train_total_reward:3.000 test_total_reward:1.000 e-greedy:0.03706:  10%|█         | 101/1000 [00:22<02:52,  5.22it/s]\n"
     ]
    },
    {
     "name": "stdout",
     "output_type": "stream",
     "text": [
      "    /// Result\n",
      "    Average train error: 0.03629\n",
      "    Avg train reward in one epoch: 0.02970\n",
      "    Avg test reward in one epoch: 0.00990\n",
      "    Total train reward in one epoch: 3.00000\n",
      "    Test reward: 3.00000\n",
      "    Greedy: 0.03706\n",
      "    Buffer: 41177\n"
     ]
    },
    {
     "name": "stderr",
     "output_type": "stream",
     "text": [
      "epoch 548 avg loss:0.0378 train_total_reward:0.000 test_total_reward:3.000 e-greedy:0.03710:   5%|▍         | 48/1000 [00:12<02:56,  5.39it/s]\n"
     ]
    },
    {
     "name": "stdout",
     "output_type": "stream",
     "text": [
      "    /// Result\n",
      "    Average train error: 0.03778\n",
      "    Avg train reward in one epoch: 0.00000\n",
      "    Avg test reward in one epoch: 0.06250\n",
      "    Total train reward in one epoch: 0.00000\n",
      "    Test reward: 0.00000\n",
      "    Greedy: 0.03710\n",
      "    Buffer: 41225\n"
     ]
    },
    {
     "name": "stderr",
     "output_type": "stream",
     "text": [
      "epoch 549 avg loss:0.0382 train_total_reward:1.000 test_total_reward:1.000 e-greedy:0.03716:   6%|▌         | 61/1000 [00:15<02:56,  5.31it/s]\n"
     ]
    },
    {
     "name": "stdout",
     "output_type": "stream",
     "text": [
      "    /// Result\n",
      "    Average train error: 0.03820\n",
      "    Avg train reward in one epoch: 0.01639\n",
      "    Avg test reward in one epoch: 0.01639\n",
      "    Total train reward in one epoch: 1.00000\n",
      "    Test reward: 1.00000\n",
      "    Greedy: 0.03716\n",
      "    Buffer: 41286\n"
     ]
    },
    {
     "name": "stderr",
     "output_type": "stream",
     "text": [
      "epoch 550 avg loss:0.0339 train_total_reward:0.000 test_total_reward:1.000 e-greedy:0.03720:   5%|▌         | 51/1000 [00:11<02:53,  5.46it/s]\n"
     ]
    },
    {
     "name": "stdout",
     "output_type": "stream",
     "text": [
      "    /// Result\n",
      "    Average train error: 0.03392\n",
      "    Avg train reward in one epoch: 0.00000\n",
      "    Avg test reward in one epoch: 0.01961\n",
      "    Total train reward in one epoch: 0.00000\n",
      "    Test reward: 0.00000\n",
      "    Greedy: 0.03720\n",
      "    Buffer: 41337\n"
     ]
    },
    {
     "name": "stderr",
     "output_type": "stream",
     "text": [
      "epoch 551 avg loss:0.0361 train_total_reward:0.000 test_total_reward:2.000 e-greedy:0.03724:   4%|▍         | 45/1000 [00:13<02:55,  5.43it/s]\n"
     ]
    },
    {
     "name": "stdout",
     "output_type": "stream",
     "text": [
      "    /// Result\n",
      "    Average train error: 0.03614\n",
      "    Avg train reward in one epoch: 0.00000\n",
      "    Avg test reward in one epoch: 0.04444\n",
      "    Total train reward in one epoch: 0.00000\n",
      "    Test reward: 0.00000\n",
      "    Greedy: 0.03724\n",
      "    Buffer: 41382\n"
     ]
    },
    {
     "name": "stderr",
     "output_type": "stream",
     "text": [
      "epoch 552 avg loss:0.0343 train_total_reward:1.000 test_total_reward:0.000 e-greedy:0.03730:   6%|▋         | 65/1000 [00:16<02:52,  5.41it/s]\n"
     ]
    },
    {
     "name": "stdout",
     "output_type": "stream",
     "text": [
      "    /// Result\n",
      "    Average train error: 0.03427\n",
      "    Avg train reward in one epoch: 0.01538\n",
      "    Avg test reward in one epoch: 0.00000\n",
      "    Total train reward in one epoch: 1.00000\n",
      "    Test reward: 1.00000\n",
      "    Greedy: 0.03730\n",
      "    Buffer: 41447\n"
     ]
    },
    {
     "name": "stderr",
     "output_type": "stream",
     "text": [
      "epoch 553 avg loss:0.0342 train_total_reward:1.000 test_total_reward:0.000 e-greedy:0.03736:   6%|▌         | 61/1000 [00:14<02:56,  5.31it/s]\n"
     ]
    },
    {
     "name": "stdout",
     "output_type": "stream",
     "text": [
      "    /// Result\n",
      "    Average train error: 0.03424\n",
      "    Avg train reward in one epoch: 0.01639\n",
      "    Avg test reward in one epoch: 0.00000\n",
      "    Total train reward in one epoch: 1.00000\n",
      "    Test reward: 1.00000\n",
      "    Greedy: 0.03736\n",
      "    Buffer: 41508\n"
     ]
    },
    {
     "name": "stderr",
     "output_type": "stream",
     "text": [
      "epoch 554 avg loss:0.0365 train_total_reward:1.000 test_total_reward:1.000 e-greedy:0.03742:   7%|▋         | 68/1000 [00:18<02:54,  5.34it/s]\n"
     ]
    },
    {
     "name": "stdout",
     "output_type": "stream",
     "text": [
      "    /// Result\n",
      "    Average train error: 0.03653\n",
      "    Avg train reward in one epoch: 0.01471\n",
      "    Avg test reward in one epoch: 0.01471\n",
      "    Total train reward in one epoch: 1.00000\n",
      "    Test reward: 1.00000\n",
      "    Greedy: 0.03742\n",
      "    Buffer: 41576\n"
     ]
    },
    {
     "name": "stderr",
     "output_type": "stream",
     "text": [
      "epoch 555 avg loss:0.0350 train_total_reward:2.000 test_total_reward:1.000 e-greedy:0.03750:   9%|▊         | 87/1000 [00:19<02:50,  5.37it/s]\n"
     ]
    },
    {
     "name": "stdout",
     "output_type": "stream",
     "text": [
      "    /// Result\n",
      "    Average train error: 0.03504\n",
      "    Avg train reward in one epoch: 0.02299\n",
      "    Avg test reward in one epoch: 0.01149\n",
      "    Total train reward in one epoch: 2.00000\n",
      "    Test reward: 2.00000\n",
      "    Greedy: 0.03750\n",
      "    Buffer: 41663\n"
     ]
    },
    {
     "name": "stderr",
     "output_type": "stream",
     "text": [
      "epoch 556 avg loss:0.0331 train_total_reward:0.000 test_total_reward:2.000 e-greedy:0.03754:   4%|▍         | 45/1000 [00:09<02:57,  5.39it/s]\n"
     ]
    },
    {
     "name": "stdout",
     "output_type": "stream",
     "text": [
      "    /// Result\n",
      "    Average train error: 0.03315\n",
      "    Avg train reward in one epoch: 0.00000\n",
      "    Avg test reward in one epoch: 0.04444\n",
      "    Total train reward in one epoch: 0.00000\n",
      "    Test reward: 0.00000\n",
      "    Greedy: 0.03754\n",
      "    Buffer: 41708\n"
     ]
    },
    {
     "name": "stderr",
     "output_type": "stream",
     "text": [
      "epoch 557 avg loss:0.0401 train_total_reward:1.000 test_total_reward:1.000 e-greedy:0.03760:   7%|▋         | 73/1000 [00:17<02:56,  5.26it/s]\n"
     ]
    },
    {
     "name": "stdout",
     "output_type": "stream",
     "text": [
      "    /// Result\n",
      "    Average train error: 0.04007\n",
      "    Avg train reward in one epoch: 0.01370\n",
      "    Avg test reward in one epoch: 0.01370\n",
      "    Total train reward in one epoch: 1.00000\n",
      "    Test reward: 1.00000\n",
      "    Greedy: 0.03760\n",
      "    Buffer: 41781\n"
     ]
    },
    {
     "name": "stderr",
     "output_type": "stream",
     "text": [
      "epoch 558 avg loss:0.0381 train_total_reward:0.000 test_total_reward:0.000 e-greedy:0.03765:   5%|▍         | 49/1000 [00:12<02:52,  5.51it/s]\n"
     ]
    },
    {
     "name": "stdout",
     "output_type": "stream",
     "text": [
      "    /// Result\n",
      "    Average train error: 0.03815\n",
      "    Avg train reward in one epoch: 0.00000\n",
      "    Avg test reward in one epoch: 0.00000\n",
      "    Total train reward in one epoch: 0.00000\n",
      "    Test reward: 0.00000\n",
      "    Greedy: 0.03765\n",
      "    Buffer: 41830\n"
     ]
    },
    {
     "name": "stderr",
     "output_type": "stream",
     "text": [
      "epoch 559 avg loss:0.0320 train_total_reward:0.000 test_total_reward:0.000 e-greedy:0.03769:   5%|▌         | 50/1000 [00:11<02:57,  5.36it/s]\n"
     ]
    },
    {
     "name": "stdout",
     "output_type": "stream",
     "text": [
      "    /// Result\n",
      "    Average train error: 0.03195\n",
      "    Avg train reward in one epoch: 0.00000\n",
      "    Avg test reward in one epoch: 0.00000\n",
      "    Total train reward in one epoch: 0.00000\n",
      "    Test reward: 0.00000\n",
      "    Greedy: 0.03769\n",
      "    Buffer: 41880\n"
     ]
    },
    {
     "name": "stderr",
     "output_type": "stream",
     "text": [
      "epoch 560 avg loss:0.0330 train_total_reward:0.000 test_total_reward:1.000 e-greedy:0.03773:   5%|▍         | 47/1000 [00:13<02:59,  5.32it/s]\n"
     ]
    },
    {
     "name": "stdout",
     "output_type": "stream",
     "text": [
      "    /// Result\n",
      "    Average train error: 0.03295\n",
      "    Avg train reward in one epoch: 0.00000\n",
      "    Avg test reward in one epoch: 0.02128\n",
      "    Total train reward in one epoch: 0.00000\n",
      "    Test reward: 0.00000\n",
      "    Greedy: 0.03773\n",
      "    Buffer: 41927\n"
     ]
    },
    {
     "name": "stderr",
     "output_type": "stream",
     "text": [
      "epoch 561 avg loss:0.0329 train_total_reward:2.000 test_total_reward:1.000 e-greedy:0.03780:   7%|▋         | 74/1000 [00:20<02:58,  5.19it/s]\n"
     ]
    },
    {
     "name": "stdout",
     "output_type": "stream",
     "text": [
      "    /// Result\n",
      "    Average train error: 0.03289\n",
      "    Avg train reward in one epoch: 0.02703\n",
      "    Avg test reward in one epoch: 0.01351\n",
      "    Total train reward in one epoch: 2.00000\n",
      "    Test reward: 2.00000\n",
      "    Greedy: 0.03780\n",
      "    Buffer: 42001\n"
     ]
    },
    {
     "name": "stderr",
     "output_type": "stream",
     "text": [
      "epoch 562 avg loss:0.0352 train_total_reward:0.000 test_total_reward:0.000 e-greedy:0.03785:   5%|▍         | 49/1000 [00:13<02:56,  5.40it/s]\n"
     ]
    },
    {
     "name": "stdout",
     "output_type": "stream",
     "text": [
      "    /// Result\n",
      "    Average train error: 0.03520\n",
      "    Avg train reward in one epoch: 0.00000\n",
      "    Avg test reward in one epoch: 0.00000\n",
      "    Total train reward in one epoch: 0.00000\n",
      "    Test reward: 0.00000\n",
      "    Greedy: 0.03785\n",
      "    Buffer: 42050\n"
     ]
    },
    {
     "name": "stderr",
     "output_type": "stream",
     "text": [
      "epoch 563 avg loss:0.0331 train_total_reward:2.000 test_total_reward:0.000 e-greedy:0.03792:   8%|▊         | 81/1000 [00:20<02:50,  5.40it/s]\n"
     ]
    },
    {
     "name": "stdout",
     "output_type": "stream",
     "text": [
      "    /// Result\n",
      "    Average train error: 0.03314\n",
      "    Avg train reward in one epoch: 0.02469\n",
      "    Avg test reward in one epoch: 0.00000\n",
      "    Total train reward in one epoch: 2.00000\n",
      "    Test reward: 2.00000\n",
      "    Greedy: 0.03792\n",
      "    Buffer: 42131\n"
     ]
    },
    {
     "name": "stderr",
     "output_type": "stream",
     "text": [
      "epoch 564 avg loss:0.0321 train_total_reward:1.000 test_total_reward:0.000 e-greedy:0.03797:   6%|▋         | 63/1000 [00:14<02:54,  5.37it/s]\n"
     ]
    },
    {
     "name": "stdout",
     "output_type": "stream",
     "text": [
      "    /// Result\n",
      "    Average train error: 0.03213\n",
      "    Avg train reward in one epoch: 0.01587\n",
      "    Avg test reward in one epoch: 0.00000\n",
      "    Total train reward in one epoch: 1.00000\n",
      "    Test reward: 1.00000\n",
      "    Greedy: 0.03797\n",
      "    Buffer: 42194\n"
     ]
    },
    {
     "name": "stderr",
     "output_type": "stream",
     "text": [
      "epoch 565 avg loss:0.0340 train_total_reward:3.000 test_total_reward:1.000 e-greedy:0.03806:  10%|▉         | 95/1000 [00:24<02:48,  5.37it/s]\n"
     ]
    },
    {
     "name": "stdout",
     "output_type": "stream",
     "text": [
      "    /// Result\n",
      "    Average train error: 0.03404\n",
      "    Avg train reward in one epoch: 0.03158\n",
      "    Avg test reward in one epoch: 0.01053\n",
      "    Total train reward in one epoch: 3.00000\n",
      "    Test reward: 3.00000\n",
      "    Greedy: 0.03806\n",
      "    Buffer: 42289\n"
     ]
    },
    {
     "name": "stderr",
     "output_type": "stream",
     "text": [
      "epoch 566 avg loss:0.0333 train_total_reward:3.000 test_total_reward:3.000 e-greedy:0.03814:   9%|▉         | 89/1000 [00:21<02:49,  5.38it/s]\n"
     ]
    },
    {
     "name": "stdout",
     "output_type": "stream",
     "text": [
      "    /// Result\n",
      "    Average train error: 0.03327\n",
      "    Avg train reward in one epoch: 0.03371\n",
      "    Avg test reward in one epoch: 0.03371\n",
      "    Total train reward in one epoch: 3.00000\n",
      "    Test reward: 3.00000\n",
      "    Greedy: 0.03814\n",
      "    Buffer: 42378\n"
     ]
    },
    {
     "name": "stderr",
     "output_type": "stream",
     "text": [
      "epoch 567 avg loss:0.0355 train_total_reward:2.000 test_total_reward:2.000 e-greedy:0.03822:   9%|▉         | 93/1000 [00:20<02:48,  5.39it/s]\n"
     ]
    },
    {
     "name": "stdout",
     "output_type": "stream",
     "text": [
      "    /// Result\n",
      "    Average train error: 0.03552\n",
      "    Avg train reward in one epoch: 0.02151\n",
      "    Avg test reward in one epoch: 0.02151\n",
      "    Total train reward in one epoch: 2.00000\n",
      "    Test reward: 2.00000\n",
      "    Greedy: 0.03822\n",
      "    Buffer: 42471\n"
     ]
    },
    {
     "name": "stderr",
     "output_type": "stream",
     "text": [
      "epoch 568 avg loss:0.0340 train_total_reward:1.000 test_total_reward:0.000 e-greedy:0.03829:   7%|▋         | 68/1000 [00:16<02:54,  5.34it/s]\n"
     ]
    },
    {
     "name": "stdout",
     "output_type": "stream",
     "text": [
      "    /// Result\n",
      "    Average train error: 0.03404\n",
      "    Avg train reward in one epoch: 0.01471\n",
      "    Avg test reward in one epoch: 0.00000\n",
      "    Total train reward in one epoch: 1.00000\n",
      "    Test reward: 1.00000\n",
      "    Greedy: 0.03829\n",
      "    Buffer: 42539\n"
     ]
    },
    {
     "name": "stderr",
     "output_type": "stream",
     "text": [
      "epoch 569 avg loss:0.0309 train_total_reward:2.000 test_total_reward:0.000 e-greedy:0.03837:  10%|▉         | 97/1000 [00:21<02:47,  5.38it/s]\n"
     ]
    },
    {
     "name": "stdout",
     "output_type": "stream",
     "text": [
      "    /// Result\n",
      "    Average train error: 0.03089\n",
      "    Avg train reward in one epoch: 0.02062\n",
      "    Avg test reward in one epoch: 0.00000\n",
      "    Total train reward in one epoch: 2.00000\n",
      "    Test reward: 2.00000\n",
      "    Greedy: 0.03837\n",
      "    Buffer: 42636\n"
     ]
    },
    {
     "name": "stderr",
     "output_type": "stream",
     "text": [
      "epoch 570 avg loss:0.0301 train_total_reward:3.000 test_total_reward:7.000 e-greedy:0.03844:   8%|▊         | 80/1000 [00:20<02:47,  5.49it/s]\n"
     ]
    },
    {
     "name": "stdout",
     "output_type": "stream",
     "text": [
      "    /// Result\n",
      "    Average train error: 0.03011\n",
      "    Avg train reward in one epoch: 0.03750\n",
      "    Avg test reward in one epoch: 0.08750\n",
      "    Total train reward in one epoch: 3.00000\n",
      "    Test reward: 3.00000\n",
      "    Greedy: 0.03844\n",
      "    Buffer: 42716\n"
     ]
    },
    {
     "name": "stderr",
     "output_type": "stream",
     "text": [
      "epoch 571 avg loss:0.0329 train_total_reward:4.000 test_total_reward:0.000 e-greedy:0.03854:  10%|█         | 104/1000 [00:21<02:45,  5.40it/s]\n"
     ]
    },
    {
     "name": "stdout",
     "output_type": "stream",
     "text": [
      "    /// Result\n",
      "    Average train error: 0.03289\n",
      "    Avg train reward in one epoch: 0.03846\n",
      "    Avg test reward in one epoch: 0.00000\n",
      "    Total train reward in one epoch: 4.00000\n",
      "    Test reward: 4.00000\n",
      "    Greedy: 0.03854\n",
      "    Buffer: 42820\n"
     ]
    },
    {
     "name": "stderr",
     "output_type": "stream",
     "text": [
      "epoch 572 avg loss:0.0336 train_total_reward:3.000 test_total_reward:2.000 e-greedy:0.03862:   9%|▉         | 93/1000 [00:21<02:49,  5.37it/s]\n"
     ]
    },
    {
     "name": "stdout",
     "output_type": "stream",
     "text": [
      "    /// Result\n",
      "    Average train error: 0.03360\n",
      "    Avg train reward in one epoch: 0.03226\n",
      "    Avg test reward in one epoch: 0.02151\n",
      "    Total train reward in one epoch: 3.00000\n",
      "    Test reward: 3.00000\n",
      "    Greedy: 0.03862\n",
      "    Buffer: 42913\n"
     ]
    },
    {
     "name": "stderr",
     "output_type": "stream",
     "text": [
      "epoch 573 avg loss:0.0292 train_total_reward:0.000 test_total_reward:1.000 e-greedy:0.03867:   6%|▌         | 58/1000 [00:15<02:56,  5.34it/s]\n"
     ]
    },
    {
     "name": "stdout",
     "output_type": "stream",
     "text": [
      "    /// Result\n",
      "    Average train error: 0.02919\n",
      "    Avg train reward in one epoch: 0.00000\n",
      "    Avg test reward in one epoch: 0.01724\n",
      "    Total train reward in one epoch: 0.00000\n",
      "    Test reward: 0.00000\n",
      "    Greedy: 0.03867\n",
      "    Buffer: 42971\n"
     ]
    },
    {
     "name": "stderr",
     "output_type": "stream",
     "text": [
      "epoch 574 avg loss:0.0336 train_total_reward:2.000 test_total_reward:1.000 e-greedy:0.03875:   9%|▊         | 87/1000 [00:17<02:49,  5.40it/s]\n"
     ]
    },
    {
     "name": "stdout",
     "output_type": "stream",
     "text": [
      "    /// Result\n",
      "    Average train error: 0.03360\n",
      "    Avg train reward in one epoch: 0.02299\n",
      "    Avg test reward in one epoch: 0.01149\n",
      "    Total train reward in one epoch: 2.00000\n",
      "    Test reward: 2.00000\n",
      "    Greedy: 0.03875\n",
      "    Buffer: 43058\n"
     ]
    },
    {
     "name": "stderr",
     "output_type": "stream",
     "text": [
      "epoch 575 avg loss:0.0349 train_total_reward:1.000 test_total_reward:2.000 e-greedy:0.03884:   9%|▉         | 93/1000 [00:19<02:50,  5.32it/s]\n"
     ]
    },
    {
     "name": "stdout",
     "output_type": "stream",
     "text": [
      "    /// Result\n",
      "    Average train error: 0.03493\n",
      "    Avg train reward in one epoch: 0.01075\n",
      "    Avg test reward in one epoch: 0.02151\n",
      "    Total train reward in one epoch: 1.00000\n",
      "    Test reward: 1.00000\n",
      "    Greedy: 0.03884\n",
      "    Buffer: 43151\n"
     ]
    },
    {
     "name": "stderr",
     "output_type": "stream",
     "text": [
      "epoch 576 avg loss:0.0325 train_total_reward:1.000 test_total_reward:1.000 e-greedy:0.03890:   7%|▋         | 69/1000 [00:20<02:52,  5.38it/s]\n"
     ]
    },
    {
     "name": "stdout",
     "output_type": "stream",
     "text": [
      "    /// Result\n",
      "    Average train error: 0.03251\n",
      "    Avg train reward in one epoch: 0.01449\n",
      "    Avg test reward in one epoch: 0.01449\n",
      "    Total train reward in one epoch: 1.00000\n",
      "    Test reward: 1.00000\n",
      "    Greedy: 0.03890\n",
      "    Buffer: 43220\n"
     ]
    },
    {
     "name": "stderr",
     "output_type": "stream",
     "text": [
      "epoch 577 avg loss:0.0369 train_total_reward:2.000 test_total_reward:2.000 e-greedy:0.03899:  11%|█         | 106/1000 [00:21<03:07,  4.78it/s]\n"
     ]
    },
    {
     "name": "stdout",
     "output_type": "stream",
     "text": [
      "    /// Result\n",
      "    Average train error: 0.03687\n",
      "    Avg train reward in one epoch: 0.01887\n",
      "    Avg test reward in one epoch: 0.01887\n",
      "    Total train reward in one epoch: 2.00000\n",
      "    Test reward: 2.00000\n",
      "    Greedy: 0.03899\n",
      "    Buffer: 43326\n"
     ]
    },
    {
     "name": "stderr",
     "output_type": "stream",
     "text": [
      "epoch 578 avg loss:0.0359 train_total_reward:1.000 test_total_reward:1.000 e-greedy:0.03906:   7%|▋         | 70/1000 [00:15<02:52,  5.39it/s]\n"
     ]
    },
    {
     "name": "stdout",
     "output_type": "stream",
     "text": [
      "    /// Result\n",
      "    Average train error: 0.03591\n",
      "    Avg train reward in one epoch: 0.01429\n",
      "    Avg test reward in one epoch: 0.01429\n",
      "    Total train reward in one epoch: 1.00000\n",
      "    Test reward: 1.00000\n",
      "    Greedy: 0.03906\n",
      "    Buffer: 43396\n"
     ]
    },
    {
     "name": "stderr",
     "output_type": "stream",
     "text": [
      "epoch 579 avg loss:0.0373 train_total_reward:2.000 test_total_reward:2.000 e-greedy:0.03912:   7%|▋         | 68/1000 [00:15<02:51,  5.43it/s]\n"
     ]
    },
    {
     "name": "stdout",
     "output_type": "stream",
     "text": [
      "    /// Result\n",
      "    Average train error: 0.03728\n",
      "    Avg train reward in one epoch: 0.02941\n",
      "    Avg test reward in one epoch: 0.02941\n",
      "    Total train reward in one epoch: 2.00000\n",
      "    Test reward: 2.00000\n",
      "    Greedy: 0.03912\n",
      "    Buffer: 43464\n"
     ]
    },
    {
     "name": "stderr",
     "output_type": "stream",
     "text": [
      "epoch 580 avg loss:0.0345 train_total_reward:7.000 test_total_reward:0.000 e-greedy:0.03925:  15%|█▍        | 148/1000 [00:32<02:37,  5.39it/s]\n"
     ]
    },
    {
     "name": "stdout",
     "output_type": "stream",
     "text": [
      "    /// Result\n",
      "    Average train error: 0.03450\n",
      "    Avg train reward in one epoch: 0.04730\n",
      "    Avg test reward in one epoch: 0.00000\n",
      "    Total train reward in one epoch: 7.00000\n",
      "    Test reward: 7.00000\n",
      "    Greedy: 0.03925\n",
      "    Buffer: 43612\n"
     ]
    },
    {
     "name": "stderr",
     "output_type": "stream",
     "text": [
      "epoch 581 avg loss:0.0358 train_total_reward:4.000 test_total_reward:1.000 e-greedy:0.03935:  11%|█         | 109/1000 [00:24<02:45,  5.39it/s]\n"
     ]
    },
    {
     "name": "stdout",
     "output_type": "stream",
     "text": [
      "    /// Result\n",
      "    Average train error: 0.03583\n",
      "    Avg train reward in one epoch: 0.03670\n",
      "    Avg test reward in one epoch: 0.00917\n",
      "    Total train reward in one epoch: 4.00000\n",
      "    Test reward: 4.00000\n",
      "    Greedy: 0.03935\n",
      "    Buffer: 43721\n"
     ]
    },
    {
     "name": "stderr",
     "output_type": "stream",
     "text": [
      "epoch 582 avg loss:0.0383 train_total_reward:1.000 test_total_reward:0.000 e-greedy:0.03942:   8%|▊         | 83/1000 [00:18<02:52,  5.30it/s]\n"
     ]
    },
    {
     "name": "stdout",
     "output_type": "stream",
     "text": [
      "    /// Result\n",
      "    Average train error: 0.03829\n",
      "    Avg train reward in one epoch: 0.01205\n",
      "    Avg test reward in one epoch: 0.00000\n",
      "    Total train reward in one epoch: 1.00000\n",
      "    Test reward: 1.00000\n",
      "    Greedy: 0.03942\n",
      "    Buffer: 43804\n"
     ]
    },
    {
     "name": "stderr",
     "output_type": "stream",
     "text": [
      "epoch 583 avg loss:0.0338 train_total_reward:4.000 test_total_reward:1.000 e-greedy:0.03952:  11%|█         | 107/1000 [00:21<02:49,  5.28it/s]\n"
     ]
    },
    {
     "name": "stdout",
     "output_type": "stream",
     "text": [
      "    /// Result\n",
      "    Average train error: 0.03383\n",
      "    Avg train reward in one epoch: 0.03738\n",
      "    Avg test reward in one epoch: 0.00935\n",
      "    Total train reward in one epoch: 4.00000\n",
      "    Test reward: 4.00000\n",
      "    Greedy: 0.03952\n",
      "    Buffer: 43911\n"
     ]
    },
    {
     "name": "stderr",
     "output_type": "stream",
     "text": [
      "epoch 584 avg loss:0.0360 train_total_reward:2.000 test_total_reward:0.000 e-greedy:0.03959:   8%|▊         | 76/1000 [00:17<02:54,  5.28it/s]\n"
     ]
    },
    {
     "name": "stdout",
     "output_type": "stream",
     "text": [
      "    /// Result\n",
      "    Average train error: 0.03601\n",
      "    Avg train reward in one epoch: 0.02632\n",
      "    Avg test reward in one epoch: 0.00000\n",
      "    Total train reward in one epoch: 2.00000\n",
      "    Test reward: 2.00000\n",
      "    Greedy: 0.03959\n",
      "    Buffer: 43987\n"
     ]
    },
    {
     "name": "stderr",
     "output_type": "stream",
     "text": [
      "epoch 585 avg loss:0.0313 train_total_reward:3.000 test_total_reward:1.000 e-greedy:0.03967:   9%|▉         | 94/1000 [00:22<02:51,  5.29it/s]\n"
     ]
    },
    {
     "name": "stdout",
     "output_type": "stream",
     "text": [
      "    /// Result\n",
      "    Average train error: 0.03129\n",
      "    Avg train reward in one epoch: 0.03191\n",
      "    Avg test reward in one epoch: 0.01064\n",
      "    Total train reward in one epoch: 3.00000\n",
      "    Test reward: 3.00000\n",
      "    Greedy: 0.03967\n",
      "    Buffer: 44081\n"
     ]
    },
    {
     "name": "stderr",
     "output_type": "stream",
     "text": [
      "epoch 586 avg loss:0.0327 train_total_reward:1.000 test_total_reward:0.000 e-greedy:0.03972:   6%|▌         | 56/1000 [00:13<02:54,  5.41it/s]\n"
     ]
    },
    {
     "name": "stdout",
     "output_type": "stream",
     "text": [
      "    /// Result\n",
      "    Average train error: 0.03268\n",
      "    Avg train reward in one epoch: 0.01786\n",
      "    Avg test reward in one epoch: 0.00000\n",
      "    Total train reward in one epoch: 1.00000\n",
      "    Test reward: 1.00000\n",
      "    Greedy: 0.03972\n",
      "    Buffer: 44137\n"
     ]
    },
    {
     "name": "stderr",
     "output_type": "stream",
     "text": [
      "epoch 587 avg loss:0.0363 train_total_reward:2.000 test_total_reward:0.000 e-greedy:0.03979:   8%|▊         | 78/1000 [00:18<02:53,  5.32it/s]\n"
     ]
    },
    {
     "name": "stdout",
     "output_type": "stream",
     "text": [
      "    /// Result\n",
      "    Average train error: 0.03630\n",
      "    Avg train reward in one epoch: 0.02564\n",
      "    Avg test reward in one epoch: 0.00000\n",
      "    Total train reward in one epoch: 2.00000\n",
      "    Test reward: 2.00000\n",
      "    Greedy: 0.03979\n",
      "    Buffer: 44215\n"
     ]
    },
    {
     "name": "stderr",
     "output_type": "stream",
     "text": [
      "epoch 588 avg loss:0.0333 train_total_reward:1.000 test_total_reward:2.000 e-greedy:0.03986:   7%|▋         | 69/1000 [00:16<02:56,  5.27it/s]\n"
     ]
    },
    {
     "name": "stdout",
     "output_type": "stream",
     "text": [
      "    /// Result\n",
      "    Average train error: 0.03330\n",
      "    Avg train reward in one epoch: 0.01449\n",
      "    Avg test reward in one epoch: 0.02899\n",
      "    Total train reward in one epoch: 1.00000\n",
      "    Test reward: 1.00000\n",
      "    Greedy: 0.03986\n",
      "    Buffer: 44284\n"
     ]
    },
    {
     "name": "stderr",
     "output_type": "stream",
     "text": [
      "epoch 589 avg loss:0.0341 train_total_reward:2.000 test_total_reward:1.000 e-greedy:0.03992:   7%|▋         | 69/1000 [00:16<02:52,  5.41it/s]\n"
     ]
    },
    {
     "name": "stdout",
     "output_type": "stream",
     "text": [
      "    /// Result\n",
      "    Average train error: 0.03412\n",
      "    Avg train reward in one epoch: 0.02899\n",
      "    Avg test reward in one epoch: 0.01449\n",
      "    Total train reward in one epoch: 2.00000\n",
      "    Test reward: 2.00000\n",
      "    Greedy: 0.03992\n",
      "    Buffer: 44353\n"
     ]
    },
    {
     "name": "stderr",
     "output_type": "stream",
     "text": [
      "epoch 590 avg loss:0.0331 train_total_reward:1.000 test_total_reward:1.000 e-greedy:0.03998:   7%|▋         | 68/1000 [00:19<02:57,  5.26it/s]\n"
     ]
    },
    {
     "name": "stdout",
     "output_type": "stream",
     "text": [
      "    /// Result\n",
      "    Average train error: 0.03310\n",
      "    Avg train reward in one epoch: 0.01471\n",
      "    Avg test reward in one epoch: 0.01471\n",
      "    Total train reward in one epoch: 1.00000\n",
      "    Test reward: 1.00000\n",
      "    Greedy: 0.03998\n",
      "    Buffer: 44421\n"
     ]
    },
    {
     "name": "stderr",
     "output_type": "stream",
     "text": [
      "epoch 591 avg loss:0.0307 train_total_reward:2.000 test_total_reward:1.000 e-greedy:0.04005:   8%|▊         | 77/1000 [00:18<02:50,  5.41it/s]\n"
     ]
    },
    {
     "name": "stdout",
     "output_type": "stream",
     "text": [
      "    /// Result\n",
      "    Average train error: 0.03069\n",
      "    Avg train reward in one epoch: 0.02597\n",
      "    Avg test reward in one epoch: 0.01299\n",
      "    Total train reward in one epoch: 2.00000\n",
      "    Test reward: 2.00000\n",
      "    Greedy: 0.04005\n",
      "    Buffer: 44498\n"
     ]
    },
    {
     "name": "stderr",
     "output_type": "stream",
     "text": [
      "epoch 592 avg loss:0.0343 train_total_reward:1.000 test_total_reward:1.000 e-greedy:0.04010:   6%|▌         | 60/1000 [00:14<02:55,  5.36it/s]\n"
     ]
    },
    {
     "name": "stdout",
     "output_type": "stream",
     "text": [
      "    /// Result\n",
      "    Average train error: 0.03427\n",
      "    Avg train reward in one epoch: 0.01667\n",
      "    Avg test reward in one epoch: 0.01667\n",
      "    Total train reward in one epoch: 1.00000\n",
      "    Test reward: 1.00000\n",
      "    Greedy: 0.04010\n",
      "    Buffer: 44558\n"
     ]
    },
    {
     "name": "stderr",
     "output_type": "stream",
     "text": [
      "epoch 593 avg loss:0.0323 train_total_reward:0.000 test_total_reward:1.000 e-greedy:0.04017:   7%|▋         | 70/1000 [00:16<02:52,  5.40it/s]\n"
     ]
    },
    {
     "name": "stdout",
     "output_type": "stream",
     "text": [
      "    /// Result\n",
      "    Average train error: 0.03226\n",
      "    Avg train reward in one epoch: 0.00000\n",
      "    Avg test reward in one epoch: 0.01429\n",
      "    Total train reward in one epoch: 0.00000\n",
      "    Test reward: 0.00000\n",
      "    Greedy: 0.04017\n",
      "    Buffer: 44628\n"
     ]
    },
    {
     "name": "stderr",
     "output_type": "stream",
     "text": [
      "epoch 594 avg loss:0.0390 train_total_reward:1.000 test_total_reward:0.000 e-greedy:0.04024:   8%|▊         | 82/1000 [00:19<02:52,  5.31it/s]\n"
     ]
    },
    {
     "name": "stdout",
     "output_type": "stream",
     "text": [
      "    /// Result\n",
      "    Average train error: 0.03898\n",
      "    Avg train reward in one epoch: 0.01220\n",
      "    Avg test reward in one epoch: 0.00000\n",
      "    Total train reward in one epoch: 1.00000\n",
      "    Test reward: 1.00000\n",
      "    Greedy: 0.04024\n",
      "    Buffer: 44710\n"
     ]
    },
    {
     "name": "stderr",
     "output_type": "stream",
     "text": [
      "epoch 595 avg loss:0.0379 train_total_reward:2.000 test_total_reward:2.000 e-greedy:0.04032:   9%|▉         | 89/1000 [00:19<02:51,  5.32it/s]\n"
     ]
    },
    {
     "name": "stdout",
     "output_type": "stream",
     "text": [
      "    /// Result\n",
      "    Average train error: 0.03790\n",
      "    Avg train reward in one epoch: 0.02247\n",
      "    Avg test reward in one epoch: 0.02247\n",
      "    Total train reward in one epoch: 2.00000\n",
      "    Test reward: 2.00000\n",
      "    Greedy: 0.04032\n",
      "    Buffer: 44799\n"
     ]
    },
    {
     "name": "stderr",
     "output_type": "stream",
     "text": [
      "epoch 596 avg loss:0.0326 train_total_reward:2.000 test_total_reward:2.000 e-greedy:0.04039:   8%|▊         | 78/1000 [00:20<02:52,  5.35it/s]\n"
     ]
    },
    {
     "name": "stdout",
     "output_type": "stream",
     "text": [
      "    /// Result\n",
      "    Average train error: 0.03256\n",
      "    Avg train reward in one epoch: 0.02564\n",
      "    Avg test reward in one epoch: 0.02564\n",
      "    Total train reward in one epoch: 2.00000\n",
      "    Test reward: 2.00000\n",
      "    Greedy: 0.04039\n",
      "    Buffer: 44877\n"
     ]
    },
    {
     "name": "stderr",
     "output_type": "stream",
     "text": [
      "epoch 597 avg loss:0.0343 train_total_reward:2.000 test_total_reward:1.000 e-greedy:0.04048:  10%|█         | 101/1000 [00:25<02:49,  5.32it/s]\n"
     ]
    },
    {
     "name": "stdout",
     "output_type": "stream",
     "text": [
      "    /// Result\n",
      "    Average train error: 0.03429\n",
      "    Avg train reward in one epoch: 0.01980\n",
      "    Avg test reward in one epoch: 0.00990\n",
      "    Total train reward in one epoch: 2.00000\n",
      "    Test reward: 2.00000\n",
      "    Greedy: 0.04048\n",
      "    Buffer: 44978\n"
     ]
    },
    {
     "name": "stderr",
     "output_type": "stream",
     "text": [
      "epoch 598 avg loss:0.0352 train_total_reward:0.000 test_total_reward:0.000 e-greedy:0.04053:   5%|▌         | 51/1000 [00:13<02:55,  5.41it/s]\n"
     ]
    },
    {
     "name": "stdout",
     "output_type": "stream",
     "text": [
      "    /// Result\n",
      "    Average train error: 0.03524\n",
      "    Avg train reward in one epoch: 0.00000\n",
      "    Avg test reward in one epoch: 0.00000\n",
      "    Total train reward in one epoch: 0.00000\n",
      "    Test reward: 0.00000\n",
      "    Greedy: 0.04053\n",
      "    Buffer: 45029\n"
     ]
    },
    {
     "name": "stderr",
     "output_type": "stream",
     "text": [
      "epoch 599 avg loss:0.0330 train_total_reward:2.000 test_total_reward:1.000 e-greedy:0.04061:   9%|▉         | 92/1000 [00:19<02:53,  5.22it/s]\n"
     ]
    },
    {
     "name": "stdout",
     "output_type": "stream",
     "text": [
      "    /// Result\n",
      "    Average train error: 0.03304\n",
      "    Avg train reward in one epoch: 0.02174\n",
      "    Avg test reward in one epoch: 0.01087\n",
      "    Total train reward in one epoch: 2.00000\n",
      "    Test reward: 2.00000\n",
      "    Greedy: 0.04061\n",
      "    Buffer: 45121\n"
     ]
    },
    {
     "name": "stderr",
     "output_type": "stream",
     "text": [
      "epoch 600 avg loss:0.0321 train_total_reward:0.000 test_total_reward:1.000 e-greedy:0.04065:   5%|▌         | 51/1000 [00:12<02:55,  5.40it/s]\n"
     ]
    },
    {
     "name": "stdout",
     "output_type": "stream",
     "text": [
      "    /// Result\n",
      "    Average train error: 0.03209\n",
      "    Avg train reward in one epoch: 0.00000\n",
      "    Avg test reward in one epoch: 0.01961\n",
      "    Total train reward in one epoch: 0.00000\n",
      "    Test reward: 0.00000\n",
      "    Greedy: 0.04065\n",
      "    Buffer: 45172\n"
     ]
    },
    {
     "name": "stderr",
     "output_type": "stream",
     "text": [
      "epoch 601 avg loss:0.0333 train_total_reward:3.000 test_total_reward:2.000 e-greedy:0.04075:  10%|█         | 101/1000 [00:20<02:46,  5.41it/s]\n"
     ]
    },
    {
     "name": "stdout",
     "output_type": "stream",
     "text": [
      "    /// Result\n",
      "    Average train error: 0.03335\n",
      "    Avg train reward in one epoch: 0.02970\n",
      "    Avg test reward in one epoch: 0.01980\n",
      "    Total train reward in one epoch: 3.00000\n",
      "    Test reward: 3.00000\n",
      "    Greedy: 0.04075\n",
      "    Buffer: 45273\n"
     ]
    },
    {
     "name": "stderr",
     "output_type": "stream",
     "text": [
      "epoch 602 avg loss:0.0327 train_total_reward:0.000 test_total_reward:1.000 e-greedy:0.04079:   5%|▌         | 51/1000 [00:12<02:57,  5.36it/s]\n"
     ]
    },
    {
     "name": "stdout",
     "output_type": "stream",
     "text": [
      "    /// Result\n",
      "    Average train error: 0.03265\n",
      "    Avg train reward in one epoch: 0.00000\n",
      "    Avg test reward in one epoch: 0.01961\n",
      "    Total train reward in one epoch: 0.00000\n",
      "    Test reward: 0.00000\n",
      "    Greedy: 0.04079\n",
      "    Buffer: 45324\n"
     ]
    },
    {
     "name": "stderr",
     "output_type": "stream",
     "text": [
      "epoch 603 avg loss:0.0359 train_total_reward:5.000 test_total_reward:1.000 e-greedy:0.04092:  15%|█▍        | 147/1000 [00:31<02:36,  5.46it/s]\n"
     ]
    },
    {
     "name": "stdout",
     "output_type": "stream",
     "text": [
      "    /// Result\n",
      "    Average train error: 0.03589\n",
      "    Avg train reward in one epoch: 0.03401\n",
      "    Avg test reward in one epoch: 0.00680\n",
      "    Total train reward in one epoch: 5.00000\n",
      "    Test reward: 5.00000\n",
      "    Greedy: 0.04092\n",
      "    Buffer: 45471\n"
     ]
    },
    {
     "name": "stderr",
     "output_type": "stream",
     "text": [
      "epoch 604 avg loss:0.0338 train_total_reward:2.000 test_total_reward:0.000 e-greedy:0.04099:   8%|▊         | 78/1000 [00:16<02:50,  5.42it/s]\n"
     ]
    },
    {
     "name": "stdout",
     "output_type": "stream",
     "text": [
      "    /// Result\n",
      "    Average train error: 0.03384\n",
      "    Avg train reward in one epoch: 0.02564\n",
      "    Avg test reward in one epoch: 0.00000\n",
      "    Total train reward in one epoch: 2.00000\n",
      "    Test reward: 2.00000\n",
      "    Greedy: 0.04099\n",
      "    Buffer: 45549\n"
     ]
    },
    {
     "name": "stderr",
     "output_type": "stream",
     "text": [
      "epoch 605 avg loss:0.0336 train_total_reward:1.000 test_total_reward:1.000 e-greedy:0.04106:   8%|▊         | 76/1000 [00:16<02:53,  5.33it/s]\n"
     ]
    },
    {
     "name": "stdout",
     "output_type": "stream",
     "text": [
      "    /// Result\n",
      "    Average train error: 0.03364\n",
      "    Avg train reward in one epoch: 0.01316\n",
      "    Avg test reward in one epoch: 0.01316\n",
      "    Total train reward in one epoch: 1.00000\n",
      "    Test reward: 1.00000\n",
      "    Greedy: 0.04106\n",
      "    Buffer: 45625\n"
     ]
    },
    {
     "name": "stderr",
     "output_type": "stream",
     "text": [
      "epoch 606 avg loss:0.0359 train_total_reward:3.000 test_total_reward:0.000 e-greedy:0.04114:   8%|▊         | 84/1000 [00:18<02:52,  5.32it/s]\n"
     ]
    },
    {
     "name": "stdout",
     "output_type": "stream",
     "text": [
      "    /// Result\n",
      "    Average train error: 0.03593\n",
      "    Avg train reward in one epoch: 0.03571\n",
      "    Avg test reward in one epoch: 0.00000\n",
      "    Total train reward in one epoch: 3.00000\n",
      "    Test reward: 3.00000\n",
      "    Greedy: 0.04114\n",
      "    Buffer: 45709\n"
     ]
    },
    {
     "name": "stderr",
     "output_type": "stream",
     "text": [
      "epoch 607 avg loss:0.0361 train_total_reward:2.000 test_total_reward:3.000 e-greedy:0.04120:   6%|▋         | 64/1000 [00:18<02:57,  5.27it/s]\n"
     ]
    },
    {
     "name": "stdout",
     "output_type": "stream",
     "text": [
      "    /// Result\n",
      "    Average train error: 0.03607\n",
      "    Avg train reward in one epoch: 0.03125\n",
      "    Avg test reward in one epoch: 0.04688\n",
      "    Total train reward in one epoch: 2.00000\n",
      "    Test reward: 2.00000\n",
      "    Greedy: 0.04120\n",
      "    Buffer: 45773\n"
     ]
    },
    {
     "name": "stderr",
     "output_type": "stream",
     "text": [
      "epoch 608 avg loss:0.0341 train_total_reward:3.000 test_total_reward:1.000 e-greedy:0.04129:  11%|█         | 106/1000 [00:24<02:55,  5.10it/s]\n"
     ]
    },
    {
     "name": "stdout",
     "output_type": "stream",
     "text": [
      "    /// Result\n",
      "    Average train error: 0.03405\n",
      "    Avg train reward in one epoch: 0.02830\n",
      "    Avg test reward in one epoch: 0.00943\n",
      "    Total train reward in one epoch: 3.00000\n",
      "    Test reward: 3.00000\n",
      "    Greedy: 0.04129\n",
      "    Buffer: 45879\n"
     ]
    },
    {
     "name": "stderr",
     "output_type": "stream",
     "text": [
      "epoch 609 avg loss:0.0300 train_total_reward:0.000 test_total_reward:1.000 e-greedy:0.04133:   5%|▍         | 47/1000 [00:11<02:56,  5.39it/s]\n"
     ]
    },
    {
     "name": "stdout",
     "output_type": "stream",
     "text": [
      "    /// Result\n",
      "    Average train error: 0.02998\n",
      "    Avg train reward in one epoch: 0.00000\n",
      "    Avg test reward in one epoch: 0.02128\n",
      "    Total train reward in one epoch: 0.00000\n",
      "    Test reward: 0.00000\n",
      "    Greedy: 0.04133\n",
      "    Buffer: 45926\n"
     ]
    },
    {
     "name": "stderr",
     "output_type": "stream",
     "text": [
      "epoch 610 avg loss:0.0334 train_total_reward:1.000 test_total_reward:0.000 e-greedy:0.04139:   6%|▌         | 60/1000 [00:15<02:59,  5.23it/s]\n"
     ]
    },
    {
     "name": "stdout",
     "output_type": "stream",
     "text": [
      "    /// Result\n",
      "    Average train error: 0.03335\n",
      "    Avg train reward in one epoch: 0.01667\n",
      "    Avg test reward in one epoch: 0.00000\n",
      "    Total train reward in one epoch: 1.00000\n",
      "    Test reward: 1.00000\n",
      "    Greedy: 0.04139\n",
      "    Buffer: 45986\n"
     ]
    },
    {
     "name": "stderr",
     "output_type": "stream",
     "text": [
      "epoch 611 avg loss:0.0362 train_total_reward:1.000 test_total_reward:1.000 e-greedy:0.04144:   6%|▌         | 61/1000 [00:14<02:54,  5.39it/s]\n"
     ]
    },
    {
     "name": "stdout",
     "output_type": "stream",
     "text": [
      "    /// Result\n",
      "    Average train error: 0.03616\n",
      "    Avg train reward in one epoch: 0.01639\n",
      "    Avg test reward in one epoch: 0.01639\n",
      "    Total train reward in one epoch: 1.00000\n",
      "    Test reward: 1.00000\n",
      "    Greedy: 0.04144\n",
      "    Buffer: 46047\n"
     ]
    },
    {
     "name": "stderr",
     "output_type": "stream",
     "text": [
      "epoch 612 avg loss:0.0348 train_total_reward:2.000 test_total_reward:3.000 e-greedy:0.04151:   8%|▊         | 80/1000 [00:18<02:53,  5.31it/s]\n"
     ]
    },
    {
     "name": "stdout",
     "output_type": "stream",
     "text": [
      "    /// Result\n",
      "    Average train error: 0.03477\n",
      "    Avg train reward in one epoch: 0.02500\n",
      "    Avg test reward in one epoch: 0.03750\n",
      "    Total train reward in one epoch: 2.00000\n",
      "    Test reward: 2.00000\n",
      "    Greedy: 0.04151\n",
      "    Buffer: 46127\n"
     ]
    },
    {
     "name": "stderr",
     "output_type": "stream",
     "text": [
      "epoch 613 avg loss:0.0317 train_total_reward:3.000 test_total_reward:0.000 e-greedy:0.04159:   8%|▊         | 83/1000 [00:17<02:52,  5.32it/s]\n"
     ]
    },
    {
     "name": "stdout",
     "output_type": "stream",
     "text": [
      "    /// Result\n",
      "    Average train error: 0.03170\n",
      "    Avg train reward in one epoch: 0.03614\n",
      "    Avg test reward in one epoch: 0.00000\n",
      "    Total train reward in one epoch: 3.00000\n",
      "    Test reward: 3.00000\n",
      "    Greedy: 0.04159\n",
      "    Buffer: 46210\n"
     ]
    },
    {
     "name": "stderr",
     "output_type": "stream",
     "text": [
      "epoch 614 avg loss:0.0363 train_total_reward:1.000 test_total_reward:1.000 e-greedy:0.04165:   7%|▋         | 73/1000 [00:19<02:59,  5.17it/s]\n"
     ]
    },
    {
     "name": "stdout",
     "output_type": "stream",
     "text": [
      "    /// Result\n",
      "    Average train error: 0.03628\n",
      "    Avg train reward in one epoch: 0.01370\n",
      "    Avg test reward in one epoch: 0.01370\n",
      "    Total train reward in one epoch: 1.00000\n",
      "    Test reward: 1.00000\n",
      "    Greedy: 0.04165\n",
      "    Buffer: 46283\n"
     ]
    },
    {
     "name": "stderr",
     "output_type": "stream",
     "text": [
      "epoch 615 avg loss:0.0325 train_total_reward:3.000 test_total_reward:1.000 e-greedy:0.04176:  12%|█▏        | 122/1000 [00:25<02:45,  5.29it/s]\n"
     ]
    },
    {
     "name": "stdout",
     "output_type": "stream",
     "text": [
      "    /// Result\n",
      "    Average train error: 0.03250\n",
      "    Avg train reward in one epoch: 0.02459\n",
      "    Avg test reward in one epoch: 0.00820\n",
      "    Total train reward in one epoch: 3.00000\n",
      "    Test reward: 3.00000\n",
      "    Greedy: 0.04176\n",
      "    Buffer: 46405\n"
     ]
    },
    {
     "name": "stderr",
     "output_type": "stream",
     "text": [
      "epoch 616 avg loss:0.0332 train_total_reward:0.000 test_total_reward:1.000 e-greedy:0.04181:   5%|▌         | 52/1000 [00:13<02:56,  5.37it/s]\n"
     ]
    },
    {
     "name": "stdout",
     "output_type": "stream",
     "text": [
      "    /// Result\n",
      "    Average train error: 0.03321\n",
      "    Avg train reward in one epoch: 0.00000\n",
      "    Avg test reward in one epoch: 0.01923\n",
      "    Total train reward in one epoch: 0.00000\n",
      "    Test reward: 0.00000\n",
      "    Greedy: 0.04181\n",
      "    Buffer: 46457\n"
     ]
    },
    {
     "name": "stderr",
     "output_type": "stream",
     "text": [
      "epoch 617 avg loss:0.0320 train_total_reward:0.000 test_total_reward:2.000 e-greedy:0.04187:   6%|▌         | 61/1000 [00:14<02:56,  5.33it/s]\n"
     ]
    },
    {
     "name": "stdout",
     "output_type": "stream",
     "text": [
      "    /// Result\n",
      "    Average train error: 0.03201\n",
      "    Avg train reward in one epoch: 0.00000\n",
      "    Avg test reward in one epoch: 0.03279\n",
      "    Total train reward in one epoch: 0.00000\n",
      "    Test reward: 0.00000\n",
      "    Greedy: 0.04187\n",
      "    Buffer: 46518\n"
     ]
    },
    {
     "name": "stderr",
     "output_type": "stream",
     "text": [
      "epoch 618 avg loss:0.0333 train_total_reward:0.000 test_total_reward:3.000 e-greedy:0.04191:   5%|▌         | 50/1000 [00:13<02:55,  5.42it/s]\n"
     ]
    },
    {
     "name": "stdout",
     "output_type": "stream",
     "text": [
      "    /// Result\n",
      "    Average train error: 0.03331\n",
      "    Avg train reward in one epoch: 0.00000\n",
      "    Avg test reward in one epoch: 0.06000\n",
      "    Total train reward in one epoch: 0.00000\n",
      "    Test reward: 0.00000\n",
      "    Greedy: 0.04191\n",
      "    Buffer: 46568\n"
     ]
    },
    {
     "name": "stderr",
     "output_type": "stream",
     "text": [
      "epoch 619 avg loss:0.0356 train_total_reward:0.000 test_total_reward:2.000 e-greedy:0.04196:   6%|▌         | 59/1000 [00:13<02:57,  5.29it/s]\n"
     ]
    },
    {
     "name": "stdout",
     "output_type": "stream",
     "text": [
      "    /// Result\n",
      "    Average train error: 0.03561\n",
      "    Avg train reward in one epoch: 0.00000\n",
      "    Avg test reward in one epoch: 0.03390\n",
      "    Total train reward in one epoch: 0.00000\n",
      "    Test reward: 0.00000\n",
      "    Greedy: 0.04196\n",
      "    Buffer: 46627\n"
     ]
    },
    {
     "name": "stderr",
     "output_type": "stream",
     "text": [
      "epoch 620 avg loss:0.0347 train_total_reward:1.000 test_total_reward:2.000 e-greedy:0.04203:   7%|▋         | 74/1000 [00:17<02:49,  5.47it/s]\n"
     ]
    },
    {
     "name": "stdout",
     "output_type": "stream",
     "text": [
      "    /// Result\n",
      "    Average train error: 0.03471\n",
      "    Avg train reward in one epoch: 0.01351\n",
      "    Avg test reward in one epoch: 0.02703\n",
      "    Total train reward in one epoch: 1.00000\n",
      "    Test reward: 1.00000\n",
      "    Greedy: 0.04203\n",
      "    Buffer: 46701\n"
     ]
    },
    {
     "name": "stderr",
     "output_type": "stream",
     "text": [
      "epoch 621 avg loss:0.0364 train_total_reward:3.000 test_total_reward:2.000 e-greedy:0.04212:  10%|▉         | 95/1000 [00:21<02:52,  5.26it/s]\n"
     ]
    },
    {
     "name": "stdout",
     "output_type": "stream",
     "text": [
      "    /// Result\n",
      "    Average train error: 0.03645\n",
      "    Avg train reward in one epoch: 0.03158\n",
      "    Avg test reward in one epoch: 0.02105\n",
      "    Total train reward in one epoch: 3.00000\n",
      "    Test reward: 3.00000\n",
      "    Greedy: 0.04212\n",
      "    Buffer: 46796\n"
     ]
    },
    {
     "name": "stderr",
     "output_type": "stream",
     "text": [
      "epoch 622 avg loss:0.0367 train_total_reward:2.000 test_total_reward:3.000 e-greedy:0.04218:   7%|▋         | 74/1000 [00:18<02:52,  5.37it/s]\n"
     ]
    },
    {
     "name": "stdout",
     "output_type": "stream",
     "text": [
      "    /// Result\n",
      "    Average train error: 0.03671\n",
      "    Avg train reward in one epoch: 0.02703\n",
      "    Avg test reward in one epoch: 0.04054\n",
      "    Total train reward in one epoch: 2.00000\n",
      "    Test reward: 2.00000\n",
      "    Greedy: 0.04218\n",
      "    Buffer: 46870\n"
     ]
    },
    {
     "name": "stderr",
     "output_type": "stream",
     "text": [
      "epoch 623 avg loss:0.0361 train_total_reward:0.000 test_total_reward:0.000 e-greedy:0.04224:   6%|▌         | 60/1000 [00:16<02:58,  5.25it/s]\n"
     ]
    },
    {
     "name": "stdout",
     "output_type": "stream",
     "text": [
      "    /// Result\n",
      "    Average train error: 0.03614\n",
      "    Avg train reward in one epoch: 0.00000\n",
      "    Avg test reward in one epoch: 0.00000\n",
      "    Total train reward in one epoch: 0.00000\n",
      "    Test reward: 0.00000\n",
      "    Greedy: 0.04224\n",
      "    Buffer: 46930\n"
     ]
    },
    {
     "name": "stderr",
     "output_type": "stream",
     "text": [
      "epoch 624 avg loss:0.0389 train_total_reward:2.000 test_total_reward:2.000 e-greedy:0.04231:   8%|▊         | 78/1000 [00:17<02:42,  5.66it/s]\n"
     ]
    },
    {
     "name": "stdout",
     "output_type": "stream",
     "text": [
      "    /// Result\n",
      "    Average train error: 0.03885\n",
      "    Avg train reward in one epoch: 0.02564\n",
      "    Avg test reward in one epoch: 0.02564\n",
      "    Total train reward in one epoch: 2.00000\n",
      "    Test reward: 2.00000\n",
      "    Greedy: 0.04231\n",
      "    Buffer: 47008\n"
     ]
    },
    {
     "name": "stderr",
     "output_type": "stream",
     "text": [
      "epoch 625 avg loss:0.0344 train_total_reward:0.000 test_total_reward:1.000 e-greedy:0.04236:   6%|▌         | 61/1000 [00:15<02:55,  5.35it/s]\n"
     ]
    },
    {
     "name": "stdout",
     "output_type": "stream",
     "text": [
      "    /// Result\n",
      "    Average train error: 0.03438\n",
      "    Avg train reward in one epoch: 0.00000\n",
      "    Avg test reward in one epoch: 0.01639\n",
      "    Total train reward in one epoch: 0.00000\n",
      "    Test reward: 0.00000\n",
      "    Greedy: 0.04236\n",
      "    Buffer: 47069\n"
     ]
    },
    {
     "name": "stderr",
     "output_type": "stream",
     "text": [
      "epoch 626 avg loss:0.0354 train_total_reward:0.000 test_total_reward:2.000 e-greedy:0.04242:   6%|▌         | 62/1000 [00:13<02:55,  5.34it/s]\n"
     ]
    },
    {
     "name": "stdout",
     "output_type": "stream",
     "text": [
      "    /// Result\n",
      "    Average train error: 0.03544\n",
      "    Avg train reward in one epoch: 0.00000\n",
      "    Avg test reward in one epoch: 0.03226\n",
      "    Total train reward in one epoch: 0.00000\n",
      "    Test reward: 0.00000\n",
      "    Greedy: 0.04242\n",
      "    Buffer: 47131\n"
     ]
    },
    {
     "name": "stderr",
     "output_type": "stream",
     "text": [
      "epoch 627 avg loss:0.0336 train_total_reward:0.000 test_total_reward:2.000 e-greedy:0.04247:   6%|▌         | 62/1000 [00:13<02:53,  5.42it/s]\n"
     ]
    },
    {
     "name": "stdout",
     "output_type": "stream",
     "text": [
      "    /// Result\n",
      "    Average train error: 0.03356\n",
      "    Avg train reward in one epoch: 0.00000\n",
      "    Avg test reward in one epoch: 0.03226\n",
      "    Total train reward in one epoch: 0.00000\n",
      "    Test reward: 0.00000\n",
      "    Greedy: 0.04247\n",
      "    Buffer: 47193\n"
     ]
    },
    {
     "name": "stderr",
     "output_type": "stream",
     "text": [
      "epoch 628 avg loss:0.0361 train_total_reward:5.000 test_total_reward:0.000 e-greedy:0.04258:  12%|█▏        | 116/1000 [00:27<02:46,  5.32it/s]\n"
     ]
    },
    {
     "name": "stdout",
     "output_type": "stream",
     "text": [
      "    /// Result\n",
      "    Average train error: 0.03608\n",
      "    Avg train reward in one epoch: 0.04310\n",
      "    Avg test reward in one epoch: 0.00000\n",
      "    Total train reward in one epoch: 5.00000\n",
      "    Test reward: 5.00000\n",
      "    Greedy: 0.04258\n",
      "    Buffer: 47309\n"
     ]
    },
    {
     "name": "stderr",
     "output_type": "stream",
     "text": [
      "epoch 629 avg loss:0.0359 train_total_reward:1.000 test_total_reward:2.000 e-greedy:0.04264:   7%|▋         | 67/1000 [00:14<03:00,  5.17it/s]\n"
     ]
    },
    {
     "name": "stdout",
     "output_type": "stream",
     "text": [
      "    /// Result\n",
      "    Average train error: 0.03589\n",
      "    Avg train reward in one epoch: 0.01493\n",
      "    Avg test reward in one epoch: 0.02985\n",
      "    Total train reward in one epoch: 1.00000\n",
      "    Test reward: 1.00000\n",
      "    Greedy: 0.04264\n",
      "    Buffer: 47376\n"
     ]
    },
    {
     "name": "stderr",
     "output_type": "stream",
     "text": [
      "epoch 630 avg loss:0.0348 train_total_reward:1.000 test_total_reward:1.000 e-greedy:0.04271:   8%|▊         | 79/1000 [00:17<02:50,  5.41it/s]\n"
     ]
    },
    {
     "name": "stdout",
     "output_type": "stream",
     "text": [
      "    /// Result\n",
      "    Average train error: 0.03479\n",
      "    Avg train reward in one epoch: 0.01266\n",
      "    Avg test reward in one epoch: 0.01266\n",
      "    Total train reward in one epoch: 1.00000\n",
      "    Test reward: 1.00000\n",
      "    Greedy: 0.04271\n",
      "    Buffer: 47455\n"
     ]
    },
    {
     "name": "stderr",
     "output_type": "stream",
     "text": [
      "epoch 631 avg loss:0.0372 train_total_reward:2.000 test_total_reward:0.000 e-greedy:0.04278:   8%|▊         | 79/1000 [00:17<02:53,  5.32it/s]\n"
     ]
    },
    {
     "name": "stdout",
     "output_type": "stream",
     "text": [
      "    /// Result\n",
      "    Average train error: 0.03721\n",
      "    Avg train reward in one epoch: 0.02532\n",
      "    Avg test reward in one epoch: 0.00000\n",
      "    Total train reward in one epoch: 2.00000\n",
      "    Test reward: 2.00000\n",
      "    Greedy: 0.04278\n",
      "    Buffer: 47534\n"
     ]
    },
    {
     "name": "stderr",
     "output_type": "stream",
     "text": [
      "epoch 632 avg loss:0.0333 train_total_reward:0.000 test_total_reward:3.000 e-greedy:0.04283:   5%|▌         | 54/1000 [00:12<02:59,  5.27it/s]\n"
     ]
    },
    {
     "name": "stdout",
     "output_type": "stream",
     "text": [
      "    /// Result\n",
      "    Average train error: 0.03326\n",
      "    Avg train reward in one epoch: 0.00000\n",
      "    Avg test reward in one epoch: 0.05556\n",
      "    Total train reward in one epoch: 0.00000\n",
      "    Test reward: 0.00000\n",
      "    Greedy: 0.04283\n",
      "    Buffer: 47588\n"
     ]
    },
    {
     "name": "stderr",
     "output_type": "stream",
     "text": [
      "epoch 633 avg loss:0.0368 train_total_reward:0.000 test_total_reward:0.000 e-greedy:0.04288:   5%|▌         | 54/1000 [00:14<02:58,  5.29it/s]\n"
     ]
    },
    {
     "name": "stdout",
     "output_type": "stream",
     "text": [
      "    /// Result\n",
      "    Average train error: 0.03683\n",
      "    Avg train reward in one epoch: 0.00000\n",
      "    Avg test reward in one epoch: 0.00000\n",
      "    Total train reward in one epoch: 0.00000\n",
      "    Test reward: 0.00000\n",
      "    Greedy: 0.04288\n",
      "    Buffer: 47642\n"
     ]
    },
    {
     "name": "stderr",
     "output_type": "stream",
     "text": [
      "epoch 634 avg loss:0.0335 train_total_reward:5.000 test_total_reward:1.000 e-greedy:0.04299:  12%|█▏        | 122/1000 [00:28<02:48,  5.20it/s]\n"
     ]
    },
    {
     "name": "stdout",
     "output_type": "stream",
     "text": [
      "    /// Result\n",
      "    Average train error: 0.03351\n",
      "    Avg train reward in one epoch: 0.04098\n",
      "    Avg test reward in one epoch: 0.00820\n",
      "    Total train reward in one epoch: 5.00000\n",
      "    Test reward: 5.00000\n",
      "    Greedy: 0.04299\n",
      "    Buffer: 47764\n"
     ]
    },
    {
     "name": "stderr",
     "output_type": "stream",
     "text": [
      "epoch 635 avg loss:0.0332 train_total_reward:2.000 test_total_reward:0.000 e-greedy:0.04306:   8%|▊         | 82/1000 [00:19<02:52,  5.32it/s]\n"
     ]
    },
    {
     "name": "stdout",
     "output_type": "stream",
     "text": [
      "    /// Result\n",
      "    Average train error: 0.03319\n",
      "    Avg train reward in one epoch: 0.02439\n",
      "    Avg test reward in one epoch: 0.00000\n",
      "    Total train reward in one epoch: 2.00000\n",
      "    Test reward: 2.00000\n",
      "    Greedy: 0.04306\n",
      "    Buffer: 47846\n"
     ]
    },
    {
     "name": "stderr",
     "output_type": "stream",
     "text": [
      "epoch 636 avg loss:0.0308 train_total_reward:0.000 test_total_reward:0.000 e-greedy:0.04310:   5%|▍         | 46/1000 [00:13<02:57,  5.39it/s]\n"
     ]
    },
    {
     "name": "stdout",
     "output_type": "stream",
     "text": [
      "    /// Result\n",
      "    Average train error: 0.03079\n",
      "    Avg train reward in one epoch: 0.00000\n",
      "    Avg test reward in one epoch: 0.00000\n",
      "    Total train reward in one epoch: 0.00000\n",
      "    Test reward: 0.00000\n",
      "    Greedy: 0.04310\n",
      "    Buffer: 47892\n"
     ]
    },
    {
     "name": "stderr",
     "output_type": "stream",
     "text": [
      "epoch 637 avg loss:0.0349 train_total_reward:7.000 test_total_reward:1.000 e-greedy:0.04321:  12%|█▏        | 122/1000 [00:25<02:47,  5.23it/s]\n"
     ]
    },
    {
     "name": "stdout",
     "output_type": "stream",
     "text": [
      "    /// Result\n",
      "    Average train error: 0.03488\n",
      "    Avg train reward in one epoch: 0.05738\n",
      "    Avg test reward in one epoch: 0.00820\n",
      "    Total train reward in one epoch: 7.00000\n",
      "    Test reward: 7.00000\n",
      "    Greedy: 0.04321\n",
      "    Buffer: 48014\n"
     ]
    },
    {
     "name": "stderr",
     "output_type": "stream",
     "text": [
      "epoch 638 avg loss:0.0366 train_total_reward:0.000 test_total_reward:0.000 e-greedy:0.04326:   5%|▌         | 53/1000 [00:11<03:01,  5.22it/s]\n"
     ]
    },
    {
     "name": "stdout",
     "output_type": "stream",
     "text": [
      "    /// Result\n",
      "    Average train error: 0.03660\n",
      "    Avg train reward in one epoch: 0.00000\n",
      "    Avg test reward in one epoch: 0.00000\n",
      "    Total train reward in one epoch: 0.00000\n",
      "    Test reward: 0.00000\n",
      "    Greedy: 0.04326\n",
      "    Buffer: 48067\n"
     ]
    },
    {
     "name": "stderr",
     "output_type": "stream",
     "text": [
      "epoch 639 avg loss:0.0346 train_total_reward:1.000 test_total_reward:1.000 e-greedy:0.04332:   7%|▋         | 71/1000 [00:18<02:52,  5.40it/s]\n"
     ]
    },
    {
     "name": "stdout",
     "output_type": "stream",
     "text": [
      "    /// Result\n",
      "    Average train error: 0.03457\n",
      "    Avg train reward in one epoch: 0.01408\n",
      "    Avg test reward in one epoch: 0.01408\n",
      "    Total train reward in one epoch: 1.00000\n",
      "    Test reward: 1.00000\n",
      "    Greedy: 0.04332\n",
      "    Buffer: 48138\n"
     ]
    },
    {
     "name": "stderr",
     "output_type": "stream",
     "text": [
      "epoch 640 avg loss:0.0318 train_total_reward:2.000 test_total_reward:2.000 e-greedy:0.04339:   8%|▊         | 78/1000 [00:18<02:50,  5.41it/s]\n"
     ]
    },
    {
     "name": "stdout",
     "output_type": "stream",
     "text": [
      "    /// Result\n",
      "    Average train error: 0.03178\n",
      "    Avg train reward in one epoch: 0.02564\n",
      "    Avg test reward in one epoch: 0.02564\n",
      "    Total train reward in one epoch: 2.00000\n",
      "    Test reward: 2.00000\n",
      "    Greedy: 0.04339\n",
      "    Buffer: 48216\n"
     ]
    },
    {
     "name": "stderr",
     "output_type": "stream",
     "text": [
      "epoch 641 avg loss:0.0364 train_total_reward:0.000 test_total_reward:2.000 e-greedy:0.04344:   6%|▌         | 56/1000 [00:16<02:56,  5.34it/s]\n"
     ]
    },
    {
     "name": "stdout",
     "output_type": "stream",
     "text": [
      "    /// Result\n",
      "    Average train error: 0.03645\n",
      "    Avg train reward in one epoch: 0.00000\n",
      "    Avg test reward in one epoch: 0.03571\n",
      "    Total train reward in one epoch: 0.00000\n",
      "    Test reward: 0.00000\n",
      "    Greedy: 0.04344\n",
      "    Buffer: 48272\n"
     ]
    },
    {
     "name": "stderr",
     "output_type": "stream",
     "text": [
      "epoch 642 avg loss:0.0369 train_total_reward:1.000 test_total_reward:1.000 e-greedy:0.04351:   7%|▋         | 69/1000 [00:15<02:51,  5.42it/s]\n"
     ]
    },
    {
     "name": "stdout",
     "output_type": "stream",
     "text": [
      "    /// Result\n",
      "    Average train error: 0.03692\n",
      "    Avg train reward in one epoch: 0.01449\n",
      "    Avg test reward in one epoch: 0.01449\n",
      "    Total train reward in one epoch: 1.00000\n",
      "    Test reward: 1.00000\n",
      "    Greedy: 0.04351\n",
      "    Buffer: 48341\n"
     ]
    },
    {
     "name": "stderr",
     "output_type": "stream",
     "text": [
      "epoch 643 avg loss:0.0341 train_total_reward:0.000 test_total_reward:1.000 e-greedy:0.04356:   6%|▌         | 57/1000 [00:15<02:53,  5.43it/s]\n"
     ]
    },
    {
     "name": "stdout",
     "output_type": "stream",
     "text": [
      "    /// Result\n",
      "    Average train error: 0.03408\n",
      "    Avg train reward in one epoch: 0.00000\n",
      "    Avg test reward in one epoch: 0.01754\n",
      "    Total train reward in one epoch: 0.00000\n",
      "    Test reward: 0.00000\n",
      "    Greedy: 0.04356\n",
      "    Buffer: 48398\n"
     ]
    },
    {
     "name": "stderr",
     "output_type": "stream",
     "text": [
      "epoch 644 avg loss:0.0373 train_total_reward:0.000 test_total_reward:4.000 e-greedy:0.04361:   6%|▌         | 56/1000 [00:15<02:52,  5.47it/s]\n"
     ]
    },
    {
     "name": "stdout",
     "output_type": "stream",
     "text": [
      "    /// Result\n",
      "    Average train error: 0.03732\n",
      "    Avg train reward in one epoch: 0.00000\n",
      "    Avg test reward in one epoch: 0.07143\n",
      "    Total train reward in one epoch: 0.00000\n",
      "    Test reward: 0.00000\n",
      "    Greedy: 0.04361\n",
      "    Buffer: 48454\n"
     ]
    },
    {
     "name": "stderr",
     "output_type": "stream",
     "text": [
      "epoch 645 avg loss:0.0369 train_total_reward:0.000 test_total_reward:2.000 e-greedy:0.04365:   5%|▍         | 47/1000 [00:13<02:58,  5.33it/s]\n"
     ]
    },
    {
     "name": "stdout",
     "output_type": "stream",
     "text": [
      "    /// Result\n",
      "    Average train error: 0.03694\n",
      "    Avg train reward in one epoch: 0.00000\n",
      "    Avg test reward in one epoch: 0.04255\n",
      "    Total train reward in one epoch: 0.00000\n",
      "    Test reward: 0.00000\n",
      "    Greedy: 0.04365\n",
      "    Buffer: 48501\n"
     ]
    },
    {
     "name": "stderr",
     "output_type": "stream",
     "text": [
      "epoch 646 avg loss:0.0334 train_total_reward:0.000 test_total_reward:1.000 e-greedy:0.04370:   5%|▌         | 51/1000 [00:14<03:00,  5.26it/s]\n"
     ]
    },
    {
     "name": "stdout",
     "output_type": "stream",
     "text": [
      "    /// Result\n",
      "    Average train error: 0.03342\n",
      "    Avg train reward in one epoch: 0.00000\n",
      "    Avg test reward in one epoch: 0.01961\n",
      "    Total train reward in one epoch: 0.00000\n",
      "    Test reward: 0.00000\n",
      "    Greedy: 0.04370\n",
      "    Buffer: 48552\n"
     ]
    },
    {
     "name": "stderr",
     "output_type": "stream",
     "text": [
      "epoch 647 avg loss:0.0325 train_total_reward:1.000 test_total_reward:0.000 e-greedy:0.04376:   6%|▋         | 65/1000 [00:14<02:54,  5.36it/s]\n"
     ]
    },
    {
     "name": "stdout",
     "output_type": "stream",
     "text": [
      "    /// Result\n",
      "    Average train error: 0.03249\n",
      "    Avg train reward in one epoch: 0.01538\n",
      "    Avg test reward in one epoch: 0.00000\n",
      "    Total train reward in one epoch: 1.00000\n",
      "    Test reward: 1.00000\n",
      "    Greedy: 0.04376\n",
      "    Buffer: 48617\n"
     ]
    },
    {
     "name": "stderr",
     "output_type": "stream",
     "text": [
      "epoch 648 avg loss:0.0353 train_total_reward:3.000 test_total_reward:0.000 e-greedy:0.04382:   8%|▊         | 77/1000 [00:17<02:52,  5.36it/s]\n"
     ]
    },
    {
     "name": "stdout",
     "output_type": "stream",
     "text": [
      "    /// Result\n",
      "    Average train error: 0.03528\n",
      "    Avg train reward in one epoch: 0.03896\n",
      "    Avg test reward in one epoch: 0.00000\n",
      "    Total train reward in one epoch: 3.00000\n",
      "    Test reward: 3.00000\n",
      "    Greedy: 0.04382\n",
      "    Buffer: 48694\n"
     ]
    },
    {
     "name": "stderr",
     "output_type": "stream",
     "text": [
      "epoch 649 avg loss:0.0351 train_total_reward:0.000 test_total_reward:1.000 e-greedy:0.04388:   6%|▋         | 63/1000 [00:16<02:53,  5.41it/s]\n"
     ]
    },
    {
     "name": "stdout",
     "output_type": "stream",
     "text": [
      "    /// Result\n",
      "    Average train error: 0.03506\n",
      "    Avg train reward in one epoch: 0.00000\n",
      "    Avg test reward in one epoch: 0.01587\n",
      "    Total train reward in one epoch: 0.00000\n",
      "    Test reward: 0.00000\n",
      "    Greedy: 0.04388\n",
      "    Buffer: 48757\n"
     ]
    },
    {
     "name": "stderr",
     "output_type": "stream",
     "text": [
      "epoch 650 avg loss:0.0375 train_total_reward:0.000 test_total_reward:0.000 e-greedy:0.04393:   5%|▌         | 51/1000 [00:13<02:58,  5.31it/s]\n"
     ]
    },
    {
     "name": "stdout",
     "output_type": "stream",
     "text": [
      "    /// Result\n",
      "    Average train error: 0.03755\n",
      "    Avg train reward in one epoch: 0.00000\n",
      "    Avg test reward in one epoch: 0.00000\n",
      "    Total train reward in one epoch: 0.00000\n",
      "    Test reward: 0.00000\n",
      "    Greedy: 0.04393\n",
      "    Buffer: 48808\n"
     ]
    },
    {
     "name": "stderr",
     "output_type": "stream",
     "text": [
      "epoch 651 avg loss:0.0327 train_total_reward:2.000 test_total_reward:0.000 e-greedy:0.04400:   8%|▊         | 85/1000 [00:19<02:49,  5.40it/s]\n"
     ]
    },
    {
     "name": "stdout",
     "output_type": "stream",
     "text": [
      "    /// Result\n",
      "    Average train error: 0.03267\n",
      "    Avg train reward in one epoch: 0.02353\n",
      "    Avg test reward in one epoch: 0.00000\n",
      "    Total train reward in one epoch: 2.00000\n",
      "    Test reward: 2.00000\n",
      "    Greedy: 0.04400\n",
      "    Buffer: 48893\n"
     ]
    },
    {
     "name": "stderr",
     "output_type": "stream",
     "text": [
      "epoch 652 avg loss:0.0298 train_total_reward:1.000 test_total_reward:2.000 e-greedy:0.04407:   8%|▊         | 79/1000 [00:18<02:47,  5.48it/s]\n"
     ]
    },
    {
     "name": "stdout",
     "output_type": "stream",
     "text": [
      "    /// Result\n",
      "    Average train error: 0.02979\n",
      "    Avg train reward in one epoch: 0.01266\n",
      "    Avg test reward in one epoch: 0.02532\n",
      "    Total train reward in one epoch: 1.00000\n",
      "    Test reward: 1.00000\n",
      "    Greedy: 0.04407\n",
      "    Buffer: 48972\n"
     ]
    },
    {
     "name": "stderr",
     "output_type": "stream",
     "text": [
      "epoch 653 avg loss:0.0343 train_total_reward:1.000 test_total_reward:0.000 e-greedy:0.04415:   8%|▊         | 81/1000 [00:19<02:51,  5.35it/s]\n"
     ]
    },
    {
     "name": "stdout",
     "output_type": "stream",
     "text": [
      "    /// Result\n",
      "    Average train error: 0.03429\n",
      "    Avg train reward in one epoch: 0.01235\n",
      "    Avg test reward in one epoch: 0.00000\n",
      "    Total train reward in one epoch: 1.00000\n",
      "    Test reward: 1.00000\n",
      "    Greedy: 0.04415\n",
      "    Buffer: 49053\n"
     ]
    },
    {
     "name": "stderr",
     "output_type": "stream",
     "text": [
      "epoch 654 avg loss:0.0326 train_total_reward:5.000 test_total_reward:0.000 e-greedy:0.04426:  12%|█▏        | 120/1000 [00:27<02:45,  5.31it/s]\n"
     ]
    },
    {
     "name": "stdout",
     "output_type": "stream",
     "text": [
      "    /// Result\n",
      "    Average train error: 0.03259\n",
      "    Avg train reward in one epoch: 0.04167\n",
      "    Avg test reward in one epoch: 0.00000\n",
      "    Total train reward in one epoch: 5.00000\n",
      "    Test reward: 5.00000\n",
      "    Greedy: 0.04426\n",
      "    Buffer: 49173\n"
     ]
    },
    {
     "name": "stderr",
     "output_type": "stream",
     "text": [
      "epoch 655 avg loss:0.0347 train_total_reward:2.000 test_total_reward:1.000 e-greedy:0.04432:   7%|▋         | 66/1000 [00:15<02:54,  5.35it/s]\n"
     ]
    },
    {
     "name": "stdout",
     "output_type": "stream",
     "text": [
      "    /// Result\n",
      "    Average train error: 0.03468\n",
      "    Avg train reward in one epoch: 0.03030\n",
      "    Avg test reward in one epoch: 0.01515\n",
      "    Total train reward in one epoch: 2.00000\n",
      "    Test reward: 2.00000\n",
      "    Greedy: 0.04432\n",
      "    Buffer: 49239\n"
     ]
    },
    {
     "name": "stderr",
     "output_type": "stream",
     "text": [
      "epoch 656 avg loss:0.0354 train_total_reward:0.000 test_total_reward:0.000 e-greedy:0.04436:   5%|▍         | 49/1000 [00:13<02:50,  5.58it/s]\n"
     ]
    },
    {
     "name": "stdout",
     "output_type": "stream",
     "text": [
      "    /// Result\n",
      "    Average train error: 0.03544\n",
      "    Avg train reward in one epoch: 0.00000\n",
      "    Avg test reward in one epoch: 0.00000\n",
      "    Total train reward in one epoch: 0.00000\n",
      "    Test reward: 0.00000\n",
      "    Greedy: 0.04436\n",
      "    Buffer: 49288\n"
     ]
    },
    {
     "name": "stderr",
     "output_type": "stream",
     "text": [
      "epoch 657 avg loss:0.0327 train_total_reward:1.000 test_total_reward:1.000 e-greedy:0.04443:   8%|▊         | 83/1000 [00:18<02:51,  5.34it/s]\n"
     ]
    },
    {
     "name": "stdout",
     "output_type": "stream",
     "text": [
      "    /// Result\n",
      "    Average train error: 0.03266\n",
      "    Avg train reward in one epoch: 0.01205\n",
      "    Avg test reward in one epoch: 0.01205\n",
      "    Total train reward in one epoch: 1.00000\n",
      "    Test reward: 1.00000\n",
      "    Greedy: 0.04443\n",
      "    Buffer: 49371\n"
     ]
    },
    {
     "name": "stderr",
     "output_type": "stream",
     "text": [
      "epoch 658 each step reward:0.000:  10%|▉         | 99/1000 [00:18<02:49,  5.32it/s]"
     ]
    }
   ],
   "source": [
    "model.train()"
   ]
  },
  {
   "cell_type": "code",
   "execution_count": null,
   "metadata": {},
   "outputs": [],
   "source": [
    "epoch 1569 avg loss:0.0362 train_total_reward:3.000 test_total_reward:11.000 e-greedy:0.27583:  12%| | 248/2000 [00:52<05:19,  5.49it/s]\n",
    "    /// Result\n",
    "    Average train error: 0.03620\n",
    "    Avg train reward in one epoch: 0.01210\n",
    "    Avg test reward in one epoch: 0.04435\n",
    "    Total train reward in one epoch: 3.00000\n",
    "    Test reward: 3.00000\n",
    "    Greedy: 0.27583\n",
    "    Buffer: 100000\n",
    "| 292/2000 [01:02<06:56,  4.10it/s]\n",
    "    /// Result\n",
    "    Average train error: 0.03984\n",
    "    Avg train reward in one epoch: 0.01370\n",
    "    Avg test reward in one epoch: 0.03767\n",
    "    Total train reward in one epoch: 4.00000\n",
    "    Test reward: 4.00000\n",
    "    Greedy: 0.27609\n",
    "    Buffer: 100000\n",
    "epoch 1571 avg loss:0.0391 train_total_reward:2.000 test_total_reward:11.000 e-greedy:0.27627:  10%| | 199/2000 [00:42<05:40,  5.28it/s]\n",
    "    /// Result\n",
    "    Average train error: 0.03912\n",
    "    Avg train reward in one epoch: 0.01005\n",
    "    Avg test reward in one epoch: 0.05528\n",
    "    Total train reward in one epoch: 2.00000\n",
    "    Test reward: 2.00000\n",
    "    Greedy: 0.27627\n",
    "    Buffer: 100000\n",
    "| 263/2000 [00:54<05:23,  5.36it/s]\n",
    "    /// Result\n",
    "    Average train error: 0.03969\n",
    "    Avg train reward in one epoch: 0.01141\n",
    "    Avg test reward in one epoch: 0.04183\n",
    "    Total train reward in one epoch: 3.00000\n",
    "    Test reward: 3.00000\n",
    "    Greedy: 0.27651\n",
    "    Buffer: 100000\n",
    "epoch 1573 avg loss:0.0414 train_total_reward:3.000 test_total_reward:11.000 e-greedy:0.27671:  11%| | 228/2000 [00:46<05:22,  5.50it/s]\n",
    "    /// Result\n",
    "    Average train error: 0.04144\n",
    "    Avg train reward in one epoch: 0.01316\n",
    "    Avg test reward in one epoch: 0.04825\n",
    "    Total train reward in one epoch: 3.00000\n",
    "    Test reward: 3.00000\n",
    "    Greedy: 0.27671\n",
    "    Buffer: 100000\n",
    "| 361/2000 [01:11<05:01,  5.44it/s]\n",
    "    /// Result\n",
    "    Average train error: 0.03951\n",
    "    Avg train reward in one epoch: 0.01662\n",
    "    Avg test reward in one epoch: 0.03047\n",
    "    Total train reward in one epoch: 6.00000\n",
    "    Test reward: 6.00000\n",
    "    Greedy: 0.27704\n",
    "    Buffer: 100000\n",
    "epoch 1575 avg loss:0.0421 train_total_reward:2.000 test_total_reward:11.000 e-greedy:0.27721:   9%| | 184/2000 [00:41<05:36,  5.40it/s]\n",
    "    /// Result\n",
    "    Average train error: 0.04210\n",
    "    Avg train reward in one epoch: 0.01087\n",
    "    Avg test reward in one epoch: 0.05978\n",
    "    Total train reward in one epoch: 2.00000\n",
    "    Test reward: 2.00000\n",
    "    Greedy: 0.27721\n",
    "    Buffer: 100000\n",
    "epoch 1576 avg loss:0.0399 train_total_reward:2.000 test_total_reward:11.000 e-greedy:0.27737:   9%| | 186/2000 [00:38<05:29,  5.50it/s]\n",
    "    /// Result\n",
    "    Average train error: 0.03989\n",
    "    Avg train reward in one epoch: 0.01075\n",
    "    Avg test reward in one epoch: 0.05914\n",
    "    Total train reward in one epoch: 2.00000\n",
    "    Test reward: 2.00000\n",
    "    Greedy: 0.27737\n",
    "    Buffer: 100000\n",
    "epoch 1577 avg loss:0.0393 train_total_reward:2.000 test_total_reward:11.000 e-greedy:0.27756:  10%| | 210/2000 [00:42<05:26,  5.49it/s]\n",
    "    /// Result\n",
    "    Average train error: 0.03935\n",
    "    Avg train reward in one epoch: 0.00952\n",
    "    Avg test reward in one epoch: 0.05238\n",
    "    Total train reward in one epoch: 2.00000\n",
    "    Test reward: 2.00000\n",
    "    Greedy: 0.27756\n",
    "    Buffer: 100000\n",
    "| 336/2000 [01:07<05:08,  5.40it/s]\n",
    "    /// Result\n",
    "    Average train error: 0.03914\n",
    "    Avg train reward in one epoch: 0.02679\n",
    "    Avg test reward in one epoch: 0.03274\n",
    "    Total train reward in one epoch: 9.00000\n",
    "    Test reward: 9.00000\n",
    "    Greedy: 0.27786\n",
    "    Buffer: 100000\n",
    "| 290/2000 [01:00<05:15,  5.41it/s]\n",
    "    /// Result\n",
    "    Average train error: 0.04033\n",
    "    Avg train reward in one epoch: 0.01379\n",
    "    Avg test reward in one epoch: 0.02414\n",
    "    Total train reward in one epoch: 4.00000\n",
    "    Test reward: 4.00000\n",
    "    Greedy: 0.27813\n",
    "    Buffer: 100000\n",
    "| 277/2000 [00:57<05:16,  5.45it/s]\n",
    "    /// Result\n",
    "    Average train error: 0.04010\n",
    "    Avg train reward in one epoch: 0.01444\n",
    "    Avg test reward in one epoch: 0.03971\n",
    "    Total train reward in one epoch: 4.00000\n",
    "    Test reward: 4.00000\n",
    "    Greedy: 0.27837\n",
    "    Buffer: 100000\n",
    "| 301/2000 [00:59<05:12,  5.43it/s]\n",
    "    /// Result\n",
    "    Average train error: 0.03937\n",
    "    Avg train reward in one epoch: 0.02658\n",
    "    Avg test reward in one epoch: 0.03654\n",
    "    Total train reward in one epoch: 8.00000\n",
    "    Test reward: 8.00000\n",
    "    Greedy: 0.27865\n",
    "    Buffer: 100000\n",
    "| 260/2000 [00:54<05:20,  5.43it/s]\n",
    "    /// Result\n",
    "    Average train error: 0.03860\n",
    "    Avg train reward in one epoch: 0.02692\n",
    "    Avg test reward in one epoch: 0.02692\n",
    "    Total train reward in one epoch: 7.00000\n",
    "    Test reward: 7.00000\n",
    "    Greedy: 0.27888\n",
    "    Buffer: 100000\n",
    "| 299/2000 [00:59<05:10,  5.48it/s]\n",
    "    /// Result\n",
    "    Average train error: 0.04109\n",
    "    Avg train reward in one epoch: 0.01338\n",
    "    Avg test reward in one epoch: 0.03010\n",
    "    Total train reward in one epoch: 4.00000\n",
    "    Test reward: 4.00000\n",
    "    Greedy: 0.27915\n",
    "    Buffer: 100000\n",
    "| 250/2000 [00:51<05:18,  5.49it/s]\n",
    "    /// Result\n",
    "    Average train error: 0.03948\n",
    "    Avg train reward in one epoch: 0.01200\n",
    "    Avg test reward in one epoch: 0.04400\n",
    "    Total train reward in one epoch: 3.00000\n",
    "    Test reward: 3.00000\n",
    "    Greedy: 0.27937\n",
    "    Buffer: 100000\n",
    "epoch 1585 avg loss:0.0413 train_total_reward:3.000 test_total_reward:11.000 e-greedy:0.27957:  11%| | 220/2000 [00:43<05:27,  5.43it/s]\n",
    "    /// Result\n",
    "    Average train error: 0.04127\n",
    "    Avg train reward in one epoch: 0.01364\n",
    "    Avg test reward in one epoch: 0.05000\n",
    "    Total train reward in one epoch: 3.00000\n",
    "    Test reward: 3.00000\n",
    "    Greedy: 0.27957\n",
    "    Buffer: 100000\n",
    "| 453/2000 [01:28<04:46,  5.40it/s]\n",
    "    /// Result\n",
    "    Average train error: 0.03851\n",
    "    Avg train reward in one epoch: 0.02428\n",
    "    Avg test reward in one epoch: 0.02649\n",
    "    Total train reward in one epoch: 11.00000\n",
    "    Test reward: 11.00000\n",
    "    Greedy: 0.27998\n",
    "    Buffer: 100000\n",
    "epoch 1587 avg loss:0.0390 train_total_reward:2.000 test_total_reward:8.000 e-greedy:0.28015:  10%| | 190/2000 [00:38<05:24,  5.58it/s]\n",
    "    /// Result\n",
    "    Average train error: 0.03896\n",
    "    Avg train reward in one epoch: 0.01053\n",
    "    Avg test reward in one epoch: 0.04211\n",
    "    Total train reward in one epoch: 2.00000\n",
    "    Test reward: 2.00000\n",
    "    Greedy: 0.28015\n",
    "    Buffer: 100000\n",
    "| 325/2000 [01:04<05:04,  5.50it/s]\n",
    "    /// Result\n",
    "    Average train error: 0.04151\n",
    "    Avg train reward in one epoch: 0.01538\n",
    "    Avg test reward in one epoch: 0.02462\n",
    "    Total train reward in one epoch: 5.00000\n",
    "    Test reward: 5.00000\n",
    "    Greedy: 0.28044\n",
    "    Buffer: 100000\n",
    "| 475/2000 [01:33<04:41,  5.42it/s]\n",
    "    /// Result\n",
    "    Average train error: 0.04176\n",
    "    Avg train reward in one epoch: 0.01895\n",
    "    Avg test reward in one epoch: 0.02316\n",
    "    Total train reward in one epoch: 9.00000\n",
    "    Test reward: 9.00000\n",
    "    Greedy: 0.28087\n",
    "    Buffer: 100000\n",
    "| 282/2000 [00:55<05:20,  5.36it/s]\n",
    "    /// Result\n",
    "    Average train error: 0.03844\n",
    "    Avg train reward in one epoch: 0.02482\n",
    "    Avg test reward in one epoch: 0.03901\n",
    "    Total train reward in one epoch: 7.00000\n",
    "    Test reward: 7.00000\n",
    "    Greedy: 0.28112\n",
    "    Buffer: 100000\n",
    "epoch 1591 avg loss:0.0416 train_total_reward:3.000 test_total_reward:11.000 e-greedy:0.28134:  12%| | 243/2000 [00:49<05:24,  5.42it/s]\n",
    "    /// Result\n",
    "    Average train error: 0.04164\n",
    "    Avg train reward in one epoch: 0.01235\n",
    "    Avg test reward in one epoch: 0.04527\n",
    "    Total train reward in one epoch: 3.00000\n",
    "    Test reward: 3.00000\n",
    "    Greedy: 0.28134\n",
    "    Buffer: 100000\n",
    "epoch 1592 avg loss:0.0386 train_total_reward:3.000 test_total_reward:11.000 e-greedy:0.28155:  11%| | 225/2000 [00:44<05:27,  5.41it/s]\n",
    "    /// Result\n",
    "    Average train error: 0.03863\n",
    "    Avg train reward in one epoch: 0.01333\n",
    "    Avg test reward in one epoch: 0.04889\n",
    "    Total train reward in one epoch: 3.00000\n",
    "    Test reward: 3.00000\n",
    "    Greedy: 0.28155\n",
    "    Buffer: 100000\n",
    "epoch 1593 avg loss:0.0413 train_total_reward:2.000 test_total_reward:7.000 e-greedy:0.28172:  10%| | 198/2000 [00:43<05:35,  5.37it/s]\n",
    "    /// Result\n",
    "    Average train error: 0.04126\n",
    "    Avg train reward in one epoch: 0.01010\n",
    "    Avg test reward in one epoch: 0.03535\n",
    "    Total train reward in one epoch: 2.00000\n",
    "    Test reward: 2.00000\n",
    "    Greedy: 0.28172\n",
    "    Buffer: 100000\n",
    "epoch 1594 avg loss:0.0428 train_total_reward:2.000 test_total_reward:11.000 e-greedy:0.28190:  10%| | 200/2000 [00:42<05:36,  5.35it/s]\n",
    "    /// Result\n",
    "    Average train error: 0.04277\n",
    "    Avg train reward in one epoch: 0.01000\n",
    "    Avg test reward in one epoch: 0.05500\n",
    "    Total train reward in one epoch: 2.00000\n",
    "    Test reward: 2.00000\n",
    "    Greedy: 0.28190\n",
    "    Buffer: 100000\n",
    "| 356/2000 [01:13<05:01,  5.45it/s]\n",
    "    /// Result\n",
    "    Average train error: 0.03991\n",
    "    Avg train reward in one epoch: 0.01685\n",
    "    Avg test reward in one epoch: 0.01966\n",
    "    Total train reward in one epoch: 6.00000\n",
    "    Test reward: 6.00000\n",
    "    Greedy: 0.28222\n",
    "    Buffer: 100000\n",
    "| 319/2000 [01:03<05:13,  5.37it/s]\n",
    "    /// Result\n",
    "    Average train error: 0.03795\n",
    "    Avg train reward in one epoch: 0.01567\n",
    "    Avg test reward in one epoch: 0.03448\n",
    "    Total train reward in one epoch: 5.00000\n",
    "    Test reward: 5.00000\n",
    "    Greedy: 0.28251\n",
    "    Buffer: 100000\n",
    "| 281/2000 [00:54<05:21,  5.35it/s]\n",
    "    /// Result\n",
    "    Average train error: 0.03864\n",
    "    Avg train reward in one epoch: 0.01423\n",
    "    Avg test reward in one epoch: 0.03915\n",
    "    Total train reward in one epoch: 4.00000\n",
    "    Test reward: 4.00000\n",
    "    Greedy: 0.28276\n",
    "    Buffer: 100000\n",
    "| 280/2000 [00:56<05:15,  5.45it/s]\n",
    "    /// Result\n",
    "    Average train error: 0.04166\n",
    "    Avg train reward in one epoch: 0.01429\n",
    "    Avg test reward in one epoch: 0.03929\n",
    "    Total train reward in one epoch: 4.00000\n",
    "    Test reward: 4.00000\n",
    "    Greedy: 0.28302\n",
    "    Buffer: 100000\n",
    "| 283/2000 [00:56<05:11,  5.52it/s]\n",
    "    /// Result\n",
    "    Average train error: 0.03816\n",
    "    Avg train reward in one epoch: 0.01413\n",
    "    Avg test reward in one epoch: 0.03887\n",
    "    Total train reward in one epoch: 4.00000\n",
    "    Test reward: 4.00000\n",
    "    Greedy: 0.28327\n",
    "    Buffer: 100000\n",
    "| 306/2000 [01:00<05:09,  5.47it/s]\n",
    "    /// Result\n",
    "    Average train error: 0.03827\n",
    "    Avg train reward in one epoch: 0.01634\n",
    "    Avg test reward in one epoch: 0.03595\n",
    "    Total train reward in one epoch: 5.00000\n",
    "    Test reward: 5.00000\n",
    "    Greedy: 0.28355\n",
    "    Buffer: 100000\n",
    "| 365/2000 [01:11<05:06,  5.34it/s]\n",
    "    /// Result\n",
    "    Average train error: 0.04134\n",
    "    Avg train reward in one epoch: 0.02466\n",
    "    Avg test reward in one epoch: 0.03014\n",
    "    Total train reward in one epoch: 9.00000\n",
    "    Test reward: 9.00000\n",
    "    Greedy: 0.28387\n",
    "    Buffer: 100000\n",
    "epoch 1602 avg loss:0.0395 train_total_reward:3.000 test_total_reward:7.000 e-greedy:0.28409:  12%| | 241/2000 [00:47<05:21,  5.47it/s]\n",
    "    /// Result\n",
    "    Average train error: 0.03955\n",
    "    Avg train reward in one epoch: 0.01245\n",
    "    Avg test reward in one epoch: 0.02905\n",
    "    Total train reward in one epoch: 3.00000\n",
    "    Test reward: 3.00000\n",
    "    Greedy: 0.28409\n",
    "    Buffer: 100000\n",
    "| 334/2000 [01:04<05:07,  5.42it/s]\n",
    "    /// Result\n",
    "    Average train error: 0.04187\n",
    "    Avg train reward in one epoch: 0.01497\n",
    "    Avg test reward in one epoch: 0.03293\n",
    "    Total train reward in one epoch: 5.00000\n",
    "    Test reward: 5.00000\n",
    "    Greedy: 0.28439\n",
    "    Buffer: 100000\n",
    "epoch 1604 avg loss:0.0429 train_total_reward:2.000 test_total_reward:11.000 e-greedy:0.28456:   9%| | 189/2000 [00:38<05:36,  5.38it/s]\n",
    "    /// Result\n",
    "    Average train error: 0.04291\n",
    "    Avg train reward in one epoch: 0.01058\n",
    "    Avg test reward in one epoch: 0.05820\n",
    "    Total train reward in one epoch: 2.00000\n",
    "    Test reward: 2.00000\n",
    "    Greedy: 0.28456\n",
    "    Buffer: 100000\n",
    "epoch 1605 avg loss:0.0409 train_total_reward:2.000 test_total_reward:11.000 e-greedy:0.28475:  11%| | 213/2000 [00:43<05:25,  5.49it/s]\n",
    "    /// Result\n",
    "    Average train error: 0.04094\n",
    "    Avg train reward in one epoch: 0.00939\n",
    "    Avg test reward in one epoch: 0.05164\n",
    "    Total train reward in one epoch: 2.00000\n",
    "    Test reward: 2.00000\n",
    "    Greedy: 0.28475\n",
    "    Buffer: 100000\n",
    "epoch 1606 avg loss:0.0372 train_total_reward:1.000 test_total_reward:11.000 e-greedy:0.28490:   8%| | 160/2000 [00:33<05:36,  5.47it/s]\n",
    "    /// Result\n",
    "    Average train error: 0.03719\n",
    "    Avg train reward in one epoch: 0.00625\n",
    "    Avg test reward in one epoch: 0.06875\n",
    "    Total train reward in one epoch: 1.00000\n",
    "    Test reward: 1.00000\n",
    "    Greedy: 0.28490\n",
    "    Buffer: 100000\n",
    "| 346/2000 [01:10<05:03,  5.45it/s]\n",
    "    /// Result\n",
    "    Average train error: 0.03893\n",
    "    Avg train reward in one epoch: 0.01445\n",
    "    Avg test reward in one epoch: 0.01156\n",
    "    Total train reward in one epoch: 5.00000\n",
    "    Test reward: 5.00000\n",
    "    Greedy: 0.28521\n",
    "    Buffer: 100000\n",
    "epoch 1608 avg loss:0.0415 train_total_reward:3.000 test_total_reward:11.000 e-greedy:0.28543:  12%| | 245/2000 [00:49<05:19,  5.49it/s]\n",
    "    /// Result\n",
    "    Average train error: 0.04155\n",
    "    Avg train reward in one epoch: 0.01224\n",
    "    Avg test reward in one epoch: 0.04490\n",
    "    Total train reward in one epoch: 3.00000\n",
    "    Test reward: 3.00000\n",
    "    Greedy: 0.28543\n",
    "    Buffer: 100000\n",
    "epoch 1609 avg loss:0.0400 train_total_reward:3.000 test_total_reward:11.000 e-greedy:0.28565:  12%| | 247/2000 [00:50<05:24,  5.40it/s]\n",
    "    /// Result\n",
    "    Average train error: 0.03999\n",
    "    Avg train reward in one epoch: 0.01215\n",
    "    Avg test reward in one epoch: 0.04453\n",
    "    Total train reward in one epoch: 3.00000\n",
    "    Test reward: 3.00000\n",
    "    Greedy: 0.28565\n",
    "    Buffer: 100000\n",
    "epoch 1610 avg loss:0.0426 train_total_reward:2.000 test_total_reward:7.000 e-greedy:0.28584:  11%| | 211/2000 [00:45<05:27,  5.47it/s]\n",
    "    /// Result\n",
    "    Average train error: 0.04260\n",
    "    Avg train reward in one epoch: 0.00948\n",
    "    Avg test reward in one epoch: 0.03318\n",
    "    Total train reward in one epoch: 2.00000\n",
    "    Test reward: 2.00000\n",
    "    Greedy: 0.28584\n",
    "    Buffer: 100000\n",
    "| 271/2000 [00:54<05:18,  5.43it/s]\n",
    "    /// Result\n",
    "    Average train error: 0.03949\n",
    "    Avg train reward in one epoch: 0.01476\n",
    "    Avg test reward in one epoch: 0.04059\n",
    "    Total train reward in one epoch: 4.00000\n",
    "    Test reward: 4.00000\n",
    "    Greedy: 0.28609\n",
    "    Buffer: 100000\n",
    "epoch 1612 avg loss:0.0426 train_total_reward:0.000 test_total_reward:11.000 e-greedy:0.28620:   6%| | 125/2000 [00:28<05:44,  5.44it/s]\n",
    "    /// Result\n",
    "    Average train error: 0.04257\n",
    "    Avg train reward in one epoch: 0.00000\n",
    "    Avg test reward in one epoch: 0.08800\n",
    "    Total train reward in one epoch: 0.00000\n",
    "    Test reward: 0.00000\n",
    "    Greedy: 0.28620\n",
    "    Buffer: 100000\n",
    "| 323/2000 [01:03<05:07,  5.46it/s]\n",
    "    /// Result\n",
    "    Average train error: 0.04198\n",
    "    Avg train reward in one epoch: 0.02477\n",
    "    Avg test reward in one epoch: 0.03406\n",
    "    Total train reward in one epoch: 8.00000\n",
    "    Test reward: 8.00000\n",
    "    Greedy: 0.28649\n",
    "    Buffer: 100000\n",
    "| 262/2000 [00:53<05:17,  5.47it/s]\n",
    "    /// Result\n",
    "    Average train error: 0.03976\n",
    "    Avg train reward in one epoch: 0.02672\n",
    "    Avg test reward in one epoch: 0.01908\n",
    "    Total train reward in one epoch: 7.00000\n",
    "    Test reward: 7.00000\n",
    "    Greedy: 0.28672\n",
    "    Buffer: 100000\n",
    "epoch 1615 avg loss:0.0402 train_total_reward:3.000 test_total_reward:7.000 e-greedy:0.28692:  11%| | 219/2000 [00:47<05:23,  5.51it/s]\n",
    "    /// Result\n",
    "    Average train error: 0.04022\n",
    "    Avg train reward in one epoch: 0.01370\n",
    "    Avg test reward in one epoch: 0.03196\n",
    "    Total train reward in one epoch: 3.00000\n",
    "    Test reward: 3.00000\n",
    "    Greedy: 0.28692\n",
    "    Buffer: 100000\n",
    "epoch 1616 avg loss:0.0391 train_total_reward:3.000 test_total_reward:11.000 e-greedy:0.28713:  11%| | 229/2000 [00:46<05:21,  5.52it/s]\n",
    "    /// Result\n",
    "    Average train error: 0.03912\n",
    "    Avg train reward in one epoch: 0.01310\n",
    "    Avg test reward in one epoch: 0.04803\n",
    "    Total train reward in one epoch: 3.00000\n",
    "    Test reward: 3.00000\n",
    "    Greedy: 0.28713\n",
    "    Buffer: 100000\n",
    "| 268/2000 [00:51<05:12,  5.54it/s]\n",
    "    /// Result\n",
    "    Average train error: 0.03959\n",
    "    Avg train reward in one epoch: 0.02612\n",
    "    Avg test reward in one epoch: 0.04104\n",
    "    Total train reward in one epoch: 7.00000\n",
    "    Test reward: 7.00000\n",
    "    Greedy: 0.28737\n",
    "    Buffer: 100000\n",
    "epoch 1618 avg loss:0.0383 train_total_reward:3.000 test_total_reward:11.000 e-greedy:0.28758:  12%| | 235/2000 [00:45<05:21,  5.49it/s]\n",
    "    /// Result\n",
    "    Average train error: 0.03826\n",
    "    Avg train reward in one epoch: 0.01277\n",
    "    Avg test reward in one epoch: 0.04681\n",
    "    Total train reward in one epoch: 3.00000\n",
    "    Test reward: 3.00000\n",
    "    Greedy: 0.28758\n",
    "    Buffer: 100000\n",
    "| 265/2000 [00:50<05:15,  5.51it/s]\n",
    "    /// Result\n",
    "    Average train error: 0.04158\n",
    "    Avg train reward in one epoch: 0.01509\n",
    "    Avg test reward in one epoch: 0.04151\n",
    "    Total train reward in one epoch: 4.00000\n",
    "    Test reward: 4.00000\n",
    "    Greedy: 0.28782\n",
    "    Buffer: 100000\n",
    "| 462/2000 [01:31<04:38,  5.52it/s]\n",
    "    /// Result\n",
    "    Average train error: 0.03880\n",
    "    Avg train reward in one epoch: 0.01732\n",
    "    Avg test reward in one epoch: 0.00649\n",
    "    Total train reward in one epoch: 8.00000\n",
    "    Test reward: 8.00000\n",
    "    Greedy: 0.28823\n",
    "    Buffer: 100000\n",
    "| 261/2000 [00:49<05:15,  5.51it/s]\n",
    "    /// Result\n",
    "    Average train error: 0.04077\n",
    "    Avg train reward in one epoch: 0.02682\n",
    "    Avg test reward in one epoch: 0.04215\n",
    "    Total train reward in one epoch: 7.00000\n",
    "    Test reward: 7.00000\n",
    "    Greedy: 0.28847\n",
    "    Buffer: 100000\n",
    "epoch 1622 avg loss:0.0440 train_total_reward:3.000 test_total_reward:11.000 e-greedy:0.28869:  12%| | 245/2000 [00:47<05:16,  5.55it/s]\n",
    "    /// Result\n",
    "    Average train error: 0.04397\n",
    "    Avg train reward in one epoch: 0.01224\n",
    "    Avg test reward in one epoch: 0.04490\n",
    "    Total train reward in one epoch: 3.00000\n",
    "    Test reward: 3.00000\n",
    "    Greedy: 0.28869\n",
    "    Buffer: 100000\n",
    "epoch 1623 avg loss:0.0440 train_total_reward:2.000 test_total_reward:11.000 e-greedy:0.28886:  10%| | 191/2000 [00:38<05:30,  5.48it/s]\n",
    "    /// Result\n",
    "    Average train error: 0.04397\n",
    "    Avg train reward in one epoch: 0.01047\n",
    "    Avg test reward in one epoch: 0.05759\n",
    "    Total train reward in one epoch: 2.00000\n",
    "    Test reward: 2.00000\n",
    "    Greedy: 0.28886\n",
    "    Buffer: 100000\n",
    "| 306/2000 [00:59<05:05,  5.55it/s]\n",
    "    /// Result\n",
    "    Average train error: 0.03893\n",
    "    Avg train reward in one epoch: 0.01634\n",
    "    Avg test reward in one epoch: 0.03595\n",
    "    Total train reward in one epoch: 5.00000\n",
    "    Test reward: 5.00000\n",
    "    Greedy: 0.28914\n",
    "    Buffer: 100000\n",
    "| 302/2000 [01:00<05:06,  5.55it/s]\n",
    "    /// Result\n",
    "    Average train error: 0.03990\n",
    "    Avg train reward in one epoch: 0.01656\n",
    "    Avg test reward in one epoch: 0.03642\n",
    "    Total train reward in one epoch: 5.00000\n",
    "    Test reward: 5.00000\n",
    "    Greedy: 0.28941\n",
    "    Buffer: 100000\n",
    "| 371/2000 [01:12<04:51,  5.58it/s]\n",
    "    /// Result\n",
    "    Average train error: 0.04301\n",
    "    Avg train reward in one epoch: 0.02426\n",
    "    Avg test reward in one epoch: 0.02965\n",
    "    Total train reward in one epoch: 9.00000\n",
    "    Test reward: 9.00000\n",
    "    Greedy: 0.28974\n",
    "    Buffer: 100000\n",
    "epoch 1627 avg loss:0.0415 train_total_reward:2.000 test_total_reward:11.000 e-greedy:0.28991:   9%| | 187/2000 [00:38<05:23,  5.61it/s]\n",
    "    /// Result\n",
    "    Average train error: 0.04152\n",
    "    Avg train reward in one epoch: 0.01070\n",
    "    Avg test reward in one epoch: 0.05882\n",
    "    Total train reward in one epoch: 2.00000\n",
    "    Test reward: 2.00000\n",
    "    Greedy: 0.28991\n",
    "    Buffer: 100000\n",
    "| 266/2000 [00:53<05:13,  5.52it/s]\n",
    "    /// Result\n",
    "    Average train error: 0.04317\n",
    "    Avg train reward in one epoch: 0.02632\n",
    "    Avg test reward in one epoch: 0.04135\n",
    "    Total train reward in one epoch: 7.00000\n",
    "    Test reward: 7.00000\n",
    "    Greedy: 0.29015\n",
    "    Buffer: 100000\n",
    "epoch 1629 avg loss:0.0417 train_total_reward:3.000 test_total_reward:11.000 e-greedy:0.29035:  11%| | 221/2000 [00:45<05:19,  5.57it/s]\n",
    "    /// Result\n",
    "    Average train error: 0.04166\n",
    "    Avg train reward in one epoch: 0.01357\n",
    "    Avg test reward in one epoch: 0.04977\n",
    "    Total train reward in one epoch: 3.00000\n",
    "    Test reward: 3.00000\n",
    "    Greedy: 0.29035\n",
    "    Buffer: 100000\n",
    "epoch 1630 avg loss:0.0406 train_total_reward:2.000 test_total_reward:11.000 e-greedy:0.29055:  11%| | 223/2000 [00:45<05:19,  5.56it/s]\n",
    "    /// Result\n",
    "    Average train error: 0.04057\n",
    "    Avg train reward in one epoch: 0.00897\n",
    "    Avg test reward in one epoch: 0.04933\n",
    "    Total train reward in one epoch: 2.00000\n",
    "    Test reward: 2.00000\n",
    "    Greedy: 0.29055\n",
    "    Buffer: 100000\n",
    "| 351/2000 [01:06<04:59,  5.51it/s]\n",
    "    /// Result\n",
    "    Average train error: 0.04182\n",
    "    Avg train reward in one epoch: 0.01709\n",
    "    Avg test reward in one epoch: 0.03134\n",
    "    Total train reward in one epoch: 6.00000\n",
    "    Test reward: 6.00000\n",
    "    Greedy: 0.29087\n",
    "    Buffer: 100000\n",
    "epoch 1632 avg loss:0.0402 train_total_reward:2.000 test_total_reward:11.000 e-greedy:0.29104:  10%| | 198/2000 [00:41<05:27,  5.50it/s]\n",
    "    /// Result\n",
    "    Average train error: 0.04023\n",
    "    Avg train reward in one epoch: 0.01010\n",
    "    Avg test reward in one epoch: 0.05556\n",
    "    Total train reward in one epoch: 2.00000\n",
    "    Test reward: 2.00000\n",
    "    Greedy: 0.29104\n",
    "    Buffer: 100000\n",
    "| 357/2000 [01:11<04:59,  5.48it/s]\n",
    "    /// Result\n",
    "    Average train error: 0.03830\n",
    "    Avg train reward in one epoch: 0.01681\n",
    "    Avg test reward in one epoch: 0.03081\n",
    "    Total train reward in one epoch: 6.00000\n",
    "    Test reward: 6.00000\n",
    "    Greedy: 0.29137\n",
    "    Buffer: 100000\n",
    "| 264/2000 [00:54<05:14,  5.51it/s]\n",
    "    /// Result\n",
    "    Average train error: 0.04023\n",
    "    Avg train reward in one epoch: 0.02652\n",
    "    Avg test reward in one epoch: 0.03409\n",
    "    Total train reward in one epoch: 7.00000\n",
    "    Test reward: 7.00000\n",
    "    Greedy: 0.29160\n",
    "    Buffer: 100000\n",
    "epoch 1635 avg loss:0.0391 train_total_reward:3.000 test_total_reward:8.000 e-greedy:0.29180:  11%| | 219/2000 [00:46<05:20,  5.55it/s]\n",
    "    /// Result\n",
    "    Average train error: 0.03909\n",
    "    Avg train reward in one epoch: 0.01370\n",
    "    Avg test reward in one epoch: 0.03653\n",
    "    Total train reward in one epoch: 3.00000\n",
    "    Test reward: 3.00000\n",
    "    Greedy: 0.29180\n",
    "    Buffer: 100000\n",
    "epoch 1636 avg loss:0.0393 train_total_reward:3.000 test_total_reward:11.000 e-greedy:0.29202:  12%| | 243/2000 [00:48<05:18,  5.51it/s]\n",
    "    /// Result\n",
    "    Average train error: 0.03932\n",
    "    Avg train reward in one epoch: 0.01235\n",
    "    Avg test reward in one epoch: 0.04527\n",
    "    Total train reward in one epoch: 3.00000\n",
    "    Test reward: 3.00000\n",
    "    Greedy: 0.29202\n",
    "    Buffer: 100000\n",
    "epoch 1637 avg loss:0.0430 train_total_reward:2.000 test_total_reward:11.000 e-greedy:0.29220:  10%| | 202/2000 [00:42<05:26,  5.51it/s]\n",
    "    /// Result\n",
    "    Average train error: 0.04298\n",
    "    Avg train reward in one epoch: 0.00990\n",
    "    Avg test reward in one epoch: 0.05446\n",
    "    Total train reward in one epoch: 2.00000\n",
    "    Test reward: 2.00000\n",
    "    Greedy: 0.29220\n",
    "    Buffer: 100000\n",
    "| 355/2000 [01:08<04:55,  5.57it/s]\n",
    "    /// Result\n",
    "    Average train error: 0.04365\n",
    "    Avg train reward in one epoch: 0.02535\n",
    "    Avg test reward in one epoch: 0.03099\n",
    "    Total train reward in one epoch: 9.00000\n",
    "    Test reward: 9.00000\n",
    "    Greedy: 0.29252\n",
    "    Buffer: 100000\n",
    "epoch 1639 avg loss:0.0424 train_total_reward:3.000 test_total_reward:11.000 e-greedy:0.29273:  12%| | 236/2000 [00:45<05:16,  5.57it/s]\n",
    "    /// Result\n",
    "    Average train error: 0.04235\n",
    "    Avg train reward in one epoch: 0.01271\n",
    "    Avg test reward in one epoch: 0.04661\n",
    "    Total train reward in one epoch: 3.00000\n",
    "    Test reward: 3.00000\n",
    "    Greedy: 0.29273\n",
    "    Buffer: 100000\n",
    "| 325/2000 [01:05<05:03,  5.51it/s]\n",
    "    /// Result\n",
    "    Average train error: 0.03940\n",
    "    Avg train reward in one epoch: 0.01538\n",
    "    Avg test reward in one epoch: 0.03385\n",
    "    Total train reward in one epoch: 5.00000\n",
    "    Test reward: 5.00000\n",
    "    Greedy: 0.29303\n",
    "    Buffer: 100000\n",
    "| 276/2000 [00:57<05:11,  5.53it/s]\n",
    "    /// Result\n",
    "    Average train error: 0.03915\n",
    "    Avg train reward in one epoch: 0.01449\n",
    "    Avg test reward in one epoch: 0.02536\n",
    "    Total train reward in one epoch: 4.00000\n",
    "    Test reward: 4.00000\n",
    "    Greedy: 0.29327\n",
    "    Buffer: 100000\n",
    "epoch 1642 avg loss:0.0398 train_total_reward:3.000 test_total_reward:11.000 e-greedy:0.29348:  11%| | 228/2000 [00:46<05:15,  5.62it/s]\n",
    "    /// Result\n",
    "    Average train error: 0.03979\n",
    "    Avg train reward in one epoch: 0.01316\n",
    "    Avg test reward in one epoch: 0.04825\n",
    "    Total train reward in one epoch: 3.00000\n",
    "    Test reward: 3.00000\n",
    "    Greedy: 0.29348\n",
    "    Buffer: 100000\n",
    "| 375/2000 [01:15<04:50,  5.59it/s]\n",
    "    /// Result\n",
    "    Average train error: 0.04162\n",
    "    Avg train reward in one epoch: 0.02133\n",
    "    Avg test reward in one epoch: 0.01867\n",
    "    Total train reward in one epoch: 8.00000\n",
    "    Test reward: 8.00000\n",
    "    Greedy: 0.29382\n",
    "    Buffer: 100000\n",
    "epoch 1644 avg loss:0.0415 train_total_reward:3.000 test_total_reward:11.000 e-greedy:0.29403:  12%| | 240/2000 [00:49<05:22,  5.45it/s]\n",
    "    /// Result\n",
    "    Average train error: 0.04151\n",
    "    Avg train reward in one epoch: 0.01250\n",
    "    Avg test reward in one epoch: 0.04583\n",
    "    Total train reward in one epoch: 3.00000\n",
    "    Test reward: 3.00000\n",
    "    Greedy: 0.29403\n",
    "    Buffer: 100000\n",
    "| 555/2000 [01:47<04:26,  5.42it/s]\n",
    "    /// Result\n",
    "    Average train error: 0.04018\n",
    "    Avg train reward in one epoch: 0.02342\n",
    "    Avg test reward in one epoch: 0.01622\n",
    "    Total train reward in one epoch: 13.00000\n",
    "    Test reward: 13.00000\n",
    "    Greedy: 0.29453\n",
    "    Buffer: 100000\n",
    "| 276/2000 [00:54<05:13,  5.50it/s]\n",
    "    /// Result\n",
    "    Average train error: 0.04120\n",
    "    Avg train reward in one epoch: 0.01449\n",
    "    Avg test reward in one epoch: 0.03986\n",
    "    Total train reward in one epoch: 4.00000\n",
    "    Test reward: 4.00000\n",
    "    Greedy: 0.29478\n",
    "    Buffer: 100000\n",
    "| 261/2000 [00:52<05:13,  5.55it/s]\n",
    "    /// Result\n",
    "    Average train error: 0.04247\n",
    "    Avg train reward in one epoch: 0.01533\n",
    "    Avg test reward in one epoch: 0.03448\n",
    "    Total train reward in one epoch: 4.00000\n",
    "    Test reward: 4.00000\n",
    "    Greedy: 0.29502\n",
    "    Buffer: 100000\n",
    "| 271/2000 [00:55<05:11,  5.54it/s]\n",
    "    /// Result\n",
    "    Average train error: 0.04579\n",
    "    Avg train reward in one epoch: 0.01476\n",
    "    Avg test reward in one epoch: 0.04059\n",
    "    Total train reward in one epoch: 4.00000\n",
    "    Test reward: 4.00000\n",
    "    Greedy: 0.29526\n",
    "    Buffer: 100000\n",
    "| 376/2000 [01:13<04:53,  5.53it/s]\n",
    "    /// Result\n",
    "    Average train error: 0.04044\n",
    "    Avg train reward in one epoch: 0.01596\n",
    "    Avg test reward in one epoch: 0.02926\n",
    "    Total train reward in one epoch: 6.00000\n",
    "    Test reward: 6.00000\n",
    "    Greedy: 0.29560\n",
    "    Buffer: 100000\n",
    "epoch 1650 avg loss:0.0397 train_total_reward:1.000 test_total_reward:11.000 e-greedy:0.29577:   9%| | 187/2000 [00:39<05:27,  5.53it/s]\n",
    "    /// Result\n",
    "    Average train error: 0.03974\n",
    "    Avg train reward in one epoch: 0.00535\n",
    "    Avg test reward in one epoch: 0.05882\n",
    "    Total train reward in one epoch: 1.00000\n",
    "    Test reward: 1.00000\n",
    "    Greedy: 0.29577\n",
    "    Buffer: 100000\n",
    "epoch 1651 avg loss:0.0407 train_total_reward:3.000 test_total_reward:7.000 e-greedy:0.29598:  12%| | 240/2000 [00:47<05:15,  5.58it/s]\n",
    "    /// Result\n",
    "    Average train error: 0.04069\n",
    "    Avg train reward in one epoch: 0.01250\n",
    "    Avg test reward in one epoch: 0.02917\n",
    "    Total train reward in one epoch: 3.00000\n",
    "    Test reward: 3.00000\n",
    "    Greedy: 0.29598\n",
    "    Buffer: 100000\n",
    "epoch 1652 avg loss:0.0402 train_total_reward:2.000 test_total_reward:9.000 e-greedy:0.29619:  12%| | 230/2000 [00:46<05:22,  5.49it/s]\n",
    "    /// Result\n",
    "    Average train error: 0.04017\n",
    "    Avg train reward in one epoch: 0.00870\n",
    "    Avg test reward in one epoch: 0.03913\n",
    "    Total train reward in one epoch: 2.00000\n",
    "    Test reward: 2.00000\n",
    "    Greedy: 0.29619\n",
    "    Buffer: 100000\n",
    "| 303/2000 [00:59<05:05,  5.56it/s]\n",
    "    /// Result\n",
    "    Average train error: 0.04023\n",
    "    Avg train reward in one epoch: 0.01650\n",
    "    Avg test reward in one epoch: 0.03630\n",
    "    Total train reward in one epoch: 5.00000\n",
    "    Test reward: 5.00000\n",
    "    Greedy: 0.29646\n",
    "    Buffer: 100000\n",
    "epoch 1654 avg loss:0.0396 train_total_reward:2.000 test_total_reward:11.000 e-greedy:0.29664:  10%| | 199/2000 [00:40<05:26,  5.52it/s]\n",
    "    /// Result\n",
    "    Average train error: 0.03959\n",
    "    Avg train reward in one epoch: 0.01005\n",
    "    Avg test reward in one epoch: 0.05528\n",
    "    Total train reward in one epoch: 2.00000\n",
    "    Test reward: 2.00000\n",
    "    Greedy: 0.29664\n",
    "    Buffer: 100000\n",
    "epoch 1655 avg loss:0.0426 train_total_reward:2.000 test_total_reward:11.000 e-greedy:0.29682:  10%| | 194/2000 [00:39<05:27,  5.52it/s]\n",
    "    /// Result\n",
    "    Average train error: 0.04256\n",
    "    Avg train reward in one epoch: 0.01031\n",
    "    Avg test reward in one epoch: 0.05670\n",
    "    Total train reward in one epoch: 2.00000\n",
    "    Test reward: 2.00000\n",
    "    Greedy: 0.29682\n",
    "    Buffer: 100000\n",
    "| 305/2000 [00:59<05:07,  5.51it/s]\n",
    "    /// Result\n",
    "    Average train error: 0.04422\n",
    "    Avg train reward in one epoch: 0.01639\n",
    "    Avg test reward in one epoch: 0.03607\n",
    "    Total train reward in one epoch: 5.00000\n",
    "    Test reward: 5.00000\n",
    "    Greedy: 0.29709\n",
    "    Buffer: 100000\n",
    "| 416/2000 [01:20<04:47,  5.50it/s]\n",
    "    /// Result\n",
    "    Average train error: 0.04077\n",
    "    Avg train reward in one epoch: 0.02404\n",
    "    Avg test reward in one epoch: 0.02644\n",
    "    Total train reward in one epoch: 10.00000\n",
    "    Test reward: 10.00000\n",
    "    Greedy: 0.29746\n",
    "    Buffer: 100000\n",
    "epoch 1658 avg loss:0.0448 train_total_reward:3.000 test_total_reward:11.000 e-greedy:0.29766:  11%| | 222/2000 [00:46<05:20,  5.54it/s]\n",
    "    /// Result\n",
    "    Average train error: 0.04479\n",
    "    Avg train reward in one epoch: 0.01351\n",
    "    Avg test reward in one epoch: 0.04955\n",
    "    Total train reward in one epoch: 3.00000\n",
    "    Test reward: 3.00000\n",
    "    Greedy: 0.29766\n",
    "    Buffer: 100000\n",
    "| 334/2000 [01:06<05:02,  5.51it/s]\n",
    "    /// Result\n",
    "    Average train error: 0.04271\n",
    "    Avg train reward in one epoch: 0.01497\n",
    "    Avg test reward in one epoch: 0.03293\n",
    "    Total train reward in one epoch: 5.00000\n",
    "    Test reward: 5.00000\n",
    "    Greedy: 0.29796\n",
    "    Buffer: 100000\n",
    "epoch 1660 avg loss:0.0393 train_total_reward:2.000 test_total_reward:7.000 e-greedy:0.29814:  10%| | 190/2000 [00:37<05:23,  5.59it/s]\n",
    "    /// Result\n",
    "    Average train error: 0.03932\n",
    "    Avg train reward in one epoch: 0.01053\n",
    "    Avg test reward in one epoch: 0.03684\n",
    "    Total train reward in one epoch: 2.00000\n",
    "    Test reward: 2.00000\n",
    "    Greedy: 0.29814\n",
    "    Buffer: 100000\n",
    "| 382/2000 [01:15<04:55,  5.48it/s]\n",
    "    /// Result\n",
    "    Average train error: 0.04105\n",
    "    Avg train reward in one epoch: 0.01571\n",
    "    Avg test reward in one epoch: 0.02880\n",
    "    Total train reward in one epoch: 6.00000\n",
    "    Test reward: 6.00000\n",
    "    Greedy: 0.29848\n",
    "    Buffer: 100000\n",
    "epoch 1662 avg loss:0.0391 train_total_reward:3.000 test_total_reward:11.000 e-greedy:0.29868:  11%| | 228/2000 [00:46<05:19,  5.54it/s]\n",
    "    /// Result\n",
    "    Average train error: 0.03912\n",
    "    Avg train reward in one epoch: 0.01316\n",
    "    Avg test reward in one epoch: 0.04825\n",
    "    Total train reward in one epoch: 3.00000\n",
    "    Test reward: 3.00000\n",
    "    Greedy: 0.29868\n",
    "    Buffer: 100000\n",
    "| 283/2000 [00:54<05:16,  5.43it/s]\n",
    "    /// Result\n",
    "    Average train error: 0.04266\n",
    "    Avg train reward in one epoch: 0.01413\n",
    "    Avg test reward in one epoch: 0.03887\n",
    "    Total train reward in one epoch: 4.00000\n",
    "    Test reward: 4.00000\n",
    "    Greedy: 0.29894\n",
    "    Buffer: 100000\n",
    "| 284/2000 [00:56<05:14,  5.46it/s]\n",
    "    /// Result\n",
    "    Average train error: 0.04004\n",
    "    Avg train reward in one epoch: 0.01408\n",
    "    Avg test reward in one epoch: 0.03873\n",
    "    Total train reward in one epoch: 4.00000\n",
    "    Test reward: 4.00000\n",
    "    Greedy: 0.29920\n",
    "    Buffer: 100000\n",
    "| 401/2000 [01:17<04:53,  5.44it/s]\n",
    "    /// Result\n",
    "    Average train error: 0.04190\n",
    "    Avg train reward in one epoch: 0.01496\n",
    "    Avg test reward in one epoch: 0.02743\n",
    "    Total train reward in one epoch: 6.00000\n",
    "    Test reward: 6.00000\n",
    "    Greedy: 0.29956\n",
    "    Buffer: 100000\n",
    "epoch 1666 avg loss:0.0414 train_total_reward:2.000 test_total_reward:11.000 e-greedy:0.29975:  11%| | 214/2000 [00:43<05:28,  5.44it/s]\n",
    "    /// Result\n",
    "    Average train error: 0.04143\n",
    "    Avg train reward in one epoch: 0.00935\n",
    "    Avg test reward in one epoch: 0.05140\n",
    "    Total train reward in one epoch: 2.00000\n",
    "    Test reward: 2.00000\n",
    "    Greedy: 0.29975\n",
    "    Buffer: 100000\n",
    "epoch 1667 avg loss:0.0402 train_total_reward:3.000 test_total_reward:11.000 e-greedy:0.29995:  11%| | 222/2000 [00:45<05:22,  5.51it/s]\n",
    "    /// Result\n",
    "    Average train error: 0.04017\n",
    "    Avg train reward in one epoch: 0.01351\n",
    "    Avg test reward in one epoch: 0.04955\n",
    "    Total train reward in one epoch: 3.00000\n",
    "    Test reward: 3.00000\n",
    "    Greedy: 0.29995\n",
    "    Buffer: 100000\n",
    "epoch 1668 avg loss:0.0374 train_total_reward:2.000 test_total_reward:11.000 e-greedy:0.30012:  10%| | 190/2000 [00:39<05:32,  5.45it/s]\n",
    "    /// Result\n",
    "    Average train error: 0.03744\n",
    "    Avg train reward in one epoch: 0.01053\n",
    "    Avg test reward in one epoch: 0.05789\n",
    "    Total train reward in one epoch: 2.00000\n",
    "    Test reward: 2.00000\n",
    "    Greedy: 0.30012\n",
    "    Buffer: 100000\n",
    "| 303/2000 [01:00<05:14,  5.40it/s]\n",
    "    /// Result\n",
    "    Average train error: 0.03740\n",
    "    Avg train reward in one epoch: 0.01650\n",
    "    Avg test reward in one epoch: 0.03630\n",
    "    Total train reward in one epoch: 5.00000\n",
    "    Test reward: 5.00000\n",
    "    Greedy: 0.30039\n",
    "    Buffer: 100000\n",
    "| 284/2000 [00:55<05:16,  5.43it/s]\n",
    "    /// Result\n",
    "    Average train error: 0.03970\n",
    "    Avg train reward in one epoch: 0.01408\n",
    "    Avg test reward in one epoch: 0.03873\n",
    "    Total train reward in one epoch: 4.00000\n",
    "    Test reward: 4.00000\n",
    "    Greedy: 0.30065\n",
    "    Buffer: 100000\n",
    "epoch 1671 avg loss:0.0439 train_total_reward:1.000 test_total_reward:11.000 e-greedy:0.30079:   8%| | 163/2000 [00:32<05:35,  5.48it/s]\n",
    "    /// Result\n",
    "    Average train error: 0.04386\n",
    "    Avg train reward in one epoch: 0.00613\n",
    "    Avg test reward in one epoch: 0.06748\n",
    "    Total train reward in one epoch: 1.00000\n",
    "    Test reward: 1.00000\n",
    "    Greedy: 0.30079\n",
    "    Buffer: 100000\n",
    "| 421/2000 [01:22<04:44,  5.54it/s]\n",
    "    /// Result\n",
    "    Average train error: 0.04009\n",
    "    Avg train reward in one epoch: 0.01663\n",
    "    Avg test reward in one epoch: 0.02613\n",
    "    Total train reward in one epoch: 7.00000\n",
    "    Test reward: 7.00000\n",
    "    Greedy: 0.30117\n",
    "    Buffer: 100000\n",
    "| 287/2000 [00:56<05:13,  5.47it/s]\n",
    "    /// Result\n",
    "    Average train error: 0.04013\n",
    "    Avg train reward in one epoch: 0.01394\n",
    "    Avg test reward in one epoch: 0.03833\n",
    "    Total train reward in one epoch: 4.00000\n",
    "    Test reward: 4.00000\n",
    "    Greedy: 0.30143\n",
    "    Buffer: 100000\n",
    "epoch 1674 avg loss:0.0417 train_total_reward:2.000 test_total_reward:11.000 e-greedy:0.30162:  10%| | 206/2000 [00:42<05:30,  5.43it/s]\n",
    "    /// Result\n",
    "    Average train error: 0.04172\n",
    "    Avg train reward in one epoch: 0.00971\n",
    "    Avg test reward in one epoch: 0.05340\n",
    "    Total train reward in one epoch: 2.00000\n",
    "    Test reward: 2.00000\n",
    "    Greedy: 0.30162\n",
    "    Buffer: 100000\n",
    "epoch 1675 avg loss:0.0419 train_total_reward:2.000 test_total_reward:11.000 e-greedy:0.30180:  10%| | 205/2000 [00:42<05:26,  5.51it/s]\n",
    "    /// Result\n",
    "    Average train error: 0.04191\n",
    "    Avg train reward in one epoch: 0.00976\n",
    "    Avg test reward in one epoch: 0.05366\n",
    "    Total train reward in one epoch: 2.00000\n",
    "    Test reward: 2.00000\n",
    "    Greedy: 0.30180\n",
    "    Buffer: 100000\n",
    "| 267/2000 [00:53<05:16,  5.48it/s]\n",
    "    /// Result\n",
    "    Average train error: 0.04597\n",
    "    Avg train reward in one epoch: 0.01124\n",
    "    Avg test reward in one epoch: 0.04120\n",
    "    Total train reward in one epoch: 3.00000\n",
    "    Test reward: 3.00000\n",
    "    Greedy: 0.30204\n",
    "    Buffer: 100000\n",
    "| 291/2000 [00:59<05:10,  5.50it/s]\n",
    "    /// Result\n",
    "    Average train error: 0.03926\n",
    "    Avg train reward in one epoch: 0.02749\n",
    "    Avg test reward in one epoch: 0.03780\n",
    "    Total train reward in one epoch: 8.00000\n",
    "    Test reward: 8.00000\n",
    "    Greedy: 0.30230\n",
    "    Buffer: 100000\n",
    "| 484/2000 [01:31<04:40,  5.41it/s]\n",
    "    /// Result\n",
    "    Average train error: 0.03919\n",
    "    Avg train reward in one epoch: 0.01860\n",
    "    Avg test reward in one epoch: 0.02273\n",
    "    Total train reward in one epoch: 9.00000\n",
    "    Test reward: 9.00000\n",
    "    Greedy: 0.30274\n",
    "    Buffer: 100000\n",
    "| 302/2000 [00:58<05:12,  5.43it/s]\n",
    "    /// Result\n",
    "    Average train error: 0.04123\n",
    "    Avg train reward in one epoch: 0.01656\n",
    "    Avg test reward in one epoch: 0.03974\n",
    "    Total train reward in one epoch: 5.00000\n",
    "    Test reward: 5.00000\n",
    "    Greedy: 0.30301\n",
    "    Buffer: 100000\n",
    "| 337/2000 [01:05<05:06,  5.43it/s]\n",
    "    /// Result\n",
    "    Average train error: 0.04226\n",
    "    Avg train reward in one epoch: 0.02671\n",
    "    Avg test reward in one epoch: 0.03264\n",
    "    Total train reward in one epoch: 9.00000\n",
    "    Test reward: 9.00000\n",
    "    Greedy: 0.30331\n",
    "    Buffer: 100000\n",
    "| 514/2000 [01:38<04:30,  5.49it/s]\n",
    "    /// Result\n",
    "    Average train error: 0.04366\n",
    "    Avg train reward in one epoch: 0.01751\n",
    "    Avg test reward in one epoch: 0.02140\n",
    "    Total train reward in one epoch: 9.00000\n",
    "    Test reward: 9.00000\n",
    "    Greedy: 0.30378\n",
    "    Buffer: 100000\n",
    "epoch 1682 avg loss:0.0411 train_total_reward:0.000 test_total_reward:3.000 e-greedy:0.30389:   6%| | 130/2000 [00:30<05:37,  5.54it/s]\n",
    "    /// Result\n",
    "    Average train error: 0.04110\n",
    "    Avg train reward in one epoch: 0.00000\n",
    "    Avg test reward in one epoch: 0.02308\n",
    "    Total train reward in one epoch: 0.00000\n",
    "    Test reward: 0.00000\n",
    "    Greedy: 0.30389\n",
    "    Buffer: 100000\n",
    "epoch 1683 avg loss:0.0432 train_total_reward:3.000 test_total_reward:11.000 e-greedy:0.30411:  12%| | 243/2000 [00:47<05:22,  5.45it/s]\n",
    "    /// Result\n",
    "    Average train error: 0.04325\n",
    "    Avg train reward in one epoch: 0.01235\n",
    "    Avg test reward in one epoch: 0.04527\n",
    "    Total train reward in one epoch: 3.00000\n",
    "    Test reward: 3.00000\n",
    "    Greedy: 0.30411\n",
    "    Buffer: 100000\n",
    "| 262/2000 [00:53<05:15,  5.50it/s]\n",
    "    /// Result\n",
    "    Average train error: 0.04042\n",
    "    Avg train reward in one epoch: 0.02672\n",
    "    Avg test reward in one epoch: 0.04198\n",
    "    Total train reward in one epoch: 7.00000\n",
    "    Test reward: 7.00000\n",
    "    Greedy: 0.30435\n",
    "    Buffer: 100000\n",
    "| 334/2000 [01:07<05:01,  5.53it/s]\n",
    "    /// Result\n",
    "    Average train error: 0.03897\n",
    "    Avg train reward in one epoch: 0.01198\n",
    "    Avg test reward in one epoch: 0.03293\n",
    "    Total train reward in one epoch: 4.00000\n",
    "    Test reward: 4.00000\n",
    "    Greedy: 0.30465\n",
    "    Buffer: 100000\n",
    "| 265/2000 [00:53<05:15,  5.50it/s]\n",
    "    /// Result\n",
    "    Average train error: 0.04226\n",
    "    Avg train reward in one epoch: 0.01509\n",
    "    Avg test reward in one epoch: 0.04151\n",
    "    Total train reward in one epoch: 4.00000\n",
    "    Test reward: 4.00000\n",
    "    Greedy: 0.30489\n",
    "    Buffer: 100000\n",
    "| 313/2000 [01:00<05:06,  5.50it/s]\n",
    "    /// Result\n",
    "    Average train error: 0.03990\n",
    "    Avg train reward in one epoch: 0.01597\n",
    "    Avg test reward in one epoch: 0.03514\n",
    "    Total train reward in one epoch: 5.00000\n",
    "    Test reward: 5.00000\n",
    "    Greedy: 0.30517\n",
    "    Buffer: 100000\n",
    "| 269/2000 [00:54<05:14,  5.50it/s]\n",
    "    /// Result\n",
    "    Average train error: 0.04160\n",
    "    Avg train reward in one epoch: 0.00743\n",
    "    Avg test reward in one epoch: 0.01487\n",
    "    Total train reward in one epoch: 2.00000\n",
    "    Test reward: 2.00000\n",
    "    Greedy: 0.30541\n",
    "    Buffer: 100000\n",
    "| 403/2000 [01:17<04:49,  5.51it/s]\n",
    "    /// Result\n",
    "    Average train error: 0.04280\n",
    "    Avg train reward in one epoch: 0.01737\n",
    "    Avg test reward in one epoch: 0.02730\n",
    "    Total train reward in one epoch: 7.00000\n",
    "    Test reward: 7.00000\n",
    "    Greedy: 0.30577\n",
    "    Buffer: 100000\n",
    "| 318/2000 [01:01<05:01,  5.58it/s]\n",
    "    /// Result\n",
    "    Average train error: 0.03807\n",
    "    Avg train reward in one epoch: 0.01572\n",
    "    Avg test reward in one epoch: 0.03459\n",
    "    Total train reward in one epoch: 5.00000\n",
    "    Test reward: 5.00000\n",
    "    Greedy: 0.30606\n",
    "    Buffer: 100000\n",
    "| 281/2000 [00:54<05:09,  5.55it/s]\n",
    "    /// Result\n",
    "    Average train error: 0.04352\n",
    "    Avg train reward in one epoch: 0.02491\n",
    "    Avg test reward in one epoch: 0.03915\n",
    "    Total train reward in one epoch: 7.00000\n",
    "    Test reward: 7.00000\n",
    "    Greedy: 0.30631\n",
    "    Buffer: 100000\n",
    "epoch 1692 avg loss:0.0446 train_total_reward:3.000 test_total_reward:11.000 e-greedy:0.30653:  12%| | 244/2000 [00:48<05:22,  5.44it/s]\n",
    "    /// Result\n",
    "    Average train error: 0.04464\n",
    "    Avg train reward in one epoch: 0.01230\n",
    "    Avg test reward in one epoch: 0.04508\n",
    "    Total train reward in one epoch: 3.00000\n",
    "    Test reward: 3.00000\n",
    "    Greedy: 0.30653\n",
    "    Buffer: 100000\n",
    "| 371/2000 [01:11<04:54,  5.54it/s]\n",
    "    /// Result\n",
    "    Average train error: 0.04075\n",
    "    Avg train reward in one epoch: 0.01617\n",
    "    Avg test reward in one epoch: 0.02965\n",
    "    Total train reward in one epoch: 6.00000\n",
    "    Test reward: 6.00000\n",
    "    Greedy: 0.30687\n",
    "    Buffer: 100000\n",
    "| 317/2000 [01:03<05:05,  5.52it/s]\n",
    "    /// Result\n",
    "    Average train error: 0.04091\n",
    "    Avg train reward in one epoch: 0.01577\n",
    "    Avg test reward in one epoch: 0.03470\n",
    "    Total train reward in one epoch: 5.00000\n",
    "    Test reward: 5.00000\n",
    "    Greedy: 0.30715\n",
    "    Buffer: 100000\n",
    "| 267/2000 [00:51<05:16,  5.48it/s]\n",
    "    /// Result\n",
    "    Average train error: 0.03955\n",
    "    Avg train reward in one epoch: 0.02622\n",
    "    Avg test reward in one epoch: 0.04120\n",
    "    Total train reward in one epoch: 7.00000\n",
    "    Test reward: 7.00000\n",
    "    Greedy: 0.30739\n",
    "    Buffer: 100000\n",
    "| 349/2000 [01:07<05:02,  5.46it/s]\n",
    "    /// Result\n",
    "    Average train error: 0.04152\n",
    "    Avg train reward in one epoch: 0.02579\n",
    "    Avg test reward in one epoch: 0.03152\n",
    "    Total train reward in one epoch: 9.00000\n",
    "    Test reward: 9.00000\n",
    "    Greedy: 0.30771\n",
    "    Buffer: 100000\n",
    "epoch 1697 avg loss:0.0439 train_total_reward:3.000 test_total_reward:11.000 e-greedy:0.30792:  12%| | 239/2000 [00:46<05:22,  5.46it/s]\n",
    "    /// Result\n",
    "    Average train error: 0.04393\n",
    "    Avg train reward in one epoch: 0.01255\n",
    "    Avg test reward in one epoch: 0.04603\n",
    "    Total train reward in one epoch: 3.00000\n",
    "    Test reward: 3.00000\n",
    "    Greedy: 0.30792\n",
    "    Buffer: 100000\n",
    "epoch 1698 avg loss:0.0441 train_total_reward:0.000 test_total_reward:11.000 e-greedy:0.30804:   6%| | 129/2000 [00:28<05:37,  5.54it/s]\n",
    "    /// Result\n",
    "    Average train error: 0.04411\n",
    "    Avg train reward in one epoch: 0.00000\n",
    "    Avg test reward in one epoch: 0.08527\n",
    "    Total train reward in one epoch: 0.00000\n",
    "    Test reward: 0.00000\n",
    "    Greedy: 0.30804\n",
    "    Buffer: 100000\n",
    "| 316/2000 [01:02<05:04,  5.54it/s]\n",
    "    /// Result\n",
    "    Average train error: 0.04239\n",
    "    Avg train reward in one epoch: 0.01582\n",
    "    Avg test reward in one epoch: 0.03481\n",
    "    Total train reward in one epoch: 5.00000\n",
    "    Test reward: 5.00000\n",
    "    Greedy: 0.30832\n",
    "    Buffer: 100000\n",
    "epoch 1700 avg loss:0.0408 train_total_reward:4.000 test_total_reward:11.000 e-greedy:0.30855:  12%| | 248/2000 [00:49<05:19,  5.48it/s]\n",
    "    /// Result\n",
    "    Average train error: 0.04083\n",
    "    Avg train reward in one epoch: 0.01613\n",
    "    Avg test reward in one epoch: 0.04435\n",
    "    Total train reward in one epoch: 4.00000\n",
    "    Test reward: 4.00000\n",
    "    Greedy: 0.30855\n",
    "    Buffer: 100000\n",
    "| 256/2000 [00:50<05:16,  5.51it/s]\n",
    "    /// Result\n",
    "    Average train error: 0.04209\n",
    "    Avg train reward in one epoch: 0.01562\n",
    "    Avg test reward in one epoch: 0.04297\n",
    "    Total train reward in one epoch: 4.00000\n",
    "    Test reward: 4.00000\n",
    "    Greedy: 0.30878\n",
    "    Buffer: 100000\n",
    "epoch 1702 avg loss:0.0437 train_total_reward:1.000 test_total_reward:11.000 e-greedy:0.30893:   9%| | 173/2000 [00:37<05:34,  5.46it/s]\n",
    "    /// Result\n",
    "    Average train error: 0.04374\n",
    "    Avg train reward in one epoch: 0.00578\n",
    "    Avg test reward in one epoch: 0.06358\n",
    "    Total train reward in one epoch: 1.00000\n",
    "    Test reward: 1.00000\n",
    "    Greedy: 0.30893\n",
    "    Buffer: 100000\n",
    "epoch 1703 avg loss:0.0397 train_total_reward:2.000 test_total_reward:11.000 e-greedy:0.30910:   9%| | 185/2000 [00:40<05:27,  5.55it/s]\n",
    "    /// Result\n",
    "    Average train error: 0.03974\n",
    "    Avg train reward in one epoch: 0.01081\n",
    "    Avg test reward in one epoch: 0.05946\n",
    "    Total train reward in one epoch: 2.00000\n",
    "    Test reward: 2.00000\n",
    "    Greedy: 0.30910\n",
    "    Buffer: 100000\n",
    "| 260/2000 [00:50<05:09,  5.61it/s]\n",
    "    /// Result\n",
    "    Average train error: 0.04125\n",
    "    Avg train reward in one epoch: 0.01538\n",
    "    Avg test reward in one epoch: 0.04231\n",
    "    Total train reward in one epoch: 4.00000\n",
    "    Test reward: 4.00000\n",
    "    Greedy: 0.30933\n",
    "    Buffer: 100000\n",
    "| 262/2000 [00:51<05:12,  5.56it/s]\n",
    "    /// Result\n",
    "    Average train error: 0.04301\n",
    "    Avg train reward in one epoch: 0.02672\n",
    "    Avg test reward in one epoch: 0.04198\n",
    "    Total train reward in one epoch: 7.00000\n",
    "    Test reward: 7.00000\n",
    "    Greedy: 0.30957\n",
    "    Buffer: 100000\n",
    "| 254/2000 [00:49<05:11,  5.61it/s]\n",
    "    /// Result\n",
    "    Average train error: 0.04110\n",
    "    Avg train reward in one epoch: 0.01181\n",
    "    Avg test reward in one epoch: 0.04331\n",
    "    Total train reward in one epoch: 3.00000\n",
    "    Test reward: 3.00000\n",
    "    Greedy: 0.30980\n",
    "    Buffer: 100000\n",
    "| 375/2000 [01:11<04:51,  5.57it/s]\n",
    "    /// Result\n",
    "    Average train error: 0.04191\n",
    "    Avg train reward in one epoch: 0.01333\n",
    "    Avg test reward in one epoch: 0.02933\n",
    "    Total train reward in one epoch: 5.00000\n",
    "    Test reward: 5.00000\n",
    "    Greedy: 0.31013\n",
    "    Buffer: 100000\n",
    "| 250/2000 [00:51<05:18,  5.49it/s]\n",
    "    /// Result\n",
    "    Average train error: 0.03984\n",
    "    Avg train reward in one epoch: 0.02800\n",
    "    Avg test reward in one epoch: 0.04400\n",
    "    Total train reward in one epoch: 7.00000\n",
    "    Test reward: 7.00000\n",
    "    Greedy: 0.31036\n",
    "    Buffer: 100000\n",
    "| 367/2000 [01:09<04:55,  5.53it/s]\n",
    "    /// Result\n",
    "    Average train error: 0.04115\n",
    "    Avg train reward in one epoch: 0.02452\n",
    "    Avg test reward in one epoch: 0.02997\n",
    "    Total train reward in one epoch: 9.00000\n",
    "    Test reward: 9.00000\n",
    "    Greedy: 0.31069\n",
    "    Buffer: 100000\n",
    "| 280/2000 [00:54<05:07,  5.59it/s]\n",
    "    /// Result\n",
    "    Average train error: 0.04120\n",
    "    Avg train reward in one epoch: 0.02500\n",
    "    Avg test reward in one epoch: 0.03929\n",
    "    Total train reward in one epoch: 7.00000\n",
    "    Test reward: 7.00000\n",
    "    Greedy: 0.31094\n",
    "    Buffer: 100000\n",
    "| 273/2000 [00:52<05:09,  5.57it/s]\n",
    "    /// Result\n",
    "    Average train error: 0.04164\n",
    "    Avg train reward in one epoch: 0.01465\n",
    "    Avg test reward in one epoch: 0.04029\n",
    "    Total train reward in one epoch: 4.00000\n",
    "    Test reward: 4.00000\n",
    "    Greedy: 0.31119\n",
    "    Buffer: 100000\n",
    "| 305/2000 [00:58<05:08,  5.49it/s]\n",
    "    /// Result\n",
    "    Average train error: 0.04182\n",
    "    Avg train reward in one epoch: 0.01639\n",
    "    Avg test reward in one epoch: 0.03607\n",
    "    Total train reward in one epoch: 5.00000\n",
    "    Test reward: 5.00000\n",
    "    Greedy: 0.31146\n",
    "    Buffer: 100000\n",
    "| 312/2000 [01:00<05:04,  5.55it/s]\n",
    "    /// Result\n",
    "    Average train error: 0.04115\n",
    "    Avg train reward in one epoch: 0.01282\n",
    "    Avg test reward in one epoch: 0.03526\n",
    "    Total train reward in one epoch: 4.00000\n",
    "    Test reward: 4.00000\n",
    "    Greedy: 0.31174\n",
    "    Buffer: 100000\n",
    "| 270/2000 [00:54<05:13,  5.51it/s]\n",
    "    /// Result\n",
    "    Average train error: 0.03990\n",
    "    Avg train reward in one epoch: 0.02593\n",
    "    Avg test reward in one epoch: 0.04074\n",
    "    Total train reward in one epoch: 7.00000\n",
    "    Test reward: 7.00000\n",
    "    Greedy: 0.31199\n",
    "    Buffer: 100000\n",
    "| 370/2000 [01:11<04:52,  5.57it/s]\n",
    "    /// Result\n",
    "    Average train error: 0.04181\n",
    "    Avg train reward in one epoch: 0.01622\n",
    "    Avg test reward in one epoch: 0.02973\n",
    "    Total train reward in one epoch: 6.00000\n",
    "    Test reward: 6.00000\n",
    "    Greedy: 0.31232\n",
    "    Buffer: 100000\n",
    "epoch 1716 avg loss:0.0409 train_total_reward:3.000 test_total_reward:11.000 e-greedy:0.31254:  12%| | 246/2000 [00:48<05:19,  5.48it/s]\n",
    "    /// Result\n",
    "    Average train error: 0.04091\n",
    "    Avg train reward in one epoch: 0.01220\n",
    "    Avg test reward in one epoch: 0.04472\n",
    "    Total train reward in one epoch: 3.00000\n",
    "    Test reward: 3.00000\n",
    "    Greedy: 0.31254\n",
    "    Buffer: 100000\n",
    "| 326/2000 [01:05<05:02,  5.53it/s]\n",
    "    /// Result\n",
    "    Average train error: 0.04112\n",
    "    Avg train reward in one epoch: 0.01534\n",
    "    Avg test reward in one epoch: 0.03374\n",
    "    Total train reward in one epoch: 5.00000\n",
    "    Test reward: 5.00000\n",
    "    Greedy: 0.31283\n",
    "    Buffer: 100000\n",
    "| 361/2000 [01:08<04:56,  5.53it/s]\n",
    "    /// Result\n",
    "    Average train error: 0.04084\n",
    "    Avg train reward in one epoch: 0.01662\n",
    "    Avg test reward in one epoch: 0.03047\n",
    "    Total train reward in one epoch: 6.00000\n",
    "    Test reward: 6.00000\n",
    "    Greedy: 0.31316\n",
    "    Buffer: 100000\n",
    "epoch 1719 avg loss:0.0428 train_total_reward:3.000 test_total_reward:11.000 e-greedy:0.31335:  11%| | 213/2000 [00:42<05:28,  5.44it/s]\n",
    "    /// Result\n",
    "    Average train error: 0.04283\n",
    "    Avg train reward in one epoch: 0.01408\n",
    "    Avg test reward in one epoch: 0.05164\n",
    "    Total train reward in one epoch: 3.00000\n",
    "    Test reward: 3.00000\n",
    "    Greedy: 0.31335\n",
    "    Buffer: 100000\n",
    "epoch 1720 avg loss:0.0453 train_total_reward:2.000 test_total_reward:11.000 e-greedy:0.31356:  12%| | 237/2000 [00:48<05:20,  5.50it/s]\n",
    "    /// Result\n",
    "    Average train error: 0.04530\n",
    "    Avg train reward in one epoch: 0.00844\n",
    "    Avg test reward in one epoch: 0.04641\n",
    "    Total train reward in one epoch: 2.00000\n",
    "    Test reward: 2.00000\n",
    "    Greedy: 0.31356\n",
    "    Buffer: 100000\n",
    "epoch 1721 avg loss:0.0424 train_total_reward:3.000 test_total_reward:8.000 e-greedy:0.31377:  11%| | 228/2000 [00:44<05:41,  5.18it/s]\n",
    "    /// Result\n",
    "    Average train error: 0.04239\n",
    "    Avg train reward in one epoch: 0.01316\n",
    "    Avg test reward in one epoch: 0.03509\n",
    "    Total train reward in one epoch: 3.00000\n",
    "    Test reward: 3.00000\n",
    "    Greedy: 0.31377\n",
    "    Buffer: 100000\n",
    "| 321/2000 [01:01<05:05,  5.49it/s]\n",
    "    /// Result\n",
    "    Average train error: 0.04344\n",
    "    Avg train reward in one epoch: 0.01246\n",
    "    Avg test reward in one epoch: 0.03427\n",
    "    Total train reward in one epoch: 4.00000\n",
    "    Test reward: 4.00000\n",
    "    Greedy: 0.31406\n",
    "    Buffer: 100000\n",
    "epoch 1723 avg loss:0.0429 train_total_reward:2.000 test_total_reward:11.000 e-greedy:0.31423:   9%| | 187/2000 [00:40<05:26,  5.55it/s]\n",
    "    /// Result\n",
    "    Average train error: 0.04287\n",
    "    Avg train reward in one epoch: 0.01070\n",
    "    Avg test reward in one epoch: 0.05882\n",
    "    Total train reward in one epoch: 2.00000\n",
    "    Test reward: 2.00000\n",
    "    Greedy: 0.31423\n",
    "    Buffer: 100000\n",
    "| 333/2000 [01:06<05:05,  5.46it/s]\n",
    "    /// Result\n",
    "    Average train error: 0.04418\n",
    "    Avg train reward in one epoch: 0.01502\n",
    "    Avg test reward in one epoch: 0.03303\n",
    "    Total train reward in one epoch: 5.00000\n",
    "    Test reward: 5.00000\n",
    "    Greedy: 0.31452\n",
    "    Buffer: 100000\n",
    "| 252/2000 [00:49<05:20,  5.46it/s]\n",
    "    /// Result\n",
    "    Average train error: 0.04383\n",
    "    Avg train reward in one epoch: 0.01587\n",
    "    Avg test reward in one epoch: 0.04365\n",
    "    Total train reward in one epoch: 4.00000\n",
    "    Test reward: 4.00000\n",
    "    Greedy: 0.31475\n",
    "    Buffer: 100000\n",
    "| 265/2000 [00:53<05:15,  5.50it/s]\n",
    "    /// Result\n",
    "    Average train error: 0.04233\n",
    "    Avg train reward in one epoch: 0.01509\n",
    "    Avg test reward in one epoch: 0.04151\n",
    "    Total train reward in one epoch: 4.00000\n",
    "    Test reward: 4.00000\n",
    "    Greedy: 0.31499\n",
    "    Buffer: 100000\n",
    "| 279/2000 [00:53<05:11,  5.53it/s]\n",
    "    /// Result\n",
    "    Average train error: 0.04321\n",
    "    Avg train reward in one epoch: 0.01075\n",
    "    Avg test reward in one epoch: 0.03943\n",
    "    Total train reward in one epoch: 3.00000\n",
    "    Test reward: 3.00000\n",
    "    Greedy: 0.31524\n",
    "    Buffer: 100000\n",
    "| 256/2000 [00:51<05:15,  5.53it/s]\n",
    "    /// Result\n",
    "    Average train error: 0.04146\n",
    "    Avg train reward in one epoch: 0.01562\n",
    "    Avg test reward in one epoch: 0.04297\n",
    "    Total train reward in one epoch: 4.00000\n",
    "    Test reward: 4.00000\n",
    "    Greedy: 0.31547\n",
    "    Buffer: 100000\n",
    "| 278/2000 [00:55<05:11,  5.53it/s]\n",
    "    /// Result\n",
    "    Average train error: 0.04518\n",
    "    Avg train reward in one epoch: 0.01439\n",
    "    Avg test reward in one epoch: 0.02518\n",
    "    Total train reward in one epoch: 4.00000\n",
    "    Test reward: 4.00000\n",
    "    Greedy: 0.31572\n",
    "    Buffer: 100000\n",
    "epoch 1730 avg loss:0.0389 train_total_reward:1.000 test_total_reward:11.000 e-greedy:0.31586:   8%| | 156/2000 [00:33<05:39,  5.43it/s]\n",
    "    /// Result\n",
    "    Average train error: 0.03894\n",
    "    Avg train reward in one epoch: 0.00641\n",
    "    Avg test reward in one epoch: 0.07051\n",
    "    Total train reward in one epoch: 1.00000\n",
    "    Test reward: 1.00000\n",
    "    Greedy: 0.31586\n",
    "    Buffer: 100000\n",
    "epoch 1731 avg loss:0.0460 train_total_reward:2.000 test_total_reward:11.000 e-greedy:0.31604:  10%| | 200/2000 [00:41<05:28,  5.48it/s]\n",
    "    /// Result\n",
    "    Average train error: 0.04598\n",
    "    Avg train reward in one epoch: 0.01000\n",
    "    Avg test reward in one epoch: 0.05500\n",
    "    Total train reward in one epoch: 2.00000\n",
    "    Test reward: 2.00000\n",
    "    Greedy: 0.31604\n",
    "    Buffer: 100000\n",
    "| 273/2000 [00:53<05:14,  5.48it/s]\n",
    "    /// Result\n",
    "    Average train error: 0.04296\n",
    "    Avg train reward in one epoch: 0.02564\n",
    "    Avg test reward in one epoch: 0.04029\n",
    "    Total train reward in one epoch: 7.00000\n",
    "    Test reward: 7.00000\n",
    "    Greedy: 0.31629\n",
    "    Buffer: 100000\n",
    "| 389/2000 [01:16<04:53,  5.48it/s]\n",
    "    /// Result\n",
    "    Average train error: 0.04438\n",
    "    Avg train reward in one epoch: 0.01799\n",
    "    Avg test reward in one epoch: 0.02314\n",
    "    Total train reward in one epoch: 7.00000\n",
    "    Test reward: 7.00000\n",
    "    Greedy: 0.31664\n",
    "    Buffer: 100000\n",
    "epoch 1734 avg loss:0.0415 train_total_reward:3.000 test_total_reward:11.000 e-greedy:0.31685:  12%| | 241/2000 [00:47<05:17,  5.54it/s]\n",
    "    /// Result\n",
    "    Average train error: 0.04154\n",
    "    Avg train reward in one epoch: 0.01245\n",
    "    Avg test reward in one epoch: 0.04564\n",
    "    Total train reward in one epoch: 3.00000\n",
    "    Test reward: 3.00000\n",
    "    Greedy: 0.31685\n",
    "    Buffer: 100000\n",
    "| 266/2000 [00:53<05:15,  5.50it/s]\n",
    "    /// Result\n",
    "    Average train error: 0.04338\n",
    "    Avg train reward in one epoch: 0.02632\n",
    "    Avg test reward in one epoch: 0.03008\n",
    "    Total train reward in one epoch: 7.00000\n",
    "    Test reward: 7.00000\n",
    "    Greedy: 0.31709\n",
    "    Buffer: 100000\n",
    "epoch 1736 avg loss:0.0457 train_total_reward:1.000 test_total_reward:11.000 e-greedy:0.31726:   9%| | 185/2000 [00:38<05:27,  5.55it/s]\n",
    "    /// Result\n",
    "    Average train error: 0.04575\n",
    "    Avg train reward in one epoch: 0.00541\n",
    "    Avg test reward in one epoch: 0.05946\n",
    "    Total train reward in one epoch: 1.00000\n",
    "    Test reward: 1.00000\n",
    "    Greedy: 0.31726\n",
    "    Buffer: 100000\n",
    "| 396/2000 [01:16<04:52,  5.49it/s]\n",
    "    /// Result\n",
    "    Average train error: 0.03862\n",
    "    Avg train reward in one epoch: 0.01768\n",
    "    Avg test reward in one epoch: 0.02778\n",
    "    Total train reward in one epoch: 7.00000\n",
    "    Test reward: 7.00000\n",
    "    Greedy: 0.31762\n",
    "    Buffer: 100000\n",
    "| 347/2000 [01:07<05:02,  5.47it/s]\n",
    "    /// Result\n",
    "    Average train error: 0.04021\n",
    "    Avg train reward in one epoch: 0.01441\n",
    "    Avg test reward in one epoch: 0.03170\n",
    "    Total train reward in one epoch: 5.00000\n",
    "    Test reward: 5.00000\n",
    "    Greedy: 0.31793\n",
    "    Buffer: 100000\n",
    "epoch 1739 avg loss:0.0437 train_total_reward:1.000 test_total_reward:4.000 e-greedy:0.31808:   8%| | 167/2000 [00:35<05:30,  5.54it/s]\n",
    "    /// Result\n",
    "    Average train error: 0.04374\n",
    "    Avg train reward in one epoch: 0.00599\n",
    "    Avg test reward in one epoch: 0.02395\n",
    "    Total train reward in one epoch: 1.00000\n",
    "    Test reward: 1.00000\n",
    "    Greedy: 0.31808\n",
    "    Buffer: 100000\n",
    "| 299/2000 [00:58<05:10,  5.47it/s]\n",
    "    /// Result\n",
    "    Average train error: 0.03946\n",
    "    Avg train reward in one epoch: 0.03679\n",
    "    Avg test reward in one epoch: 0.03679\n",
    "    Total train reward in one epoch: 11.00000\n",
    "    Test reward: 11.00000\n",
    "    Greedy: 0.31835\n",
    "    Buffer: 100000\n",
    "| 296/2000 [00:57<05:09,  5.51it/s]\n",
    "    /// Result\n",
    "    Average train error: 0.03952\n",
    "    Avg train reward in one epoch: 0.03716\n",
    "    Avg test reward in one epoch: 0.03716\n",
    "    Total train reward in one epoch: 11.00000\n",
    "    Test reward: 11.00000\n",
    "    Greedy: 0.31862\n",
    "    Buffer: 100000\n",
    "| 258/2000 [00:51<05:16,  5.50it/s]\n",
    "    /// Result\n",
    "    Average train error: 0.04329\n",
    "    Avg train reward in one epoch: 0.02713\n",
    "    Avg test reward in one epoch: 0.04264\n",
    "    Total train reward in one epoch: 7.00000\n",
    "    Test reward: 7.00000\n",
    "    Greedy: 0.31885\n",
    "    Buffer: 100000\n",
    "| 291/2000 [00:56<05:07,  5.56it/s]\n",
    "    /// Result\n",
    "    Average train error: 0.04278\n",
    "    Avg train reward in one epoch: 0.01375\n",
    "    Avg test reward in one epoch: 0.03780\n",
    "    Total train reward in one epoch: 4.00000\n",
    "    Test reward: 4.00000\n",
    "    Greedy: 0.31911\n",
    "    Buffer: 100000\n",
    "| 250/2000 [00:51<05:13,  5.59it/s]\n",
    "    /// Result\n",
    "    Average train error: 0.04462\n",
    "    Avg train reward in one epoch: 0.01200\n",
    "    Avg test reward in one epoch: 0.04400\n",
    "    Total train reward in one epoch: 3.00000\n",
    "    Test reward: 3.00000\n",
    "    Greedy: 0.31933\n",
    "    Buffer: 100000\n",
    "| 447/2000 [01:24<04:42,  5.50it/s]\n",
    "    /// Result\n",
    "    Average train error: 0.04282\n",
    "    Avg train reward in one epoch: 0.01790\n",
    "    Avg test reward in one epoch: 0.02461\n",
    "    Total train reward in one epoch: 8.00000\n",
    "    Test reward: 8.00000\n",
    "    Greedy: 0.31974\n",
    "    Buffer: 100000\n",
    "| 275/2000 [00:55<05:16,  5.45it/s]\n",
    "    /// Result\n",
    "    Average train error: 0.04446\n",
    "    Avg train reward in one epoch: 0.01455\n",
    "    Avg test reward in one epoch: 0.03273\n",
    "    Total train reward in one epoch: 4.00000\n",
    "    Test reward: 4.00000\n",
    "    Greedy: 0.31998\n",
    "    Buffer: 100000\n",
    "| 283/2000 [00:55<05:11,  5.51it/s]\n",
    "    /// Result\n",
    "    Average train error: 0.04402\n",
    "    Avg train reward in one epoch: 0.01413\n",
    "    Avg test reward in one epoch: 0.03887\n",
    "    Total train reward in one epoch: 4.00000\n",
    "    Test reward: 4.00000\n",
    "    Greedy: 0.32024\n",
    "    Buffer: 100000\n",
    "| 394/2000 [01:14<04:50,  5.52it/s]\n",
    "    /// Result\n",
    "    Average train error: 0.04260\n",
    "    Avg train reward in one epoch: 0.01523\n",
    "    Avg test reward in one epoch: 0.02792\n",
    "    Total train reward in one epoch: 6.00000\n",
    "    Test reward: 6.00000\n",
    "    Greedy: 0.32059\n",
    "    Buffer: 100000\n",
    "epoch 1749 avg loss:0.0434 train_total_reward:1.000 test_total_reward:11.000 e-greedy:0.32073:   8%| | 156/2000 [00:32<05:34,  5.51it/s]\n",
    "    /// Result\n",
    "    Average train error: 0.04339\n",
    "    Avg train reward in one epoch: 0.00641\n",
    "    Avg test reward in one epoch: 0.07051\n",
    "    Total train reward in one epoch: 1.00000\n",
    "    Test reward: 1.00000\n",
    "    Greedy: 0.32073\n",
    "    Buffer: 100000\n",
    "epoch 1750 avg loss:0.0464 train_total_reward:2.000 test_total_reward:11.000 e-greedy:0.32092:  10%| | 207/2000 [00:41<05:25,  5.50it/s]\n",
    "    /// Result\n",
    "    Average train error: 0.04642\n",
    "    Avg train reward in one epoch: 0.00966\n",
    "    Avg test reward in one epoch: 0.05314\n",
    "    Total train reward in one epoch: 2.00000\n",
    "    Test reward: 2.00000\n",
    "    Greedy: 0.32092\n",
    "    Buffer: 100000\n",
    "| 263/2000 [00:53<05:16,  5.49it/s]\n",
    "    /// Result\n",
    "    Average train error: 0.04248\n",
    "    Avg train reward in one epoch: 0.01141\n",
    "    Avg test reward in one epoch: 0.04183\n",
    "    Total train reward in one epoch: 3.00000\n",
    "    Test reward: 3.00000\n",
    "    Greedy: 0.32116\n",
    "    Buffer: 100000\n",
    "epoch 1752 avg loss:0.0459 train_total_reward:3.000 test_total_reward:11.000 e-greedy:0.32136:  12%| | 230/2000 [00:45<05:18,  5.56it/s]\n",
    "    /// Result\n",
    "    Average train error: 0.04593\n",
    "    Avg train reward in one epoch: 0.01304\n",
    "    Avg test reward in one epoch: 0.04783\n",
    "    Total train reward in one epoch: 3.00000\n",
    "    Test reward: 3.00000\n",
    "    Greedy: 0.32136\n",
    "    Buffer: 100000\n",
    "| 286/2000 [00:57<05:08,  5.56it/s]\n",
    "    /// Result\n",
    "    Average train error: 0.04123\n",
    "    Avg train reward in one epoch: 0.01399\n",
    "    Avg test reward in one epoch: 0.03846\n",
    "    Total train reward in one epoch: 4.00000\n",
    "    Test reward: 4.00000\n",
    "    Greedy: 0.32162\n",
    "    Buffer: 100000\n",
    "epoch 1754 avg loss:0.0410 train_total_reward:2.000 test_total_reward:11.000 e-greedy:0.32180:  10%| | 198/2000 [00:41<05:27,  5.50it/s]\n",
    "    /// Result\n",
    "    Average train error: 0.04104\n",
    "    Avg train reward in one epoch: 0.01010\n",
    "    Avg test reward in one epoch: 0.05556\n",
    "    Total train reward in one epoch: 2.00000\n",
    "    Test reward: 2.00000\n",
    "    Greedy: 0.32180\n",
    "    Buffer: 100000\n",
    "| 280/2000 [00:55<05:08,  5.57it/s]\n",
    "    /// Result\n",
    "    Average train error: 0.04419\n",
    "    Avg train reward in one epoch: 0.01429\n",
    "    Avg test reward in one epoch: 0.03929\n",
    "    Total train reward in one epoch: 4.00000\n",
    "    Test reward: 4.00000\n",
    "    Greedy: 0.32205\n",
    "    Buffer: 100000\n",
    "| 255/2000 [00:51<05:20,  5.45it/s]\n",
    "    /// Result\n",
    "    Average train error: 0.04290\n",
    "    Avg train reward in one epoch: 0.01569\n",
    "    Avg test reward in one epoch: 0.02745\n",
    "    Total train reward in one epoch: 4.00000\n",
    "    Test reward: 4.00000\n",
    "    Greedy: 0.32228\n",
    "    Buffer: 100000\n",
    "epoch 1757 avg loss:0.0433 train_total_reward:3.000 test_total_reward:11.000 e-greedy:0.32249:  12%| | 237/2000 [00:46<05:21,  5.49it/s]\n",
    "    /// Result\n",
    "    Average train error: 0.04326\n",
    "    Avg train reward in one epoch: 0.01266\n",
    "    Avg test reward in one epoch: 0.04641\n",
    "    Total train reward in one epoch: 3.00000\n",
    "    Test reward: 3.00000\n",
    "    Greedy: 0.32249\n",
    "    Buffer: 100000\n",
    "| 324/2000 [01:01<05:03,  5.52it/s]\n",
    "    /// Result\n",
    "    Average train error: 0.04378\n",
    "    Avg train reward in one epoch: 0.01543\n",
    "    Avg test reward in one epoch: 0.03395\n",
    "    Total train reward in one epoch: 5.00000\n",
    "    Test reward: 5.00000\n",
    "    Greedy: 0.32279\n",
    "    Buffer: 100000\n",
    "| 253/2000 [00:49<05:17,  5.49it/s]\n",
    "    /// Result\n",
    "    Average train error: 0.04369\n",
    "    Avg train reward in one epoch: 0.01186\n",
    "    Avg test reward in one epoch: 0.04348\n",
    "    Total train reward in one epoch: 3.00000\n",
    "    Test reward: 3.00000\n",
    "    Greedy: 0.32301\n",
    "    Buffer: 100000\n",
    "epoch 1760 avg loss:0.0411 train_total_reward:3.000 test_total_reward:11.000 e-greedy:0.32321:  11%| | 215/2000 [00:42<05:25,  5.48it/s]\n",
    "    /// Result\n",
    "    Average train error: 0.04110\n",
    "    Avg train reward in one epoch: 0.01395\n",
    "    Avg test reward in one epoch: 0.05116\n",
    "    Total train reward in one epoch: 3.00000\n",
    "    Test reward: 3.00000\n",
    "    Greedy: 0.32321\n",
    "    Buffer: 100000\n",
    "epoch 1761 avg loss:0.0404 train_total_reward:3.000 test_total_reward:7.000 e-greedy:0.32341:  11%| | 228/2000 [00:46<05:22,  5.49it/s]\n",
    "    /// Result\n",
    "    Average train error: 0.04040\n",
    "    Avg train reward in one epoch: 0.01316\n",
    "    Avg test reward in one epoch: 0.03070\n",
    "    Total train reward in one epoch: 3.00000\n",
    "    Test reward: 3.00000\n",
    "    Greedy: 0.32341\n",
    "    Buffer: 100000\n",
    "epoch 1762 avg loss:0.0396 train_total_reward:1.000 test_total_reward:11.000 e-greedy:0.32358:   9%| | 188/2000 [00:39<05:29,  5.50it/s]\n",
    "    /// Result\n",
    "    Average train error: 0.03961\n",
    "    Avg train reward in one epoch: 0.00532\n",
    "    Avg test reward in one epoch: 0.05851\n",
    "    Total train reward in one epoch: 1.00000\n",
    "    Test reward: 1.00000\n",
    "    Greedy: 0.32358\n",
    "    Buffer: 100000\n",
    "| 318/2000 [01:03<05:05,  5.50it/s]\n",
    "    /// Result\n",
    "    Average train error: 0.04508\n",
    "    Avg train reward in one epoch: 0.01572\n",
    "    Avg test reward in one epoch: 0.02830\n",
    "    Total train reward in one epoch: 5.00000\n",
    "    Test reward: 5.00000\n",
    "    Greedy: 0.32387\n",
    "    Buffer: 100000\n",
    "epoch 1764 avg loss:0.0431 train_total_reward:3.000 test_total_reward:11.000 e-greedy:0.32407:  11%| | 222/2000 [00:43<05:25,  5.47it/s]\n",
    "    /// Result\n",
    "    Average train error: 0.04314\n",
    "    Avg train reward in one epoch: 0.01351\n",
    "    Avg test reward in one epoch: 0.04955\n",
    "    Total train reward in one epoch: 3.00000\n",
    "    Test reward: 3.00000\n",
    "    Greedy: 0.32407\n",
    "    Buffer: 100000\n",
    "| 445/2000 [01:25<04:44,  5.47it/s]\n",
    "    /// Result\n",
    "    Average train error: 0.04219\n",
    "    Avg train reward in one epoch: 0.02472\n",
    "    Avg test reward in one epoch: 0.02697\n",
    "    Total train reward in one epoch: 11.00000\n",
    "    Test reward: 11.00000\n",
    "    Greedy: 0.32447\n",
    "    Buffer: 100000\n",
    "| 355/2000 [01:07<04:59,  5.50it/s]\n",
    "    /// Result\n",
    "    Average train error: 0.04217\n",
    "    Avg train reward in one epoch: 0.01690\n",
    "    Avg test reward in one epoch: 0.03099\n",
    "    Total train reward in one epoch: 6.00000\n",
    "    Test reward: 6.00000\n",
    "    Greedy: 0.32479\n",
    "    Buffer: 100000\n",
    "epoch 1767 avg loss:0.0406 train_total_reward:3.000 test_total_reward:11.000 e-greedy:0.32499:  11%| | 224/2000 [00:45<05:25,  5.46it/s]\n",
    "    /// Result\n",
    "    Average train error: 0.04062\n",
    "    Avg train reward in one epoch: 0.01339\n",
    "    Avg test reward in one epoch: 0.04911\n",
    "    Total train reward in one epoch: 3.00000\n",
    "    Test reward: 3.00000\n",
    "    Greedy: 0.32499\n",
    "    Buffer: 100000\n",
    "| 268/2000 [00:54<05:14,  5.51it/s]\n",
    "    /// Result\n",
    "    Average train error: 0.04025\n",
    "    Avg train reward in one epoch: 0.01493\n",
    "    Avg test reward in one epoch: 0.04104\n",
    "    Total train reward in one epoch: 4.00000\n",
    "    Test reward: 4.00000\n",
    "    Greedy: 0.32523\n",
    "    Buffer: 100000\n",
    "epoch 1769 avg loss:0.0448 train_total_reward:0.000 test_total_reward:11.000 e-greedy:0.32535:   7%| | 134/2000 [00:28<05:37,  5.53it/s]\n",
    "    /// Result\n",
    "    Average train error: 0.04483\n",
    "    Avg train reward in one epoch: 0.00000\n",
    "    Avg test reward in one epoch: 0.08209\n",
    "    Total train reward in one epoch: 0.00000\n",
    "    Test reward: 0.00000\n",
    "    Greedy: 0.32535\n",
    "    Buffer: 100000\n",
    "epoch 1770 avg loss:0.0435 train_total_reward:3.000 test_total_reward:12.000 e-greedy:0.32555:  11%| | 221/2000 [00:47<05:26,  5.45it/s]\n",
    "    /// Result\n",
    "    Average train error: 0.04351\n",
    "    Avg train reward in one epoch: 0.01357\n",
    "    Avg test reward in one epoch: 0.05430\n",
    "    Total train reward in one epoch: 3.00000\n",
    "    Test reward: 3.00000\n",
    "    Greedy: 0.32555\n",
    "    Buffer: 100000\n",
    "| 265/2000 [00:53<05:19,  5.43it/s]\n",
    "    /// Result\n",
    "    Average train error: 0.04233\n",
    "    Avg train reward in one epoch: 0.01509\n",
    "    Avg test reward in one epoch: 0.04151\n",
    "    Total train reward in one epoch: 4.00000\n",
    "    Test reward: 4.00000\n",
    "    Greedy: 0.32579\n",
    "    Buffer: 100000\n",
    "| 275/2000 [00:57<05:18,  5.41it/s]\n",
    "    /// Result\n",
    "    Average train error: 0.04129\n",
    "    Avg train reward in one epoch: 0.01455\n",
    "    Avg test reward in one epoch: 0.02545\n",
    "    Total train reward in one epoch: 4.00000\n",
    "    Test reward: 4.00000\n",
    "    Greedy: 0.32604\n",
    "    Buffer: 100000\n",
    "| 265/2000 [00:54<05:19,  5.43it/s]\n",
    "    /// Result\n",
    "    Average train error: 0.04222\n",
    "    Avg train reward in one epoch: 0.02642\n",
    "    Avg test reward in one epoch: 0.04151\n",
    "    Total train reward in one epoch: 7.00000\n",
    "    Test reward: 7.00000\n",
    "    Greedy: 0.32627\n",
    "    Buffer: 100000\n",
    "| 289/2000 [00:56<05:18,  5.38it/s]\n",
    "    /// Result\n",
    "    Average train error: 0.04187\n",
    "    Avg train reward in one epoch: 0.01384\n",
    "    Avg test reward in one epoch: 0.03806\n",
    "    Total train reward in one epoch: 4.00000\n",
    "    Test reward: 4.00000\n",
    "    Greedy: 0.32653\n",
    "    Buffer: 100000\n",
    "| 276/2000 [00:54<05:15,  5.47it/s]\n",
    "    /// Result\n",
    "    Average train error: 0.03912\n",
    "    Avg train reward in one epoch: 0.01449\n",
    "    Avg test reward in one epoch: 0.03261\n",
    "    Total train reward in one epoch: 4.00000\n",
    "    Test reward: 4.00000\n",
    "    Greedy: 0.32678\n",
    "    Buffer: 100000\n",
    "| 294/2000 [00:56<05:12,  5.47it/s]\n",
    "    /// Result\n",
    "    Average train error: 0.04177\n",
    "    Avg train reward in one epoch: 0.02721\n",
    "    Avg test reward in one epoch: 0.03741\n",
    "    Total train reward in one epoch: 8.00000\n",
    "    Test reward: 8.00000\n",
    "    Greedy: 0.32705\n",
    "    Buffer: 100000\n",
    "| 291/2000 [00:57<05:10,  5.51it/s]\n",
    "    /// Result\n",
    "    Average train error: 0.04298\n",
    "    Avg train reward in one epoch: 0.01375\n",
    "    Avg test reward in one epoch: 0.03780\n",
    "    Total train reward in one epoch: 4.00000\n",
    "    Test reward: 4.00000\n",
    "    Greedy: 0.32731\n",
    "    Buffer: 100000\n",
    "epoch 1778 avg loss:0.0424 train_total_reward:3.000 test_total_reward:11.000 e-greedy:0.32752:  12%| | 235/2000 [00:47<05:19,  5.52it/s]\n",
    "    /// Result\n",
    "    Average train error: 0.04242\n",
    "    Avg train reward in one epoch: 0.01277\n",
    "    Avg test reward in one epoch: 0.04681\n",
    "    Total train reward in one epoch: 3.00000\n",
    "    Test reward: 3.00000\n",
    "    Greedy: 0.32752\n",
    "    Buffer: 100000\n",
    "| 411/2000 [01:17<04:50,  5.48it/s]\n",
    "    /// Result\n",
    "    Average train error: 0.04234\n",
    "    Avg train reward in one epoch: 0.02433\n",
    "    Avg test reward in one epoch: 0.02676\n",
    "    Total train reward in one epoch: 10.00000\n",
    "    Test reward: 10.00000\n",
    "    Greedy: 0.32789\n",
    "    Buffer: 100000\n",
    "| 310/2000 [01:02<05:13,  5.38it/s]\n",
    "    /// Result\n",
    "    Average train error: 0.04562\n",
    "    Avg train reward in one epoch: 0.01613\n",
    "    Avg test reward in one epoch: 0.03548\n",
    "    Total train reward in one epoch: 5.00000\n",
    "    Test reward: 5.00000\n",
    "    Greedy: 0.32817\n",
    "    Buffer: 100000\n",
    "epoch 1781 avg loss:0.0420 train_total_reward:3.000 test_total_reward:11.000 e-greedy:0.32837:  11%| | 219/2000 [00:45<05:30,  5.39it/s]\n",
    "    /// Result\n",
    "    Average train error: 0.04204\n",
    "    Avg train reward in one epoch: 0.01370\n",
    "    Avg test reward in one epoch: 0.05023\n",
    "    Total train reward in one epoch: 3.00000\n",
    "    Test reward: 3.00000\n",
    "    Greedy: 0.32837\n",
    "    Buffer: 100000\n",
    "epoch 1782 avg loss:0.0438 train_total_reward:3.000 test_total_reward:11.000 e-greedy:0.32858:  12%| | 242/2000 [00:49<05:21,  5.46it/s]\n",
    "    /// Result\n",
    "    Average train error: 0.04377\n",
    "    Avg train reward in one epoch: 0.01240\n",
    "    Avg test reward in one epoch: 0.04545\n",
    "    Total train reward in one epoch: 3.00000\n",
    "    Test reward: 3.00000\n",
    "    Greedy: 0.32858\n",
    "    Buffer: 100000\n",
    "epoch 1783 avg loss:0.0415 train_total_reward:2.000 test_total_reward:11.000 e-greedy:0.32877:  11%| | 211/2000 [00:43<05:29,  5.42it/s]\n",
    "    /// Result\n",
    "    Average train error: 0.04154\n",
    "    Avg train reward in one epoch: 0.00948\n",
    "    Avg test reward in one epoch: 0.05213\n",
    "    Total train reward in one epoch: 2.00000\n",
    "    Test reward: 2.00000\n",
    "    Greedy: 0.32877\n",
    "    Buffer: 100000\n",
    "epoch 1784 avg loss:0.0412 train_total_reward:1.000 test_total_reward:11.000 e-greedy:0.32893:   8%| | 168/2000 [00:35<05:34,  5.48it/s]\n",
    "    /// Result\n",
    "    Average train error: 0.04120\n",
    "    Avg train reward in one epoch: 0.00595\n",
    "    Avg test reward in one epoch: 0.06548\n",
    "    Total train reward in one epoch: 1.00000\n",
    "    Test reward: 1.00000\n",
    "    Greedy: 0.32893\n",
    "    Buffer: 100000\n",
    "| 333/2000 [01:04<05:01,  5.53it/s]\n",
    "    /// Result\n",
    "    Average train error: 0.04350\n",
    "    Avg train reward in one epoch: 0.02703\n",
    "    Avg test reward in one epoch: 0.03303\n",
    "    Total train reward in one epoch: 9.00000\n",
    "    Test reward: 9.00000\n",
    "    Greedy: 0.32923\n",
    "    Buffer: 100000\n",
    "| 280/2000 [00:54<05:18,  5.40it/s]\n",
    "    /// Result\n",
    "    Average train error: 0.04256\n",
    "    Avg train reward in one epoch: 0.02500\n",
    "    Avg test reward in one epoch: 0.03929\n",
    "    Total train reward in one epoch: 7.00000\n",
    "    Test reward: 7.00000\n",
    "    Greedy: 0.32948\n",
    "    Buffer: 100000\n",
    "| 390/2000 [01:18<04:58,  5.39it/s]\n",
    "    /// Result\n",
    "    Average train error: 0.04082\n",
    "    Avg train reward in one epoch: 0.01538\n",
    "    Avg test reward in one epoch: 0.02821\n",
    "    Total train reward in one epoch: 6.00000\n",
    "    Test reward: 6.00000\n",
    "    Greedy: 0.32983\n",
    "    Buffer: 100000\n",
    "| 366/2000 [01:11<04:58,  5.47it/s]\n",
    "    /// Result\n",
    "    Average train error: 0.04074\n",
    "    Avg train reward in one epoch: 0.02459\n",
    "    Avg test reward in one epoch: 0.03005\n",
    "    Total train reward in one epoch: 9.00000\n",
    "    Test reward: 9.00000\n",
    "    Greedy: 0.33016\n",
    "    Buffer: 100000\n",
    "| 261/2000 [00:52<05:16,  5.50it/s]\n",
    "    /// Result\n",
    "    Average train error: 0.04174\n",
    "    Avg train reward in one epoch: 0.01533\n",
    "    Avg test reward in one epoch: 0.03065\n",
    "    Total train reward in one epoch: 4.00000\n",
    "    Test reward: 4.00000\n",
    "    Greedy: 0.33039\n",
    "    Buffer: 100000\n",
    "| 280/2000 [00:57<05:15,  5.45it/s]\n",
    "    /// Result\n",
    "    Average train error: 0.04259\n",
    "    Avg train reward in one epoch: 0.02500\n",
    "    Avg test reward in one epoch: 0.03929\n",
    "    Total train reward in one epoch: 7.00000\n",
    "    Test reward: 7.00000\n",
    "    Greedy: 0.33064\n",
    "    Buffer: 100000\n",
    "| 276/2000 [00:55<05:18,  5.41it/s]\n",
    "    /// Result\n",
    "    Average train error: 0.03921\n",
    "    Avg train reward in one epoch: 0.01449\n",
    "    Avg test reward in one epoch: 0.03986\n",
    "    Total train reward in one epoch: 4.00000\n",
    "    Test reward: 4.00000\n",
    "    Greedy: 0.33089\n",
    "    Buffer: 100000\n",
    "| 280/2000 [00:56<05:13,  5.49it/s]\n",
    "    /// Result\n",
    "    Average train error: 0.04517\n",
    "    Avg train reward in one epoch: 0.01429\n",
    "    Avg test reward in one epoch: 0.03929\n",
    "    Total train reward in one epoch: 4.00000\n",
    "    Test reward: 4.00000\n",
    "    Greedy: 0.33115\n",
    "    Buffer: 100000\n",
    "epoch 1793 avg loss:0.0422 train_total_reward:0.000 test_total_reward:11.000 e-greedy:0.33126:   6%| | 125/2000 [00:28<05:41,  5.49it/s]\n",
    "    /// Result\n",
    "    Average train error: 0.04217\n",
    "    Avg train reward in one epoch: 0.00000\n",
    "    Avg test reward in one epoch: 0.08800\n",
    "    Total train reward in one epoch: 0.00000\n",
    "    Test reward: 0.00000\n",
    "    Greedy: 0.33126\n",
    "    Buffer: 100000\n",
    "| 250/2000 [00:51<05:37,  5.19it/s]\n",
    "    /// Result\n",
    "    Average train error: 0.04152\n",
    "    Avg train reward in one epoch: 0.01200\n",
    "    Avg test reward in one epoch: 0.04400\n",
    "    Total train reward in one epoch: 3.00000\n",
    "    Test reward: 3.00000\n",
    "    Greedy: 0.33148\n",
    "    Buffer: 100000\n",
    "epoch 1795 avg loss:0.0407 train_total_reward:3.000 test_total_reward:11.000 e-greedy:0.33170:  12%| | 243/2000 [00:48<05:23,  5.43it/s]\n",
    "    /// Result\n",
    "    Average train error: 0.04067\n",
    "    Avg train reward in one epoch: 0.01235\n",
    "    Avg test reward in one epoch: 0.04527\n",
    "    Total train reward in one epoch: 3.00000\n",
    "    Test reward: 3.00000\n",
    "    Greedy: 0.33170\n",
    "    Buffer: 100000\n",
    "epoch 1796 avg loss:0.0431 train_total_reward:3.000 test_total_reward:11.000 e-greedy:0.33190:  11%| | 219/2000 [00:43<05:26,  5.45it/s]\n",
    "    /// Result\n",
    "    Average train error: 0.04310\n",
    "    Avg train reward in one epoch: 0.01370\n",
    "    Avg test reward in one epoch: 0.05023\n",
    "    Total train reward in one epoch: 3.00000\n",
    "    Test reward: 3.00000\n",
    "    Greedy: 0.33190\n",
    "    Buffer: 100000\n",
    "epoch 1797 avg loss:0.0456 train_total_reward:2.000 test_total_reward:11.000 e-greedy:0.33208:  10%| | 201/2000 [00:41<05:28,  5.48it/s]\n",
    "    /// Result\n",
    "    Average train error: 0.04556\n",
    "    Avg train reward in one epoch: 0.00995\n",
    "    Avg test reward in one epoch: 0.05473\n",
    "    Total train reward in one epoch: 2.00000\n",
    "    Test reward: 2.00000\n",
    "    Greedy: 0.33208\n",
    "    Buffer: 100000\n",
    "| 279/2000 [00:54<05:11,  5.52it/s]\n",
    "    /// Result\n",
    "    Average train error: 0.04366\n",
    "    Avg train reward in one epoch: 0.02509\n",
    "    Avg test reward in one epoch: 0.03943\n",
    "    Total train reward in one epoch: 7.00000\n",
    "    Test reward: 7.00000\n",
    "    Greedy: 0.33233\n",
    "    Buffer: 100000\n",
    "| 403/2000 [01:18<04:52,  5.46it/s]\n",
    "    /// Result\n",
    "    Average train error: 0.04367\n",
    "    Avg train reward in one epoch: 0.01489\n",
    "    Avg test reward in one epoch: 0.02730\n",
    "    Total train reward in one epoch: 6.00000\n",
    "    Test reward: 6.00000\n",
    "    Greedy: 0.33269\n",
    "    Buffer: 100000\n",
    "| 413/2000 [01:20<04:52,  5.43it/s]\n",
    "    /// Result\n",
    "    Average train error: 0.04119\n",
    "    Avg train reward in one epoch: 0.01937\n",
    "    Avg test reward in one epoch: 0.02663\n",
    "    Total train reward in one epoch: 8.00000\n",
    "    Test reward: 8.00000\n",
    "    Greedy: 0.33306\n",
    "    Buffer: 100000\n",
    "| 267/2000 [00:54<05:16,  5.47it/s]\n",
    "    /// Result\n",
    "    Average train error: 0.04155\n",
    "    Avg train reward in one epoch: 0.02622\n",
    "    Avg test reward in one epoch: 0.04120\n",
    "    Total train reward in one epoch: 7.00000\n",
    "    Test reward: 7.00000\n",
    "    Greedy: 0.33331\n",
    "    Buffer: 100000\n",
    "epoch 1802 avg loss:0.0430 train_total_reward:2.000 test_total_reward:11.000 e-greedy:0.33348:  10%| | 193/2000 [00:40<05:30,  5.47it/s]\n",
    "    /// Result\n",
    "    Average train error: 0.04302\n",
    "    Avg train reward in one epoch: 0.01036\n",
    "    Avg test reward in one epoch: 0.05699\n",
    "    Total train reward in one epoch: 2.00000\n",
    "    Test reward: 2.00000\n",
    "    Greedy: 0.33348\n",
    "    Buffer: 100000\n",
    "epoch 1803 avg loss:0.0429 train_total_reward:2.000 test_total_reward:11.000 e-greedy:0.33368:  11%| | 224/2000 [00:44<05:26,  5.44it/s]\n",
    "    /// Result\n",
    "    Average train error: 0.04286\n",
    "    Avg train reward in one epoch: 0.00893\n",
    "    Avg test reward in one epoch: 0.04911\n",
    "    Total train reward in one epoch: 2.00000\n",
    "    Test reward: 2.00000\n",
    "    Greedy: 0.33368\n",
    "    Buffer: 100000\n",
    "| 263/2000 [00:54<05:20,  5.43it/s]\n",
    "    /// Result\n",
    "    Average train error: 0.04404\n",
    "    Avg train reward in one epoch: 0.01521\n",
    "    Avg test reward in one epoch: 0.04183\n",
    "    Total train reward in one epoch: 4.00000\n",
    "    Test reward: 4.00000\n",
    "    Greedy: 0.33392\n",
    "    Buffer: 100000\n",
    "epoch 1805 avg loss:0.0423 train_total_reward:3.000 test_total_reward:11.000 e-greedy:0.33412:  11%| | 223/2000 [00:45<05:21,  5.53it/s]\n",
    "    /// Result\n",
    "    Average train error: 0.04231\n",
    "    Avg train reward in one epoch: 0.01345\n",
    "    Avg test reward in one epoch: 0.04933\n",
    "    Total train reward in one epoch: 3.00000\n",
    "    Test reward: 3.00000\n",
    "    Greedy: 0.33412\n",
    "    Buffer: 100000\n",
    "| 300/2000 [00:58<05:11,  5.45it/s]\n",
    "    /// Result\n",
    "    Average train error: 0.04206\n",
    "    Avg train reward in one epoch: 0.01333\n",
    "    Avg test reward in one epoch: 0.03667\n",
    "    Total train reward in one epoch: 4.00000\n",
    "    Test reward: 4.00000\n",
    "    Greedy: 0.33439\n",
    "    Buffer: 100000\n",
    "| 302/2000 [00:59<05:11,  5.45it/s]\n",
    "    /// Result\n",
    "    Average train error: 0.04468\n",
    "    Avg train reward in one epoch: 0.02649\n",
    "    Avg test reward in one epoch: 0.03642\n",
    "    Total train reward in one epoch: 8.00000\n",
    "    Test reward: 8.00000\n",
    "    Greedy: 0.33466\n",
    "    Buffer: 100000\n",
    "epoch 1808 avg loss:0.0451 train_total_reward:3.000 test_total_reward:11.000 e-greedy:0.33488:  12%| | 240/2000 [00:48<05:22,  5.46it/s]\n",
    "    /// Result\n",
    "    Average train error: 0.04513\n",
    "    Avg train reward in one epoch: 0.01250\n",
    "    Avg test reward in one epoch: 0.04583\n",
    "    Total train reward in one epoch: 3.00000\n",
    "    Test reward: 3.00000\n",
    "    Greedy: 0.33488\n",
    "    Buffer: 100000\n",
    "| 279/2000 [00:55<05:15,  5.45it/s]\n",
    "    /// Result\n",
    "    Average train error: 0.04329\n",
    "    Avg train reward in one epoch: 0.01434\n",
    "    Avg test reward in one epoch: 0.03943\n",
    "    Total train reward in one epoch: 4.00000\n",
    "    Test reward: 4.00000\n",
    "    Greedy: 0.33513\n",
    "    Buffer: 100000\n",
    "| 310/2000 [00:59<05:09,  5.45it/s]\n",
    "    /// Result\n",
    "    Average train error: 0.04218\n",
    "    Avg train reward in one epoch: 0.01613\n",
    "    Avg test reward in one epoch: 0.03548\n",
    "    Total train reward in one epoch: 5.00000\n",
    "    Test reward: 5.00000\n",
    "    Greedy: 0.33541\n",
    "    Buffer: 100000\n",
    "| 300/2000 [01:01<05:11,  5.45it/s]\n",
    "    /// Result\n",
    "    Average train error: 0.04114\n",
    "    Avg train reward in one epoch: 0.02667\n",
    "    Avg test reward in one epoch: 0.03667\n",
    "    Total train reward in one epoch: 8.00000\n",
    "    Test reward: 8.00000\n",
    "    Greedy: 0.33568\n",
    "    Buffer: 100000\n",
    "| 387/2000 [01:14<04:52,  5.51it/s]\n",
    "    /// Result\n",
    "    Average train error: 0.04498\n",
    "    Avg train reward in one epoch: 0.01809\n",
    "    Avg test reward in one epoch: 0.02842\n",
    "    Total train reward in one epoch: 7.00000\n",
    "    Test reward: 7.00000\n",
    "    Greedy: 0.33602\n",
    "    Buffer: 100000\n",
    "| 370/2000 [01:13<04:53,  5.55it/s]\n",
    "    /// Result\n",
    "    Average train error: 0.04041\n",
    "    Avg train reward in one epoch: 0.01622\n",
    "    Avg test reward in one epoch: 0.02973\n",
    "    Total train reward in one epoch: 6.00000\n",
    "    Test reward: 6.00000\n",
    "    Greedy: 0.33636\n",
    "    Buffer: 100000\n",
    "| 315/2000 [01:02<05:10,  5.43it/s]\n",
    "    /// Result\n",
    "    Average train error: 0.04116\n",
    "    Avg train reward in one epoch: 0.01587\n",
    "    Avg test reward in one epoch: 0.03492\n",
    "    Total train reward in one epoch: 5.00000\n",
    "    Test reward: 5.00000\n",
    "    Greedy: 0.33664\n",
    "    Buffer: 100000\n",
    "| 305/2000 [01:00<05:01,  5.62it/s]\n",
    "    /// Result\n",
    "    Average train error: 0.04320\n",
    "    Avg train reward in one epoch: 0.01639\n",
    "    Avg test reward in one epoch: 0.03607\n",
    "    Total train reward in one epoch: 5.00000\n",
    "    Test reward: 5.00000\n",
    "    Greedy: 0.33692\n",
    "    Buffer: 100000\n",
    "| 277/2000 [00:53<05:12,  5.52it/s]\n",
    "    /// Result\n",
    "    Average train error: 0.04418\n",
    "    Avg train reward in one epoch: 0.01444\n",
    "    Avg test reward in one epoch: 0.03971\n",
    "    Total train reward in one epoch: 4.00000\n",
    "    Test reward: 4.00000\n",
    "    Greedy: 0.33716\n",
    "    Buffer: 100000\n",
    "| 251/2000 [00:50<05:12,  5.60it/s]\n",
    "    /// Result\n",
    "    Average train error: 0.04368\n",
    "    Avg train reward in one epoch: 0.01195\n",
    "    Avg test reward in one epoch: 0.04382\n",
    "    Total train reward in one epoch: 3.00000\n",
    "    Test reward: 3.00000\n",
    "    Greedy: 0.33739\n",
    "    Buffer: 100000\n",
    "| 320/2000 [01:04<05:00,  5.59it/s]\n",
    "    /// Result\n",
    "    Average train error: 0.04334\n",
    "    Avg train reward in one epoch: 0.01562\n",
    "    Avg test reward in one epoch: 0.03438\n",
    "    Total train reward in one epoch: 5.00000\n",
    "    Test reward: 5.00000\n",
    "    Greedy: 0.33768\n",
    "    Buffer: 100000\n",
    "epoch 1819 avg loss:0.0399 train_total_reward:2.000 test_total_reward:11.000 e-greedy:0.33786:  10%| | 198/2000 [00:40<05:21,  5.60it/s]\n",
    "    /// Result\n",
    "    Average train error: 0.03988\n",
    "    Avg train reward in one epoch: 0.01010\n",
    "    Avg test reward in one epoch: 0.05556\n",
    "    Total train reward in one epoch: 2.00000\n",
    "    Test reward: 2.00000\n",
    "    Greedy: 0.33786\n",
    "    Buffer: 100000\n",
    "| 293/2000 [00:57<05:08,  5.53it/s]\n",
    "    /// Result\n",
    "    Average train error: 0.04212\n",
    "    Avg train reward in one epoch: 0.01365\n",
    "    Avg test reward in one epoch: 0.03754\n",
    "    Total train reward in one epoch: 4.00000\n",
    "    Test reward: 4.00000\n",
    "    Greedy: 0.33812\n",
    "    Buffer: 100000\n",
    "epoch 1821 avg loss:0.0469 train_total_reward:3.000 test_total_reward:11.000 e-greedy:0.33833:  12%| | 230/2000 [00:45<05:19,  5.53it/s]\n",
    "    /// Result\n",
    "    Average train error: 0.04694\n",
    "    Avg train reward in one epoch: 0.01304\n",
    "    Avg test reward in one epoch: 0.04783\n",
    "    Total train reward in one epoch: 3.00000\n",
    "    Test reward: 3.00000\n",
    "    Greedy: 0.33833\n",
    "    Buffer: 100000\n",
    "| 276/2000 [00:54<05:10,  5.55it/s]\n",
    "    /// Result\n",
    "    Average train error: 0.04301\n",
    "    Avg train reward in one epoch: 0.01449\n",
    "    Avg test reward in one epoch: 0.03986\n",
    "    Total train reward in one epoch: 4.00000\n",
    "    Test reward: 4.00000\n",
    "    Greedy: 0.33858\n",
    "    Buffer: 100000\n",
    "| 306/2000 [01:01<05:09,  5.48it/s]\n",
    "    /// Result\n",
    "    Average train error: 0.04499\n",
    "    Avg train reward in one epoch: 0.02614\n",
    "    Avg test reward in one epoch: 0.03595\n",
    "    Total train reward in one epoch: 8.00000\n",
    "    Test reward: 8.00000\n",
    "    Greedy: 0.33885\n",
    "    Buffer: 100000\n",
    "| 314/2000 [01:00<05:05,  5.51it/s]\n",
    "    /// Result\n",
    "    Average train error: 0.04177\n",
    "    Avg train reward in one epoch: 0.02548\n",
    "    Avg test reward in one epoch: 0.02229\n",
    "    Total train reward in one epoch: 8.00000\n",
    "    Test reward: 8.00000\n",
    "    Greedy: 0.33913\n",
    "    Buffer: 100000\n",
    "| 296/2000 [00:57<05:08,  5.52it/s]\n",
    "    /// Result\n",
    "    Average train error: 0.04376\n",
    "    Avg train reward in one epoch: 0.03716\n",
    "    Avg test reward in one epoch: 0.02703\n",
    "    Total train reward in one epoch: 11.00000\n",
    "    Test reward: 11.00000\n",
    "    Greedy: 0.33940\n",
    "    Buffer: 100000\n",
    "| 411/2000 [01:18<04:43,  5.60it/s]\n",
    "    /// Result\n",
    "    Average train error: 0.04217\n",
    "    Avg train reward in one epoch: 0.01703\n",
    "    Avg test reward in one epoch: 0.02676\n",
    "    Total train reward in one epoch: 7.00000\n",
    "    Test reward: 7.00000\n",
    "    Greedy: 0.33977\n",
    "    Buffer: 100000\n",
    "| 272/2000 [00:52<05:10,  5.57it/s]\n",
    "    /// Result\n",
    "    Average train error: 0.04049\n",
    "    Avg train reward in one epoch: 0.02574\n",
    "    Avg test reward in one epoch: 0.04044\n",
    "    Total train reward in one epoch: 7.00000\n",
    "    Test reward: 7.00000\n",
    "    Greedy: 0.34001\n",
    "    Buffer: 100000\n",
    "| 352/2000 [01:06<04:58,  5.53it/s]\n",
    "    /// Result\n",
    "    Average train error: 0.04565\n",
    "    Avg train reward in one epoch: 0.01420\n",
    "    Avg test reward in one epoch: 0.03125\n",
    "    Total train reward in one epoch: 5.00000\n",
    "    Test reward: 5.00000\n",
    "    Greedy: 0.34033\n",
    "    Buffer: 100000\n",
    "epoch 1829 avg loss:0.0449 train_total_reward:2.000 test_total_reward:11.000 e-greedy:0.34052:  10%| | 204/2000 [00:43<05:21,  5.59it/s]\n",
    "    /// Result\n",
    "    Average train error: 0.04485\n",
    "    Avg train reward in one epoch: 0.00980\n",
    "    Avg test reward in one epoch: 0.05392\n",
    "    Total train reward in one epoch: 2.00000\n",
    "    Test reward: 2.00000\n",
    "    Greedy: 0.34052\n",
    "    Buffer: 100000\n",
    "| 278/2000 [00:56<05:07,  5.61it/s]\n",
    "    /// Result\n",
    "    Average train error: 0.04387\n",
    "    Avg train reward in one epoch: 0.02518\n",
    "    Avg test reward in one epoch: 0.03957\n",
    "    Total train reward in one epoch: 7.00000\n",
    "    Test reward: 7.00000\n",
    "    Greedy: 0.34077\n",
    "    Buffer: 100000\n",
    "epoch 1831 avg loss:0.0423 train_total_reward:2.000 test_total_reward:4.000 e-greedy:0.34094:  10%| | 192/2000 [00:41<05:29,  5.48it/s]\n",
    "    /// Result\n",
    "    Average train error: 0.04232\n",
    "    Avg train reward in one epoch: 0.01042\n",
    "    Avg test reward in one epoch: 0.02083\n",
    "    Total train reward in one epoch: 2.00000\n",
    "    Test reward: 2.00000\n",
    "    Greedy: 0.34094\n",
    "    Buffer: 100000\n",
    "| 311/2000 [01:02<05:10,  5.43it/s]\n",
    "    /// Result\n",
    "    Average train error: 0.04725\n",
    "    Avg train reward in one epoch: 0.02572\n",
    "    Avg test reward in one epoch: 0.03537\n",
    "    Total train reward in one epoch: 8.00000\n",
    "    Test reward: 8.00000\n",
    "    Greedy: 0.34122\n",
    "    Buffer: 100000\n",
    "| 301/2000 [01:01<05:06,  5.55it/s]\n",
    "    /// Result\n",
    "    Average train error: 0.04205\n",
    "    Avg train reward in one epoch: 0.03654\n",
    "    Avg test reward in one epoch: 0.03654\n",
    "    Total train reward in one epoch: 11.00000\n",
    "    Test reward: 11.00000\n",
    "    Greedy: 0.34149\n",
    "    Buffer: 100000\n",
    "| 296/2000 [00:57<05:10,  5.50it/s]\n",
    "    /// Result\n",
    "    Average train error: 0.04036\n",
    "    Avg train reward in one epoch: 0.01689\n",
    "    Avg test reward in one epoch: 0.03716\n",
    "    Total train reward in one epoch: 5.00000\n",
    "    Test reward: 5.00000\n",
    "    Greedy: 0.34176\n",
    "    Buffer: 100000\n",
    "| 256/2000 [00:49<05:15,  5.53it/s]\n",
    "    /// Result\n",
    "    Average train error: 0.04173\n",
    "    Avg train reward in one epoch: 0.01562\n",
    "    Avg test reward in one epoch: 0.04297\n",
    "    Total train reward in one epoch: 4.00000\n",
    "    Test reward: 4.00000\n",
    "    Greedy: 0.34199\n",
    "    Buffer: 100000\n",
    "| 437/2000 [01:23<04:41,  5.55it/s]\n",
    "    /// Result\n",
    "    Average train error: 0.04288\n",
    "    Avg train reward in one epoch: 0.01602\n",
    "    Avg test reward in one epoch: 0.02517\n",
    "    Total train reward in one epoch: 7.00000\n",
    "    Test reward: 7.00000\n",
    "    Greedy: 0.34238\n",
    "    Buffer: 100000\n",
    "| 385/2000 [01:16<04:48,  5.59it/s]\n",
    "    /// Result\n",
    "    Average train error: 0.04543\n",
    "    Avg train reward in one epoch: 0.01818\n",
    "    Avg test reward in one epoch: 0.02857\n",
    "    Total train reward in one epoch: 7.00000\n",
    "    Test reward: 7.00000\n",
    "    Greedy: 0.34273\n",
    "    Buffer: 100000\n",
    "epoch 1838 avg loss:0.0419 train_total_reward:2.000 test_total_reward:11.000 e-greedy:0.34291:  10%| | 205/2000 [00:42<05:22,  5.56it/s]\n",
    "    /// Result\n",
    "    Average train error: 0.04186\n",
    "    Avg train reward in one epoch: 0.00976\n",
    "    Avg test reward in one epoch: 0.05366\n",
    "    Total train reward in one epoch: 2.00000\n",
    "    Test reward: 2.00000\n",
    "    Greedy: 0.34291\n",
    "    Buffer: 100000\n"
   ]
  }
 ],
 "metadata": {
  "kernelspec": {
   "display_name": "Python 3",
   "language": "python",
   "name": "python3"
  },
  "language_info": {
   "codemirror_mode": {
    "name": "ipython",
    "version": 3
   },
   "file_extension": ".py",
   "mimetype": "text/x-python",
   "name": "python",
   "nbconvert_exporter": "python",
   "pygments_lexer": "ipython3",
   "version": "3.6.4"
  }
 },
 "nbformat": 4,
 "nbformat_minor": 2
}
