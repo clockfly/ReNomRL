{
 "cells": [
  {
   "cell_type": "markdown",
   "metadata": {},
   "source": [
    "# Double DQN 仕様変更の確認\n"
   ]
  },
  {
   "cell_type": "markdown",
   "metadata": {},
   "source": [
    "<div class=\"notebook-data\">\n",
    "<div class=\"author\">Ogawa</div>\n",
    "<div class=\"company\">GRID</div>\n",
    "<div class=\"date\">2019/1/25</div>\n",
    "<div class=\"description\">\n",
    "</div>\n",
    "</div>\n",
    "\n",
    "## Conclusion\n",
    "\n",
    "DDQN logger successful."
   ]
  },
  {
   "cell_type": "markdown",
   "metadata": {},
   "source": [
    "## Required libraries\n",
    "- ReNom 2.6.2\n"
   ]
  },
  {
   "cell_type": "code",
   "execution_count": 1,
   "metadata": {},
   "outputs": [],
   "source": [
    "import gym\n",
    "import numpy as np\n",
    "import renom as rm\n",
    "\n",
    "import matplotlib.pyplot as plt\n",
    "\n",
    "from renom_rl.discrete.double_dqn import DoubleDQN\n",
    "from old.double_dqn import DoubleDQN as DoubleDQN_old\n",
    "from renom_rl.environ.env import BaseEnv\n",
    "from renom_rl.utility.filter import EpsilonEIFilter\n",
    "from renom_rl.utility import Animation"
   ]
  },
  {
   "cell_type": "markdown",
   "metadata": {},
   "source": [
    "## Class definition\n",
    "We create a class of the environment of MountainCar. By default, $ -1 $ is given at every step as the reward until task completion. However, the learning does not proceed well with this reward because negative rewards are given to all actions until the task is completed. Here, we define the reward as the coordinate (horizontal position) of the car."
   ]
  },
  {
   "cell_type": "code",
   "execution_count": 2,
   "metadata": {
    "scrolled": true
   },
   "outputs": [
    {
     "name": "stdout",
     "output_type": "stream",
     "text": [
      "\u001b[33mWARN: gym.spaces.Box autodetected dtype as <class 'numpy.float32'>. Please provide explicit dtype.\u001b[0m\n",
      "Env Space :  (2,)\n",
      "Action Space :  (3,)\n"
     ]
    },
    {
     "name": "stderr",
     "output_type": "stream",
     "text": [
      "/Users/mikeogawa/gym/gym/envs/registration.py:14: PkgResourcesDeprecationWarning: Parameters to load are deprecated.  Call .resolve and .require separately.\n",
      "  result = entry_point.load(False)\n",
      "/Users/mikeogawa/gym/gym/__init__.py:22: UserWarning: DEPRECATION WARNING: to improve load times, gym no longer automatically loads gym.spaces. Please run \"import gym.spaces\" to load gym.spaces on your own. This warning will turn into an error in a future version of gym.\n",
      "  warnings.warn('DEPRECATION WARNING: to improve load times, gym no longer automatically loads gym.spaces. Please run \"import gym.spaces\" to load gym.spaces on your own. This warning will turn into an error in a future version of gym.')\n"
     ]
    }
   ],
   "source": [
    "from copy import deepcopy\n",
    "\n",
    "class MountainCar(BaseEnv):\n",
    "    \n",
    "    def __init__(self):\n",
    "        self.env = gym.make('MountainCar-v0') \n",
    "        self.action_shape = (self.env.action_space.n,)\n",
    "        self.state_shape = self.env.observation_space.shape\n",
    "        print(\"Env Space : \", self.state_shape)\n",
    "        print(\"Action Space : \", self.action_shape)\n",
    "        \n",
    "        self.animation = Animation()\n",
    "        self.test_mode = False\n",
    "    \n",
    "    def reset(self):\n",
    "        return self.env.reset()\n",
    "    \n",
    "    def sample(self):\n",
    "        return self.env.action_space.sample()\n",
    "    \n",
    "    def step(self, action):\n",
    "        state, _, terminal, _ = self.env.step(int(action))\n",
    "        reward = 0\n",
    "        \n",
    "        if terminal:\n",
    "            if state[0] > 0.5:\n",
    "                reward = 1\n",
    "            else:\n",
    "                reward = state[0] + 0.5\n",
    "         \n",
    "        return state, reward, terminal\n",
    "    \n",
    "    def test_start(self):\n",
    "        self.animation.reset()\n",
    "        self.env.reset()\n",
    "    \n",
    "    def test_epoch_step(self):\n",
    "        self.animation.store(self.env.render(mode=\"rgb_array\"))\n",
    "    \n",
    "    def test_close(self):\n",
    "        self.env.close() \n",
    "        self.env.viewer = None\n",
    "                \n",
    "env = MountainCar()\n",
    "\n",
    "env2=deepcopy(env)\n",
    "\n",
    "q_network = rm.Sequential([ rm.Dense(30),\n",
    "                           rm.Relu(),\n",
    "                           rm.Dense(30),\n",
    "                           rm.Relu(),\n",
    "                           rm.Dense(env.action_shape[0])\n",
    "                            ])\n",
    "\n",
    "q_network2 = deepcopy(q_network)"
   ]
  },
  {
   "cell_type": "markdown",
   "metadata": {},
   "source": [
    "## Learning    "
   ]
  },
  {
   "cell_type": "code",
   "execution_count": 3,
   "metadata": {},
   "outputs": [
    {
     "name": "stderr",
     "output_type": "stream",
     "text": [
      "epoch 0001 epsilon 1.0000 loss 0.0038 rewards in epoch 0.000 episode 0000 rewards in episode 0.000.:   0%|          | 24/5000 [00:00<00:30, 163.57it/s]"
     ]
    },
    {
     "name": "stdout",
     "output_type": "stream",
     "text": [
      "Run random 100 step for storing experiences\n"
     ]
    },
    {
     "name": "stderr",
     "output_type": "stream",
     "text": [
      "epoch 001 avg_loss:0.0002 total reward in epoch: [train:-0.130 test:0.115] avg train reward in episode:-0.005 epsilon :0.294: 100%|██████████| 5000/5000 [00:40<00:00, 123.01it/s]\n",
      "epoch 002 avg_loss:0.0002 total reward in epoch: [train:-1.605 test:-0.229] avg train reward in episode:-0.062 epsilon :0.169: 100%|██████████| 5000/5000 [00:38<00:00, 130.27it/s]\n"
     ]
    }
   ],
   "source": [
    "fil = EpsilonEIFilter(min=0, max=1.0, alpha=0.1)\n",
    "\n",
    "agent2 = DoubleDQN(env2, q_network2)\n",
    "\n",
    "agent2.fit(epoch=2, \n",
    "          epoch_step=5000, \n",
    "          batch_size=100, \n",
    "          update_period=40, \n",
    "          action_filter=fil,\n",
    "          random_step=100)"
   ]
  },
  {
   "cell_type": "code",
   "execution_count": 4,
   "metadata": {},
   "outputs": [
    {
     "name": "stderr",
     "output_type": "stream",
     "text": [
      "epoch 0001 epsilon 1.0000 loss 0.0002 rewards in epoch 0.000 episode 0000 rewards in episode 0.000.:   1%|          | 29/5000 [00:00<00:30, 161.63it/s]"
     ]
    },
    {
     "name": "stdout",
     "output_type": "stream",
     "text": [
      "Run random 100 step for storing experiences\n"
     ]
    },
    {
     "name": "stderr",
     "output_type": "stream",
     "text": [
      "epoch 001 avg_loss:0.0000 total reward in epoch: [train:0.905 test:0.166] avg train reward in episode:0.036 e-greedy:0.122: 100%|██████████| 5000/5000 [00:38<00:00, 128.35it/s]\n",
      "epoch 002 avg_loss:0.0000 total reward in epoch: [train:0.634 test:-0.229] avg train reward in episode:0.025 e-greedy:0.064: 100%|██████████| 5000/5000 [00:38<00:00, 130.17it/s]\n"
     ]
    }
   ],
   "source": [
    "fil = EpsilonEIFilter(min=0, max=1.0, alpha=0.3)\n",
    "\n",
    "agent = DoubleDQN_old(env, q_network)\n",
    "\n",
    "agent.fit(epoch=2, \n",
    "          epoch_step=5000, \n",
    "          batch_size=100, \n",
    "          update_period=40, \n",
    "          action_filter=fil,\n",
    "          random_step=100)"
   ]
  },
  {
   "cell_type": "code",
   "execution_count": 7,
   "metadata": {},
   "outputs": [
    {
     "data": {
      "image/png": "[encoded data removed]",
      "text/plain": [
       "<Figure size 1000x400 with 1 Axes>"
      ]
     },
     "metadata": {},
     "output_type": "display_data"
    }
   ],
   "source": [
    "agent2.logger.graph(\"sum_reward\",x_interval=5,figsize=(10,4))"
   ]
  },
  {
   "cell_type": "markdown",
   "metadata": {},
   "source": [
    "## Visualizing the learned agent"
   ]
  },
  {
   "cell_type": "code",
   "execution_count": null,
   "metadata": {
    "scrolled": true
   },
   "outputs": [],
   "source": [
    "# print('reward of one episode is ', agent.test(test_step=None))\n",
    "# env.animation.run()\n",
    "# q_network.save(\"ddqn_mountaincar.h5\")"
   ]
  }
 ],
 "metadata": {
  "kernelspec": {
   "display_name": "Python 3",
   "language": "python",
   "name": "python3"
  },
  "language_info": {
   "codemirror_mode": {
    "name": "ipython",
    "version": 3
   },
   "file_extension": ".py",
   "mimetype": "text/x-python",
   "name": "python",
   "nbconvert_exporter": "python",
   "pygments_lexer": "ipython3",
   "version": "3.6.4"
  }
 },
 "nbformat": 4,
 "nbformat_minor": 2
}
