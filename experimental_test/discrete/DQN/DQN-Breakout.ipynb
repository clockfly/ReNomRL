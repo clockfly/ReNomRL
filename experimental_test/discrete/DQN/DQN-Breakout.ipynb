{
 "cells": [
  {
   "cell_type": "code",
   "execution_count": 1,
   "metadata": {
    "scrolled": true
   },
   "outputs": [],
   "source": [
    "import matplotlib.pyplot as plt\n",
    "import gym\n",
    "\n",
    "env=gym.make(\"BreakoutDeterministic-v4\")\n",
    "env.reset()\n",
    "plt.imshow(env.render(mode=\"rgb_array\"))\n",
    "env.close()\n",
    "plt.axis(\"off\");"
   ]
  },
  {
   "cell_type": "markdown",
   "metadata": {},
   "source": [
    "## "
   ]
  },
  {
   "cell_type": "markdown",
   "metadata": {},
   "source": [
    "## Required Libraries\n",
    "\n",
    "- ReNomDL 2.6\n",
    "- ReNomRL 0.2\n",
    "- Numpy 1.14\n",
    "- matplotlib 2.2.3\n"
   ]
  },
  {
   "cell_type": "code",
   "execution_count": 2,
   "metadata": {},
   "outputs": [],
   "source": [
    "import gym\n",
    "import numpy as np\n",
    "import renom as rm\n",
    "from renom.cuda import set_cuda_active\n",
    "from renom_rl.discrete.dqn import DQN\n",
    "from renom_rl.environ.env import BaseEnv\n",
    "from renom_rl.utility import Animation\n",
    "from renom_rl.utility.logger import DQNLogger\n",
    "import matplotlib.pyplot as plt\n",
    "from renom.utility.initializer import GlorotUniform\n",
    "from PIL import Image\n",
    "set_cuda_active(True)"
   ]
  },
  {
   "cell_type": "markdown",
   "metadata": {},
   "source": [
    "## 環境の定義\n",
    "\n",
    "ReNomRLでは環境を ``BaseEnv`` クラスを親クラスとして利用する必要があります。"
   ]
  },
  {
   "cell_type": "code",
   "execution_count": 3,
   "metadata": {
    "scrolled": true
   },
   "outputs": [],
   "source": [
    "class CustomEnv(BaseEnv):\n",
    "    \n",
    "    def __init__(self, env):\n",
    "        self.action_shape = (env.action_space.n, )\n",
    "        self.state_shape = (4, 84, 84)\n",
    "        self.env=env\n",
    "        self.reward=0\n",
    "        self.resent_state_list = []\n",
    "        self.animation=Animation()\n",
    "        self.zero_image = np.zeros(self.state_shape, dtype=np.float32)\n",
    "        self._length = 4\n",
    "        \n",
    "    def reset(self):\n",
    "        self.resent_state_list = [self._preprocess(self.env.reset())]\n",
    "        for i in range(self._length-1):\n",
    "            s, _, _, _ = self.env.step(self.env.action_space.sample())\n",
    "            self.resent_state_list.append(self._preprocess(s))\n",
    "        return np.array(self.resent_state_list).reshape(4, 84, 84)\n",
    "    \n",
    "    def _preprocess(self, s):\n",
    "        img = Image.fromarray(s).resize((84, 84)).convert('L')\n",
    "        return np.asanyarray(img).astype(np.float32) / 255.\n",
    "    \n",
    "    def sample(self):\n",
    "        return self.env.action_space.sample()\n",
    "    \n",
    "    def step(self, action):\n",
    "        s, r, t, _ = self.env.step(action)\n",
    "        self.resent_state_list.append(self._preprocess(s))\n",
    "        self.resent_state_list = self.resent_state_list[1:]\n",
    "        return np.array(self.resent_state_list).reshape(4, 84, 84), np.clip(r, -1, 1), t\n",
    "    \n",
    "    def terminate(self):\n",
    "        return False\n",
    "\n",
    "    def test_start(self):\n",
    "        self.animation.reset()\n",
    "        self.test_mode=True\n",
    "\n",
    "    def test_step(self):\n",
    "        self.animation.store(self.env.render(mode=\"rgb_array\"))\n",
    "\n",
    "    def test_close(self):\n",
    "        self.env.close()\n",
    "        self.env.viewer=None\n",
    "        self.test_mode=False\n",
    " \n",
    "    def reset_anime(self):\n",
    "        self.animation.reset()\n",
    "\n",
    "class MyLogger(DQNLogger):\n",
    "    \n",
    "    def __init__(self, *args, **kwargs):\n",
    "        super(DQNLogger, self).__init__(*args, **kwargs)\n",
    "        self._log = {\n",
    "            'nth':[],\n",
    "            'skip-nth':[],\n",
    "            'q':[],\n",
    "            'loss':[],\n",
    "            'reward':[],\n",
    "            'Conv1-l2':[],\n",
    "            'Conv2-l2':[],\n",
    "            'Conv3-l2':[],\n",
    "            'Dense1-l2':[],\n",
    "            'Dense2-l2':[],\n",
    "        }\n",
    "    \n",
    "    def logger_episode(self, nth, mean_q, mean_loss, cum_reward, model):\n",
    "        self._log['nth'].append(nth)\n",
    "        self._log['q'].append(mean_q)\n",
    "        self._log['loss'].append(mean_loss)\n",
    "        self._log['reward'].append(cum_reward)\n",
    "        if nth % 10 == 0 and nth:\n",
    "            self._log['skip-nth'].append(nth)\n",
    "            self._log['Conv1-l2'].append(np.sum(model[0].params['w'].as_ndarray()**2))\n",
    "            self._log['Conv2-l2'].append(np.sum(model[2].params['w'].as_ndarray()**2))\n",
    "            self._log['Conv3-l2'].append(np.sum(model[4].params['w'].as_ndarray()**2))\n",
    "            self._log['Dense1-l2'].append(np.sum(model[7].params['w'].as_ndarray()**2))\n",
    "            self._log['Dense2-l2'].append(np.sum(model[9].params['w'].as_ndarray()**2))\n",
    "            self.show_graph()\n",
    "            \n",
    "    def show_graph(self):\n",
    "        fig, ax = plt.subplots(8, 1, figsize=(8, 12))\n",
    "        ax[0].set_ylabel('Q')\n",
    "        ax[0].plot(self._log['nth'], self._log['q'])\n",
    "        ax[1].set_ylabel('Loss')\n",
    "        ax[1].plot(self._log['nth'], self._log['loss'])\n",
    "        ax[2].set_ylabel('Reward')\n",
    "        ax[2].plot(self._log['nth'], self._log['reward'])\n",
    "        \n",
    "        ax[3].set_ylabel('Conv1-l2')\n",
    "        ax[3].scatter(self._log['skip-nth'], self._log['Conv1-l2'])\n",
    "        \n",
    "        ax[4].set_ylabel('Conv2-l2')\n",
    "        ax[4].scatter(self._log['skip-nth'], self._log['Conv2-l2'])\n",
    "        \n",
    "        ax[5].set_ylabel('Conv3-l2')\n",
    "        ax[5].scatter(self._log['skip-nth'], self._log['Conv3-l2'])\n",
    "        \n",
    "        ax[6].set_ylabel('Dense1-l2')\n",
    "        ax[6].scatter(self._log['skip-nth'], self._log['Dense1-l2'])\n",
    "        \n",
    "        ax[7].set_ylabel('Dense2-l2')\n",
    "        ax[7].scatter(self._log['skip-nth'], self._log['Dense2-l2'])\n",
    "        \n",
    "        plt.savefig('result.png')\n",
    "        \n",
    "        \n",
    "env = gym.make(\"BreakoutDeterministic-v4\")\n",
    "custom_env = CustomEnv(env)\n",
    "q_network = rm.Sequential([\n",
    "    rm.Conv2d(channel=32, filter=8, stride=4, initializer=GlorotUniform()),\n",
    "    rm.Relu(),\n",
    "    rm.Conv2d(channel=64, filter=2, stride=2, initializer=GlorotUniform()),\n",
    "    rm.Relu(),\n",
    "    rm.Conv2d(channel=64, filter=3, stride=1, initializer=GlorotUniform()),\n",
    "    rm.Relu(),\n",
    "    rm.Flatten(),\n",
    "    rm.Dense(512, initializer=GlorotUniform()),\n",
    "    rm.Relu(),\n",
    "    rm.Dense(custom_env.action_shape[0], initializer=GlorotUniform())\n",
    "])"
   ]
  },
  {
   "cell_type": "code",
   "execution_count": 4,
   "metadata": {
    "scrolled": true
   },
   "outputs": [
    {
     "name": "stdout",
     "output_type": "stream",
     "text": [
      "4\n"
     ]
    }
   ],
   "source": [
    "model = DQN(custom_env, q_network, optimizer=rm.Adam(0.00025), loss_func=rm.ClippedMeanSquaredError((-1, 1)), logger=MyLogger())\n",
    "print(custom_env.state_shape[0])"
   ]
  },
  {
   "cell_type": "code",
   "execution_count": null,
   "metadata": {},
   "outputs": [],
   "source": [
    "from renom_rl.utility import EpsilonSLFilter\n",
    "obj = EpsilonSLFilter(min=0.0, max=0.9, initial=0.9, test_epsilon=0.95, epsilon_step=1000000)"
   ]
  },
  {
   "cell_type": "code",
   "execution_count": null,
   "metadata": {
    "scrolled": false
   },
   "outputs": [
    {
     "name": "stderr",
     "output_type": "stream",
     "text": [
      "epoch 0001 epsilon 0.9000 loss 0.0006 rewards in epoch 0.000 episode 0000 rewards in episode 0.000.:   0%|          | 18/10000 [00:00<01:07, 147.49it/s]"
     ]
    },
    {
     "name": "stdout",
     "output_type": "stream",
     "text": [
      "Run random 50 step for storing experiences\n"
     ]
    },
    {
     "name": "stderr",
     "output_type": "stream",
     "text": [
      "epoch 001 avg_loss:0.0010 total reward in epoch: [train:68.000 test: 0.0] avg train reward in episode:1.214 epsilon :0.891: 100%|██████████| 10000/10000 [01:08<00:00, 145.48it/s]\n",
      "epoch 002 avg_loss:0.0004 total reward in epoch: [train:68.000 test: 4.0] avg train reward in episode:1.259 epsilon :0.882: 100%|██████████| 10000/10000 [01:09<00:00, 143.60it/s]\n",
      "epoch 0003 epsilon 0.8811 loss 0.0000 rewards in epoch 6.000 episode 0005 rewards in episode 1.000.:  10%|█         | 1028/10000 [00:07<01:00, 149.22it/s]"
     ]
    }
   ],
   "source": [
    "result = model.fit(epoch=175,\n",
    "                   epoch_step=10000,\n",
    "                   batch_size=32,\n",
    "                   random_step=50,\n",
    "                   test_step=None,\n",
    "                   update_period=10000,\n",
    "                   train_frequency=4,\n",
    "                   action_filter=obj)"
   ]
  },
  {
   "cell_type": "code",
   "execution_count": null,
   "metadata": {
    "scrolled": false
   },
   "outputs": [],
   "source": [
    "model.test()"
   ]
  },
  {
   "cell_type": "code",
   "execution_count": null,
   "metadata": {
    "scrolled": false
   },
   "outputs": [],
   "source": [
    "custom_env.animation.run()\n",
    "custom_env.reset_anime()"
   ]
  },
  {
   "cell_type": "code",
   "execution_count": null,
   "metadata": {},
   "outputs": [],
   "source": []
  },
  {
   "cell_type": "code",
   "execution_count": null,
   "metadata": {
    "scrolled": false
   },
   "outputs": [],
   "source": [
    "q_network.save(\"dqn_exp5.h5\")\n",
    "# model = DQN(custom_env, q_network)"
   ]
  },
  {
   "cell_type": "code",
   "execution_count": null,
   "metadata": {},
   "outputs": [],
   "source": [
    "model.test(render=True)"
   ]
  },
  {
   "cell_type": "code",
   "execution_count": null,
   "metadata": {},
   "outputs": [],
   "source": [
    "import time\n",
    "start_t = time.time()\n",
    "a = np.random.permutation(int(1e1))\n",
    "print(time.time()-start_t)"
   ]
  },
  {
   "cell_type": "markdown",
   "metadata": {},
   "source": [
    "\n",
    "# "
   ]
  }
 ],
 "metadata": {
  "kernelspec": {
   "display_name": "Python 3",
   "language": "python",
   "name": "python3"
  },
  "language_info": {
   "codemirror_mode": {
    "name": "ipython",
    "version": 3
   },
   "file_extension": ".py",
   "mimetype": "text/x-python",
   "name": "python",
   "nbconvert_exporter": "python",
   "pygments_lexer": "ipython3",
   "version": "3.5.2"
  }
 },
 "nbformat": 4,
 "nbformat_minor": 2
}
