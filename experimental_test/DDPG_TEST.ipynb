{
 "cells": [
  {
   "cell_type": "markdown",
   "metadata": {},
   "source": [
    "## Import necessary packages tutorial"
   ]
  },
  {
   "cell_type": "code",
   "execution_count": 1,
   "metadata": {},
   "outputs": [
    {
     "name": "stderr",
     "output_type": "stream",
     "text": [
      "/Users/thakur/ReNom/renom/cuda/__init__.py:12: UserWarning: Couldn't find cuda modules. No module named 'renom.cuda.cuda_base'\n",
      "  warnings.warn(\"Couldn't find cuda modules. %s\" % e)\n",
      "/Users/thakur/ReNom/renom/cuda/__init__.py:29: UserWarning: Couldn't find cuda modules.\n",
      "  warnings.warn(\"Couldn't find cuda modules.\")\n"
     ]
    }
   ],
   "source": [
    "import renom as rm\n",
    "from renom.utility.initializer import GlorotNormal, GlorotUniform\n",
    "import gym"
   ]
  },
  {
   "cell_type": "markdown",
   "metadata": {},
   "source": [
    "## Deifne the environment tutorial"
   ]
  },
  {
   "cell_type": "code",
   "execution_count": 2,
   "metadata": {},
   "outputs": [
    {
     "name": "stderr",
     "output_type": "stream",
     "text": [
      "[2018-03-16 17:40:30,373] Making new env: Pendulum-v0\n"
     ]
    }
   ],
   "source": [
    "env = gym.make('Pendulum-v0')"
   ]
  },
  {
   "cell_type": "markdown",
   "metadata": {},
   "source": [
    "## Define the actor network tutorial"
   ]
  },
  {
   "cell_type": "code",
   "execution_count": 3,
   "metadata": {},
   "outputs": [],
   "source": [
    "class Actor(rm.Model):\n",
    "    \n",
    "    '''Here considered 3-layer network (excluding input layer). Feel free to change the network depth \n",
    "    and check the results. The output-layer number of nuerons are equal to number of actions.\n",
    "    In the example of OpenAI Gym's Pendlum-v0 environment number of actions are 1.'''\n",
    "    \n",
    "    def __init__(self, env, layer_size):\n",
    "        self._layers = []\n",
    "        self.env = env\n",
    "        self._l1 = rm.Dense(layer_size[0], initializer=GlorotUniform())\n",
    "        self._l2 = rm.Dense(layer_size[1], initializer=GlorotUniform())\n",
    "        self._l3 = rm.Dense(self.env.action_space.shape[0], initializer=GlorotUniform())\n",
    "        self._layers = [self._l1, self._l2, self._l3]\n",
    "    \n",
    "    def forward(self, x):\n",
    "        '''Neural Network inputs are state information, outputs are actions. '''\n",
    "        h1 = rm.relu(self._l1(x))\n",
    "        h2 = rm.relu(self._l2(h1))\n",
    "        h3 = rm.tanh(self._l3(h2)) \n",
    "        #h = self._l3(h2)\n",
    "        h = h3*self.env.action_space.high[0]\n",
    "        return h\n",
    "    \n",
    "    def weigiht_decay(self):\n",
    "        '''To minimize over fitting considered L2-norm (it is an optional)'''\n",
    "        weight_decay = 0\n",
    "        for i in range(len(self._layers)):\n",
    "            weight_decay += rm.sum(self._layers[i].params.w**2)\n",
    "        return weight_decay\n"
   ]
  },
  {
   "cell_type": "markdown",
   "metadata": {},
   "source": [
    "# Define the Critic network tutorial"
   ]
  },
  {
   "cell_type": "code",
   "execution_count": 4,
   "metadata": {},
   "outputs": [],
   "source": [
    "class Critic(rm.Model):\n",
    "    '''Here considered a 3-layer network (input layer, hidden layer-1, hidden layer-2, output layer)\n",
    "        At input-layer state information, 2nd-hidden layer actions are applied, last layer has a single neuron'''\n",
    "    def __init__(self, env, layer_size):        \n",
    "        self._layers = []\n",
    "        self.env = env\n",
    "        self._l1 = rm.Dense(layer_size[0], initializer=GlorotUniform())\n",
    "        self._l2 = rm.Dense(layer_size[1], initializer=GlorotUniform())\n",
    "        self._l3 = rm.Dense(1, initializer=GlorotUniform())\n",
    "        self._layers = [self._l1, self._l2, self._l3]\n",
    "  \n",
    "    def forward(self, x, action):\n",
    "        '''Q(s,a) calculation for a given (state, action) pair'''\n",
    "        h1 = rm.relu(self._l1(x))\n",
    "        h2 = rm.relu(self._l2(rm.concat(h1,action))) # actions are applied at 2nd hidden layer\n",
    "        h = self._l3(h2)        \n",
    "        return h\n",
    "    \n",
    "    def weigiht_decay(self):\n",
    "        '''To minimize over fitting considered L2-norm (it is an optional)'''\n",
    "        weight_decay = 0\n",
    "        for i in range(len(self._layers)):\n",
    "            weight_decay += rm.sum(self._layers[i].params.w**2)\n",
    "        return weight_decay"
   ]
  },
  {
   "cell_type": "markdown",
   "metadata": {},
   "source": [
    "## Instantiating the actor & ciritic networks "
   ]
  },
  {
   "cell_type": "code",
   "execution_count": 5,
   "metadata": {},
   "outputs": [],
   "source": [
    "from renom.algorithm.reinforcement.ddpg import DDPG\n",
    "layer_size = [400, 300] # two-hidden layers dimension\n",
    "actor_network = Actor(env=env,layer_size=layer_size)\n",
    "critic_network = Critic(env=env, layer_size=layer_size)\n",
    "target_actor_network = Actor(env=env,layer_size=layer_size)\n",
    "target_critic_network = Critic(env=env, layer_size=layer_size)"
   ]
  },
  {
   "cell_type": "markdown",
   "metadata": {},
   "source": [
    "## Instantiating the DDPG class"
   ]
  },
  {
   "cell_type": "code",
   "execution_count": 6,
   "metadata": {},
   "outputs": [],
   "source": [
    "ddpg = DDPG(env=env, actor_network=actor_network, critic_network=critic_network, \\\n",
    "            target_actor_network=target_actor_network, target_critic_network=target_critic_network)\n",
    "# ddpg = DDPG(env=env) # for default"
   ]
  },
  {
   "cell_type": "markdown",
   "metadata": {},
   "source": [
    "## Training "
   ]
  },
  {
   "cell_type": "code",
   "execution_count": 7,
   "metadata": {
    "scrolled": false
   },
   "outputs": [
    {
     "name": "stderr",
     "output_type": "stream",
     "text": [
      "episode: 000 Total reward:-1390.50 avg loss:3.3639: 100%|██████████| 200/200 [00:04<00:00, 44.20it/s]\n",
      "episode: 001 Total reward:-1416.37 avg loss:1.6378: 100%|██████████| 200/200 [00:06<00:00, 33.24it/s]\n",
      "episode: 002 Total reward:-1493.51 avg loss:0.5620: 100%|██████████| 200/200 [00:05<00:00, 35.14it/s]\n",
      "episode: 003 Total reward:-1487.45 avg loss:0.3463: 100%|██████████| 200/200 [00:06<00:00, 32.91it/s]\n",
      "episode: 004 Total reward:-1380.03 avg loss:0.3079: 100%|██████████| 200/200 [00:05<00:00, 33.74it/s]\n",
      "episode: 005 Total reward:-1293.05 avg loss:0.2533: 100%|██████████| 200/200 [00:05<00:00, 35.40it/s]\n",
      "episode: 006 Total reward:-1537.07 avg loss:0.2491: 100%|██████████| 200/200 [00:05<00:00, 33.86it/s]\n",
      "episode: 007 Total reward:-1499.96 avg loss:0.2381: 100%|██████████| 200/200 [00:05<00:00, 34.10it/s]\n",
      "episode: 008 Total reward:-1639.76 avg loss:0.2179: 100%|██████████| 200/200 [00:05<00:00, 34.80it/s]\n",
      "episode: 009 Total reward:-941.10 avg loss:0.2520: 100%|██████████| 200/200 [00:05<00:00, 35.30it/s]\n",
      "episode: 010 Total reward:-929.37 avg loss:0.2702: 100%|██████████| 200/200 [00:05<00:00, 36.10it/s]\n",
      "episode: 011 Total reward:-1529.19 avg loss:0.2919: 100%|██████████| 200/200 [00:05<00:00, 34.47it/s]\n",
      "episode: 012 Total reward:-1496.68 avg loss:0.3322: 100%|██████████| 200/200 [00:05<00:00, 36.01it/s]\n",
      "episode: 013 Total reward:-1355.52 avg loss:0.3551: 100%|██████████| 200/200 [00:05<00:00, 34.37it/s]\n",
      "episode: 014 Total reward:-1544.91 avg loss:0.4299: 100%|██████████| 200/200 [00:05<00:00, 35.59it/s]\n",
      "episode: 015 Total reward:-1631.55 avg loss:0.5751: 100%|██████████| 200/200 [00:05<00:00, 34.14it/s]\n",
      "episode: 016 Total reward:-1515.76 avg loss:0.5710: 100%|██████████| 200/200 [00:05<00:00, 35.48it/s]\n",
      "episode: 017 Total reward:-1381.64 avg loss:0.5800: 100%|██████████| 200/200 [00:05<00:00, 35.08it/s]\n",
      "episode: 018 Total reward:-1525.44 avg loss:0.7043: 100%|██████████| 200/200 [00:06<00:00, 32.65it/s]\n",
      "episode: 019 Total reward:-1927.88 avg loss:0.7692: 100%|██████████| 200/200 [00:06<00:00, 33.18it/s]\n",
      "episode: 020 Total reward:-1586.16 avg loss:1.0175: 100%|██████████| 200/200 [00:06<00:00, 32.62it/s]\n",
      "episode: 021 Total reward:-1568.33 avg loss:0.8742: 100%|██████████| 200/200 [00:06<00:00, 32.97it/s]\n",
      "episode: 022 Total reward:-1102.84 avg loss:0.9490: 100%|██████████| 200/200 [00:06<00:00, 29.14it/s]\n",
      "episode: 023 Total reward:-1462.59 avg loss:1.3731: 100%|██████████| 200/200 [00:06<00:00, 28.57it/s]\n",
      "episode: 024 Total reward:-1653.20 avg loss:1.1471: 100%|██████████| 200/200 [00:06<00:00, 31.58it/s]\n",
      "episode: 025 Total reward:-1518.09 avg loss:1.5639: 100%|██████████| 200/200 [00:06<00:00, 31.82it/s]\n",
      "episode: 026 Total reward:-1654.99 avg loss:2.2944: 100%|██████████| 200/200 [00:06<00:00, 31.66it/s]\n",
      "episode: 027 Total reward:-1518.07 avg loss:1.8889: 100%|██████████| 200/200 [00:06<00:00, 29.11it/s]\n",
      "episode: 028 Total reward:-1542.55 avg loss:1.6315: 100%|██████████| 200/200 [00:06<00:00, 31.58it/s]\n",
      "episode: 029 Total reward:-1612.73 avg loss:3.5468: 100%|██████████| 200/200 [00:06<00:00, 33.21it/s]\n",
      "episode: 030 Total reward:-1204.06 avg loss:2.2890: 100%|██████████| 200/200 [00:06<00:00, 32.23it/s]\n",
      "episode: 031 Total reward:-951.32 avg loss:2.8683: 100%|██████████| 200/200 [00:06<00:00, 31.52it/s]\n",
      "episode: 032 Total reward:-1394.38 avg loss:2.7633: 100%|██████████| 200/200 [00:06<00:00, 32.72it/s]\n",
      "episode: 033 Total reward:-1651.86 avg loss:3.4257: 100%|██████████| 200/200 [00:06<00:00, 32.06it/s]\n",
      "episode: 034 Total reward:-1505.42 avg loss:3.3889: 100%|██████████| 200/200 [00:06<00:00, 32.29it/s]\n",
      "episode: 035 Total reward:-1534.48 avg loss:4.2273: 100%|██████████| 200/200 [00:06<00:00, 32.80it/s]\n",
      "episode: 036 Total reward:-1545.77 avg loss:3.9618: 100%|██████████| 200/200 [00:06<00:00, 32.43it/s]\n",
      "episode: 037 Total reward:-1317.16 avg loss:4.5082: 100%|██████████| 200/200 [00:06<00:00, 32.27it/s]\n",
      "episode: 038 Total reward:-1496.33 avg loss:5.7978: 100%|██████████| 200/200 [00:07<00:00, 29.20it/s]\n",
      "episode: 039 Total reward:-1544.58 avg loss:4.7452: 100%|██████████| 200/200 [00:08<00:00, 23.94it/s]\n",
      "episode: 040 Total reward:-1090.57 avg loss:4.0697: 100%|██████████| 200/200 [00:07<00:00, 26.86it/s]\n",
      "episode: 041 Total reward:-1527.25 avg loss:7.0244: 100%|██████████| 200/200 [00:06<00:00, 31.28it/s]\n",
      "episode: 042 Total reward:-1546.64 avg loss:6.7624: 100%|██████████| 200/200 [00:06<00:00, 29.60it/s]\n",
      "episode: 043 Total reward:-1482.34 avg loss:6.9683: 100%|██████████| 200/200 [00:06<00:00, 30.67it/s]\n",
      "episode: 044 Total reward:-1059.66 avg loss:8.1713: 100%|██████████| 200/200 [00:06<00:00, 32.32it/s]\n",
      "episode: 045 Total reward:-1579.33 avg loss:7.9601: 100%|██████████| 200/200 [00:06<00:00, 31.80it/s]\n",
      "episode: 046 Total reward:-1365.08 avg loss:7.4647: 100%|██████████| 200/200 [00:06<00:00, 32.46it/s]\n",
      "episode: 047 Total reward:-1525.90 avg loss:8.7435: 100%|██████████| 200/200 [00:07<00:00, 27.02it/s]\n",
      "episode: 048 Total reward:-1397.96 avg loss:8.9334: 100%|██████████| 200/200 [00:06<00:00, 28.62it/s]\n",
      "episode: 049 Total reward:-1404.06 avg loss:10.5454: 100%|██████████| 200/200 [00:06<00:00, 31.69it/s]\n",
      "episode: 050 Total reward:-1248.19 avg loss:14.1941: 100%|██████████| 200/200 [00:06<00:00, 32.50it/s]\n",
      "episode: 051 Total reward:-1471.68 avg loss:11.4568: 100%|██████████| 200/200 [00:06<00:00, 30.36it/s]\n",
      "episode: 052 Total reward:-1543.60 avg loss:11.0354: 100%|██████████| 200/200 [00:06<00:00, 29.96it/s]\n",
      "episode: 053 Total reward:-1518.35 avg loss:13.3371: 100%|██████████| 200/200 [00:06<00:00, 32.77it/s]\n",
      "episode: 054 Total reward:-1550.56 avg loss:13.8052: 100%|██████████| 200/200 [00:06<00:00, 32.63it/s]\n",
      "episode: 055 Total reward:-1189.65 avg loss:12.8285: 100%|██████████| 200/200 [00:06<00:00, 29.87it/s]\n",
      "episode: 056 Total reward:-1294.41 avg loss:11.9348: 100%|██████████| 200/200 [00:06<00:00, 30.47it/s]\n",
      "episode: 057 Total reward:-1624.81 avg loss:15.0644: 100%|██████████| 200/200 [00:06<00:00, 29.75it/s]\n",
      "episode: 058 Total reward:-1479.30 avg loss:17.0361: 100%|██████████| 200/200 [00:06<00:00, 31.23it/s]\n",
      "episode: 059 Total reward:-1481.40 avg loss:13.6102: 100%|██████████| 200/200 [00:06<00:00, 32.20it/s]\n",
      "episode: 060 Total reward:-1585.79 avg loss:12.9666: 100%|██████████| 200/200 [00:07<00:00, 28.06it/s]\n",
      "episode: 061 Total reward:-1431.31 avg loss:14.7909: 100%|██████████| 200/200 [00:07<00:00, 27.55it/s]\n",
      "episode: 062 Total reward:-1603.47 avg loss:16.1515: 100%|██████████| 200/200 [00:06<00:00, 32.26it/s]\n",
      "episode: 063 Total reward:-1346.35 avg loss:15.3767: 100%|██████████| 200/200 [00:06<00:00, 31.62it/s]\n",
      "episode: 064 Total reward:-1630.59 avg loss:18.6326: 100%|██████████| 200/200 [00:06<00:00, 30.34it/s]\n",
      "episode: 065 Total reward:-1637.47 avg loss:20.3303: 100%|██████████| 200/200 [00:06<00:00, 30.34it/s]\n",
      "episode: 066 Total reward:-1082.24 avg loss:17.0270: 100%|██████████| 200/200 [00:07<00:00, 27.53it/s]\n",
      "episode: 067 Total reward:-951.97 avg loss:17.3248: 100%|██████████| 200/200 [00:06<00:00, 31.41it/s]\n",
      "episode: 068 Total reward:-1213.84 avg loss:19.6043: 100%|██████████| 200/200 [00:07<00:00, 28.10it/s]\n",
      "episode: 069 Total reward:-1586.82 avg loss:16.4242: 100%|██████████| 200/200 [00:06<00:00, 28.60it/s]\n",
      "episode: 070 Total reward:-953.86 avg loss:20.9686: 100%|██████████| 200/200 [00:06<00:00, 31.15it/s]\n",
      "episode: 071 Total reward:-1494.17 avg loss:25.6735: 100%|██████████| 200/200 [00:06<00:00, 30.86it/s]\n",
      "episode: 072 Total reward:-1479.98 avg loss:25.1774: 100%|██████████| 200/200 [00:06<00:00, 29.35it/s]\n",
      "episode: 073 Total reward:-1505.30 avg loss:18.0239: 100%|██████████| 200/200 [00:06<00:00, 32.67it/s]\n",
      "episode: 074 Total reward:-1186.35 avg loss:18.6511: 100%|██████████| 200/200 [00:06<00:00, 30.58it/s]\n",
      "episode: 075 Total reward:-1518.69 avg loss:28.6167: 100%|██████████| 200/200 [00:06<00:00, 27.78it/s]\n",
      "episode: 076 Total reward:-1175.65 avg loss:21.2282: 100%|██████████| 200/200 [00:06<00:00, 29.23it/s]\n",
      "episode: 077 Total reward:-1631.06 avg loss:25.9105: 100%|██████████| 200/200 [00:07<00:00, 26.90it/s]\n",
      "episode: 078 Total reward:-1510.02 avg loss:35.0994: 100%|██████████| 200/200 [00:07<00:00, 28.06it/s]\n",
      "episode: 079 Total reward:-1650.86 avg loss:29.7694: 100%|██████████| 200/200 [00:07<00:00, 24.15it/s]\n"
     ]
    },
    {
     "name": "stderr",
     "output_type": "stream",
     "text": [
      "episode: 080 Total reward:-1645.20 avg loss:37.6414: 100%|██████████| 200/200 [00:06<00:00, 30.13it/s]\n",
      "episode: 081 Total reward:-1493.83 avg loss:35.7666: 100%|██████████| 200/200 [00:05<00:00, 38.07it/s]\n",
      "episode: 082 Total reward:-1656.26 avg loss:31.8822: 100%|██████████| 200/200 [00:05<00:00, 37.50it/s]\n",
      "episode: 083 Total reward:-1075.70 avg loss:35.9736: 100%|██████████| 200/200 [00:05<00:00, 37.80it/s]\n",
      "episode: 084 Total reward:-1174.02 avg loss:41.6436: 100%|██████████| 200/200 [00:05<00:00, 34.72it/s]\n",
      "episode: 085 Total reward:-1390.88 avg loss:44.4567: 100%|██████████| 200/200 [00:05<00:00, 38.19it/s]\n",
      "episode: 086 Total reward:-1148.84 avg loss:37.7789: 100%|██████████| 200/200 [00:05<00:00, 37.67it/s]\n",
      "episode: 087 Total reward:-1497.79 avg loss:29.6179: 100%|██████████| 200/200 [00:05<00:00, 37.69it/s]\n",
      "episode: 088 Total reward:-1343.20 avg loss:42.4411: 100%|██████████| 200/200 [00:05<00:00, 35.34it/s]\n",
      "episode: 089 Total reward:-1368.76 avg loss:34.5062: 100%|██████████| 200/200 [00:05<00:00, 36.97it/s]\n",
      "episode: 090 Total reward:-1266.92 avg loss:53.6996: 100%|██████████| 200/200 [00:05<00:00, 37.13it/s]\n",
      "episode: 091 Total reward:-1114.60 avg loss:35.9852: 100%|██████████| 200/200 [00:05<00:00, 37.55it/s]\n",
      "episode: 092 Total reward:-1494.57 avg loss:124.3073: 100%|██████████| 200/200 [00:05<00:00, 37.47it/s]\n",
      "episode: 093 Total reward:-1066.87 avg loss:33.7691: 100%|██████████| 200/200 [00:05<00:00, 35.97it/s]\n",
      "episode: 094 Total reward:-1187.43 avg loss:24.8735: 100%|██████████| 200/200 [00:05<00:00, 37.30it/s]\n",
      "episode: 095 Total reward:-1324.77 avg loss:28.1527: 100%|██████████| 200/200 [00:05<00:00, 37.36it/s]\n",
      "episode: 096 Total reward:-1521.80 avg loss:25.4208: 100%|██████████| 200/200 [00:05<00:00, 37.70it/s]\n",
      "episode: 097 Total reward:-945.45 avg loss:27.7807: 100%|██████████| 200/200 [00:05<00:00, 36.63it/s]\n",
      "episode: 098 Total reward:-1379.86 avg loss:23.8184: 100%|██████████| 200/200 [00:05<00:00, 36.96it/s]\n",
      "episode: 099 Total reward:-1335.94 avg loss:25.0945: 100%|██████████| 200/200 [00:05<00:00, 37.42it/s]\n",
      "episode: 100 Total reward:-1291.98 avg loss:26.4274: 100%|██████████| 200/200 [00:05<00:00, 36.77it/s]\n",
      "episode: 101 Total reward:-1138.58 avg loss:30.5264: 100%|██████████| 200/200 [00:05<00:00, 36.52it/s]\n",
      "episode: 102 Total reward:-1136.33 avg loss:26.8706: 100%|██████████| 200/200 [00:05<00:00, 37.42it/s]\n",
      "episode: 103 Total reward:-1165.79 avg loss:30.4025: 100%|██████████| 200/200 [00:05<00:00, 37.28it/s]\n",
      "episode: 104 Total reward:-1072.31 avg loss:17.4739: 100%|██████████| 200/200 [00:05<00:00, 36.23it/s]\n",
      "episode: 105 Total reward:-1467.09 avg loss:26.6698: 100%|██████████| 200/200 [00:05<00:00, 37.77it/s]\n",
      "episode: 106 Total reward:-1054.15 avg loss:21.3155: 100%|██████████| 200/200 [00:05<00:00, 37.14it/s]\n",
      "episode: 107 Total reward:-659.78 avg loss:26.4239: 100%|██████████| 200/200 [00:05<00:00, 36.71it/s]\n",
      "episode: 108 Total reward:-1514.57 avg loss:22.9064: 100%|██████████| 200/200 [00:05<00:00, 36.86it/s]\n",
      "episode: 109 Total reward:-537.82 avg loss:28.8513: 100%|██████████| 200/200 [00:05<00:00, 37.39it/s]\n",
      "episode: 110 Total reward:-1482.77 avg loss:27.9544: 100%|██████████| 200/200 [00:05<00:00, 36.24it/s]\n",
      "episode: 111 Total reward:-1314.73 avg loss:33.5876: 100%|██████████| 200/200 [00:05<00:00, 33.62it/s]\n",
      "episode: 112 Total reward:-1163.42 avg loss:26.3828: 100%|██████████| 200/200 [00:05<00:00, 37.41it/s]\n",
      "episode: 113 Total reward:-664.34 avg loss:28.0181: 100%|██████████| 200/200 [00:05<00:00, 37.33it/s]\n",
      "episode: 114 Total reward:-1193.06 avg loss:24.7874: 100%|██████████| 200/200 [00:05<00:00, 35.93it/s]\n",
      "episode: 115 Total reward:-705.59 avg loss:28.6101: 100%|██████████| 200/200 [00:05<00:00, 36.51it/s]\n",
      "episode: 116 Total reward:-1389.59 avg loss:28.9574: 100%|██████████| 200/200 [00:05<00:00, 37.23it/s]\n",
      "episode: 117 Total reward:-1090.08 avg loss:24.9759: 100%|██████████| 200/200 [00:05<00:00, 37.33it/s]\n",
      "episode: 118 Total reward:-606.92 avg loss:41.4111: 100%|██████████| 200/200 [00:05<00:00, 36.84it/s]\n",
      "episode: 119 Total reward:-1072.39 avg loss:43.5750: 100%|██████████| 200/200 [00:05<00:00, 37.14it/s]\n",
      "episode: 120 Total reward:-645.17 avg loss:25.4838: 100%|██████████| 200/200 [00:05<00:00, 36.90it/s]\n",
      "episode: 121 Total reward:-1535.41 avg loss:43.6630: 100%|██████████| 200/200 [00:05<00:00, 36.83it/s]\n",
      "episode: 122 Total reward:-1322.44 avg loss:33.9956: 100%|██████████| 200/200 [00:05<00:00, 35.40it/s]\n",
      "episode: 123 Total reward:-1466.19 avg loss:43.4403: 100%|██████████| 200/200 [00:05<00:00, 36.63it/s]\n",
      "episode: 124 Total reward:-534.66 avg loss:30.5369: 100%|██████████| 200/200 [00:05<00:00, 37.21it/s]\n",
      "episode: 125 Total reward:-1480.02 avg loss:39.3600: 100%|██████████| 200/200 [00:05<00:00, 36.73it/s]\n",
      "episode: 126 Total reward:-772.12 avg loss:33.5614: 100%|██████████| 200/200 [00:05<00:00, 36.61it/s]\n",
      "episode: 127 Total reward:-1559.35 avg loss:40.9864: 100%|██████████| 200/200 [00:05<00:00, 36.04it/s]\n",
      "episode: 128 Total reward:-1298.05 avg loss:42.5881: 100%|██████████| 200/200 [00:05<00:00, 36.09it/s]\n",
      "episode: 129 Total reward:-1302.26 avg loss:35.6319: 100%|██████████| 200/200 [00:05<00:00, 36.26it/s]\n",
      "episode: 130 Total reward:-1578.46 avg loss:46.9541: 100%|██████████| 200/200 [00:05<00:00, 33.68it/s]\n",
      "episode: 131 Total reward:-931.81 avg loss:41.2694: 100%|██████████| 200/200 [00:05<00:00, 33.24it/s]\n",
      "episode: 132 Total reward:-1656.51 avg loss:46.1696: 100%|██████████| 200/200 [00:05<00:00, 35.15it/s]\n",
      "episode: 133 Total reward:-1539.53 avg loss:43.4641: 100%|██████████| 200/200 [00:05<00:00, 34.35it/s]\n",
      "episode: 134 Total reward:-616.24 avg loss:39.4642: 100%|██████████| 200/200 [00:05<00:00, 37.55it/s]\n",
      "episode: 135 Total reward:-1386.31 avg loss:47.3164: 100%|██████████| 200/200 [00:05<00:00, 35.97it/s]\n",
      "episode: 136 Total reward:-1337.29 avg loss:49.6577: 100%|██████████| 200/200 [00:05<00:00, 34.77it/s]\n",
      "episode: 137 Total reward:-1053.48 avg loss:44.2583: 100%|██████████| 200/200 [00:05<00:00, 33.01it/s]\n",
      "episode: 138 Total reward:-1332.24 avg loss:57.9130: 100%|██████████| 200/200 [00:06<00:00, 31.63it/s]\n",
      "episode: 139 Total reward:-612.56 avg loss:57.1257: 100%|██████████| 200/200 [00:05<00:00, 35.14it/s]\n",
      "episode: 140 Total reward:-782.23 avg loss:58.8800: 100%|██████████| 200/200 [00:05<00:00, 35.56it/s]\n",
      "episode: 141 Total reward:-707.92 avg loss:41.4252: 100%|██████████| 200/200 [00:05<00:00, 37.37it/s]\n",
      "episode: 142 Total reward:-658.35 avg loss:46.8392: 100%|██████████| 200/200 [00:05<00:00, 37.65it/s]\n",
      "episode: 143 Total reward:-1494.28 avg loss:45.9992: 100%|██████████| 200/200 [00:05<00:00, 37.58it/s]\n",
      "episode: 144 Total reward:-1300.75 avg loss:37.3237: 100%|██████████| 200/200 [00:05<00:00, 37.26it/s]\n",
      "episode: 145 Total reward:-574.22 avg loss:40.3922: 100%|██████████| 200/200 [00:05<00:00, 36.58it/s]\n",
      "episode: 146 Total reward:-1106.66 avg loss:51.6060: 100%|██████████| 200/200 [00:05<00:00, 33.87it/s]\n",
      "episode: 147 Total reward:-1228.54 avg loss:47.2019: 100%|██████████| 200/200 [00:06<00:00, 28.90it/s]\n",
      "episode: 148 Total reward:-1456.66 avg loss:61.6603: 100%|██████████| 200/200 [00:05<00:00, 34.24it/s]\n",
      "episode: 149 Total reward:-401.40 avg loss:50.4968: 100%|██████████| 200/200 [00:06<00:00, 19.33it/s]\n",
      "episode: 150 Total reward:-505.30 avg loss:52.4676: 100%|██████████| 200/200 [00:09<00:00, 22.02it/s]\n",
      "episode: 151 Total reward:-1377.42 avg loss:51.0381: 100%|██████████| 200/200 [00:06<00:00, 29.32it/s]\n",
      "episode: 152 Total reward:-402.05 avg loss:59.7700: 100%|██████████| 200/200 [00:07<00:00, 27.31it/s]\n",
      "episode: 153 Total reward:-1310.22 avg loss:49.1610: 100%|██████████| 200/200 [00:06<00:00, 33.00it/s]\n",
      "episode: 154 Total reward:-1320.23 avg loss:49.4149: 100%|██████████| 200/200 [00:05<00:00, 33.60it/s]\n",
      "episode: 155 Total reward:-1225.49 avg loss:54.2421: 100%|██████████| 200/200 [00:05<00:00, 33.69it/s]\n",
      "episode: 156 Total reward:-524.97 avg loss:57.9005: 100%|██████████| 200/200 [00:06<00:00, 31.03it/s]\n",
      "episode: 157 Total reward:-1503.95 avg loss:74.9963: 100%|██████████| 200/200 [00:06<00:00, 32.26it/s]\n",
      "episode: 158 Total reward:-1411.03 avg loss:36.6735: 100%|██████████| 200/200 [00:05<00:00, 28.85it/s]\n"
     ]
    },
    {
     "name": "stderr",
     "output_type": "stream",
     "text": [
      "episode: 159 Total reward:-1323.94 avg loss:65.3709: 100%|██████████| 200/200 [00:06<00:00, 31.86it/s]\n",
      "episode: 160 Total reward:-1179.96 avg loss:73.5786: 100%|██████████| 200/200 [00:05<00:00, 33.74it/s]\n",
      "episode: 161 Total reward:-1296.53 avg loss:50.3788: 100%|██████████| 200/200 [00:06<00:00, 32.14it/s]\n",
      "episode: 162 Total reward:-1208.92 avg loss:55.3549: 100%|██████████| 200/200 [00:06<00:00, 29.61it/s]\n",
      "episode: 163 Total reward:-398.93 avg loss:60.2574: 100%|██████████| 200/200 [00:05<00:00, 34.40it/s]\n",
      "episode: 164 Total reward:-270.27 avg loss:72.1277: 100%|██████████| 200/200 [00:05<00:00, 34.53it/s]\n",
      "episode: 165 Total reward:-1124.80 avg loss:59.9640: 100%|██████████| 200/200 [00:05<00:00, 33.80it/s]\n",
      "episode: 166 Total reward:-138.22 avg loss:69.0461: 100%|██████████| 200/200 [00:05<00:00, 32.74it/s]\n",
      "episode: 167 Total reward:-1182.23 avg loss:68.5150: 100%|██████████| 200/200 [00:06<00:00, 32.62it/s]\n",
      "episode: 168 Total reward:-134.40 avg loss:72.2578: 100%|██████████| 200/200 [00:05<00:00, 35.93it/s]\n",
      "episode: 169 Total reward:-1504.66 avg loss:67.1103: 100%|██████████| 200/200 [00:05<00:00, 35.69it/s]\n",
      "episode: 170 Total reward:-1039.31 avg loss:58.4074: 100%|██████████| 200/200 [00:05<00:00, 35.17it/s]\n",
      "episode: 171 Total reward:-2.77 avg loss:76.4682: 100%|██████████| 200/200 [00:05<00:00, 35.02it/s]\n",
      "episode: 172 Total reward:-1188.84 avg loss:83.3815: 100%|██████████| 200/200 [00:05<00:00, 34.06it/s]\n",
      "episode: 173 Total reward:-933.87 avg loss:63.5213: 100%|██████████| 200/200 [00:06<00:00, 21.45it/s]\n",
      "episode: 174 Total reward:-1437.05 avg loss:72.9095: 100%|██████████| 200/200 [00:06<00:00, 30.70it/s]\n",
      "episode: 175 Total reward:-1538.70 avg loss:71.2370: 100%|██████████| 200/200 [00:10<00:00, 19.47it/s]\n",
      "episode: 176 Total reward:-123.71 avg loss:81.2684: 100%|██████████| 200/200 [00:05<00:00, 33.81it/s]\n",
      "episode: 177 Total reward:-131.45 avg loss:59.0721: 100%|██████████| 200/200 [00:05<00:00, 33.66it/s]\n",
      "episode: 178 Total reward:-120.21 avg loss:55.5696: 100%|██████████| 200/200 [00:05<00:00, 33.47it/s]\n",
      "episode: 179 Total reward:-113.33 avg loss:74.2750: 100%|██████████| 200/200 [00:06<00:00, 32.59it/s]\n",
      "episode: 180 Total reward:-125.11 avg loss:78.6799: 100%|██████████| 200/200 [00:05<00:00, 33.64it/s]\n",
      "episode: 181 Total reward:-2.64 avg loss:74.4657: 100%|██████████| 200/200 [00:06<00:00, 33.28it/s]\n",
      "episode: 182 Total reward:-1527.08 avg loss:62.6531: 100%|██████████| 200/200 [00:06<00:00, 32.83it/s]\n",
      "episode: 183 Total reward:-0.97 avg loss:66.8884: 100%|██████████| 200/200 [00:06<00:00, 33.10it/s]\n",
      "episode: 184 Total reward:-113.81 avg loss:64.1070: 100%|██████████| 200/200 [00:06<00:00, 33.30it/s]\n",
      "episode: 185 Total reward:-1507.80 avg loss:69.2246: 100%|██████████| 200/200 [00:05<00:00, 33.57it/s]\n",
      "episode: 186 Total reward:-257.25 avg loss:58.7043: 100%|██████████| 200/200 [00:06<00:00, 32.90it/s]\n",
      "episode: 187 Total reward:-119.86 avg loss:66.1964: 100%|██████████| 200/200 [00:05<00:00, 33.58it/s]\n",
      "episode: 188 Total reward:-1042.52 avg loss:70.5958: 100%|██████████| 200/200 [00:06<00:00, 33.25it/s]\n",
      "episode: 189 Total reward:-122.12 avg loss:66.2096: 100%|██████████| 200/200 [00:07<00:00, 26.29it/s]\n",
      "episode: 190 Total reward:-1587.20 avg loss:88.7857: 100%|██████████| 200/200 [00:07<00:00, 28.53it/s]\n",
      "episode: 191 Total reward:-1139.16 avg loss:69.1632: 100%|██████████| 200/200 [00:07<00:00, 30.11it/s]\n",
      "episode: 192 Total reward:-128.21 avg loss:75.8796: 100%|██████████| 200/200 [00:09<00:00, 19.91it/s]\n",
      "episode: 193 Total reward:-1407.98 avg loss:79.9571: 100%|██████████| 200/200 [00:06<00:00, 28.69it/s]\n",
      "episode: 194 Total reward:-125.19 avg loss:62.0248: 100%|██████████| 200/200 [00:06<00:00, 28.62it/s]\n",
      "episode: 195 Total reward:-2.22 avg loss:81.1293: 100%|██████████| 200/200 [00:06<00:00, 32.72it/s]\n",
      "episode: 196 Total reward:-122.60 avg loss:76.2679: 100%|██████████| 200/200 [00:07<00:00, 27.75it/s]\n",
      "episode: 197 Total reward:-123.03 avg loss:80.9428: 100%|██████████| 200/200 [00:06<00:00, 31.23it/s]\n",
      "episode: 198 Total reward:-1456.61 avg loss:65.0545: 100%|██████████| 200/200 [00:07<00:00, 26.98it/s]\n",
      "episode: 199 Total reward:-124.66 avg loss:85.4601: 100%|██████████| 200/200 [00:08<00:00, 22.84it/s]\n",
      "episode: 200 Total reward:-124.04 avg loss:76.5124: 100%|██████████| 200/200 [00:07<00:00, 26.91it/s]\n",
      "episode: 201 Total reward:-1494.07 avg loss:66.4130: 100%|██████████| 200/200 [00:06<00:00, 26.87it/s]\n",
      "episode: 202 Total reward:-120.40 avg loss:76.8992: 100%|██████████| 200/200 [00:07<00:00, 27.73it/s]\n",
      "episode: 203 Total reward:-879.44 avg loss:72.9308: 100%|██████████| 200/200 [00:06<00:00, 33.33it/s]\n",
      "episode: 204 Total reward:-116.48 avg loss:47.3658: 100%|██████████| 200/200 [00:06<00:00, 31.92it/s]\n",
      "episode: 205 Total reward:-2.27 avg loss:94.3693: 100%|██████████| 200/200 [00:07<00:00, 28.82it/s]\n",
      "episode: 206 Total reward:-122.36 avg loss:70.2160: 100%|██████████| 200/200 [00:06<00:00, 31.35it/s]\n",
      "episode: 207 Total reward:-1331.65 avg loss:66.1923: 100%|██████████| 200/200 [00:06<00:00, 29.94it/s]\n",
      "episode: 208 Total reward:-1389.08 avg loss:56.8991: 100%|██████████| 200/200 [00:07<00:00, 28.28it/s]\n",
      "episode: 209 Total reward:-1255.40 avg loss:80.2815: 100%|██████████| 200/200 [00:06<00:00, 29.43it/s]\n",
      "episode: 210 Total reward:-1343.43 avg loss:84.0670: 100%|██████████| 200/200 [00:06<00:00, 30.36it/s]\n",
      "episode: 211 Total reward:-1493.84 avg loss:85.5070: 100%|██████████| 200/200 [00:06<00:00, 31.16it/s]\n",
      "episode: 212 Total reward:-118.31 avg loss:70.9057: 100%|██████████| 200/200 [00:06<00:00, 29.90it/s]\n",
      "episode: 213 Total reward:-1342.60 avg loss:81.8662: 100%|██████████| 200/200 [00:06<00:00, 29.24it/s]\n",
      "episode: 214 Total reward:-6.74 avg loss:81.1789: 100%|██████████| 200/200 [00:07<00:00, 26.85it/s]\n",
      "episode: 215 Total reward:-4.53 avg loss:73.5301: 100%|██████████| 200/200 [00:06<00:00, 30.24it/s]\n",
      "episode: 216 Total reward:-123.66 avg loss:63.3935: 100%|██████████| 200/200 [00:06<00:00, 30.86it/s]\n",
      "episode: 217 Total reward:-1489.69 avg loss:90.2248: 100%|██████████| 200/200 [00:06<00:00, 33.04it/s]\n",
      "episode: 218 Total reward:-1187.01 avg loss:80.6956: 100%|██████████| 200/200 [00:06<00:00, 31.40it/s]\n",
      "episode: 219 Total reward:-945.62 avg loss:87.8289: 100%|██████████| 200/200 [00:06<00:00, 31.59it/s]\n",
      "episode: 220 Total reward:-125.76 avg loss:76.5319: 100%|██████████| 200/200 [00:06<00:00, 31.55it/s]\n",
      "episode: 221 Total reward:-1712.15 avg loss:79.5750: 100%|██████████| 200/200 [00:07<00:00, 22.84it/s]\n",
      "episode: 222 Total reward:-1002.12 avg loss:98.0395: 100%|██████████| 200/200 [00:06<00:00, 29.84it/s]\n",
      "episode: 223 Total reward:-1003.76 avg loss:108.5545: 100%|██████████| 200/200 [00:05<00:00, 34.34it/s]\n",
      "episode: 224 Total reward:-1054.08 avg loss:84.3527: 100%|██████████| 200/200 [00:06<00:00, 30.48it/s]\n",
      "episode: 225 Total reward:-1446.57 avg loss:76.3148: 100%|██████████| 200/200 [00:05<00:00, 37.30it/s]\n",
      "episode: 226 Total reward:-1407.19 avg loss:100.1360: 100%|██████████| 200/200 [00:06<00:00, 27.93it/s]\n",
      "episode: 227 Total reward:-946.72 avg loss:65.4099: 100%|██████████| 200/200 [00:06<00:00, 29.39it/s]\n",
      "episode: 228 Total reward:-727.77 avg loss:111.9351: 100%|██████████| 200/200 [00:06<00:00, 29.07it/s]\n",
      "episode: 229 Total reward:-1194.61 avg loss:84.0979: 100%|██████████| 200/200 [00:06<00:00, 30.73it/s]\n",
      "episode: 230 Total reward:-1175.39 avg loss:89.6562: 100%|██████████| 200/200 [00:06<00:00, 32.90it/s]\n",
      "episode: 231 Total reward:-1122.83 avg loss:80.0666: 100%|██████████| 200/200 [00:06<00:00, 32.37it/s]\n",
      "episode: 232 Total reward:-123.57 avg loss:103.4899: 100%|██████████| 200/200 [00:05<00:00, 34.04it/s]\n",
      "episode: 233 Total reward:-1419.88 avg loss:79.1871: 100%|██████████| 200/200 [00:05<00:00, 34.70it/s]\n",
      "episode: 234 Total reward:-475.38 avg loss:85.8688: 100%|██████████| 200/200 [00:05<00:00, 35.43it/s]\n",
      "episode: 235 Total reward:-1488.68 avg loss:88.4840: 100%|██████████| 200/200 [00:05<00:00, 34.96it/s]\n",
      "episode: 236 Total reward:-1357.01 avg loss:105.1880: 100%|██████████| 200/200 [00:06<00:00, 33.15it/s]\n",
      "episode: 237 Total reward:-1321.05 avg loss:81.6434: 100%|██████████| 200/200 [00:06<00:00, 30.21it/s]\n",
      "episode: 238 Total reward:-7.38 avg loss:87.9187: 100%|██████████| 200/200 [00:06<00:00, 31.06it/s]\n"
     ]
    },
    {
     "name": "stderr",
     "output_type": "stream",
     "text": [
      "episode: 239 Total reward:-1173.19 avg loss:101.8424: 100%|██████████| 200/200 [00:06<00:00, 34.58it/s]\n",
      "episode: 240 Total reward:-136.61 avg loss:80.7692: 100%|██████████| 200/200 [00:07<00:00, 27.12it/s]\n",
      "episode: 241 Total reward:-1093.97 avg loss:101.4220: 100%|██████████| 200/200 [00:05<00:00, 31.49it/s]\n",
      "episode: 242 Total reward:-1519.06 avg loss:76.7636: 100%|██████████| 200/200 [00:05<00:00, 35.09it/s]\n",
      "episode: 243 Total reward:-1268.78 avg loss:87.5917: 100%|██████████| 200/200 [00:05<00:00, 33.36it/s]\n",
      "episode: 244 Total reward:-241.53 avg loss:75.0846: 100%|██████████| 200/200 [00:06<00:00, 32.43it/s]\n",
      "episode: 245 Total reward:-948.17 avg loss:101.5172: 100%|██████████| 200/200 [00:06<00:00, 32.13it/s]\n",
      "episode: 246 Total reward:-1292.09 avg loss:86.0632: 100%|██████████| 200/200 [00:05<00:00, 37.44it/s]\n",
      "episode: 247 Total reward:-136.20 avg loss:101.2288: 100%|██████████| 200/200 [00:05<00:00, 38.11it/s]\n",
      "episode: 248 Total reward:-1192.75 avg loss:85.8086: 100%|██████████| 200/200 [00:05<00:00, 37.95it/s]\n",
      "episode: 249 Total reward:-1499.22 avg loss:109.8326: 100%|██████████| 200/200 [00:05<00:00, 35.26it/s]\n",
      "episode: 250 Total reward:-1303.74 avg loss:78.7341: 100%|██████████| 200/200 [00:06<00:00, 32.27it/s]\n",
      "episode: 251 Total reward:-1270.66 avg loss:104.7396: 100%|██████████| 200/200 [00:05<00:00, 31.68it/s]\n",
      "episode: 252 Total reward:-977.50 avg loss:85.4104: 100%|██████████| 200/200 [00:06<00:00, 32.43it/s]\n",
      "episode: 253 Total reward:-945.07 avg loss:86.8539: 100%|██████████| 200/200 [00:05<00:00, 34.32it/s]\n",
      "episode: 254 Total reward:-1293.33 avg loss:72.6738: 100%|██████████| 200/200 [00:05<00:00, 37.88it/s]\n",
      "episode: 255 Total reward:-1637.73 avg loss:98.4708: 100%|██████████| 200/200 [00:05<00:00, 37.85it/s]\n",
      "episode: 256 Total reward:-1587.23 avg loss:114.8469: 100%|██████████| 200/200 [00:06<00:00, 31.72it/s]\n",
      "episode: 257 Total reward:-1337.45 avg loss:87.0084: 100%|██████████| 200/200 [00:06<00:00, 38.58it/s]\n",
      "episode: 258 Total reward:-1529.72 avg loss:83.1729: 100%|██████████| 200/200 [00:05<00:00, 37.91it/s]\n",
      "episode: 259 Total reward:-1355.59 avg loss:108.4458: 100%|██████████| 200/200 [00:05<00:00, 34.87it/s]\n",
      "episode: 260 Total reward:-1310.91 avg loss:110.4514: 100%|██████████| 200/200 [00:06<00:00, 33.80it/s]\n",
      "episode: 261 Total reward:-1253.95 avg loss:81.7879: 100%|██████████| 200/200 [00:05<00:00, 35.11it/s]\n",
      "episode: 262 Total reward:-131.16 avg loss:114.3933: 100%|██████████| 200/200 [00:05<00:00, 38.02it/s]\n",
      "episode: 263 Total reward:-1553.20 avg loss:89.8636: 100%|██████████| 200/200 [00:05<00:00, 38.02it/s]\n",
      "episode: 264 Total reward:-124.34 avg loss:108.1160: 100%|██████████| 200/200 [00:05<00:00, 37.25it/s]\n",
      "episode: 265 Total reward:-1114.70 avg loss:106.6003: 100%|██████████| 200/200 [00:05<00:00, 37.45it/s]\n",
      "episode: 266 Total reward:-1563.61 avg loss:101.3356: 100%|██████████| 200/200 [00:05<00:00, 38.05it/s]\n",
      "episode: 267 Total reward:-129.86 avg loss:117.9903: 100%|██████████| 200/200 [00:05<00:00, 34.87it/s]\n",
      "episode: 268 Total reward:-1493.30 avg loss:125.6016: 100%|██████████| 200/200 [00:05<00:00, 34.29it/s]\n",
      "episode: 269 Total reward:-1191.03 avg loss:110.1929: 100%|██████████| 200/200 [00:06<00:00, 31.04it/s]\n",
      "episode: 270 Total reward:-120.75 avg loss:93.5229: 100%|██████████| 200/200 [00:06<00:00, 29.64it/s]\n",
      "episode: 271 Total reward:-116.91 avg loss:95.2329: 100%|██████████| 200/200 [00:06<00:00, 32.74it/s]\n",
      "episode: 272 Total reward:-1561.57 avg loss:136.4639: 100%|██████████| 200/200 [00:06<00:00, 30.43it/s]\n",
      "episode: 273 Total reward:-1146.92 avg loss:82.1257: 100%|██████████| 200/200 [00:06<00:00, 31.94it/s]\n",
      "episode: 274 Total reward:-1556.60 avg loss:112.8911: 100%|██████████| 200/200 [00:06<00:00, 29.66it/s]\n",
      "episode: 275 Total reward:-1560.23 avg loss:112.8920: 100%|██████████| 200/200 [00:06<00:00, 33.32it/s]\n",
      "episode: 276 Total reward:-1.48 avg loss:123.2797: 100%|██████████| 200/200 [00:06<00:00, 33.98it/s]\n",
      "episode: 277 Total reward:-124.53 avg loss:110.3917: 100%|██████████| 200/200 [00:05<00:00, 35.56it/s]\n",
      "episode: 278 Total reward:-1024.35 avg loss:101.1828: 100%|██████████| 200/200 [00:05<00:00, 35.26it/s]\n",
      "episode: 279 Total reward:-1376.32 avg loss:135.0888: 100%|██████████| 200/200 [00:05<00:00, 37.33it/s]\n",
      "episode: 280 Total reward:-901.21 avg loss:89.4278: 100%|██████████| 200/200 [00:05<00:00, 30.99it/s]\n",
      "episode: 281 Total reward:-1417.48 avg loss:117.0209: 100%|██████████| 200/200 [00:05<00:00, 32.47it/s]\n",
      "episode: 282 Total reward:-1491.60 avg loss:104.7142: 100%|██████████| 200/200 [00:06<00:00, 31.82it/s]\n",
      "episode: 283 Total reward:-1109.87 avg loss:104.9899: 100%|██████████| 200/200 [00:06<00:00, 33.27it/s]\n",
      "episode: 284 Total reward:-930.75 avg loss:127.5831: 100%|██████████| 200/200 [00:05<00:00, 34.86it/s]\n",
      "episode: 285 Total reward:-949.03 avg loss:119.2877: 100%|██████████| 200/200 [00:06<00:00, 31.17it/s]\n",
      "episode: 286 Total reward:-1333.24 avg loss:106.8397: 100%|██████████| 200/200 [00:06<00:00, 28.91it/s]\n",
      "episode: 287 Total reward:-1380.99 avg loss:91.8166: 100%|██████████| 200/200 [00:06<00:00, 31.25it/s]\n",
      "episode: 288 Total reward:-1245.63 avg loss:113.7215: 100%|██████████| 200/200 [00:06<00:00, 32.03it/s]\n",
      "episode: 289 Total reward:-122.11 avg loss:105.8308: 100%|██████████| 200/200 [00:05<00:00, 36.50it/s]\n",
      "episode: 290 Total reward:-930.53 avg loss:93.9925: 100%|██████████| 200/200 [00:05<00:00, 37.00it/s]\n",
      "episode: 291 Total reward:-114.39 avg loss:95.4085: 100%|██████████| 200/200 [00:05<00:00, 33.84it/s]\n",
      "episode: 292 Total reward:-1344.70 avg loss:118.9694: 100%|██████████| 200/200 [00:06<00:00, 32.83it/s]\n",
      "episode: 293 Total reward:-1310.01 avg loss:88.2890: 100%|██████████| 200/200 [00:05<00:00, 35.28it/s]\n",
      "episode: 294 Total reward:-1491.23 avg loss:100.7947: 100%|██████████| 200/200 [00:05<00:00, 33.85it/s]\n",
      "episode: 295 Total reward:-1481.12 avg loss:117.3064: 100%|██████████| 200/200 [00:05<00:00, 34.29it/s]\n",
      "episode: 296 Total reward:-240.89 avg loss:97.6773: 100%|██████████| 200/200 [00:08<00:00, 22.69it/s]\n",
      "episode: 297 Total reward:-531.06 avg loss:121.7113: 100%|██████████| 200/200 [00:06<00:00, 32.25it/s]\n",
      "episode: 298 Total reward:-980.55 avg loss:132.1308: 100%|██████████| 200/200 [00:06<00:00, 33.33it/s]\n",
      "episode: 299 Total reward:-127.87 avg loss:128.4145: 100%|██████████| 200/200 [00:05<00:00, 34.22it/s]\n"
     ]
    }
   ],
   "source": [
    "[reward_list, loss_list]=ddpg.train(num_episodes=300)"
   ]
  },
  {
   "cell_type": "markdown",
   "metadata": {},
   "source": [
    "## Testing"
   ]
  },
  {
   "cell_type": "code",
   "execution_count": 8,
   "metadata": {},
   "outputs": [
    {
     "name": "stderr",
     "output_type": "stream",
     "text": [
      "episode: 000 Total reward:-117.97: 100%|██████████| 200/200 [00:00<00:00, 381.04it/s]    \n",
      "episode: 001 Total reward:-402.26: 100%|██████████| 200/200 [00:00<00:00, 379.77it/s]    \n",
      "episode: 002 Total reward:-1634.05: 100%|██████████| 200/200 [00:00<00:00, 308.75it/s]    \n",
      "episode: 003 Total reward:-1590.84: 100%|██████████| 200/200 [00:00<00:00, 274.79it/s]    \n",
      "episode: 004 Total reward:-0.22: 100%|██████████| 200/200 [00:00<00:00, 272.50it/s]    \n",
      "episode: 005 Total reward:-1649.63: 100%|██████████| 200/200 [00:00<00:00, 334.81it/s]    \n",
      "episode: 006 Total reward:-255.00: 100%|██████████| 200/200 [00:00<00:00, 342.55it/s]    \n",
      "episode: 007 Total reward:-127.28: 100%|██████████| 200/200 [00:00<00:00, 345.23it/s]    \n",
      "episode: 008 Total reward:-0.96: 100%|██████████| 200/200 [00:00<00:00, 344.57it/s]    \n",
      "episode: 009 Total reward:-122.05: 100%|██████████| 200/200 [00:00<00:00, 322.47it/s]    \n"
     ]
    }
   ],
   "source": [
    "test_reward_list = ddpg.test(render=False,episodes=10)"
   ]
  },
  {
   "cell_type": "markdown",
   "metadata": {},
   "source": [
    "## Plotting the test result"
   ]
  },
  {
   "cell_type": "code",
   "execution_count": 9,
   "metadata": {},
   "outputs": [
    {
     "data": {
      "text/plain": [
       "Text(0,0.5,'Total Rewards per Episode')"
      ]
     },
     "execution_count": 9,
     "metadata": {},
     "output_type": "execute_result"
    },
    {
     "data": {
      "image/png": "[encoded data removed]",
      "text/plain": [
       "<matplotlib.figure.Figure at 0x10d14e828>"
      ]
     },
     "metadata": {},
     "output_type": "display_data"
    }
   ],
   "source": [
    "import matplotlib.pyplot as plt\n",
    "%matplotlib inline\n",
    "plt.plot(test_reward_list)\n",
    "plt.xlabel(\"Episodes\")\n",
    "plt.ylabel(\"Total Rewards per Episode\")"
   ]
  },
  {
   "cell_type": "code",
   "execution_count": null,
   "metadata": {},
   "outputs": [],
   "source": []
  },
  {
   "cell_type": "code",
   "execution_count": null,
   "metadata": {},
   "outputs": [],
   "source": []
  }
 ],
 "metadata": {
  "kernelspec": {
   "display_name": "Python 3",
   "language": "python",
   "name": "python3"
  },
  "language_info": {
   "codemirror_mode": {
    "name": "ipython",
    "version": 3
   },
   "file_extension": ".py",
   "mimetype": "text/x-python",
   "name": "python",
   "nbconvert_exporter": "python",
   "pygments_lexer": "ipython3",
   "version": "3.6.3"
  }
 },
 "nbformat": 4,
 "nbformat_minor": 2
}
