{
 "cells": [
  {
   "cell_type": "markdown",
   "metadata": {},
   "source": [
    "## Import necessary packages tutorial"
   ]
  },
  {
   "cell_type": "code",
   "execution_count": 1,
   "metadata": {},
   "outputs": [],
   "source": [
    "import gym\n",
    "import renom as rm\n",
    "from renom.utility.initializer import Uniform, GlorotUniform\n",
    "from renom_rl.continuous.a3c import A3C\n",
    "from renom_rl.environ.openai import Pendulum\n",
    "from renom.utility.initializer import Gaussian"
   ]
  },
  {
   "cell_type": "markdown",
   "metadata": {},
   "source": [
    "## Deifne the environment tutorial"
   ]
  },
  {
   "cell_type": "code",
   "execution_count": 2,
   "metadata": {},
   "outputs": [],
   "source": [
    "custom_env = Pendulum()"
   ]
  },
  {
   "cell_type": "markdown",
   "metadata": {},
   "source": [
    "## Define the actor network tutorial"
   ]
  },
  {
   "cell_type": "markdown",
   "metadata": {},
   "source": [
    "## Instantiating the actor & ciritic networks "
   ]
  },
  {
   "cell_type": "code",
   "execution_count": 3,
   "metadata": {},
   "outputs": [],
   "source": [
    "class AC(rm.Model):\n",
    "    \n",
    "    def __init__(self):\n",
    "        bias = False\n",
    "        self._dn1 = rm.Dense(100, ignore_bias=bias)\n",
    "        self._dn2 = rm.Dense(100, ignore_bias=bias)\n",
    "        self._dn_a = rm.Dense(2, ignore_bias=bias)\n",
    "        self._dn_c = rm.Dense(1, ignore_bias=bias)\n",
    "\n",
    "    def forward(self, x):\n",
    "        h = rm.relu(self._dn1(x))\n",
    "        h = rm.relu(self._dn2(h))\n",
    "        p = self._dn_a(h)\n",
    "        v = self._dn_c(h)\n",
    "        return p, v\n",
    "    \n",
    "nn_model = AC()"
   ]
  },
  {
   "cell_type": "markdown",
   "metadata": {},
   "source": [
    "## Instantiating the DDPG class"
   ]
  },
  {
   "cell_type": "code",
   "execution_count": 4,
   "metadata": {},
   "outputs": [],
   "source": [
    "ddpg = A3C(custom_env, nn_model, loss_func=rm.mse, num_worker=8)"
   ]
  },
  {
   "cell_type": "markdown",
   "metadata": {},
   "source": [
    "## Training "
   ]
  },
  {
   "cell_type": "code",
   "execution_count": null,
   "metadata": {
    "scrolled": false
   },
   "outputs": [
    {
     "name": "stderr",
     "output_type": "stream",
     "text": [
      "0000 Average Train reward: -1341.310 Test reward: -1073.485: : 40it [00:17,  3.22it/s]\n",
      "0001 Average Train reward: -1075.408 Test reward: -1133.501: : 40it [00:17,  2.32it/s]\n",
      "0002 Average Train reward: -1288.327 Test reward: -1134.237: : 40it [00:17,  2.33it/s]\n",
      "0003 Average Train reward: -1041.392 Test reward: -1441.331: : 40it [00:17,  3.35it/s]\n",
      "0004 Average Train reward: -1224.987 Test reward: -1841.926: : 40it [00:17,  5.03it/s]\n",
      "0005 Average Train reward: -1433.133 Test reward: -1346.926: : 40it [00:17,  4.28it/s]\n",
      "0006 Average Train reward: -1202.385 Test reward: -1507.409: : 40it [00:17,  3.99it/s]\n",
      "0007 Average Train reward: -1199.685 Test reward: -1723.638: : 40it [00:17,  2.34it/s]\n",
      "0008 Average Train reward: -1403.198 Test reward: -1382.511: : 40it [00:16,  4.78it/s]\n",
      "0009 Average Train reward: -1141.435 Test reward: -1052.756: : 40it [00:17,  3.18it/s]\n",
      "0010 Average Train reward: -1196.301 Test reward: -1456.553: : 40it [00:16,  3.52it/s]\n",
      "0011 Average Train reward: -1173.710 Test reward: -1262.061: : 40it [00:17,  3.54it/s]\n",
      "0012 Average Train reward: -1154.232 Test reward: -1451.872: : 40it [00:17,  3.64it/s]\n",
      "0013 Average Train reward: -1318.498 Test reward: -1224.223: : 40it [00:17,  2.33it/s]\n",
      "0014 Average Train reward: -1209.453 Test reward: -1839.098: : 40it [00:16,  3.58it/s]\n",
      "0015 Average Train reward: -1060.499 Test reward: -1196.678: : 40it [00:17,  3.77it/s]\n",
      "0016 Average Train reward: -1042.027 Test reward: -1750.379: : 40it [00:17,  5.10it/s]\n",
      "0017 Average Train reward: -1132.190 Test reward: -1604.115: : 40it [00:16,  4.85it/s]\n",
      "0018 Average Train reward: -1173.020 Test reward: -1385.661: : 40it [00:17,  2.34it/s]\n",
      "0019 Average Train reward: -1131.348 Test reward: -1209.603: : 40it [00:16,  3.94it/s]\n",
      "0020 Average Train reward: -1414.140 Test reward: -1389.185: : 40it [00:16,  3.12it/s]\n",
      "0021 Average Train reward: -1309.690 Test reward: -1331.050: : 40it [00:16,  3.44it/s]\n",
      "0022 Average Train reward: -1237.112 Test reward: -1779.177: : 40it [00:17,  2.60it/s]\n",
      "0023 Average Train reward: -1227.675 Test reward: -1185.854: : 40it [00:17,  3.45it/s]\n",
      "0024 Average Train reward: -1194.429 Test reward: -1070.552: : 40it [00:17,  2.34it/s]\n",
      "0025 Average Train reward: -1314.477 Test reward: -1164.551: : 40it [00:16,  4.74it/s]\n",
      "0026 Average Train reward: -1212.388 Test reward: -1212.625: : 40it [00:17,  3.55it/s]\n",
      "0027 Average Train reward: -1285.410 Test reward: -1235.873: : 40it [00:17,  3.46it/s]\n",
      "0028 Average Train reward: -1220.971 Test reward: -1700.593: : 40it [00:17,  3.30it/s]\n",
      "0029 Average Train reward: -1301.371 Test reward: -1227.751: : 40it [00:17,  4.08it/s]\n",
      "0030 Average Train reward: -1055.014 Test reward: -1340.430: : 40it [00:17,  4.14it/s]\n",
      "0031 Average Train reward: -1308.602 Test reward: -1175.470: : 40it [00:17,  2.33it/s]\n",
      "0032 Average Train reward: -1115.353 Test reward: -1235.494: : 40it [00:17,  2.34it/s]\n",
      "0033 Average Train reward: -1293.597 Test reward: -1392.445: : 40it [00:16,  2.36it/s]\n",
      "0034 Average Train reward: -1256.920 Test reward: -960.248: : 40it [00:16,  4.36it/s]\n",
      "0035 Average Train reward: -990.845 Test reward: -1597.569: : 40it [00:17,  2.34it/s]\n",
      "0036 Average Train reward: -1239.250 Test reward: -1282.158: : 40it [00:17,  4.17it/s]\n",
      "0037 Average Train reward: -1093.568 Test reward: -1676.121: : 40it [00:17,  2.34it/s]\n",
      "0038 Average Train reward: -1294.581 Test reward: -1233.392: : 40it [00:16,  2.37it/s]\n",
      "0039 Average Train reward: -1095.000 Test reward: -1198.426: : 40it [00:16,  2.36it/s]\n",
      "0040 Average Train reward: -1136.571 Test reward: -1406.642: : 40it [00:17,  4.70it/s]\n",
      "0041 Average Train reward: -1262.306 Test reward: -1338.629: : 40it [00:17,  2.80it/s]\n",
      "0042 Average Train reward: -1225.761 Test reward: -1842.855: : 40it [00:17,  2.83it/s]\n",
      "0043 Average Train reward: -1276.844 Test reward: -1664.584: : 40it [00:17,  3.58it/s]\n",
      "0044 Average Train reward: -1112.019 Test reward: -1111.049: : 40it [00:17,  2.35it/s]\n",
      "0045 Average Train reward: -1399.719 Test reward: -1301.989: : 40it [00:17,  2.33it/s]\n",
      "0046 Average Train reward: -1059.437 Test reward: -1175.560: : 40it [00:17,  2.97it/s]\n",
      "0047 Average Train reward: -1225.120 Test reward: -1865.459: : 40it [00:17,  2.34it/s]\n",
      "0048 Average Train reward: -1041.885 Test reward: -1226.286: : 40it [00:17,  2.87it/s]\n",
      "0049 Average Train reward: -1192.490 Test reward: -956.227: : 40it [00:17,  2.32it/s]\n",
      "0050 Average Train reward: -1163.269 Test reward: -1272.711: : 40it [00:17,  4.14it/s]\n",
      "0051 Average Train reward: -1469.813 Test reward: -1175.766: : 40it [00:17,  4.81it/s]\n",
      "0052 Average Train reward: -1241.155 Test reward: -1716.849: : 40it [00:17,  3.29it/s]\n",
      "0053 Average Train reward: -1122.367 Test reward: -1466.462: : 40it [00:17,  3.79it/s]\n",
      "0054 Average Train reward: -1341.938 Test reward: -1550.398: : 40it [00:17,  4.14it/s]\n",
      "0055 Average Train reward: -1019.750 Test reward: -1538.367: : 40it [00:17,  2.61it/s]\n",
      "0056 Average Train reward: -1190.480 Test reward: -1482.922: : 40it [00:17,  3.41it/s]\n",
      "0057 Average Train reward: -1220.566 Test reward: -1835.775: : 40it [00:17,  3.53it/s]\n",
      "0058 Average Train reward: -1171.266 Test reward: -1599.787: : 40it [00:17,  3.58it/s]\n",
      "0059 Average Train reward: -1133.442 Test reward: -970.721: : 40it [00:17,  2.79it/s]\n",
      "0060 Average Train reward: -1258.540 Test reward: -1797.290: : 40it [00:17,  4.58it/s]\n",
      "0061 Average Train reward: -1272.566 Test reward: -1647.965: : 40it [00:17,  3.25it/s]\n",
      "0062 Average Train reward: -1107.686 Test reward: -1206.517: : 40it [00:17,  2.34it/s]\n",
      "0063 Average Train reward: -1214.978 Test reward: -1094.535: : 40it [00:17,  3.47it/s]\n",
      "0064 Average Train reward: -1230.723 Test reward: -1140.504: : 40it [00:17,  3.00it/s]\n",
      "0065 Average Train reward: -1187.748 Test reward: -1517.506: : 40it [00:17,  2.32it/s]\n",
      "0066 Average Train reward: -1188.334 Test reward: -1567.814: : 40it [00:17,  4.46it/s]\n",
      "0067 Average Train reward: -1271.925 Test reward: -1370.287: : 40it [00:17,  3.44it/s]\n",
      "0068 Average Train reward: -1232.027 Test reward: -1226.829: : 40it [00:17,  3.74it/s]\n",
      "0069 Average Train reward: -1267.904 Test reward: -1146.804: : 40it [00:17,  2.53it/s]\n",
      "0070 Average Train reward: -1136.452 Test reward: -1474.683: : 40it [00:16,  2.81it/s]\n",
      "0071 Average Train reward: -1057.495 Test reward: -1323.864: : 40it [00:17,  3.48it/s]\n",
      "0072 Average Train reward: -1227.592 Test reward: -1472.227: : 40it [00:17,  4.29it/s]\n",
      "0073 Average Train reward: -1497.555 Test reward: -1745.995: : 40it [00:17,  3.39it/s]\n",
      "0074 Average Train reward: -1312.039 Test reward: -1542.794: : 40it [00:17,  2.27it/s]\n",
      "0075 Average Train reward: -1148.943 Test reward: -1599.369: : 40it [00:17,  4.09it/s]\n",
      "0076 Average Train reward: -1375.653 Test reward: -1448.170: : 40it [00:17,  3.11it/s]\n",
      "0077 Average Train reward: -1300.043 Test reward: -1721.924: : 40it [00:17,  3.04it/s]\n",
      "0078 Average Train reward: -1474.129 Test reward: -1184.554: : 40it [00:17,  4.51it/s]\n",
      "0079 Average Train reward: -997.301 Test reward: -1750.214: : 40it [00:17,  3.80it/s]\n",
      "0080 Average Train reward: -1337.986 Test reward: -1092.120: : 40it [00:17,  2.33it/s]\n",
      "0081 Average Train reward: -1349.877 Test reward: -1201.000: : 40it [00:17,  3.60it/s]\n",
      "0082 Average Train reward: -1021.289 Test reward: -955.331: : 40it [00:17,  3.38it/s]\n",
      "0083 Average Train reward: -1190.768 Test reward: -1107.314: : 40it [00:17,  3.40it/s]\n",
      "0084 Average Train reward: -1255.262 Test reward: -1135.786: : 40it [00:17,  4.14it/s]\n",
      "0085 Average Train reward: -1220.115 Test reward: -1588.112: : 40it [00:17,  5.59it/s]\n",
      "0086 Average Train reward: -1151.096 Test reward: -1464.240: : 40it [00:17,  3.45it/s]\n",
      "0087 Average Train reward: -1250.312 Test reward: -1872.655: : 40it [00:17,  2.53it/s]\n",
      "0088 Average Train reward: -1446.745 Test reward: -1233.308: : 40it [00:17,  4.78it/s]\n",
      "0089 Average Train reward: -1084.730 Test reward: -1587.957: : 40it [00:17,  2.34it/s]\n",
      "0090 Average Train reward: -1311.994 Test reward: -1442.998: : 40it [00:17,  3.27it/s]\n",
      "0091 Average Train reward: -1301.675 Test reward: -1517.533: : 40it [00:17,  2.96it/s]\n",
      "0092 Average Train reward: -1094.860 Test reward: -1871.770: : 40it [00:17,  4.06it/s]\n",
      "0093 Average Train reward: -1401.135 Test reward: -1287.349: : 40it [00:17,  2.59it/s]\n"
     ]
    },
    {
     "name": "stderr",
     "output_type": "stream",
     "text": [
      "0094 Average Train reward: -1127.454 Test reward: -1484.160: : 40it [00:17,  5.25it/s]\n",
      "0095 Average Train reward: -1219.198 Test reward: -1661.047: : 40it [00:17,  2.32it/s]\n",
      "0096 Average Train reward: -1364.119 Test reward: -1848.632: : 40it [00:17,  3.55it/s]\n",
      "0097 Average Train reward: -1167.126 Test reward: -1524.547: : 40it [00:17,  4.46it/s]\n",
      "0098 Average Train reward: -1038.252 Test reward: -1249.845: : 40it [00:17,  3.77it/s]\n",
      "0099 Average Train reward: -1076.551 Test reward: -1273.230: : 40it [00:17,  2.34it/s]\n",
      "0100 Average Train reward: -1132.508 Test reward: -1603.996: : 40it [00:17,  3.94it/s]\n",
      "0101 Average Train reward: -1223.268 Test reward: -1134.488: : 40it [00:17,  4.78it/s]\n",
      "0102 Average Train reward: -1208.322 Test reward: -1418.099: : 40it [00:17,  1.85it/s]\n",
      "0103 Average Train reward: -1388.240 Test reward: -1693.872: : 40it [00:17,  2.34it/s]\n",
      "0104 Average Train reward: -1110.198 Test reward: -1742.922: : 40it [00:17,  2.94it/s]\n",
      "0105 Average Train reward: -1154.712 Test reward: -1260.305: : 40it [00:17,  3.36it/s]\n",
      "0106 Average Train reward: -1357.269 Test reward: -1689.075: : 40it [00:17,  4.91it/s]\n",
      "0107 Average Train reward: -1150.845 Test reward: -1302.099: : 40it [00:17,  4.39it/s]\n",
      "0108 Average Train reward: -1311.634 Test reward: -1729.724: : 40it [00:17,  3.19it/s]\n",
      "0109 Average Train reward: -1350.306 Test reward: -1474.276: : 40it [00:17,  3.07it/s]\n",
      "0110 Average Train reward: -1369.679 Test reward: -1510.980: : 40it [00:17,  2.31it/s]\n",
      "0111 Average Train reward: -1217.805 Test reward: -1305.186: : 40it [00:17,  4.13it/s]\n",
      "0112 Average Train reward: -1105.567 Test reward: -1898.809: : 40it [00:17,  3.21it/s]\n",
      "0113 Average Train reward: -1171.904 Test reward: -1348.557: : 40it [00:17,  3.02it/s]\n",
      "0114 Average Train reward: -1259.102 Test reward: -1311.179: : 40it [00:17,  2.31it/s]\n",
      "0115 Average Train reward: -1187.219 Test reward: -1273.393: : 40it [00:17,  3.37it/s]\n",
      "0116 Average Train reward: -1258.435 Test reward: -1472.344: : 40it [00:17,  3.59it/s]\n",
      "0117 Average Train reward: -1401.366 Test reward: -1833.598: : 40it [00:17,  3.42it/s]\n",
      "0118 Average Train reward: -1185.113 Test reward: -1484.968: : 40it [00:17,  3.60it/s]\n",
      "0119 Average Train reward: -1273.312 Test reward: -1659.855: : 40it [00:17,  3.43it/s]\n",
      "0120 Average Train reward: -1361.953 Test reward: -1707.328: : 40it [00:17,  3.37it/s]\n",
      "0121 Average Train reward: -1266.624 Test reward: -1806.294: : 40it [00:17,  2.90it/s]\n",
      "0122 Average Train reward: -1070.891 Test reward: -1333.837: : 40it [00:17,  4.45it/s]\n",
      "0123 Average Train reward: -1158.513 Test reward: -1270.280: : 40it [00:17,  3.80it/s]\n",
      "0124 Average Train reward: -1340.849 Test reward: -1245.850: : 40it [00:17,  5.26it/s]\n",
      "0125 Average Train reward: -1394.011 Test reward: -1699.681: : 40it [00:17,  4.45it/s]\n",
      "0126 Average Train reward: -1178.211 Test reward: -1381.198: : 40it [00:17,  2.83it/s]\n",
      "0127 Average Train reward: -1225.109 Test reward: -1808.460: : 40it [00:17,  3.37it/s]\n",
      "0128 Average Train reward: -1164.537 Test reward: -1822.627: : 40it [00:17,  4.42it/s]\n",
      "0129 Average Train reward: -1173.045 Test reward: -1647.333: : 40it [00:17,  2.32it/s]\n",
      "0130 Average Train reward: -1325.515 Test reward: -1814.437: : 40it [00:17,  3.72it/s]\n",
      "0131 Average Train reward: -1265.393 Test reward: -1814.688: : 40it [00:17,  4.47it/s]\n",
      "0132 Average Train reward: -1412.004 Test reward: -1420.242: : 40it [00:17,  3.62it/s]\n",
      "0133 Average Train reward: -1256.316 Test reward: -1266.392: : 40it [00:17,  4.00it/s]\n",
      "0134 Average Train reward: -1271.964 Test reward: -1439.543: : 40it [00:17,  2.32it/s]\n",
      "0135 Average Train reward: -1508.954 Test reward: -1440.181: : 40it [00:17,  2.57it/s]\n",
      "0136 Average Train reward: -1162.250 Test reward: -1803.458: : 40it [00:17,  3.10it/s]\n",
      "0137 Average Train reward: -1158.594 Test reward: -1466.564: : 40it [00:17,  2.31it/s]\n",
      "0138 Average Train reward: -1317.174 Test reward: -1473.053: : 40it [00:17,  3.51it/s]\n",
      "0139 Average Train reward: -1129.610 Test reward: -977.516: : 40it [00:17,  2.30it/s]\n",
      "0140 Average Train reward: -1281.337 Test reward: -1225.130: : 40it [00:17,  3.56it/s]\n",
      "0141 Average Train reward: -1312.757 Test reward: -1750.036: : 40it [00:17,  2.32it/s]\n",
      "0142 Average Train reward: -1116.895 Test reward: -1683.478: : 40it [00:17,  3.98it/s]\n",
      "0143 Average Train reward: -1254.129 Test reward: -1798.544: : 40it [00:17,  3.21it/s]\n",
      "0144 Average Train reward: -1208.676 Test reward: -1302.859: : 40it [00:17,  3.45it/s]\n",
      "0145 Average Train reward: -1188.748 Test reward: -1357.202: : 40it [00:17,  2.71it/s]\n",
      "0146 Average Train reward: -1273.845 Test reward: -1408.165: : 40it [00:17,  3.90it/s]\n",
      "0147 Average Train reward: -1311.987 Test reward: -1389.891: : 40it [00:17,  3.17it/s]\n",
      "0148 Average Train reward: -1315.639 Test reward: -1242.360: : 40it [00:17,  6.16it/s]\n",
      "0149 Average Train reward: -1126.546 Test reward: -1274.523: : 40it [00:17,  4.29it/s]\n",
      "0150 Average Train reward: -1149.716 Test reward: -1811.388: : 40it [00:17,  4.01it/s]\n",
      "0151 Average Train reward: -1235.687 Test reward: -1865.836: : 40it [00:17,  2.33it/s]\n",
      "0152 Average Train reward: -1086.990 Test reward: -1782.459: : 40it [00:17,  3.27it/s]\n",
      "0153 Average Train reward: -1392.607 Test reward: -1519.737: : 40it [00:17,  3.79it/s]\n",
      "0154 Average Train reward: -1349.980 Test reward: -1546.751: : 40it [00:17,  4.37it/s]\n",
      "0155 Average Train reward: -1213.703 Test reward: -1789.004: : 40it [00:17,  3.35it/s]\n",
      "0156 Average Train reward: -1161.507 Test reward: -1429.473: : 40it [00:16,  2.35it/s]\n",
      "0157 Average Train reward: -1181.505 Test reward: -1855.628: : 40it [00:17,  2.69it/s]\n",
      "0158 Average Train reward: -1310.342 Test reward: -1211.207: : 40it [00:17,  4.45it/s]\n",
      "0159 Average Train reward: -1298.698 Test reward: -1327.452: : 40it [00:17,  2.82it/s]\n",
      "0160 Average Train reward: -1067.777 Test reward: -1733.442: : 40it [00:17,  2.33it/s]\n",
      "0161 Average Train reward: -1183.869 Test reward: -1048.103: : 40it [00:17,  2.68it/s]\n",
      "0162 Average Train reward: -1177.208 Test reward: -1330.721: : 40it [00:17,  3.59it/s]\n",
      "0163 Average Train reward: -1133.973 Test reward: -1841.014: : 40it [00:17,  2.33it/s]\n",
      "0164 Average Train reward: -1207.182 Test reward: -1748.095: : 40it [00:17,  2.46it/s]\n",
      "0165 Average Train reward: -1126.440 Test reward: -1678.839: : 40it [00:17,  2.34it/s]\n",
      "0166 Average Train reward: -1373.990 Test reward: -1339.628: : 40it [00:17,  3.39it/s]\n",
      "0167 Average Train reward: -1109.677 Test reward: -989.149: : 40it [00:17,  3.26it/s]\n",
      "0168 Average Train reward: -1318.828 Test reward: -1585.336: : 40it [00:17,  2.59it/s]\n",
      "0169 Average Train reward: -1116.130 Test reward: -1214.874: : 40it [00:17,  2.35it/s]\n",
      "0170 Average Train reward: -1211.349 Test reward: -1470.300: : 40it [00:17,  2.33it/s]\n",
      "0171 Average Train reward: -1085.276 Test reward: -1305.198: : 40it [00:17,  3.25it/s]\n",
      "0172 Average Train reward: -1435.372 Test reward: -1321.863: : 40it [00:17,  5.39it/s]\n",
      "0173 Average Train reward: -1140.479 Test reward: -1377.055: : 40it [00:17,  4.98it/s]\n",
      "0174 Average Train reward: -1276.619 Test reward: -1419.048: : 40it [00:17,  4.38it/s]\n",
      "0175 Average Train reward: -1096.477 Test reward: -1567.052: : 40it [00:17,  3.32it/s]\n",
      "0176 Average Train reward: -1211.369 Test reward: -1809.547: : 40it [00:17,  4.18it/s]\n",
      "0177 Average Train reward: -1289.347 Test reward: -1191.742: : 40it [00:17,  2.58it/s]\n",
      "0178 Average Train reward: -1179.712 Test reward: -1440.885: : 40it [00:17,  2.33it/s]\n",
      "0179 Average Train reward: -1393.172 Test reward: -1364.225: : 40it [00:17,  3.97it/s]\n",
      "0180 Average Train reward: -1296.843 Test reward: -1427.822: : 40it [00:17,  3.13it/s]\n",
      "0181 Average Train reward: -1167.832 Test reward: -1299.438: : 40it [00:17,  2.33it/s]\n",
      "0182 Average Train reward: -1231.275 Test reward: -1272.936: : 40it [00:17,  3.15it/s]\n",
      "0183 Average Train reward: -1278.811 Test reward: -1234.823: : 40it [00:17,  2.56it/s]\n",
      "0184 Average Train reward: -1193.212 Test reward: -1537.748: : 40it [00:17,  2.32it/s]\n",
      "0185 Average Train reward: -1177.797 Test reward: -1364.425: : 40it [00:17,  3.40it/s]\n",
      "0186 Average Train reward: -1259.564 Test reward: -1542.573: : 40it [00:17,  2.32it/s]\n",
      "0187 Average Train reward: -1324.165 Test reward: -1226.889: : 40it [00:17,  4.94it/s]\n"
     ]
    },
    {
     "name": "stderr",
     "output_type": "stream",
     "text": [
      "0188 Average Train reward: -1223.041 Test reward: -1364.873: : 40it [00:17,  5.12it/s]\n",
      "0189 Average Train reward: -1460.383 Test reward: -1331.524: : 40it [00:17,  5.83it/s]\n",
      "0190 Average Train reward: -1171.618 Test reward: -1506.323: : 40it [00:17,  2.33it/s]\n",
      "0191 Average Train reward: -1347.338 Test reward: -1332.756: : 40it [00:17,  3.27it/s]\n",
      "0192 Average Train reward: -1182.996 Test reward: -1351.565: : 40it [00:17,  2.33it/s]\n",
      "0193 Average Train reward: -1372.054 Test reward: -1243.752: : 40it [00:17,  4.79it/s]\n",
      "0194 Average Train reward: -1293.996 Test reward: -1649.578: : 40it [00:17,  2.99it/s]\n",
      "0195 Average Train reward: -1342.871 Test reward: -1871.640: : 40it [00:17,  3.59it/s]\n",
      "0196 Average Train reward: -1184.110 Test reward: -1709.339: : 40it [00:17,  3.92it/s]\n",
      "0197 Average Train reward: -1292.019 Test reward: -1669.158: : 40it [00:17,  4.96it/s]\n",
      "0198 Average Train reward: -1285.580 Test reward: -1642.612: : 40it [00:17,  2.68it/s]\n",
      "0199 Average Train reward: -1395.817 Test reward: -1368.854: : 40it [00:17,  2.61it/s]\n",
      "0200 Average Train reward: -1160.852 Test reward: -1614.310: : 40it [00:17,  4.25it/s]\n",
      "0201 Average Train reward: -1183.790 Test reward: -1331.433: : 40it [00:17,  3.34it/s]\n",
      "0202 Average Train reward: -1278.907 Test reward: -1776.459: : 40it [00:17,  3.89it/s]\n",
      "0203 Average Train reward: -1191.442 Test reward: -1347.974: : 40it [00:17,  4.91it/s]\n",
      "0204 Average Train reward: -1280.797 Test reward: -1666.831: : 40it [00:17,  2.59it/s]\n",
      "24it [00:10,  3.50it/s]"
     ]
    }
   ],
   "source": [
    "ddpg.fit(episode=10000, episode_step=2000, test_frequency=8*5)"
   ]
  },
  {
   "cell_type": "markdown",
   "metadata": {},
   "source": [
    "## Testing"
   ]
  },
  {
   "cell_type": "code",
   "execution_count": null,
   "metadata": {},
   "outputs": [],
   "source": [
    "test_reward_list = ddpg.test(render=True)\n",
    "print(test_reward_list)"
   ]
  },
  {
   "cell_type": "markdown",
   "metadata": {},
   "source": [
    "## Plotting the test result"
   ]
  },
  {
   "cell_type": "code",
   "execution_count": null,
   "metadata": {},
   "outputs": [],
   "source": [
    "import matplotlib.pyplot as plt\n",
    "%matplotlib inline\n",
    "plt.plot(test_reward_list)\n",
    "plt.xlabel(\"Episodes\")\n",
    "plt.ylabel(\"Total Rewards per Episode\")"
   ]
  },
  {
   "cell_type": "code",
   "execution_count": null,
   "metadata": {},
   "outputs": [],
   "source": []
  },
  {
   "cell_type": "code",
   "execution_count": null,
   "metadata": {},
   "outputs": [],
   "source": []
  },
  {
   "cell_type": "code",
   "execution_count": null,
   "metadata": {},
   "outputs": [],
   "source": [
    "i"
   ]
  }
 ],
 "metadata": {
  "kernelspec": {
   "display_name": "Python 3",
   "language": "python",
   "name": "python3"
  },
  "language_info": {
   "codemirror_mode": {
    "name": "ipython",
    "version": 3
   },
   "file_extension": ".py",
   "mimetype": "text/x-python",
   "name": "python",
   "nbconvert_exporter": "python",
   "pygments_lexer": "ipython3",
   "version": "3.6.5"
  }
 },
 "nbformat": 4,
 "nbformat_minor": 2
}
