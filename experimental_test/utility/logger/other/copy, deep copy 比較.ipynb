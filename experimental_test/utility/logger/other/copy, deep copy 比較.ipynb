{
 "cells": [
  {
   "cell_type": "markdown",
   "metadata": {},
   "source": [
    "# Dictionary Copy\n",
    "\n",
    "loggerではdicitonary引数をdeep copy するべきか、するべきではないかを判定するために、こちらのノートブックを使って検証する。"
   ]
  },
  {
   "cell_type": "markdown",
   "metadata": {},
   "source": [
    "## 方法\n",
    "20個　のitemとvalueを　100x100のnumpy とした dictionary を使って検証。\n",
    "\n",
    "## 結果\n",
    "\n",
    "- 通常処理　900 ns ± 9.73 ns per loop (mean ± std. dev. of 7 runs, 1000000 loops each)\n",
    "- deepcopy　201 µs ± 8.54 µs per loop (mean ± std. dev. of 7 runs, 10000 loops each)\n",
    "\n",
    "**参考**\n",
    "DQN、DDQNではもっと小さい量のディクショナリを使用する。\n",
    "\n",
    "\n",
    "## 結論\n",
    "この結果より問題ないと判断する。"
   ]
  },
  {
   "cell_type": "code",
   "execution_count": 10,
   "metadata": {},
   "outputs": [],
   "source": [
    "from copy import copy, deepcopy\n",
    "import numpy as np\n",
    "import string"
   ]
  },
  {
   "cell_type": "code",
   "execution_count": 11,
   "metadata": {},
   "outputs": [],
   "source": [
    "keys=list(string.ascii_lowercase)"
   ]
  },
  {
   "cell_type": "code",
   "execution_count": 19,
   "metadata": {},
   "outputs": [],
   "source": [
    "res={}\n",
    "for i in range(20):\n",
    "    case=np.random.randint(0,3)\n",
    "    res[keys[i]] = np.random.randint(0,10,size=(100,100))"
   ]
  },
  {
   "cell_type": "code",
   "execution_count": 20,
   "metadata": {
    "scrolled": false
   },
   "outputs": [
    {
     "name": "stdout",
     "output_type": "stream",
     "text": [
      "a [[5 6 8 ... 0 2 0]\n",
      " [9 8 1 ... 9 4 6]\n",
      " [5 9 2 ... 8 7 3]\n",
      " ...\n",
      " [8 0 0 ... 4 7 0]\n",
      " [6 2 2 ... 0 1 4]\n",
      " [1 1 9 ... 3 7 5]]\n",
      "b [[7 0 5 ... 7 3 2]\n",
      " [5 9 0 ... 9 3 3]\n",
      " [7 2 8 ... 3 2 9]\n",
      " ...\n",
      " [9 0 1 ... 5 2 3]\n",
      " [1 5 4 ... 5 1 1]\n",
      " [8 9 8 ... 7 9 7]]\n",
      "c [[2 6 4 ... 1 5 8]\n",
      " [8 1 5 ... 4 9 0]\n",
      " [8 1 4 ... 4 9 1]\n",
      " ...\n",
      " [5 7 5 ... 5 9 6]\n",
      " [0 8 9 ... 9 8 5]\n",
      " [7 9 9 ... 4 2 5]]\n",
      "d [[4 6 5 ... 1 0 0]\n",
      " [2 6 3 ... 7 3 6]\n",
      " [7 1 4 ... 0 1 9]\n",
      " ...\n",
      " [5 4 8 ... 0 1 6]\n",
      " [2 7 2 ... 4 6 3]\n",
      " [9 1 2 ... 9 0 0]]\n",
      "e [[9 1 2 ... 3 4 3]\n",
      " [1 8 2 ... 4 0 5]\n",
      " [7 8 7 ... 9 4 4]\n",
      " ...\n",
      " [4 9 5 ... 4 7 3]\n",
      " [0 6 4 ... 2 8 2]\n",
      " [9 3 4 ... 2 9 8]]\n",
      "f [[5 6 5 ... 9 7 7]\n",
      " [9 4 0 ... 1 2 8]\n",
      " [3 3 7 ... 5 1 0]\n",
      " ...\n",
      " [8 2 2 ... 7 1 5]\n",
      " [5 1 2 ... 1 0 6]\n",
      " [7 7 7 ... 7 1 3]]\n",
      "g [[0 6 6 ... 1 8 7]\n",
      " [8 6 7 ... 7 7 3]\n",
      " [6 3 9 ... 6 3 1]\n",
      " ...\n",
      " [9 5 1 ... 6 7 7]\n",
      " [3 5 7 ... 3 1 6]\n",
      " [1 7 9 ... 4 8 1]]\n",
      "h [[7 9 6 ... 1 7 2]\n",
      " [1 0 8 ... 9 3 6]\n",
      " [4 1 9 ... 0 4 6]\n",
      " ...\n",
      " [2 3 2 ... 1 7 6]\n",
      " [2 0 5 ... 1 8 0]\n",
      " [3 1 5 ... 1 2 9]]\n",
      "i [[5 2 9 ... 8 8 4]\n",
      " [2 4 2 ... 2 7 9]\n",
      " [6 3 7 ... 0 3 4]\n",
      " ...\n",
      " [8 4 1 ... 0 4 0]\n",
      " [0 7 6 ... 6 3 0]\n",
      " [7 2 7 ... 6 0 9]]\n",
      "j [[5 8 1 ... 8 1 3]\n",
      " [8 4 4 ... 6 6 9]\n",
      " [8 7 0 ... 6 1 9]\n",
      " ...\n",
      " [9 5 2 ... 7 8 8]\n",
      " [9 7 8 ... 8 6 4]\n",
      " [8 7 8 ... 7 2 7]]\n",
      "k [[4 5 6 ... 9 6 9]\n",
      " [3 7 9 ... 8 7 4]\n",
      " [1 2 5 ... 7 9 9]\n",
      " ...\n",
      " [7 0 0 ... 1 9 5]\n",
      " [1 1 2 ... 8 1 0]\n",
      " [6 2 3 ... 9 6 9]]\n",
      "l [[2 0 1 ... 3 0 1]\n",
      " [6 7 5 ... 8 0 8]\n",
      " [0 0 8 ... 0 9 4]\n",
      " ...\n",
      " [5 0 3 ... 0 7 8]\n",
      " [4 4 9 ... 8 0 8]\n",
      " [0 6 7 ... 9 7 7]]\n",
      "m [[9 9 8 ... 4 3 0]\n",
      " [0 9 5 ... 8 4 2]\n",
      " [3 7 6 ... 4 2 2]\n",
      " ...\n",
      " [6 3 8 ... 0 7 5]\n",
      " [3 8 3 ... 7 3 8]\n",
      " [7 4 1 ... 1 0 6]]\n",
      "n [[1 5 6 ... 5 1 4]\n",
      " [3 0 7 ... 7 9 7]\n",
      " [8 5 8 ... 8 3 2]\n",
      " ...\n",
      " [7 7 9 ... 6 5 5]\n",
      " [5 6 5 ... 4 3 5]\n",
      " [1 4 4 ... 1 2 7]]\n",
      "o [[6 3 0 ... 0 4 0]\n",
      " [6 7 0 ... 2 0 6]\n",
      " [2 5 0 ... 6 2 6]\n",
      " ...\n",
      " [3 4 1 ... 5 5 5]\n",
      " [0 7 7 ... 3 5 7]\n",
      " [1 0 6 ... 6 1 2]]\n",
      "p [[7 5 9 ... 9 2 1]\n",
      " [6 7 4 ... 1 8 7]\n",
      " [8 6 6 ... 7 4 5]\n",
      " ...\n",
      " [1 5 5 ... 1 6 8]\n",
      " [8 8 9 ... 8 7 4]\n",
      " [5 9 4 ... 1 4 2]]\n",
      "q [[6 1 0 ... 7 4 9]\n",
      " [1 0 9 ... 7 7 3]\n",
      " [4 8 2 ... 0 4 6]\n",
      " ...\n",
      " [7 7 2 ... 1 4 6]\n",
      " [1 2 7 ... 7 6 2]\n",
      " [0 7 4 ... 0 7 1]]\n",
      "r [[3 5 1 ... 0 5 3]\n",
      " [3 5 7 ... 0 6 0]\n",
      " [4 1 1 ... 1 7 9]\n",
      " ...\n",
      " [4 8 6 ... 2 4 7]\n",
      " [5 5 6 ... 1 9 5]\n",
      " [2 1 1 ... 3 5 0]]\n",
      "s [[2 2 9 ... 2 6 5]\n",
      " [0 9 4 ... 4 9 6]\n",
      " [2 6 2 ... 4 3 5]\n",
      " ...\n",
      " [8 5 7 ... 3 0 6]\n",
      " [1 2 1 ... 2 6 1]\n",
      " [6 6 5 ... 5 3 3]]\n",
      "t [[1 2 4 ... 6 8 6]\n",
      " [0 8 3 ... 9 1 5]\n",
      " [5 3 2 ... 2 3 5]\n",
      " ...\n",
      " [0 0 9 ... 1 8 7]\n",
      " [3 3 1 ... 2 4 5]\n",
      " [3 2 1 ... 7 5 9]]\n"
     ]
    }
   ],
   "source": [
    "for k,v in res.items():\n",
    "    print(k,v)"
   ]
  },
  {
   "cell_type": "code",
   "execution_count": 21,
   "metadata": {},
   "outputs": [
    {
     "name": "stdout",
     "output_type": "stream",
     "text": [
      "900 ns ± 9.73 ns per loop (mean ± std. dev. of 7 runs, 1000000 loops each)\n"
     ]
    }
   ],
   "source": [
    "%timeit y = copy(res)"
   ]
  },
  {
   "cell_type": "code",
   "execution_count": 22,
   "metadata": {},
   "outputs": [
    {
     "name": "stdout",
     "output_type": "stream",
     "text": [
      "201 µs ± 8.54 µs per loop (mean ± std. dev. of 7 runs, 10000 loops each)\n"
     ]
    }
   ],
   "source": [
    "%timeit y = deepcopy(res)"
   ]
  },
  {
   "cell_type": "code",
   "execution_count": null,
   "metadata": {},
   "outputs": [],
   "source": []
  }
 ],
 "metadata": {
  "kernelspec": {
   "display_name": "Python 3",
   "language": "python",
   "name": "python3"
  },
  "language_info": {
   "codemirror_mode": {
    "name": "ipython",
    "version": 3
   },
   "file_extension": ".py",
   "mimetype": "text/x-python",
   "name": "python",
   "nbconvert_exporter": "python",
   "pygments_lexer": "ipython3",
   "version": "3.6.4"
  }
 },
 "nbformat": 4,
 "nbformat_minor": 2
}
