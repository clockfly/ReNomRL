{
 "cells": [
  {
   "cell_type": "markdown",
   "metadata": {},
   "source": [
    "# DDPG　仕様変更の確認"
   ]
  },
  {
   "cell_type": "markdown",
   "metadata": {},
   "source": [
    "<div class=\"notebook-data\">\n",
    "<div class=\"author\">Ogawa</div>\n",
    "<div class=\"company\">GRID</div>\n",
    "<div class=\"date\">2019/1/25</div>\n",
    "<div class=\"description\">\n",
    "</div>\n",
    "</div>\n",
    "\n",
    "## Conclusion\n",
    "\n",
    "DDQN logger successful."
   ]
  },
  {
   "cell_type": "markdown",
   "metadata": {},
   "source": [
    "## Import necessary packages tutorial"
   ]
  },
  {
   "cell_type": "code",
   "execution_count": 13,
   "metadata": {
    "scrolled": false
   },
   "outputs": [],
   "source": [
    "import os\n",
    "os.environ[\"CUDA_VISIBLE_DEVICES\"] = \"1\"\n",
    "import renom as rm\n",
    "from renom.utility.initializer import Uniform, GlorotUniform\n",
    "from renom_rl.continuous.ddpg import DDPG\n",
    "from old.ddpg import DDPG as DDPG_old\n",
    "from renom_rl.environ.openai import Pendulum\n"
   ]
  },
  {
   "cell_type": "markdown",
   "metadata": {},
   "source": [
    "## Deifne the environment tutorial"
   ]
  },
  {
   "cell_type": "code",
   "execution_count": 2,
   "metadata": {},
   "outputs": [
    {
     "name": "stdout",
     "output_type": "stream",
     "text": [
      "\u001b[33mWARN: gym.spaces.Box autodetected dtype as <class 'numpy.float32'>. Please provide explicit dtype.\u001b[0m\n",
      "\u001b[33mWARN: gym.spaces.Box autodetected dtype as <class 'numpy.float32'>. Please provide explicit dtype.\u001b[0m\n",
      "\u001b[33mWARN: gym.spaces.Box autodetected dtype as <class 'numpy.float32'>. Please provide explicit dtype.\u001b[0m\n",
      "\u001b[33mWARN: gym.spaces.Box autodetected dtype as <class 'numpy.float32'>. Please provide explicit dtype.\u001b[0m\n"
     ]
    },
    {
     "name": "stderr",
     "output_type": "stream",
     "text": [
      "/Users/mikeogawa/gym/gym/envs/registration.py:14: PkgResourcesDeprecationWarning: Parameters to load are deprecated.  Call .resolve and .require separately.\n",
      "  result = entry_point.load(False)\n",
      "/Users/mikeogawa/gym/gym/__init__.py:22: UserWarning: DEPRECATION WARNING: to improve load times, gym no longer automatically loads gym.spaces. Please run \"import gym.spaces\" to load gym.spaces on your own. This warning will turn into an error in a future version of gym.\n",
      "  warnings.warn('DEPRECATION WARNING: to improve load times, gym no longer automatically loads gym.spaces. Please run \"import gym.spaces\" to load gym.spaces on your own. This warning will turn into an error in a future version of gym.')\n"
     ]
    }
   ],
   "source": [
    "from copy import deepcopy\n",
    "env = Pendulum()\n",
    "env2 = Pendulum()"
   ]
  },
  {
   "cell_type": "markdown",
   "metadata": {},
   "source": [
    "## Define the actor network tutorial"
   ]
  },
  {
   "cell_type": "code",
   "execution_count": 3,
   "metadata": {},
   "outputs": [],
   "source": [
    "class Actor(rm.Model):\n",
    "    \n",
    "    '''Here considered 3-layer network (excluding input layer). Feel free to change the network depth \n",
    "    and check the results. The output-layer number of nuerons are equal to number of actions.\n",
    "    In the example of OpenAI Gym's Pendlum-v0 environment number of actions are 1.'''\n",
    "    \n",
    "    def __init__(self, layer_size):\n",
    "        self._layers = []\n",
    "        self.action_size = 1\n",
    "        self.high = 2.\n",
    "        self._l1 = rm.Dense(layer_size[0], initializer=GlorotUniform())\n",
    "        self._l2 = rm.Dense(layer_size[1], initializer=GlorotUniform())\n",
    "        self._l3 = rm.Dense(self.action_size, initializer=Uniform(min=-0.003, max=0.003))\n",
    "    \n",
    "    def forward(self, x):\n",
    "        '''Neural Network inputs are state information, outputs are actions. '''\n",
    "        h1 = rm.relu(self._l1(x))\n",
    "        h2 = rm.relu(self._l2(h1))\n",
    "        h3 = rm.tanh(self._l3(h2)) \n",
    "        h = h3*self.high\n",
    "        return h\n"
   ]
  },
  {
   "cell_type": "markdown",
   "metadata": {},
   "source": [
    "# Define the Critic network tutorial"
   ]
  },
  {
   "cell_type": "code",
   "execution_count": 4,
   "metadata": {},
   "outputs": [],
   "source": [
    "class Critic(rm.Model):\n",
    "    '''Here considered a 3-layer network (input layer, hidden layer-1, hidden layer-2, output layer)\n",
    "        At input-layer state information, 2nd-hidden layer actions are applied, last layer has a single neuron'''\n",
    "    def __init__(self, layer_size):        \n",
    "        self._layers = []\n",
    "        self._l1 = rm.Dense(layer_size[0], initializer=GlorotUniform(), weight_decay=0.01)\n",
    "        self._l2 = rm.Dense(layer_size[1], initializer=GlorotUniform(), weight_decay=0.01)\n",
    "        self._l3 = rm.Dense(1, initializer=Uniform(min=-0.0003, max=0.0003), weight_decay=0.01)\n",
    "  \n",
    "    def forward(self, x, action):\n",
    "        '''Q(s,a) calculation for a given (state, action) pair'''\n",
    "        h1 = rm.relu(self._l1(x))\n",
    "        h2 = rm.relu(self._l2(rm.concat(h1, action))) # actions are applied at 2nd hidden layer\n",
    "        h = self._l3(h2)        \n",
    "        return h\n",
    "    "
   ]
  },
  {
   "cell_type": "markdown",
   "metadata": {},
   "source": [
    "## Instantiating the actor & ciritic networks "
   ]
  },
  {
   "cell_type": "code",
   "execution_count": 5,
   "metadata": {},
   "outputs": [],
   "source": [
    "layer_size = [400, 300] # two-hidden layers dimension\n",
    "actor_network = Actor(layer_size=layer_size)\n",
    "critic_network = Critic(layer_size=layer_size)"
   ]
  },
  {
   "cell_type": "markdown",
   "metadata": {},
   "source": [
    "## Instantiating the DDPG class"
   ]
  },
  {
   "cell_type": "code",
   "execution_count": 6,
   "metadata": {},
   "outputs": [],
   "source": [
    "ddpg = DDPG(env, actor_network, critic_network)\n",
    "ddpg_old=DDPG_old(env2,deepcopy(actor_network),deepcopy(critic_network))"
   ]
  },
  {
   "cell_type": "markdown",
   "metadata": {},
   "source": [
    "## Training "
   ]
  },
  {
   "cell_type": "markdown",
   "metadata": {},
   "source": [
    "## new"
   ]
  },
  {
   "cell_type": "code",
   "execution_count": 7,
   "metadata": {
    "scrolled": true
   },
   "outputs": [
    {
     "name": "stderr",
     "output_type": "stream",
     "text": [
      "epoch 001 avg_loss:800.332 total_reward [train:-7671.455 test:-648.888] avg train reward in episode:0.000 e-rate:0.376: 100%|██████████| 1000/1000 [00:23<00:00, 42.76it/s]\n",
      "epoch 002 avg_loss:100.407 total_reward [train:-7428.717 test:-754.795] avg train reward in episode:0.000 e-rate:0.000: 100%|██████████| 1000/1000 [00:25<00:00, 38.57it/s]\n"
     ]
    }
   ],
   "source": [
    "ddpg.fit(epoch=2, epoch_step=1000, random_step=50, test_step=100)"
   ]
  },
  {
   "cell_type": "markdown",
   "metadata": {},
   "source": [
    "## old"
   ]
  },
  {
   "cell_type": "code",
   "execution_count": 8,
   "metadata": {},
   "outputs": [
    {
     "name": "stderr",
     "output_type": "stream",
     "text": [
      "epoch 001 avg_loss:23.630 total_reward [train:-5740.546 test:-591.686] avg train reward in episode:-1148.109 e-rate:0.376: 100%|██████████| 1000/1000 [00:16<00:00, 59.46it/s]\n",
      "epoch 002 avg_loss:23.419 total_reward [train:-5632.490 test:-450.139] avg train reward in episode:-1126.498 e-rate:0.000: 100%|██████████| 1000/1000 [00:16<00:00, 60.75it/s]\n"
     ]
    }
   ],
   "source": [
    "ddpg_old.fit(epoch=2, epoch_step=1000, random_step=50, test_step=100)"
   ]
  },
  {
   "cell_type": "markdown",
   "metadata": {},
   "source": [
    "## Testing"
   ]
  },
  {
   "cell_type": "code",
   "execution_count": 12,
   "metadata": {},
   "outputs": [
    {
     "data": {
      "image/png": "[encoded data removed]",
      "text/plain": [
       "<Figure size 432x288 with 1 Axes>"
      ]
     },
     "metadata": {},
     "output_type": "display_data"
    }
   ],
   "source": [
    "ddpg.logger.graph(\"sum_reward\")"
   ]
  },
  {
   "cell_type": "code",
   "execution_count": 11,
   "metadata": {},
   "outputs": [
    {
     "name": "stdout",
     "output_type": "stream",
     "text": [
      "-1444.0413939563243\n"
     ]
    }
   ],
   "source": [
    "test_reward_list = ddpg.test()\n",
    "print(test_reward_list)"
   ]
  },
  {
   "cell_type": "markdown",
   "metadata": {},
   "source": [
    "## Plotting the test result"
   ]
  },
  {
   "cell_type": "code",
   "execution_count": null,
   "metadata": {},
   "outputs": [],
   "source": [
    "# import matplotlib.pyplot as plt\n",
    "# %matplotlib inline\n",
    "# plt.plot(test_reward_list)\n",
    "# plt.xlabel(\"Episodes\")\n",
    "# plt.ylabel(\"Total Rewards per Episode\")"
   ]
  },
  {
   "cell_type": "code",
   "execution_count": null,
   "metadata": {},
   "outputs": [],
   "source": []
  },
  {
   "cell_type": "code",
   "execution_count": null,
   "metadata": {},
   "outputs": [],
   "source": []
  }
 ],
 "metadata": {
  "kernelspec": {
   "display_name": "Python 3",
   "language": "python",
   "name": "python3"
  },
  "language_info": {
   "codemirror_mode": {
    "name": "ipython",
    "version": 3
   },
   "file_extension": ".py",
   "mimetype": "text/x-python",
   "name": "python",
   "nbconvert_exporter": "python",
   "pygments_lexer": "ipython3",
   "version": "3.6.4"
  }
 },
 "nbformat": 4,
 "nbformat_minor": 2
}
