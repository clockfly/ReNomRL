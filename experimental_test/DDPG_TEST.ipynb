{
 "cells": [
  {
   "cell_type": "markdown",
   "metadata": {},
   "source": [
    "## Import necessary packages tutorial"
   ]
  },
  {
   "cell_type": "code",
   "execution_count": 1,
   "metadata": {},
   "outputs": [
    {
     "name": "stderr",
     "output_type": "stream",
     "text": [
      "/Users/thakur/ReNom/renom/cuda/__init__.py:12: UserWarning: Couldn't find cuda modules. No module named 'renom.cuda.cuda_base'\n",
      "  warnings.warn(\"Couldn't find cuda modules. %s\" % e)\n",
      "/Users/thakur/ReNom/renom/cuda/__init__.py:29: UserWarning: Couldn't find cuda modules.\n",
      "  warnings.warn(\"Couldn't find cuda modules.\")\n"
     ]
    }
   ],
   "source": [
    "import renom as rm\n",
    "from renom.utility.initializer import Uniform, GlorotUniform\n",
    "import gym"
   ]
  },
  {
   "cell_type": "markdown",
   "metadata": {},
   "source": [
    "## Deifne the environment tutorial"
   ]
  },
  {
   "cell_type": "code",
   "execution_count": 2,
   "metadata": {},
   "outputs": [
    {
     "name": "stderr",
     "output_type": "stream",
     "text": [
      "[2018-03-22 16:57:51,468] Making new env: Pendulum-v0\n"
     ]
    }
   ],
   "source": [
    "env = gym.make('Pendulum-v0')"
   ]
  },
  {
   "cell_type": "markdown",
   "metadata": {},
   "source": [
    "## Define the actor network tutorial"
   ]
  },
  {
   "cell_type": "code",
   "execution_count": 3,
   "metadata": {},
   "outputs": [],
   "source": [
    "class Actor(rm.Model):\n",
    "    \n",
    "    '''Here considered 3-layer network (excluding input layer). Feel free to change the network depth \n",
    "    and check the results. The output-layer number of nuerons are equal to number of actions.\n",
    "    In the example of OpenAI Gym's Pendlum-v0 environment number of actions are 1.'''\n",
    "    \n",
    "    def __init__(self, env, layer_size):\n",
    "        self._layers = []\n",
    "        self.env = env\n",
    "        self.action_size = self.env.action_space.shape[0] if hasattr(self.env, \"action_space\") else env.action_size\n",
    "        self.high = self.env.action_space.high[0] if hasattr(self.env, \"action_space\") else env.high\n",
    "        self._l1 = rm.Dense(400, initializer=GlorotUniform())\n",
    "        self._l2 = rm.Dense(300, initializer=GlorotUniform())\n",
    "        self._l3 = rm.Dense(self.action_size, initializer=Uniform(min=-0.003, max=0.003))\n",
    "        self._layers = [self._l1, self._l2, self._l3]\n",
    "    \n",
    "    def forward(self, x):\n",
    "        '''Neural Network inputs are state information, outputs are actions. '''\n",
    "        h1 = rm.relu(self._l1(x))\n",
    "        h2 = rm.relu(self._l2(h1))\n",
    "        h3 = rm.tanh(self._l3(h2)) \n",
    "        #h = self._l3(h2)\n",
    "        h = h3*self.high\n",
    "        return h\n",
    "    \n",
    "    def weigiht_decay(self):\n",
    "        '''To minimize over fitting considered L2-norm (it is an optional)'''\n",
    "        weight_decay = 0\n",
    "        for i in range(len(self._layers)):\n",
    "            weight_decay += rm.sum(self._layers[i].params.w**2)\n",
    "        return weight_decay\n"
   ]
  },
  {
   "cell_type": "markdown",
   "metadata": {},
   "source": [
    "# Define the Critic network tutorial"
   ]
  },
  {
   "cell_type": "code",
   "execution_count": 4,
   "metadata": {},
   "outputs": [],
   "source": [
    "class Critic(rm.Model):\n",
    "    '''Here considered a 3-layer network (input layer, hidden layer-1, hidden layer-2, output layer)\n",
    "        At input-layer state information, 2nd-hidden layer actions are applied, last layer has a single neuron'''\n",
    "    def __init__(self, env, layer_size):        \n",
    "        self._layers = []\n",
    "        self.env = env\n",
    "        self._l1 = rm.Dense(layer_size[0], initializer=GlorotUniform())\n",
    "        self._l2 = rm.Dense(layer_size[1], initializer=GlorotUniform())\n",
    "        self._l3 = rm.Dense(1, initializer=Uniform(min=-0.003, max=0.003))\n",
    "        self._layers = [self._l1, self._l2, self._l3]\n",
    "  \n",
    "    def forward(self, x, action):\n",
    "        '''Q(s,a) calculation for a given (state, action) pair'''\n",
    "        h1 = rm.relu(self._l1(x))\n",
    "        h2 = rm.relu(self._l2(rm.concat(h1,action))) # actions are applied at 2nd hidden layer\n",
    "        h = self._l3(h2)        \n",
    "        return h\n",
    "    \n",
    "    def weigiht_decay(self):\n",
    "        '''To minimize over fitting considered L2-norm (it is an optional)'''\n",
    "        weight_decay = 0\n",
    "        for i in range(len(self._layers)):\n",
    "            weight_decay += rm.sum(self._layers[i].params.w**2)\n",
    "        return weight_decay"
   ]
  },
  {
   "cell_type": "markdown",
   "metadata": {},
   "source": [
    "## Instantiating the actor & ciritic networks "
   ]
  },
  {
   "cell_type": "code",
   "execution_count": 5,
   "metadata": {},
   "outputs": [],
   "source": [
    "from renom.algorithm.reinforcement.ddpg import DDPG\n",
    "layer_size = [400, 300] # two-hidden layers dimension\n",
    "actor_network = Actor(env=env,layer_size=layer_size)\n",
    "critic_network = Critic(env=env, layer_size=layer_size)"
   ]
  },
  {
   "cell_type": "markdown",
   "metadata": {},
   "source": [
    "## Instantiating the DDPG class"
   ]
  },
  {
   "cell_type": "code",
   "execution_count": 6,
   "metadata": {},
   "outputs": [],
   "source": [
    "ddpg = DDPG(env=env, actor_network=actor_network, critic_network=critic_network)\n",
    "# ddpg = DDPG(env=env) # for default"
   ]
  },
  {
   "cell_type": "markdown",
   "metadata": {},
   "source": [
    "## Training "
   ]
  },
  {
   "cell_type": "code",
   "execution_count": 7,
   "metadata": {
    "scrolled": false
   },
   "outputs": [
    {
     "name": "stderr",
     "output_type": "stream",
     "text": [
      "episode: 000 Total reward:-1888.81 avg loss:5.9186: 100%|██████████| 200/200 [00:05<00:00, 38.48it/s]\n",
      "episode: 001 Total reward:-1479.14 avg loss:0.0801: 100%|██████████| 200/200 [00:07<00:00, 25.45it/s]\n",
      "episode: 002 Total reward:-1186.40 avg loss:0.0142: 100%|██████████| 200/200 [00:07<00:00, 28.36it/s]\n",
      "episode: 003 Total reward:-1526.10 avg loss:0.0077: 100%|██████████| 200/200 [00:07<00:00, 22.88it/s]\n",
      "episode: 004 Total reward:-1654.37 avg loss:0.0073: 100%|██████████| 200/200 [00:07<00:00, 25.89it/s]\n",
      "episode: 005 Total reward:-1571.62 avg loss:0.0135: 100%|██████████| 200/200 [00:07<00:00, 30.13it/s]\n",
      "episode: 006 Total reward:-1651.75 avg loss:0.0540: 100%|██████████| 200/200 [00:08<00:00, 24.68it/s]\n",
      "episode: 007 Total reward:-1526.73 avg loss:0.0863: 100%|██████████| 200/200 [00:07<00:00, 25.57it/s]\n",
      "episode: 008 Total reward:-1483.48 avg loss:0.0802: 100%|██████████| 200/200 [00:07<00:00, 25.29it/s]\n",
      "episode: 009 Total reward:-1524.75 avg loss:0.1584: 100%|██████████| 200/200 [00:07<00:00, 25.04it/s]\n",
      "episode: 010 Total reward:-1564.04 avg loss:0.2034: 100%|██████████| 200/200 [00:08<00:00, 22.60it/s]\n",
      "episode: 011 Total reward:-1419.63 avg loss:0.1654: 100%|██████████| 200/200 [00:07<00:00, 26.14it/s]\n",
      "episode: 012 Total reward:-1519.25 avg loss:0.3731: 100%|██████████| 200/200 [00:07<00:00, 25.61it/s]\n",
      "episode: 013 Total reward:-1528.72 avg loss:0.5581: 100%|██████████| 200/200 [00:08<00:00, 24.71it/s]\n",
      "episode: 014 Total reward:-1579.59 avg loss:0.5432: 100%|██████████| 200/200 [00:07<00:00, 25.21it/s]\n",
      "episode: 015 Total reward:-1487.22 avg loss:0.5125: 100%|██████████| 200/200 [00:08<00:00, 24.08it/s]\n",
      "episode: 016 Total reward:-1583.04 avg loss:0.9665: 100%|██████████| 200/200 [00:07<00:00, 25.77it/s]\n",
      "episode: 017 Total reward:-973.65 avg loss:0.8369: 100%|██████████| 200/200 [00:07<00:00, 28.56it/s]\n",
      "episode: 018 Total reward:-1756.23 avg loss:1.0276: 100%|██████████| 200/200 [00:07<00:00, 28.49it/s]\n",
      "episode: 019 Total reward:-1373.25 avg loss:1.6179: 100%|██████████| 200/200 [00:09<00:00, 21.99it/s]\n",
      "episode: 020 Total reward:-1496.48 avg loss:1.6312: 100%|██████████| 200/200 [00:07<00:00, 26.26it/s]\n",
      "episode: 021 Total reward:-1478.86 avg loss:1.5747: 100%|██████████| 200/200 [00:08<00:00, 24.31it/s]\n",
      "episode: 022 Total reward:-1474.60 avg loss:1.7621: 100%|██████████| 200/200 [00:08<00:00, 27.71it/s]\n",
      "episode: 023 Total reward:-1415.81 avg loss:1.9706: 100%|██████████| 200/200 [00:07<00:00, 27.11it/s]\n",
      "episode: 024 Total reward:-1512.53 avg loss:1.8547: 100%|██████████| 200/200 [00:08<00:00, 24.33it/s]\n",
      "episode: 025 Total reward:-1370.64 avg loss:2.5292: 100%|██████████| 200/200 [00:07<00:00, 25.54it/s]\n",
      "episode: 026 Total reward:-1592.55 avg loss:2.3660: 100%|██████████| 200/200 [00:07<00:00, 25.25it/s]\n",
      "episode: 027 Total reward:-1551.56 avg loss:2.9240: 100%|██████████| 200/200 [00:09<00:00, 21.80it/s]\n",
      "episode: 028 Total reward:-1302.34 avg loss:2.8107: 100%|██████████| 200/200 [00:07<00:00, 27.48it/s]\n",
      "episode: 029 Total reward:-1361.54 avg loss:3.0795: 100%|██████████| 200/200 [00:07<00:00, 27.46it/s]\n",
      "episode: 030 Total reward:-1504.85 avg loss:2.4467: 100%|██████████| 200/200 [00:07<00:00, 27.53it/s]\n",
      "episode: 031 Total reward:-1096.78 avg loss:3.1767: 100%|██████████| 200/200 [00:07<00:00, 27.58it/s]\n",
      "episode: 032 Total reward:-1411.64 avg loss:3.5986: 100%|██████████| 200/200 [00:07<00:00, 27.66it/s]\n",
      "episode: 033 Total reward:-799.04 avg loss:3.2731: 100%|██████████| 200/200 [00:07<00:00, 28.20it/s]\n",
      "episode: 034 Total reward:-400.74 avg loss:3.8390: 100%|██████████| 200/200 [00:07<00:00, 27.51it/s]\n",
      "episode: 035 Total reward:-270.85 avg loss:3.1140: 100%|██████████| 200/200 [00:07<00:00, 27.44it/s]\n",
      "episode: 036 Total reward:-1160.81 avg loss:3.5569: 100%|██████████| 200/200 [00:07<00:00, 27.30it/s]\n",
      "episode: 037 Total reward:-1287.17 avg loss:2.9213: 100%|██████████| 200/200 [00:07<00:00, 27.21it/s]\n",
      "episode: 038 Total reward:-857.85 avg loss:4.9725: 100%|██████████| 200/200 [00:08<00:00, 21.60it/s]\n",
      "episode: 039 Total reward:-536.42 avg loss:4.7590: 100%|██████████| 200/200 [00:08<00:00, 26.55it/s]\n",
      "episode: 040 Total reward:-8.78 avg loss:5.1865: 100%|██████████| 200/200 [00:08<00:00, 24.03it/s]\n",
      "episode: 041 Total reward:-3.62 avg loss:3.5650: 100%|██████████| 200/200 [00:08<00:00, 22.50it/s]\n",
      "episode: 042 Total reward:-1405.65 avg loss:5.0273: 100%|██████████| 200/200 [00:07<00:00, 25.84it/s]\n",
      "episode: 043 Total reward:-265.75 avg loss:3.4378: 100%|██████████| 200/200 [00:08<00:00, 23.76it/s]\n",
      "episode: 044 Total reward:-1269.31 avg loss:4.1505: 100%|██████████| 200/200 [00:07<00:00, 25.80it/s]\n",
      "episode: 045 Total reward:-1491.11 avg loss:3.6806: 100%|██████████| 200/200 [00:08<00:00, 24.79it/s]\n",
      "episode: 046 Total reward:-133.94 avg loss:4.3626: 100%|██████████| 200/200 [00:07<00:00, 25.71it/s]\n",
      "episode: 047 Total reward:-1019.03 avg loss:5.5020: 100%|██████████| 200/200 [00:08<00:00, 22.46it/s]\n",
      "episode: 048 Total reward:-948.04 avg loss:6.3280: 100%|██████████| 200/200 [00:08<00:00, 23.65it/s]\n",
      "episode: 049 Total reward:-1108.45 avg loss:7.5238: 100%|██████████| 200/200 [00:08<00:00, 20.36it/s]\n",
      "episode: 050 Total reward:-1491.41 avg loss:5.9461: 100%|██████████| 200/200 [00:08<00:00, 24.47it/s]\n",
      "episode: 051 Total reward:-1413.25 avg loss:6.4738: 100%|██████████| 200/200 [00:08<00:00, 26.70it/s]\n",
      "episode: 052 Total reward:-1355.62 avg loss:6.3734: 100%|██████████| 200/200 [00:08<00:00, 23.80it/s]\n",
      "episode: 053 Total reward:-1233.93 avg loss:6.7023: 100%|██████████| 200/200 [00:07<00:00, 27.16it/s]\n",
      "episode: 054 Total reward:-968.61 avg loss:6.5773: 100%|██████████| 200/200 [00:08<00:00, 21.90it/s]\n",
      "episode: 055 Total reward:-529.67 avg loss:5.8940: 100%|██████████| 200/200 [00:08<00:00, 23.12it/s]\n",
      "episode: 056 Total reward:-1311.42 avg loss:7.9876: 100%|██████████| 200/200 [00:07<00:00, 27.00it/s]\n",
      "episode: 057 Total reward:-547.24 avg loss:5.5520: 100%|██████████| 200/200 [00:07<00:00, 25.85it/s]\n",
      "episode: 058 Total reward:-267.49 avg loss:7.8225: 100%|██████████| 200/200 [00:07<00:00, 25.01it/s]\n",
      "episode: 059 Total reward:-663.27 avg loss:6.8430: 100%|██████████| 200/200 [00:07<00:00, 27.50it/s]\n",
      "episode: 060 Total reward:-951.68 avg loss:9.9065: 100%|██████████| 200/200 [00:07<00:00, 25.45it/s]\n",
      "episode: 061 Total reward:-825.17 avg loss:7.9343: 100%|██████████| 200/200 [00:07<00:00, 26.92it/s]\n",
      "episode: 062 Total reward:-527.70 avg loss:10.1942: 100%|██████████| 200/200 [00:08<00:00, 26.03it/s]\n",
      "episode: 063 Total reward:-958.50 avg loss:8.3548: 100%|██████████| 200/200 [00:08<00:00, 24.76it/s]\n",
      "episode: 064 Total reward:-263.01 avg loss:9.4246: 100%|██████████| 200/200 [00:07<00:00, 26.88it/s]\n",
      "episode: 065 Total reward:-761.32 avg loss:9.6024: 100%|██████████| 200/200 [00:08<00:00, 24.33it/s]\n",
      "episode: 066 Total reward:-801.20 avg loss:11.5961: 100%|██████████| 200/200 [00:08<00:00, 23.26it/s]\n",
      "episode: 067 Total reward:-821.27 avg loss:7.8620: 100%|██████████| 200/200 [00:08<00:00, 23.66it/s]\n",
      "episode: 068 Total reward:-1055.30 avg loss:10.6001: 100%|██████████| 200/200 [00:07<00:00, 25.41it/s]\n",
      "episode: 069 Total reward:-646.98 avg loss:7.3078: 100%|██████████| 200/200 [00:07<00:00, 26.54it/s]\n",
      "episode: 070 Total reward:-1004.58 avg loss:7.0736: 100%|██████████| 200/200 [00:08<00:00, 25.29it/s]\n",
      "episode: 071 Total reward:-961.18 avg loss:12.0578: 100%|██████████| 200/200 [00:08<00:00, 24.36it/s]\n",
      "episode: 072 Total reward:-797.17 avg loss:11.3511: 100%|██████████| 200/200 [00:08<00:00, 22.45it/s]\n",
      "episode: 073 Total reward:-780.36 avg loss:11.4164: 100%|██████████| 200/200 [00:08<00:00, 22.28it/s]\n",
      "episode: 074 Total reward:-394.73 avg loss:10.9351: 100%|██████████| 200/200 [00:08<00:00, 23.23it/s]\n",
      "episode: 075 Total reward:-260.75 avg loss:11.0412: 100%|██████████| 200/200 [00:08<00:00, 23.21it/s]\n",
      "episode: 076 Total reward:-389.93 avg loss:14.3437: 100%|██████████| 200/200 [00:08<00:00, 24.96it/s]\n",
      "episode: 077 Total reward:-788.11 avg loss:11.9601: 100%|██████████| 200/200 [00:08<00:00, 24.34it/s]\n",
      "episode: 078 Total reward:-536.34 avg loss:11.5417: 100%|██████████| 200/200 [00:09<00:00, 22.08it/s]\n",
      "episode: 079 Total reward:-399.77 avg loss:11.7070: 100%|██████████| 200/200 [00:07<00:00, 25.05it/s]\n"
     ]
    },
    {
     "name": "stderr",
     "output_type": "stream",
     "text": [
      "episode: 080 Total reward:-1492.35 avg loss:12.4661: 100%|██████████| 200/200 [00:06<00:00, 29.95it/s]\n",
      "episode: 081 Total reward:-2.92 avg loss:12.7012: 100%|██████████| 200/200 [00:06<00:00, 29.82it/s]\n",
      "episode: 082 Total reward:-139.74 avg loss:11.7654: 100%|██████████| 200/200 [00:06<00:00, 29.68it/s]\n",
      "episode: 083 Total reward:-390.95 avg loss:10.9660: 100%|██████████| 200/200 [00:07<00:00, 26.81it/s]\n",
      "episode: 084 Total reward:-675.50 avg loss:11.1654: 100%|██████████| 200/200 [00:07<00:00, 25.40it/s]\n",
      "episode: 085 Total reward:-522.62 avg loss:11.4756: 100%|██████████| 200/200 [00:08<00:00, 24.85it/s]\n",
      "episode: 086 Total reward:-1491.15 avg loss:14.7620: 100%|██████████| 200/200 [00:07<00:00, 27.36it/s]\n",
      "episode: 087 Total reward:-421.47 avg loss:7.2278: 100%|██████████| 200/200 [00:07<00:00, 26.71it/s]\n",
      "episode: 088 Total reward:-547.24 avg loss:10.3389: 100%|██████████| 200/200 [00:07<00:00, 27.22it/s]\n",
      "episode: 089 Total reward:-535.04 avg loss:14.8468: 100%|██████████| 200/200 [00:07<00:00, 25.98it/s]\n",
      "episode: 090 Total reward:-7.65 avg loss:9.6230: 100%|██████████| 200/200 [00:07<00:00, 28.32it/s]\n",
      "episode: 091 Total reward:-527.69 avg loss:10.6505: 100%|██████████| 200/200 [00:07<00:00, 27.95it/s]\n",
      "episode: 092 Total reward:-137.27 avg loss:14.4945: 100%|██████████| 200/200 [00:07<00:00, 26.91it/s]\n",
      "episode: 093 Total reward:-652.27 avg loss:16.0460: 100%|██████████| 200/200 [00:07<00:00, 25.66it/s]\n",
      "episode: 094 Total reward:-669.60 avg loss:15.0247: 100%|██████████| 200/200 [00:07<00:00, 25.15it/s]\n",
      "episode: 095 Total reward:-521.16 avg loss:15.7070: 100%|██████████| 200/200 [00:08<00:00, 24.47it/s]\n",
      "episode: 096 Total reward:-138.85 avg loss:15.1825: 100%|██████████| 200/200 [00:07<00:00, 27.05it/s]\n",
      "episode: 097 Total reward:-686.95 avg loss:13.8184: 100%|██████████| 200/200 [00:07<00:00, 28.11it/s]\n",
      "episode: 098 Total reward:-271.12 avg loss:12.2781: 100%|██████████| 200/200 [00:07<00:00, 27.98it/s]\n",
      "episode: 099 Total reward:-263.62 avg loss:14.0828: 100%|██████████| 200/200 [00:07<00:00, 26.87it/s]\n",
      "episode: 100 Total reward:-653.27 avg loss:9.9740: 100%|██████████| 200/200 [00:08<00:00, 23.60it/s]\n",
      "episode: 101 Total reward:-142.18 avg loss:14.3763: 100%|██████████| 200/200 [00:07<00:00, 26.38it/s]\n",
      "episode: 102 Total reward:-5.87 avg loss:12.3237: 100%|██████████| 200/200 [00:07<00:00, 27.01it/s]\n",
      "episode: 103 Total reward:-281.35 avg loss:11.3636: 100%|██████████| 200/200 [00:07<00:00, 27.58it/s]\n",
      "episode: 104 Total reward:-257.32 avg loss:17.6426: 100%|██████████| 200/200 [00:06<00:00, 29.83it/s]\n",
      "episode: 105 Total reward:-546.05 avg loss:12.8751: 100%|██████████| 200/200 [00:06<00:00, 29.72it/s]\n",
      "episode: 106 Total reward:-520.76 avg loss:16.9510: 100%|██████████| 200/200 [00:06<00:00, 29.92it/s]\n",
      "episode: 107 Total reward:-139.73 avg loss:16.4054: 100%|██████████| 200/200 [00:06<00:00, 30.13it/s]\n",
      "episode: 108 Total reward:-263.68 avg loss:12.0849: 100%|██████████| 200/200 [00:07<00:00, 28.30it/s]\n",
      "episode: 109 Total reward:-142.29 avg loss:13.3585: 100%|██████████| 200/200 [00:06<00:00, 29.28it/s]\n",
      "episode: 110 Total reward:-267.68 avg loss:15.3950: 100%|██████████| 200/200 [00:06<00:00, 29.97it/s]\n",
      "episode: 111 Total reward:-12.93 avg loss:12.7397: 100%|██████████| 200/200 [00:06<00:00, 29.99it/s]\n",
      "episode: 112 Total reward:-271.49 avg loss:19.2921: 100%|██████████| 200/200 [00:06<00:00, 29.64it/s]\n",
      "episode: 113 Total reward:-393.49 avg loss:10.8240: 100%|██████████| 200/200 [00:06<00:00, 29.76it/s]\n",
      "episode: 114 Total reward:-406.07 avg loss:15.4802: 100%|██████████| 200/200 [00:06<00:00, 29.87it/s]\n",
      "episode: 115 Total reward:-515.47 avg loss:17.8327: 100%|██████████| 200/200 [00:06<00:00, 29.72it/s]\n",
      "episode: 116 Total reward:-717.01 avg loss:15.7671: 100%|██████████| 200/200 [00:06<00:00, 30.04it/s]\n",
      "episode: 117 Total reward:-138.99 avg loss:9.1156: 100%|██████████| 200/200 [00:06<00:00, 29.87it/s]\n",
      "episode: 118 Total reward:-257.69 avg loss:12.8828: 100%|██████████| 200/200 [00:06<00:00, 29.72it/s]\n",
      "episode: 119 Total reward:-136.00 avg loss:16.1238: 100%|██████████| 200/200 [00:06<00:00, 29.91it/s]\n",
      "episode: 120 Total reward:-261.38 avg loss:14.1407: 100%|██████████| 200/200 [00:06<00:00, 29.79it/s]\n",
      "episode: 121 Total reward:-265.11 avg loss:18.3178: 100%|██████████| 200/200 [00:06<00:00, 30.01it/s]\n",
      "episode: 122 Total reward:-138.06 avg loss:18.9638: 100%|██████████| 200/200 [00:06<00:00, 30.01it/s]\n",
      "episode: 123 Total reward:-262.04 avg loss:20.6140: 100%|██████████| 200/200 [00:06<00:00, 29.77it/s]\n",
      "episode: 124 Total reward:-9.83 avg loss:17.6286: 100%|██████████| 200/200 [00:06<00:00, 29.69it/s]\n",
      "episode: 125 Total reward:-251.55 avg loss:11.9573: 100%|██████████| 200/200 [00:06<00:00, 29.67it/s]\n",
      "episode: 126 Total reward:-256.20 avg loss:16.6058: 100%|██████████| 200/200 [00:06<00:00, 30.01it/s]\n",
      "episode: 127 Total reward:-263.52 avg loss:15.8617: 100%|██████████| 200/200 [00:06<00:00, 29.96it/s]\n",
      "episode: 128 Total reward:-368.77 avg loss:15.1555: 100%|██████████| 200/200 [00:06<00:00, 30.03it/s]\n",
      "episode: 129 Total reward:-124.94 avg loss:20.8011: 100%|██████████| 200/200 [00:06<00:00, 30.08it/s]\n",
      "episode: 130 Total reward:-6.02 avg loss:14.3413: 100%|██████████| 200/200 [00:06<00:00, 29.95it/s]\n",
      "episode: 131 Total reward:-321.09 avg loss:11.7258: 100%|██████████| 200/200 [00:06<00:00, 30.13it/s]\n",
      "episode: 132 Total reward:-259.87 avg loss:14.0064: 100%|██████████| 200/200 [00:06<00:00, 30.06it/s]\n",
      "episode: 133 Total reward:-254.74 avg loss:19.8717: 100%|██████████| 200/200 [00:06<00:00, 29.92it/s]\n",
      "episode: 134 Total reward:-249.77 avg loss:16.5782: 100%|██████████| 200/200 [00:06<00:00, 30.08it/s]\n",
      "episode: 135 Total reward:-125.71 avg loss:16.5082: 100%|██████████| 200/200 [00:06<00:00, 30.18it/s]\n",
      "episode: 136 Total reward:-130.17 avg loss:21.3126: 100%|██████████| 200/200 [00:06<00:00, 30.10it/s]\n",
      "episode: 137 Total reward:-137.28 avg loss:20.4587: 100%|██████████| 200/200 [00:06<00:00, 29.97it/s]\n",
      "episode: 138 Total reward:-130.96 avg loss:15.9018: 100%|██████████| 200/200 [00:06<00:00, 29.98it/s]\n",
      "episode: 139 Total reward:-129.87 avg loss:12.0591: 100%|██████████| 200/200 [00:06<00:00, 30.16it/s]\n",
      "episode: 140 Total reward:-4.46 avg loss:12.8613: 100%|██████████| 200/200 [00:06<00:00, 29.54it/s]\n",
      "episode: 141 Total reward:-118.14 avg loss:17.3729: 100%|██████████| 200/200 [00:06<00:00, 30.11it/s]\n",
      "episode: 142 Total reward:-262.05 avg loss:10.5432: 100%|██████████| 200/200 [00:06<00:00, 30.19it/s]\n",
      "episode: 143 Total reward:-129.98 avg loss:19.6321: 100%|██████████| 200/200 [00:06<00:00, 30.23it/s]\n",
      "episode: 144 Total reward:-237.19 avg loss:13.3591: 100%|██████████| 200/200 [00:06<00:00, 30.18it/s]\n",
      "episode: 145 Total reward:-135.34 avg loss:17.0055: 100%|██████████| 200/200 [00:06<00:00, 30.14it/s]\n",
      "episode: 146 Total reward:-262.16 avg loss:19.6851: 100%|██████████| 200/200 [00:06<00:00, 30.32it/s]\n",
      "episode: 147 Total reward:-131.98 avg loss:12.9900: 100%|██████████| 200/200 [00:06<00:00, 30.20it/s]\n",
      "episode: 148 Total reward:-118.83 avg loss:15.2742: 100%|██████████| 200/200 [00:06<00:00, 30.14it/s]\n",
      "episode: 149 Total reward:-129.27 avg loss:16.9943: 100%|██████████| 200/200 [00:06<00:00, 30.07it/s]\n",
      "episode: 150 Total reward:-118.36 avg loss:20.6491: 100%|██████████| 200/200 [00:06<00:00, 29.03it/s]\n",
      "episode: 151 Total reward:-239.98 avg loss:19.9705: 100%|██████████| 200/200 [00:06<00:00, 30.15it/s]\n",
      "episode: 152 Total reward:-237.31 avg loss:13.9884: 100%|██████████| 200/200 [00:06<00:00, 30.20it/s]\n",
      "episode: 153 Total reward:-7.40 avg loss:21.4153: 100%|██████████| 200/200 [00:06<00:00, 30.24it/s]\n",
      "episode: 154 Total reward:-8.71 avg loss:14.3468: 100%|██████████| 200/200 [00:06<00:00, 30.03it/s]\n",
      "episode: 155 Total reward:-373.58 avg loss:15.4347: 100%|██████████| 200/200 [00:06<00:00, 30.42it/s]\n",
      "episode: 156 Total reward:-132.27 avg loss:10.7128: 100%|██████████| 200/200 [00:06<00:00, 30.46it/s]\n",
      "episode: 157 Total reward:-130.98 avg loss:20.4383: 100%|██████████| 200/200 [00:07<00:00, 24.69it/s]\n",
      "episode: 158 Total reward:-136.07 avg loss:21.9245: 100%|██████████| 200/200 [00:07<00:00, 25.59it/s]\n",
      "episode: 159 Total reward:-286.16 avg loss:21.4421: 100%|██████████| 200/200 [00:06<00:00, 30.24it/s]\n"
     ]
    },
    {
     "name": "stderr",
     "output_type": "stream",
     "text": [
      "episode: 160 Total reward:-264.42 avg loss:22.3530: 100%|██████████| 200/200 [00:06<00:00, 30.58it/s]\n",
      "episode: 161 Total reward:-130.19 avg loss:13.4693: 100%|██████████| 200/200 [00:06<00:00, 30.70it/s]\n",
      "episode: 162 Total reward:-121.85 avg loss:13.7930: 100%|██████████| 200/200 [00:06<00:00, 30.55it/s]\n",
      "episode: 163 Total reward:-262.17 avg loss:22.3041: 100%|██████████| 200/200 [00:06<00:00, 30.39it/s]\n",
      "episode: 164 Total reward:-251.80 avg loss:13.6795: 100%|██████████| 200/200 [00:06<00:00, 30.52it/s]\n",
      "episode: 165 Total reward:-127.19 avg loss:16.4537: 100%|██████████| 200/200 [00:06<00:00, 30.56it/s]\n",
      "episode: 166 Total reward:-241.47 avg loss:13.9016: 100%|██████████| 200/200 [00:06<00:00, 30.29it/s]\n",
      "episode: 167 Total reward:-1.64 avg loss:23.3617: 100%|██████████| 200/200 [00:06<00:00, 30.54it/s]\n",
      "episode: 168 Total reward:-129.66 avg loss:21.9503: 100%|██████████| 200/200 [00:06<00:00, 30.57it/s]\n",
      "episode: 169 Total reward:-249.33 avg loss:13.4854: 100%|██████████| 200/200 [00:06<00:00, 30.45it/s]\n",
      "episode: 170 Total reward:-132.30 avg loss:17.0764: 100%|██████████| 200/200 [00:06<00:00, 30.53it/s]\n",
      "episode: 171 Total reward:-128.25 avg loss:21.0574: 100%|██████████| 200/200 [00:06<00:00, 30.22it/s]\n",
      "episode: 172 Total reward:-387.28 avg loss:22.3782: 100%|██████████| 200/200 [00:06<00:00, 30.77it/s]\n",
      "episode: 173 Total reward:-124.17 avg loss:19.9311: 100%|██████████| 200/200 [00:06<00:00, 30.51it/s]\n",
      "episode: 174 Total reward:-348.31 avg loss:15.5916: 100%|██████████| 200/200 [00:06<00:00, 30.50it/s]\n",
      "episode: 175 Total reward:-362.78 avg loss:18.3722: 100%|██████████| 200/200 [00:06<00:00, 30.57it/s]\n",
      "episode: 176 Total reward:-129.73 avg loss:12.9150: 100%|██████████| 200/200 [00:06<00:00, 30.52it/s]\n",
      "episode: 177 Total reward:-250.47 avg loss:14.7789: 100%|██████████| 200/200 [00:06<00:00, 30.51it/s]\n",
      "episode: 178 Total reward:-122.23 avg loss:16.5017: 100%|██████████| 200/200 [00:06<00:00, 30.56it/s]\n",
      "episode: 179 Total reward:-1.53 avg loss:17.9093: 100%|██████████| 200/200 [00:06<00:00, 30.71it/s]\n",
      "episode: 180 Total reward:-242.84 avg loss:14.7012: 100%|██████████| 200/200 [00:06<00:00, 30.53it/s]\n",
      "episode: 181 Total reward:-376.81 avg loss:21.0346: 100%|██████████| 200/200 [00:06<00:00, 29.24it/s]\n",
      "episode: 182 Total reward:-128.19 avg loss:19.8949: 100%|██████████| 200/200 [00:07<00:00, 25.21it/s]\n",
      "episode: 183 Total reward:-242.69 avg loss:15.3606: 100%|██████████| 200/200 [00:06<00:00, 30.61it/s]\n",
      "episode: 184 Total reward:-125.17 avg loss:14.5952: 100%|██████████| 200/200 [00:06<00:00, 30.20it/s]\n",
      "episode: 185 Total reward:-251.14 avg loss:17.9860: 100%|██████████| 200/200 [00:06<00:00, 29.41it/s]\n",
      "episode: 186 Total reward:-115.30 avg loss:15.6293: 100%|██████████| 200/200 [00:06<00:00, 30.68it/s]\n",
      "episode: 187 Total reward:-740.80 avg loss:14.3369: 100%|██████████| 200/200 [00:06<00:00, 30.60it/s]\n",
      "episode: 188 Total reward:-125.91 avg loss:13.5236: 100%|██████████| 200/200 [00:06<00:00, 30.91it/s]\n",
      "episode: 189 Total reward:-129.30 avg loss:24.3383: 100%|██████████| 200/200 [00:06<00:00, 30.24it/s]\n",
      "episode: 190 Total reward:-17.90 avg loss:18.3982: 100%|██████████| 200/200 [00:06<00:00, 30.22it/s]\n",
      "episode: 191 Total reward:-374.70 avg loss:16.7899: 100%|██████████| 200/200 [00:06<00:00, 30.16it/s]\n",
      "episode: 192 Total reward:-126.73 avg loss:13.5338: 100%|██████████| 200/200 [00:06<00:00, 30.40it/s]\n",
      "episode: 193 Total reward:-2.18 avg loss:15.4934: 100%|██████████| 200/200 [00:06<00:00, 30.26it/s]\n",
      "episode: 194 Total reward:-367.55 avg loss:19.3102: 100%|██████████| 200/200 [00:06<00:00, 30.26it/s]\n",
      "episode: 195 Total reward:-126.97 avg loss:22.1280: 100%|██████████| 200/200 [00:06<00:00, 29.92it/s]\n",
      "episode: 196 Total reward:-127.34 avg loss:18.2886: 100%|██████████| 200/200 [00:06<00:00, 30.00it/s]\n",
      "episode: 197 Total reward:-133.06 avg loss:14.4274: 100%|██████████| 200/200 [00:06<00:00, 30.40it/s]\n",
      "episode: 198 Total reward:-252.44 avg loss:15.9349: 100%|██████████| 200/200 [00:06<00:00, 30.45it/s]\n",
      "episode: 199 Total reward:-124.11 avg loss:10.3052: 100%|██████████| 200/200 [00:06<00:00, 30.77it/s]\n",
      "episode: 200 Total reward:-261.34 avg loss:12.6300: 100%|██████████| 200/200 [00:06<00:00, 30.74it/s]\n",
      "episode: 201 Total reward:-129.36 avg loss:14.6817: 100%|██████████| 200/200 [00:06<00:00, 30.81it/s]\n",
      "episode: 202 Total reward:-130.67 avg loss:11.2257: 100%|██████████| 200/200 [00:06<00:00, 30.60it/s]\n",
      "episode: 203 Total reward:-0.51 avg loss:18.9555: 100%|██████████| 200/200 [00:06<00:00, 30.71it/s]\n",
      "episode: 204 Total reward:-129.47 avg loss:22.8203: 100%|██████████| 200/200 [00:06<00:00, 30.72it/s]\n",
      "episode: 205 Total reward:-244.22 avg loss:15.8823: 100%|██████████| 200/200 [00:06<00:00, 30.69it/s]\n",
      "episode: 206 Total reward:-257.84 avg loss:19.6940: 100%|██████████| 200/200 [00:06<00:00, 30.84it/s]\n",
      "episode: 207 Total reward:-128.88 avg loss:12.1740: 100%|██████████| 200/200 [00:06<00:00, 30.82it/s]\n",
      "episode: 208 Total reward:-131.63 avg loss:14.0012: 100%|██████████| 200/200 [00:06<00:00, 30.81it/s]\n",
      "episode: 209 Total reward:-131.77 avg loss:15.2820: 100%|██████████| 200/200 [00:06<00:00, 30.60it/s]\n",
      "episode: 210 Total reward:-121.26 avg loss:15.6936: 100%|██████████| 200/200 [00:06<00:00, 30.56it/s]\n",
      "episode: 211 Total reward:-124.86 avg loss:10.1911: 100%|██████████| 200/200 [00:06<00:00, 30.69it/s]\n",
      "episode: 212 Total reward:-138.90 avg loss:21.6502: 100%|██████████| 200/200 [00:06<00:00, 30.77it/s]\n",
      "episode: 213 Total reward:-130.18 avg loss:13.7997: 100%|██████████| 200/200 [00:06<00:00, 30.63it/s]\n",
      "episode: 214 Total reward:-364.89 avg loss:25.3380: 100%|██████████| 200/200 [00:06<00:00, 30.85it/s]\n",
      "episode: 215 Total reward:-0.92 avg loss:14.3582: 100%|██████████| 200/200 [00:06<00:00, 30.72it/s]\n",
      "episode: 216 Total reward:-245.11 avg loss:18.6490: 100%|██████████| 200/200 [00:06<00:00, 30.71it/s]\n",
      "episode: 217 Total reward:-126.05 avg loss:14.5028: 100%|██████████| 200/200 [00:06<00:00, 30.76it/s]\n",
      "episode: 218 Total reward:-127.78 avg loss:11.9087: 100%|██████████| 200/200 [00:06<00:00, 30.56it/s]\n",
      "episode: 219 Total reward:-132.90 avg loss:20.2856: 100%|██████████| 200/200 [00:06<00:00, 30.57it/s]\n",
      "episode: 220 Total reward:-128.68 avg loss:19.3332: 100%|██████████| 200/200 [00:06<00:00, 30.61it/s]\n",
      "episode: 221 Total reward:-119.04 avg loss:15.3454: 100%|██████████| 200/200 [00:06<00:00, 30.61it/s]\n",
      "episode: 222 Total reward:-0.74 avg loss:16.0115: 100%|██████████| 200/200 [00:06<00:00, 30.55it/s]\n",
      "episode: 223 Total reward:-386.93 avg loss:11.1407: 100%|██████████| 200/200 [00:06<00:00, 30.43it/s]\n",
      "episode: 224 Total reward:-258.50 avg loss:15.6354: 100%|██████████| 200/200 [00:06<00:00, 30.47it/s]\n",
      "episode: 225 Total reward:-131.53 avg loss:8.5980: 100%|██████████| 200/200 [00:06<00:00, 30.52it/s]\n",
      "episode: 226 Total reward:-131.42 avg loss:18.6256: 100%|██████████| 200/200 [00:06<00:00, 30.55it/s]\n",
      "episode: 227 Total reward:-127.30 avg loss:17.3553: 100%|██████████| 200/200 [00:06<00:00, 30.48it/s]\n",
      "episode: 228 Total reward:-128.19 avg loss:8.3189: 100%|██████████| 200/200 [00:06<00:00, 30.53it/s]\n",
      "episode: 229 Total reward:-122.72 avg loss:15.1504: 100%|██████████| 200/200 [00:06<00:00, 30.65it/s]\n",
      "episode: 230 Total reward:-127.84 avg loss:13.9910: 100%|██████████| 200/200 [00:06<00:00, 30.45it/s]\n",
      "episode: 231 Total reward:-124.49 avg loss:14.4744: 100%|██████████| 200/200 [00:06<00:00, 30.49it/s]\n",
      "episode: 232 Total reward:-131.35 avg loss:6.6582: 100%|██████████| 200/200 [00:06<00:00, 30.56it/s]\n",
      "episode: 233 Total reward:-128.44 avg loss:9.4890: 100%|██████████| 200/200 [00:06<00:00, 30.41it/s]\n",
      "episode: 234 Total reward:-122.79 avg loss:17.0997: 100%|██████████| 200/200 [00:06<00:00, 30.49it/s]\n",
      "episode: 235 Total reward:-261.56 avg loss:21.0512: 100%|██████████| 200/200 [00:06<00:00, 30.55it/s]\n",
      "episode: 236 Total reward:-127.51 avg loss:19.6198: 100%|██████████| 200/200 [00:06<00:00, 30.41it/s]\n",
      "episode: 237 Total reward:-127.93 avg loss:14.0376: 100%|██████████| 200/200 [00:06<00:00, 30.49it/s]\n",
      "episode: 238 Total reward:-119.65 avg loss:11.7506: 100%|██████████| 200/200 [00:06<00:00, 30.50it/s]\n",
      "episode: 239 Total reward:-118.66 avg loss:13.7425: 100%|██████████| 200/200 [00:06<00:00, 30.38it/s]\n"
     ]
    },
    {
     "name": "stderr",
     "output_type": "stream",
     "text": [
      "episode: 240 Total reward:-240.94 avg loss:9.4152: 100%|██████████| 200/200 [00:06<00:00, 30.63it/s]\n",
      "episode: 241 Total reward:-128.28 avg loss:17.4507: 100%|██████████| 200/200 [00:06<00:00, 30.42it/s]\n",
      "episode: 242 Total reward:-248.18 avg loss:15.3362: 100%|██████████| 200/200 [00:06<00:00, 30.60it/s]\n",
      "episode: 243 Total reward:-345.05 avg loss:11.5886: 100%|██████████| 200/200 [00:06<00:00, 30.58it/s]\n",
      "episode: 244 Total reward:-2.98 avg loss:14.1987: 100%|██████████| 200/200 [00:06<00:00, 30.55it/s]\n",
      "episode: 245 Total reward:-253.02 avg loss:12.1948: 100%|██████████| 200/200 [00:06<00:00, 30.35it/s]\n",
      "episode: 246 Total reward:-126.92 avg loss:10.8785: 100%|██████████| 200/200 [00:06<00:00, 30.53it/s]\n",
      "episode: 247 Total reward:-284.98 avg loss:13.7248: 100%|██████████| 200/200 [00:06<00:00, 30.60it/s]\n",
      "episode: 248 Total reward:-130.77 avg loss:17.6414: 100%|██████████| 200/200 [00:06<00:00, 30.52it/s]\n",
      "episode: 249 Total reward:-247.22 avg loss:21.8452: 100%|██████████| 200/200 [00:06<00:00, 30.54it/s]\n",
      "episode: 250 Total reward:-124.10 avg loss:17.4843: 100%|██████████| 200/200 [00:06<00:00, 30.50it/s]\n",
      "episode: 251 Total reward:-126.00 avg loss:19.0108: 100%|██████████| 200/200 [00:06<00:00, 30.41it/s]\n",
      "episode: 252 Total reward:-252.80 avg loss:20.1533: 100%|██████████| 200/200 [00:06<00:00, 30.59it/s]\n",
      "episode: 253 Total reward:-228.02 avg loss:19.2303: 100%|██████████| 200/200 [00:06<00:00, 30.51it/s]\n",
      "episode: 254 Total reward:-256.42 avg loss:10.7406: 100%|██████████| 200/200 [00:06<00:00, 30.33it/s]\n",
      "episode: 255 Total reward:-280.59 avg loss:16.6567: 100%|██████████| 200/200 [00:06<00:00, 30.43it/s]\n",
      "episode: 256 Total reward:-243.69 avg loss:15.1027: 100%|██████████| 200/200 [00:06<00:00, 30.41it/s]\n",
      "episode: 257 Total reward:-340.33 avg loss:14.9983: 100%|██████████| 200/200 [00:06<00:00, 30.53it/s]\n",
      "episode: 258 Total reward:-124.70 avg loss:14.3632: 100%|██████████| 200/200 [00:06<00:00, 30.43it/s]\n",
      "episode: 259 Total reward:-128.09 avg loss:9.7823: 100%|██████████| 200/200 [00:06<00:00, 30.29it/s]\n",
      "episode: 260 Total reward:-124.40 avg loss:14.6495: 100%|██████████| 200/200 [00:06<00:00, 30.25it/s]\n",
      "episode: 261 Total reward:-0.98 avg loss:14.6247: 100%|██████████| 200/200 [00:06<00:00, 30.32it/s]\n",
      "episode: 262 Total reward:-2.67 avg loss:12.8990: 100%|██████████| 200/200 [00:06<00:00, 30.21it/s]\n",
      "episode: 263 Total reward:-130.19 avg loss:11.2467: 100%|██████████| 200/200 [00:06<00:00, 30.30it/s]\n",
      "episode: 264 Total reward:-357.44 avg loss:18.3424: 100%|██████████| 200/200 [00:06<00:00, 30.31it/s]\n",
      "episode: 265 Total reward:-242.25 avg loss:18.3332: 100%|██████████| 200/200 [00:06<00:00, 29.52it/s]\n",
      "episode: 266 Total reward:-124.45 avg loss:14.0460: 100%|██████████| 200/200 [00:06<00:00, 30.32it/s]\n",
      "episode: 267 Total reward:-129.49 avg loss:10.3873: 100%|██████████| 200/200 [00:06<00:00, 30.23it/s]\n",
      "episode: 268 Total reward:-128.35 avg loss:22.5844: 100%|██████████| 200/200 [00:06<00:00, 30.28it/s]\n",
      "episode: 269 Total reward:-246.06 avg loss:16.9542: 100%|██████████| 200/200 [00:06<00:00, 30.39it/s]\n",
      "episode: 270 Total reward:-368.38 avg loss:14.3010: 100%|██████████| 200/200 [00:06<00:00, 30.40it/s]\n",
      "episode: 271 Total reward:-126.60 avg loss:13.0297: 100%|██████████| 200/200 [00:06<00:00, 30.25it/s]\n",
      "episode: 272 Total reward:-2.29 avg loss:12.4712: 100%|██████████| 200/200 [00:06<00:00, 30.11it/s]\n",
      "episode: 273 Total reward:-125.80 avg loss:10.1473: 100%|██████████| 200/200 [00:06<00:00, 30.16it/s]\n",
      "episode: 274 Total reward:-1.45 avg loss:13.4848: 100%|██████████| 200/200 [00:06<00:00, 30.05it/s]\n",
      "episode: 275 Total reward:-113.91 avg loss:14.7820: 100%|██████████| 200/200 [00:06<00:00, 30.37it/s]\n",
      "episode: 276 Total reward:-250.75 avg loss:11.7003: 100%|██████████| 200/200 [00:06<00:00, 30.23it/s]\n",
      "episode: 277 Total reward:-1.21 avg loss:11.3750: 100%|██████████| 200/200 [00:06<00:00, 30.29it/s]\n",
      "episode: 278 Total reward:-245.67 avg loss:22.7471: 100%|██████████| 200/200 [00:06<00:00, 30.16it/s]\n",
      "episode: 279 Total reward:-254.20 avg loss:12.0157: 100%|██████████| 200/200 [00:06<00:00, 30.27it/s]\n",
      "episode: 280 Total reward:-0.68 avg loss:13.5667: 100%|██████████| 200/200 [00:06<00:00, 30.32it/s]\n",
      "episode: 281 Total reward:-127.90 avg loss:14.5731: 100%|██████████| 200/200 [00:06<00:00, 30.21it/s]\n",
      "episode: 282 Total reward:-129.16 avg loss:14.8422: 100%|██████████| 200/200 [00:06<00:00, 30.28it/s]\n",
      "episode: 283 Total reward:-122.19 avg loss:16.3349: 100%|██████████| 200/200 [00:06<00:00, 30.34it/s]\n",
      "episode: 284 Total reward:-131.81 avg loss:11.9024: 100%|██████████| 200/200 [00:06<00:00, 30.26it/s]\n",
      "episode: 285 Total reward:-121.56 avg loss:9.3172: 100%|██████████| 200/200 [00:06<00:00, 30.33it/s]\n",
      "episode: 286 Total reward:-126.74 avg loss:19.7462: 100%|██████████| 200/200 [00:06<00:00, 30.20it/s]\n",
      "episode: 287 Total reward:-227.09 avg loss:15.0085: 100%|██████████| 200/200 [00:06<00:00, 30.27it/s]\n",
      "episode: 288 Total reward:-117.43 avg loss:16.7856: 100%|██████████| 200/200 [00:06<00:00, 30.24it/s]\n",
      "episode: 289 Total reward:-122.27 avg loss:7.6755: 100%|██████████| 200/200 [00:06<00:00, 30.15it/s]\n",
      "episode: 290 Total reward:-0.57 avg loss:13.4312: 100%|██████████| 200/200 [00:06<00:00, 30.30it/s]\n",
      "episode: 291 Total reward:-125.76 avg loss:19.0452: 100%|██████████| 200/200 [00:06<00:00, 29.77it/s]\n",
      "episode: 292 Total reward:-232.83 avg loss:20.1249: 100%|██████████| 200/200 [00:06<00:00, 30.25it/s]\n",
      "episode: 293 Total reward:-246.74 avg loss:19.7975: 100%|██████████| 200/200 [00:06<00:00, 30.25it/s]\n",
      "episode: 294 Total reward:-124.94 avg loss:17.3783: 100%|██████████| 200/200 [00:06<00:00, 30.12it/s]\n",
      "episode: 295 Total reward:-257.20 avg loss:12.2315: 100%|██████████| 200/200 [00:06<00:00, 30.18it/s]\n",
      "episode: 296 Total reward:-246.89 avg loss:8.5739: 100%|██████████| 200/200 [00:06<00:00, 29.69it/s]\n",
      "episode: 297 Total reward:-249.44 avg loss:10.4351: 100%|██████████| 200/200 [00:06<00:00, 30.00it/s]\n",
      "episode: 298 Total reward:-120.00 avg loss:20.0474: 100%|██████████| 200/200 [00:06<00:00, 30.16it/s]\n",
      "episode: 299 Total reward:-120.49 avg loss:20.2469: 100%|██████████| 200/200 [00:06<00:00, 30.13it/s]\n"
     ]
    }
   ],
   "source": [
    "[reward_list, loss_list]=ddpg.train(num_episodes=300)"
   ]
  },
  {
   "cell_type": "markdown",
   "metadata": {},
   "source": [
    "## Testing"
   ]
  },
  {
   "cell_type": "code",
   "execution_count": 8,
   "metadata": {},
   "outputs": [
    {
     "name": "stderr",
     "output_type": "stream",
     "text": [
      "episode: 000 Total reward:-121.53: 100%|██████████| 200/200 [00:00<00:00, 312.46it/s]    \n",
      "episode: 001 Total reward:-117.99: 100%|██████████| 200/200 [00:00<00:00, 320.25it/s]    \n",
      "episode: 002 Total reward:-120.92: 100%|██████████| 200/200 [00:00<00:00, 320.71it/s]    \n",
      "episode: 003 Total reward:-123.57: 100%|██████████| 200/200 [00:00<00:00, 326.20it/s]    \n",
      "episode: 004 Total reward:-233.96: 100%|██████████| 200/200 [00:00<00:00, 343.61it/s]    \n",
      "episode: 005 Total reward:-252.28: 100%|██████████| 200/200 [00:00<00:00, 299.64it/s]    \n",
      "episode: 006 Total reward:-391.06: 100%|██████████| 200/200 [00:00<00:00, 265.01it/s]    \n",
      "episode: 007 Total reward:-0.32: 100%|██████████| 200/200 [00:00<00:00, 292.98it/s]    \n",
      "episode: 008 Total reward:-229.97: 100%|██████████| 200/200 [00:00<00:00, 314.90it/s]    \n",
      "episode: 009 Total reward:-0.54: 100%|██████████| 200/200 [00:00<00:00, 323.53it/s]    \n"
     ]
    }
   ],
   "source": [
    "test_reward_list = ddpg.test(render=False,episodes=10)"
   ]
  },
  {
   "cell_type": "markdown",
   "metadata": {},
   "source": [
    "## Plotting the test result"
   ]
  },
  {
   "cell_type": "code",
   "execution_count": 9,
   "metadata": {},
   "outputs": [
    {
     "data": {
      "text/plain": [
       "Text(0,0.5,'Total Rewards per Episode')"
      ]
     },
     "execution_count": 9,
     "metadata": {},
     "output_type": "execute_result"
    },
    {
     "data": {
      "image/png": "[encoded data removed]",
      "text/plain": [
       "<matplotlib.figure.Figure at 0x110dc1dd8>"
      ]
     },
     "metadata": {},
     "output_type": "display_data"
    }
   ],
   "source": [
    "import matplotlib.pyplot as plt\n",
    "%matplotlib inline\n",
    "plt.plot(test_reward_list)\n",
    "plt.xlabel(\"Episodes\")\n",
    "plt.ylabel(\"Total Rewards per Episode\")"
   ]
  },
  {
   "cell_type": "code",
   "execution_count": null,
   "metadata": {},
   "outputs": [],
   "source": []
  },
  {
   "cell_type": "code",
   "execution_count": null,
   "metadata": {},
   "outputs": [],
   "source": []
  }
 ],
 "metadata": {
  "kernelspec": {
   "display_name": "Python 3",
   "language": "python",
   "name": "python3"
  },
  "language_info": {
   "codemirror_mode": {
    "name": "ipython",
    "version": 3
   },
   "file_extension": ".py",
   "mimetype": "text/x-python",
   "name": "python",
   "nbconvert_exporter": "python",
   "pygments_lexer": "ipython3",
   "version": "3.6.3"
  }
 },
 "nbformat": 4,
 "nbformat_minor": 2
}
