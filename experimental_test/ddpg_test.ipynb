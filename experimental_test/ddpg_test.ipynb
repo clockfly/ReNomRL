{
 "cells": [
  {
   "cell_type": "markdown",
   "metadata": {},
   "source": [
    "## Import necessary packages tutorial"
   ]
  },
  {
   "cell_type": "code",
   "execution_count": 11,
   "metadata": {},
   "outputs": [],
   "source": [
    "import renom as rm\n",
    "from renom.utility.initializer import GlorotNormal, GlorotUniform\n",
    "import gym"
   ]
  },
  {
   "cell_type": "markdown",
   "metadata": {},
   "source": [
    "## Deifne the environment tutorial"
   ]
  },
  {
   "cell_type": "code",
   "execution_count": 12,
   "metadata": {},
   "outputs": [
    {
     "name": "stderr",
     "output_type": "stream",
     "text": [
      "[2018-03-16 11:53:07,916] Making new env: Pendulum-v0\n"
     ]
    }
   ],
   "source": [
    "env = gym.make('Pendulum-v0')"
   ]
  },
  {
   "cell_type": "markdown",
   "metadata": {},
   "source": [
    "## Define the actor network tutorial"
   ]
  },
  {
   "cell_type": "code",
   "execution_count": 13,
   "metadata": {},
   "outputs": [],
   "source": [
    "class Actor(rm.Model):\n",
    "    \n",
    "    '''Here considered 3-layer network (excluding input layer). Feel free to change the network depth \n",
    "    and check the results. The output-layer number of nuerons are equal to number of actions.\n",
    "    In the example of OpenAI Gym's Pendlum-v0 environment number of actions are 1.'''\n",
    "    \n",
    "    def __init__(self, env, layer_size):\n",
    "        self._layers = []\n",
    "        self.env = env\n",
    "        self._l1 = rm.Dense(layer_size[0], initializer=GlorotUniform())\n",
    "        self._l2 = rm.Dense(layer_size[1], initializer=GlorotUniform())\n",
    "        self._l3 = rm.Dense(self.env.action_space.shape[0], initializer=GlorotUniform())\n",
    "        self._layers = [self._l1, self._l2, self._l3]\n",
    "    \n",
    "    def forward(self, x):\n",
    "        '''Neural Network inputs are state information, outputs are actions. '''\n",
    "        h1 = rm.relu(self._l1(x))\n",
    "        h2 = rm.relu(self._l2(h1))\n",
    "        h3 = rm.tanh(self._l3(h2)) \n",
    "        #h = self._l3(h2)\n",
    "        h = h3*self.env.action_space.high[0]\n",
    "        return h\n",
    "    \n",
    "    def weigiht_decay(self):\n",
    "        '''To minimize over fitting considered L2-norm (it is an optional)'''\n",
    "        weight_decay = 0\n",
    "        for i in range(len(self._layers)):\n",
    "            weight_decay += rm.sum(self._layers[i].params.w**2)\n",
    "        return weight_decay\n"
   ]
  },
  {
   "cell_type": "markdown",
   "metadata": {},
   "source": [
    "# Define the Critic network tutorial"
   ]
  },
  {
   "cell_type": "code",
   "execution_count": 14,
   "metadata": {},
   "outputs": [],
   "source": [
    "class Critic(rm.Model):\n",
    "    '''Here considered a 3-layer network (input layer, hidden layer-1, hidden layer-2, output layer)\n",
    "        At input-layer state information, 2nd-hidden layer actions are applied, last layer has a single neuron'''\n",
    "    def __init__(self, env, layer_size):        \n",
    "        self._layers = []\n",
    "        self.env = env\n",
    "        self._l1 = rm.Dense(layer_size[0], initializer=GlorotUniform())\n",
    "        self._l2 = rm.Dense(layer_size[1], initializer=GlorotUniform())\n",
    "        self._l3 = rm.Dense(1, initializer=GlorotUniform())\n",
    "        self._layers = [self._l1, self._l2, self._l3]\n",
    "  \n",
    "    def forward(self, x, action):\n",
    "        '''Q(s,a) calculation for a given (state, action) pair'''\n",
    "        h1 = rm.relu(self._l1(x))\n",
    "        h2 = rm.relu(self._l2(rm.concat(h1,action))) # actions are applied at 2nd hidden layer\n",
    "        h = self._l3(h2)        \n",
    "        return h\n",
    "    \n",
    "    def weigiht_decay(self):\n",
    "        '''To minimize over fitting considered L2-norm (it is an optional)'''\n",
    "        weight_decay = 0\n",
    "        for i in range(len(self._layers)):\n",
    "            weight_decay += rm.sum(self._layers[i].params.w**2)\n",
    "        return weight_decay"
   ]
  },
  {
   "cell_type": "markdown",
   "metadata": {},
   "source": [
    "## Instantiating the actor & ciritic networks "
   ]
  },
  {
   "cell_type": "code",
   "execution_count": 15,
   "metadata": {},
   "outputs": [],
   "source": [
    "from renom.algorithm.reinforcement.ddpg_2 import DDPG\n",
    "layer_size = [400, 300] # two-hidden layers dimension\n",
    "actor_network = Actor(env=env,layer_size=layer_size)\n",
    "critic_network = Critic(env=env, layer_size=layer_size)\n",
    "target_actor_network = Actor(env=env,layer_size=layer_size)\n",
    "target_critic_network = Critic(env=env, layer_size=layer_size)"
   ]
  },
  {
   "cell_type": "markdown",
   "metadata": {},
   "source": [
    "## Instantiating the DDPG class"
   ]
  },
  {
   "cell_type": "code",
   "execution_count": 16,
   "metadata": {},
   "outputs": [],
   "source": [
    "#ddpg = DDPG(env=env, actor_network=actor_network, critic_network=critic_network, \\\n",
    "#            target_actor_network=target_actor_network, target_critic_network=target_critic_network)\n",
    "ddpg = DDPG(env=env) #, actor_network=None, critic_network=None)"
   ]
  },
  {
   "cell_type": "code",
   "execution_count": 17,
   "metadata": {},
   "outputs": [
    {
     "name": "stdout",
     "output_type": "stream",
     "text": [
      "episode 0 episode total reward  -1082.6092222972825\n",
      "episode 1 episode total reward  -1346.3250858949257\n",
      "episode 2 episode total reward  -1526.2378997887133\n",
      "episode 3 episode total reward  -1548.7718429503866\n",
      "episode 4 episode total reward  -1569.5285008685325\n",
      "episode 5 episode total reward  -1495.5551587975228\n",
      "episode 6 episode total reward  -1071.9464317798981\n",
      "episode 7 episode total reward  -1643.9532832220257\n",
      "episode 8 episode total reward  -1612.2541933932162\n",
      "episode 9 episode total reward  -1862.225848763491\n",
      "episode 10 episode total reward  -1098.9832684705505\n",
      "episode 11 episode total reward  -1462.9827521641284\n",
      "episode 12 episode total reward  -1505.2405326053079\n",
      "episode 13 episode total reward  -1339.1737991381058\n",
      "episode 14 episode total reward  -1611.7480587213129\n",
      "episode 15 episode total reward  -1544.8186381029907\n",
      "episode 16 episode total reward  -1210.1909880163798\n",
      "episode 17 episode total reward  -1537.1884596197992\n",
      "episode 18 episode total reward  -1647.592957912511\n",
      "episode 19 episode total reward  -1582.2900793592153\n",
      "episode 20 episode total reward  -1574.6453693558078\n",
      "episode 21 episode total reward  -1449.2667048665392\n",
      "episode 22 episode total reward  -1518.0325974548737\n",
      "episode 23 episode total reward  -1521.765769801294\n",
      "episode 24 episode total reward  -1505.1589958045947\n",
      "episode 25 episode total reward  -1188.1484123448172\n",
      "episode 26 episode total reward  -1459.8821640490587\n",
      "episode 27 episode total reward  -1503.6174841958155\n",
      "episode 28 episode total reward  -1374.128648128338\n",
      "episode 29 episode total reward  -1505.9411137273337\n",
      "episode 30 episode total reward  -1445.4907312207133\n",
      "episode 31 episode total reward  -1308.9313804514013\n",
      "episode 32 episode total reward  -1444.944048361046\n",
      "episode 33 episode total reward  -1347.6946408381546\n",
      "episode 34 episode total reward  -1477.5849553548667\n",
      "episode 35 episode total reward  -1503.5249418632304\n",
      "episode 36 episode total reward  -1484.1873672335298\n",
      "episode 37 episode total reward  -1506.8317452206786\n",
      "episode 38 episode total reward  -1509.0287726168397\n",
      "episode 39 episode total reward  -1312.1569311487294\n",
      "episode 40 episode total reward  -1398.8269670434006\n",
      "episode 41 episode total reward  -1389.138855017108\n",
      "episode 42 episode total reward  -1428.7956923326244\n",
      "episode 43 episode total reward  -1020.3064592948854\n",
      "episode 44 episode total reward  -1033.535765882516\n",
      "episode 45 episode total reward  -1510.819762831938\n",
      "episode 46 episode total reward  -1343.2704861203647\n",
      "episode 47 episode total reward  -1354.8267931969522\n",
      "episode 48 episode total reward  -1044.8061135181133\n",
      "episode 49 episode total reward  -1093.4874835729363\n",
      "episode 50 episode total reward  -982.0648838272382\n",
      "episode 51 episode total reward  -1084.315754824743\n",
      "episode 52 episode total reward  -943.3758686055598\n",
      "episode 53 episode total reward  -962.8728403575748\n",
      "episode 54 episode total reward  -1121.5609673310246\n",
      "episode 55 episode total reward  -1128.8057651683416\n",
      "episode 56 episode total reward  -920.5924741555062\n",
      "episode 57 episode total reward  -971.5057626744267\n",
      "episode 58 episode total reward  -876.4968860814472\n",
      "episode 59 episode total reward  -893.3642925016525\n",
      "episode 60 episode total reward  -638.8243883874776\n",
      "episode 61 episode total reward  -893.9056195245329\n",
      "episode 62 episode total reward  -879.9803838610966\n",
      "episode 63 episode total reward  -776.467720773041\n",
      "episode 64 episode total reward  -885.9063417562041\n",
      "episode 65 episode total reward  -965.2955249109021\n",
      "episode 66 episode total reward  -885.4433892294736\n",
      "episode 67 episode total reward  -901.4573020836388\n",
      "episode 68 episode total reward  -881.3129743185877\n",
      "episode 69 episode total reward  -886.433928148428\n",
      "episode 70 episode total reward  -872.8739803587288\n",
      "episode 71 episode total reward  -874.3857324860226\n",
      "episode 72 episode total reward  -503.1902684766427\n",
      "episode 73 episode total reward  -843.6736033279475\n",
      "episode 74 episode total reward  -247.73536307401963\n",
      "episode 75 episode total reward  -732.1896254812868\n",
      "episode 76 episode total reward  -903.3350395005901\n",
      "episode 77 episode total reward  -744.4581079527491\n",
      "episode 78 episode total reward  -373.0582325111025\n",
      "episode 79 episode total reward  -774.9322794492753\n",
      "episode 80 episode total reward  -870.4713431134469\n",
      "episode 81 episode total reward  -875.9201553712796\n",
      "episode 82 episode total reward  -964.2894299079758\n",
      "episode 83 episode total reward  -916.0392334209691\n",
      "episode 84 episode total reward  -967.654590942321\n",
      "episode 85 episode total reward  -913.2268242174017\n",
      "episode 86 episode total reward  -848.2698140425615\n",
      "episode 87 episode total reward  -922.0840930018838\n",
      "episode 88 episode total reward  -858.853081349724\n",
      "episode 89 episode total reward  -867.7948853455625\n",
      "episode 90 episode total reward  -718.2671073918718\n",
      "episode 91 episode total reward  -752.0994512305789\n",
      "episode 92 episode total reward  -2.799711673216703\n",
      "episode 93 episode total reward  -780.1196241635832\n",
      "episode 94 episode total reward  -847.0602880228972\n",
      "episode 95 episode total reward  -808.652724916036\n",
      "episode 96 episode total reward  -3.6540802296667967\n",
      "episode 97 episode total reward  -400.69990693202266\n",
      "episode 98 episode total reward  -420.7405230797203\n",
      "episode 99 episode total reward  -864.6503006410657\n",
      "episode 100 episode total reward  -751.2881941214418\n",
      "episode 101 episode total reward  -749.511996001588\n",
      "episode 102 episode total reward  -747.2605864628616\n",
      "episode 103 episode total reward  -688.9665764167056\n",
      "episode 104 episode total reward  -119.37497551923545\n",
      "episode 105 episode total reward  -370.5833868734262\n",
      "episode 106 episode total reward  -127.47540765084048\n",
      "episode 107 episode total reward  -507.2957785139132\n",
      "episode 108 episode total reward  -626.3345264590099\n",
      "episode 109 episode total reward  -492.3190885903849\n",
      "episode 110 episode total reward  -263.64849500879984\n",
      "episode 111 episode total reward  -125.01490141862071\n",
      "episode 112 episode total reward  -246.58996925372588\n",
      "episode 113 episode total reward  -504.4287097829357\n",
      "episode 114 episode total reward  -241.1688959775463\n",
      "episode 115 episode total reward  -123.58887256585014\n",
      "episode 116 episode total reward  -240.06608841230675\n",
      "episode 117 episode total reward  -4.686424329744079\n",
      "episode 118 episode total reward  -115.9812554334494\n",
      "episode 119 episode total reward  -245.779074308422\n",
      "episode 120 episode total reward  -128.04981453384508\n",
      "episode 121 episode total reward  -486.17368118083016\n",
      "episode 122 episode total reward  -239.1392033473842\n",
      "episode 123 episode total reward  -0.35004546293488203\n",
      "episode 124 episode total reward  -4.847987155878959\n",
      "episode 125 episode total reward  -241.1390586900441\n",
      "episode 126 episode total reward  -254.9566090020135\n",
      "episode 127 episode total reward  -127.84287939446138\n",
      "episode 128 episode total reward  -374.0621109423065\n",
      "episode 129 episode total reward  -237.7138708693082\n",
      "episode 130 episode total reward  -128.8376836245415\n",
      "episode 131 episode total reward  -1.1234725204123566\n",
      "episode 132 episode total reward  -116.3735382935465\n",
      "episode 133 episode total reward  -117.69489781875828\n",
      "episode 134 episode total reward  -3.2102774645209933\n",
      "episode 135 episode total reward  -353.83576101824207\n",
      "episode 136 episode total reward  -128.29328042350804\n",
      "episode 137 episode total reward  -121.3148849231641\n",
      "episode 138 episode total reward  -236.73526761711204\n",
      "episode 139 episode total reward  -124.08803138691856\n",
      "episode 140 episode total reward  -2.572400992008274\n",
      "episode 141 episode total reward  -126.8826270396528\n",
      "episode 142 episode total reward  -253.41398497810087\n",
      "episode 143 episode total reward  -248.29079009296368\n",
      "episode 144 episode total reward  -124.38966819685426\n",
      "episode 145 episode total reward  -234.394054289528\n",
      "episode 146 episode total reward  -123.64999707347053\n",
      "episode 147 episode total reward  -119.2767670852551\n",
      "episode 148 episode total reward  -123.80277337567618\n",
      "episode 149 episode total reward  -128.56840861319236\n",
      "episode 150 episode total reward  -239.5869239638734\n",
      "episode 151 episode total reward  -120.26820979000487\n",
      "episode 152 episode total reward  -130.05119237139343\n",
      "episode 153 episode total reward  -240.8768527209439\n",
      "episode 154 episode total reward  -131.9269605072194\n",
      "episode 155 episode total reward  -125.25641989775659\n"
     ]
    },
    {
     "name": "stdout",
     "output_type": "stream",
     "text": [
      "episode 156 episode total reward  -242.4386761737787\n",
      "episode 157 episode total reward  -119.66425067662658\n",
      "episode 158 episode total reward  -128.6567550447815\n",
      "episode 159 episode total reward  -126.57937041983068\n",
      "episode 160 episode total reward  -127.97328305423234\n",
      "episode 161 episode total reward  -244.22002877273823\n",
      "episode 162 episode total reward  -130.05251315489983\n",
      "episode 163 episode total reward  -126.51367112796723\n",
      "episode 164 episode total reward  -313.3333293536653\n",
      "episode 165 episode total reward  -121.36808179707151\n",
      "episode 166 episode total reward  -280.0589378593093\n",
      "episode 167 episode total reward  -127.4070102440135\n",
      "episode 168 episode total reward  -125.57319039836764\n",
      "episode 169 episode total reward  -125.17319126665772\n",
      "episode 170 episode total reward  -240.3846772351705\n",
      "episode 171 episode total reward  -125.79055940157488\n",
      "episode 172 episode total reward  -128.46010869949757\n",
      "episode 173 episode total reward  -122.06489532411142\n",
      "episode 174 episode total reward  -113.70187682319887\n",
      "episode 175 episode total reward  -126.49563469386734\n",
      "episode 176 episode total reward  -124.80452373804859\n",
      "episode 177 episode total reward  -128.35242304335605\n",
      "episode 178 episode total reward  -127.49242167812545\n",
      "episode 179 episode total reward  -123.56342007859024\n",
      "episode 180 episode total reward  -127.47981487932914\n",
      "episode 181 episode total reward  -122.4683623118632\n",
      "episode 182 episode total reward  -125.68267247931733\n",
      "episode 183 episode total reward  -123.02931223655261\n",
      "episode 184 episode total reward  -124.76956865413199\n",
      "episode 185 episode total reward  -129.00703829911126\n",
      "episode 186 episode total reward  -370.2480426815966\n",
      "episode 187 episode total reward  -118.36736777489898\n",
      "episode 188 episode total reward  -292.442910498625\n",
      "episode 189 episode total reward  -113.96729839128199\n",
      "episode 190 episode total reward  -253.71055678461008\n",
      "episode 191 episode total reward  -363.52202720977937\n",
      "episode 192 episode total reward  -122.89965668491773\n",
      "episode 193 episode total reward  -119.07480540222123\n",
      "episode 194 episode total reward  -235.04451988022316\n",
      "episode 195 episode total reward  -254.70853335057976\n",
      "episode 196 episode total reward  -1.4909229200560166\n",
      "episode 197 episode total reward  -116.2365493008803\n",
      "episode 198 episode total reward  -125.73632106987448\n",
      "episode 199 episode total reward  -239.24746015506784\n"
     ]
    }
   ],
   "source": [
    "[reward_list, loss_list]=ddpg.train(num_episodes=200)"
   ]
  },
  {
   "cell_type": "code",
   "execution_count": 18,
   "metadata": {},
   "outputs": [],
   "source": [
    "test_reward_list = ddpg.test(render=False,episodes=20)"
   ]
  },
  {
   "cell_type": "code",
   "execution_count": 19,
   "metadata": {},
   "outputs": [],
   "source": [
    "import matplotlib.pyplot as plt"
   ]
  },
  {
   "cell_type": "code",
   "execution_count": 20,
   "metadata": {},
   "outputs": [
    {
     "data": {
      "text/plain": [
       "[<matplotlib.lines.Line2D at 0x1174c7d30>]"
      ]
     },
     "execution_count": 20,
     "metadata": {},
     "output_type": "execute_result"
    },
    {
     "data": {
      "image/png": "[encoded data removed]",
      "text/plain": [
       "<matplotlib.figure.Figure at 0x118491588>"
      ]
     },
     "metadata": {},
     "output_type": "display_data"
    }
   ],
   "source": [
    "plt.plot(test_reward_list)"
   ]
  },
  {
   "cell_type": "code",
   "execution_count": null,
   "metadata": {},
   "outputs": [],
   "source": []
  }
 ],
 "metadata": {
  "kernelspec": {
   "display_name": "Python 3",
   "language": "python",
   "name": "python3"
  },
  "language_info": {
   "codemirror_mode": {
    "name": "ipython",
    "version": 3
   },
   "file_extension": ".py",
   "mimetype": "text/x-python",
   "name": "python",
   "nbconvert_exporter": "python",
   "pygments_lexer": "ipython3",
   "version": "3.6.3"
  }
 },
 "nbformat": 4,
 "nbformat_minor": 2
}
