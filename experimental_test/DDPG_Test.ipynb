{
 "cells": [
  {
   "cell_type": "markdown",
   "metadata": {},
   "source": [
    "## Import necessary packages tutorial"
   ]
  },
  {
   "cell_type": "code",
   "execution_count": 1,
   "metadata": {},
   "outputs": [
    {
     "name": "stderr",
     "output_type": "stream",
     "text": [
      "/Users/thakur/ReNom/renom/cuda/__init__.py:12: UserWarning: Couldn't find cuda modules. No module named 'renom.cuda.cuda_base'\n",
      "  warnings.warn(\"Couldn't find cuda modules. %s\" % e)\n",
      "/Users/thakur/ReNom/renom/cuda/__init__.py:29: UserWarning: Couldn't find cuda modules.\n",
      "  warnings.warn(\"Couldn't find cuda modules.\")\n"
     ]
    }
   ],
   "source": [
    "import renom as rm\n",
    "from renom.utility.initializer import GlorotNormal, GlorotUniform\n",
    "import gym"
   ]
  },
  {
   "cell_type": "markdown",
   "metadata": {},
   "source": [
    "## Deifne the environment tutorial"
   ]
  },
  {
   "cell_type": "code",
   "execution_count": 2,
   "metadata": {},
   "outputs": [
    {
     "name": "stderr",
     "output_type": "stream",
     "text": [
      "[2018-03-16 16:29:57,312] Making new env: Pendulum-v0\n"
     ]
    }
   ],
   "source": [
    "env = gym.make('Pendulum-v0')"
   ]
  },
  {
   "cell_type": "markdown",
   "metadata": {},
   "source": [
    "## Define the actor network tutorial"
   ]
  },
  {
   "cell_type": "code",
   "execution_count": 3,
   "metadata": {},
   "outputs": [],
   "source": [
    "class Actor(rm.Model):\n",
    "    \n",
    "    '''Here considered 3-layer network (excluding input layer). Feel free to change the network depth \n",
    "    and check the results. The output-layer number of nuerons are equal to number of actions.\n",
    "    In the example of OpenAI Gym's Pendlum-v0 environment number of actions are 1.'''\n",
    "    \n",
    "    def __init__(self, env, layer_size):\n",
    "        self._layers = []\n",
    "        self.env = env\n",
    "        self._l1 = rm.Dense(layer_size[0], initializer=GlorotUniform())\n",
    "        self._l2 = rm.Dense(layer_size[1], initializer=GlorotUniform())\n",
    "        self._l3 = rm.Dense(self.env.action_space.shape[0], initializer=GlorotUniform())\n",
    "        self._layers = [self._l1, self._l2, self._l3]\n",
    "    \n",
    "    def forward(self, x):\n",
    "        '''Neural Network inputs are state information, outputs are actions. '''\n",
    "        h1 = rm.relu(self._l1(x))\n",
    "        h2 = rm.relu(self._l2(h1))\n",
    "        h3 = rm.tanh(self._l3(h2)) \n",
    "        #h = self._l3(h2)\n",
    "        h = h3*self.env.action_space.high[0]\n",
    "        return h\n",
    "    \n",
    "    def weigiht_decay(self):\n",
    "        '''To minimize over fitting considered L2-norm (it is an optional)'''\n",
    "        weight_decay = 0\n",
    "        for i in range(len(self._layers)):\n",
    "            weight_decay += rm.sum(self._layers[i].params.w**2)\n",
    "        return weight_decay\n"
   ]
  },
  {
   "cell_type": "markdown",
   "metadata": {},
   "source": [
    "# Define the Critic network tutorial"
   ]
  },
  {
   "cell_type": "code",
   "execution_count": 4,
   "metadata": {},
   "outputs": [],
   "source": [
    "class Critic(rm.Model):\n",
    "    '''Here considered a 3-layer network (input layer, hidden layer-1, hidden layer-2, output layer)\n",
    "        At input-layer state information, 2nd-hidden layer actions are applied, last layer has a single neuron'''\n",
    "    def __init__(self, env, layer_size):        \n",
    "        self._layers = []\n",
    "        self.env = env\n",
    "        self._l1 = rm.Dense(layer_size[0], initializer=GlorotUniform())\n",
    "        self._l2 = rm.Dense(layer_size[1], initializer=GlorotUniform())\n",
    "        self._l3 = rm.Dense(1, initializer=GlorotUniform())\n",
    "        self._layers = [self._l1, self._l2, self._l3]\n",
    "  \n",
    "    def forward(self, x, action):\n",
    "        '''Q(s,a) calculation for a given (state, action) pair'''\n",
    "        h1 = rm.relu(self._l1(x))\n",
    "        h2 = rm.relu(self._l2(rm.concat(h1,action))) # actions are applied at 2nd hidden layer\n",
    "        h = self._l3(h2)        \n",
    "        return h\n",
    "    \n",
    "    def weigiht_decay(self):\n",
    "        '''To minimize over fitting considered L2-norm (it is an optional)'''\n",
    "        weight_decay = 0\n",
    "        for i in range(len(self._layers)):\n",
    "            weight_decay += rm.sum(self._layers[i].params.w**2)\n",
    "        return weight_decay"
   ]
  },
  {
   "cell_type": "markdown",
   "metadata": {},
   "source": [
    "## Instantiating the actor & ciritic networks "
   ]
  },
  {
   "cell_type": "code",
   "execution_count": 5,
   "metadata": {},
   "outputs": [],
   "source": [
    "from renom.algorithm.reinforcement.ddpg import DDPG\n",
    "layer_size = [400, 300] # two-hidden layers dimension\n",
    "actor_network = Actor(env=env,layer_size=layer_size)\n",
    "critic_network = Critic(env=env, layer_size=layer_size)\n",
    "target_actor_network = Actor(env=env,layer_size=layer_size)\n",
    "target_critic_network = Critic(env=env, layer_size=layer_size)"
   ]
  },
  {
   "cell_type": "markdown",
   "metadata": {},
   "source": [
    "## Instantiating the DDPG class"
   ]
  },
  {
   "cell_type": "code",
   "execution_count": 6,
   "metadata": {},
   "outputs": [],
   "source": [
    "ddpg = DDPG(env=env, actor_network=actor_network, critic_network=critic_network, \\\n",
    "            target_actor_network=target_actor_network, target_critic_network=target_critic_network)\n",
    "# ddpg = DDPG(env=env) # for default"
   ]
  },
  {
   "cell_type": "markdown",
   "metadata": {},
   "source": [
    "## Training "
   ]
  },
  {
   "cell_type": "code",
   "execution_count": 7,
   "metadata": {},
   "outputs": [
    {
     "name": "stderr",
     "output_type": "stream",
     "text": [
      "episode: 000 Total reward:-1359.13 avg loss:3.8003: 100%|██████████| 200/200 [00:04<00:00, 49.57it/s]\n",
      "episode: 001 Total reward:-1580.88 avg loss:1.7885: 100%|██████████| 200/200 [00:05<00:00, 35.01it/s]\n",
      "episode: 002 Total reward:-1578.66 avg loss:0.3046: 100%|██████████| 200/200 [00:06<00:00, 31.99it/s]\n",
      "episode: 003 Total reward:-1526.60 avg loss:0.2234: 100%|██████████| 200/200 [00:06<00:00, 36.84it/s]\n",
      "episode: 004 Total reward:-948.17 avg loss:0.2057: 100%|██████████| 200/200 [00:05<00:00, 36.50it/s]\n",
      "episode: 005 Total reward:-1197.93 avg loss:0.2350: 100%|██████████| 200/200 [00:05<00:00, 37.87it/s]\n",
      "episode: 006 Total reward:-1643.96 avg loss:0.2566: 100%|██████████| 200/200 [00:05<00:00, 38.02it/s]\n",
      "episode: 007 Total reward:-1186.96 avg loss:0.2582: 100%|██████████| 200/200 [00:05<00:00, 37.59it/s]\n",
      "episode: 008 Total reward:-1474.64 avg loss:0.2815: 100%|██████████| 200/200 [00:05<00:00, 37.94it/s]\n",
      "episode: 009 Total reward:-1380.05 avg loss:0.3394: 100%|██████████| 200/200 [00:05<00:00, 37.78it/s]\n",
      "episode: 010 Total reward:-1527.35 avg loss:0.3955: 100%|██████████| 200/200 [00:05<00:00, 36.59it/s]\n",
      "episode: 011 Total reward:-1572.98 avg loss:0.4172: 100%|██████████| 200/200 [00:05<00:00, 35.09it/s]\n",
      "episode: 012 Total reward:-1498.81 avg loss:0.4419: 100%|██████████| 200/200 [00:05<00:00, 34.71it/s]\n",
      "episode: 013 Total reward:-1574.20 avg loss:0.4939: 100%|██████████| 200/200 [00:05<00:00, 35.30it/s]\n",
      "episode: 014 Total reward:-1520.90 avg loss:0.6027: 100%|██████████| 200/200 [00:05<00:00, 35.22it/s]\n",
      "episode: 015 Total reward:-1551.05 avg loss:0.7399: 100%|██████████| 200/200 [00:05<00:00, 35.50it/s]\n",
      "episode: 016 Total reward:-1493.36 avg loss:0.8505: 100%|██████████| 200/200 [00:05<00:00, 35.14it/s]\n",
      "episode: 017 Total reward:-1578.82 avg loss:0.8480: 100%|██████████| 200/200 [00:05<00:00, 34.68it/s]\n",
      "episode: 018 Total reward:-1539.84 avg loss:1.0792: 100%|██████████| 200/200 [00:05<00:00, 34.20it/s]\n",
      "episode: 019 Total reward:-1488.48 avg loss:1.0847: 100%|██████████| 200/200 [00:05<00:00, 34.24it/s]\n",
      "episode: 020 Total reward:-1496.82 avg loss:1.2583: 100%|██████████| 200/200 [00:05<00:00, 35.36it/s]\n",
      "episode: 021 Total reward:-1384.57 avg loss:1.6247: 100%|██████████| 200/200 [00:05<00:00, 34.90it/s]\n",
      "episode: 022 Total reward:-1481.50 avg loss:1.7881: 100%|██████████| 200/200 [00:05<00:00, 34.75it/s]\n",
      "episode: 023 Total reward:-1433.43 avg loss:2.5103: 100%|██████████| 200/200 [00:05<00:00, 33.93it/s]\n",
      "episode: 024 Total reward:-1498.50 avg loss:2.3497: 100%|██████████| 200/200 [00:05<00:00, 34.45it/s]\n",
      "episode: 025 Total reward:-1486.64 avg loss:1.9709: 100%|██████████| 200/200 [00:05<00:00, 33.70it/s]\n",
      "episode: 026 Total reward:-1478.44 avg loss:2.2492: 100%|██████████| 200/200 [00:05<00:00, 34.25it/s]\n",
      "episode: 027 Total reward:-1591.38 avg loss:2.2597: 100%|██████████| 200/200 [00:05<00:00, 33.87it/s]\n",
      "episode: 028 Total reward:-1532.05 avg loss:2.4331: 100%|██████████| 200/200 [00:05<00:00, 33.11it/s]\n",
      "episode: 029 Total reward:-1457.68 avg loss:2.8362: 100%|██████████| 200/200 [00:06<00:00, 32.90it/s]\n",
      "episode: 030 Total reward:-1477.51 avg loss:3.7258: 100%|██████████| 200/200 [00:05<00:00, 33.45it/s]\n",
      "episode: 031 Total reward:-1571.18 avg loss:3.3302: 100%|██████████| 200/200 [00:05<00:00, 34.02it/s]\n",
      "episode: 032 Total reward:-1555.03 avg loss:3.2425: 100%|██████████| 200/200 [00:05<00:00, 33.01it/s]\n",
      "episode: 033 Total reward:-1474.68 avg loss:3.4294: 100%|██████████| 200/200 [00:05<00:00, 35.35it/s]\n",
      "episode: 034 Total reward:-1495.71 avg loss:4.5533: 100%|██████████| 200/200 [00:05<00:00, 35.49it/s]\n",
      "episode: 035 Total reward:-1478.25 avg loss:4.6250: 100%|██████████| 200/200 [00:05<00:00, 35.19it/s]\n",
      "episode: 036 Total reward:-1530.84 avg loss:4.1415: 100%|██████████| 200/200 [00:05<00:00, 35.54it/s]\n",
      "episode: 037 Total reward:-1391.68 avg loss:5.1643: 100%|██████████| 200/200 [00:05<00:00, 35.17it/s]\n",
      "episode: 038 Total reward:-1408.69 avg loss:5.4379: 100%|██████████| 200/200 [00:06<00:00, 33.09it/s]\n",
      "episode: 039 Total reward:-1225.05 avg loss:5.5195: 100%|██████████| 200/200 [00:06<00:00, 29.64it/s]\n",
      "episode: 040 Total reward:-1591.21 avg loss:6.8910: 100%|██████████| 200/200 [00:05<00:00, 34.63it/s]\n",
      "episode: 041 Total reward:-1304.16 avg loss:6.0398: 100%|██████████| 200/200 [00:06<00:00, 27.80it/s]\n",
      "episode: 042 Total reward:-1273.68 avg loss:6.7466: 100%|██████████| 200/200 [00:06<00:00, 28.69it/s]\n",
      "episode: 043 Total reward:-1314.79 avg loss:7.6564: 100%|██████████| 200/200 [00:06<00:00, 29.79it/s]\n",
      "episode: 044 Total reward:-1327.77 avg loss:7.4173: 100%|██████████| 200/200 [00:07<00:00, 28.21it/s]\n",
      "episode: 045 Total reward:-1548.87 avg loss:8.6398: 100%|██████████| 200/200 [00:06<00:00, 29.16it/s]\n",
      "episode: 046 Total reward:-1223.54 avg loss:8.5372: 100%|██████████| 200/200 [00:06<00:00, 33.45it/s]\n",
      "episode: 047 Total reward:-1300.36 avg loss:9.6792: 100%|██████████| 200/200 [00:05<00:00, 33.90it/s]\n",
      "episode: 048 Total reward:-1189.75 avg loss:10.0365: 100%|██████████| 200/200 [00:06<00:00, 30.20it/s]\n",
      "episode: 049 Total reward:-1425.12 avg loss:10.6347: 100%|██████████| 200/200 [00:06<00:00, 31.59it/s]\n",
      "episode: 050 Total reward:-1199.59 avg loss:9.9032: 100%|██████████| 200/200 [00:05<00:00, 30.84it/s]\n",
      "episode: 051 Total reward:-1443.05 avg loss:9.9621: 100%|██████████| 200/200 [00:06<00:00, 32.02it/s]\n",
      "episode: 052 Total reward:-1219.17 avg loss:9.0934: 100%|██████████| 200/200 [00:05<00:00, 33.75it/s]\n",
      "episode: 053 Total reward:-1493.15 avg loss:9.6875: 100%|██████████| 200/200 [00:05<00:00, 35.05it/s]\n",
      "episode: 054 Total reward:-1247.59 avg loss:13.6152: 100%|██████████| 200/200 [00:05<00:00, 34.93it/s]\n",
      "episode: 055 Total reward:-1430.15 avg loss:11.5106: 100%|██████████| 200/200 [00:05<00:00, 33.76it/s]\n",
      "episode: 056 Total reward:-1230.47 avg loss:10.5059: 100%|██████████| 200/200 [00:05<00:00, 33.08it/s]\n",
      "episode: 057 Total reward:-1408.31 avg loss:14.5561: 100%|██████████| 200/200 [00:06<00:00, 31.32it/s]\n",
      "episode: 058 Total reward:-1184.24 avg loss:11.1751: 100%|██████████| 200/200 [00:05<00:00, 34.67it/s]\n",
      "episode: 059 Total reward:-1215.61 avg loss:13.2773: 100%|██████████| 200/200 [00:05<00:00, 33.80it/s]\n",
      "episode: 060 Total reward:-1211.51 avg loss:14.2231: 100%|██████████| 200/200 [00:07<00:00, 32.95it/s]\n",
      "episode: 061 Total reward:-1169.91 avg loss:17.5775: 100%|██████████| 200/200 [00:05<00:00, 33.82it/s]\n",
      "episode: 062 Total reward:-1179.14 avg loss:16.1038: 100%|██████████| 200/200 [00:06<00:00, 32.31it/s]\n",
      "episode: 063 Total reward:-1236.76 avg loss:17.1239: 100%|██████████| 200/200 [00:05<00:00, 35.34it/s]\n",
      "episode: 064 Total reward:-1163.43 avg loss:17.5013: 100%|██████████| 200/200 [00:05<00:00, 34.89it/s]\n",
      "episode: 065 Total reward:-1155.08 avg loss:13.1163: 100%|██████████| 200/200 [00:05<00:00, 35.33it/s]\n",
      "episode: 066 Total reward:-1170.76 avg loss:18.4105: 100%|██████████| 200/200 [00:05<00:00, 35.16it/s]\n",
      "episode: 067 Total reward:-1085.11 avg loss:14.8001: 100%|██████████| 200/200 [00:05<00:00, 34.80it/s]\n",
      "episode: 068 Total reward:-1177.41 avg loss:17.0802: 100%|██████████| 200/200 [00:05<00:00, 34.48it/s]\n",
      "episode: 069 Total reward:-1165.30 avg loss:18.4377: 100%|██████████| 200/200 [00:06<00:00, 34.93it/s]\n",
      "episode: 070 Total reward:-1497.82 avg loss:19.5843: 100%|██████████| 200/200 [00:06<00:00, 32.04it/s]\n",
      "episode: 071 Total reward:-1214.32 avg loss:18.5257: 100%|██████████| 200/200 [00:06<00:00, 31.64it/s]\n",
      "episode: 072 Total reward:-1170.41 avg loss:21.8631: 100%|██████████| 200/200 [00:05<00:00, 34.19it/s]\n",
      "episode: 073 Total reward:-1159.91 avg loss:23.1591: 100%|██████████| 200/200 [00:06<00:00, 30.80it/s]\n",
      "episode: 074 Total reward:-1115.60 avg loss:21.0239: 100%|██████████| 200/200 [00:07<00:00, 28.41it/s]\n",
      "episode: 075 Total reward:-1506.81 avg loss:24.1823: 100%|██████████| 200/200 [00:06<00:00, 29.59it/s]\n",
      "episode: 076 Total reward:-1401.08 avg loss:20.3737: 100%|██████████| 200/200 [00:06<00:00, 30.85it/s]\n",
      "episode: 077 Total reward:-1090.06 avg loss:21.9918: 100%|██████████| 200/200 [00:06<00:00, 31.62it/s]\n",
      "episode: 078 Total reward:-1221.68 avg loss:18.7855: 100%|██████████| 200/200 [00:06<00:00, 31.97it/s]\n",
      "episode: 079 Total reward:-1179.32 avg loss:30.1473: 100%|██████████| 200/200 [00:06<00:00, 31.03it/s]\n"
     ]
    },
    {
     "name": "stderr",
     "output_type": "stream",
     "text": [
      "episode: 080 Total reward:-1071.75 avg loss:17.7713: 100%|██████████| 200/200 [00:05<00:00, 37.66it/s]\n",
      "episode: 081 Total reward:-1179.09 avg loss:24.4332: 100%|██████████| 200/200 [00:05<00:00, 36.07it/s]\n",
      "episode: 082 Total reward:-1282.31 avg loss:21.1378: 100%|██████████| 200/200 [00:05<00:00, 36.79it/s]\n",
      "episode: 083 Total reward:-1167.17 avg loss:29.2028: 100%|██████████| 200/200 [00:05<00:00, 37.43it/s]\n",
      "episode: 084 Total reward:-1156.55 avg loss:24.4671: 100%|██████████| 200/200 [00:05<00:00, 35.65it/s]\n",
      "episode: 085 Total reward:-1373.91 avg loss:24.2323: 100%|██████████| 200/200 [00:05<00:00, 33.80it/s]\n",
      "episode: 086 Total reward:-1165.22 avg loss:24.7239: 100%|██████████| 200/200 [00:05<00:00, 37.84it/s]\n",
      "episode: 087 Total reward:-1153.21 avg loss:21.6188: 100%|██████████| 200/200 [00:05<00:00, 36.60it/s]\n",
      "episode: 088 Total reward:-1140.49 avg loss:26.1896: 100%|██████████| 200/200 [00:05<00:00, 36.23it/s]\n",
      "episode: 089 Total reward:-1081.54 avg loss:26.8201: 100%|██████████| 200/200 [00:05<00:00, 37.59it/s]\n",
      "episode: 090 Total reward:-1182.00 avg loss:28.9959: 100%|██████████| 200/200 [00:05<00:00, 37.31it/s]\n",
      "episode: 091 Total reward:-1492.19 avg loss:25.6616: 100%|██████████| 200/200 [00:05<00:00, 33.67it/s]\n",
      "episode: 092 Total reward:-1168.78 avg loss:23.8849: 100%|██████████| 200/200 [00:07<00:00, 22.48it/s]\n",
      "episode: 093 Total reward:-1079.93 avg loss:34.4981: 100%|██████████| 200/200 [00:07<00:00, 30.24it/s]\n",
      "episode: 094 Total reward:-1455.45 avg loss:28.1627: 100%|██████████| 200/200 [00:07<00:00, 28.56it/s]\n",
      "episode: 095 Total reward:-1180.09 avg loss:31.3053: 100%|██████████| 200/200 [00:05<00:00, 33.53it/s]\n",
      "episode: 096 Total reward:-1492.22 avg loss:29.3858: 100%|██████████| 200/200 [00:05<00:00, 33.68it/s]\n",
      "episode: 097 Total reward:-1155.52 avg loss:30.5907: 100%|██████████| 200/200 [00:05<00:00, 33.66it/s]\n",
      "episode: 098 Total reward:-1171.62 avg loss:34.1539: 100%|██████████| 200/200 [00:05<00:00, 34.01it/s]\n",
      "episode: 099 Total reward:-1100.23 avg loss:28.5983: 100%|██████████| 200/200 [00:05<00:00, 33.25it/s]\n",
      "episode: 100 Total reward:-1085.13 avg loss:35.1498: 100%|██████████| 200/200 [00:05<00:00, 33.57it/s]\n",
      "episode: 101 Total reward:-1067.57 avg loss:39.5249: 100%|██████████| 200/200 [00:06<00:00, 33.12it/s]\n",
      "episode: 102 Total reward:-1137.75 avg loss:37.7412: 100%|██████████| 200/200 [00:05<00:00, 33.43it/s]\n",
      "episode: 103 Total reward:-1066.77 avg loss:34.6054: 100%|██████████| 200/200 [00:06<00:00, 33.71it/s]\n",
      "episode: 104 Total reward:-1102.26 avg loss:43.3616: 100%|██████████| 200/200 [00:05<00:00, 33.86it/s]\n",
      "episode: 105 Total reward:-1152.11 avg loss:45.0907: 100%|██████████| 200/200 [00:05<00:00, 33.84it/s]\n",
      "episode: 106 Total reward:-1088.08 avg loss:38.6609: 100%|██████████| 200/200 [00:05<00:00, 33.59it/s]\n",
      "episode: 107 Total reward:-1314.23 avg loss:40.4417: 100%|██████████| 200/200 [00:05<00:00, 32.96it/s]\n",
      "episode: 108 Total reward:-1424.86 avg loss:41.7288: 100%|██████████| 200/200 [00:05<00:00, 32.52it/s]\n",
      "episode: 109 Total reward:-1113.02 avg loss:40.2479: 100%|██████████| 200/200 [00:05<00:00, 33.30it/s]\n",
      "episode: 110 Total reward:-1180.79 avg loss:31.6635: 100%|██████████| 200/200 [00:05<00:00, 32.84it/s]\n",
      "episode: 111 Total reward:-1143.49 avg loss:45.3861: 100%|██████████| 200/200 [00:05<00:00, 34.22it/s]\n",
      "episode: 112 Total reward:-1179.79 avg loss:37.3344: 100%|██████████| 200/200 [00:05<00:00, 34.24it/s]\n",
      "episode: 113 Total reward:-1294.85 avg loss:47.8350: 100%|██████████| 200/200 [00:05<00:00, 34.12it/s]\n",
      "episode: 114 Total reward:-1188.40 avg loss:40.8896: 100%|██████████| 200/200 [00:05<00:00, 34.14it/s]\n",
      "episode: 115 Total reward:-1192.12 avg loss:48.8967: 100%|██████████| 200/200 [00:05<00:00, 33.51it/s]\n",
      "episode: 116 Total reward:-1186.64 avg loss:39.3987: 100%|██████████| 200/200 [00:05<00:00, 34.21it/s]\n",
      "episode: 117 Total reward:-1190.82 avg loss:44.6838: 100%|██████████| 200/200 [00:05<00:00, 34.45it/s]\n",
      "episode: 118 Total reward:-1183.66 avg loss:40.6740: 100%|██████████| 200/200 [00:05<00:00, 34.08it/s]\n",
      "episode: 119 Total reward:-1547.27 avg loss:47.6815: 100%|██████████| 200/200 [00:05<00:00, 34.39it/s]\n",
      "episode: 120 Total reward:-1149.50 avg loss:40.2403: 100%|██████████| 200/200 [00:05<00:00, 34.11it/s]\n",
      "episode: 121 Total reward:-1144.71 avg loss:49.2707: 100%|██████████| 200/200 [00:05<00:00, 31.52it/s]\n",
      "episode: 122 Total reward:-1526.12 avg loss:44.2799: 100%|██████████| 200/200 [00:05<00:00, 34.18it/s]\n",
      "episode: 123 Total reward:-1380.63 avg loss:59.0371: 100%|██████████| 200/200 [00:05<00:00, 33.83it/s]\n",
      "episode: 124 Total reward:-1496.04 avg loss:52.0602: 100%|██████████| 200/200 [00:05<00:00, 33.94it/s]\n",
      "episode: 125 Total reward:-1189.88 avg loss:45.7865: 100%|██████████| 200/200 [00:05<00:00, 33.51it/s]\n",
      "episode: 126 Total reward:-1122.68 avg loss:46.9544: 100%|██████████| 200/200 [00:05<00:00, 33.35it/s]\n",
      "episode: 127 Total reward:-1425.69 avg loss:39.8513: 100%|██████████| 200/200 [00:05<00:00, 32.87it/s]\n",
      "episode: 128 Total reward:-1613.52 avg loss:67.8109: 100%|██████████| 200/200 [00:05<00:00, 34.20it/s]\n",
      "episode: 129 Total reward:-1535.43 avg loss:50.3203: 100%|██████████| 200/200 [00:05<00:00, 33.78it/s]\n",
      "episode: 130 Total reward:-1084.16 avg loss:57.5691: 100%|██████████| 200/200 [00:05<00:00, 34.10it/s]\n",
      "episode: 131 Total reward:-1090.47 avg loss:74.8087: 100%|██████████| 200/200 [00:05<00:00, 33.95it/s]\n",
      "episode: 132 Total reward:-1031.98 avg loss:66.1248: 100%|██████████| 200/200 [00:05<00:00, 34.11it/s]\n",
      "episode: 133 Total reward:-953.34 avg loss:66.2728: 100%|██████████| 200/200 [00:05<00:00, 33.67it/s]\n",
      "episode: 134 Total reward:-1432.45 avg loss:68.7936: 100%|██████████| 200/200 [00:05<00:00, 33.45it/s]\n",
      "episode: 135 Total reward:-1297.69 avg loss:67.9233: 100%|██████████| 200/200 [00:05<00:00, 33.85it/s]\n",
      "episode: 136 Total reward:-1524.22 avg loss:69.6942: 100%|██████████| 200/200 [00:06<00:00, 32.63it/s]\n",
      "episode: 137 Total reward:-1393.54 avg loss:53.2468: 100%|██████████| 200/200 [00:06<00:00, 33.11it/s]\n",
      "episode: 138 Total reward:-1512.11 avg loss:59.2365: 100%|██████████| 200/200 [00:05<00:00, 33.52it/s]\n",
      "episode: 139 Total reward:-1439.82 avg loss:73.6404: 100%|██████████| 200/200 [00:05<00:00, 33.86it/s]\n",
      "episode: 140 Total reward:-819.33 avg loss:74.8101: 100%|██████████| 200/200 [00:05<00:00, 33.76it/s]\n",
      "episode: 141 Total reward:-837.53 avg loss:58.9827: 100%|██████████| 200/200 [00:06<00:00, 33.31it/s]\n",
      "episode: 142 Total reward:-1519.82 avg loss:81.6621: 100%|██████████| 200/200 [00:06<00:00, 31.92it/s]\n",
      "episode: 143 Total reward:-1523.10 avg loss:72.1042: 100%|██████████| 200/200 [00:05<00:00, 33.57it/s]\n",
      "episode: 144 Total reward:-1038.60 avg loss:73.4936: 100%|██████████| 200/200 [00:06<00:00, 32.29it/s]\n",
      "episode: 145 Total reward:-947.93 avg loss:42.1564: 100%|██████████| 200/200 [00:06<00:00, 29.27it/s]\n",
      "episode: 146 Total reward:-939.54 avg loss:64.9087: 100%|██████████| 200/200 [00:05<00:00, 38.53it/s]\n",
      "episode: 147 Total reward:-831.56 avg loss:80.6554: 100%|██████████| 200/200 [00:05<00:00, 37.62it/s]\n",
      "episode: 148 Total reward:-833.49 avg loss:70.2184: 100%|██████████| 200/200 [00:05<00:00, 36.69it/s]\n",
      "episode: 149 Total reward:-1105.13 avg loss:60.8723: 100%|██████████| 200/200 [00:05<00:00, 36.88it/s]\n",
      "episode: 150 Total reward:-817.89 avg loss:68.4707: 100%|██████████| 200/200 [00:05<00:00, 37.17it/s]\n",
      "episode: 151 Total reward:-836.66 avg loss:69.1952: 100%|██████████| 200/200 [00:05<00:00, 36.40it/s]\n",
      "episode: 152 Total reward:-942.02 avg loss:68.9187: 100%|██████████| 200/200 [00:05<00:00, 35.28it/s]\n",
      "episode: 153 Total reward:-746.09 avg loss:78.7704: 100%|██████████| 200/200 [00:08<00:00, 23.87it/s]\n",
      "episode: 154 Total reward:-1513.85 avg loss:83.2248: 100%|██████████| 200/200 [00:05<00:00, 35.48it/s]\n",
      "episode: 155 Total reward:-1514.22 avg loss:59.8706: 100%|██████████| 200/200 [00:05<00:00, 34.90it/s]\n",
      "episode: 156 Total reward:-730.30 avg loss:82.8666: 100%|██████████| 200/200 [00:07<00:00, 21.20it/s]\n",
      "episode: 157 Total reward:-840.10 avg loss:74.3872: 100%|██████████| 200/200 [00:06<00:00, 31.62it/s]\n",
      "episode: 158 Total reward:-1317.89 avg loss:87.0105: 100%|██████████| 200/200 [00:05<00:00, 37.88it/s]\n"
     ]
    },
    {
     "name": "stderr",
     "output_type": "stream",
     "text": [
      "episode: 159 Total reward:-833.02 avg loss:53.6591: 100%|██████████| 200/200 [00:05<00:00, 38.55it/s]\n",
      "episode: 160 Total reward:-1065.21 avg loss:79.0241: 100%|██████████| 200/200 [00:05<00:00, 34.08it/s]\n",
      "episode: 161 Total reward:-1066.82 avg loss:63.0755: 100%|██████████| 200/200 [00:05<00:00, 35.57it/s]\n",
      "episode: 162 Total reward:-1327.90 avg loss:96.1022: 100%|██████████| 200/200 [00:05<00:00, 36.04it/s]\n",
      "episode: 163 Total reward:-841.11 avg loss:83.2854: 100%|██████████| 200/200 [00:05<00:00, 37.26it/s]\n",
      "episode: 164 Total reward:-920.49 avg loss:71.3591: 100%|██████████| 200/200 [00:05<00:00, 35.73it/s]\n",
      "episode: 165 Total reward:-1020.96 avg loss:85.8751: 100%|██████████| 200/200 [00:08<00:00, 17.58it/s]\n",
      "episode: 166 Total reward:-1365.10 avg loss:78.0648: 100%|██████████| 200/200 [00:06<00:00, 30.94it/s]\n",
      "episode: 167 Total reward:-911.89 avg loss:67.2785: 100%|██████████| 200/200 [00:05<00:00, 38.00it/s]\n",
      "episode: 168 Total reward:-1212.16 avg loss:83.1428: 100%|██████████| 200/200 [00:05<00:00, 38.36it/s]\n",
      "episode: 169 Total reward:-1493.04 avg loss:72.0107: 100%|██████████| 200/200 [00:05<00:00, 37.81it/s]\n",
      "episode: 170 Total reward:-1244.86 avg loss:67.9937: 100%|██████████| 200/200 [00:05<00:00, 38.68it/s]\n",
      "episode: 171 Total reward:-1286.56 avg loss:103.9094: 100%|██████████| 200/200 [00:05<00:00, 38.16it/s]\n",
      "episode: 172 Total reward:-929.14 avg loss:86.2709: 100%|██████████| 200/200 [00:06<00:00, 33.25it/s]\n",
      "episode: 173 Total reward:-1503.47 avg loss:89.9998: 100%|██████████| 200/200 [00:05<00:00, 38.23it/s]\n",
      "episode: 174 Total reward:-840.78 avg loss:68.8363: 100%|██████████| 200/200 [00:05<00:00, 38.61it/s]\n",
      "episode: 175 Total reward:-1079.82 avg loss:79.7033: 100%|██████████| 200/200 [00:05<00:00, 38.50it/s]\n",
      "episode: 176 Total reward:-1164.60 avg loss:82.8916: 100%|██████████| 200/200 [00:05<00:00, 38.25it/s]\n",
      "episode: 177 Total reward:-947.76 avg loss:85.2352: 100%|██████████| 200/200 [00:05<00:00, 38.23it/s]\n",
      "episode: 178 Total reward:-947.73 avg loss:90.8926: 100%|██████████| 200/200 [00:05<00:00, 38.55it/s]\n",
      "episode: 179 Total reward:-913.49 avg loss:84.4283: 100%|██████████| 200/200 [00:05<00:00, 37.72it/s]\n",
      "episode: 180 Total reward:-1386.33 avg loss:61.7276: 100%|██████████| 200/200 [00:05<00:00, 37.34it/s]\n",
      "episode: 181 Total reward:-1537.74 avg loss:97.1042: 100%|██████████| 200/200 [00:05<00:00, 37.41it/s]\n",
      "episode: 182 Total reward:-1495.10 avg loss:86.0828: 100%|██████████| 200/200 [00:05<00:00, 35.93it/s]\n",
      "episode: 183 Total reward:-273.53 avg loss:69.1106: 100%|██████████| 200/200 [00:05<00:00, 38.69it/s]\n",
      "episode: 184 Total reward:-1437.55 avg loss:86.3190: 100%|██████████| 200/200 [00:05<00:00, 38.60it/s]\n",
      "episode: 185 Total reward:-774.43 avg loss:79.9434: 100%|██████████| 200/200 [00:05<00:00, 38.65it/s]\n",
      "episode: 186 Total reward:-1334.48 avg loss:101.9275: 100%|██████████| 200/200 [00:05<00:00, 38.56it/s]\n",
      "episode: 187 Total reward:-1252.37 avg loss:100.3434: 100%|██████████| 200/200 [00:05<00:00, 38.08it/s]\n",
      "episode: 188 Total reward:-1160.64 avg loss:74.8887: 100%|██████████| 200/200 [00:05<00:00, 37.72it/s]\n",
      "episode: 189 Total reward:-1418.27 avg loss:77.0590: 100%|██████████| 200/200 [00:05<00:00, 37.66it/s]\n",
      "episode: 190 Total reward:-1056.77 avg loss:116.5853: 100%|██████████| 200/200 [00:05<00:00, 36.66it/s]\n",
      "episode: 191 Total reward:-1428.50 avg loss:108.0340: 100%|██████████| 200/200 [00:05<00:00, 36.99it/s]\n",
      "episode: 192 Total reward:-1517.47 avg loss:111.4854: 100%|██████████| 200/200 [00:05<00:00, 37.86it/s]\n",
      "episode: 193 Total reward:-373.82 avg loss:99.7255: 100%|██████████| 200/200 [00:05<00:00, 37.12it/s]\n",
      "episode: 194 Total reward:-1615.34 avg loss:93.9001: 100%|██████████| 200/200 [00:05<00:00, 36.54it/s]\n",
      "episode: 195 Total reward:-1230.42 avg loss:106.8495: 100%|██████████| 200/200 [00:05<00:00, 38.18it/s]\n",
      "episode: 196 Total reward:-1508.77 avg loss:97.6858: 100%|██████████| 200/200 [00:05<00:00, 37.77it/s]\n",
      "episode: 197 Total reward:-748.73 avg loss:72.5479: 100%|██████████| 200/200 [00:05<00:00, 38.56it/s]\n",
      "episode: 198 Total reward:-1521.12 avg loss:99.9824: 100%|██████████| 200/200 [00:05<00:00, 38.23it/s]\n",
      "episode: 199 Total reward:-1179.99 avg loss:125.0265: 100%|██████████| 200/200 [00:05<00:00, 37.89it/s]\n"
     ]
    }
   ],
   "source": [
    "[reward_list, loss_list]=ddpg.train(num_episodes=200)"
   ]
  },
  {
   "cell_type": "markdown",
   "metadata": {},
   "source": [
    "## Testing"
   ]
  },
  {
   "cell_type": "code",
   "execution_count": 8,
   "metadata": {},
   "outputs": [
    {
     "name": "stderr",
     "output_type": "stream",
     "text": [
      "episode: 000 Total reward:-1282.14: 100%|██████████| 200/200 [00:00<00:00, 403.36it/s]    \n",
      "episode: 001 Total reward:-1337.56: 100%|██████████| 200/200 [00:00<00:00, 402.60it/s]    \n",
      "episode: 002 Total reward:-1273.62: 100%|██████████| 200/200 [00:00<00:00, 389.72it/s]    \n",
      "episode: 003 Total reward:-1249.80: 100%|██████████| 200/200 [00:00<00:00, 352.85it/s]    \n",
      "episode: 004 Total reward:-1503.23: 100%|██████████| 200/200 [00:00<00:00, 335.31it/s]    \n",
      "episode: 005 Total reward:-1319.36: 100%|██████████| 200/200 [00:00<00:00, 396.78it/s]    \n",
      "episode: 006 Total reward:-1299.05: 100%|██████████| 200/200 [00:00<00:00, 382.46it/s]    \n",
      "episode: 007 Total reward:-1327.03: 100%|██████████| 200/200 [00:00<00:00, 320.52it/s]    \n",
      "episode: 008 Total reward:-1209.96: 100%|██████████| 200/200 [00:00<00:00, 347.43it/s]    \n",
      "episode: 009 Total reward:-1223.64: 100%|██████████| 200/200 [00:00<00:00, 317.36it/s]    \n"
     ]
    }
   ],
   "source": [
    "test_reward_list = ddpg.test(render=False,episodes=10)"
   ]
  },
  {
   "cell_type": "markdown",
   "metadata": {},
   "source": [
    "## Plotting the test result"
   ]
  },
  {
   "cell_type": "code",
   "execution_count": 9,
   "metadata": {},
   "outputs": [
    {
     "data": {
      "text/plain": [
       "Text(0,0.5,'Total Rewards per Episode')"
      ]
     },
     "execution_count": 9,
     "metadata": {},
     "output_type": "execute_result"
    },
    {
     "data": {
      "image/png": "[encoded data removed]",
      "text/plain": [
       "<matplotlib.figure.Figure at 0x114387a90>"
      ]
     },
     "metadata": {},
     "output_type": "display_data"
    }
   ],
   "source": [
    "import matplotlib.pyplot as plt\n",
    "%matplotlib inline\n",
    "plt.plot(test_reward_list)\n",
    "plt.xlabel(\"Episodes\")\n",
    "plt.ylabel(\"Total Rewards per Episode\")"
   ]
  },
  {
   "cell_type": "code",
   "execution_count": null,
   "metadata": {},
   "outputs": [],
   "source": []
  },
  {
   "cell_type": "code",
   "execution_count": null,
   "metadata": {},
   "outputs": [],
   "source": []
  }
 ],
 "metadata": {
  "kernelspec": {
   "display_name": "Python 3",
   "language": "python",
   "name": "python3"
  },
  "language_info": {
   "codemirror_mode": {
    "name": "ipython",
    "version": 3
   },
   "file_extension": ".py",
   "mimetype": "text/x-python",
   "name": "python",
   "nbconvert_exporter": "python",
   "pygments_lexer": "ipython3",
   "version": "3.6.3"
  }
 },
 "nbformat": 4,
 "nbformat_minor": 2
}
