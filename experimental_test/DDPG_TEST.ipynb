{
 "cells": [
  {
   "cell_type": "markdown",
   "metadata": {},
   "source": [
    "## Import necessary packages tutorial"
   ]
  },
  {
   "cell_type": "code",
   "execution_count": 1,
   "metadata": {},
   "outputs": [
    {
     "name": "stderr",
     "output_type": "stream",
     "text": [
      "/Users/thakur/ReNom/renom/cuda/__init__.py:12: UserWarning: Couldn't find cuda modules. No module named 'renom.cuda.cuda_base'\n",
      "  warnings.warn(\"Couldn't find cuda modules. %s\" % e)\n",
      "/Users/thakur/ReNom/renom/cuda/__init__.py:29: UserWarning: Couldn't find cuda modules.\n",
      "  warnings.warn(\"Couldn't find cuda modules.\")\n"
     ]
    }
   ],
   "source": [
    "import renom as rm\n",
    "from renom.utility.initializer import Uniform, GlorotUniform\n",
    "import gym"
   ]
  },
  {
   "cell_type": "markdown",
   "metadata": {},
   "source": [
    "## Deifne the environment tutorial"
   ]
  },
  {
   "cell_type": "code",
   "execution_count": 2,
   "metadata": {},
   "outputs": [
    {
     "name": "stderr",
     "output_type": "stream",
     "text": [
      "[2018-03-19 10:44:11,141] Making new env: Pendulum-v0\n"
     ]
    }
   ],
   "source": [
    "env = gym.make('Pendulum-v0')"
   ]
  },
  {
   "cell_type": "markdown",
   "metadata": {},
   "source": [
    "## Define the actor network tutorial"
   ]
  },
  {
   "cell_type": "code",
   "execution_count": 3,
   "metadata": {},
   "outputs": [],
   "source": [
    "class Actor(rm.Model):\n",
    "    \n",
    "    '''Here considered 3-layer network (excluding input layer). Feel free to change the network depth \n",
    "    and check the results. The output-layer number of nuerons are equal to number of actions.\n",
    "    In the example of OpenAI Gym's Pendlum-v0 environment number of actions are 1.'''\n",
    "    \n",
    "    def __init__(self, env, layer_size):\n",
    "        self._layers = []\n",
    "        self.env = env\n",
    "        self._l1 = rm.Dense(layer_size[0], initializer=GlorotUniform())\n",
    "        self._l2 = rm.Dense(layer_size[1], initializer=GlorotUniform())\n",
    "        self._l3 = rm.Dense(self.env.action_space.shape[0], initializer=Uniform(min=-0.003, max=0.003))\n",
    "        self._layers = [self._l1, self._l2, self._l3]\n",
    "    \n",
    "    def forward(self, x):\n",
    "        '''Neural Network inputs are state information, outputs are actions. '''\n",
    "        h1 = rm.relu(self._l1(x))\n",
    "        h2 = rm.relu(self._l2(h1))\n",
    "        h3 = rm.tanh(self._l3(h2)) \n",
    "        #h = self._l3(h2)\n",
    "        h = h3*self.env.action_space.high[0]\n",
    "        return h\n",
    "    \n",
    "    def weigiht_decay(self):\n",
    "        '''To minimize over fitting considered L2-norm (it is an optional)'''\n",
    "        weight_decay = 0\n",
    "        for i in range(len(self._layers)):\n",
    "            weight_decay += rm.sum(self._layers[i].params.w**2)\n",
    "        return weight_decay\n"
   ]
  },
  {
   "cell_type": "markdown",
   "metadata": {},
   "source": [
    "# Define the Critic network tutorial"
   ]
  },
  {
   "cell_type": "code",
   "execution_count": 4,
   "metadata": {},
   "outputs": [],
   "source": [
    "class Critic(rm.Model):\n",
    "    '''Here considered a 3-layer network (input layer, hidden layer-1, hidden layer-2, output layer)\n",
    "        At input-layer state information, 2nd-hidden layer actions are applied, last layer has a single neuron'''\n",
    "    def __init__(self, env, layer_size):        \n",
    "        self._layers = []\n",
    "        self.env = env\n",
    "        self._l1 = rm.Dense(layer_size[0], initializer=GlorotUniform())\n",
    "        self._l2 = rm.Dense(layer_size[1], initializer=GlorotUniform())\n",
    "        self._l3 = rm.Dense(1, initializer=Uniform(min=-0.003, max=0.003))\n",
    "        self._layers = [self._l1, self._l2, self._l3]\n",
    "  \n",
    "    def forward(self, x, action):\n",
    "        '''Q(s,a) calculation for a given (state, action) pair'''\n",
    "        h1 = rm.relu(self._l1(x))\n",
    "        h2 = rm.relu(self._l2(rm.concat(h1,action))) # actions are applied at 2nd hidden layer\n",
    "        h = self._l3(h2)        \n",
    "        return h\n",
    "    \n",
    "    def weigiht_decay(self):\n",
    "        '''To minimize over fitting considered L2-norm (it is an optional)'''\n",
    "        weight_decay = 0\n",
    "        for i in range(len(self._layers)):\n",
    "            weight_decay += rm.sum(self._layers[i].params.w**2)\n",
    "        return weight_decay"
   ]
  },
  {
   "cell_type": "markdown",
   "metadata": {},
   "source": [
    "## Instantiating the actor & ciritic networks "
   ]
  },
  {
   "cell_type": "code",
   "execution_count": 5,
   "metadata": {},
   "outputs": [],
   "source": [
    "from renom.algorithm.reinforcement.ddpg import DDPG\n",
    "layer_size = [400, 300] # two-hidden layers dimension\n",
    "actor_network = Actor(env=env,layer_size=layer_size)\n",
    "critic_network = Critic(env=env, layer_size=layer_size)\n",
    "target_actor_network = Actor(env=env,layer_size=layer_size)\n",
    "target_critic_network = Critic(env=env, layer_size=layer_size)"
   ]
  },
  {
   "cell_type": "markdown",
   "metadata": {},
   "source": [
    "## Instantiating the DDPG class"
   ]
  },
  {
   "cell_type": "code",
   "execution_count": 6,
   "metadata": {},
   "outputs": [],
   "source": [
    "ddpg = DDPG(env=env, actor_network=actor_network, critic_network=critic_network, \\\n",
    "            target_actor_network=target_actor_network, target_critic_network=target_critic_network)\n",
    "# ddpg = DDPG(env=env) # for default"
   ]
  },
  {
   "cell_type": "markdown",
   "metadata": {},
   "source": [
    "## Training "
   ]
  },
  {
   "cell_type": "code",
   "execution_count": 7,
   "metadata": {
    "scrolled": false
   },
   "outputs": [
    {
     "name": "stderr",
     "output_type": "stream",
     "text": [
      "episode: 000 Total reward:-1064.16 avg loss:1.5441: 100%|██████████| 200/200 [00:04<00:00, 40.33it/s]\n",
      "episode: 001 Total reward:-1537.06 avg loss:0.0647: 100%|██████████| 200/200 [00:06<00:00, 19.95it/s]\n",
      "episode: 002 Total reward:-1792.93 avg loss:0.0213: 100%|██████████| 200/200 [00:07<00:00, 28.47it/s]\n",
      "episode: 003 Total reward:-1768.55 avg loss:0.0167: 100%|██████████| 200/200 [00:06<00:00, 30.63it/s]\n",
      "episode: 004 Total reward:-1628.95 avg loss:0.0195: 100%|██████████| 200/200 [00:06<00:00, 28.45it/s]\n",
      "episode: 005 Total reward:-1624.17 avg loss:0.0162: 100%|██████████| 200/200 [00:07<00:00, 28.02it/s]\n",
      "episode: 006 Total reward:-1468.53 avg loss:0.0349: 100%|██████████| 200/200 [00:07<00:00, 26.94it/s]\n",
      "episode: 007 Total reward:-1650.87 avg loss:0.0416: 100%|██████████| 200/200 [00:07<00:00, 25.74it/s]\n",
      "episode: 008 Total reward:-1639.69 avg loss:0.0721: 100%|██████████| 200/200 [00:06<00:00, 28.82it/s]\n",
      "episode: 009 Total reward:-1536.54 avg loss:0.0803: 100%|██████████| 200/200 [00:07<00:00, 26.06it/s]\n",
      "episode: 010 Total reward:-1552.23 avg loss:0.1362: 100%|██████████| 200/200 [00:07<00:00, 27.99it/s]\n",
      "episode: 011 Total reward:-1553.69 avg loss:0.1806: 100%|██████████| 200/200 [00:07<00:00, 27.34it/s]\n",
      "episode: 012 Total reward:-1542.20 avg loss:0.1467: 100%|██████████| 200/200 [00:07<00:00, 25.92it/s]\n",
      "episode: 013 Total reward:-1542.38 avg loss:0.2480: 100%|██████████| 200/200 [00:07<00:00, 25.41it/s]\n",
      "episode: 014 Total reward:-1505.42 avg loss:0.2854: 100%|██████████| 200/200 [00:08<00:00, 23.47it/s]\n",
      "episode: 015 Total reward:-1551.79 avg loss:0.4171: 100%|██████████| 200/200 [00:07<00:00, 27.21it/s]\n",
      "episode: 016 Total reward:-1457.24 avg loss:0.5210: 100%|██████████| 200/200 [00:07<00:00, 26.45it/s]\n",
      "episode: 017 Total reward:-1240.05 avg loss:0.6499: 100%|██████████| 200/200 [00:07<00:00, 27.19it/s]\n",
      "episode: 018 Total reward:-1473.15 avg loss:0.8938: 100%|██████████| 200/200 [00:07<00:00, 26.80it/s]\n",
      "episode: 019 Total reward:-1291.46 avg loss:0.9159: 100%|██████████| 200/200 [00:07<00:00, 26.69it/s]\n",
      "episode: 020 Total reward:-1082.92 avg loss:0.8578: 100%|██████████| 200/200 [00:06<00:00, 28.79it/s]\n",
      "episode: 021 Total reward:-1483.01 avg loss:1.0515: 100%|██████████| 200/200 [00:07<00:00, 25.96it/s]\n",
      "episode: 022 Total reward:-1395.02 avg loss:1.1293: 100%|██████████| 200/200 [00:07<00:00, 27.59it/s]\n",
      "episode: 023 Total reward:-1046.76 avg loss:1.4159: 100%|██████████| 200/200 [00:07<00:00, 27.73it/s]\n",
      "episode: 024 Total reward:-1258.45 avg loss:1.7128: 100%|██████████| 200/200 [00:07<00:00, 26.10it/s]\n",
      "episode: 025 Total reward:-1149.71 avg loss:1.5051: 100%|██████████| 200/200 [00:07<00:00, 26.17it/s]\n",
      "episode: 026 Total reward:-1048.56 avg loss:2.0026: 100%|██████████| 200/200 [00:07<00:00, 28.59it/s]\n",
      "episode: 027 Total reward:-1162.02 avg loss:1.9839: 100%|██████████| 200/200 [00:07<00:00, 28.17it/s]\n",
      "episode: 028 Total reward:-1193.15 avg loss:1.9331: 100%|██████████| 200/200 [00:07<00:00, 27.05it/s]\n",
      "episode: 029 Total reward:-1233.94 avg loss:1.9391: 100%|██████████| 200/200 [00:07<00:00, 27.17it/s]\n",
      "episode: 030 Total reward:-1174.46 avg loss:2.7033: 100%|██████████| 200/200 [00:08<00:00, 28.82it/s]\n",
      "episode: 031 Total reward:-1071.71 avg loss:3.0654: 100%|██████████| 200/200 [00:07<00:00, 25.70it/s]\n",
      "episode: 032 Total reward:-1111.47 avg loss:2.9809: 100%|██████████| 200/200 [00:07<00:00, 26.52it/s]\n",
      "episode: 033 Total reward:-1098.55 avg loss:3.1190: 100%|██████████| 200/200 [00:07<00:00, 27.03it/s]\n",
      "episode: 034 Total reward:-1070.05 avg loss:3.1420: 100%|██████████| 200/200 [00:07<00:00, 27.72it/s]\n",
      "episode: 035 Total reward:-1049.48 avg loss:3.3576: 100%|██████████| 200/200 [00:07<00:00, 28.28it/s]\n",
      "episode: 036 Total reward:-1564.59 avg loss:4.1290: 100%|██████████| 200/200 [00:07<00:00, 27.26it/s]\n",
      "episode: 037 Total reward:-960.58 avg loss:3.6349: 100%|██████████| 200/200 [00:07<00:00, 28.38it/s]\n",
      "episode: 038 Total reward:-947.69 avg loss:3.4563: 100%|██████████| 200/200 [00:08<00:00, 24.56it/s]\n",
      "episode: 039 Total reward:-1179.21 avg loss:3.9673: 100%|██████████| 200/200 [00:07<00:00, 29.14it/s]\n",
      "episode: 040 Total reward:-1523.92 avg loss:3.6086: 100%|██████████| 200/200 [00:06<00:00, 28.73it/s]\n",
      "episode: 041 Total reward:-1345.56 avg loss:4.3329: 100%|██████████| 200/200 [00:07<00:00, 22.90it/s]\n",
      "episode: 042 Total reward:-954.37 avg loss:4.3914: 100%|██████████| 200/200 [00:08<00:00, 24.57it/s]\n",
      "episode: 043 Total reward:-1228.49 avg loss:5.9491: 100%|██████████| 200/200 [00:07<00:00, 25.73it/s]\n",
      "episode: 044 Total reward:-238.96 avg loss:5.1752: 100%|██████████| 200/200 [00:07<00:00, 26.29it/s]\n",
      "episode: 045 Total reward:-907.39 avg loss:4.3439: 100%|██████████| 200/200 [00:07<00:00, 25.47it/s]\n",
      "episode: 046 Total reward:-814.09 avg loss:6.9920: 100%|██████████| 200/200 [00:07<00:00, 29.07it/s]\n",
      "episode: 047 Total reward:-1069.39 avg loss:6.4132: 100%|██████████| 200/200 [00:06<00:00, 29.21it/s]\n",
      "episode: 048 Total reward:-658.94 avg loss:6.3370: 100%|██████████| 200/200 [00:07<00:00, 25.04it/s]\n",
      "episode: 049 Total reward:-741.20 avg loss:5.7278: 100%|██████████| 200/200 [00:07<00:00, 25.35it/s]\n",
      "episode: 050 Total reward:-771.82 avg loss:5.6519: 100%|██████████| 200/200 [00:08<00:00, 24.35it/s]\n",
      "episode: 051 Total reward:-1001.77 avg loss:5.1725: 100%|██████████| 200/200 [00:08<00:00, 23.61it/s]\n",
      "episode: 052 Total reward:-130.18 avg loss:6.9594: 100%|██████████| 200/200 [00:07<00:00, 26.17it/s]\n",
      "episode: 053 Total reward:-516.95 avg loss:6.9529: 100%|██████████| 200/200 [00:07<00:00, 25.12it/s]\n",
      "episode: 054 Total reward:-139.20 avg loss:6.3570: 100%|██████████| 200/200 [00:06<00:00, 28.93it/s]\n",
      "episode: 055 Total reward:-572.22 avg loss:7.5416: 100%|██████████| 200/200 [00:07<00:00, 27.77it/s]\n",
      "episode: 056 Total reward:-272.21 avg loss:6.9992: 100%|██████████| 200/200 [00:08<00:00, 24.75it/s]\n",
      "episode: 057 Total reward:-137.02 avg loss:6.3305: 100%|██████████| 200/200 [00:08<00:00, 24.10it/s]\n",
      "episode: 058 Total reward:-8.78 avg loss:7.4970: 100%|██████████| 200/200 [00:08<00:00, 24.02it/s]\n",
      "episode: 059 Total reward:-930.03 avg loss:8.0174: 100%|██████████| 200/200 [00:08<00:00, 24.55it/s]\n",
      "episode: 060 Total reward:-131.67 avg loss:8.6265: 100%|██████████| 200/200 [00:07<00:00, 25.56it/s]\n",
      "episode: 061 Total reward:-786.44 avg loss:7.9831: 100%|██████████| 200/200 [00:07<00:00, 28.54it/s]\n",
      "episode: 062 Total reward:-811.38 avg loss:9.4382: 100%|██████████| 200/200 [00:08<00:00, 24.03it/s]\n",
      "episode: 063 Total reward:-708.52 avg loss:9.1233: 100%|██████████| 200/200 [00:07<00:00, 25.55it/s]\n",
      "episode: 064 Total reward:-885.55 avg loss:9.5832: 100%|██████████| 200/200 [00:08<00:00, 24.55it/s]\n",
      "episode: 065 Total reward:-1517.54 avg loss:7.6017: 100%|██████████| 200/200 [00:07<00:00, 27.00it/s]\n",
      "episode: 066 Total reward:-809.32 avg loss:7.1087: 100%|██████████| 200/200 [00:07<00:00, 27.01it/s]\n",
      "episode: 067 Total reward:-649.60 avg loss:8.4586: 100%|██████████| 200/200 [00:08<00:00, 17.36it/s]\n",
      "episode: 068 Total reward:-393.21 avg loss:12.7686: 100%|██████████| 200/200 [00:07<00:00, 25.00it/s]\n",
      "episode: 069 Total reward:-559.09 avg loss:9.3620: 100%|██████████| 200/200 [00:07<00:00, 26.00it/s]\n",
      "episode: 070 Total reward:-4.86 avg loss:8.9328: 100%|██████████| 200/200 [00:07<00:00, 26.54it/s]\n",
      "episode: 071 Total reward:-1491.11 avg loss:8.8765: 100%|██████████| 200/200 [00:07<00:00, 26.67it/s]\n",
      "episode: 072 Total reward:-808.53 avg loss:9.2845: 100%|██████████| 200/200 [00:07<00:00, 26.27it/s]\n",
      "episode: 073 Total reward:-825.93 avg loss:11.5249: 100%|██████████| 200/200 [00:07<00:00, 26.85it/s]\n",
      "episode: 074 Total reward:-803.51 avg loss:9.1955: 100%|██████████| 200/200 [00:07<00:00, 24.43it/s]\n",
      "episode: 075 Total reward:-1011.09 avg loss:12.3121: 100%|██████████| 200/200 [00:07<00:00, 26.98it/s]\n",
      "episode: 076 Total reward:-264.12 avg loss:12.5818: 100%|██████████| 200/200 [00:07<00:00, 25.50it/s]\n",
      "episode: 077 Total reward:-520.82 avg loss:9.4316: 100%|██████████| 200/200 [00:07<00:00, 26.70it/s]\n",
      "episode: 078 Total reward:-388.32 avg loss:12.1039: 100%|██████████| 200/200 [00:07<00:00, 26.13it/s]\n",
      "episode: 079 Total reward:-658.39 avg loss:14.0820: 100%|██████████| 200/200 [00:07<00:00, 26.39it/s]\n"
     ]
    },
    {
     "name": "stderr",
     "output_type": "stream",
     "text": [
      "episode: 080 Total reward:-132.31 avg loss:8.9046: 100%|██████████| 200/200 [00:07<00:00, 28.00it/s]\n",
      "episode: 081 Total reward:-131.17 avg loss:13.5976: 100%|██████████| 200/200 [00:06<00:00, 29.72it/s]\n",
      "episode: 082 Total reward:-392.03 avg loss:8.7534: 100%|██████████| 200/200 [00:07<00:00, 26.89it/s]\n",
      "episode: 083 Total reward:-256.11 avg loss:12.4325: 100%|██████████| 200/200 [00:07<00:00, 28.30it/s]\n",
      "episode: 084 Total reward:-258.17 avg loss:13.4849: 100%|██████████| 200/200 [00:07<00:00, 26.92it/s]\n",
      "episode: 085 Total reward:-382.32 avg loss:11.8349: 100%|██████████| 200/200 [00:07<00:00, 28.15it/s]\n",
      "episode: 086 Total reward:-258.50 avg loss:11.9000: 100%|██████████| 200/200 [00:07<00:00, 26.95it/s]\n",
      "episode: 087 Total reward:-261.44 avg loss:13.0350: 100%|██████████| 200/200 [00:07<00:00, 22.31it/s]\n",
      "episode: 088 Total reward:-378.99 avg loss:12.5259: 100%|██████████| 200/200 [00:07<00:00, 27.23it/s]\n",
      "episode: 089 Total reward:-504.80 avg loss:15.5679: 100%|██████████| 200/200 [00:06<00:00, 30.13it/s]\n",
      "episode: 090 Total reward:-2.85 avg loss:10.8473: 100%|██████████| 200/200 [00:06<00:00, 29.99it/s]\n",
      "episode: 091 Total reward:-291.68 avg loss:11.5946: 100%|██████████| 200/200 [00:07<00:00, 27.86it/s]\n",
      "episode: 092 Total reward:-374.65 avg loss:10.9686: 100%|██████████| 200/200 [00:07<00:00, 26.42it/s]\n",
      "episode: 093 Total reward:-136.77 avg loss:11.9771: 100%|██████████| 200/200 [00:07<00:00, 29.10it/s]\n",
      "episode: 094 Total reward:-4.25 avg loss:7.0729: 100%|██████████| 200/200 [00:07<00:00, 26.38it/s]\n",
      "episode: 095 Total reward:-2.17 avg loss:14.5667: 100%|██████████| 200/200 [00:07<00:00, 27.19it/s]\n",
      "episode: 096 Total reward:-3.13 avg loss:13.7693: 100%|██████████| 200/200 [00:07<00:00, 26.70it/s]\n",
      "episode: 097 Total reward:-121.99 avg loss:17.1238: 100%|██████████| 200/200 [00:07<00:00, 26.34it/s]\n",
      "episode: 098 Total reward:-129.24 avg loss:15.8635: 100%|██████████| 200/200 [00:07<00:00, 27.45it/s]\n",
      "episode: 099 Total reward:-250.13 avg loss:14.9428: 100%|██████████| 200/200 [00:07<00:00, 28.21it/s]\n",
      "episode: 100 Total reward:-349.83 avg loss:17.3475: 100%|██████████| 200/200 [00:07<00:00, 26.61it/s]\n",
      "episode: 101 Total reward:-261.93 avg loss:11.6355: 100%|██████████| 200/200 [00:07<00:00, 29.96it/s]\n",
      "episode: 102 Total reward:-395.43 avg loss:10.6320: 100%|██████████| 200/200 [00:07<00:00, 27.67it/s]\n",
      "episode: 103 Total reward:-124.84 avg loss:13.3309: 100%|██████████| 200/200 [00:07<00:00, 27.65it/s]\n",
      "episode: 104 Total reward:-250.59 avg loss:14.3409: 100%|██████████| 200/200 [00:07<00:00, 27.68it/s]\n",
      "episode: 105 Total reward:-261.58 avg loss:11.5784: 100%|██████████| 200/200 [00:07<00:00, 26.87it/s]\n",
      "episode: 106 Total reward:-128.29 avg loss:15.0608: 100%|██████████| 200/200 [00:07<00:00, 28.03it/s]\n",
      "episode: 107 Total reward:-127.55 avg loss:9.7784: 100%|██████████| 200/200 [00:07<00:00, 26.67it/s]\n",
      "episode: 108 Total reward:-1.34 avg loss:10.5767: 100%|██████████| 200/200 [00:07<00:00, 27.54it/s]\n",
      "episode: 109 Total reward:-337.29 avg loss:15.8258: 100%|██████████| 200/200 [00:07<00:00, 25.99it/s]\n",
      "episode: 110 Total reward:-364.99 avg loss:11.8123: 100%|██████████| 200/200 [00:07<00:00, 25.14it/s]\n",
      "episode: 111 Total reward:-261.70 avg loss:19.3246: 100%|██████████| 200/200 [00:07<00:00, 26.56it/s]\n",
      "episode: 112 Total reward:-246.74 avg loss:12.5767: 100%|██████████| 200/200 [00:06<00:00, 29.59it/s]\n",
      "episode: 113 Total reward:-259.04 avg loss:15.3638: 100%|██████████| 200/200 [00:06<00:00, 30.01it/s]\n",
      "episode: 114 Total reward:-2.00 avg loss:16.6926: 100%|██████████| 200/200 [00:07<00:00, 27.79it/s]\n",
      "episode: 115 Total reward:-252.33 avg loss:13.3271: 100%|██████████| 200/200 [00:07<00:00, 25.62it/s]\n",
      "episode: 116 Total reward:-128.17 avg loss:16.1520: 100%|██████████| 200/200 [00:07<00:00, 27.21it/s]\n",
      "episode: 117 Total reward:-129.57 avg loss:10.2329: 100%|██████████| 200/200 [00:07<00:00, 26.02it/s]\n",
      "episode: 118 Total reward:-130.55 avg loss:19.9209: 100%|██████████| 200/200 [00:07<00:00, 27.75it/s]\n",
      "episode: 119 Total reward:-302.18 avg loss:13.9586: 100%|██████████| 200/200 [00:07<00:00, 26.77it/s]\n",
      "episode: 120 Total reward:-130.69 avg loss:23.1196: 100%|██████████| 200/200 [00:07<00:00, 27.92it/s]\n",
      "episode: 121 Total reward:-134.59 avg loss:14.6151: 100%|██████████| 200/200 [00:07<00:00, 25.23it/s]\n",
      "episode: 122 Total reward:-251.55 avg loss:13.1314: 100%|██████████| 200/200 [00:07<00:00, 25.72it/s]\n",
      "episode: 123 Total reward:-130.06 avg loss:18.6207: 100%|██████████| 200/200 [00:07<00:00, 23.73it/s]\n",
      "episode: 124 Total reward:-133.26 avg loss:12.5052: 100%|██████████| 200/200 [00:07<00:00, 27.50it/s]\n",
      "episode: 125 Total reward:-5.16 avg loss:15.4525: 100%|██████████| 200/200 [00:07<00:00, 27.42it/s]\n",
      "episode: 126 Total reward:-245.02 avg loss:14.0728: 100%|██████████| 200/200 [00:08<00:00, 24.19it/s]\n",
      "episode: 127 Total reward:-130.42 avg loss:19.6565: 100%|██████████| 200/200 [00:07<00:00, 25.95it/s]\n",
      "episode: 128 Total reward:-136.89 avg loss:13.9353: 100%|██████████| 200/200 [00:07<00:00, 27.61it/s]\n",
      "episode: 129 Total reward:-229.53 avg loss:18.2244: 100%|██████████| 200/200 [00:07<00:00, 27.19it/s]\n",
      "episode: 130 Total reward:-136.51 avg loss:20.1998: 100%|██████████| 200/200 [00:07<00:00, 29.28it/s]\n",
      "episode: 131 Total reward:-255.21 avg loss:15.3705: 100%|██████████| 200/200 [00:07<00:00, 25.24it/s]\n",
      "episode: 132 Total reward:-378.58 avg loss:11.7980: 100%|██████████| 200/200 [00:07<00:00, 25.62it/s]\n",
      "episode: 133 Total reward:-125.62 avg loss:20.7312: 100%|██████████| 200/200 [00:06<00:00, 28.65it/s]\n",
      "episode: 134 Total reward:-136.67 avg loss:15.4893: 100%|██████████| 200/200 [00:06<00:00, 29.17it/s]\n",
      "episode: 135 Total reward:-128.07 avg loss:24.0398: 100%|██████████| 200/200 [00:06<00:00, 29.32it/s]\n",
      "episode: 136 Total reward:-117.82 avg loss:14.0302: 100%|██████████| 200/200 [00:06<00:00, 29.35it/s]\n",
      "episode: 137 Total reward:-122.18 avg loss:15.2955: 100%|██████████| 200/200 [00:06<00:00, 29.32it/s]\n",
      "episode: 138 Total reward:-127.92 avg loss:18.3434: 100%|██████████| 200/200 [00:06<00:00, 29.13it/s]\n",
      "episode: 139 Total reward:-269.57 avg loss:18.8283: 100%|██████████| 200/200 [00:06<00:00, 29.27it/s]\n",
      "episode: 140 Total reward:-128.23 avg loss:17.3526: 100%|██████████| 200/200 [00:06<00:00, 29.00it/s]\n",
      "episode: 141 Total reward:-121.68 avg loss:16.9535: 100%|██████████| 200/200 [00:07<00:00, 26.09it/s]\n",
      "episode: 142 Total reward:-120.33 avg loss:18.1804: 100%|██████████| 200/200 [00:08<00:00, 23.76it/s]\n",
      "episode: 143 Total reward:-259.68 avg loss:19.4927: 100%|██████████| 200/200 [00:07<00:00, 28.54it/s]\n",
      "episode: 144 Total reward:-1.08 avg loss:14.9004: 100%|██████████| 200/200 [00:07<00:00, 27.34it/s]\n",
      "episode: 145 Total reward:-382.01 avg loss:14.4766: 100%|██████████| 200/200 [00:07<00:00, 25.37it/s]\n",
      "episode: 146 Total reward:-122.30 avg loss:18.8208: 100%|██████████| 200/200 [00:07<00:00, 27.39it/s]\n",
      "episode: 147 Total reward:-1.29 avg loss:15.2151: 100%|██████████| 200/200 [00:07<00:00, 24.47it/s]\n",
      "episode: 148 Total reward:-282.17 avg loss:22.2497: 100%|██████████| 200/200 [00:07<00:00, 26.75it/s]\n",
      "episode: 149 Total reward:-122.77 avg loss:21.1422: 100%|██████████| 200/200 [00:07<00:00, 26.82it/s]\n",
      "episode: 150 Total reward:-347.11 avg loss:14.0617: 100%|██████████| 200/200 [00:08<00:00, 24.20it/s]\n",
      "episode: 151 Total reward:-242.18 avg loss:15.5606: 100%|██████████| 200/200 [00:07<00:00, 29.26it/s]\n",
      "episode: 152 Total reward:-2.32 avg loss:25.6553: 100%|██████████| 200/200 [00:06<00:00, 28.97it/s]\n",
      "episode: 153 Total reward:-135.25 avg loss:27.6817: 100%|██████████| 200/200 [00:07<00:00, 26.08it/s]\n",
      "episode: 154 Total reward:-260.99 avg loss:21.5095: 100%|██████████| 200/200 [00:08<00:00, 24.69it/s]\n",
      "episode: 155 Total reward:-122.86 avg loss:16.8537: 100%|██████████| 200/200 [00:07<00:00, 23.36it/s]\n",
      "episode: 156 Total reward:-362.75 avg loss:18.1166: 100%|██████████| 200/200 [00:07<00:00, 29.58it/s]\n",
      "episode: 157 Total reward:-123.63 avg loss:15.6178: 100%|██████████| 200/200 [00:08<00:00, 25.75it/s]\n",
      "episode: 158 Total reward:-256.24 avg loss:16.2911: 100%|██████████| 200/200 [00:07<00:00, 27.66it/s]\n",
      "episode: 159 Total reward:-129.40 avg loss:15.1802: 100%|██████████| 200/200 [00:06<00:00, 28.88it/s]\n"
     ]
    },
    {
     "name": "stderr",
     "output_type": "stream",
     "text": [
      "episode: 160 Total reward:-116.26 avg loss:22.9410: 100%|██████████| 200/200 [00:06<00:00, 31.58it/s]\n",
      "episode: 161 Total reward:-127.02 avg loss:15.9525: 100%|██████████| 200/200 [00:06<00:00, 31.89it/s]\n",
      "episode: 162 Total reward:-4.51 avg loss:18.1362: 100%|██████████| 200/200 [00:06<00:00, 31.43it/s]\n",
      "episode: 163 Total reward:-370.37 avg loss:19.8421: 100%|██████████| 200/200 [00:07<00:00, 27.10it/s]\n",
      "episode: 164 Total reward:-129.38 avg loss:19.4519: 100%|██████████| 200/200 [00:07<00:00, 27.09it/s]\n",
      "episode: 165 Total reward:-121.62 avg loss:17.6776: 100%|██████████| 200/200 [00:06<00:00, 30.07it/s]\n",
      "episode: 166 Total reward:-240.67 avg loss:18.8341: 100%|██████████| 200/200 [00:06<00:00, 28.99it/s]\n",
      "episode: 167 Total reward:-2.67 avg loss:17.1877: 100%|██████████| 200/200 [00:06<00:00, 28.79it/s]\n",
      "episode: 168 Total reward:-123.81 avg loss:18.4037: 100%|██████████| 200/200 [00:06<00:00, 29.98it/s]\n",
      "episode: 169 Total reward:-126.34 avg loss:15.4846: 100%|██████████| 200/200 [00:06<00:00, 30.51it/s]\n",
      "episode: 170 Total reward:-1.01 avg loss:12.5797: 100%|██████████| 200/200 [00:06<00:00, 30.50it/s]\n",
      "episode: 171 Total reward:-258.34 avg loss:16.8309: 100%|██████████| 200/200 [00:06<00:00, 29.84it/s]\n",
      "episode: 172 Total reward:-241.97 avg loss:19.3544: 100%|██████████| 200/200 [00:06<00:00, 30.20it/s]\n",
      "episode: 173 Total reward:-125.35 avg loss:10.0793: 100%|██████████| 200/200 [00:06<00:00, 29.94it/s]\n",
      "episode: 174 Total reward:-388.45 avg loss:18.4105: 100%|██████████| 200/200 [00:06<00:00, 30.17it/s]\n",
      "episode: 175 Total reward:-124.56 avg loss:13.7517: 100%|██████████| 200/200 [00:06<00:00, 29.97it/s]\n",
      "episode: 176 Total reward:-121.48 avg loss:15.4908: 100%|██████████| 200/200 [00:06<00:00, 30.04it/s]\n",
      "episode: 177 Total reward:-121.30 avg loss:22.8266: 100%|██████████| 200/200 [00:06<00:00, 30.19it/s]\n",
      "episode: 178 Total reward:-243.84 avg loss:22.6891: 100%|██████████| 200/200 [00:07<00:00, 26.66it/s]\n",
      "episode: 179 Total reward:-128.27 avg loss:17.1204: 100%|██████████| 200/200 [00:07<00:00, 25.61it/s]\n",
      "episode: 180 Total reward:-239.59 avg loss:12.1806: 100%|██████████| 200/200 [00:07<00:00, 28.16it/s]\n",
      "episode: 181 Total reward:-125.62 avg loss:19.4967: 100%|██████████| 200/200 [00:07<00:00, 26.72it/s]\n",
      "episode: 182 Total reward:-117.58 avg loss:16.0035: 100%|██████████| 200/200 [00:07<00:00, 28.02it/s]\n",
      "episode: 183 Total reward:-128.72 avg loss:18.7987: 100%|██████████| 200/200 [00:07<00:00, 26.50it/s]\n",
      "episode: 184 Total reward:-235.89 avg loss:11.0884: 100%|██████████| 200/200 [00:07<00:00, 27.23it/s]\n",
      "episode: 185 Total reward:-283.29 avg loss:14.7661: 100%|██████████| 200/200 [00:07<00:00, 27.28it/s]\n",
      "episode: 186 Total reward:-121.63 avg loss:17.2769: 100%|██████████| 200/200 [00:07<00:00, 28.06it/s]\n",
      "episode: 187 Total reward:-333.75 avg loss:19.3513: 100%|██████████| 200/200 [00:07<00:00, 27.29it/s]\n",
      "episode: 188 Total reward:-129.43 avg loss:16.7827: 100%|██████████| 200/200 [00:07<00:00, 26.86it/s]\n",
      "episode: 189 Total reward:-128.36 avg loss:20.0005: 100%|██████████| 200/200 [00:07<00:00, 29.39it/s]\n",
      "episode: 190 Total reward:-120.87 avg loss:16.1648: 100%|██████████| 200/200 [00:08<00:00, 24.79it/s]\n",
      "episode: 191 Total reward:-119.54 avg loss:27.4244: 100%|██████████| 200/200 [00:07<00:00, 28.09it/s]\n",
      "episode: 192 Total reward:-130.75 avg loss:18.1955: 100%|██████████| 200/200 [00:07<00:00, 27.34it/s]\n",
      "episode: 193 Total reward:-354.60 avg loss:11.5162: 100%|██████████| 200/200 [00:07<00:00, 27.89it/s]\n",
      "episode: 194 Total reward:-5.24 avg loss:12.9628: 100%|██████████| 200/200 [00:07<00:00, 27.77it/s]\n",
      "episode: 195 Total reward:-135.78 avg loss:20.9677: 100%|██████████| 200/200 [00:07<00:00, 25.12it/s]\n",
      "episode: 196 Total reward:-133.26 avg loss:19.4296: 100%|██████████| 200/200 [00:07<00:00, 27.49it/s]\n",
      "episode: 197 Total reward:-6.11 avg loss:17.8754: 100%|██████████| 200/200 [00:07<00:00, 30.09it/s]\n",
      "episode: 198 Total reward:-233.41 avg loss:6.4726: 100%|██████████| 200/200 [00:07<00:00, 26.26it/s]\n",
      "episode: 199 Total reward:-125.42 avg loss:21.6442: 100%|██████████| 200/200 [00:07<00:00, 25.45it/s]\n",
      "episode: 200 Total reward:-123.86 avg loss:13.9297: 100%|██████████| 200/200 [00:08<00:00, 24.72it/s]\n",
      "episode: 201 Total reward:-131.47 avg loss:14.8571: 100%|██████████| 200/200 [00:07<00:00, 25.13it/s]\n",
      "episode: 202 Total reward:-238.14 avg loss:12.3566: 100%|██████████| 200/200 [00:07<00:00, 28.26it/s]\n",
      "episode: 203 Total reward:-360.89 avg loss:11.2157: 100%|██████████| 200/200 [00:07<00:00, 24.37it/s]\n",
      "episode: 204 Total reward:-123.78 avg loss:14.7725: 100%|██████████| 200/200 [00:07<00:00, 24.45it/s]\n",
      "episode: 205 Total reward:-117.91 avg loss:19.8763: 100%|██████████| 200/200 [00:07<00:00, 24.77it/s]\n",
      "episode: 206 Total reward:-3.15 avg loss:16.0680: 100%|██████████| 200/200 [00:07<00:00, 27.74it/s]\n",
      "episode: 207 Total reward:-2.08 avg loss:14.8824: 100%|██████████| 200/200 [00:06<00:00, 29.79it/s]\n",
      "episode: 208 Total reward:-122.26 avg loss:14.7461: 100%|██████████| 200/200 [00:06<00:00, 29.84it/s]\n",
      "episode: 209 Total reward:-120.98 avg loss:21.4465: 100%|██████████| 200/200 [00:06<00:00, 29.64it/s]\n",
      "episode: 210 Total reward:-122.92 avg loss:24.2335: 100%|██████████| 200/200 [00:06<00:00, 29.08it/s]\n",
      "episode: 211 Total reward:-3.05 avg loss:26.3677: 100%|██████████| 200/200 [00:07<00:00, 27.52it/s]\n",
      "episode: 212 Total reward:-123.44 avg loss:8.1014: 100%|██████████| 200/200 [00:06<00:00, 28.66it/s]\n",
      "episode: 213 Total reward:-119.74 avg loss:12.2316: 100%|██████████| 200/200 [00:07<00:00, 28.06it/s]\n",
      "episode: 214 Total reward:-231.93 avg loss:16.8848: 100%|██████████| 200/200 [00:06<00:00, 28.82it/s]\n",
      "episode: 215 Total reward:-128.09 avg loss:17.9225: 100%|██████████| 200/200 [00:06<00:00, 29.80it/s]\n",
      "episode: 216 Total reward:-122.93 avg loss:13.6885: 100%|██████████| 200/200 [00:07<00:00, 23.34it/s]\n",
      "episode: 217 Total reward:-244.02 avg loss:13.8359: 100%|██████████| 200/200 [00:07<00:00, 29.23it/s]\n",
      "episode: 218 Total reward:-339.67 avg loss:17.1144: 100%|██████████| 200/200 [00:06<00:00, 29.53it/s]\n",
      "episode: 219 Total reward:-1.30 avg loss:15.8989: 100%|██████████| 200/200 [00:06<00:00, 29.57it/s]\n",
      "episode: 220 Total reward:-248.91 avg loss:10.6067: 100%|██████████| 200/200 [00:06<00:00, 29.27it/s]\n",
      "episode: 221 Total reward:-272.21 avg loss:15.9957: 100%|██████████| 200/200 [00:06<00:00, 29.23it/s]\n",
      "episode: 222 Total reward:-128.71 avg loss:16.3762: 100%|██████████| 200/200 [00:06<00:00, 29.51it/s]\n",
      "episode: 223 Total reward:-244.15 avg loss:18.4975: 100%|██████████| 200/200 [00:06<00:00, 28.93it/s]\n",
      "episode: 224 Total reward:-123.19 avg loss:8.9629: 100%|██████████| 200/200 [00:07<00:00, 27.83it/s]\n",
      "episode: 225 Total reward:-124.97 avg loss:20.0703: 100%|██████████| 200/200 [00:07<00:00, 26.88it/s]\n",
      "episode: 226 Total reward:-234.47 avg loss:18.2588: 100%|██████████| 200/200 [00:07<00:00, 27.91it/s]\n",
      "episode: 227 Total reward:-115.95 avg loss:18.4261: 100%|██████████| 200/200 [00:07<00:00, 27.34it/s]\n",
      "episode: 228 Total reward:-120.16 avg loss:15.7659: 100%|██████████| 200/200 [00:07<00:00, 28.13it/s]\n",
      "episode: 229 Total reward:-117.63 avg loss:15.0490: 100%|██████████| 200/200 [00:06<00:00, 29.72it/s]\n",
      "episode: 230 Total reward:-246.11 avg loss:15.7022: 100%|██████████| 200/200 [00:07<00:00, 27.18it/s]\n",
      "episode: 231 Total reward:-129.38 avg loss:12.7359: 100%|██████████| 200/200 [00:07<00:00, 28.66it/s]\n",
      "episode: 232 Total reward:-129.20 avg loss:14.0855: 100%|██████████| 200/200 [00:07<00:00, 28.39it/s]\n",
      "episode: 233 Total reward:-127.36 avg loss:14.5301: 100%|██████████| 200/200 [00:07<00:00, 29.01it/s]\n",
      "episode: 234 Total reward:-242.33 avg loss:20.2198: 100%|██████████| 200/200 [00:07<00:00, 26.07it/s]\n",
      "episode: 235 Total reward:-1.06 avg loss:18.8807: 100%|██████████| 200/200 [00:06<00:00, 28.67it/s]\n",
      "episode: 236 Total reward:-122.07 avg loss:13.7403: 100%|██████████| 200/200 [00:06<00:00, 28.70it/s]\n",
      "episode: 237 Total reward:-233.14 avg loss:15.8615: 100%|██████████| 200/200 [00:07<00:00, 27.11it/s]\n",
      "episode: 238 Total reward:-259.11 avg loss:15.5591: 100%|██████████| 200/200 [00:07<00:00, 26.36it/s]\n",
      "episode: 239 Total reward:-127.70 avg loss:13.6491: 100%|██████████| 200/200 [00:07<00:00, 27.06it/s]\n"
     ]
    },
    {
     "name": "stderr",
     "output_type": "stream",
     "text": [
      "episode: 240 Total reward:-121.98 avg loss:21.3592: 100%|██████████| 200/200 [00:06<00:00, 29.25it/s]\n",
      "episode: 241 Total reward:-329.69 avg loss:10.9061: 100%|██████████| 200/200 [00:06<00:00, 29.89it/s]\n",
      "episode: 242 Total reward:-129.05 avg loss:15.0319: 100%|██████████| 200/200 [00:06<00:00, 28.83it/s]\n",
      "episode: 243 Total reward:-2.09 avg loss:16.1102: 100%|██████████| 200/200 [00:07<00:00, 27.90it/s]\n",
      "episode: 244 Total reward:-119.58 avg loss:11.5286: 100%|██████████| 200/200 [00:06<00:00, 29.29it/s]\n",
      "episode: 245 Total reward:-117.27 avg loss:17.6068: 100%|██████████| 200/200 [00:06<00:00, 29.27it/s]\n",
      "episode: 246 Total reward:-117.42 avg loss:18.9835: 100%|██████████| 200/200 [00:07<00:00, 27.73it/s]\n",
      "episode: 247 Total reward:-356.85 avg loss:26.8200: 100%|██████████| 200/200 [00:06<00:00, 29.82it/s]\n",
      "episode: 248 Total reward:-124.82 avg loss:14.3214: 100%|██████████| 200/200 [00:06<00:00, 30.59it/s]\n",
      "episode: 249 Total reward:-363.49 avg loss:14.6856: 100%|██████████| 200/200 [00:06<00:00, 29.87it/s]\n",
      "episode: 250 Total reward:-0.52 avg loss:23.4613: 100%|██████████| 200/200 [00:06<00:00, 29.19it/s]\n",
      "episode: 251 Total reward:-2.33 avg loss:19.4826: 100%|██████████| 200/200 [00:06<00:00, 29.19it/s]\n",
      "episode: 252 Total reward:-122.53 avg loss:11.1474: 100%|██████████| 200/200 [00:07<00:00, 28.44it/s]\n",
      "episode: 253 Total reward:-121.26 avg loss:19.6843: 100%|██████████| 200/200 [00:07<00:00, 26.81it/s]\n",
      "episode: 254 Total reward:-123.01 avg loss:15.6282: 100%|██████████| 200/200 [00:07<00:00, 26.84it/s]\n",
      "episode: 255 Total reward:-117.28 avg loss:14.5366: 100%|██████████| 200/200 [00:07<00:00, 27.12it/s]\n",
      "episode: 256 Total reward:-123.26 avg loss:14.9836: 100%|██████████| 200/200 [00:07<00:00, 27.60it/s]\n",
      "episode: 257 Total reward:-115.88 avg loss:16.3798: 100%|██████████| 200/200 [00:07<00:00, 26.85it/s]\n",
      "episode: 258 Total reward:-246.68 avg loss:9.4345: 100%|██████████| 200/200 [00:07<00:00, 27.44it/s]\n",
      "episode: 259 Total reward:-120.76 avg loss:11.1223: 100%|██████████| 200/200 [00:07<00:00, 27.92it/s]\n",
      "episode: 260 Total reward:-2.37 avg loss:14.4322: 100%|██████████| 200/200 [00:06<00:00, 29.05it/s]\n",
      "episode: 261 Total reward:-231.48 avg loss:15.7934: 100%|██████████| 200/200 [00:06<00:00, 27.37it/s]\n",
      "episode: 262 Total reward:-237.76 avg loss:20.7791: 100%|██████████| 200/200 [00:07<00:00, 27.90it/s]\n",
      "episode: 263 Total reward:-121.36 avg loss:9.5498: 100%|██████████| 200/200 [00:06<00:00, 29.16it/s]\n",
      "episode: 264 Total reward:-118.13 avg loss:15.8465: 100%|██████████| 200/200 [00:07<00:00, 27.85it/s]\n",
      "episode: 265 Total reward:-262.58 avg loss:16.8611: 100%|██████████| 200/200 [00:07<00:00, 27.54it/s]\n",
      "episode: 266 Total reward:-114.54 avg loss:13.6904: 100%|██████████| 200/200 [00:08<00:00, 17.94it/s]\n",
      "episode: 267 Total reward:-239.45 avg loss:13.9946: 100%|██████████| 200/200 [00:07<00:00, 26.08it/s]\n",
      "episode: 268 Total reward:-127.65 avg loss:17.3434: 100%|██████████| 200/200 [00:06<00:00, 29.01it/s]\n",
      "episode: 269 Total reward:-386.89 avg loss:14.0401: 100%|██████████| 200/200 [00:06<00:00, 30.00it/s]\n",
      "episode: 270 Total reward:-121.37 avg loss:17.4456: 100%|██████████| 200/200 [00:07<00:00, 25.87it/s]\n",
      "episode: 271 Total reward:-0.46 avg loss:11.9292: 100%|██████████| 200/200 [00:07<00:00, 27.10it/s]\n",
      "episode: 272 Total reward:-122.88 avg loss:14.0377: 100%|██████████| 200/200 [00:07<00:00, 26.37it/s]\n",
      "episode: 273 Total reward:-236.56 avg loss:12.1620: 100%|██████████| 200/200 [00:07<00:00, 26.22it/s]\n",
      "episode: 274 Total reward:-251.77 avg loss:19.3296: 100%|██████████| 200/200 [00:07<00:00, 26.92it/s]\n",
      "episode: 275 Total reward:-334.69 avg loss:13.1954: 100%|██████████| 200/200 [00:07<00:00, 27.68it/s]\n",
      "episode: 276 Total reward:-3.37 avg loss:7.4428: 100%|██████████| 200/200 [00:07<00:00, 26.65it/s]\n",
      "episode: 277 Total reward:-236.07 avg loss:21.9699: 100%|██████████| 200/200 [00:07<00:00, 27.22it/s]\n",
      "episode: 278 Total reward:-243.31 avg loss:15.7940: 100%|██████████| 200/200 [00:07<00:00, 27.37it/s]\n",
      "episode: 279 Total reward:-120.33 avg loss:18.5079: 100%|██████████| 200/200 [00:07<00:00, 28.31it/s]\n",
      "episode: 280 Total reward:-122.61 avg loss:16.6063: 100%|██████████| 200/200 [00:07<00:00, 25.07it/s]\n",
      "episode: 281 Total reward:-0.48 avg loss:8.9374: 100%|██████████| 200/200 [00:07<00:00, 27.69it/s]\n",
      "episode: 282 Total reward:-119.01 avg loss:20.7050: 100%|██████████| 200/200 [00:07<00:00, 27.99it/s]\n",
      "episode: 283 Total reward:-0.38 avg loss:20.9338: 100%|██████████| 200/200 [00:07<00:00, 28.16it/s]\n",
      "episode: 284 Total reward:-120.29 avg loss:14.7094: 100%|██████████| 200/200 [00:07<00:00, 26.51it/s]\n",
      "episode: 285 Total reward:-254.45 avg loss:15.5233: 100%|██████████| 200/200 [00:06<00:00, 28.74it/s]\n",
      "episode: 286 Total reward:-244.80 avg loss:20.0277: 100%|██████████| 200/200 [00:07<00:00, 28.11it/s]\n",
      "episode: 287 Total reward:-120.70 avg loss:19.0567: 100%|██████████| 200/200 [00:07<00:00, 27.33it/s]\n",
      "episode: 288 Total reward:-247.58 avg loss:5.0497: 100%|██████████| 200/200 [00:07<00:00, 27.95it/s]\n",
      "episode: 289 Total reward:-123.54 avg loss:15.5652: 100%|██████████| 200/200 [00:07<00:00, 25.61it/s]\n",
      "episode: 290 Total reward:-119.91 avg loss:12.2772: 100%|██████████| 200/200 [00:07<00:00, 28.39it/s]\n",
      "episode: 291 Total reward:-119.41 avg loss:12.6007: 100%|██████████| 200/200 [00:07<00:00, 27.04it/s]\n",
      "episode: 292 Total reward:-122.58 avg loss:13.4674: 100%|██████████| 200/200 [00:07<00:00, 25.57it/s]\n",
      "episode: 293 Total reward:-226.57 avg loss:10.3214: 100%|██████████| 200/200 [00:07<00:00, 27.10it/s]\n",
      "episode: 294 Total reward:-117.22 avg loss:25.4365: 100%|██████████| 200/200 [00:07<00:00, 26.38it/s]\n",
      "episode: 295 Total reward:-118.74 avg loss:11.8909: 100%|██████████| 200/200 [00:07<00:00, 25.63it/s]\n",
      "episode: 296 Total reward:-120.60 avg loss:19.5728: 100%|██████████| 200/200 [00:07<00:00, 25.92it/s]\n",
      "episode: 297 Total reward:-119.40 avg loss:6.5347: 100%|██████████| 200/200 [00:07<00:00, 25.15it/s]\n",
      "episode: 298 Total reward:-131.00 avg loss:10.7829: 100%|██████████| 200/200 [00:07<00:00, 25.28it/s]\n",
      "episode: 299 Total reward:-240.59 avg loss:14.2084: 100%|██████████| 200/200 [00:07<00:00, 25.56it/s]\n"
     ]
    }
   ],
   "source": [
    "[reward_list, loss_list]=ddpg.train(num_episodes=300)"
   ]
  },
  {
   "cell_type": "markdown",
   "metadata": {},
   "source": [
    "## Testing"
   ]
  },
  {
   "cell_type": "code",
   "execution_count": 8,
   "metadata": {},
   "outputs": [
    {
     "name": "stderr",
     "output_type": "stream",
     "text": [
      "episode: 000 Total reward:-284.76: 100%|██████████| 200/200 [00:00<00:00, 344.34it/s]    \n",
      "episode: 001 Total reward:-121.37: 100%|██████████| 200/200 [00:00<00:00, 347.71it/s]    \n",
      "episode: 002 Total reward:-230.76: 100%|██████████| 200/200 [00:00<00:00, 340.31it/s]    \n",
      "episode: 003 Total reward:-230.36: 100%|██████████| 200/200 [00:00<00:00, 311.40it/s]    \n",
      "episode: 004 Total reward:-130.67: 100%|██████████| 200/200 [00:00<00:00, 333.75it/s]    \n",
      "episode: 005 Total reward:-269.11: 100%|██████████| 200/200 [00:00<00:00, 324.04it/s]    \n",
      "episode: 006 Total reward:-125.66: 100%|██████████| 200/200 [00:00<00:00, 255.72it/s]    \n",
      "episode: 007 Total reward:-0.25: 100%|██████████| 200/200 [00:00<00:00, 237.92it/s]    \n",
      "episode: 008 Total reward:-115.38: 100%|██████████| 200/200 [00:00<00:00, 247.39it/s]    \n",
      "episode: 009 Total reward:-117.02: 100%|██████████| 200/200 [00:00<00:00, 237.68it/s]    \n"
     ]
    }
   ],
   "source": [
    "test_reward_list = ddpg.test(render=False,episodes=10)"
   ]
  },
  {
   "cell_type": "markdown",
   "metadata": {},
   "source": [
    "## Plotting the test result"
   ]
  },
  {
   "cell_type": "code",
   "execution_count": 9,
   "metadata": {},
   "outputs": [
    {
     "data": {
      "text/plain": [
       "Text(0,0.5,'Total Rewards per Episode')"
      ]
     },
     "execution_count": 9,
     "metadata": {},
     "output_type": "execute_result"
    },
    {
     "data": {
      "image/png": "[encoded data removed]",
      "text/plain": [
       "<matplotlib.figure.Figure at 0x1146e5550>"
      ]
     },
     "metadata": {},
     "output_type": "display_data"
    }
   ],
   "source": [
    "import matplotlib.pyplot as plt\n",
    "%matplotlib inline\n",
    "plt.plot(test_reward_list)\n",
    "plt.xlabel(\"Episodes\")\n",
    "plt.ylabel(\"Total Rewards per Episode\")"
   ]
  },
  {
   "cell_type": "code",
   "execution_count": null,
   "metadata": {},
   "outputs": [],
   "source": []
  },
  {
   "cell_type": "code",
   "execution_count": null,
   "metadata": {},
   "outputs": [],
   "source": []
  }
 ],
 "metadata": {
  "kernelspec": {
   "display_name": "Python 3",
   "language": "python",
   "name": "python3"
  },
  "language_info": {
   "codemirror_mode": {
    "name": "ipython",
    "version": 3
   },
   "file_extension": ".py",
   "mimetype": "text/x-python",
   "name": "python",
   "nbconvert_exporter": "python",
   "pygments_lexer": "ipython3",
   "version": "3.6.3"
  }
 },
 "nbformat": 4,
 "nbformat_minor": 2
}
