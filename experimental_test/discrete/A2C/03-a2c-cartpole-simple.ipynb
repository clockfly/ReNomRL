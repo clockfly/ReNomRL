{
 "cells": [
  {
   "cell_type": "code",
   "execution_count": 1,
   "metadata": {},
   "outputs": [],
   "source": [
    "import numpy as np\n",
    "import renom as rm\n",
    "from renom_rl.discrete.a2c import A2C\n",
    "from renom_rl.environ.openai import CartPole00"
   ]
  },
  {
   "cell_type": "code",
   "execution_count": 2,
   "metadata": {
    "scrolled": false
   },
   "outputs": [
    {
     "name": "stderr",
     "output_type": "stream",
     "text": [
      "/Users/mikeogawa/gym/gym/__init__.py:22: UserWarning: DEPRECATION WARNING: to improve load times, gym no longer automatically loads gym.spaces. Please run \"import gym.spaces\" to load gym.spaces on your own. This warning will turn into an error in a future version of gym.\n",
      "  warnings.warn('DEPRECATION WARNING: to improve load times, gym no longer automatically loads gym.spaces. Please run \"import gym.spaces\" to load gym.spaces on your own. This warning will turn into an error in a future version of gym.')\n",
      "agent0, epoch 0001 loss 0.0124 rewards in epoch -1.000  episode 01.0 rewards in episode -1.000.:   0%|          | 25/10000 [00:00<00:56, 176.49it/s]"
     ]
    },
    {
     "name": "stdout",
     "output_type": "stream",
     "text": [
      "\u001b[33mWARN: gym.spaces.Box autodetected dtype as <class 'numpy.float32'>. Please provide explicit dtype.\u001b[0m\n"
     ]
    },
    {
     "name": "stderr",
     "output_type": "stream",
     "text": [
      "epoch 001 avg_loss:-0.0134 total reward in epoch: [train:-1323.000 test: 1.0] avg train reward in episode:-0.992: 100%|██████████| 10000/10000 [00:37<00:00, 265.35it/s]\n"
     ]
    }
   ],
   "source": [
    "class ActorCritic(rm.Model):\n",
    "    def __init__(self):\n",
    "        self.l1=rm.Dense(32)\n",
    "        self.l2=rm.Dense(32)\n",
    "        self.l3=rm.Dense(2)\n",
    "        self.l4=rm.Dense(1)\n",
    "        \n",
    "    def forward(self,x):\n",
    "        h1 = self.l1(x)\n",
    "        h2 = self.l2(h1)\n",
    "        act = rm.softmax(self.l3(h2))\n",
    "        val=self.l4(h2)\n",
    "        return act,val\n",
    "\n",
    "model=ActorCritic()\n",
    "env = CartPole00()\n",
    "a2c=A2C(env,model)\n",
    "a2c.fit(\n",
    "    epoch=1,\n",
    "    epoch_step=10000)"
   ]
  },
  {
   "cell_type": "code",
   "execution_count": 3,
   "metadata": {},
   "outputs": [
    {
     "name": "stderr",
     "output_type": "stream",
     "text": [
      "/Users/mikeogawa/gym/gym/__init__.py:22: UserWarning: DEPRECATION WARNING: to improve load times, gym no longer automatically loads gym.spaces. Please run \"import gym.spaces\" to load gym.spaces on your own. This warning will turn into an error in a future version of gym.\n",
      "  warnings.warn('DEPRECATION WARNING: to improve load times, gym no longer automatically loads gym.spaces. Please run \"import gym.spaces\" to load gym.spaces on your own. This warning will turn into an error in a future version of gym.')\n"
     ]
    },
    {
     "name": "stdout",
     "output_type": "stream",
     "text": [
      "\u001b[33mWARN: gym.spaces.Box autodetected dtype as <class 'numpy.float32'>. Please provide explicit dtype.\u001b[0m\n"
     ]
    }
   ],
   "source": [
    "from renom_rl.environ.openai import CartPole00\n",
    "env = CartPole00()"
   ]
  },
  {
   "cell_type": "code",
   "execution_count": 5,
   "metadata": {},
   "outputs": [
    {
     "name": "stderr",
     "output_type": "stream",
     "text": [
      "epoch 001 avg_loss:0.0303 total reward in epoch: [train:-777.000 test: 1.0] avg train reward in episode:-0.800: 100%|██████████| 10000/10000 [00:29<00:00, 343.80it/s]\n"
     ]
    }
   ],
   "source": [
    "a2c.fit(\n",
    "    epoch=1,\n",
    "    epoch_step=10000)"
   ]
  }
 ],
 "metadata": {
  "kernelspec": {
   "display_name": "Python 3",
   "language": "python",
   "name": "python3"
  },
  "language_info": {
   "codemirror_mode": {
    "name": "ipython",
    "version": 3
   },
   "file_extension": ".py",
   "mimetype": "text/x-python",
   "name": "python",
   "nbconvert_exporter": "python",
   "pygments_lexer": "ipython3",
   "version": "3.6.4"
  }
 },
 "nbformat": 4,
 "nbformat_minor": 2
}
